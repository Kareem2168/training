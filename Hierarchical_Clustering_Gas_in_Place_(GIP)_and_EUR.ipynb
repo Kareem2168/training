{
  "nbformat": 4,
  "nbformat_minor": 0,
  "metadata": {
    "colab": {
      "name": "Hierarchical Clustering: Gas in Place (GIP) and EUR",
      "provenance": [],
      "collapsed_sections": [],
      "authorship_tag": "ABX9TyOheD7TO+H3UWEESN05Pmua",
      "include_colab_link": true
    },
    "kernelspec": {
      "name": "python3",
      "display_name": "Python 3"
    },
    "language_info": {
      "name": "python"
    }
  },
  "cells": [
    {
      "cell_type": "markdown",
      "metadata": {
        "id": "view-in-github",
        "colab_type": "text"
      },
      "source": [
        "<a href=\"https://colab.research.google.com/github/Kareem2168/training/blob/main/Hierarchical_Clustering_Gas_in_Place_(GIP)_and_EUR.ipynb\" target=\"_parent\"><img src=\"https://colab.research.google.com/assets/colab-badge.svg\" alt=\"Open In Colab\"/></a>"
      ]
    },
    {
      "cell_type": "code",
      "execution_count": 2,
      "metadata": {
        "id": "Hw8zWaGyrIv3"
      },
      "outputs": [],
      "source": [
        "import pandas as pd\n",
        "import numpy as np\n",
        "import matplotlib.pyplot as plt\n",
        "import seaborn as sns"
      ]
    },
    {
      "cell_type": "code",
      "source": [
        "from google.colab import files\n",
        "files.upload()"
      ],
      "metadata": {
        "colab": {
          "resources": {
            "http://localhost:8080/nbextensions/google.colab/files.js": {
              "data": "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",
              "ok": true,
              "headers": [
                [
                  "content-type",
                  "application/javascript"
                ]
              ],
              "status": 200,
              "status_text": ""
            }
          },
          "base_uri": "https://localhost:8080/",
          "height": 111
        },
        "id": "hX073Qqh0Du-",
        "outputId": "37e19f88-9191-44c6-a397-c78b84fc86f3"
      },
      "execution_count": 4,
      "outputs": [
        {
          "output_type": "display_data",
          "data": {
            "text/plain": [
              "<IPython.core.display.HTML object>"
            ],
            "text/html": [
              "\n",
              "     <input type=\"file\" id=\"files-9cafd311-9a96-4fd9-834c-ddb30fea12a3\" name=\"files[]\" multiple disabled\n",
              "        style=\"border:none\" />\n",
              "     <output id=\"result-9cafd311-9a96-4fd9-834c-ddb30fea12a3\">\n",
              "      Upload widget is only available when the cell has been executed in the\n",
              "      current browser session. Please rerun this cell to enable.\n",
              "      </output>\n",
              "      <script src=\"/nbextensions/google.colab/files.js\"></script> "
            ]
          },
          "metadata": {}
        },
        {
          "output_type": "stream",
          "name": "stdout",
          "text": [
            "Saving Chapter4_ GIP_EUR_DataSet.xlsx to Chapter4_ GIP_EUR_DataSet (1).xlsx\n"
          ]
        },
        {
          "output_type": "execute_result",
          "data": {
            "text/plain": [
              "{'Chapter4_ GIP_EUR_DataSet.xlsx': b'PK\\x03\\x04\\x14\\x00\\x06\\x00\\x08\\x00\\x00\\x00!\\x00b\\xee\\x9dh^\\x01\\x00\\x00\\x90\\x04\\x00\\x00\\x13\\x00\\x08\\x02[Content_Types].xml \\xa2\\x04\\x02(\\xa0\\x00\\x02\\x00\\x00\\x00\\x00\\x00\\x00\\x00\\x00\\x00\\x00\\x00\\x00\\x00\\x00\\x00\\x00\\x00\\x00\\x00\\x00\\x00\\x00\\x00\\x00\\x00\\x00\\x00\\x00\\x00\\x00\\x00\\x00\\x00\\x00\\x00\\x00\\x00\\x00\\x00\\x00\\x00\\x00\\x00\\x00\\x00\\x00\\x00\\x00\\x00\\x00\\x00\\x00\\x00\\x00\\x00\\x00\\x00\\x00\\x00\\x00\\x00\\x00\\x00\\x00\\x00\\x00\\x00\\x00\\x00\\x00\\x00\\x00\\x00\\x00\\x00\\x00\\x00\\x00\\x00\\x00\\x00\\x00\\x00\\x00\\x00\\x00\\x00\\x00\\x00\\x00\\x00\\x00\\x00\\x00\\x00\\x00\\x00\\x00\\x00\\x00\\x00\\x00\\x00\\x00\\x00\\x00\\x00\\x00\\x00\\x00\\x00\\x00\\x00\\x00\\x00\\x00\\x00\\x00\\x00\\x00\\x00\\x00\\x00\\x00\\x00\\x00\\x00\\x00\\x00\\x00\\x00\\x00\\x00\\x00\\x00\\x00\\x00\\x00\\x00\\x00\\x00\\x00\\x00\\x00\\x00\\x00\\x00\\x00\\x00\\x00\\x00\\x00\\x00\\x00\\x00\\x00\\x00\\x00\\x00\\x00\\x00\\x00\\x00\\x00\\x00\\x00\\x00\\x00\\x00\\x00\\x00\\x00\\x00\\x00\\x00\\x00\\x00\\x00\\x00\\x00\\x00\\x00\\x00\\x00\\x00\\x00\\x00\\x00\\x00\\x00\\x00\\x00\\x00\\x00\\x00\\x00\\x00\\x00\\x00\\x00\\x00\\x00\\x00\\x00\\x00\\x00\\x00\\x00\\x00\\x00\\x00\\x00\\x00\\x00\\x00\\x00\\x00\\x00\\x00\\x00\\x00\\x00\\x00\\x00\\x00\\x00\\x00\\x00\\x00\\x00\\x00\\x00\\x00\\x00\\x00\\x00\\x00\\x00\\x00\\x00\\x00\\x00\\x00\\x00\\x00\\x00\\x00\\x00\\x00\\x00\\x00\\x00\\x00\\x00\\x00\\x00\\x00\\x00\\x00\\x00\\x00\\x00\\x00\\x00\\x00\\x00\\x00\\x00\\x00\\x00\\x00\\x00\\x00\\x00\\x00\\x00\\x00\\x00\\x00\\x00\\x00\\x00\\x00\\x00\\x00\\x00\\x00\\x00\\x00\\x00\\x00\\x00\\x00\\x00\\x00\\x00\\x00\\x00\\x00\\x00\\x00\\x00\\x00\\x00\\x00\\x00\\x00\\x00\\x00\\x00\\x00\\x00\\x00\\x00\\x00\\x00\\x00\\x00\\x00\\x00\\x00\\x00\\x00\\x00\\x00\\x00\\x00\\x00\\x00\\x00\\x00\\x00\\x00\\x00\\x00\\x00\\x00\\x00\\x00\\x00\\x00\\x00\\x00\\x00\\x00\\x00\\x00\\x00\\x00\\x00\\x00\\x00\\x00\\x00\\x00\\x00\\x00\\x00\\x00\\x00\\x00\\x00\\x00\\x00\\x00\\x00\\x00\\x00\\x00\\x00\\x00\\x00\\x00\\x00\\x00\\x00\\x00\\x00\\x00\\x00\\x00\\x00\\x00\\x00\\x00\\x00\\x00\\x00\\x00\\x00\\x00\\x00\\x00\\x00\\x00\\x00\\x00\\x00\\x00\\x00\\x00\\x00\\x00\\x00\\x00\\x00\\x00\\x00\\x00\\x00\\x00\\x00\\x00\\x00\\x00\\x00\\x00\\x00\\x00\\x00\\x00\\x00\\x00\\x00\\x00\\x00\\x00\\x00\\x00\\x00\\x00\\x00\\x00\\x00\\x00\\x00\\x00\\x00\\x00\\x00\\x00\\x00\\x00\\x00\\x00\\x00\\x00\\x00\\x00\\x00\\x00\\x00\\x00\\x00\\x00\\x00\\x00\\x00\\x00\\x00\\x00\\x00\\x00\\x00\\x00\\x00\\x00\\x00\\x00\\x00\\x00\\x00\\x00\\x00\\x00\\x00\\x00\\x00\\x00\\x00\\x00\\x00\\x00\\x00\\x00\\x00\\x00\\x00\\x00\\x00\\x00\\x00\\x00\\x00\\x00\\x00\\x00\\x00\\x00\\x00\\x00\\x00\\x00\\x00\\x00\\x00\\x00\\x00\\x00\\x00\\x00\\x00\\xac\\x94\\xcbN\\xc30\\x10E\\xf7H\\xfcC\\xe4-J\\xdc\\xb2@\\x085\\xed\\x82\\xc7\\x12*Q>\\xc0\\xc4\\x93\\xc6\\xaac[\\x9eii\\xff\\x9e\\x89\\xfb\\x10B\\xa1\\x15j7\\xb1\\x12\\xcf\\xdc{2\\xf1\\xcdh\\xb2nm\\xb6\\x82\\x88\\xc6\\xbbR\\x0c\\x8b\\x81\\xc8\\xc0U^\\x1b7/\\xc5\\xc7\\xec%\\xbf\\x17\\x19\\x92rZY\\xef\\xa0\\x14\\x1b@1\\x19__\\x8df\\x9b\\x00\\x98q\\xb7\\xc3R4D\\xe1AJ\\xac\\x1ah\\x15\\x16>\\x80\\xe3\\x9d\\xda\\xc7V\\x11\\xdf\\xc6\\xb9\\x0c\\xaaZ\\xa89\\xc8\\xdb\\xc1\\xe0NV\\xde\\x118\\xca\\xa9\\xd3\\x10\\xe3\\xd1\\x13\\xd4ji){^\\xf3\\xe3-I\\x04\\x8b\"{\\xdc\\x16v^\\xa5P!XS)bR\\xb9r\\xfa\\x97K\\xbes(\\xb83\\xd5`c\\x02\\xde0\\x86\\x90\\xbd\\x0e\\xdd\\xce\\xdf\\x06\\xbb\\xbe7\\x1eM4\\x1a\\xb2\\xa9\\x8a\\xf4\\xaaZ\\xc6\\x90k+\\xbf|\\\\|z\\xbf(\\x8e\\x8b\\xf4P\\xfa\\xba6\\x15h_-[\\x9e@\\x81!\\x82\\xd2\\xd8\\x00Pk\\x8b\\xb4\\x16\\xad2n\\xcf}\\xc4?\\x15\\xa3L\\xcb\\xf0\\xc2 \\xdd\\xfb%\\xe1\\x13\\x1c\\xc4\\xdf\\x1bd\\xba\\x9e\\x8f\\x90dN\\x18\"m,\\xe0\\xa5\\xc7\\x9eDO97*\\x82~\\xa7\\xc8\\xc9\\xb88\\xc0O\\xedc\\x1c|n\\xa6\\xd1\\x07\\xe4\\x04E\\xf8\\xff\\x14\\xf6\\x11\\xe9\\xba\\xf3\\xc0B\\x10\\xc9\\xc0!$}\\x87\\xed\\xe0\\xc8\\xe9;{\\xec\\xd0\\xe5[\\x83\\xee\\xf1\\x96\\xe9\\x7f2\\xfe\\x06\\x00\\x00\\xff\\xff\\x03\\x00PK\\x03\\x04\\x14\\x00\\x06\\x00\\x08\\x00\\x00\\x00!\\x00\\xb5U0#\\xf4\\x00\\x00\\x00L\\x02\\x00\\x00\\x0b\\x00\\x08\\x02_rels/.rels \\xa2\\x04\\x02(\\xa0\\x00\\x02\\x00\\x00\\x00\\x00\\x00\\x00\\x00\\x00\\x00\\x00\\x00\\x00\\x00\\x00\\x00\\x00\\x00\\x00\\x00\\x00\\x00\\x00\\x00\\x00\\x00\\x00\\x00\\x00\\x00\\x00\\x00\\x00\\x00\\x00\\x00\\x00\\x00\\x00\\x00\\x00\\x00\\x00\\x00\\x00\\x00\\x00\\x00\\x00\\x00\\x00\\x00\\x00\\x00\\x00\\x00\\x00\\x00\\x00\\x00\\x00\\x00\\x00\\x00\\x00\\x00\\x00\\x00\\x00\\x00\\x00\\x00\\x00\\x00\\x00\\x00\\x00\\x00\\x00\\x00\\x00\\x00\\x00\\x00\\x00\\x00\\x00\\x00\\x00\\x00\\x00\\x00\\x00\\x00\\x00\\x00\\x00\\x00\\x00\\x00\\x00\\x00\\x00\\x00\\x00\\x00\\x00\\x00\\x00\\x00\\x00\\x00\\x00\\x00\\x00\\x00\\x00\\x00\\x00\\x00\\x00\\x00\\x00\\x00\\x00\\x00\\x00\\x00\\x00\\x00\\x00\\x00\\x00\\x00\\x00\\x00\\x00\\x00\\x00\\x00\\x00\\x00\\x00\\x00\\x00\\x00\\x00\\x00\\x00\\x00\\x00\\x00\\x00\\x00\\x00\\x00\\x00\\x00\\x00\\x00\\x00\\x00\\x00\\x00\\x00\\x00\\x00\\x00\\x00\\x00\\x00\\x00\\x00\\x00\\x00\\x00\\x00\\x00\\x00\\x00\\x00\\x00\\x00\\x00\\x00\\x00\\x00\\x00\\x00\\x00\\x00\\x00\\x00\\x00\\x00\\x00\\x00\\x00\\x00\\x00\\x00\\x00\\x00\\x00\\x00\\x00\\x00\\x00\\x00\\x00\\x00\\x00\\x00\\x00\\x00\\x00\\x00\\x00\\x00\\x00\\x00\\x00\\x00\\x00\\x00\\x00\\x00\\x00\\x00\\x00\\x00\\x00\\x00\\x00\\x00\\x00\\x00\\x00\\x00\\x00\\x00\\x00\\x00\\x00\\x00\\x00\\x00\\x00\\x00\\x00\\x00\\x00\\x00\\x00\\x00\\x00\\x00\\x00\\x00\\x00\\x00\\x00\\x00\\x00\\x00\\x00\\x00\\x00\\x00\\x00\\x00\\x00\\x00\\x00\\x00\\x00\\x00\\x00\\x00\\x00\\x00\\x00\\x00\\x00\\x00\\x00\\x00\\x00\\x00\\x00\\x00\\x00\\x00\\x00\\x00\\x00\\x00\\x00\\x00\\x00\\x00\\x00\\x00\\x00\\x00\\x00\\x00\\x00\\x00\\x00\\x00\\x00\\x00\\x00\\x00\\x00\\x00\\x00\\x00\\x00\\x00\\x00\\x00\\x00\\x00\\x00\\x00\\x00\\x00\\x00\\x00\\x00\\x00\\x00\\x00\\x00\\x00\\x00\\x00\\x00\\x00\\x00\\x00\\x00\\x00\\x00\\x00\\x00\\x00\\x00\\x00\\x00\\x00\\x00\\x00\\x00\\x00\\x00\\x00\\x00\\x00\\x00\\x00\\x00\\x00\\x00\\x00\\x00\\x00\\x00\\x00\\x00\\x00\\x00\\x00\\x00\\x00\\x00\\x00\\x00\\x00\\x00\\x00\\x00\\x00\\x00\\x00\\x00\\x00\\x00\\x00\\x00\\x00\\x00\\x00\\x00\\x00\\x00\\x00\\x00\\x00\\x00\\x00\\x00\\x00\\x00\\x00\\x00\\x00\\x00\\x00\\x00\\x00\\x00\\x00\\x00\\x00\\x00\\x00\\x00\\x00\\x00\\x00\\x00\\x00\\x00\\x00\\x00\\x00\\x00\\x00\\x00\\x00\\x00\\x00\\x00\\x00\\x00\\x00\\x00\\x00\\x00\\x00\\x00\\x00\\x00\\x00\\x00\\x00\\x00\\x00\\x00\\x00\\x00\\x00\\x00\\x00\\x00\\x00\\x00\\x00\\x00\\x00\\x00\\x00\\x00\\x00\\x00\\x00\\x00\\x00\\x00\\x00\\x00\\x00\\x00\\x00\\x00\\x00\\x00\\x00\\x00\\x00\\x00\\x00\\x00\\x00\\x00\\x00\\x00\\x00\\x00\\x00\\x00\\x00\\x00\\x00\\x00\\x00\\x00\\x00\\x00\\x00\\x00\\x00\\x00\\x00\\x00\\x00\\x00\\x00\\x00\\x00\\xac\\x92MO\\xc30\\x0c\\x86\\xefH\\xfc\\x87\\xc8\\xf7\\xd5\\xdd\\x90\\x10BKwAH\\xbb!T~\\x80I\\xdc\\x0f\\xb5\\x8d\\xa3$\\x1b\\xdd\\xbf\\'\\x1c\\x10T\\x1a\\x83\\x03G\\x7f\\xbd~\\xfc\\xca\\xdb\\xdd<\\x8d\\xea\\xc8!\\xf6\\xe24\\xac\\x8b\\x12\\x14;#\\xb6w\\xad\\x86\\x97\\xfaqu\\x07*&r\\x96Fq\\xac\\xe1\\xc4\\x11v\\xd5\\xf5\\xd5\\xf6\\x99GJy(v\\xbd\\x8f*\\xab\\xb8\\xa8\\xa1K\\xc9\\xdf#F\\xd3\\xf1D\\xb1\\x10\\xcf.W\\x1a\\t\\x13\\xa5\\x1c\\x86\\x16=\\x99\\x81Z\\xc6MY\\xdeb\\xf8\\xae\\x01\\xd5BS\\xed\\xad\\x86\\xb0\\xb77\\xa0\\xea\\x93\\xcf\\x9b\\x7f\\xd7\\x96\\xa6\\xe9\\r?\\x889L\\xec\\xd2\\x99\\x15\\xc8sbg\\xd9\\xae|\\xc8l!\\xf5\\xf9\\x1aUSh9i\\xb0b\\x9er:\"y_dl\\xc0\\xf3D\\x9b\\xbf\\x13\\xfd|-N\\x9c\\xc8R\"4\\x12\\xf82\\xcfG\\xc7%\\xa0\\xf5\\x7fZ\\xb44\\xf1\\xcb\\x9dy\\xc47\\t\\xc3\\xab\\xc8\\xf0\\xc9\\x82\\x8b\\x1f\\xa8\\xde\\x01\\x00\\x00\\xff\\xff\\x03\\x00PK\\x03\\x04\\x14\\x00\\x06\\x00\\x08\\x00\\x00\\x00!\\x00\\xb0K\\xd4\\x87\\xc4\\x02\\x00\\x00\\xfc\\x05\\x00\\x00\\x0f\\x00\\x00\\x00xl/workbook.xml\\xa4T\\xc9n\\xdb0\\x10\\xbd\\x17\\xe8?\\x10<\\xb5\\x07Y\\x8be\\xd9\\x12b\\x07\\xf5\\x12\\xd4@\\\\\\x18M\\x9a\\x1c\\x03\\x9a\\xa2-\\xc2\\x14\\xa9\\x92\\x94\\x17\\x04\\xf9\\xf7\\x8e\\xa4(\\x9b{H\\x1b\\xc3\\xa6D\\x0e\\xfdf\\xe6\\xcd\\x9b9;?\\xe4\\x02\\xed\\x986\\\\\\xc9!\\xf6;\\x1eFLR\\x95r\\xb9\\x19\\xe2_\\xd7\\x17\\xce\\x00#c\\x89L\\x89P\\x92\\r\\xf1\\x91\\x19|>\\xfa\\xfc\\xe9l\\xaf\\xf4v\\xa5\\xd4\\x16\\x01\\x804C\\x9cY[$\\xaekh\\xc6rb:\\xaa`\\x12,k\\xa5sba\\xab7\\xae)4#\\xa9\\xc9\\x18\\xb3\\xb9p\\x03\\xcf\\x8b\\xdc\\x9cp\\x89\\x1b\\x84D\\xbf\\x07C\\xad\\xd7\\x9c\\xb2\\xa9\\xa2e\\xce\\xa4m@4\\x13\\xc4B\\xf8&\\xe3\\x85i\\xd1r\\xfa\\x1e\\xb8\\x9c\\xe8mY8T\\xe5\\x05@\\xac\\xb8\\xe0\\xf6X\\x83b\\x94\\xd3d\\xbe\\x91J\\x93\\x95\\x80\\xb4\\x0f~\\x0f\\x1d4|#\\xf8\\xf9@R\\x9du\\x02\\xc7\\'nrN\\xb52jm;\\x00\\xeb6\\x01\\x9f\\xe4\\xee{\\xae\\xef\\xbfJ\\xffp\\x9a\\xff\\xfb\\x90BW\\xb3\\x1d\\xaf\\xea\\xf7\\x14\\x95\\x8e\\xfe3\\xaa\\xe8\\t+z\\x06\\xf3\\xbd\\x0f\\xa3\\x01c\\xa3\\xb35\\x17\\xec\\xa6Q\\x1a\"E\\xf1\\x83\\xe4\\x15\\xb1\\x02#A\\x8c\\x9d\\xa5\\xdc\\xb2t\\x88\\xfb\\xb0U{\\xf6\\xea@\\x97\\xc5\\xb8\\xe4\\x02\\xacA\\x10\\x05!vGO\\xea[j\\x94\\xb25)\\x85\\xbd\\x06\\xdd\\xb5\\xf0 \\xe4(\\x8a\\x83^u\\x13\\xea\\xf8MX\\xa6%\\xb1l\\xa2\\xa4\\x05\\xd9<\\x16\\xef\\xa3\\x12\\xa9\\xb1\\'\\x99\\x02A\\xa2\\x9f\\xecw\\xc95\\x83>\\x00I@\\xae\\xb0\\x12\\x9a\\x90\\x95Y\\x12\\x9b\\xa1R\\x8b\\x86B\\x03\\x1d\\x92vREMG\\xf0\\x1d\\xebHf\\xdd8&\\xb1\\x97\\x92\\xae\\x17\\xf7\"\\xeaE\\xcc\\x9d2\\xb3\\xb5\\xaap\\xafJ\\xbd&\\x80}I\\x8aj\\xbb 4\\xe3\\x12\\xb6\\x8ch\\t\\xed\\x89\\xbe,.\\xbf\\xa21\\x07}\\xa2=\\x07/\\xcb\\xa3\\xcd\\x94t\\'\\x19\\xdc\\x07\\x9a\\xdb\\x17\\x14\\xba/\\xe4JN\\xfb\\xe2\\x1f\\x04KhE\\xa9\\x0b\\x9c6y7\\xefo\\xf9\\x85\\xf4u\\xd2\\x8ari5\\x82\\xf7\\xf9\\xf4\\x12\\xaa|EvPsh\\x1f\\xa0\\xa0\\xee\\xe09\\x14\\xd5\\xef\\xdeI\\xaa\\x93\\xd0\\xf3\\xbc\\xf8\\xee~v1\\x0e\\xfa\\xddi\\xe0xQ\\x1c:a0\\x0e\\x9c\\xf1l0v\\x820\\xb8\\x98\\xf4\\xbb3\\xcf\\x1ft\\x1f !\\x1d%T\\x91\\xd2f\\x8f\\x92\\xaa\\xe0\\x878\\xec\\xfd\\xc5\\xb4 \\x87\\xd6\\xe2{I\\xc9\\xd3\\xe7P\\xee\\xc1i\\xfdq\\xaa\\xf5\\xcd\\xd2\\xda\\x1e\\xaa\\xa4\\xabYw\\xc3\\xd9\\xde<\\x8b\\xaf\\xda\\xa2\\xc3-\\x97\\xa9\\xda\\x0f\\xb1\\xe3Ws\\xe1\\xf8z\\xbb\\xaf\\x8d\\xb7<\\xb5Y\\xa5\\xde\\xfe\\x00\\xae4g\\xdf\\x19\\xdfd\\x10\\xb1\\x1fF\\x91W\\xb3\\xfa\\xc2C=$\\xc1S\\xfdD\\xb2\\xee\\x94\\x05\\x11\\xe2nR\\x1a\\xabr\\xa8.L\\xe5j\\x90\\xd6\\xfca\\xa4\\x13\\x0eD\\xeay\\xea\\xd7H\\xed\\xdf)\\x11\\x14:\\xa4zT\\x17\\x1b7\\xed\\xe0\\x1e\\xfd\\x01\\x00\\x00\\xff\\xff\\x03\\x00PK\\x03\\x04\\x14\\x00\\x06\\x00\\x08\\x00\\x00\\x00!\\x00\\x81>\\x94\\x97\\xf3\\x00\\x00\\x00\\xba\\x02\\x00\\x00\\x1a\\x00\\x08\\x01xl/_rels/workbook.xml.rels \\xa2\\x04\\x01(\\xa0\\x00\\x01\\x00\\x00\\x00\\x00\\x00\\x00\\x00\\x00\\x00\\x00\\x00\\x00\\x00\\x00\\x00\\x00\\x00\\x00\\x00\\x00\\x00\\x00\\x00\\x00\\x00\\x00\\x00\\x00\\x00\\x00\\x00\\x00\\x00\\x00\\x00\\x00\\x00\\x00\\x00\\x00\\x00\\x00\\x00\\x00\\x00\\x00\\x00\\x00\\x00\\x00\\x00\\x00\\x00\\x00\\x00\\x00\\x00\\x00\\x00\\x00\\x00\\x00\\x00\\x00\\x00\\x00\\x00\\x00\\x00\\x00\\x00\\x00\\x00\\x00\\x00\\x00\\x00\\x00\\x00\\x00\\x00\\x00\\x00\\x00\\x00\\x00\\x00\\x00\\x00\\x00\\x00\\x00\\x00\\x00\\x00\\x00\\x00\\x00\\x00\\x00\\x00\\x00\\x00\\x00\\x00\\x00\\x00\\x00\\x00\\x00\\x00\\x00\\x00\\x00\\x00\\x00\\x00\\x00\\x00\\x00\\x00\\x00\\x00\\x00\\x00\\x00\\x00\\x00\\x00\\x00\\x00\\x00\\x00\\x00\\x00\\x00\\x00\\x00\\x00\\x00\\x00\\x00\\x00\\x00\\x00\\x00\\x00\\x00\\x00\\x00\\x00\\x00\\x00\\x00\\x00\\x00\\x00\\x00\\x00\\x00\\x00\\x00\\x00\\x00\\x00\\x00\\x00\\x00\\x00\\x00\\x00\\x00\\x00\\x00\\x00\\x00\\x00\\x00\\x00\\x00\\x00\\x00\\x00\\x00\\x00\\x00\\x00\\x00\\x00\\x00\\x00\\x00\\x00\\x00\\x00\\x00\\x00\\x00\\x00\\x00\\x00\\x00\\x00\\x00\\x00\\x00\\x00\\x00\\x00\\x00\\x00\\x00\\x00\\x00\\x00\\x00\\x00\\x00\\x00\\x00\\x00\\x00\\x00\\x00\\x00\\x00\\x00\\x00\\x00\\x00\\x00\\x00\\x00\\x00\\x00\\x00\\x00\\x00\\x00\\x00\\x00\\x00\\x00\\x00\\x00\\x00\\x00\\x00\\x00\\x00\\x00\\x00\\x00\\x00\\x00\\x00\\xacRMK\\xc40\\x10\\xbd\\x0b\\xfe\\x870w\\x9bv\\x15\\x11\\xd9t/\"\\xecU\\xeb\\x0f\\x08\\xc9\\xb4)\\xdb&!3~\\xf4\\xdf\\x1b*\\xba]X\\xd6K/\\x03o\\x86y\\xef\\xcd\\xc7v\\xf75\\x0e\\xe2\\x03\\x13\\xf5\\xc1+\\xa8\\x8a\\x12\\x04z\\x13l\\xef;\\x05o\\xcd\\xf3\\xcd\\x03\\x08b\\xed\\xad\\x1e\\x82G\\x05\\x13\\x12\\xec\\xea\\xeb\\xab\\xed\\x0b\\x0e\\x9as\\x13\\xb9>\\x92\\xc8,\\x9e\\x148\\xe6\\xf8(%\\x19\\x87\\xa3\\xa6\"D\\xf4\\xb9\\xd2\\x864j\\xce0u2js\\xd0\\x1d\\xcaMY\\xde\\xcb\\xb4\\xe4\\x80\\xfa\\x84S\\xec\\xad\\x82\\xb4\\xb7\\xb7 \\x9a)f\\xe5\\xff\\xb9C\\xdb\\xf6\\x06\\x9f\\x82y\\x1f\\xd1\\xf3\\x19\\tI<\\ry\\x00\\xd1\\xe8\\xd4!+\\xf8\\xc1E\\xf6\\x08\\xf2\\xbc\\xfcfMy\\xcek\\xc1\\xa3\\xfa\\x0c\\xe5\\x1c\\xabK\\x1e\\xaa5=|\\x86t \\x87\\xc8G\\x1f\\x7f)\\x92s\\xe5\\xa2\\x99\\xbbU\\xef\\xe1tB\\xfb\\xca)\\xbf\\xdb\\xf2,\\xcb\\xf4\\xeff\\xe4\\xc9\\xc7\\xd5\\xdf\\x00\\x00\\x00\\xff\\xff\\x03\\x00PK\\x03\\x04\\x14\\x00\\x06\\x00\\x08\\x00\\x00\\x00!\\x00\\x19\\x9e\\xda\\xbf\\x8b\\x0f\\x00\\x00\\x88p\\x00\\x00\\x18\\x00\\x00\\x00xl/worksheets/sheet1.xml\\x9c]]\\x8f\\xe36\\x12|?\\xe0\\xfe\\x83\\xe1\\xf7h\\xd4\\xd4\\xf7bg\\x83\\x04\\xb9\\xe0\\xf2p\\xc0!\\xf7\\xf5\\xec\\xf5xv\\x8c\\x8c\\xc7\\x03\\xdb\\x9bM\\xfe\\xfd\\xb5HJbK\\xa2\\xd4\\xe5yH2q\\x8dTn\\x92\\xa5f\\x93E}\\xfc\\xfe\\x8f\\xd3\\xeb\\xe6\\xf7\\xc3\\xe5z<\\xbf=n)I\\xb7\\x9b\\xc3\\xdb\\xfe\\xfct|\\xfb\\xf2\\xb8\\xfd\\xcf\\xbf\\x7f\\xfe\\xae\\xden\\xae\\xb7\\xdd\\xdb\\xd3\\xee\\xf5\\xfcvx\\xdc\\xfey\\xb8n\\xbf\\xff\\xf4\\xd7\\xbf|\\xfcv\\xbe\\xfcv}9\\x1cn\\x1b\\xbe\\xc2\\xdb\\xf5q\\xfbr\\xbb\\xbd\\x7fxx\\xb8\\xee_\\x0e\\xa7\\xdd59\\xbf\\x1f\\xde\\xf8\\x93\\xe7\\xf3\\xe5\\xb4\\xbb\\xf1\\xaf\\x97/\\x0f\\xd7\\xf7\\xcba\\xf7d\\xff\\xe8\\xf4\\xfa`\\xd2\\xb4|8\\xed\\x8eo[w\\x85\\x0f\\x17\\xcd5\\xce\\xcf\\xcf\\xc7\\xfd\\xe1\\xa7\\xf3\\xfe\\xeb\\xe9\\xf0vs\\x17\\xb9\\x1c^w7\\xe6\\x7f}9\\xbe_\\xbb\\xab\\x9d\\xf6\\x9a\\xcb\\x9dv\\x97\\xdf\\xbe\\xbe\\x7f\\xb7?\\x9f\\xde\\xf9\\x12\\x9f\\x8f\\xaf\\xc7\\xdb\\x9f\\xf6\\xa2\\xdb\\xcdi\\xff\\xe1\\x97/o\\xe7\\xcb\\xee\\xf3+\\x7f\\xef?(\\xdf\\xed\\xbbk\\xdb_&\\x97?\\x1d\\xf7\\x97\\xf3\\xf5\\xfc|K\\xf8r\\x0f\\x8e\\xe8\\xf4;7\\x0f\\xcd\\x03_\\xe9\\xd3\\xc7\\xa7#\\x7f\\x836\\xec\\x9b\\xcb\\xe1\\xf9q\\xfb\\x03}\\xf8\\xd1\\xa4\\xb4}\\xf8\\xf4\\xd1F\\xe8\\xbf\\xc7\\xc3\\xb7k\\xf0\\xdf\\x9b\\xdb\\xee\\xf3\\xbf\\x0e\\xaf\\x87\\xfd\\xed\\xf0\\xc4\\r\\xb5\\xdd\\xb4\\r\\xf0\\xf9|\\xfe\\xad\\x05\\xfe\\xc2\\xff+m\\xff\\xf4a\\xf2\\xb7?\\xdb\\x06\\xf8\\xe7e\\xf3tx\\xde}}\\xbd\\xfdz\\xfe\\xf6\\xf7\\xc3\\xf1\\xcb\\xcb\\x8d/\\x92\\'\\x05\\x7f\\xa5\\xf6\\x9b}x\\xfa\\xf3\\xa7\\xc3u\\xcf!\\xe5\\x0b%Y\\xd1^k\\x7f~e\\x02\\xfc\\xcf\\xcd\\xe9\\xd8\\xf6\\r\\x0e\\xc9\\xee\\x0fw\\xeb\\xe3\\xd3\\xed\\xe5qk\\xb8\\xb3\\xec\\xbf^o\\xe7\\xd3\\xff\\xdc\\xff\\xb0\\xec\\xfb?0\\xfe\\x0f\\xf8\\xdf\\xdf\\xfc\\xe7&1eSdd\\xf8\\xbe\\x9f\\x0f\\xd7\\xdb\\xcf\\xc7\\x96\\xc6\\xdcU\\x1e\\xdc\\xdd\\xed\\xd7\\xf9iw\\xdb}\\xfax9\\x7f\\xdbp\\x17a\\xf4\\xf5}\\xd7v8\\xfa\\xc0W\\x9eg\\xcf\\xb4[\\xec\\x0f-\\xd8\\xfe\\t\\xdf\\xe6\\xca1\\xff\\xfd\\x13}|\\xf8\\x9d\\xc3\\xb4\\xf7\\x88\\x1f\\xa7\\x88\\xb4G<\\xf0-\\xfb\\xfb\\xf2\\xbd\\xf4\\xf7m\\xc1\\x1c\\x1f{\\xc7\\xbcI\\x8a\\xd1M\\xdd\\xc7\\x99#\\x94T\\x94\\x16\\xa6\\xcc\\xa8\\xa8\\xea&\\xaf\\xb2j\\xfe\\xfe\\x19r\\xff\\x16\\xbcp\\x7f\\xf7\\xb1\\xbb\\x7f\\x96\\x14\\xe1\\xdd\\xcbz\\x88\\x90\\xf8\\xfe9r\\xff\\x16\\xdc\\xdd\\xbf0I=\\xfa\\xfe\\xeecw\\xff\\x94\\xbbD\\xff\\xdd\\xcb:7i3\\x1f\\x00\\xee2\\xfa\\x06h\\xc1\\x0b\\x04\\xdc\\xc7]\\x00\\xb2\\xaa\\xa2\\xc64\\xb5\\xc9\\x8b\\x92\\xf24\\x9f\\xbf\\x7f\\x89\\xdc\\xbf\\x05\\xf7\\xf7/\\x93\\xb4\\t\\x7f\\x86\\x1b\\xd8^\\xfa\\xa3\\x03\\xf7\\xdd\\xa1\\xc8\\xb3\\xbah\\xca\\xbc!c\\xea\\xb4\\x9cgS!lZ\\xb0\\x9a\\x8d\\x03\\xf7\\xb1\\xc9\\xc4\\xcf<\\x99\\xf6\\x19\\xa1\\x1e\\x93-\\xb8\\'\\xd3$\\xe3`\\xb8\\x8f\\xc1\\xbe\\xd1 \\x04Z\\xf0\\x02\\x01\\xf7\\xb1#\\x90\\'\\xb6\\r\\xaa\\x94*\\xdf*\\xf3\\x01 VB@\\x95Zt\\xc7\\xa04I)z\\xc7\\xd0\\xe0\\xaew\\xd8k?n\\xbb\\x88\\x90\\x18,,\\x1d\\x11F\\x98N:\\x19t\\x82\\xb5\\xce\\xc8\\xa1\\xbb.\\xd2\\tW;x\\x99O\\x16!\\x04\\t(\\x85\\n\\xbaN(\\x14\\xd44i\\x07qV\\xa4u7\\xac#\\x8aJ\\x90\\xa4Z\\xb4\\xbe\\xd1B\\x89\\xcd\\x93\\xccFf\\x10\\xbaH\\x88 \\x8d\\xa5Pd\\xcbI\\xaf\\x91\\x1a[\\xfa\\x87\\x8bo#\\x13!\\x00i,\\x85\";%p\\x8f\\xc6\\x12$\\xb2\\x16\\xdd7\\xc9$\\x02\\xa1\\xac\\xa6I\\x11\\x0cb+\\xad\\x91\\x10@\\xc2J\\xa1\\xb2NC \\xa54\\xef$\\xdd3\\x89\\x10\\x80\\xc4\\x94B5-\\x9bd\\x18|^<B9\\xa5\\xa4\\x08\\x87E^\\xc4\\xb4\\x03\\x92S\\n\\xf5t\\x8eB(\\xa8\\x9c\\x0b\\xb49N\\xd7\\r\\xcb,\\xa2\\x16mj\\t\\xa4[\\xa1\\xa0V\\x05\\xdf#\\xfc\\x19\\xa7|\\xf6\\xda\\x9d\\xa0Rb\\xc4\\xc3?\\x8b\\xc4\\xc4@zj\\xd1]\\xcf\\\\\\'\\x14\\xeai\\x9e\\x0c\\x99\\x88m\\xadX\\x84\\xb0\\x844\\xd4\\xd3\\xaaI(\\x0cP=d\\\\\\xae\\xd7\\x18\\x99\\xa0\\xeaz\\x8d\\x81\\xe4\\xd4\\xa2\\xfb\\x08\\xad\\x12\\x92\\x19+\\xcf\\x93\\xba\\xe7\\xf1\\xc2P6\\x90\\x9cZtG\\xa86\\xd3\\x9c}\\x94\\xb4\\x86\\x19c\\xdbN\\x91Y\\x03\\xa4\\xa8\\xed\\xb4\\xa8O\\x0c\\xe68HMU\\x86\\x01\\xd2T\\x13f\\xae\\x8dI\\xb2\\xe5\\xa1$5V\\xf9\\xe05\\x90\\xc6Zt\\xd70\\xeb\\x8c\\xa4\\xe6\\x0ey\\xb4\\x15\\xdd\\xd8\\xe0\\x864\\xd7\\x84\\x9a\\xbbNH*\\xb0\\xccL\\xf2\\x18!H\\x81M\\xa8\\xc0\\xeb\\x84\\xa4\\x1e\\x97b$\\xd5\\x91\\xcc \\x83\\xf4\\xd8\\xa2\\xfb&+d\\x82;Q\\x1b\\x8f\\xee\\xe6?\\x99l\\xb3\\xc8\\xfc\\'\\x83\\xf4\\xd8\\xa2\\xf5\\x84d~[\\xcb\\x047F\\x08\\xd2\\xe3,\\xd4\\xe3f\\xac\\xbf\\xfe\\xd3>\\xe5\\x97M\\x14\\x9b\\x12fX\\x89 \\xac\\x11L\\x19\\xdc#\\xb8\\x19$\\xb8\\x16\\xdd\\xb5\\t\\xa5\\xf5\\xe8\\xa9=*\\x19x4\\x1a\\x12H~\\xb9\\xec5\\xc8\\xef:\\xa3P\\x8c\\xf3D\\xcc8\\xf2\"V\\xc5\\x81\\xc48\\x0b\\xc5x\\x9d\\xd0]b\\x9cAbl\\xd1\\xfaF\\x1b\\x89\\xb1\\xaa\\xd0\\x94Abl\\xd1=!22\\xb3\\x99\\x0c,Y]\\xa8\\\\\\xc1\\xa7O\\x8a#\\x0f\\xf1\\x0cRc\\x8b\\xd63\\n\\xd58Kt\\x8f\\xf4\\x1cRc\\x8b\\xee\\t\\x19\\x0e\\xd1\\xb8\\x1c\\xe7\\xd2\\xe7N\\x80G\\xb3\\xe7H9,\\x87\\x04\\xd8\\xa2\\x179H\\xcd5r\\x9a\\x10\\xabIB\\x9a\\x9b\\x87\\x9a\\xcb%\\xe8Qn3\\x0e\\xca=9p\\x0eI\\xb0E\\x0fAY#$K\\n:\\xbd\\xc9\\xb1\\xb2mXR S\\x8f*S\\xe3\\x08\\x85\\x191\\xcf-]\\xf9\\xba\\x9b\\xdaE\\x040\\x87\\x14\\xd9\\xa2\\x87\\x08\\xad\\x11\\n\\x15\\x99\\xcbj\\xaa\\xcc&\\x87\\x14\\xd9\\xa2\\xf5\\x84de\\xb7-\\xe7\\x06U\\x88H\\xee\\x97C\\x82l\\xd1zB\\xa1 \\xf3\\\\<(\\x92q5 Rx\\xcf!A\\xb6\\xe8\\x9eP6\\xe4\\x93nj\\xe9?vZc\\x92\\\\\\xd6Wc\\x9d\\x06\\x12\\xe0<L\\x87i\\xca@\\xe6\\xbf\\xe9h\\xd2\\x12Y|\\x80\\x14\\xb7\\x08\\xeb\\x11S\\x06\\xfe\\xe3No]\\xd9t\\xad8X@zk\\xd1\\xf1V\\xf0\\x1f\\x83\\x0c \\xb5-\\x84\\xdaf<tG\\xf2\\xe1\\x01]O\\x90c#\\x8f-\\x02A\\x02[\\x849.\\xcdq\\x085\\x95\\x15C.DE\\xd2\\x81\\x02\\xd2T\\x8b\\xee[\"\\xa7d\\x9c\\x93x@\\x17\\x87\\xa06\\xd6\\xce;b\\x1c\\xb0\\xd50\\x91\\xd8\\xceq\\x18)\\xa7.\\x0e\\x90r\\x16\"\\x97\\x9d\\xe3 \\xc5\\xb2\\t\\xab\\x84\\x1c\\x89\\xc8\\xb8\\x84\\xc4\\xb2\\x08\\xcb\\xb54\\xc7!\\xd4GJ\\xaa~M\\xd0\\xa6\\x88\\xb1\\xb6\\x80\\xf4\\xb1\\x08\\xab\\x07\\x94\\x17\\xcb\\t\\xabGw\\x9dcTt\\x8aLE\\x0bH.-z\\xe8\\xa0k\\x84F\\xea)\\x0bq\\x91Q[B\\xeai\\xd1=\\xa1\\xa2m\\x86\\xe0g\\xbc\\x96\\xec\\xd1\\xbd\\x8c\\x88\\xf1\\x13i\\xb1\\x12\\xd2R\\x8b\\xd6\\xf3\\t\\x13Y\\x93\\x8c*\\x95\\xb1\\x00A\\xd2Z\\ni]\\rP\\x98\\xc8\\xf2\\x13\\xd7\\xaeqwS\\x9e,\\x92Y\\x97\\x90\\xceZ\\xb4>BRtu)@\\t\\x89\\xaeE\\x0f\\x84\\xb8O\\x8f\\x1e>\\x1e\\x80=|JHt-z\\x91\\x83\\x14\\xdd\\xa2_\\xafl\\x9b(\\x8b\\xf5\\x14l\\x1b\\x82\\x10\\xdd\\xa2\\x96S\\x9e\\xc9P\\n\\x15\\x98\\xb7\\xea\\xa8\\x86\\x12$\\xc0\\xa5\\x10\\xe0U>2[U\\x06\\x08R\\xe3R\\xa8\\xf1*\\xa1\\xb0|\\xd0\\x96\\x1a\\xc4RMD\\x8dKH\\x8d-z\\xe85k-&\\xd5Xn$*#\\xcf\\xcc\\nRc\\x8bV\\x13\\xf2\\xe8n\\\\\\xe9\\x9a\\xac\\x82\\xe4\\xd8\\xa2\\xf5\\x84Fr\\xac\\xca\\xf6+H\\x8e-\\xba\\'T\\xd2\\xf2\\xac\\xd9\\xa3\\xb1\\tP\\x05\\xc9\\xb1E\\xeb\\t\\x85rL\\x89n6RArl\\xd1\\x03\\xa1\\xf1v8\\xffq\\x9f\\xe4\\xf8\\x9dO~\\xaa\\x1c\\xeb\\xc5\\x90\\x18W\"\\x03.\\'\\x0c\\xa4\\x14\\xeb\\x9e\\x91\\x15$\\xc5\\x16\\xdd\\xc7\\xa0\\xaa\\x93\\xf1\\xcc\\xd8\\x03\\xba(\\xe8\\xe6\\xa5\\x15$\\xbf\\x16\\xbd\\xc8A*\\xaen.RA\\x8ak\\xd1\\x8b\\x1c\\xa4\\xc8f~W\\x9e\\xcfX\"\\x19]\\x05\\x89\\xacE/r\\xb8GWkHW-z\\x89\\x83\\x07`)J\\rI\\xa9E/r\\x08\\xd5S\\xab\\r5\\xa4\\x9e\\x16\\xbd\\xc8A\\xe6\\xaf\\xaa\\xac\\xa4\\x86\\xf4\\xd2\\xa2\\x17)\\xdc\\x93\\xb1\\xd6\\x90DZ\\xf4\"\\x07Ym\\xd5MMkH$-z\\x91C(\\x93\\\\\\xc9\\x90;U\"C\\xb3\\x86d\\xd2\\xa2\\x179\\xc8$5RD\\xad!]\\xb4\\xe8\\xc5\\x9bJ]\\xd4M\\xeajH\\x17-\\xba\\xe7P\\xd7\\x93)\\x8b\\x07\\xf4\\xa9\\x95\\xdc%\\x1c\\x99.\\xd4\\x90.Z\\xf4\"\\x07\\xa9\\x8b\\xba\\xa9[\\x03\\xe9\\xa2E\\xf7\\x1c\\x1aZ\\x9e\\xb2xt\\x17\\x14]\\x01\\xaf\\x81D\\xd2\\xa2\\xf5\\x84\\xee\\x99\\xfe7\\x90bZ\\xf4@(O\\x86\\x0c\\xc9\\xd5\\xd8=\\x00K1\\x1bH2-z\\x91\\x83\\xcc*ur\\xd5@\\x92i\\xd1\\x03\\x87\\xf1l\\xd6\\x7f\\x8ce\\x95\\r$\\x98\\x16\\xbd\\xc0@\\xca\\xa5n\\x17G\\x03\\xc9\\xa5E/0\\x905U]n\\xdf@\\xdai\\xd1\\x0b\\x0c\\xa4r\\xea\\xaa\\xfc\\r\\xa4\\x9c\\x16\\xbd\\xc0@\\xe6\\x93\\xba\\xbc\\xba\\x81t\\xd3\\xa2\\x17\\x18\\x8c\\xb2IU\\xd9\\x80R\\xd0S\\x10\\xae9\\xf16\\x02\\xdeF\\xbaP5uW\\x1f6\\xc1\\xeaz\\x06\\xb1?\\r\\xf2981t\\xb6\\x02\\x05\\'\\xa9\\x9d\\xa4\\x9a\\x07R\\n\\x89\\xa7\\x83wme\\xd2|\\xb2.\\xd5!\\xba\\xc51\\x9dtQ\\n\\xe9\\xa7\\x83/\\xd3\\x90I\\xa7\\xae\\xb6C)\\xe6!\\xb0\\xf0e\\x1aa\\xde\\xc9\\xdbbUUJ&\\x8bu\\x94pz>\\xdf(\\xa3\\x19\\xbaj\\xdd\\x98RHL\\x1d|9\\x1a2\\xfb\\xd4\\x15\\n(\\x85\\x14\\xd5\\xc1\\x97i\\xc8u*\\xed\\xe8\\x85d\\x95\\xf7\\x9b\\x05\\xdb\\xe1LZ\\xc9\\rz\\xe3\\xc7m\\x07\\xc7\\x96\\xaa(\\x85\\x84\\xd6\\xc1\\x87\\xd0\\xacr\\xbag\\xb5\\x8a@7\\x977hu*\\xb7\\xc6I\\xf8\\xb9xN\\x1dx\\xfd\\xb8\\xe2\\x15)\"\\x13a\\xcak\\xe1\\xfa8yx\\xdfv\\xc2\\x90\\x1a\\xab#\\x935i\\xe9\\xbd\\xb8\\xc2\\xd3\\xb5\\xde\\x9f<\\x1c\\xab\\x7f\\x10h\\xea\\x12\\xae.\\x05\\'\\xa9\\xc9\\xba\\xfa\\x18Y\\xa7\\x16\\x10\\xa7p\\x17\\x96!~\\x92\\x8f\\x16\\xaf\\xdc\\x05\\xe1\\x87\\xb7\\xf5k\\x014\\x84&\\xcf\\xd2\\x90\\x9a\\xac\\x9b\\x15\\x13\\xe8\\xf1\\x12&/\\xd3Z\\xd6\\'\\xd1\\x90\\x9a\\xac|PZ\\xeb\\x16\\x10\\x8dp\\xe5j\\x9e\\x86\\xcctu\\x8bCd\\r\\\\\\x00\\r\\xa1\\xc9\\xb3\\xd1\\x08\\xd3]\\xbd\\xbc`2,<_\\xf3\\xd1\\x90\\xca\\xabL\\x1b0\\xdb\\x17y\\'\\x97W^C\\x93\\x9aI\\x87\\xe8r9\\xa5\\xd8bf/\\x12n/3KCf\\xb61\\xdf\\x9d\\xf5]\\xe9;\\x83\\xb7i-}\\xfd{\\xd6\\xfe\\tsr9x\\xff\\xac\\x99\\xfd\\xfa\\xa3b\\x80\\xca\\xe1N\\x98\\x7f\\xcb\\xc1\\x07\\x1a\\xd5\\xa4,\\xd2!\\xb0\\n\\x9a=\\xab\\x02\\xf0v\\x0b\\x0f\\x971s4B\\xd9\\xcc\\x92\\xc6\\xf9\\xfc\\xbb\\x8d\\xa1Q\\xfb4\\x96\\xca\\n\\x1f\\x97\\t\\xb6yx_\\xa8\\xff\\xbc\\x1b\\x18:\\x13$a\\xce-\\x07\\xef\\x9bd\\x86D(\\x99Y\\xa2;\\x87\\x81\\xf7%Cs\\x0ba\\xd72Y\\xeb\\xaf\\\\\\x9a\\x18{x\\x17\\x18\\xa5c\\xd6Z\\xb0\\x80\\x91\\x1bnQUp\\n\\xc5\\x94\\xcf$(\\xc3\\x9f\\xa8\\xbb\\x1d\\xab\\x1f\\x08\\xcf\\xd6:%a\\xdaJ\\x93\\xbc;<\\xa3\\xdbX\\x1417c\\xb6->\\xeb \\x9c\\x82\\xac\\xb6\\x9d\\x87\\xbb\\xb6c3\\x85\\xcaD\\xc0\\xfbs\\xa1\\xfe$\\xac[\\x8a@\\x85\\x12\\xccG\\xebH\\xfbs4\\xdf\\xc7\\xcc\\\\d\\xe1\\xc3H[\\xeb\\xe4\\x1e\\x8e\\x06\\n\\xab-\\x08\\x83\\x97\\xc9\\xaai\\xa5E\\x98\\xba(\\x91\\xf5\\x9e:6\\x15\\xb26-\\xfdX\\x13\\xae\\xaey\\x1aR\\x909\\xbd\\x0e\\xcc\\x15Ude\\x85\\xac9\\x0b\\xa0\\x11n\\xc52y\\xba2\\x9b\\xf6\\xd6/\\xd7B|F\\x8e\\xcenL\\x98\\x9b\\xcb\\xc1\\xfbn\\xb3NJ\\xea\\xb5\\x9c\\xb9V\\xd1\\xf6\\xc2\\xf4Z8\\xba\\x14\\x81\\n\\xf3]\\x1e_\\xa1\\xc3\\x82;T\\xecq\\x8ay\\xbax;^(D\\xeb\\x81\\n\\x05[\\xeb\\xea\\xe2n\\x07\\t\\x91\\xf0u\\x99\\x9c\\xc7\\xfcxf\\xe4\\x11]\\'\\x12+\\x86\\x9co\\xc4\\xd2P\\xcc\\xda\\xc5\\xfb\\xa8El\\xe6x\\x84\\xe9o\\x96(\\x0f\\x8c\\xb1~-\\xfd\\x00\\x13\\xf6.\\x93W\\xd3\\x89\\xa2G\\xa0c\\n3u\\x91pu\\xcd\\xf3\\x189\\xb9\\xa4q*v6\\x0bf\\xe5\"\\x0b\\xef\\x87v\\x91.\\xef\\xa2\\xee\\xe0}\\xd1[\\x97\\xa2cn.\\xde\\xed\\x1e\\xf6\\x94uNR\\x97u>l\\xc2\\x0c]\\x0e>\\xc4\\x89\\xb3\\xab\\xc9(\\n\\xeb\\x0b|\\x90\\x8c<\\xaf\\x8c\"\\xdb\\x1e\\x08\\xf3q9\\xf82\\x8fP}y\\x94\\xc9&\\x8a\\xd2\\xc0\\xd4W\\xd8\\xb7\\xf8\\x163\\xe1\\x90\\x05\\x06\\x9d\\xed\\x8f\\xd7r0m\\x13z;Kc$\\xb1#+o$\\xff\\xb4\\xd6+\\xbd\\xa6\\x08#\\x97)\\xaa\\xe5\\xcd\\x08$\\x8c]i\\xd2\\x9f\\xe1\\xe6\\xe7v\\xb1L\\x02\\xb3v\\x91\\xf0v)HI\\xf1\\x1d\\xe5\\x9f\\x11w/Yw\\x16\\x10\\xa8\\xd0\\x92\\xa0\\xe0$\\x93b\\xa5\\x0f\\x9b\\xac\\x9f\\x0b \\x15\\xda\\xbf\\x14\\xa4BY\\xce\\xd8\\x1c)\\xda/\\x96\\xdd`n0\\x12v0\\x05\\'y\\xea\\x8cX|\\xe3,5\\xd6\\xcb\\xb1\\xd5\\xb7B\\xca\\xf2j/\\x97\\xb2,\\x0f\\x08\\x8cR\\xc2\\xca\\x17\\xc2-\\xa6\\x08\\x93\\x94\\xe8\\xf1Q_\\xd1N\\x8e\\xad\\xcb\\t\\xfb\\x98\\x82\\x94\\xcc\\x96\\x9b\\x91c;\\xd6v\\x98^\\x0b;\\x99\\x82S(\\xde|.\\x9d\\xec\\xe4\\xc5\\xdf\\xbe\\x8b\\x9e\\x0c\\x87\\xe9\\xb70\\x95)hI1\\x1f\\x9d\\x96\\x17\\xebS\\x98\\xad\\x8c\\x84\\xafl\\x9d\\x930\\x96!\\xa1\\xc2\\xdce$\\xece\\nZR\\xceu\\x07F\\x90\\xb5\\x8c\\xe9\\x95S8\\xccL\\xc9\\xc9\\xe38)\\xf2\\x08\\xb0L\\x86\\xd9\\xcaH\\xf8\\xca\\xe6iH\\xcd.G\\xc7+E\\xc6\\x18f&#\\xe1&3%\\xeb\\xe3$\\x1aw\\x1d\\x0eF\\x98\\xa1\\xcc\\xc1\\xfb\\x14q\\x96G(\\xcd|&\\x8dnfQb\\xdal\\xe1=\\x8d\\x9a3\\xe2I8\\xe4\\xb63\\xdd\\x81\"d\\xcda@\\x1f\\x15+r\\xb34\\xa4\\x00+\\xcb\\x81\\xd6\\x12\\x06\\xd0\\x10+r5\\xe7\\r\\x93h\\xc8\\n\\x85\\xf2\\x19\\x8e\\xd9\\xc6H\\xf8\\xc6\\xcc,\\x8d{\\x8a\\xc8\\x98W\\x8c\\x84Y\\xcc\\xd4\\x95<\\xf8x\"\"\\xc2-\\xc6\\xabw\\xa3},\\x91\\xd1\\x8b\\xd9\\xc5H\\xf8\\xc5\\x14\\x9c\\xe4R]%\\xb7\\x14\\xc7(a%d\\xe1\\x18SP\\x92\\xd9\\xb2\\xfa$SlG\\x9ap\\x8d)HI\\xe5U\\x0e.\\xcc7F\\xc28\\xa6\\xe0$eX[\\xef\\xb2\\xe60\\xfd\\x88\\x17^2\\x05\\xa9\\x91&\\xcb#Xc\\xab7\\x98\\xb9\\x8c\\x84\\xbb\\xcc4\\xed:\\xc3\\xd2\"\\x97\\xf0\\x9a\\x01g\\xe3b\\xf9\\xb2\\xb0\\x9b)HI\\xb9\\x96\\x87\\xb2\\x07\\xc7\\xb8\\x88c\\xe9\\ts\\x9f9x\\xff\\xf0Z\\x0f\\x94\\xd4n\\xe51\\xca\\x98\\x1b\\x8d\\x84\\x1dM\\x11\\'\\x99,\\xa7\\xa3zTD\\xa20w\\x1a\\t{Z\\x96\\x96+\\xcb\\x15\\xc2\\xac\\xa6?\\x81\\x1b\\xb3\\xab\\x91\\xf0\\xab)H\\xddU\\xf9\\xc0\\xeck$\\xfck\\x99IW\\x1ey\\x1e\\xde\\xe5\\xcd\\xba\\xe3@\\t\\xf3\\xb39x\\xd7\\xc9\\x15\\x9c\\xa4\\x94+\\x07\\x1e\\xe6o\\xe3g{P\\xfb\\xcd\\x0c\\xaf\\xf6/*\\x94\\x87w\\xb5z\\xe5\\xc0\\xc3\\xfcn$\\x0co\\nN\\xa3z\\xb4\\xae@\\x84\\xf9\\xdfH\\x18\\xe02SN\\xa7^\\x1e\\xd1\\x97\\xeaU\\xaf\\x0f!\\xcc\\x11\\xe7\\xe0C\\x17\\x9a\\xa3qW9\\x1a3\\xc5\\x91p\\xc5q\\xa5In\\xde\\x98L<\\x84G\\x8e_f4\\xaa\\xd5\\xc7\\xa4\\x11\\xabm\\x08\\x97\\x9c\\x82\\x93\\xdc\\t\\'\\x8f\\x14\\xaa\"\\xe7\\xaf\\x10f\\x9as\\xf0\\xbe\\xb9\\xb2fr\\xcaT\\x87\\xe8\\x06\\x94\\xb6\\xe4\\x8ay\\xe5H\\x98\\xe5\\xb2Y\\x1eR\\x94+\\xe9\\x08\\x8a\\x95z0\\x87\\x1c/\\x96\\x87b3K#\\xcc\\xa9\\xb9\\xa7\\x0co\\x8b\\xb0\\x0b\\t\\x91\\x9e\\x82\\x99\\xe4H\\xb8\\xe4\\xe6\\xa3!\\xa5W\\xf9,\\xc7|r$\\x8crYef:\\x87L\\x9ce\\x8aZR\\xac(\\x88\\xb9\\xe5H\\xd8\\xe5\\xe6y\\xdc\\xb55\\x0e\\xb3\\xcc\\x91\\xf0\\xcce\\xcd\\xe4\\xbd\\x11\\xfe\\xf3~\\xa4\\x8c\\xf65\\xc7\\x8a\\xc9\\x98m\\x8e\\x84on\\x8e\\x85\\xcc\\x86\\x95/\\x8f\\xc0\\x9cs$\\xacs9\\x15r\\x91x\"\\xaf\\x1e\\xdeo\\x1aT\\x9dg\\xc9\\xaf\\x1a\\x80\\x96\\xfe\\x84\\x99N\\xc1\\xe9\\x9eu@~\\xf7\\x1c\\xc2\\xc9\\xc1;y\\xcd\\xf9\\x8dV\\xe2\\x85N\\xe3\\xbaF\\x07\\xef{\\x90\\xf6\\x9d\\x17\\x90\\xc7\\xa3}Y\\\\\\xf0\\x96\\xafuRRxWJ\\xa5\\xeeEr\\xee\\xcdk\\xef\\xbb/\\x87\\x7f\\xec._\\x8eo\\xd7\\xcd\\xeb\\xe1\\xd9\\xbe\"\\x8e{\\xe7\\xc5\\xbdE\\x8e\\x8b\\xc3\\xdb\\xcd\\xed\\xfc\\xde\\xbe8\\xae\\x9d\\x1a\\x7f>\\xdf\\xf8\\x8dp\\xddo/\\xfc\\xc6\\xbf\\x03\\xbf\\x8a\\x8dg\\xa4\\xdb\\xcd\\xf3\\xf9|\\xeb~i_V\\xd7\\xbfC\\xf0\\xd3\\xff\\x01\\x00\\x00\\xff\\xff\\x03\\x00PK\\x03\\x04\\x14\\x00\\x06\\x00\\x08\\x00\\x00\\x00!\\x00\\xc1\\x17\\x10\\xbeN\\x07\\x00\\x00\\xc6 \\x00\\x00\\x13\\x00\\x00\\x00xl/theme/theme1.xml\\xecY\\xcd\\x8b\\x1b7\\x14\\xbf\\x17\\xfa?\\x0csw\\xfc5\\xe3\\x8f%\\xde\\xe0\\xcfl\\x93\\xdd$d\\x9d\\x94\\x1c\\xb5\\xb6\\xecQV32\\x92\\xbc\\x1b\\x13\\x02%9\\xf5R(\\xa4\\xa5\\x97Bo=\\x94\\xd2@\\x03\\r\\xbd\\xf4\\x8f\\t$\\xb4\\xe9\\x1f\\xd1\\'\\xcd\\xd8#\\xad\\xe5$\\x9blJZv\\r\\x8bG\\xfe\\xbd\\xa7\\xa7\\xf7\\x9e~z\\xf3t\\xf1\\xd2\\xbd\\x98zG\\x98\\x0b\\xc2\\x92\\x96_\\xbeP\\xf2=\\x9c\\x8c\\xd8\\x98$\\xd3\\x96\\x7fk8(4|OH\\x94\\x8c\\x11e\\tn\\xf9\\x0b,\\xfcK\\xdb\\x9f~r\\x11m\\xc9\\x08\\xc7\\xd8\\x03\\xf9Dl\\xa1\\x96\\x1fI9\\xdb*\\x16\\xc5\\x08\\x86\\x91\\xb8\\xc0f8\\x81\\xdf&\\x8c\\xc7H\\xc2#\\x9f\\x16\\xc7\\x1c\\x1d\\x83\\xde\\x98\\x16+\\xa5R\\xad\\x18#\\x92\\xf8^\\x82bP{}2!#\\xec\\r\\x95J\\x7f{\\xa9\\xbcO\\xe11\\x91B\\r\\x8c(\\xdfW\\xaa\\xb1%\\xa1\\xb1\\xe3\\xc3\\xb2B\\x88\\x85\\xe8R\\xee\\x1d!\\xda\\xf2a\\x9e1;\\x1e\\xe2{\\xd2\\xf7(\\x12\\x12~h\\xf9%\\xfd\\xe7\\x17\\xb7/\\x16\\xd1V&D\\xe5\\x06YCn\\xa0\\xff2\\xb9L`|X\\xd1s\\xf2\\xe9\\xc1j\\xd2 \\x08\\x83Z{\\xa5_\\x03\\xa8\\\\\\xc7\\xf5\\xeb\\xfdZ\\xbf\\xb6\\xd2\\xa7\\x01h4\\x82\\x95\\xa6\\xb6\\xd8:\\xeb\\x95n\\x90a\\rP\\xfa\\xd5\\xa1\\xbbW\\xefU\\xcb\\x16\\xde\\xd0_]\\xb3\\xb9\\x1d\\xaa\\x8f\\x85\\xd7\\xa0T\\x7f\\xb0\\x86\\x1f\\x0c\\xba\\xe0E\\x0b\\xafA)>\\\\\\xc3\\x87\\x9df\\xa7g\\xeb\\xd7\\xa0\\x14_[\\xc3\\xd7K\\xed^P\\xb7\\xf4kPDIr\\xb8\\x86.\\x85\\xb5jw\\xb9\\xda\\x15d\\xc2\\xe8\\x8e\\x13\\xde\\x0c\\x83A\\xbd\\x92)\\xcfQ\\x90\\r\\xab\\xecRSLX\"7\\xe5Z\\x8c\\xee2>\\x00\\x80\\x02R$I\\xe2\\xc9\\xc5\\x0cO\\xd0\\x08\\xb2\\xb8\\x8b(9\\xe0\\xc4\\xdb%\\xd3\\x08\\x12o\\x86\\x12&`\\xb8T)\\rJU\\xf8\\xaf>\\x81\\xfe\\xa6#\\x8a\\xb602\\xa4\\x95]`\\x89X\\x1bR\\xf6xb\\xc4\\xc9L\\xb6\\xfc+\\xa0\\xd57 /\\x9e={\\xfe\\xf0\\xe9\\xf3\\x87\\xbf=\\x7f\\xf4\\xe8\\xf9\\xc3_\\xb2\\xb9\\xb5*Kn\\x07%SS\\xee\\xd5\\x8f_\\xff\\xfd\\xfd\\x17\\xde_\\xbf\\xfe\\xf0\\xea\\xf17\\xe9\\xd4\\'\\xf1\\xc2\\xc4\\xbf\\xfc\\xf9\\xcb\\x97\\xbf\\xff\\xf1:\\xf5\\xb0\\xe2\\xdc\\x15/\\xbe}\\xf2\\xf2\\xe9\\x93\\x17\\xdf}\\xf5\\xe7O\\x8f\\x1d\\xda\\xdb\\x1c\\x1d\\x98\\xf0!\\x89\\xb1\\xf0\\xae\\xe1c\\xef&\\x8ba\\x81\\x0e\\xfb\\xf1\\x01?\\x9d\\xc40B\\xc4\\x92@\\x11\\xe8v\\xa8\\xee\\xcb\\xc8\\x02^[ \\xea\\xc2u\\xb0\\xed\\xc2\\xdb\\x1cX\\xc6\\x05\\xbc<\\xbfk\\xd9\\xba\\x1f\\xf1\\xb9$\\x8e\\x99\\xafF\\xb1\\x05\\xdcc\\x8cv\\x18w:\\xe0\\xaa\\x9a\\xcb\\xf0\\xf0p\\x9eL\\xdd\\x93\\xf3\\xb9\\x89\\xbb\\x89\\xd0\\x91k\\xee.J\\xac\\x00\\xf7\\xe73\\xa0W\\xe2R\\xd9\\x8d\\xb0e\\xe6\\r\\x8a\\x12\\x89\\xa68\\xc1\\xd2S\\xbf\\xb1C\\x8c\\x1d\\xab\\xbbC\\x88\\xe5\\xd7=2\\xe2L\\xb0\\x89\\xf4\\xee\\x10\\xaf\\x83\\x88\\xd3%Cr`%R.\\xb4Cb\\x88\\xcb\\xc2e \\x84\\xda\\xf2\\xcd\\xdem\\xaf\\xc3\\xa8k\\xd5=|d#a[ \\xea0~\\x88\\xa9\\xe5\\xc6\\xcbh.Q\\xecR9D15\\x1d\\xbe\\x8bd\\xe42r\\x7f\\xc1G&\\xae/$Dz\\x8a)\\xf3\\xfac,\\x84K\\xe6:\\x87\\xf5\\x1aA\\xbf\\n\\x0c\\xe3\\x0e\\xfb\\x1e]\\xc46\\x92Kr\\xe8\\xd2\\xb9\\x8b\\x183\\x91=v\\xd8\\x8dP<s\\xdaL\\x92\\xc8\\xc4~&\\x0e!E\\x91w\\x83I\\x17|\\x8f\\xd9;D=C\\x1cP\\xb21\\xdc\\xb7\\t\\xb6\\xc2\\xfdf\"\\xb8\\x05\\xe4j\\x9a\\x94\\'\\x88\\xfae\\xce\\x1d\\xb1\\xbc\\x8c\\x99\\xbd\\x1f\\x17t\\x82\\xb0\\x8be\\xda<\\xb6\\xd8\\xb5\\xcd\\x893;:\\xf3\\xa9\\x95\\xda\\xbb\\x18St\\x8c\\xc6\\x18{\\xb7>sX\\xd0a3\\xcb\\xe7\\xb9\\xd1W\"`\\x95\\x1d\\xecJ\\xac+\\xc8\\xceU\\xf5\\x9c`\\x01e\\x92\\xaak\\xd6)r\\x97\\x08+e\\xf7\\xf1\\x94m\\xb0goq\\x82x\\x16(\\x89\\x11\\xdf\\xa4\\xf9\\x1aD\\xddJ]8\\xe5\\x9cTz\\x9d\\x8e\\x0eM\\xe05\\x02\\xe5\\x1f\\xe4\\x8b\\xd3)\\xd7\\x05\\xe80\\x92\\xbb\\xbfI\\xeb\\x8d\\x08Yg\\x97z\\x16\\xee|]p+~o\\xb3\\xc7`_\\xde=\\xed\\xbe\\x04\\x19|j\\x19 \\xf6\\xb7\\xf6\\xcd\\x10Qk\\x82<a\\x86\\x08\\n\\x0c\\x17\\xdd\\x82\\x88\\x15\\xfe\\\\D\\x9d\\xabZl\\xee\\x94\\x9b\\xd8\\x9b6\\x0f\\x03\\x14FV\\xbd\\x13\\x93\\xe4\\x8d\\xc5\\xcf\\x89\\xb2\\'\\xfcw\\xca\\x1ew\\x01s\\x06\\x05\\x8f[\\xf1\\xfb\\x94:\\x9b(e\\xe7D\\x81\\xb3\\t\\xf7\\x1f,kzh\\x9e\\xdc\\xc0p\\x92\\xacs\\xd6yUs^\\xd5\\xf8\\xff\\xfb\\xaaf\\xd3^>\\xafe\\xcek\\x99\\xf3Z\\xc6\\xf5\\xf6\\xf5Aj\\x99\\xbc|\\x81\\xca&\\xef\\xf2\\xe8\\x9eO\\xbc\\xb1\\xe53!\\x94\\xee\\xcb\\x05\\xc5\\xbbBw}\\x04\\xbc\\xd1\\x8c\\x070\\xa8\\xdbQ\\xba\\'\\xb9j\\x01\\xce\"\\xf8\\x9a5\\x98,\\xdc\\x94#-\\xe3q&?\\'2\\xda\\x8f\\xd0\\x0cZCe\\xdd\\xc0\\x9c\\x8aL\\xf5Tx3&\\xa0c\\xa4\\x87u+\\x15\\x9f\\xd0\\xad\\xfbN\\xf3x\\x8f\\x8d\\xd3Ng\\xb9\\xac\\xba\\x9a\\xa9\\x0b\\x05\\x92\\xf9x)\\\\\\x8dC\\x97J\\xa6\\xe8Z=\\xef\\xde\\xad\\xd4\\xeb~\\xe8TwY\\x97\\x06(\\xd9\\xd3\\x18aLf\\x1bQu\\x18Q_\\x0eB\\x14^g\\x84^\\xd9\\x99X\\xd1tX\\xd1P\\xea\\x97\\xa1ZFq\\xe5\\n0m\\x15\\x15x\\xe5\\xf6\\xe0E\\xbd\\xe5\\x87A\\xdaA\\x86f\\x1c\\x94\\xe7c\\x15\\xa7\\xb4\\x99\\xbc\\x8c\\xae\\n\\xce\\x99Fz\\x933\\xa9\\x99\\x01Pb/3 \\x8ftS\\xd9\\xbaqyjui\\xaa\\xbdE\\xa4-#\\x8ct\\xb3\\x8d0\\xd20\\x82\\x17\\xe1,;\\xcd\\x96\\xfbY\\xc6\\xba\\x99\\x87\\xd42O\\xb9b\\xb9\\x1br3\\xea\\x8d\\x0f\\x11kE\"\\'\\xb8\\x81&&S\\xd0\\xc4;n\\xf9\\xb5j\\x08\\xb7*#4k\\xf9\\x13\\xe8\\x18\\xc3\\xd7x\\x06\\xb9#\\xd4[\\x17\\xa2S\\xb8v\\x19I\\x9en\\xf8wa\\x96\\x19\\x17\\xb2\\x87D\\x94:\\\\\\x93N\\xca\\x061\\x91\\x98{\\x94\\xc4-_-\\x7f\\x95\\r4\\xd1\\x1c\\xa2m+W\\x80\\x10>Z\\xe3\\x9a@+\\x1f\\x9bq\\x10t;\\xc8x2\\xc1#i\\x86\\xdd\\x18Q\\x9eN\\x1f\\x81\\xe1S\\xaep\\xfe\\xaa\\xc5\\xdf\\x1d\\xac$\\xd9\\x1c\\xc2\\xbd\\x1f\\x8d\\x8f\\xbd\\x03:\\xe77\\x11\\xa4XX/+\\x07\\x8e\\x89\\x80\\x8b\\x83r\\xea\\xcd1\\x81\\x9b\\xb0\\x15\\x91\\xe5\\xf9w\\xe2`\\xcah\\xd7\\xbc\\x8a\\xd29\\x94\\x8e#:\\x8bPv\\xa2\\x98d\\x9e\\xc25\\x89\\xae\\xcc\\xd1O+\\x1f\\x18O\\xd9\\x9a\\xc1\\xa1\\xeb.<\\x98\\xaa\\x03\\xf6\\xbdO\\xdd7\\x1f\\xd5\\xcas\\x06i\\xe6g\\xa6\\xc5*\\xea\\xd4t\\x93\\xe9\\x87;\\xe4\\r\\xab\\xf2C\\xd4\\xb2*\\xa5n\\xfdN-r\\xaek.\\xb9\\x0e\\x12\\xd5yJ\\xbc\\xe1\\xd4}\\x8b\\x03\\xc10-\\x9f\\xcc2MY\\xbcN\\xc3\\x8a\\xb3\\xb3Q\\xdb\\xb43,\\x08\\x0cO\\xd46\\xf8muF8=\\xf1\\xae\\'?\\xc8\\x9d\\xccZu@,\\xebJ\\x9d\\xf8\\xfa\\xca\\xdc\\xbc\\xd5f\\x07w\\x81<zp\\x7f8\\xa7R\\xe8PBo\\x97#(\\xfa\\xd2\\x1b\\xc8\\x946`\\x8b\\xdc\\x93Y\\x8d\\x08\\xdf\\xbc9\\'-\\xff~)l\\x07\\xddJ\\xd8-\\x94\\x1aa\\xbf\\x10T\\x83R\\xa1\\x11\\xb6\\xab\\x85v\\x18V\\xcb\\xfd\\xb0\\\\\\xeau*\\x0f\\xe0`\\x91Q\\\\\\x0e\\xd3\\xeb\\xfa\\x01\\\\a\\xd0Evi\\xaf\\xc7\\xd7.\\xee\\xe3\\xe5-\\xcd\\x85\\x11\\x8b\\x8bL_\\xcc\\x17\\xb5\\xe1\\xfa\\xe2\\xbe\\\\\\xd9|q\\xef\\x11 \\x9d\\xfb\\xb5\\xca\\xa0Ymvj\\x85f\\xb5=(\\x04\\xbdN\\xa3\\xd0\\xec\\xd6:\\x85^\\xad[\\xef\\rz\\xdd\\xb0\\xd1\\x1c<\\xf0\\xbd#\\r\\x0e\\xda\\xd5nP\\xeb7\\n\\xb5r\\xb7[\\x08j%e~\\xa3Y\\xa8\\x07\\x95J;\\xa8\\xb7\\x1b\\xfd\\xa0\\xfd +c`\\xe5)}d\\xbe\\x00\\xf7j\\xbb\\xb6\\xff\\x01\\x00\\x00\\xff\\xff\\x03\\x00PK\\x03\\x04\\x14\\x00\\x06\\x00\\x08\\x00\\x00\\x00!\\x00kXy\\xb1\\xb7\\x08\\x00\\x00\\xddB\\x00\\x00\\r\\x00\\x00\\x00xl/styles.xml\\xc4\\\\mo\\xe2F\\x10\\xfe^\\xa9\\xff\\xc1\\xb2\\xd4\\x8f\\xc4\\xef\\x80#\\xa0\\n$nO\\xba\\xa6\\']\\xaa\\xf6\\xab1\\x86\\xb8\\xf1\\x0b\\xb2\\xcd\\x95\\\\\\xd5\\xff\\xde\\xd9\\xf5\\xcb\\xce\\xf2\\x12\\x96\\xc4\\xb0Bw\\xc1\\xc6\\xfb\\xcc\\xec\\xcc\\xb33\\xbbc\\xafG?o\\x93X\\xf9\\x16\\xe6E\\x94\\xa5c\\xd5\\xb8\\xd1U%L\\x83l\\x11\\xa5\\xab\\xb1\\xfa\\xc7\\x93\\xd7\\x1b\\xaaJQ\\xfa\\xe9\\xc2\\x8f\\xb34\\x1c\\xab\\xafa\\xa1\\xfe<\\xf9\\xf1\\x87QQ\\xbe\\xc6\\xe1\\xd7\\xe70,\\x15\\x80H\\x8b\\xb1\\xfa\\\\\\x96\\xeb[M+\\x82\\xe70\\xf1\\x8b\\x9bl\\x1d\\xa6\\xf0\\xcb2\\xcb\\x13\\xbf\\x84\\xc3|\\xa5\\x15\\xeb<\\xf4\\x17\\x05i\\x94\\xc4\\x9a\\xa9\\xeb}-\\xf1\\xa3T\\xad\\x10n\\x93@\\x04$\\xf1\\xf3\\x97\\xcd\\xba\\x17d\\xc9\\xda/\\xa3y\\x14G\\xe5+\\xc5R\\x95$\\xb8\\xfd\\xb4J\\xb3\\xdc\\x9f\\xc7\\xa0\\xea\\xd6\\xb0\\xfd@\\xd9\\x1a\\xfd\\xdcl$\\xd0S{B\\x92(\\xc8\\xb3\"[\\x967\\x00\\xaae\\xcbe\\x14\\x84\\xfb\\xba\\xba\\x9a\\xab\\xf9\\x01C\\x02\\xd8\\xf7!\\x19\\x8e\\xa6\\x9bU\\xc7\\'\\xa3t\\x93xIY(A\\xb6IKp\\x80\\xda\\x9cR\\xaa_>-\\xe0d\\xdfU\\x95\\xca\\x8e\\xb3l\\x01=\\xd3ot]W\\xb5\\xc9H\\xab\\x9bOF\\xcb,E(\\xe04\\xda\\xd5\\xdb\\x974\\xfb\\'\\xf5\\xc8o\\x156\\xb9l2*\\xbe+\\xdf\\xfc\\x18\\xce\\x18\\x04$\\xc8\\xe2,WJ\\xf0\\x1a@\\xd33\\xa9\\x9f\\x84\\xd5\\x153?\\x8e\\xe6yD.[\\xfaI\\x14\\xbfV\\xa7Mr\\x82:\\xba\\xbe.\\x89\\xc0\\xecT\\xa3J\\x82$9\\xc3\\xbd\\xfeX\\xe4\\xcc^\\x7f\\x94\\xcf\\xd1\\xea\\xb9<\\xdd+\\xff\\xef\\x03\\xbd\\x9a\\x93\\xbe7\\x16t\\x04%\\xbe\\xd3\\x82\\x9c,\\xda\\x17\\xce[\\x87{\\xd7\\x85\\xac}ft*\\xeb\\x10\\x03\\xf3\\xd5|\\xacz\\x1eD\\x05\\xa3b\\xf7%iX\\x0bsg0\\x92\\xfa\\x079\\xd2!\\xe7[a\\xce\\xe0j=\\xb3<\\xcb\\x1bt\\xda3\\x8e\\x8b\\x88\\x1fu\\xef\\x88@\\xcb\\xeb\\xd2\\x94\\'\\x04zw\\x83\\xfb\\xab\\x99\\xb3{a\\xc7zW\\x07b\\x1a\\xdf\\xaf0\\x02\\xc8\\x80\\xeb\\xd6\\x8a\\x11\\x8e\\x8f\\xfb<\\x19x\\xe4s\\r\\x9e\\\\9\\xa5u\\xe41\\x8d\\xa6r\\xc8\\xb7Q\\x1c\\xb7\\xf3\\x02\\xcb\\x82\\x89\\x0193\\x19\\xc1\\xac\\xa7\\x0c\\xf3\\xd4\\x83\\x03\\xa5\\xfe\\xfe\\xf4\\xba\\x86\\xd4\\x9d\\xc2\\x04\\xadJ\\xc1\\xf4\\xba\\x13W\\xafr\\xff\\xd50i\\xfa\\xd2\\xaaKO4(\\xb28Z\\x10-V3:a\\xa8\\x87\\xfd\\xac\\xff\\xe0\\xcd\\x1e\\xa8\\\\\\xa4\\x19LM>\\x02\\xeay\\xb3\\xc1\\x05@\\x1f\\xa6\\xee\\xac{Mg\\xae\\xdb5\\xa8\\xe9\\xc1\\xa7c\\xd0;\\x87|:\\xef>\\xb8\\xaa3\\x9b\\xd6\\x03\\xd6\\xeeJ\\xc9\\x16O)#2\\xbb\\xd6o\\x06\\xae\\xeb\\x0e\\x8d\\xfep8tm\\xcb\\xb0mj\\xe4y\\xcd\\xe8(]\\x84\\xdb\\x10&\\xdc\\xfd\\xce\\xcc\\xb4\\xaf\\x81\\x03\\x1a\\xb8\\xd6\\xd0\\xed\\x9b\\xa0\\x88n\\x0f\\xa9\\xa8\\xabj`\\x81\\x02\\x03\\xc7\\x19:\\x86k\\xda\\xf0\\x8f\\x86\\xe8\\xcbk\\xd0\\xb5M\\x1dU\\xb6W\\x91\\x06\\x92\\xbc\\x8a4\\x90\\xe4U:\\xc3\\xd4:\\x88\\xfc\\xf5H\\xe9K\\xf7*\\xd2@\\x92W\\x91\\x06\\x92\\xbc:\\xe88\\x02\\x0f\\xa4{\\x15i \\xc9\\xabH\\x03I^\\xa5\\xd5\\x91\\x0e\\xc7*T\\x99$\\xe7U\\xa4\\x81$\\xaf\"\\r$y\\xb5\\xb3\\xc9g\\x1d\\x81\\xa1\\xd6(\\xd9\\xabH\\x03I^E\\x1a|\\xd8\\xabt!TLF\\xf3,_@\\x9d\\xbd\\xad\\xf4\\xea\\xb0\\x96\\xaa\\xceMFq\\xb8,a\\xd5\\x9c\\x93\\xaa$\\xfc-\\xb35\\xfc?\\xcf\\xca\\x12\\xea\\xd1\\x93\\xd1\"\\xf2WY\\xea\\xc7\\xa4\\xe0\\xdb\\xb4\\x10h\\tu{(\\xd1\\x8f\\xd5\\xf29\\n^@\\x18W9\\xac\\xe6\\xd8\\x95\\x88KIhyd\\x93Y\\xb7=\\xb0\\xf5\\x81\\xed\\x98\\xfdja\\xd3\\x91\\xe8$\\\\D\\x9bd\\xbfw\\xad\\xec\\x83\\xfe\\x033\\x12\\xdb\\x9e\\xee8\\xb2a\\xda\\n\\xa9W\\xbe\\xac\\x90\\xa1\\x11\\xff\\xd5\\xee\\x13lA]M=-\\xd8\\x008\\xd1PB\\xb0E\\x17}dE=\\xd1>\\xa2\\x16b}D\\r\\x04\\xfb\\x88Zt\\xc4\\xa2E\\xb6\\x81[F\\xbb\\x0e\\xf6\\xbc\\xa1\\xae\\xd3\\xd5\\xd1\\xd9|9\\x0c\\xf8\\xb65O\\xb6\\xd9\\xb7\\xe7\\xc9&\\x07,z\\xb2M\\x17\\xbc\\x99\\x9a\\xe4Cg\\x91\\x82c\\x03\\xb5\\x10\\xe3\\rj \\xc8\\x1b\\xd4\\xe2}\\xbc98\\xf0\\xb8\\xa2\\xc5i{s\\x97\\xbf\\xa5F\\x1d\\xea!s\\x04a\\x1c\\x7f%\\xb1\\xfc\\xafe\\x9b>\\xa0r1\\x19m\\x97\\xe8.!\\xdc\\xb9%\\x95Cr\\xc3\\x90|\\x85\\x1a`\\xfd\\xb5J\\x15\\xd5\\x01\\xa4\\x90c\\x8d\\xe0&\\xe9\\x91F\\x8a\\xbf^\\xc7\\xaf\\x8f\\x9bd\\x1e\\xe6\\x1e\\xbd\\x9dKE\\xd0\\xb3\\xa4\\x0c\\xc9\\x8e\\xa64\\xc7\\xb1\\xe3\\xbb8Z\\xa5IHk/j\\x05\\xf3%\\xcf\\xca0(\\xe9\\xedfZ1=\\xa6\\x8fuD\\x1f\\xa3\\x06\\x12\\xd1\\xe7#\\xf2\\xed#\\xf2\\xc1N\\xc2\\xf6\\xf8\\x88|X\\xdb\\x1f\\xf4\\x07\\xd8E\\xaa| \\x97\\x14>\\xc0\\xaa\\xb8\\xb1\\x07\\xb8\\x00\\x93\\xfa-}\\xbad$\\xac\\xe0\\x1a\\r\\xc0\\t24\\x80\\xd5F\\xa3\\x01\\xd0S\\x86\\x06\\xe4I\\x84:\\xb4\\x00A\\x99\\x06\\xa0\\xce\\x1b\\xac\\xf8\\xc880P4\\x03\\x0e0\\x91 \\xffR\"!\\xc64\\xbd\\xe4D^\\xb0\\x97\\xc7\\xc2/\\xc8\\xbf\\xcap7P\\xbc\\x05\\xa233\\xc3\\xc1\\xa5\\xcc|,\\xc4\\xca\\n1\\xc8\\xed0\\xd2\\x98\\t\\xe0\\xe0-\\x1f@\\xd6\\xed&\\xe5\\x19\\xc7b\\xbe4\\x83\\xa0\\xa0\\x0b:0\\x8b@\\x18\\xb8\\x0e+Q\\xcc\\x05\\x992\"\\x1e\"\\x05\\tE\\xb2U\\x00ud\\xab )\\xfd\\x1a\\x88\\x0b$Z\\xc96\\x83\\xa4\\x0c\\x8c\\xf9\\xc8\\xa5\\xe0\\xb7\\x83D\\x97\\x13!\\xac\\x02\\x97\\x1f\\xaf\\xa8\\x02&\\x03\\x97\\xaf\\xe4\\x98\\x81\\xcb\\x17rT\\x90\\x1f\\x1fMY\\xf1\\x11\\x91\\x01ng\\xcb\\x8e\\x0c\\xa6\\xac\\x00\\x89VH\\xf2\\xe3\\xa3)+>b2\\xc8\\x0f\\x90\\xa6\\xac\\x00\\x89\\xc8 ?>\\x9a\\xb2\\xe2#&\\x83\\xfc\\x00i\\xc9\\x9f@Z\\xf2\\xe3\\xa3u\\xe1\\xf8\\xa8\\xe1\\x82iU>\\xc5\\x95\\xd3w\\x15N\\x95\\xed\\xf2d\\x05\\xf5x\\xd9\\xb5m]\\xad\\x9aP9\\x84l\\xf8\\x80=\\x16U\\x95Ty\\xce\\xf2\\xe8;,\\'\\xc9\\xe6\\x8c\\x00\\xca\\xa6a\\xb5\\xa7b\\xbb\\xdc)\\xdb\\x92\\t\\xd8\\xc9Z\\xef\\x8eP\\xbe^\\xdaTQ?\\xaeJ\\xb59\\xe5T\\xe1\\xf9b\\xcaPg\\x83{Q\\x99\\x9c/\\x92\\xb7dP\\xc8\\xd3\\xd4c\\xd5\\xd4\\x7fRz\\xca]@\\xec\\x0bV\\xa8\\xfcj\\x90\\xd8\\xb0\\x89b\\xb8\\xf3M\\xdcL\\xc6i\\xb0)\\xe0\\x16\\xe1\\xb4:Yo\\x8cy\\x0b\\x8bl2\\xa2\\x1c1I\\xeeEX\\x90\\x07\\xcf\\xc5\\x02\\x84\\x1a\\x8b\\x84n\\x84\\x05a\\xf4\\\\,\\x10_a\\xd1\\x91\\xcf\\xb0\\xe0\\x0e\\xc2\\xd9X\\x90Nk,\\x92X\\x11\\x16$\\xb9s\\xf5\\x82&5\\x16o{G\\xd0\\xf6\\xf6!?\\xd2\\x19(\\xb2\\x178XD/\\x8c\\xc5\\xfcH&0\\x08\\x0b\\xba|.\\x16\\xf3#\\xc9\\x7f\\x08\\x0b\\xba|.\\x16\\xf3#\\t\\x9f\\xc8\\xf6 \\xe4\\\\,\\xe6G2;AX@\\xb7s\\xb1Z?\\xda$\\xb91,G\\xd0\\xf6\\xfd\\x83~$Y\\n\\xd9K\\x90\\xab\\x18\\x8b\\xf9\\x91\\xe7\\xaa%\\xc8U\\x8c\\xc5\\xfc\\xc8s\\x95tY\\xc4^\\x18\\x8b\\xf9\\x91\\x8f\\x13\\xb6`\\x9c\\xc0X\\xcc\\x8f|\\x9c\\xb0\\x05\\xe3\\x04\\xc6b~\\xe4m\\xef\\x08\\xda~7\\xa2\\xf2\\x8c7\\x05\\x19_\\xa10\\xdf\\xf1\\\\\\x87m\\x10B\\xf6\\xaeP\\x98\\xd7x\\x96[\\x82,\\xafP\\x98\\xbfx~\\xdb\\x82\\xfc\\xaeP\\x98\\xa7\\xf8\\xa8b\\x0bF\\x95\\n\\x85\\xc5L\\xde\\xba\\xb6\\xa0u\\xa7\\xfe\\xa2\\x89\\xba<aLA\\x93\\xc0~\\xd0`\\x13\\xc3\\xbe\\xdb\\x8c\\xec\\xda\\xa5\\xe9\\x0e6\\x91\\xe2\\xa1J\\x16\\xbf\"Cb\\xf6\\x1c\\x06/\\xca\\x0cnm\\xb7@\\xfcx iT\\x04\\xe8a\\xbb\\x8e\\xfd\\xd4/\\xb3\\xfcUy\\n\\xb7e\\x0b\\xc7;\\xdd\\x11\\x84\\xfb%\\xcbZ\\x1b\\xf1\\x08d%\\'\\xa2\\xd0\\xaf\\xb0\\xc7\\x19\\xb6O+\\xed\\xe4\\x82\\xe7\\xb0q&L;\\x16x\\xf3\\x90j\\xe89\\xda\\xb4\\x83\\x81\\xe7\\x9f!\\x18)\\x9aN\\xb5\\xa3\\x81\\x0f\\xaad\\xfe$\\xa2\\xcd\\xa7t\\xbdi=\\xc4\\xc7R\\x92\\xbaE >G\\xe9K\\xb8\\xe0\\x99\\xc3[\\x98T\\x1eD\\x90\\x1e\\xc3M\\x99\\xfb-\\xffv\\x02\\x96\\xa0a\\x1e\\xc9\\x03\\x11-\\x06\\x1f\"\\xe8\\xf3\\r\\xbbs\\xc6Gx\\xfe\\xa1\\xe5\\xe8\\x8e\\x15\\x05M\\xf0\\xfb\\xa6Df\\xa4w%X\\xae$\\x050\\x91\\xde?E%<\\xf2\\xd4\\x0cbn\\x0c\\x93\\xfbPB\\x10\\x19\\xacTZ\\x88\\x9d\\x88\"\\x88\\xf1\\xa7\\x9f\\xa7d\\xb4pCw\\x87\\xa3Gz\\xc4\\xd6y0\\xfb_l\\xd9\\xc31\\xd4\\xee%y\\x0b\\x00}l\\xa6]\\x0f\\x80y\\x17\\xe1\\xd2\\xdf\\xc4\\xe5S\\xfb\\xe3Xe\\xdf\\x7f\\xa3\\x0f\\x13\\x02\\x99\\xea\\xab\\xbeD\\xdf\\xb2\\x92B\\x8cU\\xf6\\x9d\\xee\\x1d\\x87Q\\x0c\\xcf\\xd2@\\xb8\\xf9\\\\\\xc0\\x93\\x7f\\xf0W\\xd9\\xe4\\xd1X\\xfd\\xf7a:p\\xef\\x1f<\\xb37\\xd4\\xa7\\xc3\\x9em\\x85N\\xcfu\\xa6\\xf7=\\xc7\\x9eM\\xef\\xef=W7\\xf5\\xd9\\x7f\\xe8u\\x04\\x1fx\\x19\\x01}u\\x02,\\x0c\\r\\xfb\\xb6\\x88\\xe1\\x95\\x05y\\xdd\\xd9Z\\xf9\\xaf\\xec\\xdcXE\\x07\\x95\\xfa\\xf4\\xd1,P\\x1b\\xeb\\xee\\x9a}\\xfd\\xce1\\xf4\\x9eg\\xe9F\\xcf\\xee\\xfb\\xc3\\xde\\xb0o9=\\xcf1\\xcc\\xfb\\xbe=}p<\\x07\\xe9\\xee\\xbc\\xf3\\xf5\\x07\\xbaf\\x18\\xcd\\xeb\\x0f\\xb6\\x86s[FI\\x18Gi\\xe3\\xab\\xc6C\\xf8,8\\t\\x0e\\xdf\\xe8\\x84\\xd6xBc\\xef\\xa5\\x98\\xfc\\x0f\\x00\\x00\\xff\\xff\\x03\\x00PK\\x03\\x04\\x14\\x00\\x06\\x00\\x08\\x00\\x00\\x00!\\x00\\x8a\\xf8\\xc1\\xca\\xbc\\x00\\x00\\x00\\xdf\\x00\\x00\\x00\\x14\\x00\\x00\\x00xl/sharedStrings.xmlD\\x8fAk\\x021\\x14\\x84\\xefB\\xffCx\\xa7z\\xd0D\\x0fRJ\\x12A\\xd1\\xe2\\xadT\\xfd\\x01a\\xf7\\xe9\\x066/k\\xde\\xdb\\xd2\\xfe{S\\x8ax\\x9c\\x99o`\\xc6\\xae\\x7fR\\xaf\\xbe\\xb1p\\xcc\\xe4`17\\xa0\\x90\\x9a\\xdcF\\xba:8\\x9f\\xf6\\xb37P,\\x81\\xda\\xd0gB\\x07\\xbf\\xc8\\xb0\\xf6/\\x13\\xcb,\\xaav\\x89\\x1dt\"\\xc3\\xbb\\xd6\\xdct\\x98\\x02\\xcf\\xf3\\x80T\\x93K.)H\\x95\\xe5\\xaay(\\x18Z\\xee\\x10%\\xf5zi\\xccJ\\xa7\\x10\\tT\\x93G\\x12\\x07KP#\\xc5\\xdb\\x88\\xdb\\x87\\xf6\\x96\\xa3\\xb7\\xe2w\\xe7\\xaf\\x01\\xcb\\xc2\\x18s\\x11\\xab\\xc5[\\xfd\\xe7\\xffg\\x1f\\x87O\\xf5\\xba\\xd9\\xee+p\\xc4F\\xea\\x83\\xe9\\x13\\xd1u\\xa0\\xbf\\x03\\x00\\x00\\xff\\xff\\x03\\x00PK\\x03\\x04\\x14\\x00\\x06\\x00\\x08\\x00\\x00\\x00!\\x00\\xd36\\x03\\xf2J\\x01\\x00\\x00a\\x02\\x00\\x00\\x11\\x00\\x08\\x01docProps/core.xml \\xa2\\x04\\x01(\\xa0\\x00\\x01\\x00\\x00\\x00\\x00\\x00\\x00\\x00\\x00\\x00\\x00\\x00\\x00\\x00\\x00\\x00\\x00\\x00\\x00\\x00\\x00\\x00\\x00\\x00\\x00\\x00\\x00\\x00\\x00\\x00\\x00\\x00\\x00\\x00\\x00\\x00\\x00\\x00\\x00\\x00\\x00\\x00\\x00\\x00\\x00\\x00\\x00\\x00\\x00\\x00\\x00\\x00\\x00\\x00\\x00\\x00\\x00\\x00\\x00\\x00\\x00\\x00\\x00\\x00\\x00\\x00\\x00\\x00\\x00\\x00\\x00\\x00\\x00\\x00\\x00\\x00\\x00\\x00\\x00\\x00\\x00\\x00\\x00\\x00\\x00\\x00\\x00\\x00\\x00\\x00\\x00\\x00\\x00\\x00\\x00\\x00\\x00\\x00\\x00\\x00\\x00\\x00\\x00\\x00\\x00\\x00\\x00\\x00\\x00\\x00\\x00\\x00\\x00\\x00\\x00\\x00\\x00\\x00\\x00\\x00\\x00\\x00\\x00\\x00\\x00\\x00\\x00\\x00\\x00\\x00\\x00\\x00\\x00\\x00\\x00\\x00\\x00\\x00\\x00\\x00\\x00\\x00\\x00\\x00\\x00\\x00\\x00\\x00\\x00\\x00\\x00\\x00\\x00\\x00\\x00\\x00\\x00\\x00\\x00\\x00\\x00\\x00\\x00\\x00\\x00\\x00\\x00\\x00\\x00\\x00\\x00\\x00\\x00\\x00\\x00\\x00\\x00\\x00\\x00\\x00\\x00\\x00\\x00\\x00\\x00\\x00\\x00\\x00\\x00\\x00\\x00\\x00\\x00\\x00\\x00\\x00\\x00\\x00\\x00\\x00\\x00\\x00\\x00\\x00\\x00\\x00\\x00\\x00\\x00\\x00\\x00\\x00\\x00\\x00\\x00\\x00\\x00\\x00\\x00\\x00\\x00\\x00\\x00\\x00\\x00\\x00\\x00\\x00\\x00\\x00\\x00\\x00\\x00\\x00\\x00\\x00\\x00\\x00\\x00\\x00\\x00\\x00\\x00\\x00\\x00\\x00\\x00\\x00\\x00\\x00\\x00\\x00\\x00\\x00\\x00\\x00\\x00\\x8c\\x92_K\\xc30\\x14\\xc5\\xdf\\x05\\xbfC\\xc9{\\x9b\\xb4\\x1dSJ\\xdb\\xc1\\x94\\xe1\\x83\\x03\\xc1\\x8a\\xe2[H\\xee\\xb6b\\xf3\\x87$\\xda\\xf5\\xdb\\x9b\\xb6[\\xed\\xd0\\x07!/\\xb9\\xe7\\xe4w\\xcf\\xbd$_\\x1dE\\x13|\\x81\\xb1\\xb5\\x92\\x05\\x8a#\\x82\\x02\\x90L\\xf1Z\\xee\\x0b\\xf4Rm\\xc2[\\x14XG%\\xa7\\x8d\\x92P\\xa0\\x0e,Z\\x95\\xd7W9\\xd3\\x19S\\x06\\x9e\\x8c\\xd2`\\\\\\r6\\xf0$i3\\xa6\\x0btpNg\\x18[v\\x00Am\\xe4\\x1d\\xd2\\x8b;e\\x04u\\xfej\\xf6XS\\xf6A\\xf7\\x80\\x13B\\x96X\\x80\\xa3\\x9c:\\x8a{`\\xa8\\'\":!9\\x9b\\x90\\xfa\\xd34\\x03\\x803\\x0c\\r\\x08\\x90\\xce\\xe28\\x8a\\xf1\\x8f\\xd7\\x81\\x11\\xf6\\xcf\\x07\\x832s\\x8a\\xdau\\xda\\xcft\\x8a;gs6\\x8a\\x93\\xfbh\\xeb\\xc9\\xd8\\xb6m\\xd4\\xa6C\\x0c\\x9f?\\xc6o\\xdb\\xc7\\xe7a\\xd4\\xb0\\x96\\xfd\\xae\\x18\\xa02\\xe7,c\\x06\\xa8S\\xa6|P\\xd6\\x06kh:\\xca\\xeb\\x1c\\xcf\\x84~\\x89\\r\\xb5n\\xeb\\xf7\\xbd\\xab\\x81\\xaf\\xbb\\xc1\\x9b\\xe3\\xdfu\\xcf\\x1b\\xe2\\x8fP\\xe0\\x81\\x0f\\x94\\x8d\\xf1\\xcf\\xcakzw_mP\\x99\\x90\\x84\\x84d\\x11\\xc6I\\x95\\xa4\\x19I\\xb3\\xc5\\xf2\\xbdo{\\xf1\\xbe\\x0f8\\x16\\xc4\\xa9\\xf9\\x7f\\x88iEH\\xe6Oz3#\\x9e\\x01\\xe5\\x90\\xfb\\xf2S\\x94\\xdf\\x00\\x00\\x00\\xff\\xff\\x03\\x00PK\\x03\\x04\\x14\\x00\\x06\\x00\\x08\\x00\\x00\\x00!\\x00 \\xc0\\xda\\xe5\\x88\\x01\\x00\\x00\\x06\\x03\\x00\\x00\\x10\\x00\\x08\\x01docProps/app.xml \\xa2\\x04\\x01(\\xa0\\x00\\x01\\x00\\x00\\x00\\x00\\x00\\x00\\x00\\x00\\x00\\x00\\x00\\x00\\x00\\x00\\x00\\x00\\x00\\x00\\x00\\x00\\x00\\x00\\x00\\x00\\x00\\x00\\x00\\x00\\x00\\x00\\x00\\x00\\x00\\x00\\x00\\x00\\x00\\x00\\x00\\x00\\x00\\x00\\x00\\x00\\x00\\x00\\x00\\x00\\x00\\x00\\x00\\x00\\x00\\x00\\x00\\x00\\x00\\x00\\x00\\x00\\x00\\x00\\x00\\x00\\x00\\x00\\x00\\x00\\x00\\x00\\x00\\x00\\x00\\x00\\x00\\x00\\x00\\x00\\x00\\x00\\x00\\x00\\x00\\x00\\x00\\x00\\x00\\x00\\x00\\x00\\x00\\x00\\x00\\x00\\x00\\x00\\x00\\x00\\x00\\x00\\x00\\x00\\x00\\x00\\x00\\x00\\x00\\x00\\x00\\x00\\x00\\x00\\x00\\x00\\x00\\x00\\x00\\x00\\x00\\x00\\x00\\x00\\x00\\x00\\x00\\x00\\x00\\x00\\x00\\x00\\x00\\x00\\x00\\x00\\x00\\x00\\x00\\x00\\x00\\x00\\x00\\x00\\x00\\x00\\x00\\x00\\x00\\x00\\x00\\x00\\x00\\x00\\x00\\x00\\x00\\x00\\x00\\x00\\x00\\x00\\x00\\x00\\x00\\x00\\x00\\x00\\x00\\x00\\x00\\x00\\x00\\x00\\x00\\x00\\x00\\x00\\x00\\x00\\x00\\x00\\x00\\x00\\x00\\x00\\x00\\x00\\x00\\x00\\x00\\x00\\x00\\x00\\x00\\x00\\x00\\x00\\x00\\x00\\x00\\x00\\x00\\x00\\x00\\x00\\x00\\x00\\x00\\x00\\x00\\x00\\x00\\x00\\x00\\x00\\x00\\x00\\x00\\x00\\x00\\x00\\x00\\x00\\x00\\x00\\x00\\x00\\x00\\x00\\x00\\x00\\x00\\x00\\x00\\x00\\x00\\x00\\x00\\x00\\x00\\x00\\x00\\x00\\x00\\x00\\x00\\x00\\x00\\x00\\x00\\x00\\x00\\x00\\x00\\x00\\x00\\x00\\x9c\\x92_k\\xdb0\\x14\\xc5\\xdf\\x0b\\xfb\\x0eF\\xef\\x8d\\x9c\\xae\\x94\\x12d\\x95\\x91n\\xf4\\xa1\\xa5\\x81$\\xdd\\xe3\\xd0\\xe4\\xebXT\\x96\\x8c\\xee\\x8dI\\xf6\\xe9wm\\xd3\\xd4i\\xf7\\xb4\\xb7\\xfb\\xe7p\\xf4\\xd3\\x91\\xd4\\xdd\\xa1\\xf1Y\\x07\\t]\\x0c\\x85\\x98\\xcfr\\x91A\\xb0\\xb1taW\\x88\\xed\\xe6\\xc7\\xe5\\xad\\xc8\\x90L(\\x8d\\x8f\\x01\\nq\\x04\\x14w\\xfa\\xcb\\x85Z\\xa5\\xd8B\"\\x07\\x98\\xb1E\\xc0B\\xd4D\\xedBJ\\xb454\\x06g\\xbc\\x0e\\xbc\\xa9bj\\x0cq\\x9bv2V\\x95\\xb3p\\x1f\\xed\\xbe\\x81@\\xf2*\\xcfo$\\x1c\\x08B\\t\\xe5e{2\\x14\\xa3\\xe3\\xa2\\xa3\\xff5-\\xa3\\xed\\xf9\\xf0esl\\x19X\\xabom\\xeb\\x9d5\\xc4\\xb7\\xd4O\\xce\\xa6\\x88\\xb1\\xa2\\xec\\xfb\\xc1\\x82Wr\\xbaTL\\xb7\\x06\\xbbO\\x8e\\x8e:Wr\\xda\\xaa\\xb55\\x1e\\x96l\\xac+\\xe3\\x11\\x94|\\x1f\\xa8\\x070}h+\\xe3\\x12j\\xd5\\xd1\\xa2\\x03K1e\\xe8\\xfeplW\"\\xfbm\\x10z\\x9cBt&9\\x13\\x88\\xb1z\\xd9\\xd8\\x0c\\xb5o\\x91\\x92\\xfe\\x19\\xd3+\\xd6\\x00\\x84J\\xb2`\\x1c\\x0e\\xe5T;\\xad\\xdd\\xb5\\x9e\\x0f\\x02.\\xce\\x85\\xbd\\xc1\\x08\\xc2\\x8bs\\xc4\\x8d#\\x0f\\xf8\\\\\\xadL\\xa2\\x7f\\x10\\xcf\\xa7\\xc4\\x03\\xc3\\xc8;\\xe2<\\x19\\xef\\x7f-\\xf7H\\xb1\\xe1\\xbf\\xf3\\x89s\\xb8:\\x9f\\xf8\\xe1\\x8cG\\x17^q\\xdbn\\xe2\\xbd!x\\xcb\\xf0|\\xa8\\xd6\\xb5IPr\\xec\\xa7\\x8cO\\x03\\xf5\\xc0\\xf1%\\xdf\\x9b,k\\x13vP\\xbei>/\\xfa\\x17\\x7f\\x19\\xbf\\xb5\\x9e\\xdf\\xcc\\xf2\\xaf9?\\xe6d\\xa6\\xe4\\xfb\\x07\\xd6\\x7f\\x01\\x00\\x00\\xff\\xff\\x03\\x00PK\\x01\\x02-\\x00\\x14\\x00\\x06\\x00\\x08\\x00\\x00\\x00!\\x00b\\xee\\x9dh^\\x01\\x00\\x00\\x90\\x04\\x00\\x00\\x13\\x00\\x00\\x00\\x00\\x00\\x00\\x00\\x00\\x00\\x00\\x00\\x00\\x00\\x00\\x00\\x00\\x00[Content_Types].xmlPK\\x01\\x02-\\x00\\x14\\x00\\x06\\x00\\x08\\x00\\x00\\x00!\\x00\\xb5U0#\\xf4\\x00\\x00\\x00L\\x02\\x00\\x00\\x0b\\x00\\x00\\x00\\x00\\x00\\x00\\x00\\x00\\x00\\x00\\x00\\x00\\x00\\x97\\x03\\x00\\x00_rels/.relsPK\\x01\\x02-\\x00\\x14\\x00\\x06\\x00\\x08\\x00\\x00\\x00!\\x00\\xb0K\\xd4\\x87\\xc4\\x02\\x00\\x00\\xfc\\x05\\x00\\x00\\x0f\\x00\\x00\\x00\\x00\\x00\\x00\\x00\\x00\\x00\\x00\\x00\\x00\\x00\\xbc\\x06\\x00\\x00xl/workbook.xmlPK\\x01\\x02-\\x00\\x14\\x00\\x06\\x00\\x08\\x00\\x00\\x00!\\x00\\x81>\\x94\\x97\\xf3\\x00\\x00\\x00\\xba\\x02\\x00\\x00\\x1a\\x00\\x00\\x00\\x00\\x00\\x00\\x00\\x00\\x00\\x00\\x00\\x00\\x00\\xad\\t\\x00\\x00xl/_rels/workbook.xml.relsPK\\x01\\x02-\\x00\\x14\\x00\\x06\\x00\\x08\\x00\\x00\\x00!\\x00\\x19\\x9e\\xda\\xbf\\x8b\\x0f\\x00\\x00\\x88p\\x00\\x00\\x18\\x00\\x00\\x00\\x00\\x00\\x00\\x00\\x00\\x00\\x00\\x00\\x00\\x00\\xe0\\x0b\\x00\\x00xl/worksheets/sheet1.xmlPK\\x01\\x02-\\x00\\x14\\x00\\x06\\x00\\x08\\x00\\x00\\x00!\\x00\\xc1\\x17\\x10\\xbeN\\x07\\x00\\x00\\xc6 \\x00\\x00\\x13\\x00\\x00\\x00\\x00\\x00\\x00\\x00\\x00\\x00\\x00\\x00\\x00\\x00\\xa1\\x1b\\x00\\x00xl/theme/theme1.xmlPK\\x01\\x02-\\x00\\x14\\x00\\x06\\x00\\x08\\x00\\x00\\x00!\\x00kXy\\xb1\\xb7\\x08\\x00\\x00\\xddB\\x00\\x00\\r\\x00\\x00\\x00\\x00\\x00\\x00\\x00\\x00\\x00\\x00\\x00\\x00\\x00 #\\x00\\x00xl/styles.xmlPK\\x01\\x02-\\x00\\x14\\x00\\x06\\x00\\x08\\x00\\x00\\x00!\\x00\\x8a\\xf8\\xc1\\xca\\xbc\\x00\\x00\\x00\\xdf\\x00\\x00\\x00\\x14\\x00\\x00\\x00\\x00\\x00\\x00\\x00\\x00\\x00\\x00\\x00\\x00\\x00\\x02,\\x00\\x00xl/sharedStrings.xmlPK\\x01\\x02-\\x00\\x14\\x00\\x06\\x00\\x08\\x00\\x00\\x00!\\x00\\xd36\\x03\\xf2J\\x01\\x00\\x00a\\x02\\x00\\x00\\x11\\x00\\x00\\x00\\x00\\x00\\x00\\x00\\x00\\x00\\x00\\x00\\x00\\x00\\xf0,\\x00\\x00docProps/core.xmlPK\\x01\\x02-\\x00\\x14\\x00\\x06\\x00\\x08\\x00\\x00\\x00!\\x00 \\xc0\\xda\\xe5\\x88\\x01\\x00\\x00\\x06\\x03\\x00\\x00\\x10\\x00\\x00\\x00\\x00\\x00\\x00\\x00\\x00\\x00\\x00\\x00\\x00\\x00q/\\x00\\x00docProps/app.xmlPK\\x05\\x06\\x00\\x00\\x00\\x00\\n\\x00\\n\\x00\\x80\\x02\\x00\\x00/2\\x00\\x00\\x00\\x00'}"
            ]
          },
          "metadata": {},
          "execution_count": 4
        }
      ]
    },
    {
      "cell_type": "code",
      "source": [
        "df=pd.read_excel('Chapter4_ GIP_EUR_DataSet.xlsx')\n",
        "df.head()"
      ],
      "metadata": {
        "colab": {
          "base_uri": "https://localhost:8080/",
          "height": 206
        },
        "id": "J2nU_ilI0anM",
        "outputId": "c25f72be-c80b-46b2-feb9-60aae28b8e7b"
      },
      "execution_count": 5,
      "outputs": [
        {
          "output_type": "execute_result",
          "data": {
            "text/plain": [
              "   GIP (BCFperSection)  EURper1000ft\n",
              "0                 49.5      1.710526\n",
              "1                 49.5      3.552632\n",
              "2                 52.8      0.263158\n",
              "3                 52.8      3.377193\n",
              "4                 56.1      1.754386"
            ],
            "text/html": [
              "\n",
              "  <div id=\"df-8f874f48-2437-4727-879b-4acfdd1e62c6\">\n",
              "    <div class=\"colab-df-container\">\n",
              "      <div>\n",
              "<style scoped>\n",
              "    .dataframe tbody tr th:only-of-type {\n",
              "        vertical-align: middle;\n",
              "    }\n",
              "\n",
              "    .dataframe tbody tr th {\n",
              "        vertical-align: top;\n",
              "    }\n",
              "\n",
              "    .dataframe thead th {\n",
              "        text-align: right;\n",
              "    }\n",
              "</style>\n",
              "<table border=\"1\" class=\"dataframe\">\n",
              "  <thead>\n",
              "    <tr style=\"text-align: right;\">\n",
              "      <th></th>\n",
              "      <th>GIP (BCFperSection)</th>\n",
              "      <th>EURper1000ft</th>\n",
              "    </tr>\n",
              "  </thead>\n",
              "  <tbody>\n",
              "    <tr>\n",
              "      <th>0</th>\n",
              "      <td>49.5</td>\n",
              "      <td>1.710526</td>\n",
              "    </tr>\n",
              "    <tr>\n",
              "      <th>1</th>\n",
              "      <td>49.5</td>\n",
              "      <td>3.552632</td>\n",
              "    </tr>\n",
              "    <tr>\n",
              "      <th>2</th>\n",
              "      <td>52.8</td>\n",
              "      <td>0.263158</td>\n",
              "    </tr>\n",
              "    <tr>\n",
              "      <th>3</th>\n",
              "      <td>52.8</td>\n",
              "      <td>3.377193</td>\n",
              "    </tr>\n",
              "    <tr>\n",
              "      <th>4</th>\n",
              "      <td>56.1</td>\n",
              "      <td>1.754386</td>\n",
              "    </tr>\n",
              "  </tbody>\n",
              "</table>\n",
              "</div>\n",
              "      <button class=\"colab-df-convert\" onclick=\"convertToInteractive('df-8f874f48-2437-4727-879b-4acfdd1e62c6')\"\n",
              "              title=\"Convert this dataframe to an interactive table.\"\n",
              "              style=\"display:none;\">\n",
              "        \n",
              "  <svg xmlns=\"http://www.w3.org/2000/svg\" height=\"24px\"viewBox=\"0 0 24 24\"\n",
              "       width=\"24px\">\n",
              "    <path d=\"M0 0h24v24H0V0z\" fill=\"none\"/>\n",
              "    <path d=\"M18.56 5.44l.94 2.06.94-2.06 2.06-.94-2.06-.94-.94-2.06-.94 2.06-2.06.94zm-11 1L8.5 8.5l.94-2.06 2.06-.94-2.06-.94L8.5 2.5l-.94 2.06-2.06.94zm10 10l.94 2.06.94-2.06 2.06-.94-2.06-.94-.94-2.06-.94 2.06-2.06.94z\"/><path d=\"M17.41 7.96l-1.37-1.37c-.4-.4-.92-.59-1.43-.59-.52 0-1.04.2-1.43.59L10.3 9.45l-7.72 7.72c-.78.78-.78 2.05 0 2.83L4 21.41c.39.39.9.59 1.41.59.51 0 1.02-.2 1.41-.59l7.78-7.78 2.81-2.81c.8-.78.8-2.07 0-2.86zM5.41 20L4 18.59l7.72-7.72 1.47 1.35L5.41 20z\"/>\n",
              "  </svg>\n",
              "      </button>\n",
              "      \n",
              "  <style>\n",
              "    .colab-df-container {\n",
              "      display:flex;\n",
              "      flex-wrap:wrap;\n",
              "      gap: 12px;\n",
              "    }\n",
              "\n",
              "    .colab-df-convert {\n",
              "      background-color: #E8F0FE;\n",
              "      border: none;\n",
              "      border-radius: 50%;\n",
              "      cursor: pointer;\n",
              "      display: none;\n",
              "      fill: #1967D2;\n",
              "      height: 32px;\n",
              "      padding: 0 0 0 0;\n",
              "      width: 32px;\n",
              "    }\n",
              "\n",
              "    .colab-df-convert:hover {\n",
              "      background-color: #E2EBFA;\n",
              "      box-shadow: 0px 1px 2px rgba(60, 64, 67, 0.3), 0px 1px 3px 1px rgba(60, 64, 67, 0.15);\n",
              "      fill: #174EA6;\n",
              "    }\n",
              "\n",
              "    [theme=dark] .colab-df-convert {\n",
              "      background-color: #3B4455;\n",
              "      fill: #D2E3FC;\n",
              "    }\n",
              "\n",
              "    [theme=dark] .colab-df-convert:hover {\n",
              "      background-color: #434B5C;\n",
              "      box-shadow: 0px 1px 3px 1px rgba(0, 0, 0, 0.15);\n",
              "      filter: drop-shadow(0px 1px 2px rgba(0, 0, 0, 0.3));\n",
              "      fill: #FFFFFF;\n",
              "    }\n",
              "  </style>\n",
              "\n",
              "      <script>\n",
              "        const buttonEl =\n",
              "          document.querySelector('#df-8f874f48-2437-4727-879b-4acfdd1e62c6 button.colab-df-convert');\n",
              "        buttonEl.style.display =\n",
              "          google.colab.kernel.accessAllowed ? 'block' : 'none';\n",
              "\n",
              "        async function convertToInteractive(key) {\n",
              "          const element = document.querySelector('#df-8f874f48-2437-4727-879b-4acfdd1e62c6');\n",
              "          const dataTable =\n",
              "            await google.colab.kernel.invokeFunction('convertToInteractive',\n",
              "                                                     [key], {});\n",
              "          if (!dataTable) return;\n",
              "\n",
              "          const docLinkHtml = 'Like what you see? Visit the ' +\n",
              "            '<a target=\"_blank\" href=https://colab.research.google.com/notebooks/data_table.ipynb>data table notebook</a>'\n",
              "            + ' to learn more about interactive tables.';\n",
              "          element.innerHTML = '';\n",
              "          dataTable['output_type'] = 'display_data';\n",
              "          await google.colab.output.renderOutput(dataTable, element);\n",
              "          const docLink = document.createElement('div');\n",
              "          docLink.innerHTML = docLinkHtml;\n",
              "          element.appendChild(docLink);\n",
              "        }\n",
              "      </script>\n",
              "    </div>\n",
              "  </div>\n",
              "  "
            ]
          },
          "metadata": {},
          "execution_count": 5
        }
      ]
    },
    {
      "cell_type": "code",
      "source": [
        "df.describe()"
      ],
      "metadata": {
        "colab": {
          "base_uri": "https://localhost:8080/",
          "height": 300
        },
        "id": "ml6dlP-x1OEr",
        "outputId": "da3fed1a-91f6-4bde-90ad-41d67f58cd55"
      },
      "execution_count": 6,
      "outputs": [
        {
          "output_type": "execute_result",
          "data": {
            "text/plain": [
              "       GIP (BCFperSection)  EURper1000ft\n",
              "count            200.00000    200.000000\n",
              "mean             199.84800      2.201754\n",
              "std               86.67358      1.132611\n",
              "min               49.50000      0.043860\n",
              "25%              136.95000      1.524123\n",
              "50%              202.95000      2.192982\n",
              "75%              257.40000      3.201754\n",
              "max              452.10000      4.342105"
            ],
            "text/html": [
              "\n",
              "  <div id=\"df-9ddfcbf9-6563-44c6-8143-a99ed2f175de\">\n",
              "    <div class=\"colab-df-container\">\n",
              "      <div>\n",
              "<style scoped>\n",
              "    .dataframe tbody tr th:only-of-type {\n",
              "        vertical-align: middle;\n",
              "    }\n",
              "\n",
              "    .dataframe tbody tr th {\n",
              "        vertical-align: top;\n",
              "    }\n",
              "\n",
              "    .dataframe thead th {\n",
              "        text-align: right;\n",
              "    }\n",
              "</style>\n",
              "<table border=\"1\" class=\"dataframe\">\n",
              "  <thead>\n",
              "    <tr style=\"text-align: right;\">\n",
              "      <th></th>\n",
              "      <th>GIP (BCFperSection)</th>\n",
              "      <th>EURper1000ft</th>\n",
              "    </tr>\n",
              "  </thead>\n",
              "  <tbody>\n",
              "    <tr>\n",
              "      <th>count</th>\n",
              "      <td>200.00000</td>\n",
              "      <td>200.000000</td>\n",
              "    </tr>\n",
              "    <tr>\n",
              "      <th>mean</th>\n",
              "      <td>199.84800</td>\n",
              "      <td>2.201754</td>\n",
              "    </tr>\n",
              "    <tr>\n",
              "      <th>std</th>\n",
              "      <td>86.67358</td>\n",
              "      <td>1.132611</td>\n",
              "    </tr>\n",
              "    <tr>\n",
              "      <th>min</th>\n",
              "      <td>49.50000</td>\n",
              "      <td>0.043860</td>\n",
              "    </tr>\n",
              "    <tr>\n",
              "      <th>25%</th>\n",
              "      <td>136.95000</td>\n",
              "      <td>1.524123</td>\n",
              "    </tr>\n",
              "    <tr>\n",
              "      <th>50%</th>\n",
              "      <td>202.95000</td>\n",
              "      <td>2.192982</td>\n",
              "    </tr>\n",
              "    <tr>\n",
              "      <th>75%</th>\n",
              "      <td>257.40000</td>\n",
              "      <td>3.201754</td>\n",
              "    </tr>\n",
              "    <tr>\n",
              "      <th>max</th>\n",
              "      <td>452.10000</td>\n",
              "      <td>4.342105</td>\n",
              "    </tr>\n",
              "  </tbody>\n",
              "</table>\n",
              "</div>\n",
              "      <button class=\"colab-df-convert\" onclick=\"convertToInteractive('df-9ddfcbf9-6563-44c6-8143-a99ed2f175de')\"\n",
              "              title=\"Convert this dataframe to an interactive table.\"\n",
              "              style=\"display:none;\">\n",
              "        \n",
              "  <svg xmlns=\"http://www.w3.org/2000/svg\" height=\"24px\"viewBox=\"0 0 24 24\"\n",
              "       width=\"24px\">\n",
              "    <path d=\"M0 0h24v24H0V0z\" fill=\"none\"/>\n",
              "    <path d=\"M18.56 5.44l.94 2.06.94-2.06 2.06-.94-2.06-.94-.94-2.06-.94 2.06-2.06.94zm-11 1L8.5 8.5l.94-2.06 2.06-.94-2.06-.94L8.5 2.5l-.94 2.06-2.06.94zm10 10l.94 2.06.94-2.06 2.06-.94-2.06-.94-.94-2.06-.94 2.06-2.06.94z\"/><path d=\"M17.41 7.96l-1.37-1.37c-.4-.4-.92-.59-1.43-.59-.52 0-1.04.2-1.43.59L10.3 9.45l-7.72 7.72c-.78.78-.78 2.05 0 2.83L4 21.41c.39.39.9.59 1.41.59.51 0 1.02-.2 1.41-.59l7.78-7.78 2.81-2.81c.8-.78.8-2.07 0-2.86zM5.41 20L4 18.59l7.72-7.72 1.47 1.35L5.41 20z\"/>\n",
              "  </svg>\n",
              "      </button>\n",
              "      \n",
              "  <style>\n",
              "    .colab-df-container {\n",
              "      display:flex;\n",
              "      flex-wrap:wrap;\n",
              "      gap: 12px;\n",
              "    }\n",
              "\n",
              "    .colab-df-convert {\n",
              "      background-color: #E8F0FE;\n",
              "      border: none;\n",
              "      border-radius: 50%;\n",
              "      cursor: pointer;\n",
              "      display: none;\n",
              "      fill: #1967D2;\n",
              "      height: 32px;\n",
              "      padding: 0 0 0 0;\n",
              "      width: 32px;\n",
              "    }\n",
              "\n",
              "    .colab-df-convert:hover {\n",
              "      background-color: #E2EBFA;\n",
              "      box-shadow: 0px 1px 2px rgba(60, 64, 67, 0.3), 0px 1px 3px 1px rgba(60, 64, 67, 0.15);\n",
              "      fill: #174EA6;\n",
              "    }\n",
              "\n",
              "    [theme=dark] .colab-df-convert {\n",
              "      background-color: #3B4455;\n",
              "      fill: #D2E3FC;\n",
              "    }\n",
              "\n",
              "    [theme=dark] .colab-df-convert:hover {\n",
              "      background-color: #434B5C;\n",
              "      box-shadow: 0px 1px 3px 1px rgba(0, 0, 0, 0.15);\n",
              "      filter: drop-shadow(0px 1px 2px rgba(0, 0, 0, 0.3));\n",
              "      fill: #FFFFFF;\n",
              "    }\n",
              "  </style>\n",
              "\n",
              "      <script>\n",
              "        const buttonEl =\n",
              "          document.querySelector('#df-9ddfcbf9-6563-44c6-8143-a99ed2f175de button.colab-df-convert');\n",
              "        buttonEl.style.display =\n",
              "          google.colab.kernel.accessAllowed ? 'block' : 'none';\n",
              "\n",
              "        async function convertToInteractive(key) {\n",
              "          const element = document.querySelector('#df-9ddfcbf9-6563-44c6-8143-a99ed2f175de');\n",
              "          const dataTable =\n",
              "            await google.colab.kernel.invokeFunction('convertToInteractive',\n",
              "                                                     [key], {});\n",
              "          if (!dataTable) return;\n",
              "\n",
              "          const docLinkHtml = 'Like what you see? Visit the ' +\n",
              "            '<a target=\"_blank\" href=https://colab.research.google.com/notebooks/data_table.ipynb>data table notebook</a>'\n",
              "            + ' to learn more about interactive tables.';\n",
              "          element.innerHTML = '';\n",
              "          dataTable['output_type'] = 'display_data';\n",
              "          await google.colab.output.renderOutput(dataTable, element);\n",
              "          const docLink = document.createElement('div');\n",
              "          docLink.innerHTML = docLinkHtml;\n",
              "          element.appendChild(docLink);\n",
              "        }\n",
              "      </script>\n",
              "    </div>\n",
              "  </div>\n",
              "  "
            ]
          },
          "metadata": {},
          "execution_count": 6
        }
      ]
    },
    {
      "cell_type": "code",
      "source": [
        "#in this case, we should standardized our data inorder to have accurate results (since there is large difference in numbers of both columns compared)\n"
      ],
      "metadata": {
        "id": "-u7RgrHF1c9-"
      },
      "execution_count": 7,
      "outputs": []
    },
    {
      "cell_type": "code",
      "source": [
        "from sklearn.preprocessing import StandardScaler\n",
        "scaler=StandardScaler()\n",
        "df_scaled=scaler.fit_transform(df)\n"
      ],
      "metadata": {
        "id": "ZpI5ZOE717cc"
      },
      "execution_count": 8,
      "outputs": []
    },
    {
      "cell_type": "markdown",
      "source": [
        "\"ward\" minimizes the variance of the\n",
        "clusters being merged. \n",
        "\n",
        "\"average\" uses the average of the distances of each\n",
        "observation of the two sets. \n",
        "\n",
        "\"complete\" or \"maximum\" linkage uses the\n",
        "maximum distances between all observations of the two sets. \n",
        "\n",
        "\"single\" uses the\n",
        "minimum of the distances between all observations of the two sets. The default\n",
        "linkage of \"ward\" was used in this example."
      ],
      "metadata": {
        "id": "zc6W1Dth7-ah"
      }
    },
    {
      "cell_type": "code",
      "source": [
        "#Like other clustering methods, Ward's method starts with n clusters, each containing a single object. These n clusters are combined to make one cluster containing all objects. At each step, the process makes a new cluster that minimizes variance, measured by an index called E (also called the sum of squares index)\n",
        "\n",
        "#here we need to use dendrogram to determine clusters needed \n",
        "plt.figure(figsize=(15, 8))\n",
        "import scipy.cluster.hierarchy as shc \n",
        "dend=shc.dendrogram(shc.linkage(df_scaled, method='ward'))\n",
        "plt.title('dendrogram')\n",
        "plt.xlabel('samples')\n",
        "plt.ylabel('distance')"
      ],
      "metadata": {
        "colab": {
          "base_uri": "https://localhost:8080/",
          "height": 529
        },
        "id": "X2erlUWs2Qt4",
        "outputId": "fb24b9f4-2461-4948-cf3a-f9ae1b8efeec"
      },
      "execution_count": 9,
      "outputs": [
        {
          "output_type": "execute_result",
          "data": {
            "text/plain": [
              "Text(0, 0.5, 'distance')"
            ]
          },
          "metadata": {},
          "execution_count": 9
        },
        {
          "output_type": "display_data",
          "data": {
            "text/plain": [
              "<Figure size 1080x576 with 1 Axes>"
            ],
            "image/png": "[encoded data removed]"
          },
          "metadata": {
            "needs_background": "light"
          }
        }
      ]
    },
    {
      "cell_type": "code",
      "source": [
        "# now we apply agglomerative clustering\n",
        "\n",
        "from sklearn.cluster import AgglomerativeClustering \n",
        "HC=AgglomerativeClustering(5)\n",
        "HC=HC.fit_predict(df_scaled)\n",
        "HC"
      ],
      "metadata": {
        "colab": {
          "base_uri": "https://localhost:8080/"
        },
        "id": "Vn6Ivdr26R8x",
        "outputId": "07e40d05-6dc3-4421-9bb0-681c81b26af4"
      },
      "execution_count": 10,
      "outputs": [
        {
          "output_type": "execute_result",
          "data": {
            "text/plain": [
              "array([4, 3, 4, 3, 4, 3, 4, 3, 4, 3, 4, 3, 4, 3, 4, 3, 4, 3, 4, 3, 4, 3,\n",
              "       4, 3, 4, 3, 4, 3, 4, 3, 4, 3, 4, 3, 4, 3, 4, 3, 4, 3, 4, 3, 4, 2,\n",
              "       4, 2, 2, 2, 2, 2, 2, 2, 2, 2, 2, 2, 2, 2, 2, 2, 2, 2, 2, 2, 2, 2,\n",
              "       2, 2, 2, 2, 2, 2, 2, 2, 2, 2, 2, 2, 2, 2, 2, 2, 2, 2, 2, 2, 2, 2,\n",
              "       2, 2, 2, 2, 2, 2, 2, 2, 2, 2, 2, 2, 2, 2, 2, 2, 2, 2, 2, 2, 2, 2,\n",
              "       2, 2, 2, 2, 2, 2, 2, 2, 2, 2, 2, 2, 2, 1, 2, 1, 2, 1, 0, 1, 0, 1,\n",
              "       2, 1, 0, 1, 0, 1, 0, 1, 0, 1, 2, 1, 0, 1, 2, 1, 0, 1, 0, 1, 0, 1,\n",
              "       0, 1, 0, 1, 0, 1, 2, 1, 0, 1, 0, 1, 0, 1, 0, 1, 0, 1, 0, 1, 0, 1,\n",
              "       0, 1, 0, 1, 0, 1, 0, 1, 0, 1, 0, 1, 0, 1, 0, 1, 0, 1, 0, 1, 0, 1,\n",
              "       0, 1])"
            ]
          },
          "metadata": {},
          "execution_count": 10
        }
      ]
    },
    {
      "cell_type": "code",
      "source": [
        "#convert the scaled df to dataframe\n",
        "#add a new column with HC\n",
        "\n",
        "df_new=pd.DataFrame(df_scaled, columns=['GIP(BCFperSection)', 'EUR/1000ft'])\n",
        "df_new['clusters']=HC\n",
        "df_new"
      ],
      "metadata": {
        "colab": {
          "base_uri": "https://localhost:8080/",
          "height": 423
        },
        "id": "Bh0z2mat9407",
        "outputId": "61b711b0-6674-46a1-bb47-34bce4af4aba"
      },
      "execution_count": 11,
      "outputs": [
        {
          "output_type": "execute_result",
          "data": {
            "text/plain": [
              "     GIP(BCFperSection)  EUR/1000ft  clusters\n",
              "0             -1.738999   -0.434801         4\n",
              "1             -1.738999    1.195704         3\n",
              "2             -1.700830   -1.715913         4\n",
              "3             -1.700830    1.040418         3\n",
              "4             -1.662660   -0.395980         4\n",
              "..                  ...         ...       ...\n",
              "195            2.268791    1.118061         1\n",
              "196            2.497807   -0.861839         0\n",
              "197            2.497807    0.923953         1\n",
              "198            2.917671   -1.250054         0\n",
              "199            2.917671    1.273347         1\n",
              "\n",
              "[200 rows x 3 columns]"
            ],
            "text/html": [
              "\n",
              "  <div id=\"df-b2843566-6ef0-4c48-8bd6-738a3fc2a20a\">\n",
              "    <div class=\"colab-df-container\">\n",
              "      <div>\n",
              "<style scoped>\n",
              "    .dataframe tbody tr th:only-of-type {\n",
              "        vertical-align: middle;\n",
              "    }\n",
              "\n",
              "    .dataframe tbody tr th {\n",
              "        vertical-align: top;\n",
              "    }\n",
              "\n",
              "    .dataframe thead th {\n",
              "        text-align: right;\n",
              "    }\n",
              "</style>\n",
              "<table border=\"1\" class=\"dataframe\">\n",
              "  <thead>\n",
              "    <tr style=\"text-align: right;\">\n",
              "      <th></th>\n",
              "      <th>GIP(BCFperSection)</th>\n",
              "      <th>EUR/1000ft</th>\n",
              "      <th>clusters</th>\n",
              "    </tr>\n",
              "  </thead>\n",
              "  <tbody>\n",
              "    <tr>\n",
              "      <th>0</th>\n",
              "      <td>-1.738999</td>\n",
              "      <td>-0.434801</td>\n",
              "      <td>4</td>\n",
              "    </tr>\n",
              "    <tr>\n",
              "      <th>1</th>\n",
              "      <td>-1.738999</td>\n",
              "      <td>1.195704</td>\n",
              "      <td>3</td>\n",
              "    </tr>\n",
              "    <tr>\n",
              "      <th>2</th>\n",
              "      <td>-1.700830</td>\n",
              "      <td>-1.715913</td>\n",
              "      <td>4</td>\n",
              "    </tr>\n",
              "    <tr>\n",
              "      <th>3</th>\n",
              "      <td>-1.700830</td>\n",
              "      <td>1.040418</td>\n",
              "      <td>3</td>\n",
              "    </tr>\n",
              "    <tr>\n",
              "      <th>4</th>\n",
              "      <td>-1.662660</td>\n",
              "      <td>-0.395980</td>\n",
              "      <td>4</td>\n",
              "    </tr>\n",
              "    <tr>\n",
              "      <th>...</th>\n",
              "      <td>...</td>\n",
              "      <td>...</td>\n",
              "      <td>...</td>\n",
              "    </tr>\n",
              "    <tr>\n",
              "      <th>195</th>\n",
              "      <td>2.268791</td>\n",
              "      <td>1.118061</td>\n",
              "      <td>1</td>\n",
              "    </tr>\n",
              "    <tr>\n",
              "      <th>196</th>\n",
              "      <td>2.497807</td>\n",
              "      <td>-0.861839</td>\n",
              "      <td>0</td>\n",
              "    </tr>\n",
              "    <tr>\n",
              "      <th>197</th>\n",
              "      <td>2.497807</td>\n",
              "      <td>0.923953</td>\n",
              "      <td>1</td>\n",
              "    </tr>\n",
              "    <tr>\n",
              "      <th>198</th>\n",
              "      <td>2.917671</td>\n",
              "      <td>-1.250054</td>\n",
              "      <td>0</td>\n",
              "    </tr>\n",
              "    <tr>\n",
              "      <th>199</th>\n",
              "      <td>2.917671</td>\n",
              "      <td>1.273347</td>\n",
              "      <td>1</td>\n",
              "    </tr>\n",
              "  </tbody>\n",
              "</table>\n",
              "<p>200 rows × 3 columns</p>\n",
              "</div>\n",
              "      <button class=\"colab-df-convert\" onclick=\"convertToInteractive('df-b2843566-6ef0-4c48-8bd6-738a3fc2a20a')\"\n",
              "              title=\"Convert this dataframe to an interactive table.\"\n",
              "              style=\"display:none;\">\n",
              "        \n",
              "  <svg xmlns=\"http://www.w3.org/2000/svg\" height=\"24px\"viewBox=\"0 0 24 24\"\n",
              "       width=\"24px\">\n",
              "    <path d=\"M0 0h24v24H0V0z\" fill=\"none\"/>\n",
              "    <path d=\"M18.56 5.44l.94 2.06.94-2.06 2.06-.94-2.06-.94-.94-2.06-.94 2.06-2.06.94zm-11 1L8.5 8.5l.94-2.06 2.06-.94-2.06-.94L8.5 2.5l-.94 2.06-2.06.94zm10 10l.94 2.06.94-2.06 2.06-.94-2.06-.94-.94-2.06-.94 2.06-2.06.94z\"/><path d=\"M17.41 7.96l-1.37-1.37c-.4-.4-.92-.59-1.43-.59-.52 0-1.04.2-1.43.59L10.3 9.45l-7.72 7.72c-.78.78-.78 2.05 0 2.83L4 21.41c.39.39.9.59 1.41.59.51 0 1.02-.2 1.41-.59l7.78-7.78 2.81-2.81c.8-.78.8-2.07 0-2.86zM5.41 20L4 18.59l7.72-7.72 1.47 1.35L5.41 20z\"/>\n",
              "  </svg>\n",
              "      </button>\n",
              "      \n",
              "  <style>\n",
              "    .colab-df-container {\n",
              "      display:flex;\n",
              "      flex-wrap:wrap;\n",
              "      gap: 12px;\n",
              "    }\n",
              "\n",
              "    .colab-df-convert {\n",
              "      background-color: #E8F0FE;\n",
              "      border: none;\n",
              "      border-radius: 50%;\n",
              "      cursor: pointer;\n",
              "      display: none;\n",
              "      fill: #1967D2;\n",
              "      height: 32px;\n",
              "      padding: 0 0 0 0;\n",
              "      width: 32px;\n",
              "    }\n",
              "\n",
              "    .colab-df-convert:hover {\n",
              "      background-color: #E2EBFA;\n",
              "      box-shadow: 0px 1px 2px rgba(60, 64, 67, 0.3), 0px 1px 3px 1px rgba(60, 64, 67, 0.15);\n",
              "      fill: #174EA6;\n",
              "    }\n",
              "\n",
              "    [theme=dark] .colab-df-convert {\n",
              "      background-color: #3B4455;\n",
              "      fill: #D2E3FC;\n",
              "    }\n",
              "\n",
              "    [theme=dark] .colab-df-convert:hover {\n",
              "      background-color: #434B5C;\n",
              "      box-shadow: 0px 1px 3px 1px rgba(0, 0, 0, 0.15);\n",
              "      filter: drop-shadow(0px 1px 2px rgba(0, 0, 0, 0.3));\n",
              "      fill: #FFFFFF;\n",
              "    }\n",
              "  </style>\n",
              "\n",
              "      <script>\n",
              "        const buttonEl =\n",
              "          document.querySelector('#df-b2843566-6ef0-4c48-8bd6-738a3fc2a20a button.colab-df-convert');\n",
              "        buttonEl.style.display =\n",
              "          google.colab.kernel.accessAllowed ? 'block' : 'none';\n",
              "\n",
              "        async function convertToInteractive(key) {\n",
              "          const element = document.querySelector('#df-b2843566-6ef0-4c48-8bd6-738a3fc2a20a');\n",
              "          const dataTable =\n",
              "            await google.colab.kernel.invokeFunction('convertToInteractive',\n",
              "                                                     [key], {});\n",
              "          if (!dataTable) return;\n",
              "\n",
              "          const docLinkHtml = 'Like what you see? Visit the ' +\n",
              "            '<a target=\"_blank\" href=https://colab.research.google.com/notebooks/data_table.ipynb>data table notebook</a>'\n",
              "            + ' to learn more about interactive tables.';\n",
              "          element.innerHTML = '';\n",
              "          dataTable['output_type'] = 'display_data';\n",
              "          await google.colab.output.renderOutput(dataTable, element);\n",
              "          const docLink = document.createElement('div');\n",
              "          docLink.innerHTML = docLinkHtml;\n",
              "          element.appendChild(docLink);\n",
              "        }\n",
              "      </script>\n",
              "    </div>\n",
              "  </div>\n",
              "  "
            ]
          },
          "metadata": {},
          "execution_count": 11
        }
      ]
    },
    {
      "cell_type": "code",
      "source": [
        "#using K Means \n",
        "from sklearn.cluster import KMeans\n",
        "from yellowbrick.cluster import SilhouetteVisualizer\n",
        "fig, ax=plt.subplots(2,2)\n",
        "for i in [2,3,4,5]:\n",
        "  km=KMeans(i)\n",
        "  q,mod=divmod(i,2)\n",
        "  visualizer=SilhouetteVisualizer(km,ax=ax[q-1,mod], colors='yellowbrick')\n",
        "  ax[q-1,mod].set_title(i)\n",
        "  visualizer.fit(df_new)\n",
        "\n",
        "plt.tight_layout()"
      ],
      "metadata": {
        "colab": {
          "base_uri": "https://localhost:8080/",
          "height": 401
        },
        "id": "Ih8b7ORD_S8N",
        "outputId": "eebdd089-9422-465a-87e3-a4053191b025"
      },
      "execution_count": 12,
      "outputs": [
        {
          "output_type": "display_data",
          "data": {
            "text/plain": [
              "<Figure size 576x396 with 4 Axes>"
            ],
            "image/png": "[encoded data removed]"
          },
          "metadata": {}
        }
      ]
    },
    {
      "cell_type": "code",
      "source": [
        "# see the score for 1 cluster \n",
        "from sklearn.metrics import silhouette_samples, silhouette_score\n",
        "km=KMeans(5)\n",
        "km.fit_predict(df_new)\n",
        "score=silhouette_score(df_new,km.labels_, metric='euclidean')\n",
        "score\n"
      ],
      "metadata": {
        "colab": {
          "base_uri": "https://localhost:8080/"
        },
        "id": "iry5cXzUVK6h",
        "outputId": "1963766b-38ea-4bef-af7c-3bf9a7b01de8"
      },
      "execution_count": 14,
      "outputs": [
        {
          "output_type": "execute_result",
          "data": {
            "text/plain": [
              "0.6683754206366562"
            ]
          },
          "metadata": {},
          "execution_count": 14
        }
      ]
    },
    {
      "cell_type": "code",
      "source": [
        "#################################################"
      ],
      "metadata": {
        "id": "IgKWJxTWV4vM"
      },
      "execution_count": null,
      "outputs": []
    },
    {
      "cell_type": "code",
      "source": [
        "#Silhouette method to get the score\n",
        "#for visualizing the whole 5 clusters we use the following \n"
      ],
      "metadata": {
        "id": "fvimISJkCyIg"
      },
      "execution_count": null,
      "outputs": []
    },
    {
      "cell_type": "code",
      "source": [
        "\n",
        "cluster_labels=np.unique(HC)\n",
        "silhouette_vals=silhouette_samples(df_new, HC)\n",
        "ylow=yupp=0\n",
        "yticks=[]\n",
        "for i, c in enumerate(cluster_labels):\n",
        "  c_silh_vals=silhouette_vals[HC==c]\n",
        "  c_silh_vals.sort()\n",
        "  \n",
        "  yupp+=len(c_silh_vals)\n",
        "  plt.barh(range(ylow,yupp), c_silh_vals, height=1)\n",
        "  yticks.append((ylow+yupp)/2)\n",
        "  ylow+=len(c_silh_vals)\n",
        "\n",
        "silhouette_avg=np.mean(silhouette_vals)\n",
        "plt.axvline(silhouette_avg, color='blue', linestyle='--')\n",
        "plt.title('Silhouette coefficient after applying hierarchical clustering.')\n",
        "plt.xlabel('Silhouette coeffecient')\n",
        "plt.yticks(yticks,cluster_labels+1)\n",
        "plt.ylabel('clusters')"
      ],
      "metadata": {
        "colab": {
          "base_uri": "https://localhost:8080/",
          "height": 393
        },
        "id": "nh9j2okMD8Hs",
        "outputId": "53868d79-bee3-40d4-c341-4bc7d420c12a"
      },
      "execution_count": 15,
      "outputs": [
        {
          "output_type": "execute_result",
          "data": {
            "text/plain": [
              "Text(0, 0.5, 'clusters')"
            ]
          },
          "metadata": {},
          "execution_count": 15
        },
        {
          "output_type": "display_data",
          "data": {
            "text/plain": [
              "<Figure size 576x396 with 1 Axes>"
            ],
            "image/png": "[encoded data removed]"
          },
          "metadata": {}
        }
      ]
    },
    {
      "cell_type": "code",
      "source": [
        "#assign centroids to clusters\n",
        "KM=km.cluster_centers_\n",
        "sns.scatterplot(x=df_new['EUR/1000ft'],y=df_new['GIP(BCFperSection)'], hue=df_new['clusters'])\n",
        "plt.scatter(KM[:, 0], KM[:, 1], marker='+', color='red', linewidth=4)\n",
        "plt.legend()"
      ],
      "metadata": {
        "colab": {
          "base_uri": "https://localhost:8080/",
          "height": 378
        },
        "id": "xi1uVRykSs0N",
        "outputId": "fde8961c-5523-4323-aed2-1552ffccdf60"
      },
      "execution_count": 16,
      "outputs": [
        {
          "output_type": "execute_result",
          "data": {
            "text/plain": [
              "<matplotlib.legend.Legend at 0x7ff1408c4a10>"
            ]
          },
          "metadata": {},
          "execution_count": 16
        },
        {
          "output_type": "display_data",
          "data": {
            "text/plain": [
              "<Figure size 576x396 with 1 Axes>"
            ],
            "image/png": "[encoded data removed]"
          },
          "metadata": {}
        }
      ]
    },
    {
      "cell_type": "code",
      "source": [
        "#to see each each cluster and its mean values \n",
        "df_new.groupby(by='clusters').count()"
      ],
      "metadata": {
        "colab": {
          "base_uri": "https://localhost:8080/",
          "height": 238
        },
        "id": "S-Ij63IQWexC",
        "outputId": "494dd2be-051f-4d82-b4ec-f370d541b0f7"
      },
      "execution_count": 17,
      "outputs": [
        {
          "output_type": "execute_result",
          "data": {
            "text/plain": [
              "          GIP(BCFperSection)  EUR/1000ft\n",
              "clusters                                \n",
              "0                         32          32\n",
              "1                         39          39\n",
              "2                         85          85\n",
              "3                         21          21\n",
              "4                         23          23"
            ],
            "text/html": [
              "\n",
              "  <div id=\"df-390a0152-37db-4555-81b3-fdc3685ee427\">\n",
              "    <div class=\"colab-df-container\">\n",
              "      <div>\n",
              "<style scoped>\n",
              "    .dataframe tbody tr th:only-of-type {\n",
              "        vertical-align: middle;\n",
              "    }\n",
              "\n",
              "    .dataframe tbody tr th {\n",
              "        vertical-align: top;\n",
              "    }\n",
              "\n",
              "    .dataframe thead th {\n",
              "        text-align: right;\n",
              "    }\n",
              "</style>\n",
              "<table border=\"1\" class=\"dataframe\">\n",
              "  <thead>\n",
              "    <tr style=\"text-align: right;\">\n",
              "      <th></th>\n",
              "      <th>GIP(BCFperSection)</th>\n",
              "      <th>EUR/1000ft</th>\n",
              "    </tr>\n",
              "    <tr>\n",
              "      <th>clusters</th>\n",
              "      <th></th>\n",
              "      <th></th>\n",
              "    </tr>\n",
              "  </thead>\n",
              "  <tbody>\n",
              "    <tr>\n",
              "      <th>0</th>\n",
              "      <td>32</td>\n",
              "      <td>32</td>\n",
              "    </tr>\n",
              "    <tr>\n",
              "      <th>1</th>\n",
              "      <td>39</td>\n",
              "      <td>39</td>\n",
              "    </tr>\n",
              "    <tr>\n",
              "      <th>2</th>\n",
              "      <td>85</td>\n",
              "      <td>85</td>\n",
              "    </tr>\n",
              "    <tr>\n",
              "      <th>3</th>\n",
              "      <td>21</td>\n",
              "      <td>21</td>\n",
              "    </tr>\n",
              "    <tr>\n",
              "      <th>4</th>\n",
              "      <td>23</td>\n",
              "      <td>23</td>\n",
              "    </tr>\n",
              "  </tbody>\n",
              "</table>\n",
              "</div>\n",
              "      <button class=\"colab-df-convert\" onclick=\"convertToInteractive('df-390a0152-37db-4555-81b3-fdc3685ee427')\"\n",
              "              title=\"Convert this dataframe to an interactive table.\"\n",
              "              style=\"display:none;\">\n",
              "        \n",
              "  <svg xmlns=\"http://www.w3.org/2000/svg\" height=\"24px\"viewBox=\"0 0 24 24\"\n",
              "       width=\"24px\">\n",
              "    <path d=\"M0 0h24v24H0V0z\" fill=\"none\"/>\n",
              "    <path d=\"M18.56 5.44l.94 2.06.94-2.06 2.06-.94-2.06-.94-.94-2.06-.94 2.06-2.06.94zm-11 1L8.5 8.5l.94-2.06 2.06-.94-2.06-.94L8.5 2.5l-.94 2.06-2.06.94zm10 10l.94 2.06.94-2.06 2.06-.94-2.06-.94-.94-2.06-.94 2.06-2.06.94z\"/><path d=\"M17.41 7.96l-1.37-1.37c-.4-.4-.92-.59-1.43-.59-.52 0-1.04.2-1.43.59L10.3 9.45l-7.72 7.72c-.78.78-.78 2.05 0 2.83L4 21.41c.39.39.9.59 1.41.59.51 0 1.02-.2 1.41-.59l7.78-7.78 2.81-2.81c.8-.78.8-2.07 0-2.86zM5.41 20L4 18.59l7.72-7.72 1.47 1.35L5.41 20z\"/>\n",
              "  </svg>\n",
              "      </button>\n",
              "      \n",
              "  <style>\n",
              "    .colab-df-container {\n",
              "      display:flex;\n",
              "      flex-wrap:wrap;\n",
              "      gap: 12px;\n",
              "    }\n",
              "\n",
              "    .colab-df-convert {\n",
              "      background-color: #E8F0FE;\n",
              "      border: none;\n",
              "      border-radius: 50%;\n",
              "      cursor: pointer;\n",
              "      display: none;\n",
              "      fill: #1967D2;\n",
              "      height: 32px;\n",
              "      padding: 0 0 0 0;\n",
              "      width: 32px;\n",
              "    }\n",
              "\n",
              "    .colab-df-convert:hover {\n",
              "      background-color: #E2EBFA;\n",
              "      box-shadow: 0px 1px 2px rgba(60, 64, 67, 0.3), 0px 1px 3px 1px rgba(60, 64, 67, 0.15);\n",
              "      fill: #174EA6;\n",
              "    }\n",
              "\n",
              "    [theme=dark] .colab-df-convert {\n",
              "      background-color: #3B4455;\n",
              "      fill: #D2E3FC;\n",
              "    }\n",
              "\n",
              "    [theme=dark] .colab-df-convert:hover {\n",
              "      background-color: #434B5C;\n",
              "      box-shadow: 0px 1px 3px 1px rgba(0, 0, 0, 0.15);\n",
              "      filter: drop-shadow(0px 1px 2px rgba(0, 0, 0, 0.3));\n",
              "      fill: #FFFFFF;\n",
              "    }\n",
              "  </style>\n",
              "\n",
              "      <script>\n",
              "        const buttonEl =\n",
              "          document.querySelector('#df-390a0152-37db-4555-81b3-fdc3685ee427 button.colab-df-convert');\n",
              "        buttonEl.style.display =\n",
              "          google.colab.kernel.accessAllowed ? 'block' : 'none';\n",
              "\n",
              "        async function convertToInteractive(key) {\n",
              "          const element = document.querySelector('#df-390a0152-37db-4555-81b3-fdc3685ee427');\n",
              "          const dataTable =\n",
              "            await google.colab.kernel.invokeFunction('convertToInteractive',\n",
              "                                                     [key], {});\n",
              "          if (!dataTable) return;\n",
              "\n",
              "          const docLinkHtml = 'Like what you see? Visit the ' +\n",
              "            '<a target=\"_blank\" href=https://colab.research.google.com/notebooks/data_table.ipynb>data table notebook</a>'\n",
              "            + ' to learn more about interactive tables.';\n",
              "          element.innerHTML = '';\n",
              "          dataTable['output_type'] = 'display_data';\n",
              "          await google.colab.output.renderOutput(dataTable, element);\n",
              "          const docLink = document.createElement('div');\n",
              "          docLink.innerHTML = docLinkHtml;\n",
              "          element.appendChild(docLink);\n",
              "        }\n",
              "      </script>\n",
              "    </div>\n",
              "  </div>\n",
              "  "
            ]
          },
          "metadata": {},
          "execution_count": 17
        }
      ]
    },
    {
      "cell_type": "code",
      "source": [
        ""
      ],
      "metadata": {
        "id": "oNi-uRqhtxAZ"
      },
      "execution_count": 17,
      "outputs": []
    }
  ]
}