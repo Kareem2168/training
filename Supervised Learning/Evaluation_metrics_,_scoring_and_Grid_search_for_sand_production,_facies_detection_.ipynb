{
  "nbformat": 4,
  "nbformat_minor": 0,
  "metadata": {
    "colab": {
      "name": "Evaluation metrics , scoring  and Grid search for sand production, facies detection  -",
      "provenance": [],
      "collapsed_sections": []
    },
    "kernelspec": {
      "name": "python3",
      "display_name": "Python 3"
    },
    "language_info": {
      "name": "python"
    }
  },
  "cells": [
    {
      "cell_type": "markdown",
      "source": [
        "In this notebook, I will be talking about different scoring and evaluation metrics used in ML as well as grid search optimization for better hyperparameters selection\n",
        "\n",
        "datasets from oil and gas industry  will be used to detect sand production wells as well as facies classification"
      ],
      "metadata": {
        "id": "2K15ab6mOUet"
      }
    },
    {
      "cell_type": "markdown",
      "source": [
        "# binary classification: sand production\n",
        "\n",
        "*sand production which is considered to\n",
        "be 1 if sand production occurred and 0 if sand was not produced from a well*"
      ],
      "metadata": {
        "id": "vSecd__rPfcQ"
      }
    },
    {
      "cell_type": "code",
      "execution_count": 1,
      "metadata": {
        "id": "dROywXrFRo0k"
      },
      "outputs": [],
      "source": [
        "import numpy as np\n",
        "import pandas as pd\n",
        "import matplotlib.pyplot as plt\n",
        "import seaborn as sns"
      ]
    },
    {
      "cell_type": "code",
      "source": [
        "from google.colab import files\n",
        "files.upload()"
      ],
      "metadata": {
        "colab": {
          "resources": {
            "http://localhost:8080/nbextensions/google.colab/files.js": {
              "data": "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",
              "ok": true,
              "headers": [
                [
                  "content-type",
                  "application/javascript"
                ]
              ],
              "status": 200,
              "status_text": ""
            }
          },
          "base_uri": "https://localhost:8080/",
          "height": 111
        },
        "id": "4BGQvbb0CkvP",
        "outputId": "53d3c09f-0c8d-4aaa-ead7-97c536a3f338"
      },
      "execution_count": 2,
      "outputs": [
        {
          "output_type": "display_data",
          "data": {
            "text/plain": [
              "<IPython.core.display.HTML object>"
            ],
            "text/html": [
              "\n",
              "     <input type=\"file\" id=\"files-baff51db-fd18-4757-a8f1-4aa608bfc0ad\" name=\"files[]\" multiple disabled\n",
              "        style=\"border:none\" />\n",
              "     <output id=\"result-baff51db-fd18-4757-a8f1-4aa608bfc0ad\">\n",
              "      Upload widget is only available when the cell has been executed in the\n",
              "      current browser session. Please rerun this cell to enable.\n",
              "      </output>\n",
              "      <script src=\"/nbextensions/google.colab/files.js\"></script> "
            ]
          },
          "metadata": {}
        },
        {
          "output_type": "stream",
          "name": "stdout",
          "text": [
            "Saving Chapter7_Sand Production.csv to Chapter7_Sand Production.csv\n"
          ]
        },
        {
          "output_type": "execute_result",
          "data": {
            "text/plain": [
              "{'Chapter7_Sand Production.csv': b'No,TVD,TT,COH,Qg,Qw,BHFP,DD,EOVS,SPF,Hperf,Sand Production Observed\\r\\n1,319,105,22,42.3,5672,133.2,27.8,651,4,14,1\\r\\n2,3182,105,21.9,51.2,68,140.4,16.6,642,4,16,1\\r\\n3,3366,100,24.7,66.9,157,156.2,18.9,601,4,6,1\\r\\n4,3647,100,29.6,80.6,85,153.8,57.8,670,8,20,1\\r\\n5,4548,85,53.2,48,886,209.1,58.9,823,4,18,1\\r\\n6,4088,85,39.5,72.7,116,147,44,781,2,17,1\\r\\n7,2100,115,10.8,28.5,724,160.1,8.9,300,4,15.5,1\\r\\n8,1930,132,9.7,27.5,695,175.5,11.2,245,4,11.5,1\\r\\n9,2139,112,11.1,36.8,280,185.5,6.1,283,4,10.5,1\\r\\n10,2380,110,13,23,42,113,47.4,413,6,11,1\\r\\n11,1122,150,5.7,108,0,107,8,115,12,10.5,1\\r\\n12,1340,130,6.6,51,52,126.6,14.4,140,12,6.5,1\\r\\n13,1070,170,5.5,82,70,103.8,0.7,111,4,9,1\\r\\n14,1920,130,9.6,111,0,248,82,153,4,9,1\\r\\n15,2530,100,14.3,58,68,302.2,97.8,242,4,4.5,1\\r\\n16,1640,145,8,94,1260,189,46.8,150,12,10,1\\r\\n17,2130,120,11,86,112,268.3,31.7,179,4,3.5,1\\r\\n18,3655,100,19.8,69.8,1780,287.6,9.1,553,4,21,1\\r\\n19,3668,100,30,75.8,150,272.3,9.2,571,4,21,1\\r\\n20,1503,125,7.3,139.5,35,152.3,2.2,177,4,11.5,1\\r\\n21,3170,100,21.7,48,2823,222.1,6.4,485,4,16,1\\r\\n22,3197,95,22.1,73,273,184.6,48.6,535,2,12,0\\r\\n23,3230,105,22.6,117,68,210,10,517,27,4,0\\r\\n24,3684,95,30.3,108.7,36,266.6,59.7,581,1,12,0\\r\\n25,3005,93,19.5,55,91,67,1,615,33,4,0\\r\\n26,3790,85,32.5,93.4,77,217.2,124.4,654,8.5,12,0\\r\\n27,2750,98,16.5,125.8,75,251.8,3,372,8.5,4,0\\r\\n28,2983,98,19.2,48,28,102,6.1,581,12,4,0\\r\\n29,3175,100,21.8,30.3,1.698,216.1,17.1,492,20,4,0\\r\\n'}"
            ]
          },
          "metadata": {},
          "execution_count": 2
        }
      ]
    },
    {
      "cell_type": "code",
      "source": [
        "df=pd.read_csv('Chapter7_Sand Production.csv')\n",
        "df.head()"
      ],
      "metadata": {
        "colab": {
          "base_uri": "https://localhost:8080/",
          "height": 206
        },
        "id": "OCKDKIf5Mk8Z",
        "outputId": "efc4ed2d-d554-4fb3-bdb0-fc140da80805"
      },
      "execution_count": 22,
      "outputs": [
        {
          "output_type": "execute_result",
          "data": {
            "text/plain": [
              "   No   TVD   TT   COH    Qg      Qw   BHFP    DD  EOVS  SPF  Hperf  \\\n",
              "0   1   319  105  22.0  42.3  5672.0  133.2  27.8   651  4.0   14.0   \n",
              "1   2  3182  105  21.9  51.2    68.0  140.4  16.6   642  4.0   16.0   \n",
              "2   3  3366  100  24.7  66.9   157.0  156.2  18.9   601  4.0    6.0   \n",
              "3   4  3647  100  29.6  80.6    85.0  153.8  57.8   670  8.0   20.0   \n",
              "4   5  4548   85  53.2  48.0   886.0  209.1  58.9   823  4.0   18.0   \n",
              "\n",
              "   Sand Production Observed  \n",
              "0                         1  \n",
              "1                         1  \n",
              "2                         1  \n",
              "3                         1  \n",
              "4                         1  "
            ],
            "text/html": [
              "\n",
              "  <div id=\"df-b0f59c70-c85f-46c8-8754-9f3a25b20eed\">\n",
              "    <div class=\"colab-df-container\">\n",
              "      <div>\n",
              "<style scoped>\n",
              "    .dataframe tbody tr th:only-of-type {\n",
              "        vertical-align: middle;\n",
              "    }\n",
              "\n",
              "    .dataframe tbody tr th {\n",
              "        vertical-align: top;\n",
              "    }\n",
              "\n",
              "    .dataframe thead th {\n",
              "        text-align: right;\n",
              "    }\n",
              "</style>\n",
              "<table border=\"1\" class=\"dataframe\">\n",
              "  <thead>\n",
              "    <tr style=\"text-align: right;\">\n",
              "      <th></th>\n",
              "      <th>No</th>\n",
              "      <th>TVD</th>\n",
              "      <th>TT</th>\n",
              "      <th>COH</th>\n",
              "      <th>Qg</th>\n",
              "      <th>Qw</th>\n",
              "      <th>BHFP</th>\n",
              "      <th>DD</th>\n",
              "      <th>EOVS</th>\n",
              "      <th>SPF</th>\n",
              "      <th>Hperf</th>\n",
              "      <th>Sand Production Observed</th>\n",
              "    </tr>\n",
              "  </thead>\n",
              "  <tbody>\n",
              "    <tr>\n",
              "      <th>0</th>\n",
              "      <td>1</td>\n",
              "      <td>319</td>\n",
              "      <td>105</td>\n",
              "      <td>22.0</td>\n",
              "      <td>42.3</td>\n",
              "      <td>5672.0</td>\n",
              "      <td>133.2</td>\n",
              "      <td>27.8</td>\n",
              "      <td>651</td>\n",
              "      <td>4.0</td>\n",
              "      <td>14.0</td>\n",
              "      <td>1</td>\n",
              "    </tr>\n",
              "    <tr>\n",
              "      <th>1</th>\n",
              "      <td>2</td>\n",
              "      <td>3182</td>\n",
              "      <td>105</td>\n",
              "      <td>21.9</td>\n",
              "      <td>51.2</td>\n",
              "      <td>68.0</td>\n",
              "      <td>140.4</td>\n",
              "      <td>16.6</td>\n",
              "      <td>642</td>\n",
              "      <td>4.0</td>\n",
              "      <td>16.0</td>\n",
              "      <td>1</td>\n",
              "    </tr>\n",
              "    <tr>\n",
              "      <th>2</th>\n",
              "      <td>3</td>\n",
              "      <td>3366</td>\n",
              "      <td>100</td>\n",
              "      <td>24.7</td>\n",
              "      <td>66.9</td>\n",
              "      <td>157.0</td>\n",
              "      <td>156.2</td>\n",
              "      <td>18.9</td>\n",
              "      <td>601</td>\n",
              "      <td>4.0</td>\n",
              "      <td>6.0</td>\n",
              "      <td>1</td>\n",
              "    </tr>\n",
              "    <tr>\n",
              "      <th>3</th>\n",
              "      <td>4</td>\n",
              "      <td>3647</td>\n",
              "      <td>100</td>\n",
              "      <td>29.6</td>\n",
              "      <td>80.6</td>\n",
              "      <td>85.0</td>\n",
              "      <td>153.8</td>\n",
              "      <td>57.8</td>\n",
              "      <td>670</td>\n",
              "      <td>8.0</td>\n",
              "      <td>20.0</td>\n",
              "      <td>1</td>\n",
              "    </tr>\n",
              "    <tr>\n",
              "      <th>4</th>\n",
              "      <td>5</td>\n",
              "      <td>4548</td>\n",
              "      <td>85</td>\n",
              "      <td>53.2</td>\n",
              "      <td>48.0</td>\n",
              "      <td>886.0</td>\n",
              "      <td>209.1</td>\n",
              "      <td>58.9</td>\n",
              "      <td>823</td>\n",
              "      <td>4.0</td>\n",
              "      <td>18.0</td>\n",
              "      <td>1</td>\n",
              "    </tr>\n",
              "  </tbody>\n",
              "</table>\n",
              "</div>\n",
              "      <button class=\"colab-df-convert\" onclick=\"convertToInteractive('df-b0f59c70-c85f-46c8-8754-9f3a25b20eed')\"\n",
              "              title=\"Convert this dataframe to an interactive table.\"\n",
              "              style=\"display:none;\">\n",
              "        \n",
              "  <svg xmlns=\"http://www.w3.org/2000/svg\" height=\"24px\"viewBox=\"0 0 24 24\"\n",
              "       width=\"24px\">\n",
              "    <path d=\"M0 0h24v24H0V0z\" fill=\"none\"/>\n",
              "    <path d=\"M18.56 5.44l.94 2.06.94-2.06 2.06-.94-2.06-.94-.94-2.06-.94 2.06-2.06.94zm-11 1L8.5 8.5l.94-2.06 2.06-.94-2.06-.94L8.5 2.5l-.94 2.06-2.06.94zm10 10l.94 2.06.94-2.06 2.06-.94-2.06-.94-.94-2.06-.94 2.06-2.06.94z\"/><path d=\"M17.41 7.96l-1.37-1.37c-.4-.4-.92-.59-1.43-.59-.52 0-1.04.2-1.43.59L10.3 9.45l-7.72 7.72c-.78.78-.78 2.05 0 2.83L4 21.41c.39.39.9.59 1.41.59.51 0 1.02-.2 1.41-.59l7.78-7.78 2.81-2.81c.8-.78.8-2.07 0-2.86zM5.41 20L4 18.59l7.72-7.72 1.47 1.35L5.41 20z\"/>\n",
              "  </svg>\n",
              "      </button>\n",
              "      \n",
              "  <style>\n",
              "    .colab-df-container {\n",
              "      display:flex;\n",
              "      flex-wrap:wrap;\n",
              "      gap: 12px;\n",
              "    }\n",
              "\n",
              "    .colab-df-convert {\n",
              "      background-color: #E8F0FE;\n",
              "      border: none;\n",
              "      border-radius: 50%;\n",
              "      cursor: pointer;\n",
              "      display: none;\n",
              "      fill: #1967D2;\n",
              "      height: 32px;\n",
              "      padding: 0 0 0 0;\n",
              "      width: 32px;\n",
              "    }\n",
              "\n",
              "    .colab-df-convert:hover {\n",
              "      background-color: #E2EBFA;\n",
              "      box-shadow: 0px 1px 2px rgba(60, 64, 67, 0.3), 0px 1px 3px 1px rgba(60, 64, 67, 0.15);\n",
              "      fill: #174EA6;\n",
              "    }\n",
              "\n",
              "    [theme=dark] .colab-df-convert {\n",
              "      background-color: #3B4455;\n",
              "      fill: #D2E3FC;\n",
              "    }\n",
              "\n",
              "    [theme=dark] .colab-df-convert:hover {\n",
              "      background-color: #434B5C;\n",
              "      box-shadow: 0px 1px 3px 1px rgba(0, 0, 0, 0.15);\n",
              "      filter: drop-shadow(0px 1px 2px rgba(0, 0, 0, 0.3));\n",
              "      fill: #FFFFFF;\n",
              "    }\n",
              "  </style>\n",
              "\n",
              "      <script>\n",
              "        const buttonEl =\n",
              "          document.querySelector('#df-b0f59c70-c85f-46c8-8754-9f3a25b20eed button.colab-df-convert');\n",
              "        buttonEl.style.display =\n",
              "          google.colab.kernel.accessAllowed ? 'block' : 'none';\n",
              "\n",
              "        async function convertToInteractive(key) {\n",
              "          const element = document.querySelector('#df-b0f59c70-c85f-46c8-8754-9f3a25b20eed');\n",
              "          const dataTable =\n",
              "            await google.colab.kernel.invokeFunction('convertToInteractive',\n",
              "                                                     [key], {});\n",
              "          if (!dataTable) return;\n",
              "\n",
              "          const docLinkHtml = 'Like what you see? Visit the ' +\n",
              "            '<a target=\"_blank\" href=https://colab.research.google.com/notebooks/data_table.ipynb>data table notebook</a>'\n",
              "            + ' to learn more about interactive tables.';\n",
              "          element.innerHTML = '';\n",
              "          dataTable['output_type'] = 'display_data';\n",
              "          await google.colab.output.renderOutput(dataTable, element);\n",
              "          const docLink = document.createElement('div');\n",
              "          docLink.innerHTML = docLinkHtml;\n",
              "          element.appendChild(docLink);\n",
              "        }\n",
              "      </script>\n",
              "    </div>\n",
              "  </div>\n",
              "  "
            ]
          },
          "metadata": {},
          "execution_count": 22
        }
      ]
    },
    {
      "cell_type": "code",
      "source": [
        "df[df['Sand Production Observed']==1]\n",
        "#so 21 wells are producing sand out of 29\n",
        "#which means 72% producing sand and 28% not"
      ],
      "metadata": {
        "colab": {
          "base_uri": "https://localhost:8080/",
          "height": 708
        },
        "id": "m-vhihBEj71z",
        "outputId": "e75040df-88e5-4a2f-eeb3-d88a045b2ec2"
      },
      "execution_count": 23,
      "outputs": [
        {
          "output_type": "execute_result",
          "data": {
            "text/plain": [
              "    No   TVD   TT   COH     Qg      Qw   BHFP    DD  EOVS   SPF  Hperf  \\\n",
              "0    1   319  105  22.0   42.3  5672.0  133.2  27.8   651   4.0   14.0   \n",
              "1    2  3182  105  21.9   51.2    68.0  140.4  16.6   642   4.0   16.0   \n",
              "2    3  3366  100  24.7   66.9   157.0  156.2  18.9   601   4.0    6.0   \n",
              "3    4  3647  100  29.6   80.6    85.0  153.8  57.8   670   8.0   20.0   \n",
              "4    5  4548   85  53.2   48.0   886.0  209.1  58.9   823   4.0   18.0   \n",
              "5    6  4088   85  39.5   72.7   116.0  147.0  44.0   781   2.0   17.0   \n",
              "6    7  2100  115  10.8   28.5   724.0  160.1   8.9   300   4.0   15.5   \n",
              "7    8  1930  132   9.7   27.5   695.0  175.5  11.2   245   4.0   11.5   \n",
              "8    9  2139  112  11.1   36.8   280.0  185.5   6.1   283   4.0   10.5   \n",
              "9   10  2380  110  13.0   23.0    42.0  113.0  47.4   413   6.0   11.0   \n",
              "10  11  1122  150   5.7  108.0     0.0  107.0   8.0   115  12.0   10.5   \n",
              "11  12  1340  130   6.6   51.0    52.0  126.6  14.4   140  12.0    6.5   \n",
              "12  13  1070  170   5.5   82.0    70.0  103.8   0.7   111   4.0    9.0   \n",
              "13  14  1920  130   9.6  111.0     0.0  248.0  82.0   153   4.0    9.0   \n",
              "14  15  2530  100  14.3   58.0    68.0  302.2  97.8   242   4.0    4.5   \n",
              "15  16  1640  145   8.0   94.0  1260.0  189.0  46.8   150  12.0   10.0   \n",
              "16  17  2130  120  11.0   86.0   112.0  268.3  31.7   179   4.0    3.5   \n",
              "17  18  3655  100  19.8   69.8  1780.0  287.6   9.1   553   4.0   21.0   \n",
              "18  19  3668  100  30.0   75.8   150.0  272.3   9.2   571   4.0   21.0   \n",
              "19  20  1503  125   7.3  139.5    35.0  152.3   2.2   177   4.0   11.5   \n",
              "20  21  3170  100  21.7   48.0  2823.0  222.1   6.4   485   4.0   16.0   \n",
              "\n",
              "    Sand Production Observed  \n",
              "0                          1  \n",
              "1                          1  \n",
              "2                          1  \n",
              "3                          1  \n",
              "4                          1  \n",
              "5                          1  \n",
              "6                          1  \n",
              "7                          1  \n",
              "8                          1  \n",
              "9                          1  \n",
              "10                         1  \n",
              "11                         1  \n",
              "12                         1  \n",
              "13                         1  \n",
              "14                         1  \n",
              "15                         1  \n",
              "16                         1  \n",
              "17                         1  \n",
              "18                         1  \n",
              "19                         1  \n",
              "20                         1  "
            ],
            "text/html": [
              "\n",
              "  <div id=\"df-00e600ca-cab3-4147-9f9a-6f53b2c94638\">\n",
              "    <div class=\"colab-df-container\">\n",
              "      <div>\n",
              "<style scoped>\n",
              "    .dataframe tbody tr th:only-of-type {\n",
              "        vertical-align: middle;\n",
              "    }\n",
              "\n",
              "    .dataframe tbody tr th {\n",
              "        vertical-align: top;\n",
              "    }\n",
              "\n",
              "    .dataframe thead th {\n",
              "        text-align: right;\n",
              "    }\n",
              "</style>\n",
              "<table border=\"1\" class=\"dataframe\">\n",
              "  <thead>\n",
              "    <tr style=\"text-align: right;\">\n",
              "      <th></th>\n",
              "      <th>No</th>\n",
              "      <th>TVD</th>\n",
              "      <th>TT</th>\n",
              "      <th>COH</th>\n",
              "      <th>Qg</th>\n",
              "      <th>Qw</th>\n",
              "      <th>BHFP</th>\n",
              "      <th>DD</th>\n",
              "      <th>EOVS</th>\n",
              "      <th>SPF</th>\n",
              "      <th>Hperf</th>\n",
              "      <th>Sand Production Observed</th>\n",
              "    </tr>\n",
              "  </thead>\n",
              "  <tbody>\n",
              "    <tr>\n",
              "      <th>0</th>\n",
              "      <td>1</td>\n",
              "      <td>319</td>\n",
              "      <td>105</td>\n",
              "      <td>22.0</td>\n",
              "      <td>42.3</td>\n",
              "      <td>5672.0</td>\n",
              "      <td>133.2</td>\n",
              "      <td>27.8</td>\n",
              "      <td>651</td>\n",
              "      <td>4.0</td>\n",
              "      <td>14.0</td>\n",
              "      <td>1</td>\n",
              "    </tr>\n",
              "    <tr>\n",
              "      <th>1</th>\n",
              "      <td>2</td>\n",
              "      <td>3182</td>\n",
              "      <td>105</td>\n",
              "      <td>21.9</td>\n",
              "      <td>51.2</td>\n",
              "      <td>68.0</td>\n",
              "      <td>140.4</td>\n",
              "      <td>16.6</td>\n",
              "      <td>642</td>\n",
              "      <td>4.0</td>\n",
              "      <td>16.0</td>\n",
              "      <td>1</td>\n",
              "    </tr>\n",
              "    <tr>\n",
              "      <th>2</th>\n",
              "      <td>3</td>\n",
              "      <td>3366</td>\n",
              "      <td>100</td>\n",
              "      <td>24.7</td>\n",
              "      <td>66.9</td>\n",
              "      <td>157.0</td>\n",
              "      <td>156.2</td>\n",
              "      <td>18.9</td>\n",
              "      <td>601</td>\n",
              "      <td>4.0</td>\n",
              "      <td>6.0</td>\n",
              "      <td>1</td>\n",
              "    </tr>\n",
              "    <tr>\n",
              "      <th>3</th>\n",
              "      <td>4</td>\n",
              "      <td>3647</td>\n",
              "      <td>100</td>\n",
              "      <td>29.6</td>\n",
              "      <td>80.6</td>\n",
              "      <td>85.0</td>\n",
              "      <td>153.8</td>\n",
              "      <td>57.8</td>\n",
              "      <td>670</td>\n",
              "      <td>8.0</td>\n",
              "      <td>20.0</td>\n",
              "      <td>1</td>\n",
              "    </tr>\n",
              "    <tr>\n",
              "      <th>4</th>\n",
              "      <td>5</td>\n",
              "      <td>4548</td>\n",
              "      <td>85</td>\n",
              "      <td>53.2</td>\n",
              "      <td>48.0</td>\n",
              "      <td>886.0</td>\n",
              "      <td>209.1</td>\n",
              "      <td>58.9</td>\n",
              "      <td>823</td>\n",
              "      <td>4.0</td>\n",
              "      <td>18.0</td>\n",
              "      <td>1</td>\n",
              "    </tr>\n",
              "    <tr>\n",
              "      <th>5</th>\n",
              "      <td>6</td>\n",
              "      <td>4088</td>\n",
              "      <td>85</td>\n",
              "      <td>39.5</td>\n",
              "      <td>72.7</td>\n",
              "      <td>116.0</td>\n",
              "      <td>147.0</td>\n",
              "      <td>44.0</td>\n",
              "      <td>781</td>\n",
              "      <td>2.0</td>\n",
              "      <td>17.0</td>\n",
              "      <td>1</td>\n",
              "    </tr>\n",
              "    <tr>\n",
              "      <th>6</th>\n",
              "      <td>7</td>\n",
              "      <td>2100</td>\n",
              "      <td>115</td>\n",
              "      <td>10.8</td>\n",
              "      <td>28.5</td>\n",
              "      <td>724.0</td>\n",
              "      <td>160.1</td>\n",
              "      <td>8.9</td>\n",
              "      <td>300</td>\n",
              "      <td>4.0</td>\n",
              "      <td>15.5</td>\n",
              "      <td>1</td>\n",
              "    </tr>\n",
              "    <tr>\n",
              "      <th>7</th>\n",
              "      <td>8</td>\n",
              "      <td>1930</td>\n",
              "      <td>132</td>\n",
              "      <td>9.7</td>\n",
              "      <td>27.5</td>\n",
              "      <td>695.0</td>\n",
              "      <td>175.5</td>\n",
              "      <td>11.2</td>\n",
              "      <td>245</td>\n",
              "      <td>4.0</td>\n",
              "      <td>11.5</td>\n",
              "      <td>1</td>\n",
              "    </tr>\n",
              "    <tr>\n",
              "      <th>8</th>\n",
              "      <td>9</td>\n",
              "      <td>2139</td>\n",
              "      <td>112</td>\n",
              "      <td>11.1</td>\n",
              "      <td>36.8</td>\n",
              "      <td>280.0</td>\n",
              "      <td>185.5</td>\n",
              "      <td>6.1</td>\n",
              "      <td>283</td>\n",
              "      <td>4.0</td>\n",
              "      <td>10.5</td>\n",
              "      <td>1</td>\n",
              "    </tr>\n",
              "    <tr>\n",
              "      <th>9</th>\n",
              "      <td>10</td>\n",
              "      <td>2380</td>\n",
              "      <td>110</td>\n",
              "      <td>13.0</td>\n",
              "      <td>23.0</td>\n",
              "      <td>42.0</td>\n",
              "      <td>113.0</td>\n",
              "      <td>47.4</td>\n",
              "      <td>413</td>\n",
              "      <td>6.0</td>\n",
              "      <td>11.0</td>\n",
              "      <td>1</td>\n",
              "    </tr>\n",
              "    <tr>\n",
              "      <th>10</th>\n",
              "      <td>11</td>\n",
              "      <td>1122</td>\n",
              "      <td>150</td>\n",
              "      <td>5.7</td>\n",
              "      <td>108.0</td>\n",
              "      <td>0.0</td>\n",
              "      <td>107.0</td>\n",
              "      <td>8.0</td>\n",
              "      <td>115</td>\n",
              "      <td>12.0</td>\n",
              "      <td>10.5</td>\n",
              "      <td>1</td>\n",
              "    </tr>\n",
              "    <tr>\n",
              "      <th>11</th>\n",
              "      <td>12</td>\n",
              "      <td>1340</td>\n",
              "      <td>130</td>\n",
              "      <td>6.6</td>\n",
              "      <td>51.0</td>\n",
              "      <td>52.0</td>\n",
              "      <td>126.6</td>\n",
              "      <td>14.4</td>\n",
              "      <td>140</td>\n",
              "      <td>12.0</td>\n",
              "      <td>6.5</td>\n",
              "      <td>1</td>\n",
              "    </tr>\n",
              "    <tr>\n",
              "      <th>12</th>\n",
              "      <td>13</td>\n",
              "      <td>1070</td>\n",
              "      <td>170</td>\n",
              "      <td>5.5</td>\n",
              "      <td>82.0</td>\n",
              "      <td>70.0</td>\n",
              "      <td>103.8</td>\n",
              "      <td>0.7</td>\n",
              "      <td>111</td>\n",
              "      <td>4.0</td>\n",
              "      <td>9.0</td>\n",
              "      <td>1</td>\n",
              "    </tr>\n",
              "    <tr>\n",
              "      <th>13</th>\n",
              "      <td>14</td>\n",
              "      <td>1920</td>\n",
              "      <td>130</td>\n",
              "      <td>9.6</td>\n",
              "      <td>111.0</td>\n",
              "      <td>0.0</td>\n",
              "      <td>248.0</td>\n",
              "      <td>82.0</td>\n",
              "      <td>153</td>\n",
              "      <td>4.0</td>\n",
              "      <td>9.0</td>\n",
              "      <td>1</td>\n",
              "    </tr>\n",
              "    <tr>\n",
              "      <th>14</th>\n",
              "      <td>15</td>\n",
              "      <td>2530</td>\n",
              "      <td>100</td>\n",
              "      <td>14.3</td>\n",
              "      <td>58.0</td>\n",
              "      <td>68.0</td>\n",
              "      <td>302.2</td>\n",
              "      <td>97.8</td>\n",
              "      <td>242</td>\n",
              "      <td>4.0</td>\n",
              "      <td>4.5</td>\n",
              "      <td>1</td>\n",
              "    </tr>\n",
              "    <tr>\n",
              "      <th>15</th>\n",
              "      <td>16</td>\n",
              "      <td>1640</td>\n",
              "      <td>145</td>\n",
              "      <td>8.0</td>\n",
              "      <td>94.0</td>\n",
              "      <td>1260.0</td>\n",
              "      <td>189.0</td>\n",
              "      <td>46.8</td>\n",
              "      <td>150</td>\n",
              "      <td>12.0</td>\n",
              "      <td>10.0</td>\n",
              "      <td>1</td>\n",
              "    </tr>\n",
              "    <tr>\n",
              "      <th>16</th>\n",
              "      <td>17</td>\n",
              "      <td>2130</td>\n",
              "      <td>120</td>\n",
              "      <td>11.0</td>\n",
              "      <td>86.0</td>\n",
              "      <td>112.0</td>\n",
              "      <td>268.3</td>\n",
              "      <td>31.7</td>\n",
              "      <td>179</td>\n",
              "      <td>4.0</td>\n",
              "      <td>3.5</td>\n",
              "      <td>1</td>\n",
              "    </tr>\n",
              "    <tr>\n",
              "      <th>17</th>\n",
              "      <td>18</td>\n",
              "      <td>3655</td>\n",
              "      <td>100</td>\n",
              "      <td>19.8</td>\n",
              "      <td>69.8</td>\n",
              "      <td>1780.0</td>\n",
              "      <td>287.6</td>\n",
              "      <td>9.1</td>\n",
              "      <td>553</td>\n",
              "      <td>4.0</td>\n",
              "      <td>21.0</td>\n",
              "      <td>1</td>\n",
              "    </tr>\n",
              "    <tr>\n",
              "      <th>18</th>\n",
              "      <td>19</td>\n",
              "      <td>3668</td>\n",
              "      <td>100</td>\n",
              "      <td>30.0</td>\n",
              "      <td>75.8</td>\n",
              "      <td>150.0</td>\n",
              "      <td>272.3</td>\n",
              "      <td>9.2</td>\n",
              "      <td>571</td>\n",
              "      <td>4.0</td>\n",
              "      <td>21.0</td>\n",
              "      <td>1</td>\n",
              "    </tr>\n",
              "    <tr>\n",
              "      <th>19</th>\n",
              "      <td>20</td>\n",
              "      <td>1503</td>\n",
              "      <td>125</td>\n",
              "      <td>7.3</td>\n",
              "      <td>139.5</td>\n",
              "      <td>35.0</td>\n",
              "      <td>152.3</td>\n",
              "      <td>2.2</td>\n",
              "      <td>177</td>\n",
              "      <td>4.0</td>\n",
              "      <td>11.5</td>\n",
              "      <td>1</td>\n",
              "    </tr>\n",
              "    <tr>\n",
              "      <th>20</th>\n",
              "      <td>21</td>\n",
              "      <td>3170</td>\n",
              "      <td>100</td>\n",
              "      <td>21.7</td>\n",
              "      <td>48.0</td>\n",
              "      <td>2823.0</td>\n",
              "      <td>222.1</td>\n",
              "      <td>6.4</td>\n",
              "      <td>485</td>\n",
              "      <td>4.0</td>\n",
              "      <td>16.0</td>\n",
              "      <td>1</td>\n",
              "    </tr>\n",
              "  </tbody>\n",
              "</table>\n",
              "</div>\n",
              "      <button class=\"colab-df-convert\" onclick=\"convertToInteractive('df-00e600ca-cab3-4147-9f9a-6f53b2c94638')\"\n",
              "              title=\"Convert this dataframe to an interactive table.\"\n",
              "              style=\"display:none;\">\n",
              "        \n",
              "  <svg xmlns=\"http://www.w3.org/2000/svg\" height=\"24px\"viewBox=\"0 0 24 24\"\n",
              "       width=\"24px\">\n",
              "    <path d=\"M0 0h24v24H0V0z\" fill=\"none\"/>\n",
              "    <path d=\"M18.56 5.44l.94 2.06.94-2.06 2.06-.94-2.06-.94-.94-2.06-.94 2.06-2.06.94zm-11 1L8.5 8.5l.94-2.06 2.06-.94-2.06-.94L8.5 2.5l-.94 2.06-2.06.94zm10 10l.94 2.06.94-2.06 2.06-.94-2.06-.94-.94-2.06-.94 2.06-2.06.94z\"/><path d=\"M17.41 7.96l-1.37-1.37c-.4-.4-.92-.59-1.43-.59-.52 0-1.04.2-1.43.59L10.3 9.45l-7.72 7.72c-.78.78-.78 2.05 0 2.83L4 21.41c.39.39.9.59 1.41.59.51 0 1.02-.2 1.41-.59l7.78-7.78 2.81-2.81c.8-.78.8-2.07 0-2.86zM5.41 20L4 18.59l7.72-7.72 1.47 1.35L5.41 20z\"/>\n",
              "  </svg>\n",
              "      </button>\n",
              "      \n",
              "  <style>\n",
              "    .colab-df-container {\n",
              "      display:flex;\n",
              "      flex-wrap:wrap;\n",
              "      gap: 12px;\n",
              "    }\n",
              "\n",
              "    .colab-df-convert {\n",
              "      background-color: #E8F0FE;\n",
              "      border: none;\n",
              "      border-radius: 50%;\n",
              "      cursor: pointer;\n",
              "      display: none;\n",
              "      fill: #1967D2;\n",
              "      height: 32px;\n",
              "      padding: 0 0 0 0;\n",
              "      width: 32px;\n",
              "    }\n",
              "\n",
              "    .colab-df-convert:hover {\n",
              "      background-color: #E2EBFA;\n",
              "      box-shadow: 0px 1px 2px rgba(60, 64, 67, 0.3), 0px 1px 3px 1px rgba(60, 64, 67, 0.15);\n",
              "      fill: #174EA6;\n",
              "    }\n",
              "\n",
              "    [theme=dark] .colab-df-convert {\n",
              "      background-color: #3B4455;\n",
              "      fill: #D2E3FC;\n",
              "    }\n",
              "\n",
              "    [theme=dark] .colab-df-convert:hover {\n",
              "      background-color: #434B5C;\n",
              "      box-shadow: 0px 1px 3px 1px rgba(0, 0, 0, 0.15);\n",
              "      filter: drop-shadow(0px 1px 2px rgba(0, 0, 0, 0.3));\n",
              "      fill: #FFFFFF;\n",
              "    }\n",
              "  </style>\n",
              "\n",
              "      <script>\n",
              "        const buttonEl =\n",
              "          document.querySelector('#df-00e600ca-cab3-4147-9f9a-6f53b2c94638 button.colab-df-convert');\n",
              "        buttonEl.style.display =\n",
              "          google.colab.kernel.accessAllowed ? 'block' : 'none';\n",
              "\n",
              "        async function convertToInteractive(key) {\n",
              "          const element = document.querySelector('#df-00e600ca-cab3-4147-9f9a-6f53b2c94638');\n",
              "          const dataTable =\n",
              "            await google.colab.kernel.invokeFunction('convertToInteractive',\n",
              "                                                     [key], {});\n",
              "          if (!dataTable) return;\n",
              "\n",
              "          const docLinkHtml = 'Like what you see? Visit the ' +\n",
              "            '<a target=\"_blank\" href=https://colab.research.google.com/notebooks/data_table.ipynb>data table notebook</a>'\n",
              "            + ' to learn more about interactive tables.';\n",
              "          element.innerHTML = '';\n",
              "          dataTable['output_type'] = 'display_data';\n",
              "          await google.colab.output.renderOutput(dataTable, element);\n",
              "          const docLink = document.createElement('div');\n",
              "          docLink.innerHTML = docLinkHtml;\n",
              "          element.appendChild(docLink);\n",
              "        }\n",
              "      </script>\n",
              "    </div>\n",
              "  </div>\n",
              "  "
            ]
          },
          "metadata": {},
          "execution_count": 23
        }
      ]
    },
    {
      "cell_type": "code",
      "source": [
        "#exclude the column No reffering to number of wells since it isn't important \n",
        "x=df.iloc[:, 1:11]\n",
        "y=df.iloc[:, 11]\n",
        "from sklearn.model_selection import train_test_split\n",
        "x_train, x_test, y_train, y_test = train_test_split(x,y,test_size=0.3, random_state=50)"
      ],
      "metadata": {
        "id": "gvNrkG3KMwU-"
      },
      "execution_count": 24,
      "outputs": []
    },
    {
      "cell_type": "code",
      "source": [
        "from sklearn.neighbors import KNeighborsClassifier\n",
        "knc=KNeighborsClassifier(n_neighbors=3, leaf_size=3)\n",
        "knc.fit(x_train, y_train)\n",
        "y_train_predict=knc.predict(x_train)\n",
        "y_test_predict=knc.predict(x_test)"
      ],
      "metadata": {
        "id": "Mz8EKzu0NiU4"
      },
      "execution_count": 6,
      "outputs": []
    },
    {
      "cell_type": "code",
      "source": [
        "from sklearn.metrics import accuracy_score\n",
        "print(accuracy_score(y_test, y_test_predict))"
      ],
      "metadata": {
        "colab": {
          "base_uri": "https://localhost:8080/"
        },
        "id": "M2S99qnqOHD_",
        "outputId": "c01d98c3-7d64-4650-ba1b-62f277a4ed2b"
      },
      "execution_count": 7,
      "outputs": [
        {
          "output_type": "stream",
          "name": "stdout",
          "text": [
            "0.7777777777777778\n"
          ]
        }
      ]
    },
    {
      "cell_type": "code",
      "source": [
        "#we can use for binary classification also: \n",
        "#f1_score, precision_score, recall_score\n",
        "#use also the classification report "
      ],
      "metadata": {
        "id": "WhqwqRLOO4-r"
      },
      "execution_count": 8,
      "outputs": []
    },
    {
      "cell_type": "code",
      "source": [
        ""
      ],
      "metadata": {
        "id": "SPDkHK2UP7dg"
      },
      "execution_count": 8,
      "outputs": []
    },
    {
      "cell_type": "code",
      "source": [
        "from sklearn.metrics import classification_report\n",
        "print(classification_report(y_test, y_test_predict))"
      ],
      "metadata": {
        "colab": {
          "base_uri": "https://localhost:8080/"
        },
        "id": "M-NPmpqfRfb0",
        "outputId": "56bbf0c1-b724-410f-90be-41641d3f2384"
      },
      "execution_count": 9,
      "outputs": [
        {
          "output_type": "stream",
          "name": "stdout",
          "text": [
            "              precision    recall  f1-score   support\n",
            "\n",
            "           0       0.67      0.67      0.67         3\n",
            "           1       0.83      0.83      0.83         6\n",
            "\n",
            "    accuracy                           0.78         9\n",
            "   macro avg       0.75      0.75      0.75         9\n",
            "weighted avg       0.78      0.78      0.78         9\n",
            "\n"
          ]
        }
      ]
    },
    {
      "cell_type": "markdown",
      "source": [
        "# Multiclass classification: facies classification\n",
        "\n",
        "Confusion matrix is the widely used technique in multi class classification"
      ],
      "metadata": {
        "id": "Eq4y77gnP8RI"
      }
    },
    {
      "cell_type": "code",
      "source": [
        "from google.colab import files\n",
        "files.upload()"
      ],
      "metadata": {
        "colab": {
          "resources": {
            "http://localhost:8080/nbextensions/google.colab/files.js": {
              "data": "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",
              "ok": true,
              "headers": [
                [
                  "content-type",
                  "application/javascript"
                ]
              ],
              "status": 200,
              "status_text": ""
            }
          },
          "base_uri": "https://localhost:8080/",
          "height": 111
        },
        "id": "UvGzBMHnP9tk",
        "outputId": "cec37554-4052-4f84-e1cb-7f3fbe50b3fa"
      },
      "execution_count": 10,
      "outputs": [
        {
          "output_type": "display_data",
          "data": {
            "text/plain": [
              "<IPython.core.display.HTML object>"
            ],
            "text/html": [
              "\n",
              "     <input type=\"file\" id=\"files-762e51f5-4806-4194-89ea-dbd69daf5a17\" name=\"files[]\" multiple disabled\n",
              "        style=\"border:none\" />\n",
              "     <output id=\"result-762e51f5-4806-4194-89ea-dbd69daf5a17\">\n",
              "      Upload widget is only available when the cell has been executed in the\n",
              "      current browser session. Please rerun this cell to enable.\n",
              "      </output>\n",
              "      <script src=\"/nbextensions/google.colab/files.js\"></script> "
            ]
          },
          "metadata": {}
        },
        {
          "output_type": "stream",
          "name": "stdout",
          "text": [
            "Saving Chapter7_Facies Data.csv to Chapter7_Facies Data.csv\n"
          ]
        },
        {
          "output_type": "execute_result",
          "data": {
            "text/plain": [
              "{'Chapter7_Facies Data.csv': b'Facies,Formation,Well Name,Depth,GR,ILD_log10,DeltaPHI,PHIND,PE,NM_M,RELPOS\\r\\n3,A1 SH,SHRIMPLIN,2793,77.45,0.664,9.9,11.915,4.6,1,1\\r\\n3,A1 SH,SHRIMPLIN,2793.5,78.26,0.661,14.2,12.565,4.1,1,0.979\\r\\n3,A1 SH,SHRIMPLIN,2794,79.05,0.658,14.8,13.05,3.6,1,0.957\\r\\n3,A1 SH,SHRIMPLIN,2794.5,86.1,0.655,13.9,13.115,3.5,1,0.936\\r\\n3,A1 SH,SHRIMPLIN,2795,74.58,0.647,13.5,13.3,3.4,1,0.915\\r\\n3,A1 SH,SHRIMPLIN,2795.5,73.97,0.636,14,13.385,3.6,1,0.894\\r\\n3,A1 SH,SHRIMPLIN,2796,73.72,0.63,15.6,13.93,3.7,1,0.872\\r\\n3,A1 SH,SHRIMPLIN,2796.5,75.65,0.625,16.5,13.92,3.5,1,0.83\\r\\n3,A1 SH,SHRIMPLIN,2797,73.79,0.624,16.2,13.98,3.4,1,0.809\\r\\n3,A1 SH,SHRIMPLIN,2797.5,76.89,0.615,16.9,14.22,3.5,1,0.787\\r\\n3,A1 SH,SHRIMPLIN,2798,76.11,0.6,14.8,13.375,3.6,1,0.766\\r\\n3,A1 SH,SHRIMPLIN,2798.5,74.95,0.583,13.3,12.69,3.7,1,0.745\\r\\n3,A1 SH,SHRIMPLIN,2799,71.87,0.561,11.3,12.475,3.5,1,0.723\\r\\n3,A1 SH,SHRIMPLIN,2799.5,83.42,0.537,13.3,14.93,3.4,1,0.702\\r\\n2,A1 SH,SHRIMPLIN,2800,90.1,0.519,14.3,16.555,3.2,1,0.681\\r\\n2,A1 SH,SHRIMPLIN,2800.5,78.15,0.467,11.8,15.96,3.1,1,0.638\\r\\n2,A1 SH,SHRIMPLIN,2801,69.3,0.438,9.5,15.12,3.1,1,0.617\\r\\n2,A1 SH,SHRIMPLIN,2801.5,63.54,0.418,8.8,15.19,3,1,0.596\\r\\n2,A1 SH,SHRIMPLIN,2802,63.87,0.401,7.2,15.39,2.9,1,0.574\\r\\n2,A1 SH,SHRIMPLIN,2802.5,58.32,0.386,6.6,14.885,2.8,1,0.553\\r\\n2,A1 SH,SHRIMPLIN,2803,56.61,0.369,5.5,14.8,3,1,0.532\\r\\n2,A1 SH,SHRIMPLIN,2803.5,55.97,0.352,6.1,14.46,3,1,0.511\\r\\n2,A1 SH,SHRIMPLIN,2804,63.67,0.344,6,14.745,3,1,0.489\\r\\n2,A1 SH,SHRIMPLIN,2804.5,66.2,0.342,6.8,15.135,3,1,0.468\\r\\n2,A1 SH,SHRIMPLIN,2805,61.27,0.346,6.1,15.48,3,1,0.447\\r\\n3,A1 SH,SHRIMPLIN,2805.5,69.48,0.354,5.8,14.675,3,1,0.404\\r\\n3,A1 SH,SHRIMPLIN,2806,76.37,0.354,5.2,13.635,3,1,0.383\\r\\n2,A1 SH,SHRIMPLIN,2806.5,82.2,0.348,7.4,15.055,3,1,0.362\\r\\n2,A1 SH,SHRIMPLIN,2807,90.25,0.346,11.5,20.23,3.1,1,0.34\\r\\n2,A1 SH,SHRIMPLIN,2807.5,94.38,0.358,14.2,24.015,3,1,0.319\\r\\n2,A1 SH,SHRIMPLIN,2808,87.44,0.377,13.9,23.58,3.1,1,0.298\\r\\n2,A1 SH,SHRIMPLIN,2808.5,70.98,0.401,11.5,18.395,3.1,1,0.277\\r\\n2,A1 SH,SHRIMPLIN,2809,64.72,0.439,10.3,13.815,3.1,1,0.255\\r\\n3,A1 SH,SHRIMPLIN,2809.5,54.29,0.47,9.9,9.44,3.2,1,0.234\\r\\n3,A1 SH,SHRIMPLIN,2810,41.46,0.493,11.1,5.255,3.4,1,0.213\\r\\n3,A1 SH,SHRIMPLIN,2810.5,50.93,0.524,12.1,5.265,4.6,1,0.17\\r\\n3,A1 SH,SHRIMPLIN,2811,72.79,0.543,11.3,11.76,4.1,1,0.149\\r\\n3,A1 SH,SHRIMPLIN,2811.5,95.34,0.555,14.1,17.665,3.5,1,0.128\\r\\n3,A1 SH,SHRIMPLIN,2812,102.35,0.558,15.8,20.145,3.2,1,0.106\\r\\n3,A1 SH,SHRIMPLIN,2812.5,79.7,0.549,15.5,18.07,3.2,1,0.085\\r\\n3,A1 SH,SHRIMPLIN,2813,66.69,0.53,14,15.72,3.3,1,0.064\\r\\n2,A1 SH,SHRIMPLIN,2813.5,73.68,0.521,14.7,15.98,3.3,1,0.043\\r\\n2,A1 SH,SHRIMPLIN,2814,71.05,0.535,17.2,18.02,3.3,1,0.021\\r\\n8,A1 LM,SHRIMPLIN,2814.5,57.02,0.628,11.6,12.09,3.5,2,1\\r\\n8,A1 LM,SHRIMPLIN,2815,43.29,0.702,7.3,6.705,4,2,0.981\\r\\n8,A1 LM,SHRIMPLIN,2815.5,36.06,0.762,5.7,4.595,5,2,0.963\\r\\n8,A1 LM,SHRIMPLIN,2816,46,0.823,5.1,4.62,5.5,2,0.944\\r\\n6,A1 LM,SHRIMPLIN,2816.5,60.3,0.915,4.6,5.01,5.6,2,0.926\\r\\n6,A1 LM,SHRIMPLIN,2817,75.22,0.999,4.4,5.295,5.5,2,0.907\\r\\n6,A1 LM,SHRIMPLIN,2817.5,87.19,1.045,4.7,5.32,5.4,2,0.889\\r\\n6,A1 LM,SHRIMPLIN,2818,86.86,1.064,5.2,5.785,5.4,2,0.87\\r\\n6,A1 LM,SHRIMPLIN,2818.5,88,1.051,6.5,6.38,5.4,2,0.852\\r\\n6,A1 LM,SHRIMPLIN,2819,75.47,1.018,7.8,7.215,5.5,2,0.833\\r\\n6,A1 LM,SHRIMPLIN,2819.5,59.36,0.972,10,8.925,4.9,2,0.796\\r\\n6,A1 LM,SHRIMPLIN,2820,55.57,0.952,8.6,9.355,4.5,2,0.778\\r\\n6,A1 LM,SHRIMPLIN,2820.5,46.96,0.924,5.4,9.12,4.3,2,0.759\\r\\n6,A1 LM,SHRIMPLIN,2821,43.67,0.876,3.6,8.225,4.1,2,0.741\\r\\n6,A1 LM,SHRIMPLIN,2821.5,55.23,0.826,5.1,7.875,4.3,2,0.722\\r\\n6,A1 LM,SHRIMPLIN,2822,61.24,0.777,9.7,8.575,4.3,2,0.704\\r\\n6,A1 LM,SHRIMPLIN,2822.5,54.46,0.728,12.8,10.66,4.4,2,0.685\\r\\n7,A1 LM,SHRIMPLIN,2823,43.23,0.699,14.9,12.375,4,2,0.667\\r\\n7,A1 LM,SHRIMPLIN,2823.5,44.59,0.682,16,13.54,3.9,2,0.648\\r\\n4,A1 LM,SHRIMPLIN,2824,47.48,0.676,16.5,12.89,3.7,2,0.63\\r\\n4,A1 LM,SHRIMPLIN,2824.5,61.1,0.671,15.2,11.785,3.7,2,0.611\\r\\n4,A1 LM,SHRIMPLIN,2825,64.82,0.68,9.1,8.97,4.5,2,0.574\\r\\n4,A1 LM,SHRIMPLIN,2825.5,55.77,0.71,6.1,8.93,5.1,2,0.556\\r\\n4,A1 LM,SHRIMPLIN,2826,62.22,0.744,4.3,9.215,5.5,2,0.537\\r\\n6,A1 LM,SHRIMPLIN,2826.5,55.06,0.786,2.9,9.5,5.6,2,0.519\\r\\n6,A1 LM,SHRIMPLIN,2827,71.02,0.839,3.1,8.89,5.4,2,0.5\\r\\n6,A1 LM,SHRIMPLIN,2827.5,91.37,0.881,3.9,8.06,5.3,2,0.481\\r\\n6,A1 LM,SHRIMPLIN,2828,115.42,0.911,5.2,6.875,5.3,2,0.463\\r\\n6,A1 LM,SHRIMPLIN,2828.5,115.7,0.94,5.9,6.085,5.2,2,0.444\\r\\n6,A1 LM,SHRIMPLIN,2829,107.11,0.972,6,6.135,5.6,2,0.426\\r\\n6,A1 LM,SHRIMPLIN,2829.5,93.82,1.008,5.8,6.64,5.6,2,0.407\\r\\n6,A1 LM,SHRIMPLIN,2830,61.63,1.061,3.6,6.865,6.1,2,0.37\\r\\n6,A1 LM,SHRIMPLIN,2830.5,45.98,1.076,3.6,6.25,6.2,2,0.352\\r\\n6,A1 LM,SHRIMPLIN,2831,32.76,1.071,3,6.225,5.8,2,0.333\\r\\n6,A1 LM,SHRIMPLIN,2831.5,37.82,1.058,3.6,6.19,5.7,2,0.315\\r\\n6,A1 LM,SHRIMPLIN,2832,40.73,1.038,2.3,6.375,5.5,2,0.296\\r\\n6,A1 LM,SHRIMPLIN,2832.5,33.42,1.005,2.2,6.61,5.4,2,0.278\\r\\n6,A1 LM,SHRIMPLIN,2833,32.08,0.968,2.2,7.355,5.3,2,0.259\\r\\n6,A1 LM,SHRIMPLIN,2833.5,33.82,0.943,2.1,8.33,4.9,2,0.241\\r\\n6,A1 LM,SHRIMPLIN,2834,45.57,0.924,1.1,8.84,4.7,2,0.222\\r\\n6,A1 LM,SHRIMPLIN,2834.5,53.95,0.9,1.9,8.125,4.6,2,0.204\\r\\n6,A1 LM,SHRIMPLIN,2835,59.42,0.875,4.3,7.845,4.6,2,0.185\\r\\n6,A1 LM,SHRIMPLIN,2835.5,68.43,0.854,8.3,8.665,4.8,2,0.167\\r\\n6,A1 LM,SHRIMPLIN,2836,75.88,0.849,11,10.04,4.6,2,0.148\\r\\n6,A1 LM,SHRIMPLIN,2836.5,77.75,0.864,11.3,10.85,4.7,2,0.13\\r\\n6,A1 LM,SHRIMPLIN,2837,80.93,0.907,9.6,9.815,4.6,2,0.111\\r\\n6,A1 LM,SHRIMPLIN,2837.5,72.92,0.932,7.3,7.475,4.7,2,0.093\\r\\n6,A1 LM,SHRIMPLIN,2838,65.59,0.92,5.7,5.265,5,2,0.074\\r\\n6,A1 LM,SHRIMPLIN,2838.5,64.71,0.886,3.6,4.045,5.4,2,0.056\\r\\n6,A1 LM,SHRIMPLIN,2839,60.79,0.829,2.9,4.36,5.5,2,0.037\\r\\n6,A1 LM,SHRIMPLIN,2839.5,78.55,0.754,2,9.795,5.7,2,0.019\\r\\n3,B1 SH,SHRIMPLIN,2840,107.77,0.713,1.8,19.545,4,1,1\\r\\n3,B1 SH,SHRIMPLIN,2840.5,110.87,0.686,6,26.65,3.3,1,0.974\\r\\n3,B1 SH,SHRIMPLIN,2841,106.33,0.665,8.6,26.94,2.8,1,0.949\\r\\n3,B1 SH,SHRIMPLIN,2841.5,87.85,0.64,9.6,21.77,2.7,1,0.923\\r\\n3,B1 SH,SHRIMPLIN,2842,80.96,0.601,9,15.99,2.9,1,0.897\\r\\n2,B1 SH,SHRIMPLIN,2842.5,66.94,0.568,11.2,12.565,3.5,1,0.872\\r\\n2,B1 SH,SHRIMPLIN,2843,61.48,0.561,12,11.69,4.2,1,0.846\\r\\n2,B1 SH,SHRIMPLIN,2843.5,58.26,0.568,12.4,12.285,4.2,1,0.821\\r\\n2,B1 SH,SHRIMPLIN,2844,51.31,0.585,12.7,11.735,3.9,1,0.795\\r\\n2,B1 SH,SHRIMPLIN,2844.5,67.92,0.583,13.2,11.73,3.9,1,0.769\\r\\n2,B1 SH,SHRIMPLIN,2845,67.77,0.566,14.1,12.475,3.9,1,0.744\\r\\n2,B1 SH,SHRIMPLIN,2845.5,67.73,0.543,14.4,13.095,3.8,1,0.718\\r\\n2,B1 SH,SHRIMPLIN,2846,68.85,0.516,12.1,13.35,3.7,1,0.692\\r\\n2,B1 SH,SHRIMPLIN,2846.5,73.2,0.496,9.7,15.12,3.6,1,0.667\\r\\n3,B1 SH,SHRIMPLIN,2847,84.46,0.486,6.1,20.48,3.6,1,0.641\\r\\n3,B1 SH,SHRIMPLIN,2847.5,96.96,0.483,7,23.225,3.4,1,0.615\\r\\n3,B1 SH,SHRIMPLIN,2848,95.54,0.486,9.4,21.305,3.5,1,0.59\\r\\n3,B1 SH,SHRIMPLIN,2848.5,88.67,0.493,13.2,17.235,3.4,1,0.564\\r\\n3,B1 SH,SHRIMPLIN,2849,88.54,0.501,13.1,16.71,3.5,1,0.538\\r\\n3,B1 SH,SHRIMPLIN,2849.5,92.22,0.501,11.2,18.675,3.5,1,0.513\\r\\n2,B1 SH,SHRIMPLIN,2850,89.67,0.491,4.9,20.405,3.3,1,0.487\\r\\n2,B1 SH,SHRIMPLIN,2850.5,91.17,0.47,2.2,20.3,3.1,1,0.462\\r\\n2,B1 SH,SHRIMPLIN,2851,83.62,0.435,5.1,17.16,2.8,1,0.436\\r\\n2,B1 SH,SHRIMPLIN,2851.5,85,0.401,8.3,15.87,2.8,1,0.41\\r\\n2,B1 SH,SHRIMPLIN,2852,77.7,0.371,7.5,16.85,2.9,1,0.385\\r\\n2,B1 SH,SHRIMPLIN,2852.5,74.29,0.334,6.1,17.3,2.9,1,0.359\\r\\n2,B1 SH,SHRIMPLIN,2853,70.21,0.307,5.4,17.57,2.9,1,0.333\\r\\n2,B1 SH,SHRIMPLIN,2853.5,76.38,0.297,4.7,17.195,3,1,0.308\\r\\n2,B1 SH,SHRIMPLIN,2854,76.28,0.301,4.4,16.415,3,1,0.282\\r\\n2,B1 SH,SHRIMPLIN,2854.5,69.04,0.314,4.1,14.19,3.2,1,0.256\\r\\n2,B1 SH,SHRIMPLIN,2855,78.11,0.338,5.8,13.25,3.4,1,0.231\\r\\n3,B1 SH,SHRIMPLIN,2855.5,84.18,0.377,6.8,15.72,3.8,1,0.205\\r\\n3,B1 SH,SHRIMPLIN,2856,85.85,0.428,6.6,20.045,3.5,1,0.179\\r\\n3,B1 SH,SHRIMPLIN,2856.5,89.6,0.47,4.4,20.455,3.3,1,0.154\\r\\n3,B1 SH,SHRIMPLIN,2857,80.61,0.509,3.6,16.78,3.1,1,0.128\\r\\n3,B1 SH,SHRIMPLIN,2857.5,79.36,0.539,7.5,11.78,3.3,1,0.103\\r\\n3,B1 SH,SHRIMPLIN,2858,83.05,0.548,8.1,14.545,3.7,1,0.077\\r\\n3,B1 SH,SHRIMPLIN,2858.5,95,0.556,9.2,23.83,3.6,1,0.051\\r\\n5,B1 LM,SHRIMPLIN,2859,85.04,0.629,6.4,26.67,3.1,2,1\\r\\n5,B1 LM,SHRIMPLIN,2859.5,46.18,0.668,4.3,16.61,3.1,2,0.944\\r\\n5,B1 LM,SHRIMPLIN,2860,34.53,0.703,4.9,8.22,3.5,2,0.889\\r\\n5,B1 LM,SHRIMPLIN,2860.5,35.19,0.744,7.9,4.71,4.6,2,0.833\\r\\n8,B1 LM,SHRIMPLIN,2861,27.85,0.803,7.8,4.24,4.8,2,0.778\\r\\n8,B1 LM,SHRIMPLIN,2861.5,23.48,0.913,6,4.22,4.7,2,0.722\\r\\n8,B1 LM,SHRIMPLIN,2862,20.42,1.031,5,3.785,4.6,2,0.667\\r\\n8,B1 LM,SHRIMPLIN,2862.5,20.55,1.147,4.1,3.145,5.1,2,0.611\\r\\n8,B1 LM,SHRIMPLIN,2863,19.99,1.292,4.7,2.195,5.4,2,0.556\\r\\n8,B1 LM,SHRIMPLIN,2863.5,21.18,1.405,5.2,1.59,5.9,2,0.5\\r\\n8,B1 LM,SHRIMPLIN,2864,18.63,1.452,4.7,1.755,6.1,2,0.444\\r\\n6,B1 LM,SHRIMPLIN,2864.5,29.41,1.465,4.2,2.36,6,2,0.389\\r\\n6,B1 LM,SHRIMPLIN,2865,43.09,1.48,3.1,3.11,5.8,2,0.333\\r\\n6,B1 LM,SHRIMPLIN,2865.5,48.95,1.479,4.2,2.95,5.6,2,0.278\\r\\n6,B1 LM,SHRIMPLIN,2866,45.84,1.437,4.1,3.03,5.6,2,0.222\\r\\n6,B1 LM,SHRIMPLIN,2866.5,45.04,1.36,4.2,3.02,5.7,2,0.167\\r\\n6,B1 LM,SHRIMPLIN,2867,42.92,1.249,3.6,3.445,5.7,2,0.111\\r\\n6,B1 LM,SHRIMPLIN,2867.5,53.11,1.104,3.3,4.095,5.9,2,0.056\\r\\n3,B2 SH,SHRIMPLIN,2868,67.55,0.966,4.2,5.13,5.1,1,1\\r\\n3,B2 SH,SHRIMPLIN,2868.5,73.99,0.862,6.1,7.84,4.6,1,0.964\\r\\n3,B2 SH,SHRIMPLIN,2869,83.09,0.806,9.4,11.2,3.9,1,0.929\\r\\n3,B2 SH,SHRIMPLIN,2869.5,97.28,0.763,10.5,13.97,3.6,1,0.893\\r\\n2,B2 SH,SHRIMPLIN,2870,95.16,0.714,9.6,12.96,3.4,1,0.857\\r\\n2,B2 SH,SHRIMPLIN,2870.5,79.88,0.661,8.6,10.425,3.3,1,0.821\\r\\n2,B2 SH,SHRIMPLIN,2871,76.38,0.602,8.9,8.785,3.5,1,0.786\\r\\n2,B2 SH,SHRIMPLIN,2871.5,75.68,0.561,11.4,10.305,3.6,1,0.75\\r\\n2,B2 SH,SHRIMPLIN,2872,84.59,0.537,13.4,13.745,3.9,1,0.714\\r\\n3,B2 SH,SHRIMPLIN,2872.5,103.43,0.525,14.6,16.66,3.9,1,0.679\\r\\n3,B2 SH,SHRIMPLIN,2873,103.41,0.522,14.7,17.625,3.9,1,0.643\\r\\n3,B2 SH,SHRIMPLIN,2873.5,99.27,0.52,13,16.245,3.8,1,0.607\\r\\n3,B2 SH,SHRIMPLIN,2874,92.94,0.516,12.1,14.85,3.7,1,0.571\\r\\n3,B2 SH,SHRIMPLIN,2874.5,92.9,0.507,11.4,13.27,3.8,1,0.536\\r\\n3,B2 SH,SHRIMPLIN,2875,80.32,0.504,11,12.48,3.7,1,0.5\\r\\n2,B2 SH,SHRIMPLIN,2875.5,83.63,0.512,10.1,11.525,4,1,0.464\\r\\n2,B2 SH,SHRIMPLIN,2876,67.81,0.529,9.4,11.31,4.1,1,0.429\\r\\n2,B2 SH,SHRIMPLIN,2876.5,67.88,0.559,9.7,10.865,4.3,1,0.393\\r\\n2,B2 SH,SHRIMPLIN,2877,64.39,0.589,8.4,10.365,4.4,1,0.357\\r\\n2,B2 SH,SHRIMPLIN,2877.5,61.99,0.604,6.9,9.385,4.4,1,0.321\\r\\n2,B2 SH,SHRIMPLIN,2878,62.5,0.604,5.5,8.53,4.3,1,0.286\\r\\n2,B2 SH,SHRIMPLIN,2878.5,58.64,0.58,5.3,8.6,4.2,1,0.25\\r\\n2,B2 SH,SHRIMPLIN,2879,64.04,0.543,5.7,9.98,4,1,0.214\\r\\n2,B2 SH,SHRIMPLIN,2879.5,78.8,0.519,5.4,13.745,3.7,1,0.179\\r\\n3,B2 SH,SHRIMPLIN,2880,78.88,0.502,2,21.885,3.7,1,0.143\\r\\n3,B2 SH,SHRIMPLIN,2880.5,86.88,0.5,-3.8,33.79,3.2,1,0.107\\r\\n3,B2 SH,SHRIMPLIN,2881,83.97,0.519,-2,37.47,3,1,0.071\\r\\n3,B2 SH,SHRIMPLIN,2881.5,70.01,0.543,-4.3,31.57,2.8,1,0.036\\r\\n7,B2 LM,SHRIMPLIN,2882,50.7,0.567,1.6,16.04,2.9,2,1\\r\\n7,B2 LM,SHRIMPLIN,2882.5,30.81,0.601,1.9,5.725,3.6,2,0.938\\r\\n7,B2 LM,SHRIMPLIN,2883,17.35,0.656,4.2,2.73,5,2,0.875\\r\\n8,B2 LM,SHRIMPLIN,2883.5,17.55,0.747,4.7,2.925,5.8,2,0.813\\r\\n8,B2 LM,SHRIMPLIN,2884,18.19,0.855,5.6,3.285,6.2,2,0.75\\r\\n8,B2 LM,SHRIMPLIN,2884.5,17.08,0.982,5.4,3.99,6.3,2,0.688\\r\\n8,B2 LM,SHRIMPLIN,2885,15.88,1.107,5.5,4.34,6.2,2,0.625\\r\\n8,B2 LM,SHRIMPLIN,2885.5,20.38,1.17,5,4.645,5.9,2,0.563\\r\\n8,B2 LM,SHRIMPLIN,2886,24.93,1.173,5.1,4.77,5.8,2,0.5\\r\\n8,B2 LM,SHRIMPLIN,2886.5,28.57,1.15,4.5,4.725,5.8,2,0.438\\r\\n8,B2 LM,SHRIMPLIN,2887,34.54,1.115,5,4.365,5.7,2,0.375\\r\\n8,B2 LM,SHRIMPLIN,2887.5,42.34,1.064,5.3,4.4,5.7,2,0.313\\r\\n8,B2 LM,SHRIMPLIN,2888,44.21,1.008,5.5,4.86,5.5,2,0.25\\r\\n6,B2 LM,SHRIMPLIN,2888.5,44.15,0.943,4.1,5.47,5.6,2,0.188\\r\\n6,B2 LM,SHRIMPLIN,2889,39.25,0.88,3.9,5.905,5.6,2,0.125\\r\\n6,B2 LM,SHRIMPLIN,2889.5,38.37,0.812,5.7,7.13,5.4,2,0.063\\r\\n2,B3 SH,SHRIMPLIN,2890,60.63,0.74,9.1,9.33,4.7,1,1\\r\\n2,B3 SH,SHRIMPLIN,2890.5,83.69,0.684,12.4,11.31,4,1,0.967\\r\\n2,B3 SH,SHRIMPLIN,2891,87.3,0.648,13.7,11.975,3.6,1,0.933\\r\\n2,B3 SH,SHRIMPLIN,2891.5,89.07,0.619,13.7,12.065,3.6,1,0.9\\r\\n2,B3 SH,SHRIMPLIN,2892,91.06,0.584,12.9,12.21,3.7,1,0.867\\r\\n2,B3 SH,SHRIMPLIN,2892.5,98.37,0.559,12,12.485,3.7,1,0.833\\r\\n2,B3 SH,SHRIMPLIN,2893,87.1,0.548,11.3,12.23,3.7,1,0.8\\r\\n2,B3 SH,SHRIMPLIN,2893.5,83.81,0.542,10.9,11.67,3.5,1,0.767\\r\\n2,B3 SH,SHRIMPLIN,2894,83.11,0.535,10.4,11.96,3.4,1,0.733\\r\\n2,B3 SH,SHRIMPLIN,2894.5,85.4,0.529,11.1,13.05,3.3,1,0.7\\r\\n2,B3 SH,SHRIMPLIN,2895,86.83,0.524,11.5,13.735,3.3,1,0.667\\r\\n2,B3 SH,SHRIMPLIN,2895.5,80.54,0.515,11.2,13.6,3.3,1,0.633\\r\\n2,B3 SH,SHRIMPLIN,2896,77.67,0.501,10.3,12.905,3.2,1,0.6\\r\\n2,B3 SH,SHRIMPLIN,2896.5,74.74,0.489,8.9,12.575,3.3,1,0.567\\r\\n2,B3 SH,SHRIMPLIN,2897,75.06,0.481,8.8,12.305,3.2,1,0.533\\r\\n2,B3 SH,SHRIMPLIN,2897.5,76.98,0.477,8.3,12.35,3.2,1,0.5\\r\\n2,B3 SH,SHRIMPLIN,2898,79.6,0.471,8.5,12.855,3.2,1,0.467\\r\\n2,B3 SH,SHRIMPLIN,2898.5,92.95,0.467,8.6,14.3,3.3,1,0.433\\r\\n2,B3 SH,SHRIMPLIN,2899,94.25,0.467,9,14.21,3.3,1,0.4\\r\\n2,B3 SH,SHRIMPLIN,2899.5,83.12,0.467,9.1,13.64,3.3,1,0.367\\r\\n2,B3 SH,SHRIMPLIN,2900,75.02,0.471,9.2,12.5,3.4,1,0.333\\r\\n2,B3 SH,SHRIMPLIN,2900.5,62.61,0.48,8.7,11.92,3.3,1,0.3\\r\\n2,B3 SH,SHRIMPLIN,2901,68.47,0.487,8.2,11.635,3.3,1,0.267\\r\\n2,B3 SH,SHRIMPLIN,2901.5,69.58,0.484,7.3,11.265,3.3,1,0.233\\r\\n2,B3 SH,SHRIMPLIN,2902,76.05,0.479,7.5,11.375,3.5,1,0.2\\r\\n2,B3 SH,SHRIMPLIN,2902.5,89.53,0.471,8.4,12.285,3.5,1,0.167\\r\\n3,B3 SH,SHRIMPLIN,2903,97.25,0.464,9.1,15.135,3.5,1,0.133\\r\\n3,B3 SH,SHRIMPLIN,2903.5,95.12,0.474,8.1,21.93,3.5,1,0.1\\r\\n3,B3 SH,SHRIMPLIN,2904,91.67,0.501,6.4,26.715,3.3,1,0.067\\r\\n3,B3 SH,SHRIMPLIN,2904.5,85.15,0.521,3.7,25.875,3.2,1,0.033\\r\\n8,B3 LM,SHRIMPLIN,2905,65.17,0.534,2.5,18.92,3.2,2,1\\r\\n8,B3 LM,SHRIMPLIN,2905.5,32.9,0.547,2.3,12.215,3.7,2,0.917\\r\\n8,B3 LM,SHRIMPLIN,2906,19.92,0.549,1.9,10.63,4.8,2,0.833\\r\\n8,B3 LM,SHRIMPLIN,2906.5,14.52,0.549,2.4,11.06,5.2,2,0.75\\r\\n8,B3 LM,SHRIMPLIN,2907,14.75,0.558,3.5,12.15,5.4,2,0.667\\r\\n8,B3 LM,SHRIMPLIN,2907.5,15.01,0.565,3.9,13.16,5.2,2,0.583\\r\\n8,B3 LM,SHRIMPLIN,2908,15.68,0.56,3.7,14.02,5.2,2,0.5\\r\\n8,B3 LM,SHRIMPLIN,2908.5,16.96,0.55,3,14.255,5.3,2,0.417\\r\\n8,B3 LM,SHRIMPLIN,2909,15.78,0.534,3.1,12.705,5.5,2,0.333\\r\\n8,B3 LM,SHRIMPLIN,2909.5,15.71,0.507,3.9,11.095,5.7,2,0.25\\r\\n8,B3 LM,SHRIMPLIN,2910,17.29,0.484,3.6,10.225,5.7,2,0.167\\r\\n8,B3 LM,SHRIMPLIN,2910.5,25.4,0.476,3.5,10.81,5.6,2,0.083\\r\\n2,B4 SH,SHRIMPLIN,2911,54.3,0.48,5.7,11.865,5.1,1,1\\r\\n2,B4 SH,SHRIMPLIN,2911.5,77.86,0.493,8,11.795,4,1,0.966\\r\\n2,B4 SH,SHRIMPLIN,2912,81.08,0.496,8.6,11.345,3.6,1,0.931\\r\\n2,B4 SH,SHRIMPLIN,2912.5,64.84,0.489,6.8,10.6,3.3,1,0.897\\r\\n2,B4 SH,SHRIMPLIN,2913,68.3,0.476,6.3,10.89,3.5,1,0.862\\r\\n2,B4 SH,SHRIMPLIN,2913.5,62.2,0.456,6,11.805,3.4,1,0.828\\r\\n2,B4 SH,SHRIMPLIN,2914,62.13,0.447,6.8,12.205,3.4,1,0.793\\r\\n2,B4 SH,SHRIMPLIN,2914.5,59.9,0.447,7.5,12.495,3.4,1,0.759\\r\\n2,B4 SH,SHRIMPLIN,2915,66.76,0.446,7.6,12.57,3.3,1,0.724\\r\\n2,B4 SH,SHRIMPLIN,2915.5,68.75,0.441,8.4,12.535,3.4,1,0.69\\r\\n2,B4 SH,SHRIMPLIN,2916,89.47,0.431,10,13.055,3.3,1,0.655\\r\\n2,B4 SH,SHRIMPLIN,2916.5,92.28,0.42,12.3,14.46,3.3,1,0.621\\r\\n2,B4 SH,SHRIMPLIN,2917,89.52,0.41,13.6,15.78,3.2,1,0.586\\r\\n2,B4 SH,SHRIMPLIN,2917.5,72.44,0.401,11.6,15.58,3.3,1,0.552\\r\\n2,B4 SH,SHRIMPLIN,2918,65.12,0.389,10.4,15.095,3.2,1,0.517\\r\\n2,B4 SH,SHRIMPLIN,2918.5,61.43,0.375,7.4,14.62,3.2,1,0.483\\r\\n2,B4 SH,SHRIMPLIN,2919,64.01,0.362,6.4,15.335,3,1,0.448\\r\\n2,B4 SH,SHRIMPLIN,2919.5,60.03,0.354,4.5,15,3,1,0.414\\r\\n2,B4 SH,SHRIMPLIN,2920,66.07,0.348,4.4,14.44,3.1,1,0.379\\r\\n2,B4 SH,SHRIMPLIN,2920.5,74.64,0.344,5,13.845,3.2,1,0.345\\r\\n2,B4 SH,SHRIMPLIN,2921,76.08,0.344,5.9,14.19,3.3,1,0.31\\r\\n2,B4 SH,SHRIMPLIN,2921.5,77.9,0.35,6.8,14.375,3.3,1,0.276\\r\\n2,B4 SH,SHRIMPLIN,2922,90.26,0.354,7.1,14.075,3.2,1,0.241\\r\\n2,B4 SH,SHRIMPLIN,2922.5,100.24,0.362,6.9,13.22,3.2,1,0.207\\r\\n2,B4 SH,SHRIMPLIN,2923,104.57,0.367,8,14.63,3.2,1,0.172\\r\\n2,B4 SH,SHRIMPLIN,2923.5,117.83,0.382,8.6,18.955,3.4,1,0.138\\r\\n2,B4 SH,SHRIMPLIN,2924,119.71,0.403,12.2,24.86,3.5,1,0.103\\r\\n2,B4 SH,SHRIMPLIN,2924.5,114.49,0.436,13.7,26.24,3.2,1,0.069\\r\\n2,B4 SH,SHRIMPLIN,2925,76.16,0.473,12.7,21.64,3.1,1,0.034\\r\\n8,B4 LM,SHRIMPLIN,2925.5,34.5,0.509,8.2,15.465,3.4,2,1\\r\\n8,B4 LM,SHRIMPLIN,2926,17.99,0.548,3.1,11.83,4.7,2,0.889\\r\\n8,B4 LM,SHRIMPLIN,2926.5,16.23,0.597,1.7,9.835,5.9,2,0.778\\r\\n8,B4 LM,SHRIMPLIN,2927,16.97,0.669,1.3,7.54,5.7,2,0.667\\r\\n8,B4 LM,SHRIMPLIN,2927.5,18.68,0.745,2.3,5.93,5.7,2,0.556\\r\\n8,B4 LM,SHRIMPLIN,2928,30.74,0.778,3.6,5.83,5.8,2,0.444\\r\\n8,B4 LM,SHRIMPLIN,2928.5,46.76,0.775,3.6,6.47,5.6,2,0.333\\r\\n6,B4 LM,SHRIMPLIN,2929,49.39,0.732,3.9,6.69,5.3,2,0.222\\r\\n6,B4 LM,SHRIMPLIN,2929.5,44.23,0.669,5.7,7.985,5,2,0.111\\r\\n3,B5 SH,SHRIMPLIN,2930,54.96,0.602,7.3,10.27,4.2,1,1\\r\\n3,B5 SH,SHRIMPLIN,2930.5,68.62,0.55,9.9,13.345,3.6,1,0.941\\r\\n2,B5 SH,SHRIMPLIN,2931,84.84,0.507,11,14.745,3.1,1,0.882\\r\\n2,B5 SH,SHRIMPLIN,2931.5,82.8,0.462,11.9,16.365,3.2,1,0.824\\r\\n3,B5 SH,SHRIMPLIN,2932,95.56,0.425,11,18.035,3.4,1,0.765\\r\\n3,B5 SH,SHRIMPLIN,2932.5,106.29,0.401,8.4,21.3,3.2,1,0.706\\r\\n3,B5 SH,SHRIMPLIN,2933,95.11,0.394,7.8,21.825,3.2,1,0.647\\r\\n3,B5 SH,SHRIMPLIN,2933.5,96.55,0.391,8.2,20.44,3.1,1,0.588\\r\\n3,B5 SH,SHRIMPLIN,2934,92.19,0.391,11.1,17.735,3.3,1,0.529\\r\\n3,B5 SH,SHRIMPLIN,2934.5,100.17,0.391,11.6,18.11,3.2,1,0.471\\r\\n3,B5 SH,SHRIMPLIN,2935,101.7,0.387,11.9,19.115,3.2,1,0.412\\r\\n3,B5 SH,SHRIMPLIN,2935.5,100.5,0.38,13.8,18.12,3.2,1,0.353\\r\\n3,B5 SH,SHRIMPLIN,2936,102.07,0.369,15.5,17.425,3.4,1,0.294\\r\\n3,B5 SH,SHRIMPLIN,2936.5,109.83,0.358,15.2,18.72,3.7,1,0.235\\r\\n3,B5 SH,SHRIMPLIN,2937,118.17,0.354,18.5,21.295,3.9,1,0.176\\r\\n3,B5 SH,SHRIMPLIN,2937.5,119.16,0.358,17.9,24.97,3.8,1,0.118\\r\\n6,B5 LM,SHRIMPLIN,2938,63.36,0.384,8.2,20.85,3.3,2,1\\r\\n6,B5 LM,SHRIMPLIN,2938.5,44.37,0.398,6.1,14.47,3.4,2,0.95\\r\\n6,B5 LM,SHRIMPLIN,2939,37.71,0.413,4.7,12.17,4,2,0.9\\r\\n6,B5 LM,SHRIMPLIN,2939.5,37.36,0.438,4.4,12.545,5,2,0.85\\r\\n6,B5 LM,SHRIMPLIN,2940,39.66,0.467,4.6,13.01,5,2,0.8\\r\\n8,B5 LM,SHRIMPLIN,2940.5,52.61,0.487,5.1,12.835,5.3,2,0.75\\r\\n8,B5 LM,SHRIMPLIN,2941,53.75,0.501,5.2,12.71,6,2,0.7\\r\\n8,B5 LM,SHRIMPLIN,2941.5,59.61,0.504,5.5,12.8,6.1,2,0.65\\r\\n8,B5 LM,SHRIMPLIN,2942,62.99,0.501,5.1,12.9,5.6,2,0.6\\r\\n8,B5 LM,SHRIMPLIN,2942.5,72.39,0.496,4.6,12.795,5.1,2,0.55\\r\\n8,B5 LM,SHRIMPLIN,2943,81.12,0.496,4.3,12.595,5,2,0.5\\r\\n8,B5 LM,SHRIMPLIN,2944,234.8,0.515,4.7,11.41,4.8,2,0.4\\r\\n8,B5 LM,SHRIMPLIN,2944,234.8,0.515,4.7,11.41,4.8,2,0.4\\r\\n8,B5 LM,SHRIMPLIN,2944.5,273.48,0.538,5.3,10.045,5.1,2,0.35\\r\\n8,B5 LM,SHRIMPLIN,2945,164.34,0.573,5.9,8.48,5.3,2,0.3\\r\\n8,B5 LM,SHRIMPLIN,2945.5,101.5,0.6,5.9,7.805,5.7,2,0.25\\r\\n6,B5 LM,SHRIMPLIN,2946,84.6,0.616,4.3,7.58,5.7,2,0.2\\r\\n6,B5 LM,SHRIMPLIN,2946.5,84.6,0.616,4.3,7.58,5.7,2,0.2\\r\\n8,B5 LM,SHRIMPLIN,2947,91.02,0.621,3.5,7.795,5.7,2,0.15\\r\\n4,B5 LM,SHRIMPLIN,2947.5,116.04,0.605,3.8,7.73,5.5,2,0.1\\r\\n4,B5 LM,SHRIMPLIN,2948,129.74,0.574,5,8.61,4.7,2,0.05\\r\\n3,C SH,SHRIMPLIN,2948.5,130.95,0.545,6.2,12.17,4.2,1,1\\r\\n3,C SH,SHRIMPLIN,2949,127.25,0.519,7.5,17.585,3.6,1,0.982\\r\\n3,C SH,SHRIMPLIN,2949.5,115.33,0.484,10.4,20.065,3.3,1,0.965\\r\\n3,C SH,SHRIMPLIN,2950,110.37,0.453,13.2,19.63,3.2,1,0.947\\r\\n3,C SH,SHRIMPLIN,2950.5,95.97,0.433,12.9,17.945,3.2,1,0.93\\r\\n3,C SH,SHRIMPLIN,2951,92.1,0.415,14.9,17.19,3.5,1,0.912\\r\\n3,C SH,SHRIMPLIN,2951.5,92.33,0.401,14.7,16.855,3.6,1,0.895\\r\\n3,C SH,SHRIMPLIN,2952,84.32,0.401,14.9,17.04,3.7,1,0.877\\r\\n3,C SH,SHRIMPLIN,2952.5,85.93,0.405,14.1,16.725,3.7,1,0.86\\r\\n3,C SH,SHRIMPLIN,2953,86.15,0.41,13.5,16.505,3.7,1,0.842\\r\\n3,C SH,SHRIMPLIN,2953.5,87.94,0.418,13.6,16.735,3.6,1,0.825\\r\\n3,C SH,SHRIMPLIN,2954,86.68,0.425,14.1,16.94,3.6,1,0.807\\r\\n3,C SH,SHRIMPLIN,2954.5,85.31,0.431,14.7,17.845,3.5,1,0.789\\r\\n3,C SH,SHRIMPLIN,2955,86.99,0.441,13.9,18.455,3.5,1,0.772\\r\\n3,C SH,SHRIMPLIN,2955.5,88.41,0.456,13.4,18.05,3.6,1,0.754\\r\\n3,C SH,SHRIMPLIN,2956,85.73,0.471,13.6,15.635,3.8,1,0.737\\r\\n3,C SH,SHRIMPLIN,2956.5,79.97,0.48,13.1,13.72,4.1,1,0.719\\r\\n3,C SH,SHRIMPLIN,2957,72.32,0.489,13.4,13.05,4.3,1,0.702\\r\\n3,C SH,SHRIMPLIN,2957.5,69.7,0.496,13,13.785,4.2,1,0.684\\r\\n3,C SH,SHRIMPLIN,2958,78.44,0.504,13.5,13.815,4.1,1,0.667\\r\\n3,C SH,SHRIMPLIN,2958.5,82.19,0.509,12.2,14.275,4,1,0.649\\r\\n3,C SH,SHRIMPLIN,2959,85.45,0.509,12.6,15.215,4,1,0.632\\r\\n3,C SH,SHRIMPLIN,2959.5,92.63,0.508,13.7,16.465,3.9,1,0.614\\r\\n3,C SH,SHRIMPLIN,2960,88.92,0.507,14.6,16.885,3.9,1,0.596\\r\\n3,C SH,SHRIMPLIN,2960.5,90.45,0.505,13.7,16.3,3.8,1,0.579\\r\\n3,C SH,SHRIMPLIN,2961,87.42,0.504,12.7,15.225,4,1,0.561\\r\\n3,C SH,SHRIMPLIN,2961.5,84.11,0.507,12.5,15.12,4,1,0.544\\r\\n3,C SH,SHRIMPLIN,2962,87.26,0.509,12,15.145,3.9,1,0.526\\r\\n3,C SH,SHRIMPLIN,2962.5,84.87,0.511,12,14.82,3.9,1,0.509\\r\\n3,C SH,SHRIMPLIN,2963,84.88,0.507,11.3,14.335,3.9,1,0.491\\r\\n3,C SH,SHRIMPLIN,2963.5,88.37,0.493,10.5,15.695,4.2,1,0.474\\r\\n3,C SH,SHRIMPLIN,2964,90.68,0.48,11.1,18.01,4.2,1,0.456\\r\\n3,C SH,SHRIMPLIN,2964.5,94.56,0.471,12.3,20.75,3.9,1,0.439\\r\\n3,C SH,SHRIMPLIN,2965,96.31,0.462,15,22.025,3.6,1,0.421\\r\\n3,C SH,SHRIMPLIN,2965.5,99.42,0.456,17.2,22.97,3.4,1,0.404\\r\\n3,C SH,SHRIMPLIN,2966,97.55,0.453,16.7,22.12,3.4,1,0.386\\r\\n3,C SH,SHRIMPLIN,2966.5,98.51,0.45,15.3,20.35,3.6,1,0.368\\r\\n2,C SH,SHRIMPLIN,2967,86.18,0.452,13.5,17.53,3.7,1,0.351\\r\\n2,C SH,SHRIMPLIN,2967.5,89.44,0.461,12.2,16.31,3.8,1,0.333\\r\\n2,C SH,SHRIMPLIN,2968,89.13,0.471,11.7,15.875,3.9,1,0.316\\r\\n2,C SH,SHRIMPLIN,2968.5,87.64,0.484,12.1,15.865,3.8,1,0.298\\r\\n2,C SH,SHRIMPLIN,2969,84.34,0.502,12.3,15.685,3.9,1,0.281\\r\\n2,C SH,SHRIMPLIN,2969.5,83.26,0.517,12.3,15.23,3.8,1,0.263\\r\\n2,C SH,SHRIMPLIN,2970,84.8,0.525,12.5,14.78,4,1,0.246\\r\\n2,C SH,SHRIMPLIN,2970.5,84.02,0.531,10.8,15.47,3.9,1,0.228\\r\\n3,C SH,SHRIMPLIN,2971,90.99,0.535,10.9,15.235,3.9,1,0.211\\r\\n3,C SH,SHRIMPLIN,2971.5,83.72,0.537,11.4,14.25,3.9,1,0.193\\r\\n3,C SH,SHRIMPLIN,2972,81.44,0.538,10.9,14.015,4,1,0.175\\r\\n3,C SH,SHRIMPLIN,2972.5,80.51,0.538,10.1,14.465,3.9,1,0.158\\r\\n3,C SH,SHRIMPLIN,2973,83.93,0.539,10,15.11,3.8,1,0.14\\r\\n3,C SH,SHRIMPLIN,2973.5,83.36,0.535,10.1,15.73,3.7,1,0.123\\r\\n3,C SH,SHRIMPLIN,2974,86.69,0.529,10.9,15.115,3.8,1,0.105\\r\\n3,C SH,SHRIMPLIN,2974.5,86.71,0.521,10.6,13.995,3.7,1,0.088\\r\\n3,C SH,SHRIMPLIN,2975,84.91,0.515,11,14.065,3.9,1,0.07\\r\\n3,C SH,SHRIMPLIN,2975.5,84.75,0.516,13.6,20,3.7,1,0.053\\r\\n3,C SH,SHRIMPLIN,2976,87.88,0.543,16.2,23.385,3.6,1,0.035\\r\\n3,C SH,SHRIMPLIN,2976.5,86.06,0.584,15,20.82,3.3,1,0.018\\r\\n5,C LM,SHRIMPLIN,2977,56.43,0.627,10.4,12.115,3.7,2,1\\r\\n5,C LM,SHRIMPLIN,2977.5,32.69,0.667,6.2,6.42,4.4,2,0.99\\r\\n5,C LM,SHRIMPLIN,2978,25.06,0.708,5.9,4.845,5.5,2,0.98\\r\\n5,C LM,SHRIMPLIN,2978.5,18.26,0.77,5.3,4.695,5.2,2,0.971\\r\\n5,C LM,SHRIMPLIN,2979,18.28,0.874,4.9,4.67,5,2,0.961\\r\\n5,C LM,SHRIMPLIN,2979.5,14.41,0.947,3.9,5.705,5.1,2,0.951\\r\\n8,C LM,SHRIMPLIN,2980,13.99,0.983,2.3,7.35,5.2,2,0.941\\r\\n8,C LM,SHRIMPLIN,2980.5,13.28,0.983,0.1,8.365,5.4,2,0.931\\r\\n8,C LM,SHRIMPLIN,2981,16.71,0.946,0.1,8.53,5.4,2,0.922\\r\\n8,C LM,SHRIMPLIN,2981.5,31.35,0.907,3.7,8.695,5,2,0.912\\r\\n5,C LM,SHRIMPLIN,2982,49.41,0.881,9.4,10.025,4.5,2,0.902\\r\\n5,C LM,SHRIMPLIN,2982.5,65.33,0.862,13.3,9.785,4,2,0.892\\r\\n5,C LM,SHRIMPLIN,2983,64.3,0.841,11.1,9.24,4.3,2,0.882\\r\\n5,C LM,SHRIMPLIN,2983.5,42.48,0.819,7.1,8.02,4.7,2,0.873\\r\\n8,C LM,SHRIMPLIN,2984,29.96,0.794,4.8,7.48,4.8,2,0.863\\r\\n8,C LM,SHRIMPLIN,2984.5,21.23,0.772,3.5,7.98,5,2,0.853\\r\\n8,C LM,SHRIMPLIN,2985,28.09,0.768,2.2,8.295,5.1,2,0.843\\r\\n8,C LM,SHRIMPLIN,2985.5,31.12,0.775,1.5,8.515,5.2,2,0.833\\r\\n5,C LM,SHRIMPLIN,2986,36.63,0.78,0.9,8.165,4.8,2,0.824\\r\\n5,C LM,SHRIMPLIN,2986.5,36.1,0.783,0.5,8.115,4.3,2,0.814\\r\\n5,C LM,SHRIMPLIN,2987,42.06,0.787,0.6,7.475,4,2,0.804\\r\\n5,C LM,SHRIMPLIN,2987.5,44.31,0.792,1.5,6.77,4,2,0.794\\r\\n5,C LM,SHRIMPLIN,2988,43.19,0.803,2.1,6.215,4.1,2,0.784\\r\\n5,C LM,SHRIMPLIN,2988.5,39.82,0.82,2.3,6.04,4.3,2,0.775\\r\\n5,C LM,SHRIMPLIN,2989,41.71,0.839,2.3,6.61,4.4,2,0.765\\r\\n5,C LM,SHRIMPLIN,2989.5,43.02,0.865,2.5,7.01,4.3,2,0.755\\r\\n5,C LM,SHRIMPLIN,2990,42.6,0.889,2.4,7.33,4.2,2,0.745\\r\\n5,C LM,SHRIMPLIN,2990.5,41.53,0.906,2.7,6.94,4,2,0.735\\r\\n5,C LM,SHRIMPLIN,2991,46.69,0.918,2.1,6.705,4.2,2,0.725\\r\\n5,C LM,SHRIMPLIN,2991.5,49,0.929,2.4,6.685,4.3,2,0.716\\r\\n5,C LM,SHRIMPLIN,2992,51.83,0.936,2.1,7.07,4.5,2,0.706\\r\\n5,C LM,SHRIMPLIN,2992.5,45.87,0.94,2.7,7.445,4.2,2,0.696\\r\\n5,C LM,SHRIMPLIN,2993,45.87,0.94,2.7,7.445,4.2,2,0.696\\r\\n5,C LM,SHRIMPLIN,2993.5,46.83,0.943,2.4,7.655,4.4,2,0.686\\r\\n5,C LM,SHRIMPLIN,2994,47.5,0.946,2.9,7.705,4,2,0.676\\r\\n5,C LM,SHRIMPLIN,2994.5,48.88,0.947,3.1,7.33,4,2,0.667\\r\\n5,C LM,SHRIMPLIN,2995,45.88,0.949,4.6,6.865,3.8,2,0.657\\r\\n5,C LM,SHRIMPLIN,2995.5,51.63,0.952,4.3,6.88,4.1,2,0.647\\r\\n5,C LM,SHRIMPLIN,2996,49.28,0.954,3.9,7.085,4.3,2,0.637\\r\\n5,C LM,SHRIMPLIN,2996.5,52.4,0.956,3.7,7.105,4.4,2,0.627\\r\\n5,C LM,SHRIMPLIN,2997,50.59,0.96,4.3,6.665,4.5,2,0.618\\r\\n5,C LM,SHRIMPLIN,2997.5,49.71,0.963,4.5,6.645,4.6,2,0.608\\r\\n5,C LM,SHRIMPLIN,2998,46.48,0.967,4.8,6.69,4.6,2,0.598\\r\\n5,C LM,SHRIMPLIN,2998.5,50.19,0.972,4.6,6.815,4.5,2,0.588\\r\\n5,C LM,SHRIMPLIN,2999,55.85,0.969,4.7,6.475,4.3,2,0.578\\r\\n5,C LM,SHRIMPLIN,2999.5,74.49,0.954,4.8,6.14,4.2,2,0.569\\r\\n4,C LM,SHRIMPLIN,3000,126.32,0.936,5.2,6.41,4.2,2,0.559\\r\\n4,C LM,SHRIMPLIN,3000.5,274,0.92,6.9,7.65,4.5,2,0.549\\r\\n4,C LM,SHRIMPLIN,3001,358.74,0.903,8.5,10.035,4.6,2,0.539\\r\\n4,C LM,SHRIMPLIN,3001.5,361.15,0.896,9.9,12.255,4.8,2,0.529\\r\\n4,C LM,SHRIMPLIN,3002,227.99,0.894,10.3,12.67,4.7,2,0.52\\r\\n5,C LM,SHRIMPLIN,3002.5,115.43,0.893,10,11.24,4.6,2,0.51\\r\\n5,C LM,SHRIMPLIN,3003,80.43,0.893,9.3,9.055,4.3,2,0.5\\r\\n5,C LM,SHRIMPLIN,3003.5,65.06,0.898,8.4,8.13,4.5,2,0.49\\r\\n5,C LM,SHRIMPLIN,3004,49.86,0.91,7.6,7.585,4.8,2,0.48\\r\\n5,C LM,SHRIMPLIN,3004.5,51.04,0.925,7.3,7.795,5.1,2,0.471\\r\\n5,C LM,SHRIMPLIN,3005,52.63,0.942,7.6,7.84,5,2,0.461\\r\\n5,C LM,SHRIMPLIN,3005.5,56.88,0.975,7.8,8.3,4.9,2,0.441\\r\\n5,C LM,SHRIMPLIN,3006,60.61,0.982,7.8,8.335,4.9,2,0.431\\r\\n5,C LM,SHRIMPLIN,3006.5,57.36,0.985,7.6,8.07,4.7,2,0.422\\r\\n5,C LM,SHRIMPLIN,3007,53.58,0.986,7.2,8.13,4.6,2,0.412\\r\\n5,C LM,SHRIMPLIN,3007.5,52.02,0.986,7.1,8.165,4.7,2,0.402\\r\\n5,C LM,SHRIMPLIN,3008,53.66,0.986,7.4,8.46,4.8,2,0.392\\r\\n5,C LM,SHRIMPLIN,3008.5,55.22,0.985,7.7,8.54,4.8,2,0.382\\r\\n5,C LM,SHRIMPLIN,3009,50.16,0.982,7.2,8.38,4.7,2,0.373\\r\\n5,C LM,SHRIMPLIN,3009.5,55.6,0.971,7.1,8.295,4.5,2,0.363\\r\\n5,C LM,SHRIMPLIN,3010,53.77,0.955,6.8,8.035,4.5,2,0.353\\r\\n5,C LM,SHRIMPLIN,3010.5,50.23,0.937,7.1,8.86,4.6,2,0.343\\r\\n5,C LM,SHRIMPLIN,3011,63.43,0.915,7.1,9.95,5,2,0.333\\r\\n5,C LM,SHRIMPLIN,3011.5,61.93,0.889,8,11.39,5.2,2,0.324\\r\\n5,C LM,SHRIMPLIN,3012,68.62,0.863,8.1,12.28,5.1,2,0.314\\r\\n5,C LM,SHRIMPLIN,3012.5,74.18,0.836,8.2,12.17,4.8,2,0.304\\r\\n4,C LM,SHRIMPLIN,3013,73.86,0.816,8,12.37,4.7,2,0.294\\r\\n4,C LM,SHRIMPLIN,3013.5,71.51,0.798,8.9,12.94,4.6,2,0.284\\r\\n4,C LM,SHRIMPLIN,3014,79.77,0.782,10,14.235,4.4,2,0.275\\r\\n4,C LM,SHRIMPLIN,3014.5,80.9,0.776,11,14.86,4.3,2,0.265\\r\\n4,C LM,SHRIMPLIN,3015,96.85,0.775,9.4,13.74,4.3,2,0.255\\r\\n4,C LM,SHRIMPLIN,3015.5,92.76,0.771,7.8,11.48,4.4,2,0.245\\r\\n6,C LM,SHRIMPLIN,3016,51.5,0.762,6.6,8.025,4.1,2,0.225\\r\\n6,C LM,SHRIMPLIN,3016.5,47.77,0.756,7.4,9.425,4.1,2,0.216\\r\\n6,C LM,SHRIMPLIN,3017,54.15,0.751,6.4,11.7,4.9,2,0.206\\r\\n6,C LM,SHRIMPLIN,3017.5,50.45,0.74,4.3,13.34,5,2,0.196\\r\\n9,C LM,SHRIMPLIN,3018,32.78,0.723,1.2,13.11,5.1,2,0.186\\r\\n9,C LM,SHRIMPLIN,3018.5,23.5,0.711,0.3,12.3,5.2,2,0.176\\r\\n9,C LM,SHRIMPLIN,3019,28.33,0.706,0.5,11.79,5.3,2,0.167\\r\\n9,C LM,SHRIMPLIN,3019.5,31.12,0.704,1.7,11.325,5.3,2,0.157\\r\\n9,C LM,SHRIMPLIN,3020,28.68,0.709,1.9,11.165,5.4,2,0.147\\r\\n9,C LM,SHRIMPLIN,3020.5,31.67,0.721,1.6,10.535,5.4,2,0.137\\r\\n9,C LM,SHRIMPLIN,3021,39.75,0.733,0.9,10.04,5.5,2,0.127\\r\\n9,C LM,SHRIMPLIN,3021.5,36.56,0.747,2,8.545,5.3,2,0.118\\r\\n9,C LM,SHRIMPLIN,3022,36.56,0.747,2,8.545,5.3,2,0.118\\r\\n9,C LM,SHRIMPLIN,3022.5,37.21,0.764,2.7,7.73,5.6,2,0.108\\r\\n9,C LM,SHRIMPLIN,3023,35.8,0.777,2.5,8.195,5.7,2,0.098\\r\\n9,C LM,SHRIMPLIN,3023.5,36.56,0.784,1.4,10.29,5.8,2,0.088\\r\\n8,C LM,SHRIMPLIN,3024,27.96,0.791,1.6,12.12,5.5,2,0.078\\r\\n8,C LM,SHRIMPLIN,3024.5,26.3,0.797,2.1,12.385,5.4,2,0.069\\r\\n8,C LM,SHRIMPLIN,3025,19.97,0.803,1.9,11.12,5.5,2,0.059\\r\\n8,C LM,SHRIMPLIN,3025.5,17.92,0.808,1.5,9.73,5.4,2,0.049\\r\\n8,C LM,SHRIMPLIN,3026,17.92,0.808,1.5,9.73,5.4,2,0.049\\r\\n8,C LM,SHRIMPLIN,3026.5,16.51,0.814,2,8.275,5.5,2,0.039\\r\\n8,C LM,SHRIMPLIN,3027,21.94,0.82,3.3,7.68,5.4,2,0.029\\r\\n8,C LM,SHRIMPLIN,3027.5,32.54,0.821,2.5,7.445,5.8,2,0.02\\r\\n8,C LM,SHRIMPLIN,3028,47.7,0.814,1.6,7.34,5.8,2,0.01\\r\\n2,A1 SH,SHANKLE,2774.5,98.36,0.642,-0.1,18.685,2.9,1,1\\r\\n2,A1 SH,SHANKLE,2775,97.57,0.631,7.9,16.745,3.2,1,0.984\\r\\n2,A1 SH,SHANKLE,2775.5,98.41,0.615,12.8,14.105,3.2,1,0.968\\r\\n2,A1 SH,SHANKLE,2776,85.92,0.597,13,13.385,3.4,1,0.952\\r\\n2,A1 SH,SHANKLE,2776.5,83.16,0.592,12.3,13.345,3.4,1,0.935\\r\\n2,A1 SH,SHANKLE,2777,82.56,0.599,12.9,13.105,3.5,1,0.919\\r\\n2,A1 SH,SHANKLE,2777.5,83.12,0.611,13.2,14,3.3,1,0.903\\r\\n2,A1 SH,SHANKLE,2778,84.26,0.62,12.8,13.685,3.3,1,0.887\\r\\n2,A1 SH,SHANKLE,2778.5,86.29,0.627,13.2,13.92,3.2,1,0.871\\r\\n2,A1 SH,SHANKLE,2779,80.95,0.629,13,13.975,3.2,1,0.855\\r\\n2,A1 SH,SHANKLE,2779.5,79.07,0.629,13,14.235,3.2,1,0.839\\r\\n2,A1 SH,SHANKLE,2780,75.31,0.626,11.4,13.17,3.2,1,0.823\\r\\n2,A1 SH,SHANKLE,2780.5,69.3,0.625,10.1,12.32,3,1,0.806\\r\\n2,A1 SH,SHANKLE,2781,69.16,0.626,9,11.805,3,1,0.79\\r\\n2,A1 SH,SHANKLE,2781.5,69.03,0.624,10,11.72,3.2,1,0.774\\r\\n2,A1 SH,SHANKLE,2782,64.95,0.622,10.1,11.75,3.4,1,0.758\\r\\n2,A1 SH,SHANKLE,2782.5,78.95,0.607,12,12.155,3.4,1,0.742\\r\\n2,A1 SH,SHANKLE,2783,82.36,0.58,11.7,12.955,3.2,1,0.726\\r\\n2,A1 SH,SHANKLE,2783.5,80.27,0.543,11.1,12.865,3.1,1,0.71\\r\\n2,A1 SH,SHANKLE,2784,78.87,0.507,8.5,12.23,2.9,1,0.694\\r\\n2,A1 SH,SHANKLE,2784.5,66.38,0.473,6.2,11.89,2.8,1,0.677\\r\\n1,A1 SH,SHANKLE,2785,58.63,0.444,4.4,12.44,2.7,1,0.661\\r\\n1,A1 SH,SHANKLE,2785.5,59.16,0.413,3.7,13.64,2.6,1,0.645\\r\\n1,A1 SH,SHANKLE,2786,52.86,0.378,2.5,14.49,2.6,1,0.629\\r\\n1,A1 SH,SHANKLE,2786.5,54.32,0.344,1.1,15.085,2.6,1,0.613\\r\\n1,A1 SH,SHANKLE,2787,53.27,0.32,-0.3,14.985,2.7,1,0.597\\r\\n1,A1 SH,SHANKLE,2787.5,52.34,0.312,-0.1,14.945,2.7,1,0.581\\r\\n1,A1 SH,SHANKLE,2788,58.01,0.31,0.9,15.055,2.7,1,0.565\\r\\n1,A1 SH,SHANKLE,2788.5,55.38,0.307,1.6,15.28,2.8,1,0.548\\r\\n1,A1 SH,SHANKLE,2789,55.18,0.301,1.7,15.905,2.8,1,0.532\\r\\n1,A1 SH,SHANKLE,2789.5,55.09,0.292,0.8,16.485,2.8,1,0.516\\r\\n1,A1 SH,SHANKLE,2790,58.89,0.288,0.3,17.33,2.7,1,0.5\\r\\n1,A1 SH,SHANKLE,2790.5,56.51,0.294,-0.5,17.77,2.7,1,0.484\\r\\n1,A1 SH,SHANKLE,2791,57.27,0.31,-0.1,17.9,2.8,1,0.468\\r\\n1,A1 SH,SHANKLE,2791.5,58.42,0.328,0.3,17.97,2.8,1,0.452\\r\\n1,A1 SH,SHANKLE,2792,58.99,0.346,0.9,18.3,2.7,1,0.435\\r\\n1,A1 SH,SHANKLE,2792.5,59.99,0.367,1.5,19.49,2.5,1,0.419\\r\\n1,A1 SH,SHANKLE,2793,62.66,0.389,1.7,20.135,2.4,1,0.403\\r\\n1,A1 SH,SHANKLE,2793.5,60.46,0.408,2.1,20.495,2.3,1,0.387\\r\\n1,A1 SH,SHANKLE,2794,60.85,0.415,1.1,20.34,2.3,1,0.371\\r\\n1,A1 SH,SHANKLE,2794.5,63.8,0.408,1.1,20.015,2.4,1,0.355\\r\\n1,A1 SH,SHANKLE,2795,63.82,0.387,1,19.615,2.4,1,0.339\\r\\n1,A1 SH,SHANKLE,2795.5,66.97,0.367,0.3,19.01,2.4,1,0.323\\r\\n1,A1 SH,SHANKLE,2796,69.67,0.362,-0.2,18.66,2.5,1,0.306\\r\\n1,A1 SH,SHANKLE,2796.5,70.72,0.367,1.1,17.45,2.6,1,0.29\\r\\n1,A1 SH,SHANKLE,2797,85.75,0.377,5.1,18.705,2.6,1,0.274\\r\\n1,A1 SH,SHANKLE,2797.5,89.58,0.389,8.5,19.555,2.6,1,0.258\\r\\n2,A1 SH,SHANKLE,2798,87.45,0.396,6,20.265,2.6,1,0.242\\r\\n2,A1 SH,SHANKLE,2798.5,84.45,0.405,3.2,16.485,2.8,1,0.226\\r\\n1,A1 SH,SHANKLE,2799,71.4,0.415,2.2,12.965,3,1,0.21\\r\\n1,A1 SH,SHANKLE,2799.5,70.13,0.423,4,11.34,2.9,1,0.194\\r\\n1,A1 SH,SHANKLE,2800,70.92,0.428,4.5,12.33,2.8,1,0.177\\r\\n1,A1 SH,SHANKLE,2800.5,68.34,0.427,4.7,13.295,2.7,1,0.161\\r\\n1,A1 SH,SHANKLE,2801,76.04,0.422,7.1,16.445,2.6,1,0.145\\r\\n1,A1 SH,SHANKLE,2801.5,89.18,0.412,9.1,24.17,2.4,1,0.129\\r\\n2,A1 SH,SHANKLE,2802,86.72,0.396,7.6,28.165,2.4,1,0.113\\r\\n2,A1 SH,SHANKLE,2802.5,73.95,0.384,3.9,26.97,2.5,1,0.097\\r\\n2,A1 SH,SHANKLE,2803,59.22,0.382,2.1,20.215,3,1,0.081\\r\\n2,A1 SH,SHANKLE,2803.5,70.19,0.389,4.4,16.27,3.2,1,0.065\\r\\n2,A1 SH,SHANKLE,2804,71.73,0.423,18.6,22.62,2.5,1,0.048\\r\\n2,A1 SH,SHANKLE,2804.5,75.15,0.494,16.4,33.13,2.1,1,0.032\\r\\n3,A1 SH,SHANKLE,2805,75.28,0.572,1.7,36.13,1.9,1,0.016\\r\\n3,A1 SH,SHANKLE,2805.5,46.04,0.645,-17.8,28.075,2.3,1,0.01\\r\\n8,A1 LM,SHANKLE,2806,46.04,0.645,-17.8,28.075,2.3,2,1\\r\\n8,A1 LM,SHANKLE,2807,26.73,0.748,-9,9.105,5,2,0.953\\r\\n8,A1 LM,SHANKLE,2807.5,36.5,0.794,0.1,5.945,4.5,2,0.93\\r\\n8,A1 LM,SHANKLE,2808,52.24,0.867,4.2,7.395,4.1,2,0.907\\r\\n6,A1 LM,SHANKLE,2808.5,61.32,0.925,9.4,8.825,3.6,2,0.884\\r\\n6,A1 LM,SHANKLE,2809,56.15,0.965,12.2,8.85,3.5,2,0.86\\r\\n6,A1 LM,SHANKLE,2809.5,55.07,0.985,10.9,7.225,3.6,2,0.837\\r\\n6,A1 LM,SHANKLE,2810,64.81,0.974,7.7,5.565,3.7,2,0.814\\r\\n6,A1 LM,SHANKLE,2810.5,87.83,0.952,4.6,4.495,4.1,2,0.791\\r\\n6,A1 LM,SHANKLE,2811,88.06,0.956,2.5,4.19,4.7,2,0.767\\r\\n6,A1 LM,SHANKLE,2811.5,75.07,0.971,0.8,4.695,5.2,2,0.744\\r\\n6,A1 LM,SHANKLE,2812,65.29,1.009,1.4,5.175,5.4,2,0.721\\r\\n6,A1 LM,SHANKLE,2812.5,74.26,1.064,4.3,6.455,5.1,2,0.698\\r\\n6,A1 LM,SHANKLE,2813,73.01,1.102,5.3,7.235,4.7,2,0.674\\r\\n8,A1 LM,SHANKLE,2813.5,64.61,1.121,4.4,7.765,4.7,2,0.651\\r\\n8,A1 LM,SHANKLE,2814,40.57,1.125,1.7,7.655,4.7,2,0.628\\r\\n8,A1 LM,SHANKLE,2814.5,30.41,1.109,-0.2,7.95,4.8,2,0.605\\r\\n8,A1 LM,SHANKLE,2815,22.91,1.115,-1.4,7.585,4.7,2,0.581\\r\\n8,A1 LM,SHANKLE,2815.5,24.62,1.13,-2.1,6.74,4.9,2,0.558\\r\\n8,A1 LM,SHANKLE,2816,25.02,1.124,-2.4,5.865,4.9,2,0.535\\r\\n8,A1 LM,SHANKLE,2816.5,27.77,1.097,-2,5.575,4.9,2,0.512\\r\\n6,A1 LM,SHANKLE,2817,37.24,1.069,1.1,6.59,4.7,2,0.488\\r\\n6,A1 LM,SHANKLE,2817.5,65.59,1.028,4.9,8.1,4.5,2,0.465\\r\\n6,A1 LM,SHANKLE,2818,87.34,0.989,8.7,9.485,4,2,0.442\\r\\n6,A1 LM,SHANKLE,2818.5,79.54,0.96,10,10.025,4,2,0.419\\r\\n6,A1 LM,SHANKLE,2819,79.63,0.937,10.7,10.155,3.9,2,0.395\\r\\n6,A1 LM,SHANKLE,2819.5,75.6,0.907,6.7,8.985,4,2,0.349\\r\\n6,A1 LM,SHANKLE,2820,52.75,0.918,1.9,8.955,3.6,2,0.326\\r\\n6,A1 LM,SHANKLE,2820.5,45.65,0.946,-2.7,9.75,3.8,2,0.302\\r\\n6,A1 LM,SHANKLE,2821,51.75,0.993,-4.6,9.235,4,2,0.279\\r\\n6,A1 LM,SHANKLE,2821.5,53.57,1.05,-4.6,7.61,4.8,2,0.256\\r\\n6,A1 LM,SHANKLE,2822,60.94,1.107,-2.1,5.46,4.8,2,0.233\\r\\n6,A1 LM,SHANKLE,2822.5,71.14,1.135,-1.1,4.55,4.9,2,0.209\\r\\n6,A1 LM,SHANKLE,2823,85.69,1.133,0.1,3.965,5,2,0.186\\r\\n6,A1 LM,SHANKLE,2823.5,73.63,1.094,0.8,3.9,4.8,2,0.163\\r\\n6,A1 LM,SHANKLE,2824,66.27,1.029,1.9,4.185,4.6,2,0.14\\r\\n6,A1 LM,SHANKLE,2824.5,81.99,0.956,3.5,5.795,4.3,2,0.116\\r\\n6,A1 LM,SHANKLE,2825,93.29,0.908,6.6,8.635,3.7,2,0.093\\r\\n6,A1 LM,SHANKLE,2825.5,105.48,0.867,8.5,13.285,3.3,2,0.07\\r\\n4,A1 LM,SHANKLE,2826,100.58,0.817,6.2,16.07,3.2,2,0.047\\r\\n3,B1 SH,SHANKLE,2826.5,76.2,0.688,3.9,16.375,2.8,1,1\\r\\n3,B1 SH,SHANKLE,2827,72.8,0.626,-14.8,30.425,2.4,1,0.98\\r\\n3,B1 SH,SHANKLE,2827.5,72.87,0.582,-19,39.125,2.1,1,0.959\\r\\n3,B1 SH,SHANKLE,2828,72.37,0.553,-16.2,45.275,2,1,0.939\\r\\n3,B1 SH,SHANKLE,2828.5,78.74,0.531,-8.6,44.37,2.1,1,0.918\\r\\n3,B1 SH,SHANKLE,2829,79.41,0.513,-10.2,43.805,2.2,1,0.898\\r\\n3,B1 SH,SHANKLE,2829.5,83.27,0.493,-6.5,39.435,2.6,1,0.878\\r\\n3,B1 SH,SHANKLE,2830,85.55,0.48,0.2,34.29,2.6,1,0.857\\r\\n3,B1 SH,SHANKLE,2830.5,87.65,0.477,6.5,33.645,2.5,1,0.837\\r\\n3,B1 SH,SHANKLE,2831,85.37,0.486,-1.7,35.66,2.3,1,0.816\\r\\n3,B1 SH,SHANKLE,2831.5,82.87,0.515,-4.1,36.645,2.5,1,0.796\\r\\n3,B1 SH,SHANKLE,2832,81.99,0.567,-3.2,32.775,2.3,1,0.776\\r\\n3,B1 SH,SHANKLE,2832.5,78.95,0.625,-7.9,31.68,2.4,1,0.755\\r\\n3,B1 SH,SHANKLE,2833,72.05,0.684,-14.4,28.625,2.3,1,0.735\\r\\n3,B1 SH,SHANKLE,2833.5,71.81,0.736,-14.8,24.055,3.4,1,0.714\\r\\n3,B1 SH,SHANKLE,2834,57.61,0.772,2.6,12.49,4.2,1,0.694\\r\\n3,B1 SH,SHANKLE,2834.5,54.12,0.809,7.8,8.38,4.2,1,0.673\\r\\n3,B1 SH,SHANKLE,2835,53.58,0.863,6.8,8.2,4.2,1,0.653\\r\\n3,B1 SH,SHANKLE,2835.5,61.12,0.901,7.1,8.695,4,1,0.633\\r\\n3,B1 SH,SHANKLE,2836,61.73,0.916,8,9.35,4,1,0.612\\r\\n3,B1 SH,SHANKLE,2836.5,62.92,0.921,8.4,9.06,3.8,1,0.592\\r\\n2,B1 SH,SHANKLE,2837,66.91,0.912,6.2,8.57,3.6,1,0.571\\r\\n2,B1 SH,SHANKLE,2837.5,66.22,0.893,4,7.775,3.4,1,0.551\\r\\n1,B1 SH,SHANKLE,2838,62.81,0.874,2.5,7.255,3.3,1,0.531\\r\\n1,B1 SH,SHANKLE,2838.5,60.15,0.852,1.3,7.185,3.2,1,0.51\\r\\n1,B1 SH,SHANKLE,2839,53.38,0.819,-0.1,7.125,3.3,1,0.49\\r\\n1,B1 SH,SHANKLE,2839.5,54.04,0.774,1.1,7.255,3.3,1,0.469\\r\\n1,B1 SH,SHANKLE,2840,55.65,0.732,2.1,8.18,3.2,1,0.449\\r\\n1,B1 SH,SHANKLE,2840.5,56.33,0.699,3,9.33,3,1,0.429\\r\\n1,B1 SH,SHANKLE,2841,55.76,0.667,1.8,10.295,3,1,0.408\\r\\n1,B1 SH,SHANKLE,2841.5,56.24,0.629,1.7,10.175,3.1,1,0.388\\r\\n1,B1 SH,SHANKLE,2842,52.72,0.59,2.2,9.88,3.2,1,0.367\\r\\n1,B1 SH,SHANKLE,2842.5,58.18,0.551,2.5,10.15,3.2,1,0.347\\r\\n1,B1 SH,SHANKLE,2843,58.55,0.519,2.5,11.1,3.3,1,0.327\\r\\n1,B1 SH,SHANKLE,2843.5,58.18,0.493,1.5,11.88,3.5,1,0.306\\r\\n1,B1 SH,SHANKLE,2844,58.5,0.467,2.1,12.195,3.5,1,0.286\\r\\n1,B1 SH,SHANKLE,2844.5,59.23,0.446,2.3,13.045,3.3,1,0.265\\r\\n1,B1 SH,SHANKLE,2845,57.02,0.43,3.1,13.625,2.9,1,0.245\\r\\n1,B1 SH,SHANKLE,2845.5,56.18,0.425,2.3,14.215,2.8,1,0.224\\r\\n1,B1 SH,SHANKLE,2846,61.06,0.425,1.4,13.465,2.7,1,0.204\\r\\n1,B1 SH,SHANKLE,2846.5,68.79,0.433,1.9,13.145,2.9,1,0.184\\r\\n1,B1 SH,SHANKLE,2847,71.58,0.449,7,14.36,3,1,0.163\\r\\n1,B1 SH,SHANKLE,2847.5,79.53,0.471,8.1,17.515,2.6,1,0.143\\r\\n3,B1 SH,SHANKLE,2848,80.39,0.491,2.7,20.055,2.5,1,0.122\\r\\n3,B1 SH,SHANKLE,2848.5,79.08,0.508,-4,19.3,2.4,1,0.102\\r\\n3,B1 SH,SHANKLE,2849,78.83,0.517,-4.1,15.79,3.1,1,0.082\\r\\n3,B1 SH,SHANKLE,2849.5,78.07,0.526,4.6,14.23,2.5,1,0.061\\r\\n3,B1 SH,SHANKLE,2850,83.28,0.55,1.2,25.065,2.1,1,0.041\\r\\n3,B1 SH,SHANKLE,2850.5,76.44,0.597,-19.9,49.715,1.8,1,0.02\\r\\n8,B1 LM,SHANKLE,2852.5,39.3,0.803,-7.5,16.885,3.6,2,0.769\\r\\n8,B1 LM,SHANKLE,2853,28.1,0.88,-2.4,10.105,3.6,2,0.692\\r\\n8,B1 LM,SHANKLE,2853.5,28.38,1.002,-4.3,7.285,3.9,2,0.615\\r\\n8,B1 LM,SHANKLE,2854,27.36,1.161,-3,5.12,3.9,2,0.538\\r\\n8,B1 LM,SHANKLE,2854.5,30.42,1.291,0.2,4.05,3.8,2,0.462\\r\\n6,B1 LM,SHANKLE,2855,32.31,1.311,2.5,3.865,4,2,0.385\\r\\n6,B1 LM,SHANKLE,2855.5,33.19,1.213,1.7,4.915,4.4,2,0.308\\r\\n6,B1 LM,SHANKLE,2856,37.18,1.051,1.6,5.02,4.8,2,0.231\\r\\n6,B1 LM,SHANKLE,2856.5,37.32,0.888,1.4,5.46,3.3,2,0.154\\r\\n6,B1 LM,SHANKLE,2857,39.77,0.781,-2.5,13.875,2.4,2,0.077\\r\\n3,B2 SH,SHANKLE,2857.5,45.45,0.732,-15.7,31.775,1.8,1,1\\r\\n3,B2 SH,SHANKLE,2858,69.72,0.702,-19,38.6,1.5,1,0.971\\r\\n2,B2 SH,SHANKLE,2859,78.06,0.668,-13.9,28.955,2.4,1,0.912\\r\\n2,B2 SH,SHANKLE,2859.5,78.18,0.643,-7.2,21.33,3,1,0.882\\r\\n2,B2 SH,SHANKLE,2860,78.8,0.638,0.8,12.435,3.1,1,0.853\\r\\n2,B2 SH,SHANKLE,2860.5,73.13,0.667,2.6,9.145,3.3,1,0.824\\r\\n2,B2 SH,SHANKLE,2861,66.19,0.7,3,8.185,3.3,1,0.794\\r\\n2,B2 SH,SHANKLE,2861.5,67.14,0.727,3.8,8.49,3.3,1,0.765\\r\\n2,B2 SH,SHANKLE,2862,66.86,0.746,6.2,9.41,3.2,1,0.735\\r\\n2,B2 SH,SHANKLE,2862.5,67.83,0.747,8.8,10.57,3.1,1,0.706\\r\\n2,B2 SH,SHANKLE,2863,66.01,0.726,10.4,11.44,3.2,1,0.676\\r\\n2,B2 SH,SHANKLE,2863.5,63.89,0.698,10.4,11.56,3.2,1,0.647\\r\\n2,B2 SH,SHANKLE,2864,62.15,0.67,9,11.04,3.5,1,0.618\\r\\n2,B2 SH,SHANKLE,2864.5,63.38,0.637,9.2,10.57,3.5,1,0.588\\r\\n2,B2 SH,SHANKLE,2865,62.83,0.617,9.6,10.765,3.6,1,0.559\\r\\n2,B2 SH,SHANKLE,2865.5,62.75,0.616,11.2,10.75,3.6,1,0.529\\r\\n2,B2 SH,SHANKLE,2866,59.66,0.617,11.2,10.465,3.8,1,0.5\\r\\n2,B2 SH,SHANKLE,2866.5,67.99,0.625,14.3,11.855,3.7,1,0.471\\r\\n2,B2 SH,SHANKLE,2867,67.75,0.645,13.2,18.745,2.9,1,0.441\\r\\n3,B2 SH,SHANKLE,2867.5,76.63,0.676,1.3,28.06,2.5,1,0.412\\r\\n3,B2 SH,SHANKLE,2868,78.56,0.705,-6,27.415,2,1,0.382\\r\\n3,B2 SH,SHANKLE,2868.5,69.82,0.736,-11.1,21.085,2.8,1,0.353\\r\\n2,B2 SH,SHANKLE,2869,63.21,0.767,0.3,9.5,3.5,1,0.324\\r\\n2,B2 SH,SHANKLE,2869.5,56.18,0.799,2,5.64,3.6,1,0.294\\r\\n2,B2 SH,SHANKLE,2870,60.86,0.798,2.6,6.47,3.5,1,0.176\\r\\n2,B2 SH,SHANKLE,2870.5,67.52,0.712,5.3,9.15,3.2,1,0.147\\r\\n2,B2 SH,SHANKLE,2871,68.79,0.619,11.5,17.22,2.8,1,0.118\\r\\n3,B2 SH,SHANKLE,2871.5,76.18,0.54,1.2,32.92,2.4,1,0.088\\r\\n3,B2 SH,SHANKLE,2872,74.5,0.486,-2.1,38.485,2.2,1,0.059\\r\\n3,B2 SH,SHANKLE,2872.5,63.06,0.464,-4.1,36.14,2.5,1,0.029\\r\\n6,B2 LM,SHANKLE,2873,40.97,0.47,2.2,25.745,3.2,2,1\\r\\n6,B2 LM,SHANKLE,2873.5,35.02,0.481,2.2,17.06,3.5,2,0.857\\r\\n6,B2 LM,SHANKLE,2874,30.28,0.498,-1.7,10.485,4.1,2,0.714\\r\\n6,B2 LM,SHANKLE,2874.5,27.63,0.524,-3.1,5.835,4.8,2,0.571\\r\\n6,B2 LM,SHANKLE,2875,28.84,0.567,-1.3,3.865,4.7,2,0.429\\r\\n6,B2 LM,SHANKLE,2875.5,34.92,0.643,1.9,4.385,4,2,0.286\\r\\n6,B2 LM,SHANKLE,2876,46.06,0.732,5.2,6.805,3.5,2,0.143\\r\\n3,B3 SH,SHANKLE,2876.5,60.36,0.793,9.5,9.275,3.4,1,1\\r\\n3,B3 SH,SHANKLE,2877,79.94,0.804,12.1,10.99,3.3,1,0.977\\r\\n3,B3 SH,SHANKLE,2877.5,81.32,0.779,13,11.5,3.5,1,0.955\\r\\n3,B3 SH,SHANKLE,2878,80.39,0.738,10.7,10.86,3.5,1,0.932\\r\\n3,B3 SH,SHANKLE,2878.5,77.93,0.702,8.6,10.29,3.4,1,0.909\\r\\n3,B3 SH,SHANKLE,2879,75.73,0.679,6.8,9.89,3.3,1,0.886\\r\\n2,B3 SH,SHANKLE,2879.5,66,0.669,6.5,9.98,3.3,1,0.864\\r\\n2,B3 SH,SHANKLE,2880,74.79,0.666,5.8,9.985,3.5,1,0.841\\r\\n2,B3 SH,SHANKLE,2880.5,64.77,0.665,4.6,9.89,3.6,1,0.818\\r\\n2,B3 SH,SHANKLE,2881,62.9,0.659,3.9,10.335,3.5,1,0.795\\r\\n2,B3 SH,SHANKLE,2881.5,64.65,0.646,4.8,11.02,3.3,1,0.773\\r\\n2,B3 SH,SHANKLE,2882,63.61,0.625,6.2,11.625,3,1,0.75\\r\\n3,B3 SH,SHANKLE,2882.5,79.7,0.591,6.8,11.865,2.8,1,0.727\\r\\n3,B3 SH,SHANKLE,2883,80.43,0.544,6.1,11.935,2.8,1,0.705\\r\\n3,B3 SH,SHANKLE,2883.5,78.5,0.498,7.3,12.61,2.7,1,0.682\\r\\n2,B3 SH,SHANKLE,2884,67.3,0.456,8.3,14.11,2.7,1,0.659\\r\\n2,B3 SH,SHANKLE,2884.5,64.18,0.418,7.6,15.635,2.7,1,0.636\\r\\n2,B3 SH,SHANKLE,2885,55.59,0.387,6.5,16.275,2.6,1,0.614\\r\\n2,B3 SH,SHANKLE,2885.5,61.6,0.362,5.1,16.055,2.7,1,0.591\\r\\n2,B3 SH,SHANKLE,2886,59.33,0.346,5.8,15.965,2.7,1,0.568\\r\\n2,B3 SH,SHANKLE,2886.5,63.11,0.348,6.4,15.65,2.8,1,0.545\\r\\n2,B3 SH,SHANKLE,2887,62.47,0.358,7.7,15.31,3,1,0.523\\r\\n2,B3 SH,SHANKLE,2887.5,69.97,0.358,7.7,14.55,3.1,1,0.5\\r\\n2,B3 SH,SHANKLE,2888,71.32,0.358,8,14.36,3.3,1,0.477\\r\\n2,B3 SH,SHANKLE,2888.5,71.32,0.358,8,14.36,3.3,1,0.477\\r\\n2,B3 SH,SHANKLE,2889,72.08,0.358,8.6,14.54,3.1,1,0.455\\r\\n2,B3 SH,SHANKLE,2889.5,72.65,0.356,9.8,15.115,2.9,1,0.432\\r\\n2,B3 SH,SHANKLE,2890,69.38,0.354,8.1,15.995,2.7,1,0.409\\r\\n2,B3 SH,SHANKLE,2890.5,63.68,0.348,5.7,17.015,2.7,1,0.386\\r\\n2,B3 SH,SHANKLE,2891,63.96,0.328,5.1,17.755,2.6,1,0.364\\r\\n2,B3 SH,SHANKLE,2891.5,61.06,0.305,4.9,18.465,2.6,1,0.341\\r\\n2,B3 SH,SHANKLE,2892,68.77,0.286,5.3,19.315,2.5,1,0.318\\r\\n2,B3 SH,SHANKLE,2892.5,69.94,0.274,5,20.22,2.6,1,0.295\\r\\n1,B3 SH,SHANKLE,2893,68.94,0.27,4.6,20.435,2.6,1,0.273\\r\\n1,B3 SH,SHANKLE,2893.5,68.13,0.279,3.8,20.185,2.7,1,0.25\\r\\n1,B3 SH,SHANKLE,2894,69.83,0.301,3.1,19.13,2.6,1,0.227\\r\\n1,B3 SH,SHANKLE,2894.5,69.72,0.326,2.3,18.115,2.6,1,0.205\\r\\n1,B3 SH,SHANKLE,2895,79.64,0.35,3,16.33,2.7,1,0.182\\r\\n2,B3 SH,SHANKLE,2895.5,83.41,0.367,5.6,14.845,3,1,0.159\\r\\n3,B3 SH,SHANKLE,2896,85.63,0.386,7.6,14.515,2.6,1,0.136\\r\\n3,B3 SH,SHANKLE,2896.5,88.6,0.412,5.2,18.02,2.5,1,0.114\\r\\n3,B3 SH,SHANKLE,2897,81.3,0.453,-5.5,25.095,2.2,1,0.091\\r\\n3,B3 SH,SHANKLE,2897.5,81.46,0.505,-12.1,35.24,2,1,0.068\\r\\n2,B4 SH,SHANKLE,2899.5,67.06,0.607,-13.2,25.315,3.2,1,0.979\\r\\n2,B4 SH,SHANKLE,2900,63.21,0.607,-0.6,16.415,3.1,1,0.958\\r\\n2,B4 SH,SHANKLE,2900.5,62.1,0.607,0.7,15.25,2.9,1,0.938\\r\\n1,B4 SH,SHANKLE,2901,59.12,0.599,-1.9,15.465,2.8,1,0.917\\r\\n1,B4 SH,SHANKLE,2901.5,53.43,0.58,1.5,12.685,2.9,1,0.896\\r\\n1,B4 SH,SHANKLE,2902,55.43,0.556,3.9,11.32,3,1,0.875\\r\\n1,B4 SH,SHANKLE,2902.5,50.01,0.528,2.1,12.39,3,1,0.854\\r\\n1,B4 SH,SHANKLE,2903,54.96,0.493,1.2,12.93,2.9,1,0.833\\r\\n1,B4 SH,SHANKLE,2903.5,56.29,0.456,0.7,13.1,2.8,1,0.813\\r\\n1,B4 SH,SHANKLE,2904,57.56,0.425,1.3,13.6,2.9,1,0.792\\r\\n1,B4 SH,SHANKLE,2904.5,59.71,0.396,0.8,13.875,2.9,1,0.771\\r\\n1,B4 SH,SHANKLE,2905,59.88,0.371,1.2,14.2,2.9,1,0.75\\r\\n1,B4 SH,SHANKLE,2905.5,62.44,0.352,1.5,14.5,2.7,1,0.729\\r\\n1,B4 SH,SHANKLE,2906,65.13,0.342,1.4,15.285,2.7,1,0.708\\r\\n1,B4 SH,SHANKLE,2906.5,60.4,0.338,1.2,15.91,2.7,1,0.688\\r\\n1,B4 SH,SHANKLE,2907,63.4,0.346,0.1,15.585,2.8,1,0.667\\r\\n1,B4 SH,SHANKLE,2907.5,65.4,0.358,1.4,14.44,2.8,1,0.646\\r\\n1,B4 SH,SHANKLE,2908,60.44,0.371,3,13.57,2.9,1,0.625\\r\\n1,B4 SH,SHANKLE,2908.5,71.83,0.384,5.6,13.74,2.8,1,0.604\\r\\n1,B4 SH,SHANKLE,2909,78.1,0.389,7.1,14.31,2.8,1,0.583\\r\\n1,B4 SH,SHANKLE,2909.5,82.34,0.386,7.7,14.44,2.7,1,0.563\\r\\n1,B4 SH,SHANKLE,2910,85.94,0.384,7.7,14.25,2.7,1,0.542\\r\\n1,B4 SH,SHANKLE,2910.5,71.56,0.38,8.2,14.51,2.7,1,0.521\\r\\n1,B4 SH,SHANKLE,2911,69.26,0.373,7.2,15.655,2.7,1,0.5\\r\\n1,B4 SH,SHANKLE,2911.5,65.79,0.365,6,16.385,2.8,1,0.479\\r\\n1,B4 SH,SHANKLE,2912,58.76,0.354,3.5,16.94,2.7,1,0.458\\r\\n1,B4 SH,SHANKLE,2912.5,60.11,0.342,1.3,17.025,2.6,1,0.438\\r\\n1,B4 SH,SHANKLE,2913,62,0.344,0.3,17.325,2.6,1,0.417\\r\\n1,B4 SH,SHANKLE,2913.5,61.56,0.354,0.6,17.815,2.8,1,0.396\\r\\n1,B4 SH,SHANKLE,2914,58.39,0.362,1.3,18.575,2.7,1,0.375\\r\\n1,B4 SH,SHANKLE,2914.5,62.03,0.362,-0.8,18.52,2.6,1,0.354\\r\\n1,B4 SH,SHANKLE,2915,58.92,0.348,-1.6,17.575,2.6,1,0.333\\r\\n1,B4 SH,SHANKLE,2915.5,62.43,0.324,-0.2,16.275,2.6,1,0.313\\r\\n1,B4 SH,SHANKLE,2916,63.32,0.292,4,16.375,2.7,1,0.292\\r\\n1,B4 SH,SHANKLE,2916.5,64.42,0.262,5.9,17.115,2.8,1,0.271\\r\\n2,B4 SH,SHANKLE,2917,63.11,0.243,5.9,18.435,2.8,1,0.25\\r\\n2,B4 SH,SHANKLE,2917.5,63.11,0.243,5.9,18.435,2.8,1,0.25\\r\\n2,B4 SH,SHANKLE,2918,68.73,0.236,4.7,18.565,2.8,1,0.229\\r\\n2,B4 SH,SHANKLE,2918.5,68.82,0.243,3.7,18.135,3,1,0.208\\r\\n2,B4 SH,SHANKLE,2919,63.27,0.258,3.9,16.665,3.1,1,0.188\\r\\n2,B4 SH,SHANKLE,2919.5,63.95,0.279,5,15.155,3.3,1,0.167\\r\\n2,B4 SH,SHANKLE,2920,73.72,0.301,7,13.77,3.2,1,0.146\\r\\n2,B4 SH,SHANKLE,2920.5,70.47,0.324,8.1,14.83,2.4,1,0.125\\r\\n3,B4 SH,SHANKLE,2921,78.62,0.354,0.5,24.675,2.1,1,0.104\\r\\n3,B4 SH,SHANKLE,2921.5,81.91,0.398,-9.6,35.2,1.9,1,0.083\\r\\n3,B4 SH,SHANKLE,2922,77.68,0.459,-6.8,44.645,1.9,1,0.063\\r\\n3,B4 SH,SHANKLE,2922.5,74.51,0.538,-7.4,51.805,2,1,0.042\\r\\n3,B4 SH,SHANKLE,2923,66.9,0.605,-13,46.795,2,1,0.021\\r\\n6,B4 LM,SHANKLE,2924,26.06,0.725,-12.9,16.17,4.4,1,0.857\\r\\n6,B4 LM,SHANKLE,2924.5,20.73,0.796,3.7,4.785,4.1,2,0.714\\r\\n6,B4 LM,SHANKLE,2925,18.4,0.876,7.6,4.555,3.7,2,0.571\\r\\n6,B4 LM,SHANKLE,2925.5,20.07,0.941,9.7,6.745,3.3,2,0.429\\r\\n6,B4 LM,SHANKLE,2926,20.85,0.903,7.7,9.415,3.4,2,0.286\\r\\n6,B4 LM,SHANKLE,2926.5,24.51,0.809,4.3,11.98,2.5,2,0.143\\r\\n3,B5 SH,SHANKLE,2927,37.82,0.722,-0.1,19.085,2.2,1,1\\r\\n3,B5 SH,SHANKLE,2930,79.36,0.47,-6,35.77,2.4,1,0.45\\r\\n3,B5 SH,SHANKLE,2930.5,78.41,0.468,-6.4,33.73,2.6,1,0.4\\r\\n3,B5 SH,SHANKLE,2931,70,0.453,-8.4,31.445,2.6,1,0.35\\r\\n3,B5 SH,SHANKLE,2931.5,67.67,0.43,-9.9,31.45,2.7,1,0.3\\r\\n3,B5 SH,SHANKLE,2932,67.38,0.391,-7.6,30.565,2.6,1,0.25\\r\\n3,B5 SH,SHANKLE,2932.5,70.08,0.34,-2.9,33.215,2.5,1,0.2\\r\\n3,B5 SH,SHANKLE,2933,72.4,0.29,-0.2,39.915,2.3,1,0.15\\r\\n3,B5 SH,SHANKLE,2933.5,70.73,0.241,-4,41.445,2.3,1,0.1\\r\\n3,B5 SH,SHANKLE,2934,65.14,0.193,-1.9,37.005,2.6,1,0.05\\r\\n7,B5 LM,SHANKLE,2934.5,52.05,0.152,5.9,29.525,2.9,2,1\\r\\n7,B5 LM,SHANKLE,2935,30.56,0.121,12.2,27.265,3,2,0.958\\r\\n7,B5 LM,SHANKLE,2935.5,25.47,0.097,10.8,27.915,3,2,0.917\\r\\n7,B5 LM,SHANKLE,2936,25.34,0.093,6.4,27.115,3,2,0.875\\r\\n7,B5 LM,SHANKLE,2936.5,31.3,0.111,3.8,26.515,3,2,0.833\\r\\n7,B5 LM,SHANKLE,2937,45.23,0.146,3.6,24.38,3,2,0.792\\r\\n7,B5 LM,SHANKLE,2937.5,53.09,0.196,4.7,22.525,3,2,0.75\\r\\n7,B5 LM,SHANKLE,2938,53.66,0.255,2.1,19.515,3.1,2,0.708\\r\\n7,B5 LM,SHANKLE,2938.5,48.3,0.318,-1.1,16.71,3.4,2,0.667\\r\\n8,B5 LM,SHANKLE,2939,47.58,0.386,-1.3,14.275,4,2,0.625\\r\\n8,B5 LM,SHANKLE,2939.5,44.54,0.456,0.5,12.48,4.2,2,0.583\\r\\n8,B5 LM,SHANKLE,2940,45.57,0.531,1.6,11.42,4.3,2,0.542\\r\\n8,B5 LM,SHANKLE,2940.5,49.17,0.607,1,10.82,4.3,2,0.5\\r\\n8,B5 LM,SHANKLE,2941,58.97,0.68,0.6,10.535,4.4,2,0.458\\r\\n8,B5 LM,SHANKLE,2941.5,78.86,0.744,0.7,10.32,4.6,2,0.417\\r\\n8,B5 LM,SHANKLE,2942,100.24,0.797,1.4,10.38,4.7,2,0.375\\r\\n8,B5 LM,SHANKLE,2942.5,97.94,0.842,0.8,10.56,4.8,2,0.333\\r\\n8,B5 LM,SHANKLE,2943,94.67,0.881,-0.5,10.57,4.7,2,0.292\\r\\n8,B5 LM,SHANKLE,2943.5,78.63,0.914,-1,10.18,4.7,2,0.25\\r\\n8,B5 LM,SHANKLE,2944,97.99,0.932,-1.9,9.31,4.7,2,0.208\\r\\n8,B5 LM,SHANKLE,2944.5,130.86,0.921,-2.5,8.1,4.9,2,0.167\\r\\n8,B5 LM,SHANKLE,2945,167.9,0.883,-0.8,6.22,4.5,2,0.125\\r\\n8,B5 LM,SHANKLE,2945.5,191.7,0.822,4.2,5.195,3.8,2,0.083\\r\\n3,C SH,SHANKLE,2946,149.65,0.711,-5.9,24.32,2.3,1,1\\r\\n3,C SH,SHANKLE,2948,75.83,0.571,-9.4,34.61,2.8,1,0.93\\r\\n3,C SH,SHANKLE,2948.5,66.28,0.56,2.5,28.99,2.7,1,0.912\\r\\n3,C SH,SHANKLE,2949,69.44,0.567,-0.2,27.455,2.6,1,0.895\\r\\n3,C SH,SHANKLE,2949.5,69.67,0.584,-1.6,24.68,2.6,1,0.877\\r\\n3,C SH,SHANKLE,2950,72.32,0.609,-2.1,21.265,2.9,1,0.86\\r\\n3,C SH,SHANKLE,2950.5,72.26,0.634,5.3,16.795,3.2,1,0.842\\r\\n3,C SH,SHANKLE,2951,66.6,0.652,8.9,13.99,3.3,1,0.825\\r\\n3,C SH,SHANKLE,2951.5,66.67,0.659,10.7,14.42,3.2,1,0.807\\r\\n3,C SH,SHANKLE,2952,67.49,0.661,9.3,15.755,3.2,1,0.789\\r\\n3,C SH,SHANKLE,2952.5,69.17,0.657,6.3,17.91,3,1,0.772\\r\\n3,C SH,SHANKLE,2953,67.63,0.649,6.3,17.22,3.2,1,0.754\\r\\n3,C SH,SHANKLE,2953.5,74.65,0.639,7.1,16.125,3.1,1,0.737\\r\\n3,C SH,SHANKLE,2954,69.34,0.626,6.4,16.405,3.1,1,0.719\\r\\n3,C SH,SHANKLE,2954.5,67.71,0.616,3.6,17.57,2.9,1,0.702\\r\\n3,C SH,SHANKLE,2955,69.85,0.61,2.9,18.53,3,1,0.684\\r\\n3,C SH,SHANKLE,2955.5,72.99,0.606,6.6,17.785,3,1,0.667\\r\\n3,C SH,SHANKLE,2956,72.73,0.605,3.5,21.265,2.8,1,0.649\\r\\n3,C SH,SHANKLE,2956.5,71.24,0.606,-3,23.97,2.8,1,0.632\\r\\n3,C SH,SHANKLE,2957,65.18,0.607,-1.1,24.32,3.3,1,0.614\\r\\n3,C SH,SHANKLE,2957.5,76.51,0.61,3.1,23.925,3.3,1,0.596\\r\\n3,C SH,SHANKLE,2958,72.51,0.615,0.3,27.215,3.1,1,0.579\\r\\n3,C SH,SHANKLE,2958.5,73.66,0.622,-8,30.125,2.7,1,0.561\\r\\n3,C SH,SHANKLE,2959,72.96,0.627,-12.3,29.985,2.5,1,0.544\\r\\n3,C SH,SHANKLE,2959.5,66.05,0.628,-9.4,26.215,2.8,1,0.526\\r\\n3,C SH,SHANKLE,2960,75.61,0.624,-1.1,21.255,3.1,1,0.509\\r\\n3,C SH,SHANKLE,2960.5,68.69,0.621,6.8,16.645,3.3,1,0.491\\r\\n3,C SH,SHANKLE,2961,67.49,0.621,5.2,17.925,3,1,0.474\\r\\n3,C SH,SHANKLE,2961.5,71.32,0.62,2,18.325,2.9,1,0.456\\r\\n3,C SH,SHANKLE,2962,69.16,0.616,3.5,16.405,3.1,1,0.439\\r\\n3,C SH,SHANKLE,2962.5,72.18,0.611,5.7,15.525,3.3,1,0.421\\r\\n3,C SH,SHANKLE,2963,67.16,0.606,4.4,16.48,3.2,1,0.404\\r\\n3,C SH,SHANKLE,2963.5,72.36,0.606,1.5,18.61,3.2,1,0.386\\r\\n3,C SH,SHANKLE,2964,76.08,0.614,0.8,19.615,3.1,1,0.368\\r\\n3,C SH,SHANKLE,2964.5,75.85,0.626,1.8,21.045,2.9,1,0.351\\r\\n3,C SH,SHANKLE,2965,72.11,0.633,-3.6,22.505,2.7,1,0.333\\r\\n3,C SH,SHANKLE,2965.5,73.8,0.635,-9,22.545,2.9,1,0.316\\r\\n3,C SH,SHANKLE,2966,71.57,0.636,-5.1,17.625,3.3,1,0.298\\r\\n3,C SH,SHANKLE,2966.5,71.38,0.629,1,14.06,3.6,1,0.281\\r\\n3,C SH,SHANKLE,2967,72.44,0.622,6.2,14.855,3.1,1,0.263\\r\\n3,C SH,SHANKLE,2967.5,74.87,0.622,5.8,19.845,2.8,1,0.246\\r\\n3,C SH,SHANKLE,2968,76.01,0.621,-2.7,23.955,2.4,1,0.228\\r\\n3,C SH,SHANKLE,2968.5,76.11,0.618,-9,25.4,3,1,0.211\\r\\n3,C SH,SHANKLE,2969,76.47,0.624,-3.5,24.095,3.3,1,0.193\\r\\n3,C SH,SHANKLE,2969.5,70.18,0.628,-5.4,24.15,3.2,1,0.175\\r\\n3,C SH,SHANKLE,2970,71.13,0.623,-10.2,24.425,2.9,1,0.158\\r\\n3,C SH,SHANKLE,2970.5,74.62,0.612,-13.2,21.35,2.9,1,0.14\\r\\n3,C SH,SHANKLE,2971,75.04,0.597,-3.6,17.66,2.9,1,0.123\\r\\n3,C SH,SHANKLE,2971.5,71.03,0.576,7.1,16.71,2.5,1,0.105\\r\\n3,C SH,SHANKLE,2972,79.47,0.575,-9.8,35.285,2.1,1,0.088\\r\\n3,C SH,SHANKLE,2972.5,76.72,0.603,-9.9,51.3,1.8,1,0.07\\r\\n3,C SH,SHANKLE,2973,75.01,0.654,-18.3,55.915,1.8,1,0.053\\r\\n6,C LM,SHANKLE,2974.5,19.52,0.7,1,9.78,4.6,2,0.985\\r\\n8,C LM,SHANKLE,2975,28.87,0.721,8.8,9.73,4,2,0.97\\r\\n8,C LM,SHANKLE,2975.5,29.43,0.781,9.1,11.93,3.6,2,0.955\\r\\n8,C LM,SHANKLE,2976,29.4,0.825,7.9,12.695,3.5,2,0.94\\r\\n8,C LM,SHANKLE,2976.5,31.05,0.837,6.4,11.9,3.6,2,0.925\\r\\n8,C LM,SHANKLE,2977,35.29,0.818,6.4,10.875,3.7,2,0.91\\r\\n5,C LM,SHANKLE,2977.5,32.75,0.778,3.5,9.39,3.8,2,0.896\\r\\n5,C LM,SHANKLE,2978,35.61,0.738,3,8.16,3.9,2,0.881\\r\\n5,C LM,SHANKLE,2978.5,36.27,0.705,5,7.4,3.6,2,0.866\\r\\n5,C LM,SHANKLE,2979,36.51,0.67,7.7,8.56,3.2,2,0.851\\r\\n5,C LM,SHANKLE,2979.5,35.86,0.633,8.6,10.67,2.9,2,0.836\\r\\n7,C LM,SHANKLE,2980,33.77,0.599,8.1,12.535,2.9,2,0.821\\r\\n7,C LM,SHANKLE,2980.5,28.53,0.567,7.7,13.935,2.9,2,0.806\\r\\n7,C LM,SHANKLE,2981,29.12,0.539,6,14.68,2.9,2,0.791\\r\\n7,C LM,SHANKLE,2981.5,29.54,0.519,4.2,14.81,2.8,2,0.776\\r\\n7,C LM,SHANKLE,2982,29.95,0.516,2.4,13.68,2.8,2,0.761\\r\\n7,C LM,SHANKLE,2982.5,29.36,0.529,1.7,12.36,3,2,0.746\\r\\n7,C LM,SHANKLE,2983,34.62,0.558,1.9,10.51,3.3,2,0.731\\r\\n7,C LM,SHANKLE,2983.5,32.74,0.605,2,9.08,3.3,2,0.716\\r\\n6,C LM,SHANKLE,2984,38.04,0.666,1.7,8.405,3.2,2,0.701\\r\\n6,C LM,SHANKLE,2984.5,39.18,0.728,1.5,8.235,3.2,2,0.687\\r\\n6,C LM,SHANKLE,2985,39.55,0.792,1.9,8.035,3.3,2,0.672\\r\\n6,C LM,SHANKLE,2985.5,37.83,0.846,2.3,7.68,3.4,2,0.657\\r\\n6,C LM,SHANKLE,2986,35.09,0.884,2.8,7.775,3.4,2,0.642\\r\\n6,C LM,SHANKLE,2986.5,38.17,0.905,3.8,7.92,3.6,2,0.627\\r\\n6,C LM,SHANKLE,2987,37.4,0.913,3.9,8.16,3.3,2,0.612\\r\\n6,C LM,SHANKLE,2987.5,36.2,0.913,2.6,8.54,3.4,2,0.597\\r\\n6,C LM,SHANKLE,2988,38.73,0.91,2.4,8.6,3.4,2,0.582\\r\\n6,C LM,SHANKLE,2988.5,36.86,0.908,1.9,8.9,3.5,2,0.567\\r\\n6,C LM,SHANKLE,2989,38.24,0.905,2,8.845,3.4,2,0.552\\r\\n6,C LM,SHANKLE,2989.5,36.1,0.901,1.6,8.5,3.4,2,0.537\\r\\n6,C LM,SHANKLE,2990,38.5,0.897,2.6,8.25,3.3,2,0.522\\r\\n6,C LM,SHANKLE,2990.5,35.87,0.89,3,8.42,3.4,2,0.507\\r\\n6,C LM,SHANKLE,2991,37.2,0.884,3.6,8.495,3.3,2,0.493\\r\\n6,C LM,SHANKLE,2991.5,39.89,0.88,3.1,8.695,3.6,2,0.478\\r\\n6,C LM,SHANKLE,2992,40.73,0.876,2.9,8.505,3.7,2,0.463\\r\\n6,C LM,SHANKLE,2992.5,41.81,0.873,2,8.845,3.7,2,0.448\\r\\n6,C LM,SHANKLE,2993,44.47,0.872,1.9,8.74,3.5,2,0.433\\r\\n6,C LM,SHANKLE,2993.5,43.87,0.87,1.9,8.715,3.4,2,0.418\\r\\n6,C LM,SHANKLE,2994,47.4,0.872,2.4,8.375,3.5,2,0.403\\r\\n6,C LM,SHANKLE,2994.5,48.75,0.875,2.6,8.47,3.6,2,0.388\\r\\n6,C LM,SHANKLE,2995,53.77,0.877,3.1,8.2,3.6,2,0.373\\r\\n6,C LM,SHANKLE,2995.5,65.61,0.88,3.2,8.555,3.7,2,0.358\\r\\n5,C LM,SHANKLE,2996,79.98,0.884,3,8.435,3.8,2,0.343\\r\\n5,C LM,SHANKLE,2996.5,115.6,0.885,3.6,8.76,3.9,2,0.328\\r\\n5,C LM,SHANKLE,2997,201.75,0.887,3.9,8.645,4.1,2,0.313\\r\\n5,C LM,SHANKLE,2997.5,242.75,0.889,4.9,8.42,4.1,2,0.299\\r\\n5,C LM,SHANKLE,2998,238.02,0.893,5.1,8.515,4.3,2,0.284\\r\\n5,C LM,SHANKLE,2998.5,215.23,0.899,5.7,8.31,4.2,2,0.269\\r\\n5,C LM,SHANKLE,2999,168.12,0.907,5.6,8.545,4.2,2,0.254\\r\\n5,C LM,SHANKLE,2999.5,124.8,0.919,5.2,8.855,3.9,2,0.239\\r\\n5,C LM,SHANKLE,3000,102.74,0.932,4.6,8.915,4,2,0.224\\r\\n5,C LM,SHANKLE,3000.5,102.74,0.932,4.6,8.915,4,2,0.224\\r\\n5,C LM,SHANKLE,3001,81.37,0.941,4.3,8.86,4.1,2,0.209\\r\\n5,C LM,SHANKLE,3001.5,70.46,0.943,4.2,8.675,4.2,2,0.194\\r\\n5,C LM,SHANKLE,3002,67.29,0.943,4.9,9.365,4.1,2,0.179\\r\\n5,C LM,SHANKLE,3002.5,67.61,0.939,5.6,9.555,4.1,2,0.164\\r\\n4,C LM,SHANKLE,3003,68.63,0.941,5.8,9.585,4.1,2,0.149\\r\\n4,C LM,SHANKLE,3003.5,68.45,0.957,6.9,9.95,4.3,2,0.134\\r\\n4,C LM,SHANKLE,3004,73.25,0.996,8.4,10.39,4.4,2,0.119\\r\\n4,C LM,SHANKLE,3004.5,73.21,1.039,7.7,9.95,4.5,2,0.104\\r\\n8,C LM,SHANKLE,3005,76.24,1.084,4,7.9,4.6,2,0.09\\r\\n8,C LM,SHANKLE,3005.5,52.57,1.118,-0.4,5.215,4.8,2,0.075\\r\\n8,C LM,SHANKLE,3006,32.84,1.12,-2.2,3.455,5.1,2,0.06\\r\\n8,C LM,SHANKLE,3006.5,25.16,1.112,-1.6,2.89,4.8,2,0.045\\r\\n8,C LM,SHANKLE,3007,25.16,1.112,-1.6,2.89,4.8,2,0.03\\r\\n4,C LM,SHANKLE,3007.5,26.22,1.092,-0.4,3.4,4.5,2,0.03\\r\\n4,C LM,SHANKLE,3008,65.36,1.026,1.6,4.715,4.5,2,0.015\\r\\n3,A1 SH,LUKE G U,2610.5,74.9,0.782,9.3,11.75,4.084,1,1\\r\\n3,A1 SH,LUKE G U,2611,83.8,0.745,12,13.1,3.501,1,0.981\\r\\n3,A1 SH,LUKE G U,2611.5,86.97,0.726,12.9,12.55,3.4,1,0.962\\r\\n3,A1 SH,LUKE G U,2612,84.43,0.708,13.2,12,3.4,1,0.943\\r\\n3,A1 SH,LUKE G U,2612.5,78.51,0.708,11.8,11.4,3.4,1,0.925\\r\\n3,A1 SH,LUKE G U,2613,73.88,0.708,11.3,11.55,3.5,1,0.906\\r\\n2,A1 SH,LUKE G U,2613.5,71.61,0.717,11.5,11.25,3.6,1,0.887\\r\\n2,A1 SH,LUKE G U,2614,69.86,0.726,11.7,11.05,3.7,1,0.868\\r\\n2,A1 SH,LUKE G U,2614.5,69.25,0.736,11.1,10.65,3.7,1,0.849\\r\\n2,A1 SH,LUKE G U,2615,68.29,0.726,8.6,9.7,3.7,1,0.83\\r\\n2,A1 SH,LUKE G U,2615.5,68.5,0.717,7.8,9.8,3.7,1,0.811\\r\\n2,A1 SH,LUKE G U,2616,73.65,0.675,6.3,10.65,3.5,1,0.792\\r\\n2,A1 SH,LUKE G U,2616.5,92.68,0.567,9.2,13.2,3.3,1,0.774\\r\\n2,A1 SH,LUKE G U,2617,107.22,0.483,11.3,15.75,3.3,1,0.755\\r\\n2,A1 SH,LUKE G U,2617.5,132.81,0.436,16.7,19.65,3.4,1,0.736\\r\\n2,A1 SH,LUKE G U,2618,151.94,0.399,0,29.9,3.6,1,0.717\\r\\n2,A1 SH,LUKE G U,2618.5,154.37,0.39,3.1,31.45,3.4,1,0.698\\r\\n2,A1 SH,LUKE G U,2619,153.77,0.39,8.4,34.1,3,1,0.679\\r\\n2,A1 SH,LUKE G U,2619.5,132.29,0.39,8.2,34.1,2.8,1,0.66\\r\\n3,A1 SH,LUKE G U,2620,102.28,0.418,0,30,2.6,1,0.642\\r\\n3,A1 SH,LUKE G U,2620.5,77.82,0.436,17.9,20.15,2.4,1,0.623\\r\\n3,A1 SH,LUKE G U,2621,67.52,0.446,10.1,12.25,2.5,1,0.604\\r\\n3,A1 SH,LUKE G U,2621.5,61.32,0.455,7,8.1,2.8,1,0.585\\r\\n2,A1 SH,LUKE G U,2622,58.69,0.455,7.1,7.95,3,1,0.566\\r\\n2,A1 SH,LUKE G U,2622.5,54.36,0.465,6.3,8.55,3.3,1,0.547\\r\\n2,A1 SH,LUKE G U,2623,52.75,0.455,4.8,10.4,3.5,1,0.528\\r\\n2,A1 SH,LUKE G U,2623.5,51.96,0.465,4.7,11.15,3.4,1,0.509\\r\\n2,A1 SH,LUKE G U,2624,54.01,0.483,4.5,11.65,3.4,1,0.491\\r\\n2,A1 SH,LUKE G U,2624.5,54.16,0.493,4.6,12.2,3.4,1,0.472\\r\\n2,A1 SH,LUKE G U,2625,54.27,0.493,5.1,12.95,3.4,1,0.453\\r\\n2,A1 SH,LUKE G U,2625.5,55.84,0.483,4.7,13.35,3.6,1,0.434\\r\\n2,A1 SH,LUKE G U,2626,57.43,0.446,4.8,13.5,3.6,1,0.415\\r\\n2,A1 SH,LUKE G U,2626.5,58.22,0.362,4.9,13.75,3.5,1,0.396\\r\\n2,A1 SH,LUKE G U,2627,58.88,0.315,4,14.6,3.3,1,0.377\\r\\n2,A1 SH,LUKE G U,2627.5,60.6,0.306,4.5,15.25,3.2,1,0.358\\r\\n2,A1 SH,LUKE G U,2628,62.57,0.296,4.7,15.35,3.1,1,0.34\\r\\n2,A1 SH,LUKE G U,2628.5,66.19,0.32,5.3,15.35,3.1,1,0.321\\r\\n2,A1 SH,LUKE G U,2629,78.95,0.347,7.3,14.85,3.1,1,0.302\\r\\n2,A1 SH,LUKE G U,2629.5,84.77,0.373,8.6,14.3,3.1,1,0.283\\r\\n2,A1 SH,LUKE G U,2630,80.83,0.398,8.6,13.4,3.1,1,0.264\\r\\n2,A1 SH,LUKE G U,2630.5,66.48,0.421,6.5,12.35,3.1,1,0.245\\r\\n2,A1 SH,LUKE G U,2631,63.09,0.441,3.9,11.15,3.1,1,0.226\\r\\n2,A1 SH,LUKE G U,2631.5,62.7,0.465,3.9,10.95,3.1,1,0.208\\r\\n2,A1 SH,LUKE G U,2632,63.45,0.465,4.3,11.05,3.1,1,0.189\\r\\n2,A1 SH,LUKE G U,2632.5,66.94,0.446,5.6,11.8,3.1,1,0.17\\r\\n2,A1 SH,LUKE G U,2633,77.94,0.436,6.7,13.05,3.2,1,0.151\\r\\n2,A1 SH,LUKE G U,2633.5,81.4,0.418,8.1,14.15,3.2,1,0.132\\r\\n3,A1 SH,LUKE G U,2634,80.74,0.399,9.9,15.75,3.2,1,0.113\\r\\n2,A1 SH,LUKE G U,2634.5,76.45,0.39,10.6,16.5,3.2,1,0.094\\r\\n2,A1 SH,LUKE G U,2635,74.99,0.38,11,17,3.1,1,0.075\\r\\n2,A1 SH,LUKE G U,2635.5,75.21,0.38,14.2,19.5,3.1,1,0.057\\r\\n2,A1 SH,LUKE G U,2636,75.05,0.385,12.6,23.3,3.1,1,0.038\\r\\n2,A1 SH,LUKE G U,2636.5,62.14,0.413,9.5,24.65,3.1,1,0.019\\r\\n8,A1 LM,LUKE G U,2637,46.66,0.458,2.8,21.4,3.2,2,1\\r\\n8,A1 LM,LUKE G U,2637.5,29.68,0.499,4.6,16.7,3.4,2,0.985\\r\\n8,A1 LM,LUKE G U,2638,18.97,0.558,-0.3,11.35,3.9,2,0.97\\r\\n8,A1 LM,LUKE G U,2638.5,17.66,0.651,0.4,7.3,4.4,2,0.955\\r\\n8,A1 LM,LUKE G U,2639,18.02,0.736,0.5,5.15,4.8,2,0.94\\r\\n8,A1 LM,LUKE G U,2639.5,20.47,0.81,3.1,4.15,4.9,2,0.925\\r\\n8,A1 LM,LUKE G U,2640,26.7,0.848,4,4.4,4.8,2,0.91\\r\\n8,A1 LM,LUKE G U,2640.5,33.18,0.866,6.8,6,4.6,2,0.896\\r\\n8,A1 LM,LUKE G U,2641,42.67,0.866,8,7.4,4.4,2,0.881\\r\\n8,A1 LM,LUKE G U,2641.5,51.37,0.782,10.1,8.85,3.8,2,0.866\\r\\n6,A1 LM,LUKE G U,2642,54.26,0.745,12.6,10.4,3.6,2,0.851\\r\\n6,A1 LM,LUKE G U,2642.5,56.67,0.736,12.8,10.7,3.6,2,0.836\\r\\n6,A1 LM,LUKE G U,2643,57.35,0.736,12.3,10.95,3.7,2,0.821\\r\\n6,A1 LM,LUKE G U,2643.5,62.93,0.736,11.1,11.55,3.8,2,0.806\\r\\n6,A1 LM,LUKE G U,2644,66.49,0.745,10,11,3.9,2,0.791\\r\\n6,A1 LM,LUKE G U,2644.5,64.2,0.754,7.2,9.3,4,2,0.776\\r\\n6,A1 LM,LUKE G U,2645,58.09,0.801,2.5,6.55,4.1,2,0.761\\r\\n6,A1 LM,LUKE G U,2645.5,55,0.904,2.5,4.95,4.1,2,0.746\\r\\n6,A1 LM,LUKE G U,2646,55.97,0.923,2.5,4.85,4.1,2,0.731\\r\\n6,A1 LM,LUKE G U,2646.5,58.81,0.913,3.1,6.05,4.1,2,0.716\\r\\n6,A1 LM,LUKE G U,2647,67.1,0.885,5.4,8.3,4,2,0.701\\r\\n6,A1 LM,LUKE G U,2647.5,77.82,0.866,8.2,10.7,4,2,0.687\\r\\n4,A1 LM,LUKE G U,2648,115.71,0.829,8.2,11.5,3.9,2,0.672\\r\\n4,A1 LM,LUKE G U,2648.5,145.34,0.81,8.1,11.55,3.7,2,0.657\\r\\n4,A1 LM,LUKE G U,2649,195.89,0.801,8,11.5,3.7,2,0.642\\r\\n4,A1 LM,LUKE G U,2649.5,191.22,0.81,8.3,11.25,3.6,2,0.627\\r\\n4,A1 LM,LUKE G U,2650,177.59,0.82,7,9.7,3.6,2,0.612\\r\\n4,A1 LM,LUKE G U,2650.5,151.13,0.866,5.6,7.7,3.6,2,0.597\\r\\n8,A1 LM,LUKE G U,2651,116.51,0.932,3,5.2,3.8,2,0.582\\r\\n8,A1 LM,LUKE G U,2651.5,58.47,0.96,2,3.4,4.4,2,0.567\\r\\n8,A1 LM,LUKE G U,2652,56.71,0.951,2.1,3.25,5,2,0.552\\r\\n8,A1 LM,LUKE G U,2652.5,64.91,0.923,5.4,5.5,5,2,0.537\\r\\n8,A1 LM,LUKE G U,2653,74.3,0.885,10.1,8.65,4.8,2,0.522\\r\\n4,A1 LM,LUKE G U,2653.5,85.32,0.829,9.8,11.4,4.6,2,0.507\\r\\n4,A1 LM,LUKE G U,2654,97.02,0.754,11.9,13.75,4.3,2,0.493\\r\\n4,A1 LM,LUKE G U,2654.5,94.31,0.717,10.7,14.45,4.1,2,0.478\\r\\n4,A1 LM,LUKE G U,2655,88.35,0.689,10.2,14.7,3.9,2,0.463\\r\\n4,A1 LM,LUKE G U,2655.5,87.22,0.66,9.9,14.85,3.8,2,0.448\\r\\n4,A1 LM,LUKE G U,2656,85.82,0.628,9.6,14.8,3.8,2,0.433\\r\\n4,A1 LM,LUKE G U,2656.5,85.68,0.614,9.6,14.8,3.7,2,0.418\\r\\n4,A1 LM,LUKE G U,2657,86.5,0.623,9.4,14.9,3.7,2,0.403\\r\\n4,A1 LM,LUKE G U,2657.5,88.5,0.623,9.1,15.05,3.6,2,0.388\\r\\n4,A1 LM,LUKE G U,2658,88.84,0.623,8.7,14.95,3.6,2,0.373\\r\\n4,A1 LM,LUKE G U,2658.5,83.21,0.633,8.6,14.8,3.4,2,0.358\\r\\n4,A1 LM,LUKE G U,2659,71.5,0.633,8.7,14.65,3.3,2,0.343\\r\\n4,A1 LM,LUKE G U,2659.5,67.33,0.661,9.2,14.3,3.4,2,0.328\\r\\n4,A1 LM,LUKE G U,2660,61.32,0.689,9.5,13.95,3.5,2,0.313\\r\\n4,A1 LM,LUKE G U,2660.5,55.48,0.764,8.5,13.05,3.6,2,0.299\\r\\n6,A1 LM,LUKE G U,2661,51.6,0.857,3.8,10.1,3.7,2,0.284\\r\\n6,A1 LM,LUKE G U,2661.5,47.71,0.838,3.2,9,3.8,2,0.269\\r\\n6,A1 LM,LUKE G U,2662,48.07,0.801,3.2,8.9,3.8,2,0.254\\r\\n4,A1 LM,LUKE G U,2662.5,49.41,0.754,3.4,9.3,3.8,2,0.239\\r\\n4,A1 LM,LUKE G U,2663,66.1,0.689,3.7,10.35,3.8,2,0.224\\r\\n4,A1 LM,LUKE G U,2663.5,76.15,0.633,4.7,11.75,3.6,2,0.209\\r\\n4,A1 LM,LUKE G U,2664,92.92,0.595,7.6,14.1,3.3,2,0.194\\r\\n4,A1 LM,LUKE G U,2664.5,100.69,0.577,7.8,16.3,3.2,2,0.179\\r\\n4,A1 LM,LUKE G U,2665,101.16,0.605,7.4,18.6,2.5,2,0.164\\r\\n4,A1 LM,LUKE G U,2665.5,97.59,0.654,4.5,20.95,2.8,2,0.149\\r\\n4,A1 LM,LUKE G U,2666,87.35,0.711,4.7,20.85,3.1,2,0.134\\r\\n6,A1 LM,LUKE G U,2666.5,72.1,0.761,6.8,13.5,3.3,2,0.119\\r\\n6,A1 LM,LUKE G U,2667,64.79,0.806,7.5,9.75,3.8,2,0.104\\r\\n6,A1 LM,LUKE G U,2667.5,62.31,0.848,6.4,8.3,3.9,2,0.09\\r\\n6,A1 LM,LUKE G U,2668,56.83,0.894,5,7.2,3.8,2,0.075\\r\\n8,A1 LM,LUKE G U,2668.5,52.34,0.904,1.7,5.45,3.8,2,0.06\\r\\n8,A1 LM,LUKE G U,2669,48.52,0.904,-4.3,8.35,4,2,0.045\\r\\n8,A1 LM,LUKE G U,2669.5,54.95,0.885,-12.3,12.45,4,2,0.03\\r\\n8,A1 LM,LUKE G U,2670,61.02,0.838,-14.4,17.3,3.8,2,0.015\\r\\n3,B1 SH,LUKE G U,2670.5,66.93,0.745,-13.4,21.8,3.6,1,1\\r\\n3,B1 SH,LUKE G U,2671,70.41,0.708,-6.3,21.75,3.2,1,0.974\\r\\n3,B1 SH,LUKE G U,2671.5,73.06,0.661,-1,20,3.1,1,0.949\\r\\n3,B1 SH,LUKE G U,2672,75.05,0.623,0.3,20.35,3,1,0.923\\r\\n3,B1 SH,LUKE G U,2672.5,76.58,0.614,1.1,21.15,2.9,1,0.897\\r\\n3,B1 SH,LUKE G U,2673,79.26,0.614,1,24.1,2.8,1,0.872\\r\\n3,B1 SH,LUKE G U,2673.5,80.34,0.614,6.3,23.55,2.7,1,0.846\\r\\n3,B1 SH,LUKE G U,2674,80.13,0.614,6.8,23.7,2.6,1,0.821\\r\\n3,B1 SH,LUKE G U,2674.5,76.51,0.623,6.6,23.6,2.6,1,0.795\\r\\n3,B1 SH,LUKE G U,2675,74.52,0.642,3.3,24.25,2.6,1,0.769\\r\\n2,B1 SH,LUKE G U,2675.5,73.2,0.67,0.1,23.65,2.6,1,0.744\\r\\n2,B1 SH,LUKE G U,2676,69.51,0.698,4,17.9,2.7,1,0.718\\r\\n2,B1 SH,LUKE G U,2676.5,64.97,0.736,4.6,16,2.8,1,0.692\\r\\n2,B1 SH,LUKE G U,2677,65.21,0.736,6.3,14.85,3,1,0.667\\r\\n2,B1 SH,LUKE G U,2677.5,65.7,0.736,7.4,13.6,3.1,1,0.641\\r\\n2,B1 SH,LUKE G U,2678,65.24,0.717,9,11.6,3.3,1,0.615\\r\\n2,B1 SH,LUKE G U,2678.5,63.2,0.717,9.2,10.7,3.6,1,0.59\\r\\n2,B1 SH,LUKE G U,2679,61.71,0.676,6.7,11.15,3.7,1,0.564\\r\\n2,B1 SH,LUKE G U,2679.5,60.3,0.624,4.3,11.05,3.6,1,0.538\\r\\n2,B1 SH,LUKE G U,2680,58.7,0.565,2.5,11.65,3.5,1,0.513\\r\\n2,B1 SH,LUKE G U,2680.5,56.18,0.511,0.8,11.7,3.3,1,0.487\\r\\n2,B1 SH,LUKE G U,2681,55.11,0.483,0.4,11.6,3,1,0.462\\r\\n2,B1 SH,LUKE G U,2681.5,54.51,0.436,0.5,11.55,3,1,0.436\\r\\n2,B1 SH,LUKE G U,2682,55.3,0.411,0.8,11.5,2.9,1,0.41\\r\\n2,B1 SH,LUKE G U,2682.5,55.56,0.39,1.2,11.6,2.9,1,0.385\\r\\n2,B1 SH,LUKE G U,2683,54.92,0.362,1.1,11.75,2.8,1,0.359\\r\\n2,B1 SH,LUKE G U,2683.5,54.92,0.352,1,11.9,2.8,1,0.333\\r\\n2,B1 SH,LUKE G U,2684,55.63,0.362,0.9,11.85,2.9,1,0.308\\r\\n2,B1 SH,LUKE G U,2684.5,57.6,0.371,1,11.7,2.9,1,0.282\\r\\n2,B1 SH,LUKE G U,2685,60.83,0.371,1.7,11.45,3,1,0.256\\r\\n2,B1 SH,LUKE G U,2685.5,62.86,0.38,2.4,11.6,3.1,1,0.231\\r\\n3,B1 SH,LUKE G U,2686,67.48,0.407,8.6,14.6,3.1,1,0.205\\r\\n3,B1 SH,LUKE G U,2686.5,74.05,0.436,8.4,14.8,3.2,1,0.179\\r\\n3,B1 SH,LUKE G U,2687,77.79,0.464,8.2,14.6,3.2,1,0.154\\r\\n3,B1 SH,LUKE G U,2687.5,76.99,0.49,6.9,13.55,3.3,1,0.128\\r\\n3,B1 SH,LUKE G U,2688,75.9,0.502,6.7,15.15,3.4,1,0.103\\r\\n3,B1 SH,LUKE G U,2688.5,74.27,0.521,3.7,18.55,3.5,1,0.077\\r\\n3,B1 SH,LUKE G U,2689,73.43,0.537,-1,21.9,3.6,1,0.051\\r\\n3,B1 SH,LUKE G U,2689.5,64.68,0.633,-0.5,20.45,3.3,1,0.026\\r\\n8,B1 LM,LUKE G U,2690,50.6,0.717,-0.2,16.1,3.4,2,1\\r\\n8,B1 LM,LUKE G U,2690.5,39.67,0.792,-1.6,6.4,3.6,2,0.957\\r\\n8,B1 LM,LUKE G U,2691,31.96,0.81,0.5,4.55,3.9,2,0.913\\r\\n6,B1 LM,LUKE G U,2691.5,42.29,0.866,0.6,4.6,4.5,2,0.87\\r\\n6,B1 LM,LUKE G U,2692,48.33,0.904,1.8,5.6,4.2,2,0.826\\r\\n6,B1 LM,LUKE G U,2692.5,48.4,0.932,0.9,6.15,3.6,2,0.783\\r\\n6,B1 LM,LUKE G U,2693,48.41,0.979,0.5,6.25,3.4,2,0.739\\r\\n6,B1 LM,LUKE G U,2693.5,46.41,1.007,-0.2,5.9,3.5,2,0.696\\r\\n8,B1 LM,LUKE G U,2694,44.36,1.025,-0.7,5.45,3.6,2,0.652\\r\\n8,B1 LM,LUKE G U,2694.5,39.15,1.053,-0.2,4.4,3.8,2,0.609\\r\\n6,B1 LM,LUKE G U,2695,36.7,1.072,0.7,3.25,4.1,2,0.565\\r\\n6,B1 LM,LUKE G U,2695.5,36.01,1.1,0.5,3.05,4.7,2,0.522\\r\\n6,B1 LM,LUKE G U,2696,37.9,1.119,0.8,3.3,4.9,2,0.478\\r\\n6,B1 LM,LUKE G U,2696.5,40.44,1.119,1.4,3.6,4.7,2,0.435\\r\\n6,B1 LM,LUKE G U,2697,43.51,1.128,1.7,3.75,4.5,2,0.391\\r\\n6,B1 LM,LUKE G U,2697.5,44.73,1.119,1.8,3.9,4.3,2,0.348\\r\\n6,B1 LM,LUKE G U,2698,52.29,1.119,1.9,4.25,4.2,2,0.304\\r\\n6,B1 LM,LUKE G U,2698.5,57.68,1.095,2.9,5.35,4.3,2,0.261\\r\\n8,B1 LM,LUKE G U,2699,55.66,1.063,2.6,5.3,4.5,2,0.217\\r\\n8,B1 LM,LUKE G U,2699.5,51.65,1.044,1.7,4.35,4.6,2,0.174\\r\\n8,B1 LM,LUKE G U,2700,48.58,0.894,1.2,3.4,4.6,2,0.13\\r\\n8,B1 LM,LUKE G U,2700.5,52.53,0.82,0.8,3.5,4.5,2,0.087\\r\\n8,B1 LM,LUKE G U,2701,63.83,0.727,2.4,4.9,4.1,2,0.043\\r\\n3,B2 SH,LUKE G U,2701.5,73.93,0.661,2.5,9.95,3.6,1,1\\r\\n3,B2 SH,LUKE G U,2702,82.15,0.623,5.9,12.95,3.2,1,0.957\\r\\n2,B2 SH,LUKE G U,2702.5,79.86,0.586,7.5,14.05,3.1,1,0.913\\r\\n2,B2 SH,LUKE G U,2703,75.71,0.567,6.6,13.5,3.1,1,0.87\\r\\n2,B2 SH,LUKE G U,2703.5,70.41,0.567,7,11,3.2,1,0.826\\r\\n2,B2 SH,LUKE G U,2704,59.72,0.595,6.8,9.4,3.4,1,0.783\\r\\n2,B2 SH,LUKE G U,2704.5,61.47,0.623,5.8,8.4,3.6,1,0.739\\r\\n2,B2 SH,LUKE G U,2705,65.24,0.623,6.6,8.9,3.9,1,0.696\\r\\n2,B2 SH,LUKE G U,2705.5,66.26,0.633,6.4,9.1,4.1,1,0.652\\r\\n2,B2 SH,LUKE G U,2706,68.21,0.623,4.8,9.8,4.2,1,0.609\\r\\n2,B2 SH,LUKE G U,2706.5,69.24,0.567,3.1,10.65,4,1,0.565\\r\\n2,B2 SH,LUKE G U,2707,71.23,0.53,2,12.8,3.8,1,0.522\\r\\n2,B2 SH,LUKE G U,2707.5,76.47,0.502,-9.2,23.9,3.7,1,0.478\\r\\n3,B2 SH,LUKE G U,2708,83.52,0.493,-5.5,27.15,3.2,1,0.435\\r\\n3,B2 SH,LUKE G U,2708.5,82.88,0.502,-4.8,27.5,2.6,1,0.348\\r\\n3,B2 SH,LUKE G U,2709,76.99,0.53,-2.5,25.55,2.6,1,0.304\\r\\n2,B2 SH,LUKE G U,2709.5,68.71,0.549,-1.9,15.95,2.7,1,0.261\\r\\n2,B2 SH,LUKE G U,2710,66.49,0.595,2.3,9.95,3,1,0.217\\r\\n2,B2 SH,LUKE G U,2710.5,66.67,0.614,1.8,10.3,3.4,1,0.174\\r\\n2,B2 SH,LUKE G U,2711,68.68,0.661,4.7,17.45,3.4,1,0.13\\r\\n2,B2 SH,LUKE G U,2711.5,67.26,0.689,-3.6,21.4,3.3,1,0.087\\r\\n8,B2 LM,LUKE G U,2712,38.21,0.745,0.5,17.25,3.2,2,1\\r\\n8,B2 LM,LUKE G U,2712.5,23.03,0.764,2,13.2,3.4,2,0.947\\r\\n8,B2 LM,LUKE G U,2713,16.09,0.764,0,9.6,4,2,0.895\\r\\n8,B2 LM,LUKE G U,2713.5,15.38,0.773,0.2,9.4,4.7,2,0.842\\r\\n8,B2 LM,LUKE G U,2714,15.34,0.792,0.1,9.75,5.3,2,0.789\\r\\n8,B2 LM,LUKE G U,2714.5,15.83,0.792,-1.5,11.15,5.8,2,0.737\\r\\n8,B2 LM,LUKE G U,2715,16.39,0.801,-2,11.4,5.8,2,0.684\\r\\n8,B2 LM,LUKE G U,2715.5,17.2,0.838,-2.5,11.15,5.6,2,0.632\\r\\n8,B2 LM,LUKE G U,2716,20.17,0.857,-3,10.4,5.2,2,0.579\\r\\n8,B2 LM,LUKE G U,2716.5,24.31,0.876,-3,8.6,5.1,2,0.526\\r\\n8,B2 LM,LUKE G U,2717,24.49,0.885,-0.4,6.6,5,2,0.474\\r\\n8,B2 LM,LUKE G U,2717.5,24.54,0.904,0.7,5.95,5,2,0.421\\r\\n8,B2 LM,LUKE G U,2718,23.16,0.904,1.2,6.5,5,2,0.368\\r\\n8,B2 LM,LUKE G U,2718.5,22.98,0.913,1.1,6.75,5,2,0.316\\r\\n8,B2 LM,LUKE G U,2719,23.48,0.904,0.8,7.8,5.1,2,0.263\\r\\n8,B2 LM,LUKE G U,2719.5,25.9,0.866,1.8,8.1,5.1,2,0.211\\r\\n6,B2 LM,LUKE G U,2720,25.9,0.866,1.8,8.1,5.1,2,0.211\\r\\n6,B2 LM,LUKE G U,2720.5,32.16,0.824,2.9,8.15,5.1,2,0.158\\r\\n6,B2 LM,LUKE G U,2721,34.86,0.773,3.5,8.55,5.1,2,0.105\\r\\n6,B2 LM,LUKE G U,2721.5,38.53,0.726,2.8,8.9,5.1,2,0.053\\r\\n3,B3 SH,LUKE G U,2722,40.07,0.595,0.3,8.95,4.9,1,1\\r\\n3,B3 SH,LUKE G U,2722.5,45.45,0.493,-5.8,11.9,4.4,1,0.971\\r\\n3,B3 SH,LUKE G U,2723,54.42,0.446,-16,17.8,3.7,1,0.943\\r\\n3,B3 SH,LUKE G U,2723.5,82.13,0.427,-12.2,23.4,3.3,1,0.914\\r\\n3,B3 SH,LUKE G U,2724,95.72,0.399,-5.6,27.1,2.9,1,0.886\\r\\n3,B3 SH,LUKE G U,2724.5,100.54,0.371,-0.6,29.6,2.6,1,0.857\\r\\n3,B3 SH,LUKE G U,2725,101.09,0.343,-0.2,29.8,2.5,1,0.829\\r\\n3,B3 SH,LUKE G U,2725.5,97.01,0.306,-0.5,29.55,2.4,1,0.8\\r\\n3,B3 SH,LUKE G U,2726,89.65,0.268,-3.4,28,2.4,1,0.771\\r\\n3,B3 SH,LUKE G U,2726.5,87.36,0.25,-1.3,23.45,2.4,1,0.743\\r\\n3,B3 SH,LUKE G U,2727,84.42,0.231,3,20.9,2.5,1,0.714\\r\\n3,B3 SH,LUKE G U,2727.5,83.16,0.222,7.3,18.85,2.7,1,0.686\\r\\n3,B3 SH,LUKE G U,2728,82.81,0.212,7.6,19.5,2.7,1,0.657\\r\\n3,B3 SH,LUKE G U,2728.5,85.11,0.194,4.3,21.85,2.8,1,0.629\\r\\n3,B3 SH,LUKE G U,2729,86.75,0.194,4.1,21.85,2.7,1,0.6\\r\\n3,B3 SH,LUKE G U,2729.5,87.27,0.194,3,21.2,2.6,1,0.571\\r\\n3,B3 SH,LUKE G U,2730,85.02,0.203,5.4,19.6,2.6,1,0.543\\r\\n3,B3 SH,LUKE G U,2730.5,79.75,0.226,5.8,19.7,2.6,1,0.514\\r\\n3,B3 SH,LUKE G U,2731,78.3,0.24,5.5,19.85,2.6,1,0.486\\r\\n3,B3 SH,LUKE G U,2731.5,81.07,0.269,7.6,18.4,2.6,1,0.457\\r\\n2,B3 SH,LUKE G U,2732,79.27,0.302,6.4,16.2,2.8,1,0.429\\r\\n2,B3 SH,LUKE G U,2732.5,73.93,0.334,5.9,14.05,3,1,0.4\\r\\n2,B3 SH,LUKE G U,2733,65.23,0.371,4.1,11.95,3.3,1,0.371\\r\\n2,B3 SH,LUKE G U,2733.5,61.78,0.446,3.2,11.2,3.5,1,0.343\\r\\n2,B3 SH,LUKE G U,2734,62.11,0.493,2.8,11.5,3.5,1,0.314\\r\\n2,B3 SH,LUKE G U,2734.5,62.58,0.521,2.7,11.95,3.4,1,0.286\\r\\n2,B3 SH,LUKE G U,2735,64.56,0.53,2.5,12.15,3.3,1,0.257\\r\\n2,B3 SH,LUKE G U,2735.5,67.07,0.53,2.5,11.85,3.4,1,0.229\\r\\n2,B3 SH,LUKE G U,2736,68.49,0.521,2.8,11.7,3.3,1,0.2\\r\\n2,B3 SH,LUKE G U,2736.5,74.44,0.521,3.1,11.55,3.2,1,0.171\\r\\n3,B3 SH,LUKE G U,2737,78.97,0.521,4.4,11.5,3.3,1,0.143\\r\\n3,B3 SH,LUKE G U,2737.5,80.06,0.558,5.7,11.65,3.4,1,0.114\\r\\n8,B3 LM,LUKE G U,2738,67.48,0.741,2.5,13.85,3.9,2,1\\r\\n8,B3 LM,LUKE G U,2738.5,52.5,0.773,1.4,12.9,4,2,0.889\\r\\n8,B3 LM,LUKE G U,2739,31.71,0.801,0.6,9.2,4.3,2,0.778\\r\\n8,B3 LM,LUKE G U,2739.5,25.1,0.81,-0.7,8.35,4.6,2,0.667\\r\\n8,B3 LM,LUKE G U,2740,23.57,0.829,-1.5,7.55,4.7,2,0.556\\r\\n8,B3 LM,LUKE G U,2740.5,25.17,0.829,-1.5,7.15,4.7,2,0.444\\r\\n8,B3 LM,LUKE G U,2741,31.3,0.801,-0.8,6.7,4.7,2,0.333\\r\\n8,B3 LM,LUKE G U,2741.5,37.3,0.773,0.1,6.75,4.4,2,0.222\\r\\n8,B3 LM,LUKE G U,2742,43.05,0.736,0.9,7.15,3.8,2,0.111\\r\\n2,B4 SH,LUKE G U,2742.5,49.95,0.698,1.6,7.9,3.6,1,1\\r\\n2,B4 SH,LUKE G U,2743,56.08,0.642,1.6,8.2,3.5,1,0.957\\r\\n2,B4 SH,LUKE G U,2743.5,58.25,0.62,1.8,8.8,3.4,1,0.913\\r\\n2,B4 SH,LUKE G U,2744,61.71,0.596,3,9.1,3.4,1,0.87\\r\\n2,B4 SH,LUKE G U,2744.5,66.63,0.567,4.1,9.45,3.3,1,0.826\\r\\n3,B4 SH,LUKE G U,2745,71.55,0.558,5.1,9.85,3.3,1,0.783\\r\\n3,B4 SH,LUKE G U,2745.5,78.54,0.567,6.9,11.35,3.3,1,0.739\\r\\n3,B4 SH,LUKE G U,2746,82.48,0.549,9.5,13.95,3.2,1,0.696\\r\\n3,B4 SH,LUKE G U,2746.5,77.48,0.549,8.7,13.65,3.2,1,0.652\\r\\n2,B4 SH,LUKE G U,2747,74.35,0.539,7.7,12.75,3.1,1,0.609\\r\\n2,B4 SH,LUKE G U,2747.5,67.76,0.53,6.7,11.95,3.2,1,0.565\\r\\n2,B4 SH,LUKE G U,2748,62.93,0.53,5.7,11.65,3.3,1,0.522\\r\\n2,B4 SH,LUKE G U,2748.5,58.85,0.53,2.8,10.7,3.3,1,0.478\\r\\n2,B4 SH,LUKE G U,2749,57.92,0.521,2.2,11,3.3,1,0.435\\r\\n2,B4 SH,LUKE G U,2749.5,61.42,0.53,2.2,11.2,3.2,1,0.391\\r\\n2,B4 SH,LUKE G U,2750,61.98,0.53,2.5,11.45,3.2,1,0.348\\r\\n2,B4 SH,LUKE G U,2750.5,62.63,0.539,2.8,11.5,3.1,1,0.304\\r\\n2,B4 SH,LUKE G U,2751,62.94,0.539,3.6,11.2,3.1,1,0.261\\r\\n2,B4 SH,LUKE G U,2751.5,65.85,0.53,4.4,10.9,3.3,1,0.217\\r\\n2,B4 SH,LUKE G U,2752,68.59,0.53,4.4,10.9,3.4,1,0.174\\r\\n3,B4 SH,LUKE G U,2752.5,74.99,0.53,2.7,12.25,3.5,1,0.13\\r\\n3,B4 SH,LUKE G U,2753,79.04,0.539,3,14.5,3.6,1,0.087\\r\\n3,B4 SH,LUKE G U,2753.5,79.86,0.558,3.2,17.8,3.4,1,0.043\\r\\n3,B4 SH,LUKE G U,2754,79.11,0.61,7,17.7,3.2,1,0.01\\r\\n6,B4 LM,LUKE G U,2754.5,79.11,0.61,7,17.7,3.2,2,1\\r\\n8,B4 LM,LUKE G U,2755,73.93,0.689,7,14.1,3.2,2,0.857\\r\\n8,B4 LM,LUKE G U,2755.5,56.13,0.698,5.6,9.2,3.5,2,0.714\\r\\n8,B4 LM,LUKE G U,2756,30.61,0.698,4.2,6.4,4.1,2,0.571\\r\\n8,B4 LM,LUKE G U,2756.5,18.45,0.68,3.2,5.3,4.7,2,0.429\\r\\n8,B4 LM,LUKE G U,2757,19.36,0.562,3.7,5.55,5,2,0.143\\r\\n3,B5 SH,LUKE G U,2757.5,26.23,0.465,1.3,7.95,4.8,1,1\\r\\n3,B5 SH,LUKE G U,2758,31.45,0.427,-1.1,13.65,4.5,1,0.917\\r\\n3,B5 SH,LUKE G U,2758.5,39.85,0.371,-0.9,19.55,3.8,1,0.833\\r\\n3,B5 SH,LUKE G U,2759,55.71,0.362,-0.7,28.15,2.9,1,0.75\\r\\n3,B5 SH,LUKE G U,2759.5,65.46,0.343,-1.4,26.8,2.6,1,0.667\\r\\n3,B5 SH,LUKE G U,2760,68.77,0.343,-2.9,24.15,2.7,1,0.583\\r\\n3,B5 SH,LUKE G U,2760.5,73.83,0.343,1.1,20.65,2.9,1,0.5\\r\\n3,B5 SH,LUKE G U,2761,76.77,0.409,-1.1,21.85,3.1,1,0.417\\r\\n3,B5 SH,LUKE G U,2761.5,77.06,0.455,-2.4,22.9,3,1,0.333\\r\\n3,B5 SH,LUKE G U,2762,75.99,0.493,-3.3,23.45,2.9,1,0.25\\r\\n3,B5 SH,LUKE G U,2762.5,70.48,0.53,-4.2,23.9,2.8,1,0.167\\r\\n3,B5 SH,LUKE G U,2763,64.69,0.567,-5.8,24.6,2.7,1,0.083\\r\\n8,B5 LM,LUKE G U,2763.5,53.18,0.623,-4.6,22.6,2.6,2,1\\r\\n8,B5 LM,LUKE G U,2764,27.76,0.68,5,10.9,3.3,2,0.944\\r\\n8,B5 LM,LUKE G U,2764.5,24,0.651,6.8,9.4,3.8,2,0.917\\r\\n8,B5 LM,LUKE G U,2765,20.94,0.623,6.5,9.55,4.2,2,0.889\\r\\n8,B5 LM,LUKE G U,2765.5,20.62,0.586,5.8,10.4,4.3,2,0.861\\r\\n8,B5 LM,LUKE G U,2766,19.31,0.502,5.1,12.05,4.4,2,0.833\\r\\n8,B5 LM,LUKE G U,2766.5,18.91,0.409,4.8,13.5,4.5,2,0.806\\r\\n8,B5 LM,LUKE G U,2767,17.04,0.362,4.1,14.95,4.5,2,0.778\\r\\n8,B5 LM,LUKE G U,2767.5,15.6,0.296,4.1,16.15,4.5,2,0.75\\r\\n7,B5 LM,LUKE G U,2768,14.28,0.259,3.5,16.85,4.5,2,0.722\\r\\n7,B5 LM,LUKE G U,2768.5,13.53,0.226,2.5,15.95,4.5,2,0.694\\r\\n7,B5 LM,LUKE G U,2769,17.33,0.203,3.6,14.3,4.5,2,0.667\\r\\n7,B5 LM,LUKE G U,2769.5,22,0.194,5.7,13.15,4.4,2,0.639\\r\\n7,B5 LM,LUKE G U,2770,27.28,0.194,7.6,12.8,4.2,2,0.611\\r\\n7,B5 LM,LUKE G U,2770.5,34.55,0.194,11,15.3,3.9,2,0.583\\r\\n7,B5 LM,LUKE G U,2771,35.39,0.203,11.5,17.75,3.7,2,0.556\\r\\n7,B5 LM,LUKE G U,2771.5,35.46,0.212,10.4,18.5,3.6,2,0.528\\r\\n7,B5 LM,LUKE G U,2772,37.16,0.231,8.9,17.65,3.5,2,0.5\\r\\n7,B5 LM,LUKE G U,2772.5,42.1,0.259,6.4,14.5,3.5,2,0.472\\r\\n7,B5 LM,LUKE G U,2773,59.72,0.296,7.3,13.45,3.6,2,0.444\\r\\n7,B5 LM,LUKE G U,2773.5,83.87,0.352,7.3,12.55,3.8,2,0.417\\r\\n7,B5 LM,LUKE G U,2774,61.49,0.362,6,11.4,4.1,2,0.389\\r\\n7,B5 LM,LUKE G U,2774.5,29.36,0.38,6.3,10.55,4.2,2,0.361\\r\\n7,B5 LM,LUKE G U,2775,32.62,0.399,5.8,9.8,4.4,2,0.333\\r\\n7,B5 LM,LUKE G U,2775.5,33.41,0.418,5.7,9.75,4.5,2,0.306\\r\\n7,B5 LM,LUKE G U,2776,37.19,0.436,4.2,10.8,4.6,2,0.278\\r\\n7,B5 LM,LUKE G U,2776.5,39.56,0.452,4.2,12.3,4.7,2,0.25\\r\\n7,B5 LM,LUKE G U,2777,44.16,0.494,2.6,13.3,4.7,2,0.222\\r\\n7,B5 LM,LUKE G U,2777.5,56.62,0.531,0.5,13.85,4.7,2,0.194\\r\\n6,B5 LM,LUKE G U,2778,68.42,0.567,-0.4,13.2,4.5,2,0.167\\r\\n6,B5 LM,LUKE G U,2778.5,87.91,0.586,0.4,10.5,4.4,2,0.139\\r\\n6,B5 LM,LUKE G U,2779,90.81,0.633,1.9,7.55,4.5,2,0.111\\r\\n6,B5 LM,LUKE G U,2779.5,88.5,0.651,2,5.6,4.7,2,0.083\\r\\n6,B5 LM,LUKE G U,2780,92.21,0.661,1.8,4.3,4.8,2,0.056\\r\\n6,B5 LM,LUKE G U,2780.5,89.56,0.661,2,4.2,4.7,2,0.028\\r\\n6,B5 LM,LUKE G U,2781,78.51,0.642,1.5,5.05,4.5,2,0.01\\r\\n3,C SH,LUKE G U,2781.5,78.51,0.642,1.5,5.05,4.5,1,1\\r\\n3,C SH,LUKE G U,2782,80.19,0.614,1.2,9.4,4.2,1,0.982\\r\\n3,C SH,LUKE G U,2782.5,85.11,0.567,0.2,13,3.9,1,0.965\\r\\n3,C SH,LUKE G U,2783,86.97,0.549,0.7,16.65,3.4,1,0.947\\r\\n3,C SH,LUKE G U,2783.5,84.85,0.549,2.9,18.35,3.2,1,0.93\\r\\n3,C SH,LUKE G U,2784,80.37,0.549,5.2,19.5,3.1,1,0.912\\r\\n3,C SH,LUKE G U,2784.5,74.4,0.558,8.4,20.7,3,1,0.895\\r\\n3,C SH,LUKE G U,2785,74.77,0.558,9.2,20.3,3,1,0.877\\r\\n3,C SH,LUKE G U,2785.5,75.13,0.549,8.6,18.9,3.1,1,0.86\\r\\n3,C SH,LUKE G U,2786,74.23,0.549,8.9,17.95,3.2,1,0.842\\r\\n3,C SH,LUKE G U,2786.5,73.64,0.539,10,16.7,3.2,1,0.825\\r\\n3,C SH,LUKE G U,2787,74.34,0.533,10,16.9,3.3,1,0.807\\r\\n3,C SH,LUKE G U,2787.5,74.26,0.53,8.9,17.65,3.3,1,0.789\\r\\n3,C SH,LUKE G U,2788,73.78,0.53,6.7,18.75,3.2,1,0.772\\r\\n3,C SH,LUKE G U,2788.5,73.38,0.53,5.7,18.45,3.2,1,0.754\\r\\n3,C SH,LUKE G U,2789,72.69,0.53,5,18.1,3.1,1,0.737\\r\\n3,C SH,LUKE G U,2789.5,73.82,0.521,5.8,16.3,3.1,1,0.719\\r\\n3,C SH,LUKE G U,2790,77.1,0.493,7.6,15.5,3.2,1,0.702\\r\\n3,C SH,LUKE G U,2790.5,78.49,0.483,13,13.3,3.2,1,0.684\\r\\n3,C SH,LUKE G U,2791,78.59,0.465,14.3,14.25,3.3,1,0.667\\r\\n3,C SH,LUKE G U,2791.5,78.57,0.455,13.4,14.5,3.3,1,0.649\\r\\n3,C SH,LUKE G U,2792,76.44,0.436,13.1,14.45,3.4,1,0.632\\r\\n3,C SH,LUKE G U,2792.5,74.66,0.427,10.5,13.25,3.4,1,0.614\\r\\n3,C SH,LUKE G U,2793,74.76,0.418,10.1,13.45,3.4,1,0.596\\r\\n3,C SH,LUKE G U,2793.5,75.86,0.409,9.9,15.35,3.4,1,0.579\\r\\n3,C SH,LUKE G U,2794,77.96,0.409,7.7,17.05,3.4,1,0.561\\r\\n3,C SH,LUKE G U,2794.5,78.82,0.418,7.3,20.75,3.3,1,0.544\\r\\n2,C SH,LUKE G U,2795,79.34,0.446,4.9,22.25,3.2,1,0.526\\r\\n2,C SH,LUKE G U,2795.5,79.17,0.455,2.8,23.2,3.1,1,0.509\\r\\n2,C SH,LUKE G U,2796,76.21,0.483,1.3,22.65,3,1,0.491\\r\\n2,C SH,LUKE G U,2796.5,73.41,0.511,4.1,18.85,3,1,0.474\\r\\n2,C SH,LUKE G U,2797,70.99,0.53,9.7,15.35,3.1,1,0.456\\r\\n2,C SH,LUKE G U,2797.5,72.14,0.549,13.9,13.05,3.4,1,0.439\\r\\n2,C SH,LUKE G U,2798,70.4,0.614,12.3,13.25,3.6,1,0.386\\r\\n2,C SH,LUKE G U,2798.5,67.2,0.633,11.9,13.05,3.7,1,0.368\\r\\n2,C SH,LUKE G U,2799,67.15,0.642,11.7,12.65,3.7,1,0.351\\r\\n2,C SH,LUKE G U,2799.5,66.51,0.651,11.3,12.25,3.7,1,0.333\\r\\n2,C SH,LUKE G U,2800,66.45,0.651,10.8,11.9,3.7,1,0.316\\r\\n2,C SH,LUKE G U,2800.5,67.8,0.651,10.5,11.85,3.7,1,0.298\\r\\n3,C SH,LUKE G U,2801,69.34,0.651,10.1,12.05,3.7,1,0.281\\r\\n3,C SH,LUKE G U,2801.5,72.24,0.633,10.1,12.25,3.7,1,0.263\\r\\n3,C SH,LUKE G U,2802,75.96,0.614,8.8,14.7,3.7,1,0.246\\r\\n3,C SH,LUKE G U,2802.5,79.36,0.586,7.7,18.45,3.7,1,0.228\\r\\n3,C SH,LUKE G U,2803,81.47,0.567,0.4,24.1,3.5,1,0.211\\r\\n3,C SH,LUKE G U,2803.5,78.28,0.549,1.9,23.15,3.3,1,0.193\\r\\n3,C SH,LUKE G U,2804,75.1,0.53,3,20.4,3,1,0.175\\r\\n3,C SH,LUKE G U,2804.5,75.6,0.511,5.7,18.55,2.9,1,0.158\\r\\n3,C SH,LUKE G U,2805,77.08,0.521,9.5,16.25,3.1,1,0.14\\r\\n3,C SH,LUKE G U,2805.5,78.66,0.521,9.8,15.9,3.3,1,0.123\\r\\n3,C SH,LUKE G U,2806,79.17,0.521,9.5,15.55,3.3,1,0.105\\r\\n3,C SH,LUKE G U,2806.5,79.34,0.53,8.1,15.35,3.1,1,0.088\\r\\n3,C SH,LUKE G U,2807,80,0.538,1.6,19,2.7,1,0.07\\r\\n3,C SH,LUKE G U,2807.5,79.37,0.562,-7,25.6,1.8,1,0.053\\r\\n3,C SH,LUKE G U,2808,77.67,0.584,0.7,26.45,1,1,0.035\\r\\n3,C SH,LUKE G U,2808.5,75.52,0.606,3.9,25.05,0.2,1,0.018\\r\\n8,C LM,LUKE G U,2810.5,21.76,0.997,11.1,0.55,3.4,2,0.956\\r\\n6,C LM,LUKE G U,2811,18.63,1.063,5.1,3.55,4.6,2,0.941\\r\\n6,C LM,LUKE G U,2811.5,22.29,1.109,2.9,5.15,4.6,2,0.926\\r\\n6,C LM,LUKE G U,2812,26.95,1.137,3.4,5.5,4.5,2,0.912\\r\\n6,C LM,LUKE G U,2812.5,32.25,1.137,3.6,5.6,4.3,2,0.897\\r\\n6,C LM,LUKE G U,2813,33.61,1.137,3.1,5.15,4.3,2,0.882\\r\\n6,C LM,LUKE G U,2813.5,35.08,1.109,2.8,4.7,4.5,2,0.868\\r\\n6,C LM,LUKE G U,2814,33.38,1.072,2.6,4.5,4.6,2,0.853\\r\\n6,C LM,LUKE G U,2814.5,30.61,1.016,2,4.6,4.6,2,0.838\\r\\n6,C LM,LUKE G U,2815,29.09,0.979,1.2,5,4.6,2,0.824\\r\\n5,C LM,LUKE G U,2815.5,29.88,0.941,2.2,5.4,4.5,2,0.809\\r\\n5,C LM,LUKE G U,2816,34.23,0.932,4.3,5.15,4.3,2,0.794\\r\\n6,C LM,LUKE G U,2816.5,39.19,0.932,7,6.1,4.3,2,0.779\\r\\n6,C LM,LUKE G U,2817,43.79,0.932,9.1,6.55,4.3,2,0.765\\r\\n6,C LM,LUKE G U,2817.5,51.07,0.932,8.4,6.9,4.2,2,0.75\\r\\n6,C LM,LUKE G U,2818,49.55,0.955,5.7,5.75,4.2,2,0.735\\r\\n6,C LM,LUKE G U,2818.5,42.49,0.979,3.5,4.85,4.3,2,0.721\\r\\n6,C LM,LUKE G U,2819,48.45,1.007,3.5,5.05,4.4,2,0.706\\r\\n6,C LM,LUKE G U,2819.5,54.59,1.044,3.9,5.45,4.4,2,0.691\\r\\n6,C LM,LUKE G U,2820,56.75,1.053,3.5,5.45,4.5,2,0.676\\r\\n6,C LM,LUKE G U,2820.5,48.11,1.044,2.8,5.5,4.7,2,0.662\\r\\n6,C LM,LUKE G U,2821,41.37,1.016,2.3,5.65,4.7,2,0.647\\r\\n6,C LM,LUKE G U,2821.5,40.62,0.997,1.8,6,4.8,2,0.632\\r\\n6,C LM,LUKE G U,2822,43.16,0.988,1.7,6.35,4.8,2,0.618\\r\\n6,C LM,LUKE G U,2822.5,46.73,0.969,2.6,7.1,4.7,2,0.603\\r\\n6,C LM,LUKE G U,2823,51.04,0.96,3.7,8.15,4.5,2,0.588\\r\\n6,C LM,LUKE G U,2823.5,54.56,0.979,3.6,8.2,4.2,2,0.574\\r\\n6,C LM,LUKE G U,2824,53.58,1.007,3.4,7.8,3.9,2,0.559\\r\\n6,C LM,LUKE G U,2824.5,50,1.081,2.5,6.75,3.8,2,0.544\\r\\n6,C LM,LUKE G U,2825,46.51,1.1,0.7,5.35,3.8,2,0.529\\r\\n6,C LM,LUKE G U,2825.5,41.43,1.109,0.6,5.3,3.9,2,0.515\\r\\n6,C LM,LUKE G U,2826,40.19,1.081,0.6,5.4,3.9,2,0.5\\r\\n6,C LM,LUKE G U,2826.5,42.42,1.025,1,5.6,3.8,2,0.485\\r\\n6,C LM,LUKE G U,2827,61.67,1.025,3.7,7.05,3.9,2,0.471\\r\\n6,C LM,LUKE G U,2827.5,87.35,1.054,4.9,7.65,3.9,2,0.456\\r\\n6,C LM,LUKE G U,2828,105.98,1.072,6.3,8.35,4,2,0.441\\r\\n4,C LM,LUKE G U,2828.5,130,1.063,6.4,8.3,4.3,2,0.426\\r\\n4,C LM,LUKE G U,2829,165,1.044,0.8,5.2,4.4,2,0.412\\r\\n4,C LM,LUKE G U,2829.5,120,1.007,1.1,4.95,4.5,2,0.397\\r\\n6,C LM,LUKE G U,2830,105.14,0.988,1.7,4.95,4.6,2,0.382\\r\\n6,C LM,LUKE G U,2830.5,100.12,0.96,3,5.3,4.6,2,0.368\\r\\n6,C LM,LUKE G U,2831,123.09,0.913,5.1,6.65,4.6,2,0.353\\r\\n4,C LM,LUKE G U,2831.5,165,0.876,5.9,8.45,4.4,2,0.338\\r\\n4,C LM,LUKE G U,2832,172,0.857,9,10.8,4.4,2,0.324\\r\\n4,C LM,LUKE G U,2832.5,145,0.857,8.8,11.3,4.3,2,0.309\\r\\n6,C LM,LUKE G U,2833,105,0.988,7.7,11.85,4.3,2,0.294\\r\\n6,C LM,LUKE G U,2833.5,85.77,0.997,8.5,11.15,4.3,2,0.279\\r\\n6,C LM,LUKE G U,2834,58.49,0.988,1.2,5.6,4.5,2,0.265\\r\\n6,C LM,LUKE G U,2834.5,47.01,0.969,2,4.1,4.7,2,0.25\\r\\n3,C LM,LUKE G U,2835,44.86,0.913,2.1,3.95,4.8,1,0.235\\r\\n3,C LM,LUKE G U,2835.5,45.57,0.727,-1.4,5.8,4.7,1,0.221\\r\\n3,C LM,LUKE G U,2836,48.45,0.642,-5.6,9,4.5,1,0.206\\r\\n3,C LM,LUKE G U,2836.5,55.62,0.605,-15.4,18.1,3.9,1,0.191\\r\\n3,C LM,LUKE G U,2837,68.54,0.465,-11.8,22.5,3.4,1,0.176\\r\\n3,C LM,LUKE G U,2837.5,77.15,0.418,-8,25,2.7,1,0.162\\r\\n3,C LM,LUKE G U,2838,81.46,0.423,-2.4,24.4,2.5,1,0.147\\r\\n3,C LM,LUKE G U,2838.5,80.74,0.436,1.8,24.7,2.4,1,0.132\\r\\n3,C LM,LUKE G U,2839,83.61,0.567,12.2,29.4,2.4,1,0.118\\r\\n3,C LM,LUKE G U,2839.5,84.33,0.642,11,28.5,2.4,1,0.103\\r\\n8,C LM,LUKE G U,2840,79.48,0.689,7.7,26.15,2.5,2,0.074\\r\\n8,C LM,LUKE G U,2840.5,62.88,0.689,12.6,23.7,2.7,2,0.059\\r\\n8,C LM,LUKE G U,2841,41.04,0.633,13.7,10.65,3.2,2,0.044\\r\\n8,C LM,LUKE G U,2841.5,33.99,0.567,3.2,3.9,3.8,2,0.029\\r\\n8,C LM,LUKE G U,2842,30.81,0.493,3,4.2,4.9,2,0.015\\r\\n2,A1 SH,CROSS H CATTLE,2573.5,118.439,0.674493717,6.3,9.95,3.631,1,1\\r\\n2,A1 SH,CROSS H CATTLE,2574,92.55,0.645225712,9.9,13.05,3.45,1,0.987\\r\\n2,A1 SH,CROSS H CATTLE,2574.5,102.168,0.630020851,12,14.5,3.364,1,0.974\\r\\n2,A1 SH,CROSS H CATTLE,2575,88.898,0.60031933,15.1,16.05,3.187,1,0.961\\r\\n2,A1 SH,CROSS H CATTLE,2575.5,85.493,0.57863921,13.6,15.9,3.099,1,0.947\\r\\n2,A1 SH,CROSS H CATTLE,2576,82.802,0.569958818,13,14.9,3.069,1,0.934\\r\\n2,A1 SH,CROSS H CATTLE,2576.5,84.257,0.576456532,12.7,14.35,3.077,1,0.921\\r\\n2,A1 SH,CROSS H CATTLE,2577,85.349,0.592731766,12.8,14.7,3.101,1,0.908\\r\\n2,A1 SH,CROSS H CATTLE,2577.5,84.317,0.610660163,13.5,15.15,3.078,1,0.895\\r\\n2,A1 SH,CROSS H CATTLE,2578,83.495,0.623766,13.4,15.1,3.062,1,0.882\\r\\n2,A1 SH,CROSS H CATTLE,2578.5,83.696,0.630427875,12.7,14.75,3.074,1,0.868\\r\\n2,A1 SH,CROSS H CATTLE,2579,82.766,0.631342286,12.6,14.4,3.114,1,0.855\\r\\n2,A1 SH,CROSS H CATTLE,2579.5,85.311,0.629817196,12.3,13.95,3.133,1,0.842\\r\\n2,A1 SH,CROSS H CATTLE,2580,87.297,0.627365857,12.1,13.65,3.136,1,0.829\\r\\n2,A1 SH,CROSS H CATTLE,2580.5,85.494,0.622317661,11.6,13.3,3.173,1,0.816\\r\\n2,A1 SH,CROSS H CATTLE,2581,82.907,0.613841822,11.3,13.05,3.179,1,0.803\\r\\n2,A1 SH,CROSS H CATTLE,2581.5,84.398,0.602819342,10.3,12.75,3.121,1,0.789\\r\\n2,A1 SH,CROSS H CATTLE,2582,81.723,0.592176757,9.2,12.6,3.077,1,0.776\\r\\n2,A1 SH,CROSS H CATTLE,2582.5,83.501,0.583538819,8,12.3,3.058,1,0.763\\r\\n2,A1 SH,CROSS H CATTLE,2583,88.667,0.575072326,7.6,12.3,3.067,1,0.75\\r\\n2,A1 SH,CROSS H CATTLE,2583.5,93.129,0.562887381,8,12.8,3.105,1,0.737\\r\\n2,A1 SH,CROSS H CATTLE,2584,90.255,0.542202782,8.8,13.4,3.127,1,0.724\\r\\n2,A1 SH,CROSS H CATTLE,2584.5,87.152,0.510276844,9.6,13.8,3.154,1,0.711\\r\\n1,A1 SH,CROSS H CATTLE,2585,76.105,0.469085299,9.5,13.55,3.211,1,0.697\\r\\n1,A1 SH,CROSS H CATTLE,2585.5,68.911,0.419460073,9,12.9,3.281,1,0.684\\r\\n1,A1 SH,CROSS H CATTLE,2586,60.968,0.366982976,9.1,12.25,3.251,1,0.671\\r\\n1,A1 SH,CROSS H CATTLE,2586.5,58.121,0.314709693,9.6,11.8,3.167,1,0.658\\r\\n1,A1 SH,CROSS H CATTLE,2587,58.57,0.260548373,9.2,12.3,3.159,1,0.645\\r\\n1,A1 SH,CROSS H CATTLE,2587.5,57.287,0.211921084,8.4,13,3.119,1,0.632\\r\\n1,A1 SH,CROSS H CATTLE,2588,60.771,0.172310969,7.5,14.25,3.022,1,0.618\\r\\n1,A1 SH,CROSS H CATTLE,2588.5,64.147,0.1430148,6.7,15.75,2.928,1,0.605\\r\\n1,A1 SH,CROSS H CATTLE,2589,61.211,0.123524981,5.5,16.95,2.892,1,0.592\\r\\n1,A1 SH,CROSS H CATTLE,2589.5,63.105,0.111262514,4.2,17.8,2.892,1,0.579\\r\\n1,A1 SH,CROSS H CATTLE,2590,54.482,0.099335278,3.6,17.2,2.895,1,0.553\\r\\n1,A1 SH,CROSS H CATTLE,2590.5,57.7,0.095866453,4.4,16.6,2.886,1,0.539\\r\\n1,A1 SH,CROSS H CATTLE,2591,62.74,0.091666958,5,16.7,2.881,1,0.526\\r\\n1,A1 SH,CROSS H CATTLE,2591.5,61.915,0.084218687,4.9,17.35,2.838,1,0.513\\r\\n1,A1 SH,CROSS H CATTLE,2592,60.425,0.071882007,4.4,18.6,2.754,1,0.5\\r\\n1,A1 SH,CROSS H CATTLE,2592.5,58.017,0.055760465,3.8,19.6,2.686,1,0.487\\r\\n1,A1 SH,CROSS H CATTLE,2593,55.815,0.03702788,4,20.1,2.617,1,0.474\\r\\n1,A1 SH,CROSS H CATTLE,2593.5,58.413,-0.004364805,2.3,20.25,2.574,1,0.434\\r\\n1,A1 SH,CROSS H CATTLE,2594,60.306,-0.011441043,2.2,19.9,2.571,1,0.421\\r\\n1,A1 SH,CROSS H CATTLE,2594.5,60.198,-0.015922966,2.3,19.95,2.556,1,0.408\\r\\n1,A1 SH,CROSS H CATTLE,2595,56.657,-0.019088062,2.8,20.1,2.552,1,0.395\\r\\n1,A1 SH,CROSS H CATTLE,2595.5,59.459,-0.022733788,2.9,20.25,2.514,1,0.382\\r\\n1,A1 SH,CROSS H CATTLE,2596,59.586,-0.025949097,3.1,20.45,2.508,1,0.368\\r\\n1,A1 SH,CROSS H CATTLE,2596.5,58.077,-0.025949097,3.3,20.65,2.516,1,0.355\\r\\n1,A1 SH,CROSS H CATTLE,2597,59.244,-0.019088062,3.4,20.5,2.581,1,0.342\\r\\n1,A1 SH,CROSS H CATTLE,2597.5,60.552,-0.002613616,3.3,20.45,2.589,1,0.329\\r\\n2,A1 SH,CROSS H CATTLE,2598,63.458,0.02201574,3.6,20.2,2.629,1,0.316\\r\\n2,A1 SH,CROSS H CATTLE,2598.5,66.977,0.055378331,4.2,20.1,2.694,1,0.303\\r\\n2,A1 SH,CROSS H CATTLE,2599,74.958,0.095518042,4.3,19.55,2.702,1,0.289\\r\\n2,A1 SH,CROSS H CATTLE,2599.5,80.42,0.13893394,3.8,18.3,2.694,1,0.276\\r\\n2,A1 SH,CROSS H CATTLE,2600,86.667,0.181843588,4.9,17.05,2.726,1,0.263\\r\\n1,A1 SH,CROSS H CATTLE,2600.5,92.343,0.222196046,6,16.7,2.769,1,0.25\\r\\n1,A1 SH,CROSS H CATTLE,2601,79.336,0.283074975,7.4,17.9,2.844,1,0.224\\r\\n1,A1 SH,CROSS H CATTLE,2601.5,70.243,0.292034436,7,17.2,2.892,1,0.211\\r\\n1,A1 SH,CROSS H CATTLE,2602,63.513,0.287353773,7.1,15.75,2.882,1,0.197\\r\\n1,A1 SH,CROSS H CATTLE,2602.5,65.541,0.273464273,6.3,15.35,2.892,1,0.184\\r\\n1,A1 SH,CROSS H CATTLE,2603,66.595,0.259593879,5.6,15.4,2.912,1,0.171\\r\\n1,A1 SH,CROSS H CATTLE,2603.5,71.108,0.249931757,5.2,15.9,2.835,1,0.158\\r\\n2,A1 SH,CROSS H CATTLE,2604,75.609,0.247482261,5.1,16.25,2.781,1,0.145\\r\\n2,A1 SH,CROSS H CATTLE,2604.5,81.872,0.255272505,5.1,16.15,2.777,1,0.132\\r\\n3,A1 SH,CROSS H CATTLE,2605,90.061,0.273464273,6.4,16.2,2.817,1,0.118\\r\\n2,A1 SH,CROSS H CATTLE,2605.5,95.985,0.300812794,6,18.3,2.74,1,0.105\\r\\n2,A1 SH,CROSS H CATTLE,2606,97.149,0.33405144,2.8,23.5,2.635,1,0.092\\r\\n2,A1 SH,CROSS H CATTLE,2606.5,95.986,0.370698093,5,25.9,2.662,1,0.079\\r\\n2,A1 SH,CROSS H CATTLE,2607,88.553,0.407560849,3.4,24.8,2.735,1,0.066\\r\\n2,A1 SH,CROSS H CATTLE,2607.5,86.023,0.471291711,7,15.6,2.956,1,0.039\\r\\n2,A1 SH,CROSS H CATTLE,2608,88.06,0.503245771,9.7,13.25,3.158,1,0.026\\r\\n8,A1 SH,CROSS H CATTLE,2608.5,85.898,0.540454614,5.1,16.05,3.099,1,0.013\\r\\n8,A1 LM,CROSS H CATTLE,2609,79.427,0.581038949,2.3,19.75,3.154,2,1\\r\\n8,A1 LM,CROSS H CATTLE,2609.5,64.6,0.620552445,2.9,20.95,3.277,2,0.977\\r\\n8,A1 LM,CROSS H CATTLE,2610,58.806,0.655138435,1,18.8,3.564,2,0.955\\r\\n8,A1 LM,CROSS H CATTLE,2610.5,49.85,0.688330818,0.8,13.3,3.996,2,0.932\\r\\n8,A1 LM,CROSS H CATTLE,2611,49.848,0.719911064,1.6,10.2,4.547,2,0.909\\r\\n8,A1 LM,CROSS H CATTLE,2611.5,60.414,0.751894688,2.9,8.75,4.857,2,0.886\\r\\n8,A1 LM,CROSS H CATTLE,2612,73.647,0.787956123,2.4,9.1,4.925,2,0.864\\r\\n4,A1 LM,CROSS H CATTLE,2612.5,87.878,0.824646415,2.3,9.25,4.86,2,0.841\\r\\n4,A1 LM,CROSS H CATTLE,2613,92.819,0.855761372,3.5,8.75,4.534,2,0.818\\r\\n4,A1 LM,CROSS H CATTLE,2613.5,94.398,0.87875152,5.1,8.65,4.305,2,0.795\\r\\n4,A1 LM,CROSS H CATTLE,2614,95.024,0.891983231,8.7,8.85,4.131,2,0.773\\r\\n4,A1 LM,CROSS H CATTLE,2614.5,86.084,0.892428547,11.6,8.8,3.967,2,0.75\\r\\n4,A1 LM,CROSS H CATTLE,2615,89.32,0.885021795,11.8,8.7,3.839,2,0.727\\r\\n6,A1 LM,CROSS H CATTLE,2615.5,95.088,0.877025616,10.7,8.85,3.898,2,0.705\\r\\n6,A1 LM,CROSS H CATTLE,2616,102.887,0.875813389,10.5,8.75,3.973,2,0.682\\r\\n4,A1 LM,CROSS H CATTLE,2616.5,96.204,0.884398826,8,10,3.683,2,0.659\\r\\n6,A1 LM,CROSS H CATTLE,2617,84.082,0.904553263,-0.4,13.8,3.45,2,0.636\\r\\n6,A1 LM,CROSS H CATTLE,2617.5,72.325,0.924434364,-0.9,14.85,3.427,2,0.614\\r\\n8,A1 LM,CROSS H CATTLE,2618,53.939,0.940516485,-3,13.9,3.358,2,0.591\\r\\n8,A1 LM,CROSS H CATTLE,2618.5,44.042,0.960851154,-4.4,10.6,3.343,2,0.568\\r\\n8,A1 LM,CROSS H CATTLE,2619,47.244,0.99237676,-2.7,7.55,3.528,2,0.545\\r\\n6,A1 LM,CROSS H CATTLE,2619.5,54.919,1.033463966,-1.1,6.75,3.841,2,0.523\\r\\n6,A1 LM,CROSS H CATTLE,2620,66.397,1.081995025,-0.6,6.5,3.985,2,0.5\\r\\n6,A1 LM,CROSS H CATTLE,2620.5,77.704,1.120705516,-0.3,6.55,4.171,2,0.477\\r\\n6,A1 LM,CROSS H CATTLE,2621,84.144,1.14245204,0.8,6.3,4.313,2,0.455\\r\\n6,A1 LM,CROSS H CATTLE,2621.5,82.835,1.147026715,2.1,6.05,4.365,2,0.432\\r\\n5,A1 LM,CROSS H CATTLE,2622,77.283,1.141575183,3.3,6.25,4.362,2,0.409\\r\\n5,A1 LM,CROSS H CATTLE,2622.5,74.363,1.132483825,5.5,6.65,4.305,2,0.386\\r\\n5,A1 LM,CROSS H CATTLE,2623,75.024,1.126423654,7.8,7.1,4.188,2,0.364\\r\\n5,A1 LM,CROSS H CATTLE,2623.5,77.016,1.12083706,8.3,7.25,4.147,2,0.341\\r\\n5,A1 LM,CROSS H CATTLE,2624,79.224,1.111967837,6.7,6.65,4.128,2,0.318\\r\\n6,A1 LM,CROSS H CATTLE,2624.5,77.067,1.09961159,4.6,6.2,4.203,2,0.295\\r\\n8,A1 LM,CROSS H CATTLE,2625,71.623,1.086644521,3.3,5.95,4.296,2,0.273\\r\\n8,A1 LM,CROSS H CATTLE,2625.5,63.68,1.07773118,2.2,6.3,4.436,2,0.25\\r\\n8,A1 LM,CROSS H CATTLE,2626,66.183,1.073498399,1.9,6.85,4.525,2,0.227\\r\\n8,A1 LM,CROSS H CATTLE,2626.5,68.669,1.074560468,1.7,7.05,4.633,2,0.205\\r\\n6,A1 LM,CROSS H CATTLE,2627,76.803,1.08546897,1.9,6.65,4.612,2,0.182\\r\\n6,A1 LM,CROSS H CATTLE,2627.5,81.088,1.107345665,1.9,6.25,4.6,2,0.159\\r\\n5,A1 LM,CROSS H CATTLE,2628,85.869,1.13219563,2.3,5.75,4.549,2,0.136\\r\\n6,A1 LM,CROSS H CATTLE,2628.5,81.391,1.146314122,3.6,5.3,4.442,2,0.114\\r\\n6,A1 LM,CROSS H CATTLE,2629,75.871,1.115244285,4.2,5.3,4.256,2,0.091\\r\\n6,A1 LM,CROSS H CATTLE,2629.5,69.179,1.02341709,3.4,6,4.001,2,0.068\\r\\n6,A1 LM,CROSS H CATTLE,2630,73.616,0.888740961,2.9,7.05,3.812,2,0.045\\r\\n6,A1 LM,CROSS H CATTLE,2630.5,73.916,0.770189023,2.4,8.9,3.542,2,0.023\\r\\n3,B1 SH,CROSS H CATTLE,2631,87.408,0.678700435,-1.8,14.4,3.101,1,1\\r\\n3,B1 SH,CROSS H CATTLE,2632.5,122.568,0.578753784,-16.4,71.7,0.99,1,0.955\\r\\n2,B1 SH,CROSS H CATTLE,2633,120.345,0.568319085,2,84.4,0.833,1,0.939\\r\\n2,B1 SH,CROSS H CATTLE,2633.5,109.836,0.56205483,1.5,81.65,0.852,1,0.924\\r\\n2,B1 SH,CROSS H CATTLE,2634,94.623,0.566437492,-10.3,65.85,1.234,1,0.909\\r\\n2,B1 SH,CROSS H CATTLE,2634.5,85.419,0.593396842,-14.5,50.85,1.787,1,0.894\\r\\n2,B1 SH,CROSS H CATTLE,2635,79.451,0.649042634,-13.6,39.4,2.36,1,0.879\\r\\n2,B1 SH,CROSS H CATTLE,2635.5,73.811,0.728678367,-11,31.6,2.806,1,0.864\\r\\n2,B1 SH,CROSS H CATTLE,2636,69.518,0.812646016,-5.5,23.85,3.236,1,0.848\\r\\n2,B1 SH,CROSS H CATTLE,2636.5,62.166,0.879497287,-1.7,17.85,3.542,1,0.833\\r\\n2,B1 SH,CROSS H CATTLE,2637,59.183,0.90982337,2.2,13.5,3.762,1,0.818\\r\\n2,B1 SH,CROSS H CATTLE,2637.5,61.178,0.899163641,3.9,10.35,3.803,1,0.803\\r\\n2,B1 SH,CROSS H CATTLE,2638,63.124,0.870637963,6.5,8.15,3.8,1,0.788\\r\\n2,B1 SH,CROSS H CATTLE,2638.5,68.801,0.837272703,9.7,7.45,3.776,1,0.773\\r\\n2,B1 SH,CROSS H CATTLE,2639,74.956,0.806451323,8.2,11,3.689,1,0.758\\r\\n2,B1 SH,CROSS H CATTLE,2639.5,73.741,0.779307828,11,13,3.693,1,0.742\\r\\n2,B1 SH,CROSS H CATTLE,2640,70.887,0.757851344,7.2,15.9,3.59,1,0.727\\r\\n2,B1 SH,CROSS H CATTLE,2640.5,66.106,0.738859802,6.9,16.25,3.598,1,0.712\\r\\n2,B1 SH,CROSS H CATTLE,2641,61.301,0.720655357,6.1,15.55,3.544,1,0.697\\r\\n2,B1 SH,CROSS H CATTLE,2641.5,62.447,0.70612011,7.1,12.65,3.731,1,0.682\\r\\n2,B1 SH,CROSS H CATTLE,2642,66.43,0.697490887,9,10.4,3.811,1,0.667\\r\\n2,B1 SH,CROSS H CATTLE,2642.5,66.115,0.696618459,3.6,14,3.675,1,0.652\\r\\n2,B1 SH,CROSS H CATTLE,2643,69.423,0.698883137,0.5,17.65,3.533,1,0.636\\r\\n2,B1 SH,CROSS H CATTLE,2643.5,69.913,0.697316542,0.2,17.8,3.564,1,0.621\\r\\n2,B1 SH,CROSS H CATTLE,2644,69.283,0.692318044,1.3,15.35,3.592,1,0.606\\r\\n3,B1 SH,CROSS H CATTLE,2644.5,66.611,0.683317262,6,11.7,3.575,1,0.591\\r\\n3,B1 SH,CROSS H CATTLE,2645,65.698,0.671265433,7.5,10.45,3.552,1,0.576\\r\\n1,B1 SH,CROSS H CATTLE,2645.5,60.898,0.651181062,6.7,9.05,3.482,1,0.561\\r\\n1,B1 SH,CROSS H CATTLE,2646,54.422,0.623869268,4.1,8.15,3.375,1,0.545\\r\\n1,B1 SH,CROSS H CATTLE,2646.5,52.522,0.589502796,2.1,8.05,3.292,1,0.53\\r\\n1,B1 SH,CROSS H CATTLE,2647,47.697,0.546048866,0.7,8.75,3.231,1,0.515\\r\\n1,B1 SH,CROSS H CATTLE,2647.5,49.447,0.497067936,1.1,9.05,3.301,1,0.5\\r\\n1,B1 SH,CROSS H CATTLE,2648,51.292,0.441066407,2.5,8.85,3.356,1,0.485\\r\\n1,B1 SH,CROSS H CATTLE,2648.5,50.455,0.386498966,3.5,9.15,3.364,1,0.47\\r\\n1,B1 SH,CROSS H CATTLE,2649,49.664,0.334654767,4.4,10.4,3.311,1,0.455\\r\\n1,B1 SH,CROSS H CATTLE,2649.5,51.814,0.285782274,5.1,12.05,3.228,1,0.439\\r\\n1,B1 SH,CROSS H CATTLE,2650,50.33,0.237543738,5.1,13.65,3.093,1,0.424\\r\\n1,B1 SH,CROSS H CATTLE,2650.5,55.273,0.194514342,5,15,2.925,1,0.409\\r\\n1,B1 SH,CROSS H CATTLE,2651,57.158,0.15715444,4.5,16.15,2.785,1,0.394\\r\\n1,B1 SH,CROSS H CATTLE,2651.5,58.471,0.123524981,4.9,17.15,2.723,1,0.379\\r\\n1,B1 SH,CROSS H CATTLE,2652,60.956,0.09482038,4.8,17.7,2.697,1,0.364\\r\\n1,B1 SH,CROSS H CATTLE,2652.5,61.142,0.070776463,4.2,18.3,2.653,1,0.348\\r\\n1,B1 SH,CROSS H CATTLE,2653,65.743,0.050766311,3.2,19,2.651,1,0.333\\r\\n1,B1 SH,CROSS H CATTLE,2653.5,62.268,0.034227261,3.3,19.15,2.657,1,0.318\\r\\n1,B1 SH,CROSS H CATTLE,2654,60.073,0.021189299,2.9,19.45,2.67,1,0.303\\r\\n1,B1 SH,CROSS H CATTLE,2654.5,58.534,0.011147361,2.8,19.8,2.648,1,0.288\\r\\n1,B1 SH,CROSS H CATTLE,2655,55.719,0.004321374,2.9,19.85,2.676,1,0.273\\r\\n1,B1 SH,CROSS H CATTLE,2655.5,53.799,0.002166062,2.8,20,2.674,1,0.258\\r\\n1,B1 SH,CROSS H CATTLE,2656,57.85,0.005180513,2.8,19.9,2.681,1,0.242\\r\\n1,B1 SH,CROSS H CATTLE,2656.5,59.106,0.01494035,3,19.6,2.74,1,0.227\\r\\n1,B1 SH,CROSS H CATTLE,2657,61.935,0.034227261,2.7,19.35,2.762,1,0.212\\r\\n1,B1 SH,CROSS H CATTLE,2657.5,69.304,0.061452479,3,19.3,2.776,1,0.197\\r\\n1,B1 SH,CROSS H CATTLE,2658,79.289,0.098297536,3.1,18.85,2.777,1,0.182\\r\\n1,B1 SH,CROSS H CATTLE,2658.5,88.876,0.145817714,4.6,18.9,2.773,1,0.167\\r\\n1,B1 SH,CROSS H CATTLE,2659,92.783,0.197831693,4.6,21.3,2.59,1,0.152\\r\\n2,B1 SH,CROSS H CATTLE,2659.5,95.363,0.255031163,-6.2,30.7,2.293,1,0.136\\r\\n4,B1 SH,CROSS H CATTLE,2660,94.469,0.308350949,-8,33.6,2.28,1,0.121\\r\\n2,B1 SH,CROSS H CATTLE,2660.5,87.7,0.351022853,-13.3,30.25,2.339,1,0.106\\r\\n2,B1 SH,CROSS H CATTLE,2661,88.51,0.380573003,-16.9,25.75,2.43,1,0.091\\r\\n2,B1 SH,CROSS H CATTLE,2661.5,97.562,0.404833717,-5.6,18.5,2.664,1,0.076\\r\\n2,B1 SH,CROSS H CATTLE,2662,97.562,0.404833717,-5.6,18.5,2.664,1,0.076\\r\\n2,B1 SH,CROSS H CATTLE,2662.5,106.601,0.424064525,4.7,14.25,3.032,1,0.061\\r\\n2,B1 SH,CROSS H CATTLE,2663,110.258,0.44684771,8.6,14.4,3.098,1,0.045\\r\\n3,B1 SH,CROSS H CATTLE,2663.5,112.1,0.473048805,12.1,15.75,3.151,1,0.03\\r\\n4,B1 SH,CROSS H CATTLE,2664,104.128,0.501333179,12.5,17.35,3.15,1,0.015\\r\\n5,B1 LM,CROSS H CATTLE,2664.5,84.133,0.529173603,11.7,16.45,3.231,2,1\\r\\n6,B1 LM,CROSS H CATTLE,2665,68.131,0.564547712,7.5,13.35,3.302,2,0.9\\r\\n6,B1 LM,CROSS H CATTLE,2665.5,57.115,0.607133204,4.1,9.75,3.384,2,0.8\\r\\n6,B1 LM,CROSS H CATTLE,2666,46.425,0.671635597,0.6,8.1,3.406,2,0.7\\r\\n6,B1 LM,CROSS H CATTLE,2666.5,47.71,0.760271661,-0.6,7.3,3.459,2,0.6\\r\\n6,B1 LM,CROSS H CATTLE,2667,50.855,0.838219222,-1,7,3.494,2,0.5\\r\\n6,B1 LM,CROSS H CATTLE,2667.5,55.715,0.912434633,-0.9,6.85,3.587,2,0.4\\r\\n8,B1 LM,CROSS H CATTLE,2668,65.186,0.927626962,-0.5,6.55,3.745,2,0.3\\r\\n8,B1 LM,CROSS H CATTLE,2668.5,79.03,0.906227263,0.3,5.75,3.903,2,0.2\\r\\n8,B1 LM,CROSS H CATTLE,2669,90.953,0.879497287,1.5,5.75,3.908,2,0.1\\r\\n8,B1 LM,CROSS H CATTLE,2669.5,95.638,0.85691006,-6.1,11.95,3.23,1,1\\r\\n1,B2 SH,CROSS H CATTLE,2671,74.534,0.793301354,-19.5,36.35,2.242,1,0.944\\r\\n1,B2 SH,CROSS H CATTLE,2672,61.681,0.69609416,-14.7,20.55,2.479,1,0.907\\r\\n1,B2 SH,CROSS H CATTLE,2672.5,56.95,0.662946614,-1.4,12.2,2.981,1,0.889\\r\\n1,B2 SH,CROSS H CATTLE,2673,58.099,0.652826303,4.9,9.55,3.099,1,0.87\\r\\n1,B2 SH,CROSS H CATTLE,2673.5,60.606,0.653501947,5.5,10.35,3.038,1,0.852\\r\\n1,B2 SH,CROSS H CATTLE,2674,63.963,0.65571455,6,11.5,3.029,1,0.833\\r\\n1,B2 SH,CROSS H CATTLE,2674.5,67.625,0.656002321,7.3,11.95,3.079,1,0.815\\r\\n1,B2 SH,CROSS H CATTLE,2675,73.272,0.656385719,8.7,11.45,3.138,1,0.796\\r\\n2,B2 SH,CROSS H CATTLE,2675.5,76.418,0.661718058,9.4,10.6,3.296,1,0.778\\r\\n2,B2 SH,CROSS H CATTLE,2676,73.595,0.677150521,10.7,9.75,3.46,1,0.759\\r\\n2,B2 SH,CROSS H CATTLE,2676.5,71.789,0.70457945,11.9,9.15,3.626,1,0.741\\r\\n2,B2 SH,CROSS H CATTLE,2677,66.261,0.736316808,11.5,8.95,3.726,1,0.722\\r\\n2,B2 SH,CROSS H CATTLE,2677.5,66.621,0.76604086,9.5,8.45,3.83,1,0.704\\r\\n2,B2 SH,CROSS H CATTLE,2678,60.802,0.790636962,8.2,7.7,3.856,1,0.685\\r\\n2,B2 SH,CROSS H CATTLE,2678.5,58.173,0.807737922,7.7,7.55,3.853,1,0.667\\r\\n2,B2 SH,CROSS H CATTLE,2679,60.075,0.819938569,8.4,7.8,3.875,1,0.648\\r\\n2,B2 SH,CROSS H CATTLE,2679.5,64.145,0.831421817,7.6,9.4,3.692,1,0.63\\r\\n2,B2 SH,CROSS H CATTLE,2680,66.009,0.840858554,4.9,12.15,3.626,1,0.611\\r\\n2,B2 SH,CROSS H CATTLE,2680.5,64.883,0.846460825,5.8,12.1,3.605,1,0.593\\r\\n2,B2 SH,CROSS H CATTLE,2681,63.606,0.845160078,4.5,11.45,3.543,1,0.574\\r\\n2,B2 SH,CROSS H CATTLE,2681.5,61.526,0.834102656,6.9,8.35,3.551,1,0.556\\r\\n1,B2 SH,CROSS H CATTLE,2682,61.163,0.819083076,6.2,7,3.511,1,0.537\\r\\n1,B2 SH,CROSS H CATTLE,2682.5,57.268,0.802294711,5.5,6.25,3.498,1,0.519\\r\\n1,B2 SH,CROSS H CATTLE,2683,61.245,0.782185866,4.2,6.7,3.473,1,0.5\\r\\n1,B2 SH,CROSS H CATTLE,2683.5,60.758,0.757775491,4.2,7,3.479,1,0.481\\r\\n1,B2 SH,CROSS H CATTLE,2684,58.844,0.722880611,5,7.1,3.528,1,0.463\\r\\n1,B2 SH,CROSS H CATTLE,2684.5,62.816,0.686546899,6.2,7.1,3.561,1,0.444\\r\\n1,B2 SH,CROSS H CATTLE,2685,68.881,0.651471852,7.2,7.6,3.626,1,0.426\\r\\n1,B2 SH,CROSS H CATTLE,2685.5,75.51,0.625826713,9,8.7,3.652,1,0.407\\r\\n2,B2 SH,CROSS H CATTLE,2686,83.396,0.607025878,9.8,10.9,3.594,1,0.389\\r\\n2,B2 SH,CROSS H CATTLE,2686.5,80.594,0.592953572,2.5,17.95,3.367,1,0.37\\r\\n2,B2 SH,CROSS H CATTLE,2687,81.894,0.583198774,2.1,20.25,3.34,1,0.352\\r\\n2,B2 SH,CROSS H CATTLE,2687.5,78.444,0.57818061,0.3,20.85,3.315,1,0.333\\r\\n2,B2 SH,CROSS H CATTLE,2688,64.898,0.577146985,0.2,19.9,3.404,1,0.315\\r\\n5,B2 SH,CROSS H CATTLE,2688.5,59.734,0.578868329,6.5,16.15,3.524,1,0.296\\r\\n5,B2 SH,CROSS H CATTLE,2689,52.386,0.581494542,9.9,13.85,3.578,1,0.278\\r\\n5,B2 SH,CROSS H CATTLE,2689.5,50.751,0.585573519,11.4,11.7,3.553,1,0.259\\r\\n5,B2 SH,CROSS H CATTLE,2690,50.034,0.593175263,10.8,10.5,3.491,1,0.241\\r\\n1,B2 SH,CROSS H CATTLE,2690.5,56.46,0.60498163,11.2,9.6,3.425,1,0.222\\r\\n1,B2 SH,CROSS H CATTLE,2691,63.25,0.620448385,10.2,10.5,3.326,1,0.204\\r\\n1,B2 SH,CROSS H CATTLE,2691.5,69.671,0.63748973,11.4,11,3.358,1,0.185\\r\\n2,B2 SH,CROSS H CATTLE,2692,76.313,0.653887558,7.9,13.35,3.218,1,0.167\\r\\n1,B2 SH,CROSS H CATTLE,2692.5,79.579,0.670338641,3.7,16.55,3.144,1,0.148\\r\\n1,B2 SH,CROSS H CATTLE,2693,81.01,0.688686724,4,17,3.17,1,0.13\\r\\n1,B2 SH,CROSS H CATTLE,2693.5,80.243,0.708250889,3.1,15.85,3.208,1,0.111\\r\\n1,B2 SH,CROSS H CATTLE,2694,79.301,0.726564216,5.1,13.05,3.25,1,0.093\\r\\n1,B2 SH,CROSS H CATTLE,2694.5,82.884,0.74225367,5.9,11.65,3.288,1,0.074\\r\\n4,B2 SH,CROSS H CATTLE,2695,90.179,0.74733411,7,10.9,3.414,1,0.056\\r\\n4,B2 SH,CROSS H CATTLE,2695.5,94.523,0.737987326,7.3,11.15,3.399,1,0.037\\r\\n3,B3 SH,CROSS H CATTLE,2696,101.324,0.715585552,6,12.4,3.374,1,0.019\\r\\n3,B3 SH,CROSS H CATTLE,2696.5,103.582,0.682866796,6.6,12.4,3.4,2,1\\r\\n3,B3 SH,CROSS H CATTLE,2696.5,103.582,0.682866796,6.6,12.4,3.4,1,1\\r\\n3,B3 SH,CROSS H CATTLE,2697,104.803,0.653405491,8.5,11.55,3.496,1,0.98\\r\\n2,B3 SH,CROSS H CATTLE,2697.5,104.224,0.631849462,7.2,13.1,3.429,1,0.96\\r\\n2,B3 SH,CROSS H CATTLE,2698,101.678,0.617943435,-2.9,20.35,3.13,1,0.94\\r\\n2,B3 SH,CROSS H CATTLE,2698.5,97.407,0.609167374,-6.8,24.7,3.058,1,0.92\\r\\n2,B3 SH,CROSS H CATTLE,2699,92.733,0.60162548,-7.4,26.3,3.031,1,0.9\\r\\n2,B3 SH,CROSS H CATTLE,2699.5,83.768,0.595826777,-7.3,24.75,3.03,1,0.88\\r\\n1,B3 SH,CROSS H CATTLE,2700,77.536,0.594723946,-3.6,20,3.097,1,0.86\\r\\n1,B3 SH,CROSS H CATTLE,2700.5,69.255,0.600864036,3.5,13.55,3.285,1,0.84\\r\\n1,B3 SH,CROSS H CATTLE,2701,67.651,0.613947477,5.3,9.75,3.305,1,0.82\\r\\n1,B3 SH,CROSS H CATTLE,2701.5,61.798,0.630529571,3.3,8.75,3.25,1,0.8\\r\\n1,B3 SH,CROSS H CATTLE,2702,65.298,0.644832329,3.6,7.4,3.243,1,0.78\\r\\n1,B3 SH,CROSS H CATTLE,2702.5,70.602,0.652149605,1.8,8.2,3.186,1,0.76\\r\\n1,B3 SH,CROSS H CATTLE,2703,74.65,0.651181062,0.9,8.75,3.183,1,0.74\\r\\n1,B3 SH,CROSS H CATTLE,2703.5,82.586,0.643748685,1.9,8.75,3.223,1,0.72\\r\\n1,B3 SH,CROSS H CATTLE,2704,85.453,0.631849462,4.4,9,3.328,1,0.7\\r\\n2,B3 SH,CROSS H CATTLE,2704.5,87.75,0.617210095,3.4,11.9,3.273,1,0.68\\r\\n2,B3 SH,CROSS H CATTLE,2705,80.848,0.600864036,2.7,14.35,3.226,1,0.66\\r\\n1,B3 SH,CROSS H CATTLE,2705.5,74.017,0.582063363,2.9,14.45,3.227,1,0.64\\r\\n1,B3 SH,CROSS H CATTLE,2706,66.265,0.564429327,2.1,13.05,3.214,1,0.62\\r\\n1,B3 SH,CROSS H CATTLE,2706.5,61.466,0.549003262,1.8,11.6,3.159,1,0.6\\r\\n1,B3 SH,CROSS H CATTLE,2707,59.274,0.536937023,0.8,11.8,3.151,1,0.58\\r\\n1,B3 SH,CROSS H CATTLE,2707.5,64.14,0.526855987,1.8,11.6,3.166,1,0.56\\r\\n1,B3 SH,CROSS H CATTLE,2708,68.186,0.519040039,2,11.8,3.162,1,0.54\\r\\n1,B3 SH,CROSS H CATTLE,2708.5,67.541,0.513883186,3,11.4,3.131,1,0.52\\r\\n2,B3 SH,CROSS H CATTLE,2709,75.398,0.512684396,3.1,11.35,3.138,1,0.5\\r\\n2,B3 SH,CROSS H CATTLE,2709.5,78.406,0.514149134,4.1,11.15,3.157,1,0.48\\r\\n2,B3 SH,CROSS H CATTLE,2710,77.553,0.515211304,5.6,10.8,3.179,1,0.46\\r\\n2,B3 SH,CROSS H CATTLE,2710.5,80.089,0.513883186,6.1,11.45,3.146,1,0.44\\r\\n2,B3 SH,CROSS H CATTLE,2711,79.586,0.508664363,6.1,12.85,3.113,1,0.42\\r\\n2,B3 SH,CROSS H CATTLE,2711.5,77.446,0.498586209,7,13.6,3.118,1,0.4\\r\\n1,B3 SH,CROSS H CATTLE,2712,73.11,0.48301642,6.1,13.55,3.057,1,0.38\\r\\n1,B3 SH,CROSS H CATTLE,2712.5,70.966,0.461648568,5.5,12.65,3.025,1,0.36\\r\\n1,B3 SH,CROSS H CATTLE,2713,72.519,0.436480695,4.4,12.4,3.007,1,0.34\\r\\n1,B3 SH,CROSS H CATTLE,2713.5,74.218,0.407730728,4.2,12.2,3.028,1,0.32\\r\\n1,B3 SH,CROSS H CATTLE,2714,74.141,0.380753771,4.3,12.65,3.047,1,0.3\\r\\n1,B3 SH,CROSS H CATTLE,2714.5,73.672,0.356599436,4.2,13.2,3.054,1,0.28\\r\\n1,B3 SH,CROSS H CATTLE,2715,71.336,0.338057875,4.4,13.7,3.089,1,0.26\\r\\n1,B3 SH,CROSS H CATTLE,2715.5,74.053,0.326540669,4.2,14,3.112,1,0.24\\r\\n1,B3 SH,CROSS H CATTLE,2716,77.997,0.323045735,3.9,14.35,3.086,1,0.22\\r\\n1,B3 SH,CROSS H CATTLE,2716.5,78.993,0.326949994,4.3,14.35,3.084,1,0.2\\r\\n1,B3 SH,CROSS H CATTLE,2717,82.324,0.33725954,4.3,14.65,3.049,1,0.18\\r\\n1,B3 SH,CROSS H CATTLE,2717.5,86.724,0.353531559,4.4,14.5,3.011,1,0.16\\r\\n2,B3 SH,CROSS H CATTLE,2718,91.378,0.372727941,3.9,15.65,2.956,1,0.14\\r\\n2,B3 SH,CROSS H CATTLE,2718.5,93.209,0.395675785,-7.1,22.85,2.692,1,0.12\\r\\n2,B3 SH,CROSS H CATTLE,2719,99.065,0.419790586,-8.9,27.15,2.627,1,0.1\\r\\n3,B3 SH,CROSS H CATTLE,2719.5,100.457,0.444513206,-6.4,29,2.722,1,0.08\\r\\n3,B3 SH,CROSS H CATTLE,2720,93.08,0.46612587,-6.3,29.65,2.857,1,0.06\\r\\n2,B4 SH,CROSS H CATTLE,2720.5,84.469,0.481299273,-2.8,26.3,3.057,1,0.04\\r\\n2,B4 SH,CROSS H CATTLE,2721,78.955,0.484726804,5.8,21,3.365,1,0.02\\r\\n2,B4 SH,CROSS H CATTLE,2721.5,74.66,0.474653253,9,17.7,3.515,1,1\\r\\n2,B4 SH,CROSS H CATTLE,2721.5,74.66,0.474653253,9,17.7,3.515,2,1\\r\\n2,B4 SH,CROSS H CATTLE,2722,72.493,0.45331834,11.2,14.1,3.513,1,0.982\\r\\n2,B4 SH,CROSS H CATTLE,2722.5,71.798,0.421768401,9.8,13.1,3.388,1,0.964\\r\\n2,B4 SH,CROSS H CATTLE,2723,68.403,0.386677284,7.5,12.85,3.256,1,0.946\\r\\n2,B4 SH,CROSS H CATTLE,2723.5,65.671,0.350441857,7,12.5,3.145,1,0.929\\r\\n1,B4 SH,CROSS H CATTLE,2724,61.233,0.317645543,7,12.4,3.013,1,0.911\\r\\n1,B4 SH,CROSS H CATTLE,2724.5,56.061,0.286680969,4.9,14.35,2.841,1,0.893\\r\\n1,B4 SH,CROSS H CATTLE,2725,55.568,0.260071388,4.7,16.15,2.776,1,0.875\\r\\n1,B4 SH,CROSS H CATTLE,2725.5,51.105,0.236789099,4.3,17.75,2.718,1,0.857\\r\\n1,B4 SH,CROSS H CATTLE,2726,48.131,0.219584526,2.9,17.65,2.705,1,0.839\\r\\n1,B4 SH,CROSS H CATTLE,2726.5,52.326,0.206556044,1.1,16.95,2.708,1,0.821\\r\\n1,B4 SH,CROSS H CATTLE,2727,53.823,0.197556213,0.6,16.2,2.762,1,0.804\\r\\n1,B4 SH,CROSS H CATTLE,2727.5,56.018,0.191171456,1.1,15.75,2.831,1,0.786\\r\\n1,B4 SH,CROSS H CATTLE,2728,56.541,0.183554534,1,15.6,2.885,1,0.768\\r\\n1,B4 SH,CROSS H CATTLE,2728.5,54.188,0.173186268,1.1,15.75,2.953,1,0.75\\r\\n1,B4 SH,CROSS H CATTLE,2729,54.345,0.160168293,1.4,16.2,2.975,1,0.732\\r\\n1,B4 SH,CROSS H CATTLE,2729.5,54.682,0.145507171,2.1,16.85,2.965,1,0.714\\r\\n1,B4 SH,CROSS H CATTLE,2730,58.663,0.13225969,2.6,17.6,2.954,1,0.696\\r\\n1,B4 SH,CROSS H CATTLE,2730.5,64.45,0.12515583,3.7,18.15,2.967,1,0.679\\r\\n1,B4 SH,CROSS H CATTLE,2731,63.074,0.12515583,4.5,18.25,2.916,1,0.661\\r\\n1,B4 SH,CROSS H CATTLE,2731.5,62.461,0.136403448,4.4,18.2,2.883,1,0.643\\r\\n1,B4 SH,CROSS H CATTLE,2732,61.969,0.157456768,4.2,17.8,2.863,1,0.625\\r\\n1,B4 SH,CROSS H CATTLE,2732.5,62.436,0.18582536,3.7,17.25,2.887,1,0.607\\r\\n1,B4 SH,CROSS H CATTLE,2733,74.047,0.218797998,3.9,16.55,2.893,1,0.589\\r\\n1,B4 SH,CROSS H CATTLE,2733.5,84.98,0.2509077,4.7,15.75,2.885,1,0.571\\r\\n2,B4 SH,CROSS H CATTLE,2734,95.575,0.278524965,5.5,15.35,2.879,1,0.554\\r\\n2,B4 SH,CROSS H CATTLE,2734.5,96.582,0.294245716,6.5,15.05,2.872,1,0.536\\r\\n1,B4 SH,CROSS H CATTLE,2735,89.201,0.29578694,6.9,15.35,2.841,1,0.518\\r\\n1,B4 SH,CROSS H CATTLE,2735.5,77.631,0.284656283,6.3,15.15,2.845,1,0.5\\r\\n1,B4 SH,CROSS H CATTLE,2736,67.782,0.267640982,4.6,15,2.837,1,0.482\\r\\n1,B4 SH,CROSS H CATTLE,2736.5,60.967,0.251881455,3.6,15.2,2.82,1,0.464\\r\\n1,B4 SH,CROSS H CATTLE,2737,58.641,0.239299479,3.7,15.85,2.814,1,0.446\\r\\n1,B4 SH,CROSS H CATTLE,2737.5,56.283,0.229681842,3.2,16.6,2.835,1,0.429\\r\\n1,B4 SH,CROSS H CATTLE,2738,52.97,0.220631019,2.5,16.65,2.868,1,0.411\\r\\n1,B4 SH,CROSS H CATTLE,2738.5,53.057,0.212187604,2.2,15.4,2.933,1,0.393\\r\\n1,B4 SH,CROSS H CATTLE,2739,52.373,0.20709554,2.2,14,2.968,1,0.375\\r\\n1,B4 SH,CROSS H CATTLE,2739.5,53.622,0.206825876,3.2,13.2,3.018,1,0.357\\r\\n1,B4 SH,CROSS H CATTLE,2740,56.168,0.209783015,5,13.1,3.02,1,0.339\\r\\n1,B4 SH,CROSS H CATTLE,2740.5,58.593,0.210586025,5.6,14.2,2.992,1,0.321\\r\\n1,B4 SH,CROSS H CATTLE,2741,59.201,0.206556044,6,15.8,2.927,1,0.304\\r\\n1,B4 SH,CROSS H CATTLE,2741.5,63.468,0.194514342,5.8,17.2,2.877,1,0.286\\r\\n1,B4 SH,CROSS H CATTLE,2742,64.174,0.17868924,5.8,18,2.869,1,0.268\\r\\n1,B4 SH,CROSS H CATTLE,2742.5,65.156,0.165244326,5.8,18.1,2.889,1,0.25\\r\\n1,B4 SH,CROSS H CATTLE,2743,68.686,0.15715444,5.7,17.75,2.919,1,0.232\\r\\n1,B4 SH,CROSS H CATTLE,2743.5,69.944,0.159867847,5.7,17.05,2.919,1,0.214\\r\\n1,B4 SH,CROSS H CATTLE,2744,69.911,0.171433901,5.2,16.3,2.908,1,0.196\\r\\n1,B4 SH,CROSS H CATTLE,2744.5,75.088,0.191730393,4.8,16.4,2.876,1,0.179\\r\\n1,B4 SH,CROSS H CATTLE,2745,79.094,0.220369632,4.9,16.25,2.888,1,0.161\\r\\n1,B4 SH,CROSS H CATTLE,2745.5,76.407,0.250420002,4.9,15.75,2.879,1,0.143\\r\\n1,B4 SH,CROSS H CATTLE,2746,76.877,0.282848603,4.9,15.25,2.873,1,0.125\\r\\n1,B4 SH,CROSS H CATTLE,2746.5,79.285,0.313234292,5.1,14.75,2.849,1,0.107\\r\\n1,B4 SH,CROSS H CATTLE,2747,84.41,0.345177617,5.7,15.15,2.854,1,0.089\\r\\n2,B4 SH,CROSS H CATTLE,2747.5,90.404,0.378579576,-3.7,21.05,2.581,1,0.071\\r\\n2,B4 SH,CROSS H CATTLE,2748,94.686,0.410608543,-12.8,28,2.442,1,0.054\\r\\n2,B4 SH,CROSS H CATTLE,2748.5,94.686,0.410608543,-12.8,28,2.442,1,0.054\\r\\n3,B4 SH,CROSS H CATTLE,2749,93.268,0.441695136,-12.6,29.9,2.512,1,0.036\\r\\n3,B4 SH,CROSS H CATTLE,2749.5,83.245,0.472317546,-14.3,30.15,2.609,1,0.018\\r\\n5,B4 LM,CROSS H CATTLE,2750,66.187,0.510410948,-12.8,28,2.788,2,1\\r\\n5,B4 LM,CROSS H CATTLE,2750.5,51.12,0.559068334,2,20,3.32,2,0.9\\r\\n8,B4 LM,CROSS H CATTLE,2751,37.073,0.611085733,4.4,16.5,3.715,2,0.8\\r\\n8,B4 LM,CROSS H CATTLE,2751.5,26.393,0.657820456,6,10.4,3.97,2,0.7\\r\\n8,B4 LM,CROSS H CATTLE,2752,22.444,0.685920792,4.6,6.4,4.177,2,0.6\\r\\n6,B4 LM,CROSS H CATTLE,2752.5,23.628,0.692318044,5.5,3.25,4.305,2,0.5\\r\\n6,B4 LM,CROSS H CATTLE,2753,25.698,0.682325619,4.7,2.95,4.388,2,0.4\\r\\n6,B4 LM,CROSS H CATTLE,2753.5,38.392,0.66143405,3.7,4.35,4.193,2,0.3\\r\\n6,B4 LM,CROSS H CATTLE,2754,54.121,0.640580806,0.4,8.7,3.496,2,0.2\\r\\n3,B5 SH,CROSS H CATTLE,2754.5,64.146,0.621799224,-18.7,23.45,2.502,2,0.1\\r\\n2,B5 SH,CROSS H CATTLE,2757,74.567,0.537441283,-8.1,17.75,2.736,1,0.808\\r\\n2,B5 SH,CROSS H CATTLE,2757.5,79.038,0.543695632,5.4,10.2,3.13,1,0.769\\r\\n2,B5 SH,CROSS H CATTLE,2758,83.075,0.550228353,2.7,13.35,2.941,1,0.731\\r\\n2,B5 SH,CROSS H CATTLE,2758.5,86.756,0.550717423,-12.8,25.1,2.358,1,0.692\\r\\n3,B5 SH,CROSS H CATTLE,2759,89.346,0.540954809,-18.1,33.55,2.155,1,0.654\\r\\n3,B5 SH,CROSS H CATTLE,2759.5,85.942,0.524915148,-16.5,39.85,2.099,1,0.615\\r\\n3,B5 SH,CROSS H CATTLE,2760,86.528,0.507180977,-16.5,41.35,2.15,1,0.577\\r\\n3,B5 SH,CROSS H CATTLE,2760.5,91.581,0.496098992,-18.6,38.7,2.311,1,0.538\\r\\n3,B5 SH,CROSS H CATTLE,2761,104.216,0.495821753,-14.3,33.35,2.7,1,0.5\\r\\n3,B5 SH,CROSS H CATTLE,2761.5,103.144,0.505556939,-10.7,31.05,2.907,1,0.462\\r\\n3,B5 SH,CROSS H CATTLE,2762,99.94,0.526210004,-3.3,28.45,3.141,1,0.423\\r\\n3,B5 SH,CROSS H CATTLE,2762.5,95.45,0.552668216,1.7,24.85,3.388,1,0.385\\r\\n3,B5 SH,CROSS H CATTLE,2763,81.581,0.581152892,-0.6,23.3,3.44,1,0.346\\r\\n3,B5 SH,CROSS H CATTLE,2763.5,76.264,0.591843411,5.5,18.85,3.708,1,0.269\\r\\n3,B5 SH,CROSS H CATTLE,2764,75.003,0.540079089,5.7,17.85,3.662,1,0.231\\r\\n3,B5 SH,CROSS H CATTLE,2764.5,74.701,0.46746011,7.9,16.65,3.628,1,0.192\\r\\n3,B5 SH,CROSS H CATTLE,2765,77.666,0.384532615,5.2,18.1,3.201,1,0.154\\r\\n5,B5 SH,CROSS H CATTLE,2765.5,75.264,0.326130957,-10.6,27.6,2.605,1,0.115\\r\\n5,B5 SH,CROSS H CATTLE,2766,72.4,0.289811839,-14.8,32.3,2.436,1,0.077\\r\\n3,B5 SH,CROSS H CATTLE,2766.5,70.61,0.268577972,-15.2,35.2,2.453,1,0.038\\r\\n7,B5 LM,CROSS H CATTLE,2767,57.971,0.254789687,-14.6,33.6,2.572,2,1\\r\\n7,B5 LM,CROSS H CATTLE,2767.5,46.746,0.241795431,-9,25.7,3.046,2,0.95\\r\\n8,B5 LM,CROSS H CATTLE,2768,43.446,0.241546481,0.9,17.15,3.804,2,0.9\\r\\n8,B5 LM,CROSS H CATTLE,2768.5,42.124,0.263636069,5.2,14.1,4.125,2,0.85\\r\\n8,B5 LM,CROSS H CATTLE,2769,46.923,0.311541958,6.1,13.05,4.369,2,0.8\\r\\n8,B5 LM,CROSS H CATTLE,2769.5,64.814,0.379849179,5.2,13,4.438,2,0.75\\r\\n8,B5 LM,CROSS H CATTLE,2770,79.274,0.45591024,5,12.4,4.31,2,0.7\\r\\n8,B5 LM,CROSS H CATTLE,2770.5,88.073,0.529430354,4.7,12.05,4.357,2,0.65\\r\\n8,B5 LM,CROSS H CATTLE,2771,91.345,0.577031986,4.8,11.6,4.317,2,0.6\\r\\n8,B5 LM,CROSS H CATTLE,2771.5,91.434,0.597914471,4.8,11.3,4.397,2,0.55\\r\\n8,B5 LM,CROSS H CATTLE,2772,88.002,0.602059991,4.8,10.5,4.498,2,0.5\\r\\n8,B5 LM,CROSS H CATTLE,2772.5,85.405,0.59900924,4,10.1,4.544,2,0.45\\r\\n8,B5 LM,CROSS H CATTLE,2773,84.348,0.596157081,4.4,10.3,4.503,2,0.4\\r\\n8,B5 LM,CROSS H CATTLE,2773.5,89.329,0.59117595,5,10.8,4.455,2,0.35\\r\\n8,B5 LM,CROSS H CATTLE,2774,85.469,0.581152892,5.2,11.3,4.376,2,0.3\\r\\n8,B5 LM,CROSS H CATTLE,2774.5,84.193,0.564902673,4.7,11.05,4.28,2,0.25\\r\\n8,B5 LM,CROSS H CATTLE,2775,89.404,0.542825427,5.2,10.4,4.126,2,0.2\\r\\n8,B5 LM,CROSS H CATTLE,2775.5,89.947,0.521138084,6.4,9.8,3.921,2,0.15\\r\\n8,B5 LM,CROSS H CATTLE,2776,97.878,0.504334912,7.8,10.3,3.823,2,0.1\\r\\n8,B5 LM,CROSS H CATTLE,2776.5,106.475,0.494154594,9.7,11.55,3.77,2,0.05\\r\\n8,B5 LM,CROSS H CATTLE,2777,110.121,0.488832634,4,16.6,3.331,1,1\\r\\n8,B5 LM,CROSS H CATTLE,2777.5,111.355,0.488127496,-11.5,27.45,2.72,1,0.984\\r\\n5,B5 LM,CROSS H CATTLE,2778,104.598,0.487421211,-12.3,31.95,2.558,1,0.968\\r\\n3,C SH,CROSS H CATTLE,2778.5,101.945,0.486005186,-12.3,33.35,2.573,1,0.952\\r\\n3,C SH,CROSS H CATTLE,2779,96.726,0.483587297,-12.6,33.3,2.552,1,0.935\\r\\n3,C SH,CROSS H CATTLE,2779.5,93.814,0.48029446,-8.3,30.75,2.568,1,0.919\\r\\n3,C SH,CROSS H CATTLE,2780,88.686,0.478277832,-6.3,30.35,2.68,1,0.903\\r\\n3,C SH,CROSS H CATTLE,2780.5,88.001,0.479863113,-7,31.3,2.72,1,0.887\\r\\n3,C SH,CROSS H CATTLE,2781,85.241,0.486572151,-7.9,32.85,2.622,1,0.871\\r\\n3,C SH,CROSS H CATTLE,2781.5,80.347,0.498861689,-10.3,35.05,2.482,1,0.855\\r\\n3,C SH,CROSS H CATTLE,2782,81.821,0.514149134,-12.4,37.9,2.337,1,0.839\\r\\n3,C SH,CROSS H CATTLE,2782.5,79.776,0.527758753,-18.2,41.1,2.116,1,0.823\\r\\n3,C SH,CROSS H CATTLE,2788,75.107,0.480725379,-16,75.5,0.646,1,0.645\\r\\n3,C SH,CROSS H CATTLE,2793.5,88.53,0.635584266,-12.9,33.55,2.682,1,0.468\\r\\n3,C SH,CROSS H CATTLE,2794,82.132,0.629409599,-6.3,28.75,3.064,1,0.452\\r\\n3,C SH,CROSS H CATTLE,2794.5,79.53,0.624282096,-2.9,25.35,3.142,1,0.435\\r\\n2,C SH,CROSS H CATTLE,2795,81.196,0.621280168,-1.4,22.2,3.235,1,0.419\\r\\n3,C SH,CROSS H CATTLE,2795.5,81.671,0.618675539,1.3,17.95,3.343,1,0.403\\r\\n2,C SH,CROSS H CATTLE,2796,81.994,0.617314933,7.7,13.35,3.624,1,0.387\\r\\n2,C SH,CROSS H CATTLE,2796.5,77.9,0.61898892,10.1,12.15,3.645,1,0.371\\r\\n2,C SH,CROSS H CATTLE,2797,77.672,0.622731965,1.7,17.95,3.391,1,0.355\\r\\n2,C SH,CROSS H CATTLE,2797.5,78.003,0.624591459,1.1,20.15,3.366,1,0.339\\r\\n2,C SH,CROSS H CATTLE,2798,79.786,0.621902961,0.7,20.85,3.395,1,0.323\\r\\n2,C SH,CROSS H CATTLE,2798.5,85.068,0.615107987,1.4,19.1,3.479,1,0.306\\r\\n2,C SH,CROSS H CATTLE,2799,90.082,0.605412798,4.9,16.35,3.52,1,0.29\\r\\n2,C SH,CROSS H CATTLE,2799.5,90.381,0.592953572,10.2,13.2,3.749,1,0.274\\r\\n2,C SH,CROSS H CATTLE,2800,90.296,0.578982843,10.2,13.1,3.794,1,0.258\\r\\n2,C SH,CROSS H CATTLE,2800.5,85.317,0.565257343,11.9,13.75,3.776,1,0.242\\r\\n2,C SH,CROSS H CATTLE,2801,84.741,0.549248557,10.1,17.05,3.599,1,0.226\\r\\n2,C SH,CROSS H CATTLE,2801.5,81.491,0.539703239,4.4,22.6,3.399,1,0.21\\r\\n2,C SH,CROSS H CATTLE,2802,85.146,0.536684673,0.4,25,3.19,1,0.194\\r\\n2,C SH,CROSS H CATTLE,2802.5,83.997,0.538070787,-3.9,27.25,2.934,1,0.177\\r\\n2,C SH,CROSS H CATTLE,2803,84.214,0.541454429,-10,30.5,2.647,1,0.161\\r\\n2,C SH,CROSS H CATTLE,2803.5,80.845,0.537567257,-11.6,31.7,2.526,1,0.145\\r\\n2,C SH,CROSS H CATTLE,2804,84.819,0.52530401,-12.5,30.55,2.527,1,0.129\\r\\n2,C SH,CROSS H CATTLE,2804.5,85.426,0.510142699,-14,27.2,2.603,1,0.113\\r\\n2,C SH,CROSS H CATTLE,2805,90.567,0.502153893,-5.6,21,2.726,1,0.097\\r\\n2,C SH,CROSS H CATTLE,2805.5,99.422,0.507720977,-19.6,29.3,2.306,1,0.081\\r\\n5,C LM,CROSS H CATTLE,2808,56.187,0.654657755,-15,25.7,2.893,2,1\\r\\n8,C LM,CROSS H CATTLE,2808.5,35.522,0.70969387,1.4,11.7,3.941,2,0.985\\r\\n8,C LM,CROSS H CATTLE,2809,23.688,0.777571805,-2.2,9.4,4.449,2,0.971\\r\\n8,C LM,CROSS H CATTLE,2809.5,21.307,0.867349617,1.3,6.05,4.611,2,0.956\\r\\n8,C LM,CROSS H CATTLE,2810,26.405,0.963315511,3.7,4.55,4.69,2,0.941\\r\\n6,C LM,CROSS H CATTLE,2810.5,27.73,1.042536137,2.6,5.3,4.753,2,0.926\\r\\n8,C LM,CROSS H CATTLE,2811,28.403,1.091350352,1.8,5.8,4.695,2,0.912\\r\\n8,C LM,CROSS H CATTLE,2811.5,30.292,1.10744741,0.7,5.85,4.608,2,0.897\\r\\n8,C LM,CROSS H CATTLE,2812,30.956,1.107277823,-0.3,5.75,4.557,2,0.882\\r\\n8,C LM,CROSS H CATTLE,2812.5,33.036,1.107820267,-0.6,5.6,4.609,2,0.868\\r\\n8,C LM,CROSS H CATTLE,2813,33.698,1.111262514,-0.3,5.25,4.643,2,0.853\\r\\n8,C LM,CROSS H CATTLE,2813.5,29.775,1.1069724,0.1,4.75,4.66,2,0.838\\r\\n8,C LM,CROSS H CATTLE,2814,24.094,1.089198367,-0.2,4.6,4.665,2,0.824\\r\\n8,C LM,CROSS H CATTLE,2814.5,18.243,1.058501943,0.2,4.4,4.725,2,0.809\\r\\n8,C LM,CROSS H CATTLE,2815,13.893,1.024362504,0.7,4.15,4.748,2,0.794\\r\\n8,C LM,CROSS H CATTLE,2815.5,16.598,0.997648455,1.2,4.4,4.735,2,0.779\\r\\n8,C LM,CROSS H CATTLE,2816,20.988,0.978773784,1.8,5.3,4.724,2,0.765\\r\\n8,C LM,CROSS H CATTLE,2816.5,27.037,0.965201701,1.3,6.95,4.681,2,0.75\\r\\n8,C LM,CROSS H CATTLE,2817,37.72,0.94767874,0,8.1,4.598,2,0.735\\r\\n8,C LM,CROSS H CATTLE,2817.5,43.204,0.927319025,-1,8.2,4.552,2,0.721\\r\\n5,C LM,CROSS H CATTLE,2818,51.049,0.911477217,-0.9,7.35,4.446,2,0.706\\r\\n5,C LM,CROSS H CATTLE,2818.5,57.093,0.905472062,0.9,6.15,4.276,2,0.691\\r\\n5,C LM,CROSS H CATTLE,2819,61.927,0.913707914,3,5.4,4.098,2,0.676\\r\\n5,C LM,CROSS H CATTLE,2819.5,65.863,0.92808846,4.6,5.8,3.984,2,0.662\\r\\n5,C LM,CROSS H CATTLE,2820,68.904,0.939718882,6.1,6.55,3.895,2,0.647\\r\\n5,C LM,CROSS H CATTLE,2820.5,74.014,0.945714714,7,7,3.859,2,0.632\\r\\n5,C LM,CROSS H CATTLE,2821,86.503,0.945960704,6.9,7.05,3.878,2,0.618\\r\\n5,C LM,CROSS H CATTLE,2821.5,109.964,0.949341207,6.1,6.95,3.918,2,0.603\\r\\n4,C LM,CROSS H CATTLE,2822,149.908,0.958372732,5.8,6.6,3.962,2,0.588\\r\\n4,C LM,CROSS H CATTLE,2822.5,174.17,0.972063916,5.3,6.55,4.045,2,0.574\\r\\n4,C LM,CROSS H CATTLE,2823,184.021,0.99100444,5.1,6.55,4.087,2,0.559\\r\\n4,C LM,CROSS H CATTLE,2823.5,179.777,1.011866357,5.1,6.55,4.129,2,0.544\\r\\n4,C LM,CROSS H CATTLE,2824,158.331,1.032739605,5.3,6.55,4.214,2,0.529\\r\\n4,C LM,CROSS H CATTLE,2824.5,127.469,1.05415324,5.3,6.45,4.271,2,0.515\\r\\n4,C LM,CROSS H CATTLE,2825,98.578,1.070000904,5.2,6,4.296,2,0.5\\r\\n4,C LM,CROSS H CATTLE,2825.5,78.954,1.085112113,4.5,5.75,4.253,2,0.485\\r\\n4,C LM,CROSS H CATTLE,2826,67.026,1.093946724,3.5,5.35,4.346,2,0.471\\r\\n4,C LM,CROSS H CATTLE,2826.5,59.712,1.096562438,2.6,5,4.364,2,0.456\\r\\n4,C LM,CROSS H CATTLE,2827,62.048,1.092439911,2.6,4.9,4.394,2,0.441\\r\\n4,C LM,CROSS H CATTLE,2827.5,73.528,1.081995025,3,5.2,4.398,2,0.426\\r\\n5,C LM,CROSS H CATTLE,2828,83.486,1.066251362,3.6,5.7,4.386,2,0.412\\r\\n4,C LM,CROSS H CATTLE,2828.5,82.963,1.045283851,4.4,6.2,4.33,2,0.397\\r\\n4,C LM,CROSS H CATTLE,2829,78.22,1.019946682,4.2,7.1,4.343,2,0.382\\r\\n6,C LM,CROSS H CATTLE,2829.5,65.966,0.996686756,3.6,7.5,4.419,2,0.368\\r\\n6,C LM,CROSS H CATTLE,2830,46.376,0.984347258,2.1,7.75,4.476,2,0.353\\r\\n8,C LM,CROSS H CATTLE,2830.5,32.286,0.988648125,0.6,8.3,4.514,2,0.338\\r\\n8,C LM,CROSS H CATTLE,2831,31.293,1.000217093,-0.1,8.65,4.64,2,0.324\\r\\n8,C LM,CROSS H CATTLE,2831.5,36.538,1.005609445,-0.7,8.45,4.698,2,0.309\\r\\n8,C LM,CROSS H CATTLE,2832,50.142,0.991624735,-0.5,7.55,4.586,2,0.294\\r\\n6,C LM,CROSS H CATTLE,2832.5,58.872,0.951483231,0.7,6.75,4.493,2,0.279\\r\\n5,C LM,CROSS H CATTLE,2833,62.932,0.892484179,2.1,6.45,4.454,2,0.265\\r\\n5,C LM,CROSS H CATTLE,2833.5,67.306,0.835753968,3,6.5,4.409,2,0.25\\r\\n8,C LM,CROSS H CATTLE,2834,67.731,0.794418331,-2.8,10.5,3.691,2,0.235\\r\\n2,C LM,CROSS H CATTLE,2837,78.049,0.618884485,-12.1,21.45,2.608,2,0.147\\r\\n2,C LM,CROSS H CATTLE,2837.5,75.925,0.631545228,-6.9,19.25,2.826,2,0.132\\r\\n3,C LM,CROSS H CATTLE,2838,77.553,0.666424373,-8.4,22.6,2.84,2,0.118\\r\\n2,C LM,CROSS H CATTLE,2838.5,71.921,0.710963119,-6.1,23.35,2.899,2,0.103\\r\\n3,C LM,CROSS H CATTLE,2839,61.939,0.745230985,-6.5,22.85,2.917,2,0.088\\r\\n3,C LM,CROSS H CATTLE,2839.5,51.987,0.765668555,-3.8,18.7,3.022,2,0.074\\r\\n3,C LM,CROSS H CATTLE,2840,41.019,0.772761647,1.1,13.45,3.298,2,0.059\\r\\n8,C LM,CROSS H CATTLE,2840.5,34.314,0.775537635,3.1,9.25,3.521,2,0.044\\r\\n8,C LM,CROSS H CATTLE,2841,36.958,0.782615932,5,7.1,3.59,2,0.029\\r\\n8,C LM,CROSS H CATTLE,2841.5,40.572,0.793650718,6.8,7.3,3.518,2,0.015\\r\\n2,A1 SH,NOLAN,2853.5,106.813,0.533,9.339,15.222,3.5,1,1\\r\\n3,A1 SH,NOLAN,2854,100.938,0.542,8.857,15.313,3.416,1,0.977\\r\\n3,A1 SH,NOLAN,2854.5,94.375,0.553,7.097,14.583,3.195,1,0.955\\r\\n3,A1 SH,NOLAN,2855,89.813,0.554,7.081,14.11,2.963,1,0.932\\r\\n3,A1 SH,NOLAN,2855.5,91.563,0.56,6.733,13.189,2.979,1,0.909\\r\\n3,A1 SH,NOLAN,2856,87.188,0.567,6.578,12.806,3.16,1,0.886\\r\\n3,A1 SH,NOLAN,2856.5,84.188,0.569,5.569,12.253,3.223,1,0.864\\r\\n3,A1 SH,NOLAN,2857,84.625,0.567,4.861,12.229,3.361,1,0.841\\r\\n3,A1 SH,NOLAN,2857.5,90.313,0.581,5.634,13.458,3.395,1,0.818\\r\\n3,A1 SH,NOLAN,2858,91.563,0.578,6.443,17.922,3.076,1,0.795\\r\\n3,A1 SH,NOLAN,2858.5,85.625,0.56,6.897,19.177,3.135,1,0.773\\r\\n3,A1 SH,NOLAN,2859,74.188,0.533,4.634,17.827,3.002,1,0.75\\r\\n3,A1 SH,NOLAN,2859.5,65.875,0.499,3.571,13.226,3.16,1,0.727\\r\\n3,A1 SH,NOLAN,2860,63.625,0.467,2.563,13.013,2.773,1,0.705\\r\\n3,A1 SH,NOLAN,2860.5,65.375,0.46,3.922,13.46,2.541,1,0.682\\r\\n2,A1 SH,NOLAN,2861,65.813,0.453,3.145,14.97,2.512,1,0.659\\r\\n2,A1 SH,NOLAN,2861.5,64.5,0.441,3.31,15.245,2.666,1,0.636\\r\\n2,A1 SH,NOLAN,2862,65.313,0.426,2.439,14.602,2.807,1,0.614\\r\\n2,A1 SH,NOLAN,2862.5,67.063,0.415,2.877,14.017,2.941,1,0.591\\r\\n2,A1 SH,NOLAN,2863,70.25,0.401,2.333,13.585,2.981,1,0.568\\r\\n2,A1 SH,NOLAN,2863.5,72.125,0.383,1.926,13.406,3.078,1,0.545\\r\\n2,A1 SH,NOLAN,2864,79.563,0.357,2.152,14.205,3.17,1,0.523\\r\\n2,A1 SH,NOLAN,2864.5,80.563,0.332,3.078,16.844,3.107,1,0.5\\r\\n2,A1 SH,NOLAN,2865,75.813,0.31,5.733,18.242,3.012,1,0.477\\r\\n2,A1 SH,NOLAN,2865.5,65.625,0.295,6.937,19.674,3.014,1,0.455\\r\\n2,A1 SH,NOLAN,2866,57.25,0.293,7.76,19.584,2.971,1,0.432\\r\\n2,A1 SH,NOLAN,2866.5,59.625,0.292,6.294,19.487,2.947,1,0.409\\r\\n2,A1 SH,NOLAN,2867,62,0.293,5.391,18.584,2.787,1,0.386\\r\\n2,A1 SH,NOLAN,2867.5,68.438,0.307,4.007,17.428,2.807,1,0.364\\r\\n2,A1 SH,NOLAN,2868,71.063,0.333,3.218,16.411,2.838,1,0.341\\r\\n2,A1 SH,NOLAN,2868.5,71.188,0.371,2.909,14.962,2.844,1,0.318\\r\\n2,A1 SH,NOLAN,2869,70.938,0.419,2.838,13.177,2.76,1,0.295\\r\\n2,A1 SH,NOLAN,2869.5,66.813,0.463,2.855,12.282,2.58,1,0.273\\r\\n2,A1 SH,NOLAN,2870,69.875,0.493,2.702,11.556,2.703,1,0.25\\r\\n2,A1 SH,NOLAN,2870.5,73.188,0.5,3.026,11.769,2.795,1,0.227\\r\\n2,A1 SH,NOLAN,2871,81,0.486,3.352,12.322,2.938,1,0.205\\r\\n2,A1 SH,NOLAN,2871.5,82.188,0.457,3.945,13.144,2.691,1,0.182\\r\\n2,A1 SH,NOLAN,2872,82.063,0.421,5.444,15.21,2.654,1,0.159\\r\\n2,A1 SH,NOLAN,2872.5,77.375,0.38,6.592,16.358,2.75,1,0.136\\r\\n3,A1 SH,NOLAN,2873,74.75,0.341,6.672,16.326,2.891,1,0.114\\r\\n5,A1 SH,NOLAN,2873.5,73.688,0.31,6.614,17.409,2.922,1,0.091\\r\\n5,A1 SH,NOLAN,2874,76.25,0.295,7.123,19.977,2.981,1,0.068\\r\\n2,A1 SH,NOLAN,2874.5,73.938,0.301,10.693,21.143,3.065,1,0.045\\r\\n3,A1 SH,NOLAN,2875,75.5,0.323,8.346,20.17,3.133,1,0.023\\r\\n5,A1 LM,NOLAN,2875.5,77.938,0.35,5.703,16.27,3.32,2,1\\r\\n5,A1 LM,NOLAN,2876,85.75,0.384,1.07,13.579,3.662,2,0.983\\r\\n5,A1 LM,NOLAN,2876.5,81.875,0.438,0.969,9.822,4.394,2,0.966\\r\\n8,A1 LM,NOLAN,2877,75.125,0.518,1.062,7.629,4.562,2,0.948\\r\\n8,A1 LM,NOLAN,2877.5,73.375,0.614,0.67,6.898,4.894,2,0.931\\r\\n8,A1 LM,NOLAN,2878,79.938,0.696,0.442,6.442,5.121,2,0.914\\r\\n8,A1 LM,NOLAN,2878.5,89.5,0.749,0.54,6.54,5.098,2,0.897\\r\\n6,A1 LM,NOLAN,2879,85.813,0.767,1.25,6.905,5.008,2,0.879\\r\\n6,A1 LM,NOLAN,2879.5,75.563,0.751,2.104,7.075,4.695,2,0.862\\r\\n5,A1 LM,NOLAN,2880,60.156,0.724,2.47,8.125,4.359,2,0.845\\r\\n5,A1 LM,NOLAN,2880.5,55.938,0.703,2.639,9.324,3.91,2,0.828\\r\\n6,A1 LM,NOLAN,2881,55.063,0.685,2.932,10.984,3.461,2,0.81\\r\\n4,A1 LM,NOLAN,2881.5,58.844,0.658,4.265,11.75,3.434,2,0.793\\r\\n4,A1 LM,NOLAN,2882,55.906,0.622,4.477,11.734,3.473,2,0.776\\r\\n4,A1 LM,NOLAN,2882.5,54.781,0.576,3.558,11.383,3.412,2,0.759\\r\\n4,A1 LM,NOLAN,2883,56.375,0.53,2.147,10.89,3.527,2,0.741\\r\\n6,A1 LM,NOLAN,2883.5,65.125,0.498,2.587,11.329,3.424,2,0.724\\r\\n6,A1 LM,NOLAN,2884,67.813,0.487,5.048,12.872,3.441,2,0.707\\r\\n4,A1 LM,NOLAN,2884.5,64.938,0.495,7.595,14.28,3.201,2,0.69\\r\\n7,A1 LM,NOLAN,2885,58.5,0.511,9.249,16.044,3.19,2,0.672\\r\\n7,A1 LM,NOLAN,2885.5,61.313,0.523,8.082,15.111,3.244,2,0.655\\r\\n7,A1 LM,NOLAN,2886,80.563,0.529,6.129,13.842,3.67,2,0.638\\r\\n7,A1 LM,NOLAN,2886.5,104.438,0.54,4.233,11.49,4.227,2,0.621\\r\\n8,A1 LM,NOLAN,2887,116.5,0.566,2.686,11.084,4.742,2,0.603\\r\\n8,A1 LM,NOLAN,2887.5,110.875,0.612,1.667,10.638,4.867,2,0.586\\r\\n8,A1 LM,NOLAN,2888,109.313,0.664,0.755,10.866,4.891,2,0.569\\r\\n8,A1 LM,NOLAN,2888.5,108.313,0.704,0.975,10.402,5.223,2,0.552\\r\\n6,A1 LM,NOLAN,2889,111.688,0.727,1.09,10.628,5.059,2,0.534\\r\\n6,A1 LM,NOLAN,2889.5,100.063,0.733,1.139,9.993,5.258,2,0.517\\r\\n6,A1 LM,NOLAN,2890,100.063,0.733,1.139,9.993,5.258,2,0.517\\r\\n8,A1 LM,NOLAN,2890.5,95,0.73,1.311,9.48,5.246,2,0.5\\r\\n8,A1 LM,NOLAN,2891,80.563,0.72,1.565,8.933,5.488,2,0.483\\r\\n6,A1 LM,NOLAN,2891.5,63.031,0.7,1.23,8.487,5.863,2,0.466\\r\\n6,A1 LM,NOLAN,2892,43.813,0.667,0.702,8.527,5.715,2,0.448\\r\\n8,A1 LM,NOLAN,2892.5,33.625,0.628,0.043,8.551,5.848,2,0.431\\r\\n8,A1 LM,NOLAN,2893,29.656,0.591,0.472,9.098,5.187,2,0.414\\r\\n6,A1 LM,NOLAN,2893.5,26.719,0.559,0.413,10.524,5.047,2,0.397\\r\\n6,A1 LM,NOLAN,2894,22.641,0.531,1.692,11.687,4.75,2,0.379\\r\\n8,A1 LM,NOLAN,2894.5,20.953,0.5,1.298,12.667,4.797,2,0.362\\r\\n8,A1 LM,NOLAN,2895,22.562,0.47,0.924,12.748,4.852,2,0.345\\r\\n8,A1 LM,NOLAN,2895.5,24.406,0.441,-0.136,12.49,4.914,2,0.328\\r\\n8,A1 LM,NOLAN,2896,24.875,0.418,0.299,12.006,5.07,2,0.31\\r\\n8,A1 LM,NOLAN,2896.5,25.078,0.407,0.616,11.64,4.996,2,0.293\\r\\n8,A1 LM,NOLAN,2897,24.422,0.408,0.018,12.872,4.785,2,0.276\\r\\n8,A1 LM,NOLAN,2897.5,27.781,0.415,-0.731,13.719,4.699,2,0.259\\r\\n8,A1 LM,NOLAN,2898,29.734,0.429,-0.414,14.037,4.914,2,0.241\\r\\n8,A1 LM,NOLAN,2898.5,39.656,0.446,0.486,12.649,4.953,2,0.224\\r\\n8,A1 LM,NOLAN,2899,48.75,0.462,1.505,11.727,4.492,2,0.207\\r\\n8,A1 LM,NOLAN,2899.5,52.406,0.486,1.367,11.133,3.815,2,0.19\\r\\n6,A1 LM,NOLAN,2900,50.188,0.522,1.325,10.98,3.693,2,0.172\\r\\n5,A1 LM,NOLAN,2900.5,54.906,0.567,1.359,10.213,3.58,2,0.155\\r\\n8,A1 LM,NOLAN,2901,68.063,0.625,2.214,9.7,3.863,2,0.138\\r\\n6,A1 LM,NOLAN,2901.5,79.813,0.702,3.406,9.289,3.871,2,0.121\\r\\n4,A1 LM,NOLAN,2902,88.5,0.764,5.345,9.743,4.004,2,0.103\\r\\n4,A1 LM,NOLAN,2902.5,85.188,0.799,5.84,10.127,3.775,2,0.086\\r\\n4,A1 LM,NOLAN,2903,74.188,0.795,4.279,8.905,4.148,2,0.069\\r\\n4,A1 LM,NOLAN,2903.5,74.188,0.795,4.279,8.905,4.148,2,0.069\\r\\n5,A1 LM,NOLAN,2904,55.406,0.739,2.334,6.504,4.258,2,0.052\\r\\n6,A1 LM,NOLAN,2904.5,47.875,0.676,0.446,4.388,4.797,2,0.034\\r\\n8,A1 LM,NOLAN,2905,58.219,0.667,1.984,5.926,4.113,2,0.017\\r\\n8,A1 LM,NOLAN,2905.5,79.25,0.671,1.088,17.369,3.49,1,1\\r\\n3,B1 SH,NOLAN,2906,93.125,0.664,0,27.246,3.057,1,0.971\\r\\n3,B1 SH,NOLAN,2906.5,94.25,0.649,1.395,27.267,2.682,1,0.941\\r\\n3,B1 SH,NOLAN,2907,84.875,0.612,0.808,20.627,3.076,1,0.912\\r\\n3,B1 SH,NOLAN,2907.5,77.125,0.568,2.991,14.587,3.299,1,0.882\\r\\n3,B1 SH,NOLAN,2908,70.563,0.568,4.263,13.462,3.611,1,0.853\\r\\n3,B1 SH,NOLAN,2908.5,61.813,0.581,5.689,12.719,3.256,1,0.824\\r\\n2,B1 SH,NOLAN,2909,62.188,0.581,5.641,12.67,3.354,1,0.794\\r\\n2,B1 SH,NOLAN,2909.5,62.563,0.569,5.791,11.446,3.25,1,0.765\\r\\n2,B1 SH,NOLAN,2910,74.5,0.555,5.529,11.073,3.342,1,0.735\\r\\n2,B1 SH,NOLAN,2910.5,84.625,0.533,5.446,13.499,3.15,1,0.706\\r\\n3,B1 SH,NOLAN,2911,94.25,0.525,4.813,17.55,3.029,1,0.676\\r\\n3,B1 SH,NOLAN,2911.5,101,0.531,6.429,21.452,2.844,1,0.647\\r\\n3,B1 SH,NOLAN,2912,97.75,0.54,5.759,23.636,2.75,1,0.618\\r\\n3,B1 SH,NOLAN,2912.5,90.063,0.551,5.239,21.519,2.699,1,0.588\\r\\n2,B1 SH,NOLAN,2913,79.625,0.573,3.499,17.839,2.885,1,0.559\\r\\n2,B1 SH,NOLAN,2913.5,73.813,0.601,4.323,12.376,3.262,1,0.529\\r\\n2,B1 SH,NOLAN,2914,77.438,0.636,4.629,9.483,3.418,1,0.5\\r\\n2,B1 SH,NOLAN,2914.5,72.625,0.681,3.464,7.522,3.373,1,0.471\\r\\n2,B1 SH,NOLAN,2915,69.813,0.716,2.422,7.393,3.232,1,0.441\\r\\n2,B1 SH,NOLAN,2915.5,65.438,0.728,1.631,7.403,3.231,1,0.412\\r\\n2,B1 SH,NOLAN,2916,65.875,0.719,1.158,7.386,3.356,1,0.382\\r\\n2,B1 SH,NOLAN,2916.5,67.25,0.693,0.916,7.483,3.398,1,0.353\\r\\n2,B1 SH,NOLAN,2917,67.875,0.662,0.58,8.404,3.348,1,0.324\\r\\n2,B1 SH,NOLAN,2917.5,75,0.623,0.896,8.381,3.348,1,0.294\\r\\n2,B1 SH,NOLAN,2918,80.938,0.578,1.247,9.3,3.457,1,0.265\\r\\n2,B1 SH,NOLAN,2918.5,86.75,0.55,2.513,11.256,3.223,1,0.235\\r\\n2,B1 SH,NOLAN,2919,92.125,0.528,1.859,15.28,2.879,1,0.206\\r\\n2,B1 SH,NOLAN,2919.5,95,0.504,2.565,16.331,2.732,1,0.176\\r\\n2,B1 SH,NOLAN,2920,98.625,0.498,2.98,17.43,3.008,1,0.147\\r\\n2,B1 SH,NOLAN,2920.5,97.5,0.518,6.042,19.691,3.213,1,0.118\\r\\n3,B1 SH,NOLAN,2921,92.813,0.528,5.913,24.702,2.959,1,0.088\\r\\n3,B1 SH,NOLAN,2921.5,72.375,0.551,5.425,24.214,2.805,1,0.059\\r\\n8,B1 LM,NOLAN,2922,48.281,0.596,3.01,19.402,2.906,1,0.029\\r\\n8,B1 LM,NOLAN,2922.5,27.25,0.631,2.861,13.545,3.561,2,1\\r\\n8,B1 LM,NOLAN,2923,19.875,0.675,2.844,9.412,3.807,2,0.95\\r\\n8,B1 LM,NOLAN,2923.5,16.906,0.766,2.21,7.409,3.805,2,0.9\\r\\n8,B1 LM,NOLAN,2924,18.391,0.845,1.437,6.18,4.094,2,0.85\\r\\n6,B1 LM,NOLAN,2924.5,21.719,0.905,1.495,5.097,4.418,2,0.8\\r\\n6,B1 LM,NOLAN,2925,25.75,0.961,1.218,4.592,4.758,2,0.75\\r\\n8,B1 LM,NOLAN,2925.5,26.438,0.992,1.619,4.192,5.156,2,0.7\\r\\n8,B1 LM,NOLAN,2926,28.031,0.971,1.547,4.459,5.051,2,0.65\\r\\n8,B1 LM,NOLAN,2926.5,28.875,0.944,0.892,4.723,5.047,2,0.6\\r\\n8,B1 LM,NOLAN,2927,33.031,0.928,0.322,5.977,4.406,2,0.55\\r\\n8,B1 LM,NOLAN,2927.5,34.469,0.919,1.558,6.645,3.904,2,0.5\\r\\n5,B1 LM,NOLAN,2928,36.875,0.92,2.585,6.643,3.609,2,0.45\\r\\n5,B1 LM,NOLAN,2928.5,38.688,0.933,1.968,6.138,3.785,2,0.4\\r\\n5,B1 LM,NOLAN,2929,42.625,0.941,0.845,5.014,4.312,2,0.35\\r\\n5,B1 LM,NOLAN,2929.5,42.031,0.938,0.339,3.713,4.598,2,0.3\\r\\n6,B1 LM,NOLAN,2930,37.5,0.929,0.3,2.873,4.875,2,0.25\\r\\n6,B1 LM,NOLAN,2930.5,33.281,0.919,0.546,2.774,4.141,2,0.2\\r\\n8,B1 LM,NOLAN,2931,38.594,0.893,0.7,3.841,3.826,2,0.15\\r\\n8,B1 LM,NOLAN,2931.5,52.688,0.847,0.82,4.99,3.291,2,0.1\\r\\n2,B2 SH,NOLAN,2932,63.938,0.782,1.615,6.93,3.393,2,0.05\\r\\n2,B2 SH,NOLAN,2932.5,74,0.721,3.299,9.299,3.18,1,1\\r\\n2,B2 SH,NOLAN,2933,79.813,0.676,4.893,12.49,3.08,1,0.955\\r\\n2,B2 SH,NOLAN,2933.5,91.25,0.653,6.112,15.422,2.992,1,0.909\\r\\n2,B2 SH,NOLAN,2934,98.25,0.643,5.027,15.822,3.082,1,0.864\\r\\n2,B2 SH,NOLAN,2934.5,98.625,0.623,3.709,13.82,3.443,1,0.818\\r\\n2,B2 SH,NOLAN,2935,86.5,0.594,2.686,10.4,3.684,1,0.773\\r\\n2,B2 SH,NOLAN,2935.5,77.313,0.567,2.959,8.614,3.77,1,0.727\\r\\n3,B2 SH,NOLAN,2936,71.938,0.546,4.279,8.905,3.754,1,0.682\\r\\n3,B2 SH,NOLAN,2936.5,75.75,0.535,5.234,12.491,3.598,1,0.636\\r\\n3,B2 SH,NOLAN,2937,83.563,0.535,6.867,17.206,3.342,1,0.591\\r\\n3,B2 SH,NOLAN,2937.5,93.813,0.539,7.596,20.333,3.08,1,0.545\\r\\n3,B2 SH,NOLAN,2938,99.5,0.538,7.613,18.754,3.023,1,0.5\\r\\n3,B2 SH,NOLAN,2938.5,90.813,0.532,5.035,16.059,3.1,1,0.455\\r\\n3,B2 SH,NOLAN,2939,79.813,0.534,4.116,13.315,3.309,1,0.409\\r\\n2,B2 SH,NOLAN,2939.5,73.313,0.535,3.499,12.809,3.316,1,0.364\\r\\n1,B2 SH,NOLAN,2940,67.625,0.547,3.858,10.888,3.494,1,0.318\\r\\n1,B2 SH,NOLAN,2940.5,68.063,0.576,3.046,9.502,3.527,1,0.273\\r\\n1,B2 SH,NOLAN,2941,67.625,0.597,2.454,8.337,3.574,1,0.227\\r\\n1,B2 SH,NOLAN,2941.5,73.688,0.597,3.569,9.908,3.209,1,0.182\\r\\n3,B2 SH,NOLAN,2942,79.5,0.625,2.096,20.658,2.682,1,0.136\\r\\n3,B2 SH,NOLAN,2942.5,82.5,0.658,-0.258,26.186,2.498,1,0.091\\r\\n3,B2 SH,NOLAN,2943,78.75,0.66,-3.639,26.344,2.648,1,0.045\\r\\n3,B2 SH,NOLAN,2943.5,60.25,0.651,-5.054,17.847,4.438,2,1\\r\\n8,B2 LM,NOLAN,2944,37.125,0.64,-1.233,11.731,5.324,2,0.958\\r\\n8,B2 LM,NOLAN,2944.5,20.75,0.624,2.222,9.936,5.52,2,0.917\\r\\n8,B2 LM,NOLAN,2945,14.414,0.657,1.528,11.411,5.152,2,0.875\\r\\n8,B2 LM,NOLAN,2945.5,14.117,0.721,-0.348,12.506,5.023,2,0.833\\r\\n8,B2 LM,NOLAN,2946,15.938,0.76,-0.907,10.917,4.644,2,0.792\\r\\n8,B2 LM,NOLAN,2946.5,16.797,0.779,-0.693,9.19,5.152,2,0.75\\r\\n8,B2 LM,NOLAN,2947,18.25,0.795,0.198,7.566,4.918,2,0.708\\r\\n8,B2 LM,NOLAN,2947.5,18.813,0.799,0.198,7.566,4.918,2,0.667\\r\\n8,B2 LM,NOLAN,2948,22.641,0.802,1.626,6.48,4.731,2,0.625\\r\\n8,B2 LM,NOLAN,2948.5,28.969,0.808,3.541,5.541,4.059,2,0.583\\r\\n8,B2 LM,NOLAN,2949,30.5,0.813,4.486,4.889,4.16,2,0.542\\r\\n8,B2 LM,NOLAN,2949.5,28.75,0.816,3.868,5.067,4.394,2,0.5\\r\\n8,B2 LM,NOLAN,2950,23.406,0.822,2.603,6.088,4.926,2,0.458\\r\\n8,B2 LM,NOLAN,2950.5,20.359,0.828,1.714,6.685,5.144,2,0.417\\r\\n8,B2 LM,NOLAN,2951,16.828,0.84,1.235,6.089,5.406,2,0.375\\r\\n8,B2 LM,NOLAN,2951.5,19.484,0.854,1.365,4.739,5.324,2,0.333\\r\\n6,B2 LM,NOLAN,2952,23.141,0.873,1.311,3.767,5.41,2,0.292\\r\\n6,B2 LM,NOLAN,2952.5,26.719,0.898,-0.026,4.372,4.977,2,0.25\\r\\n6,B2 LM,NOLAN,2953,26.688,0.907,-0.705,4.611,5.129,2,0.208\\r\\n6,B2 LM,NOLAN,2953.5,25.75,0.882,-0.482,4.144,5.184,2,0.167\\r\\n8,B2 LM,NOLAN,2954,32.906,0.839,0.03,3.632,5.223,2,0.125\\r\\n3,B3 SH,NOLAN,2954.5,55.469,0.795,1.023,4.397,4.762,2,0.083\\r\\n3,B3 SH,NOLAN,2955,81.375,0.741,2.505,6.675,4.004,2,0.042\\r\\n2,B3 SH,NOLAN,2955.5,98.563,0.688,4.586,10.013,3.711,1,1\\r\\n2,B3 SH,NOLAN,2956,102.375,0.643,5.74,12.424,3.527,1,0.962\\r\\n2,B3 SH,NOLAN,2956.5,102.188,0.601,6.552,13.809,3.486,1,0.923\\r\\n2,B3 SH,NOLAN,2957,101.25,0.577,5.038,13.663,2.959,1,0.885\\r\\n2,B3 SH,NOLAN,2957.5,102.875,0.572,3.579,13.462,2.713,1,0.846\\r\\n2,B3 SH,NOLAN,2958,103.25,0.572,2.959,13.643,2.947,1,0.808\\r\\n2,B3 SH,NOLAN,2958.5,100.688,0.577,2.847,12.73,3.074,1,0.769\\r\\n2,B3 SH,NOLAN,2959,95.063,0.59,2.977,12.404,3.424,1,0.731\\r\\n2,B3 SH,NOLAN,2959.5,89,0.607,3.223,11.621,3.369,1,0.692\\r\\n2,B3 SH,NOLAN,2960,89.125,0.624,2.792,11.417,3.596,1,0.654\\r\\n2,B3 SH,NOLAN,2960.5,83.063,0.642,2.1,10.498,3.648,1,0.615\\r\\n2,B3 SH,NOLAN,2961,76.563,0.652,1.783,10.18,3.51,1,0.577\\r\\n2,B3 SH,NOLAN,2961.5,73.25,0.654,1.856,10.254,3.242,1,0.538\\r\\n2,B3 SH,NOLAN,2962,79.438,0.655,2.849,11.018,3.176,1,0.5\\r\\n2,B3 SH,NOLAN,2962.5,89,0.653,3.64,11.692,3.17,1,0.462\\r\\n2,B3 SH,NOLAN,2963,85.5,0.641,3.638,12.036,3.131,1,0.423\\r\\n2,B3 SH,NOLAN,2963.5,80.5,0.616,3.192,11.701,3.123,1,0.385\\r\\n2,B3 SH,NOLAN,2964,73.375,0.584,3.028,11.425,3.065,1,0.346\\r\\n2,B3 SH,NOLAN,2964.5,74.75,0.546,3.842,11.783,2.984,1,0.308\\r\\n2,B3 SH,NOLAN,2965,69.063,0.513,4.388,12.897,2.895,1,0.269\\r\\n2,B3 SH,NOLAN,2965.5,68.375,0.489,5.143,13.997,2.889,1,0.231\\r\\n2,B3 SH,NOLAN,2966,68.313,0.473,4.295,14.406,3.09,1,0.192\\r\\n2,B3 SH,NOLAN,2966.5,76.813,0.462,5.523,17.231,3.201,1,0.154\\r\\n2,B3 SH,NOLAN,2967,89.875,0.467,6.978,20.171,3.08,1,0.115\\r\\n3,B3 SH,NOLAN,2967.5,92.75,0.471,8.101,20.61,3.143,1,0.077\\r\\n3,B3 SH,NOLAN,2968,84.875,0.467,5.888,17.256,3.512,1,0.038\\r\\n5,B3 LM,NOLAN,2968.5,58.375,0.462,3.841,13.151,4.285,2,1\\r\\n5,B3 LM,NOLAN,2969,37.969,0.467,3.483,12.337,4.543,2,0.917\\r\\n8,B3 LM,NOLAN,2969.5,21.266,0.48,3.206,13.2,4.551,2,0.833\\r\\n8,B3 LM,NOLAN,2970,17.641,0.513,1.941,14.221,4.719,2,0.75\\r\\n8,B3 LM,NOLAN,2970.5,15.586,0.548,1.257,13.538,4.656,2,0.667\\r\\n8,B3 LM,NOLAN,2971,15,0.574,1.316,12.112,4.336,2,0.583\\r\\n8,B3 LM,NOLAN,2971.5,13.617,0.596,1.367,11.133,4.441,2,0.5\\r\\n8,B3 LM,NOLAN,2972,16.25,0.624,0.521,9.831,4.547,2,0.417\\r\\n8,B3 LM,NOLAN,2972.5,18.781,0.626,-0.205,8.994,4.711,2,0.333\\r\\n8,B3 LM,NOLAN,2973,23.219,0.602,-0.073,7.641,4.582,2,0.25\\r\\n8,B3 LM,NOLAN,2973.5,28.328,0.565,2.51,8.281,3.936,2,0.167\\r\\n8,B3 LM,NOLAN,2974,45.063,0.533,4.381,11.293,3.328,2,0.083\\r\\n2,B4 SH,NOLAN,2974.5,65.125,0.523,5.516,14.943,2.809,1,1\\r\\n2,B4 SH,NOLAN,2975,83.938,0.526,3.957,16.355,2.709,1,0.958\\r\\n2,B4 SH,NOLAN,2975.5,82.563,0.515,2.854,14.334,2.936,1,0.917\\r\\n2,B4 SH,NOLAN,2976,75.5,0.493,1.497,11.491,3.275,1,0.875\\r\\n2,B4 SH,NOLAN,2976.5,66,0.473,1.604,9.773,3.52,1,0.833\\r\\n2,B4 SH,NOLAN,2977,67.313,0.473,1.75,9.236,3.4,1,0.792\\r\\n2,B4 SH,NOLAN,2977.5,71.5,0.507,1.75,9.236,3.4,1,0.75\\r\\n2,B4 SH,NOLAN,2978,81.25,0.564,2.996,10.481,3.316,1,0.708\\r\\n2,B4 SH,NOLAN,2978.5,90.375,0.614,4.566,11.596,3.147,1,0.667\\r\\n2,B4 SH,NOLAN,2979,92.813,0.646,5.413,12.898,3.184,1,0.625\\r\\n2,B4 SH,NOLAN,2979.5,87.125,0.66,4.698,12.294,3.109,1,0.583\\r\\n2,B4 SH,NOLAN,2980,77.563,0.658,2.914,10.856,3.238,1,0.542\\r\\n2,B4 SH,NOLAN,2980.5,73.375,0.655,1.93,8.959,3.336,1,0.5\\r\\n2,B4 SH,NOLAN,2981,73.438,0.663,1.241,8.036,3.371,1,0.458\\r\\n2,B4 SH,NOLAN,2981.5,75.25,0.664,1.355,7.922,3.289,1,0.417\\r\\n2,B4 SH,NOLAN,2982,76.938,0.651,1.622,8.534,3.127,1,0.375\\r\\n2,B4 SH,NOLAN,2982.5,80.188,0.611,1.913,9.171,3.106,1,0.333\\r\\n2,B4 SH,NOLAN,2983,88.5,0.564,1.97,9.456,3.275,1,0.292\\r\\n2,B4 SH,NOLAN,2983.5,98.5,0.526,1.98,10.032,3.277,1,0.25\\r\\n2,B4 SH,NOLAN,2984,107.125,0.519,4.313,13.167,3.26,1,0.208\\r\\n2,B4 SH,NOLAN,2984.5,108.75,0.535,6.545,20.311,2.822,1,0.167\\r\\n3,B4 SH,NOLAN,2985,94.563,0.549,9.423,25.587,2.816,1,0.125\\r\\n5,B4 LM,NOLAN,2985.5,66.813,0.567,6.296,23.489,3.065,1,0.083\\r\\n8,B4 LM,NOLAN,2986,38.781,0.588,1.993,17.245,4.199,1,0.042\\r\\n8,B4 LM,NOLAN,2986.5,21.016,0.611,-0.483,11.225,5.238,2,1\\r\\n8,B4 LM,NOLAN,2987,17.484,0.665,0.898,6.67,5.551,2,0.9\\r\\n8,B4 LM,NOLAN,2987.5,16.234,0.753,-0.429,6.483,5.336,2,0.8\\r\\n8,B4 LM,NOLAN,2988,16.672,0.832,-0.616,6.524,5.586,2,0.7\\r\\n8,B4 LM,NOLAN,2988.5,20.172,0.903,1.022,6.449,4.809,2,0.6\\r\\n4,B4 LM,NOLAN,2989,26.953,0.949,2.365,7.108,4.602,2,0.5\\r\\n5,B4 LM,NOLAN,2989.5,37.594,0.931,2.837,7.124,4.586,2,0.4\\r\\n5,B4 LM,NOLAN,2990,41.188,0.838,2.13,6.756,5.32,2,0.3\\r\\n5,B4 LM,NOLAN,2990.5,43.531,0.684,1.667,5.608,5.254,2,0.2\\r\\n6,B4 LM,NOLAN,2991,42.594,0.524,2.746,8.29,3.469,2,0.1\\r\\n6,B4 LM,NOLAN,2991.5,54.031,0.385,3.715,15.084,2.94,1,1\\r\\n3,B5 SH,NOLAN,2992,69.5,0.269,6.086,22.478,2.617,1,0.875\\r\\n3,B5 SH,NOLAN,2992.5,74.625,0.182,6.257,24.017,2.855,1,0.75\\r\\n3,B5 SH,NOLAN,2993,63.75,0.114,7.445,23.609,2.914,1,0.625\\r\\n3,B5 SH,NOLAN,2993.5,49.469,0.056,9.376,23.827,2.998,1,0.5\\r\\n3,B5 SH,NOLAN,2994,47.656,0.012,9.334,24.357,3.092,1,0.375\\r\\n3,B5 SH,NOLAN,2994.5,49.375,-0.013,8.292,23.544,3.191,1,0.25\\r\\n4,B5 LM,NOLAN,2995,48.031,-0.019,5.381,20.059,3.592,1,0.125\\r\\n8,B5 LM,NOLAN,2995.5,43.25,-0.012,3.818,17.813,4.191,2,1\\r\\n8,B5 LM,NOLAN,2996,35.844,0.014,2.117,17.024,4.93,2,0.972\\r\\n8,B5 LM,NOLAN,2996.5,28.859,0.046,1.619,17.326,5.102,2,0.944\\r\\n8,B5 LM,NOLAN,2997,22.609,0.077,1.674,17.955,5.156,2,0.917\\r\\n8,B5 LM,NOLAN,2997.5,22.188,0.098,1.674,17.955,5.156,2,0.889\\r\\n8,B5 LM,NOLAN,2998,22.266,0.102,0.886,17.962,5.254,2,0.861\\r\\n8,B5 LM,NOLAN,2998.5,30.328,0.098,0.404,18.053,5.102,2,0.833\\r\\n8,B5 LM,NOLAN,2999,35.313,0.1,0.103,17.524,4.805,2,0.806\\r\\n8,B5 LM,NOLAN,2999.5,46.313,0.118,0.657,17.166,4.613,2,0.778\\r\\n8,B5 LM,NOLAN,3000,56.594,0.152,0.772,17.392,5.074,2,0.75\\r\\n8,B5 LM,NOLAN,3000.5,64.938,0.192,0.79,16.153,6.371,2,0.722\\r\\n8,B5 LM,NOLAN,3001,65,0.225,1.096,13.26,8.063,2,0.694\\r\\n8,B5 LM,NOLAN,3001.5,66.438,0.249,2.656,9.112,7.172,2,0.667\\r\\n8,B5 LM,NOLAN,3002,80.5,0.265,4.468,7.153,6.094,2,0.639\\r\\n8,B5 LM,NOLAN,3002.5,93.313,0.282,5.942,8.17,5.77,2,0.611\\r\\n8,B5 LM,NOLAN,3003,103.125,0.295,5.154,11.154,5.332,2,0.583\\r\\n8,B5 LM,NOLAN,3003.5,114.25,0.281,4.109,14.104,5.07,2,0.556\\r\\n8,B5 LM,NOLAN,3004,131.625,0.252,2.51,15.703,5.094,2,0.528\\r\\n8,B5 LM,NOLAN,3004.5,141.75,0.22,1.815,16.154,5.465,2,0.5\\r\\n8,B5 LM,NOLAN,3005,129.5,0.192,1.351,15.69,5.82,2,0.472\\r\\n8,B5 LM,NOLAN,3005.5,120.25,0.176,1.303,15.982,5.324,2,0.444\\r\\n8,B5 LM,NOLAN,3006,106.625,0.172,2.035,16.374,5.129,2,0.417\\r\\n8,B5 LM,NOLAN,3006.5,105,0.18,2.762,16.867,4.633,2,0.389\\r\\n8,B5 LM,NOLAN,3007,97.438,0.194,2.51,16.387,4.77,2,0.361\\r\\n8,B5 LM,NOLAN,3007.5,97.688,0.215,1.906,15.672,4.754,2,0.333\\r\\n5,B5 LM,NOLAN,3008,105.875,0.243,1.906,15.672,4.754,2,0.306\\r\\n5,B5 LM,NOLAN,3008.5,135.625,0.279,1.313,15.191,5.074,2,0.278\\r\\n5,B5 LM,NOLAN,3009,164.25,0.323,1.41,14.264,4.984,2,0.25\\r\\n5,B5 LM,NOLAN,3009.5,168.375,0.376,1.364,13.528,4.836,2,0.222\\r\\n8,B5 LM,NOLAN,3010,137.875,0.434,0.981,12.349,4.977,2,0.194\\r\\n8,B5 LM,NOLAN,3010.5,98.188,0.484,0.99,12.242,5.039,2,0.167\\r\\n8,B5 LM,NOLAN,3011,79.188,0.519,0.655,11.796,5.141,2,0.139\\r\\n6,B5 LM,NOLAN,3011.5,76.188,0.529,-0.093,10.591,4.699,2,0.111\\r\\n6,B5 LM,NOLAN,3012,88.25,0.52,-0.871,9.123,4.574,2,0.083\\r\\n8,B5 LM,NOLAN,3012.5,102.75,0.512,0.179,8.805,4.602,2,0.056\\r\\n8,B5 LM,NOLAN,3013,107.563,0.517,3.99,11.586,4.754,2,0.028\\r\\n3,C SH,NOLAN,3013.5,110.938,0.517,8.549,14.888,3.9,1,1\\r\\n3,C SH,NOLAN,3014,104,0.501,9.149,16.974,3.231,1,0.974\\r\\n3,C SH,NOLAN,3014.5,98.563,0.474,5.552,18.862,2.744,1,0.947\\r\\n3,C SH,NOLAN,3015,91.125,0.447,3.698,17.347,2.805,1,0.921\\r\\n3,C SH,NOLAN,3015.5,93.125,0.425,3.835,16.233,3.076,1,0.895\\r\\n3,C SH,NOLAN,3016,101.938,0.422,6.177,15.259,3.545,1,0.868\\r\\n3,C SH,NOLAN,3016.5,107.313,0.426,6.533,16.416,3.492,1,0.842\\r\\n3,C SH,NOLAN,3017,112.563,0.424,7.422,17.188,3.381,1,0.816\\r\\n3,C SH,NOLAN,3017.5,110.375,0.427,6.891,16.546,3.289,1,0.789\\r\\n3,C SH,NOLAN,3018,113.5,0.434,8.294,16.803,3.184,1,0.763\\r\\n3,C SH,NOLAN,3018.5,107.938,0.438,7.729,18.296,3.16,1,0.737\\r\\n3,C SH,NOLAN,3019,103.5,0.448,7.826,19.762,3.15,1,0.711\\r\\n3,C SH,NOLAN,3019.5,100.25,0.467,5.943,19.253,3.211,1,0.684\\r\\n3,C SH,NOLAN,3020,94.5,0.483,5.733,18.242,3.299,1,0.658\\r\\n3,C SH,NOLAN,3020.5,94,0.502,5.628,16.54,3.625,1,0.632\\r\\n2,C SH,NOLAN,3021,91.188,0.526,6.157,16.841,3.656,1,0.605\\r\\n2,C SH,NOLAN,3021.5,89.938,0.545,6.614,16.725,3.83,1,0.579\\r\\n3,C SH,NOLAN,3022,86.5,0.562,7.713,17.14,3.617,1,0.553\\r\\n3,C SH,NOLAN,3022.5,77.938,0.576,7.04,15.665,3.609,1,0.526\\r\\n2,C SH,NOLAN,3023,76.813,0.582,6.162,14.443,3.682,1,0.5\\r\\n2,C SH,NOLAN,3023.5,77.688,0.585,4.795,13.076,3.836,1,0.474\\r\\n2,C SH,NOLAN,3024,77.563,0.593,4.761,13.159,4.262,1,0.447\\r\\n2,C SH,NOLAN,3024.5,78.563,0.595,4.461,12.97,4.102,1,0.421\\r\\n2,C SH,NOLAN,3025,76,0.593,4.411,13.265,3.957,1,0.395\\r\\n2,C SH,NOLAN,3025.5,80.688,0.591,4.974,12.799,3.75,1,0.368\\r\\n2,C SH,NOLAN,3026,82.125,0.585,6.129,13.158,3.871,1,0.342\\r\\n2,C SH,NOLAN,3026.5,84.5,0.57,6.155,13.523,3.973,1,0.316\\r\\n2,C SH,NOLAN,3027,86.688,0.557,5.999,13.484,3.674,1,0.289\\r\\n2,C SH,NOLAN,3027.5,87.25,0.546,5.884,13.598,3.596,1,0.263\\r\\n2,C SH,NOLAN,3028,87.375,0.531,6.392,13.188,3.467,1,0.237\\r\\n2,C SH,NOLAN,3028.5,87,0.518,5.941,13.883,3.676,1,0.211\\r\\n2,C SH,NOLAN,3029,97.375,0.519,7.357,15.299,3.641,1,0.184\\r\\n2,C SH,NOLAN,3029.5,100.563,0.515,6.842,17.865,3.365,1,0.158\\r\\n2,C SH,NOLAN,3030,102.625,0.516,6.555,18.152,3.242,1,0.132\\r\\n2,C SH,NOLAN,3030.5,93.75,0.53,3.788,17.209,3.176,1,0.105\\r\\n3,C SH,NOLAN,3031,94.938,0.562,6.043,16.955,3.318,1,0.079\\r\\n8,C LM,NOLAN,3031.5,81.125,0.597,5.83,19.023,3.131,1,0.053\\r\\n8,C LM,NOLAN,3032,58.188,0.643,6.517,15.26,3.334,1,0.026\\r\\n8,C LM,NOLAN,3032.5,32.969,0.69,2.971,11.14,3.518,2,1\\r\\n8,C LM,NOLAN,3033,20.969,0.734,2.578,6.748,4.121,2,0.991\\r\\n8,C LM,NOLAN,3033.5,14.461,0.782,1.403,6.947,4,2,0.982\\r\\n8,C LM,NOLAN,3034,13.609,0.859,0.948,7.059,4.305,2,0.973\\r\\n8,C LM,NOLAN,3034.5,13.25,0.908,-0.063,7.534,4.555,2,0.964\\r\\n8,C LM,NOLAN,3035,19.219,0.909,0.336,7.476,4.731,2,0.955\\r\\n8,C LM,NOLAN,3035.5,19.641,0.888,0.842,7.41,3.815,2,0.946\\r\\n5,C LM,NOLAN,3036,24.266,0.862,1.437,6.864,3.117,2,0.938\\r\\n5,C LM,NOLAN,3036.5,26.141,0.818,1.16,7.727,2.75,2,0.929\\r\\n5,C LM,NOLAN,3037,29.594,0.773,2.348,8.687,2.957,2,0.92\\r\\n5,C LM,NOLAN,3037.5,32.938,0.734,3.005,10.374,3.078,2,0.911\\r\\n5,C LM,NOLAN,3038,36.844,0.697,3.034,12.005,3.283,2,0.902\\r\\n5,C LM,NOLAN,3038.5,44.188,0.667,2.897,12.435,3.172,2,0.893\\r\\n5,C LM,NOLAN,3039,50.625,0.661,3.849,12.703,3.031,2,0.884\\r\\n4,C LM,NOLAN,3039.5,57,0.672,5.339,12.825,2.932,2,0.875\\r\\n4,C LM,NOLAN,3040,57.469,0.69,5.764,13.132,2.943,2,0.866\\r\\n4,C LM,NOLAN,3040.5,48.531,0.709,5.243,12.384,3.182,2,0.857\\r\\n5,C LM,NOLAN,3041,40.469,0.728,3.199,10.228,3.137,2,0.848\\r\\n6,C LM,NOLAN,3041.5,32.813,0.752,1.314,8.11,3.356,2,0.839\\r\\n5,C LM,NOLAN,3042,38.563,0.79,0.809,6.809,3.557,2,0.83\\r\\n5,C LM,NOLAN,3042.5,46.906,0.844,1.924,7.696,3.481,2,0.821\\r\\n5,C LM,NOLAN,3043,54.594,0.896,2.275,8.614,3.354,2,0.813\\r\\n5,C LM,NOLAN,3043.5,51.219,0.931,1.239,8.38,3.443,2,0.804\\r\\n5,C LM,NOLAN,3044,40.688,0.94,-0.242,6.443,3.871,2,0.795\\r\\n5,C LM,NOLAN,3044.5,34.406,0.939,-0.591,5.181,4.105,2,0.786\\r\\n5,C LM,NOLAN,3045,31.297,0.95,-0.182,4.333,4.109,2,0.777\\r\\n5,C LM,NOLAN,3045.5,36.469,0.967,0.169,4.567,4.125,2,0.768\\r\\n5,C LM,NOLAN,3046,38.906,0.972,0.217,4.959,4.098,2,0.759\\r\\n5,C LM,NOLAN,3046.5,41.906,0.969,0.117,5.889,3.783,2,0.75\\r\\n5,C LM,NOLAN,3047,38.719,0.957,0.069,6.181,3.594,2,0.741\\r\\n5,C LM,NOLAN,3047.5,38.125,0.938,0.288,6.744,3.57,2,0.732\\r\\n5,C LM,NOLAN,3048,41.969,0.915,0.516,6.516,3.65,2,0.723\\r\\n5,C LM,NOLAN,3048.5,45.031,0.89,1.186,6.04,3.955,2,0.714\\r\\n5,C LM,NOLAN,3049,47.125,0.864,2.279,5.191,4.242,2,0.705\\r\\n5,C LM,NOLAN,3049.5,57.75,0.838,1.948,7.036,4.402,2,0.696\\r\\n4,C LM,NOLAN,3050,68.375,0.82,2.926,9.037,4.383,2,0.688\\r\\n6,C LM,NOLAN,3050.5,77.313,0.814,3.614,10.644,4.172,2,0.679\\r\\n6,C LM,NOLAN,3051,66.313,0.815,4.063,10.976,4.207,2,0.67\\r\\n8,C LM,NOLAN,3051.5,61.406,0.811,3.186,9.753,4.066,2,0.661\\r\\n8,C LM,NOLAN,3052,62.438,0.808,2.053,8.738,4.172,2,0.652\\r\\n8,C LM,NOLAN,3052.5,80.875,0.806,1.712,7.712,3.951,2,0.643\\r\\n8,C LM,NOLAN,3053,96.5,0.817,1.956,7.272,3.963,2,0.634\\r\\n8,C LM,NOLAN,3053.5,120.188,0.839,2.635,7.033,3.877,2,0.625\\r\\n8,C LM,NOLAN,3054,165.625,0.868,3.205,7.147,4.148,2,0.616\\r\\n4,C LM,NOLAN,3054.5,219.375,0.89,3.504,8.019,4.023,2,0.607\\r\\n4,C LM,NOLAN,3055,247.5,0.909,3.195,8.622,3.885,2,0.598\\r\\n4,C LM,NOLAN,3055.5,216.75,0.92,2.845,8.728,3.818,2,0.589\\r\\n4,C LM,NOLAN,3056,166.625,0.927,2.713,8.029,4.027,2,0.58\\r\\n4,C LM,NOLAN,3056.5,119.063,0.933,2.689,8.005,4.422,2,0.571\\r\\n4,C LM,NOLAN,3057,96.563,0.939,2.528,7.726,4.469,2,0.563\\r\\n4,C LM,NOLAN,3057.5,78.188,0.939,2.023,8.134,4.371,2,0.554\\r\\n4,C LM,NOLAN,3058,78.188,0.938,2.249,8.249,4.062,2,0.545\\r\\n4,C LM,NOLAN,3058.5,70.75,0.936,2.249,8.249,4.062,2,0.536\\r\\n4,C LM,NOLAN,3059,61.5,0.932,2.12,8.231,4.137,2,0.527\\r\\n4,C LM,NOLAN,3059.5,56.813,0.926,1.909,8.248,4.105,2,0.518\\r\\n4,C LM,NOLAN,3060,52.281,0.921,1.109,8.022,3.965,2,0.509\\r\\n4,C LM,NOLAN,3060.5,48.438,0.913,1.534,8.329,3.674,2,0.5\\r\\n9,C LM,Recruit F9,3018,32.78,0.723,1.2,13.11,5.1,2,0.186\\r\\n9,C LM,Recruit F9,3018.5,23.5,0.711,0.3,12.3,5.2,2,0.176\\r\\n9,C LM,Recruit F9,3019,28.33,0.706,0.5,11.79,5.3,2,0.167\\r\\n9,C LM,Recruit F9,3019.5,31.12,0.704,1.7,11.325,5.3,2,0.157\\r\\n9,C LM,Recruit F9,3020,28.68,0.709,1.9,11.165,5.4,2,0.147\\r\\n9,C LM,Recruit F9,3020.5,31.67,0.721,1.6,10.535,5.4,2,0.137\\r\\n9,C LM,Recruit F9,3021,39.75,0.733,0.9,10.04,5.5,2,0.127\\r\\n9,C LM,Recruit F9,3021.5,36.56,0.747,2,8.545,5.3,2,0.118\\r\\n9,C LM,Recruit F9,3022,36.56,0.747,2,8.545,5.3,2,0.118\\r\\n9,C LM,Recruit F9,3022.5,37.21,0.764,2.7,7.73,5.6,2,0.108\\r\\n9,C LM,Recruit F9,3023,35.8,0.777,2.5,8.195,5.7,2,0.098\\r\\n9,C LM,Recruit F9,3023.5,36.56,0.784,1.4,10.29,5.8,2,0.088\\r\\n9,A1 LM,Recruit F9,2843,36.084,0.882,1.6,8.2,4.125,2,0.645\\r\\n9,A1 LM,Recruit F9,2843.5,29.344,0.897,0.1,7.25,4.23,2,0.632\\r\\n9,B2 LM,Recruit F9,2914,19.462,0.598,3.4,6.8,6.321,2,0.556\\r\\n9,B2 LM,Recruit F9,2914.5,19.552,0.581,3.1,6.95,6.16,2,0.519\\r\\n9,B2 LM,Recruit F9,2915,20.653,0.529,0.9,8.65,5.865,2,0.481\\r\\n9,B2 LM,Recruit F9,2915.5,23.371,0.45,-1,11.3,5.315,2,0.444\\r\\n9,B2 LM,Recruit F9,3009.5,31.453,0.899,0.99,12.242,4.52,2,0.833\\r\\n9,B2 LM,Recruit F9,3010,37.844,0.895,1.105,12.128,4.727,2,0.8\\r\\n9,B2 LM,Recruit F9,3010.5,43.313,0.898,0.916,12.512,4.687,2,0.767\\r\\n9,B2 LM,Recruit F9,3011,41.906,0.891,0.793,13.074,4.594,2,0.733\\r\\n9,B2 LM,Recruit F9,3011.5,35.063,0.878,0.492,13.229,4.867,2,0.7\\r\\n9,B2 LM,Recruit F9,3012,32.531,0.867,-0.022,12.376,4.93,2,0.667\\r\\n9,B2 LM,Recruit F9,3012.5,30.906,0.85,-1.111,11.17,5.352,2,0.633\\r\\n9,B2 LM,Recruit F9,3013,32.188,0.821,-1.42,9.721,4.961,2,0.6\\r\\n9,B2 LM,Recruit F9,3013.5,34.281,0.778,-1.263,9.076,5.012,2,0.567\\r\\n9,B2 LM,Recruit F9,3014,40.844,0.724,-0.57,8.284,4.652,2,0.533\\r\\n9,B5 LM,Recruit F9,3061.5,52.281,0.486,3.68,17.218,7.652,2,0.75\\r\\n9,B5 LM,Recruit F9,3062,48.125,0.479,4.463,18.34,7.598,2,0.733\\r\\n9,B5 LM,Recruit F9,3062.5,49.406,0.462,4.29,18.512,6.941,2,0.717\\r\\n9,B5 LM,Recruit F9,3063,42.688,0.429,3.075,19.239,5.539,2,0.7\\r\\n9,B5 LM,Recruit F9,3063.5,41.438,0.387,1.846,19.15,5.027,2,0.683\\r\\n9,B5 LM,Recruit F9,3064,37.219,0.348,0.672,19.006,5.144,2,0.667\\r\\n9,B5 LM,Recruit F9,3064.5,38.656,0.314,0.292,17.824,5.633,2,0.65\\r\\n9,B5 LM,Recruit F9,3065,43,0.283,0.828,17.336,6.231,2,0.633\\r\\n9,B5 LM,Recruit F9,3065.5,42.531,0.257,1.594,17.302,5.898,2,0.617\\r\\n9,B5 LM,Recruit F9,3066,41.188,0.234,1.921,17.512,5.754,2,0.6\\r\\n9,B5 LM,Recruit F9,3066.5,38.25,0.211,1.498,16.861,5.609,2,0.583\\r\\n9,B5 LM,Recruit F9,3067,39.219,0.184,1.629,15.851,6.711,2,0.567\\r\\n9,B5 LM,Recruit F9,3067.5,40.938,0.167,2.706,15.214,8.094,2,0.55\\r\\n9,B5 LM,Recruit F9,3068,38,0.158,3.576,15.857,6.902,2,0.533\\r\\n9,B5 LM,Recruit F9,3068.5,37.938,0.148,3.308,16.273,6.742,2,0.517\\r\\n9,B5 LM,Recruit F9,3069,35.156,0.133,3.224,16.99,6.18,2,0.5\\r\\n9,B5 LM,Recruit F9,3069.5,36.094,0.118,2.679,17.585,6.422,2,0.483\\r\\n9,B5 LM,Recruit F9,3070,37.063,0.106,2.082,19.158,5.484,2,0.467\\r\\n9,B5 LM,Recruit F9,3070.5,41,0.1,1.348,19.453,5.398,2,0.45\\r\\n9,B5 LM,Recruit F9,3071,42.031,0.106,1.723,18.688,5.297,2,0.433\\r\\n9,B5 LM,Recruit F9,3071.5,43.344,0.123,2.001,18.165,5.426,2,0.417\\r\\n9,B5 LM,Recruit F9,3072,40.906,0.151,1.666,17.719,4.93,2,0.4\\r\\n9,B5 LM,Recruit F9,3072.5,40.531,0.184,1.033,17.424,4.894,2,0.383\\r\\n9,B5 LM,Recruit F9,3073,39.5,0.227,0.945,16.536,5.047,2,0.367\\r\\n9,B5 LM,Recruit F9,3073.5,42.281,0.29,0.659,16.138,5.391,2,0.35\\r\\n9,B5 LM,Recruit F9,3074,46.063,0.366,0.74,15.764,5.652,2,0.333\\r\\n9,B5 LM,Recruit F9,3074.5,47.063,0.446,0.122,15.601,5.508,2,0.317\\r\\n9,B5 LM,Recruit F9,3075,45.719,0.516,0.398,16.106,5.352,2,0.3\\r\\n9,B5 LM,Recruit F9,3075.5,42.406,0.585,1.393,16.527,4.926,2,0.283\\r\\n9,B5 LM,Recruit F9,3076,41.594,0.643,2.044,16.266,4.875,2,0.267\\r\\n9,B5 LM,Recruit F9,3076.5,44.531,0.68,1.426,15.42,5.031,2,0.25\\r\\n9,B5 LM,Recruit F9,3077,49.25,0.707,0.181,13.491,6.062,2,0.233\\r\\n9,B5 LM,Recruit F9,3077.5,59.594,0.735,-0.061,11.536,6.227,2,0.217\\r\\n9,B5 LM,Recruit F9,3078,74,0.768,0.243,9.67,5.672,2,0.2\\r\\n9,B5 LM,Recruit F9,3078.5,127.5,0.802,1.28,8.876,4.406,2,0.183\\r\\n9,B5 LM,Recruit F9,3079,185.25,0.83,3.48,7.995,3.912,2,0.167\\r\\n9,B5 LM,Recruit F9,3079.5,222.5,0.852,4.614,6.959,3.557,2,0.15\\r\\n9,B5 LM,Recruit F9,3080,74,0.768,0.243,9.67,5.672,2,0.2\\r\\n9,C LM,Recruit F9,3104,18.297,1.294,0.227,2.8,4.66,2,0.952\\r\\n9,C LM,Recruit F9,3104.5,26.609,1.273,1.905,3.905,4.656,2,0.944\\r\\n3,A1 SH,NEWBY,2826,76.34,0.719,7.8,11,3.7,1,1\\r\\n3,A1 SH,NEWBY,2826.5,83.74,0.688,9.7,12.55,3.4,1,0.977\\r\\n3,A1 SH,NEWBY,2827,83.19,0.664,10.1,11.95,3.4,1,0.953\\r\\n3,A1 SH,NEWBY,2827.5,80.44,0.648,10.1,11.15,3.4,1,0.93\\r\\n3,A1 SH,NEWBY,2828,75.42,0.648,9.3,11.45,3.3,1,0.907\\r\\n3,A1 SH,NEWBY,2828.5,71.5,0.663,9.2,11.6,3.3,1,0.884\\r\\n3,A1 SH,NEWBY,2829,69.63,0.685,8.7,11.35,3.3,1,0.86\\r\\n3,A1 SH,NEWBY,2829.5,70.01,0.705,8.6,11.1,3.4,1,0.837\\r\\n3,A1 SH,NEWBY,2830,67.56,0.717,8.6,10.8,3.4,1,0.814\\r\\n3,A1 SH,NEWBY,2830.5,67.33,0.719,7.3,10.75,3.4,1,0.791\\r\\n3,A1 SH,NEWBY,2831,64.77,0.718,6.3,10.45,3.3,1,0.767\\r\\n3,A1 SH,NEWBY,2831.5,64.8,0.715,5.7,10.05,3.4,1,0.744\\r\\n2,A1 SH,NEWBY,2832,66.25,0.716,4.9,10.45,3.5,1,0.721\\r\\n2,A1 SH,NEWBY,2832.5,66.55,0.719,6.4,10.4,3.5,1,0.698\\r\\n2,A1 SH,NEWBY,2833,66.13,0.723,7.9,9.85,3.5,1,0.674\\r\\n2,A1 SH,NEWBY,2833.5,65.54,0.723,8.1,8.65,3.5,1,0.651\\r\\n2,A1 SH,NEWBY,2834,63.07,0.721,5.5,7.75,3.5,1,0.628\\r\\n2,A1 SH,NEWBY,2834.5,59.71,0.72,3.7,7.05,3.4,1,0.605\\r\\n2,A1 SH,NEWBY,2835,57.86,0.721,2.2,7.1,3.3,1,0.581\\r\\n2,A1 SH,NEWBY,2835.5,54.8,0.723,1,7.4,3.3,1,0.558\\r\\n2,A1 SH,NEWBY,2836,51.8,0.722,0.6,7.5,3.3,1,0.535\\r\\n2,A1 SH,NEWBY,2836.5,52.62,0.717,1.3,7.45,3.3,1,0.512\\r\\n2,A1 SH,NEWBY,2837,53.66,0.706,1.5,7.85,3.4,1,0.488\\r\\n2,A1 SH,NEWBY,2837.5,55.79,0.688,2.1,8.25,3.3,1,0.465\\r\\n2,A1 SH,NEWBY,2838,58.54,0.666,2.1,8.85,3.2,1,0.442\\r\\n2,A1 SH,NEWBY,2838.5,60.95,0.639,2.1,9.65,3.3,1,0.419\\r\\n2,A1 SH,NEWBY,2839,66.56,0.613,3.7,10.65,3.3,1,0.395\\r\\n2,A1 SH,NEWBY,2839.5,70.88,0.589,5.6,11.4,3.2,1,0.372\\r\\n2,A1 SH,NEWBY,2840,71.57,0.571,6.3,12.45,3.1,1,0.349\\r\\n3,A1 SH,NEWBY,2840.5,72.53,0.555,6.3,13.45,3.2,1,0.326\\r\\n3,A1 SH,NEWBY,2841,67.99,0.542,6.1,14.35,3.1,1,0.302\\r\\n2,A1 SH,NEWBY,2841.5,60.31,0.525,5,14.1,3.2,1,0.279\\r\\n2,A1 SH,NEWBY,2842,55.52,0.504,6.3,11.55,3.2,1,0.256\\r\\n2,A1 SH,NEWBY,2842.5,56.07,0.486,5,11,3.2,1,0.233\\r\\n2,A1 SH,NEWBY,2843,62.67,0.473,-2.6,15.8,3.2,1,0.209\\r\\n2,A1 SH,NEWBY,2843.5,66.9,0.471,-2.2,21.4,3.2,1,0.186\\r\\n2,A1 SH,NEWBY,2844,68.54,0.477,3.1,24.25,3.2,1,0.163\\r\\n2,A1 SH,NEWBY,2844.5,68.7,0.483,3.3,22.85,3.2,1,0.14\\r\\n5,A1 SH,NEWBY,2845,63.2,0.489,9.5,17.25,3.4,2,0.116\\r\\n5,A1 SH,NEWBY,2845.5,60.33,0.493,11.6,15.6,3.7,2,0.093\\r\\n5,A1 SH,NEWBY,2846,58.16,0.491,12.7,14.35,3.8,2,0.07\\r\\n5,A1 SH,NEWBY,2846.5,52.61,0.481,9.9,11.45,3.9,2,0.047\\r\\n3,A1 SH,NEWBY,2847,45.72,0.464,5.2,8.8,3.9,1,0.023\\r\\n6,A1 LM,NEWBY,2847.5,35.92,0.441,4.5,7.95,4,2,1\\r\\n6,A1 LM,NEWBY,2848,26.62,0.422,3.6,10.7,4.3,2,0.988\\r\\n7,A1 LM,NEWBY,2848.5,24.14,0.398,5.9,12.55,4,2,0.976\\r\\n7,A1 LM,NEWBY,2849,24.36,0.375,6.5,12.95,3.9,2,0.963\\r\\n7,A1 LM,NEWBY,2849.5,23.28,0.35,6.5,11.85,4.1,2,0.951\\r\\n7,A1 LM,NEWBY,2850,25.7,0.334,7.7,10.95,4.1,2,0.939\\r\\n7,A1 LM,NEWBY,2850.5,28.2,0.336,8.2,11.2,3.7,2,0.927\\r\\n7,A1 LM,NEWBY,2851,28.35,0.352,8.8,12.1,3.7,2,0.915\\r\\n7,A1 LM,NEWBY,2851.5,31.71,0.377,9,12.8,3.6,2,0.902\\r\\n7,A1 LM,NEWBY,2852,35.52,0.405,9.1,12.75,3.3,2,0.89\\r\\n7,A1 LM,NEWBY,2852.5,39.11,0.431,9.3,12.55,3.2,2,0.878\\r\\n5,A1 LM,NEWBY,2853,44.57,0.458,10.4,12.4,3.2,2,0.866\\r\\n5,A1 LM,NEWBY,2853.5,54.42,0.49,11.1,12.35,3.1,2,0.854\\r\\n5,A1 LM,NEWBY,2854,61.72,0.53,10.9,13.15,3.1,2,0.841\\r\\n5,A1 LM,NEWBY,2854.5,66.81,0.577,11.9,13.55,3.1,2,0.829\\r\\n4,A1 LM,NEWBY,2855,74.17,0.628,11.8,13.5,3.2,2,0.817\\r\\n4,A1 LM,NEWBY,2855.5,82.18,0.679,9.2,12.5,3.5,2,0.805\\r\\n4,A1 LM,NEWBY,2856,85.67,0.725,5.8,9.4,3.6,2,0.793\\r\\n4,A1 LM,NEWBY,2856.5,87.06,0.761,1.6,6.3,3.8,2,0.78\\r\\n4,A1 LM,NEWBY,2857,84.2,0.792,-1.2,4.6,3.8,2,0.768\\r\\n8,A1 LM,NEWBY,2857.5,83.45,0.823,-1.9,4.35,3.9,2,0.756\\r\\n8,A1 LM,NEWBY,2858,90.42,0.86,-1.3,5.75,3.9,2,0.744\\r\\n6,A1 LM,NEWBY,2858.5,100.83,0.898,1.7,7.65,3.8,2,0.732\\r\\n4,A1 LM,NEWBY,2859,108.34,0.93,4.9,9.65,3.9,2,0.72\\r\\n4,A1 LM,NEWBY,2859.5,107.75,0.946,6.5,9.85,3.9,2,0.707\\r\\n4,A1 LM,NEWBY,2860,92.63,0.945,5.3,8.55,3.8,2,0.695\\r\\n4,A1 LM,NEWBY,2860.5,70.46,0.935,1.9,6.25,3.7,2,0.683\\r\\n8,A1 LM,NEWBY,2861,55.67,0.924,-0.5,4.65,3.7,2,0.671\\r\\n8,A1 LM,NEWBY,2861.5,49.35,0.919,-1.2,4.1,3.6,2,0.659\\r\\n8,A1 LM,NEWBY,2862,46.82,0.918,-1,4.8,3.6,2,0.646\\r\\n8,A1 LM,NEWBY,2862.5,48.11,0.91,-0.1,6.65,3.8,2,0.634\\r\\n5,A1 LM,NEWBY,2863,51.66,0.886,1.5,8.65,3.7,2,0.622\\r\\n5,A1 LM,NEWBY,2863.5,49.73,0.847,3.2,10.1,3.6,2,0.61\\r\\n5,A1 LM,NEWBY,2864,51.46,0.801,4.1,11.25,3.6,2,0.598\\r\\n4,A1 LM,NEWBY,2864.5,54.67,0.757,5,12.1,3.6,2,0.585\\r\\n4,A1 LM,NEWBY,2865,56.96,0.721,5.2,12.4,3.6,2,0.573\\r\\n4,A1 LM,NEWBY,2865.5,58.67,0.693,6.2,12.7,3.6,2,0.561\\r\\n4,A1 LM,NEWBY,2866,61.19,0.675,6.6,12.9,3.6,2,0.549\\r\\n4,A1 LM,NEWBY,2866.5,60.77,0.666,6.7,13.25,3.7,2,0.537\\r\\n4,A1 LM,NEWBY,2867,60.99,0.661,6.2,13.5,3.7,2,0.524\\r\\n4,A1 LM,NEWBY,2867.5,63.65,0.658,6.1,13.75,3.6,2,0.512\\r\\n4,A1 LM,NEWBY,2868,66.98,0.654,6,13.8,3.5,2,0.5\\r\\n4,A1 LM,NEWBY,2868.5,68.44,0.646,5.5,14.35,3.5,2,0.488\\r\\n4,A1 LM,NEWBY,2869,71.39,0.638,5,14.8,3.4,2,0.476\\r\\n4,A1 LM,NEWBY,2869.5,73.08,0.63,5.2,14.5,3.3,2,0.463\\r\\n4,A1 LM,NEWBY,2870,71.86,0.624,4.9,14.75,3.3,2,0.451\\r\\n4,A1 LM,NEWBY,2870.5,71.83,0.623,5.2,14.9,3.3,2,0.439\\r\\n4,A1 LM,NEWBY,2871,70.27,0.624,5.8,15.1,3.3,2,0.427\\r\\n4,A1 LM,NEWBY,2871.5,69.65,0.626,6.2,14.8,3.4,2,0.415\\r\\n4,A1 LM,NEWBY,2872,66.78,0.631,5.7,14.15,3.5,2,0.402\\r\\n4,A1 LM,NEWBY,2872.5,64.06,0.638,5.9,12.95,3.5,2,0.39\\r\\n4,A1 LM,NEWBY,2873,60.24,0.651,5.1,11.65,3.5,2,0.378\\r\\n4,A1 LM,NEWBY,2873.5,58.25,0.667,4.2,11.4,3.4,2,0.366\\r\\n6,A1 LM,NEWBY,2874,56.79,0.687,3.5,10.95,3.4,2,0.354\\r\\n6,A1 LM,NEWBY,2874.5,58,0.703,1.8,10.5,3.3,2,0.341\\r\\n6,A1 LM,NEWBY,2875,60.75,0.71,0.8,10.6,3.3,2,0.329\\r\\n4,A1 LM,NEWBY,2875.5,64.48,0.707,2.5,10.45,3.4,2,0.317\\r\\n4,A1 LM,NEWBY,2876,65.37,0.693,4.1,10.25,3.5,2,0.305\\r\\n4,A1 LM,NEWBY,2876.5,65.84,0.672,3.2,10.8,3.4,2,0.293\\r\\n4,A1 LM,NEWBY,2877,67.38,0.65,2.7,11.45,3.3,2,0.28\\r\\n4,A1 LM,NEWBY,2877.5,67.07,0.626,3,12,3.2,2,0.268\\r\\n4,A1 LM,NEWBY,2878,65.28,0.603,3.6,12.8,3,2,0.256\\r\\n4,A1 LM,NEWBY,2878.5,65.26,0.58,3.3,13.75,2.9,2,0.244\\r\\n4,A1 LM,NEWBY,2879,63.4,0.559,3.1,13.85,2.9,2,0.232\\r\\n4,A1 LM,NEWBY,2879.5,64.1,0.544,3,13.9,2.8,2,0.22\\r\\n4,A1 LM,NEWBY,2880,66.77,0.542,2.7,14.45,2.8,2,0.207\\r\\n4,A1 LM,NEWBY,2880.5,69.72,0.554,3.2,14.8,2.9,2,0.195\\r\\n4,A1 LM,NEWBY,2881,71,0.58,4.4,15.2,3.1,2,0.183\\r\\n4,A1 LM,NEWBY,2881.5,69.77,0.617,5.9,14.65,3.3,2,0.171\\r\\n4,A1 LM,NEWBY,2882,64.39,0.665,5.5,12.45,3.6,2,0.159\\r\\n4,A1 LM,NEWBY,2882.5,60.94,0.721,4.9,9.45,4,2,0.146\\r\\n4,A1 LM,NEWBY,2883,56.89,0.785,3.4,7.1,4.3,2,0.134\\r\\n6,A1 LM,NEWBY,2883.5,54.2,0.856,2.7,5.45,4.5,2,0.122\\r\\n6,A1 LM,NEWBY,2884,53.14,0.923,1.3,4.35,4.5,2,0.11\\r\\n6,A1 LM,NEWBY,2884.5,52.7,0.961,0.9,3.45,4.3,2,0.098\\r\\n6,A1 LM,NEWBY,2885,51.93,0.946,0.7,3.65,4.1,2,0.085\\r\\n8,A1 LM,NEWBY,2885.5,56.1,0.887,1.1,4.55,4,2,0.073\\r\\n8,A1 LM,NEWBY,2886,61.49,0.805,2.5,5.95,3.7,2,0.061\\r\\n5,A1 LM,NEWBY,2886.5,68.77,0.725,3.8,8.1,3.4,2,0.049\\r\\n5,A1 LM,NEWBY,2887,78.57,0.658,-0.6,14.2,3.2,2,0.037\\r\\n5,A1 LM,NEWBY,2887.5,85.47,0.61,-2.5,21.35,3,2,0.024\\r\\n5,A1 LM,NEWBY,2888,88.63,0.583,-0.6,28.2,3,2,0.012\\r\\n2,B1 SH,NEWBY,2888.5,88.97,0.569,-0.1,31.65,2.9,1,1\\r\\n3,B1 SH,NEWBY,2889,84.66,0.567,0.2,30.2,3.1,1,0.968\\r\\n3,B1 SH,NEWBY,2889.5,76.48,0.574,0.8,24.4,3.4,1,0.935\\r\\n3,B1 SH,NEWBY,2890,69.35,0.595,-0.7,18.45,3.5,1,0.903\\r\\n3,B1 SH,NEWBY,2890.5,63.07,0.63,7.7,10.55,3.9,1,0.871\\r\\n3,B1 SH,NEWBY,2891,59.01,0.675,7.8,9.3,4,1,0.839\\r\\n3,B1 SH,NEWBY,2891.5,59.94,0.719,8.8,8,4.1,1,0.806\\r\\n3,B1 SH,NEWBY,2892,61.89,0.75,6.5,9.45,4,1,0.774\\r\\n3,B1 SH,NEWBY,2892.5,63.84,0.763,6,10.1,3.8,1,0.742\\r\\n3,B1 SH,NEWBY,2893,65.13,0.76,6.8,10.7,3.8,1,0.71\\r\\n3,B1 SH,NEWBY,2893.5,65.86,0.745,6.8,11.2,3.7,1,0.677\\r\\n3,B1 SH,NEWBY,2894,64.98,0.728,7.3,11.25,3.7,1,0.645\\r\\n3,B1 SH,NEWBY,2894.5,63.13,0.713,6.7,11.25,3.6,1,0.613\\r\\n3,B1 SH,NEWBY,2895,61.3,0.702,6.7,10.65,3.6,1,0.581\\r\\n3,B1 SH,NEWBY,2895.5,59.07,0.695,6.6,10.5,3.5,1,0.548\\r\\n3,B1 SH,NEWBY,2896,54.86,0.691,4.8,9.9,3.4,1,0.516\\r\\n3,B1 SH,NEWBY,2896.5,52.06,0.688,3.1,9.45,3.2,1,0.484\\r\\n2,B1 SH,NEWBY,2897,50.25,0.682,1.9,8.85,3.1,1,0.452\\r\\n2,B1 SH,NEWBY,2897.5,49.94,0.671,1,8.6,3.1,1,0.419\\r\\n2,B1 SH,NEWBY,2898,49.52,0.656,0.5,8.45,3.2,1,0.387\\r\\n2,B1 SH,NEWBY,2898.5,50.38,0.644,0.9,8.35,3.3,1,0.355\\r\\n2,B1 SH,NEWBY,2899,51.74,0.633,1.7,8.85,3.3,1,0.323\\r\\n2,B1 SH,NEWBY,2899.5,54.38,0.623,3.3,9.95,3.4,1,0.29\\r\\n2,B1 SH,NEWBY,2900,57.35,0.613,5.7,10.75,3.3,1,0.258\\r\\n2,B1 SH,NEWBY,2900.5,60.11,0.6,7.2,11,3.3,1,0.226\\r\\n2,B1 SH,NEWBY,2901,60.58,0.589,8.6,11.4,3.2,1,0.194\\r\\n2,B1 SH,NEWBY,2901.5,62.39,0.59,8.2,12.6,3.1,1,0.161\\r\\n2,B1 SH,NEWBY,2902,64.39,0.605,3.8,15.3,3,1,0.129\\r\\n2,B1 SH,NEWBY,2902.5,63.97,0.632,0.4,19.4,3.1,1,0.097\\r\\n2,B1 SH,NEWBY,2903,58.9,0.664,1.6,20.6,3.4,1,0.065\\r\\n2,B1 SH,NEWBY,2903.5,49.15,0.69,-3.2,18.6,3.7,1,0.032\\r\\n3,B1 SH,NEWBY,2904,37.28,0.713,-3.7,13.05,4,1,0.01\\r\\n8,B1 LM,NEWBY,2904.5,37.28,0.713,-3.7,13.05,4,2,1\\r\\n8,B1 LM,NEWBY,2905,24.56,0.743,-1.9,9.55,4.5,2,0.974\\r\\n8,B1 LM,NEWBY,2905.5,18.18,0.785,-0.5,8.55,4.6,2,0.947\\r\\n8,B1 LM,NEWBY,2906,15.89,0.841,1.5,8.05,4.6,2,0.921\\r\\n8,B1 LM,NEWBY,2906.5,15.67,0.898,2.2,7.6,4.6,2,0.895\\r\\n8,B1 LM,NEWBY,2907,15.77,0.932,1,7.1,4.5,2,0.868\\r\\n8,B1 LM,NEWBY,2907.5,14.62,0.928,-0.1,6.35,4.5,2,0.842\\r\\n8,B1 LM,NEWBY,2908,13.92,0.886,-0.3,5.85,4.6,2,0.816\\r\\n8,B1 LM,NEWBY,2908.5,14,0.823,-0.2,6,4.4,2,0.789\\r\\n8,B1 LM,NEWBY,2909,15.63,0.759,0.1,7.05,4.1,2,0.763\\r\\n8,B1 LM,NEWBY,2909.5,18.49,0.708,0.8,9.2,3.9,2,0.737\\r\\n7,B1 LM,NEWBY,2910,23.27,0.664,3.3,10.25,3.8,2,0.711\\r\\n7,B1 LM,NEWBY,2910.5,29.04,0.627,5.5,10.85,3.6,2,0.684\\r\\n7,B1 LM,NEWBY,2911,33.5,0.597,6,9.9,3.6,2,0.658\\r\\n7,B1 LM,NEWBY,2911.5,35.92,0.575,7.3,8.65,3.7,2,0.632\\r\\n7,B1 LM,NEWBY,2912,37.3,0.572,7.4,8,3.8,2,0.605\\r\\n7,B1 LM,NEWBY,2912.5,37.93,0.587,5,8.9,3.9,2,0.579\\r\\n7,B1 LM,NEWBY,2913,37.01,0.622,2.6,9.1,4,2,0.553\\r\\n5,B1 LM,NEWBY,2913.5,34.72,0.671,0.6,8.8,4.2,2,0.526\\r\\n5,B1 LM,NEWBY,2914,33.39,0.723,-1.2,7.9,4.3,2,0.5\\r\\n6,B1 LM,NEWBY,2914.5,32.48,0.769,-1.6,6.8,4.4,2,0.474\\r\\n6,B1 LM,NEWBY,2915,30.69,0.806,-1.6,6.2,4.8,2,0.447\\r\\n6,B1 LM,NEWBY,2915.5,30.51,0.833,-0.5,5.45,4.8,2,0.421\\r\\n8,B1 LM,NEWBY,2916,29.42,0.846,0.3,4.95,4.7,2,0.395\\r\\n8,B1 LM,NEWBY,2916.5,30.47,0.842,-0.8,5.3,4.7,2,0.368\\r\\n6,B1 LM,NEWBY,2917,32.09,0.822,-1.4,6.4,4.7,2,0.342\\r\\n6,B1 LM,NEWBY,2917.5,32.14,0.79,-2.3,8.15,4.6,2,0.316\\r\\n8,B1 LM,NEWBY,2918,32.99,0.757,-4.5,10.25,4.5,2,0.289\\r\\n8,B1 LM,NEWBY,2918.5,31.58,0.727,-6.9,11.95,4.5,2,0.263\\r\\n8,B1 LM,NEWBY,2919,29.07,0.706,-7.3,12.75,4.4,2,0.237\\r\\n8,B1 LM,NEWBY,2919.5,29.97,0.693,-6.7,12.95,4.3,2,0.211\\r\\n8,B1 LM,NEWBY,2920,37.44,0.688,-5.5,12.25,4.3,2,0.184\\r\\n8,B1 LM,NEWBY,2920.5,52.59,0.687,-4.1,10.65,4.3,2,0.158\\r\\n6,B1 LM,NEWBY,2921,68.18,0.684,-2.3,8.35,4.1,2,0.132\\r\\n6,B1 LM,NEWBY,2921.5,80.25,0.674,-0.6,7.3,3.9,2,0.105\\r\\n8,B1 LM,NEWBY,2922,86.51,0.65,1.8,7.9,3.7,2,0.079\\r\\n8,B1 LM,NEWBY,2922.5,86.09,0.616,5.2,8.9,3.4,2,0.053\\r\\n4,B1 LM,NEWBY,2923,86.09,0.616,5.2,8.9,3.4,2,0.053\\r\\n4,B1 LM,NEWBY,2923.5,83.41,0.579,2.3,14.45,3.2,2,0.026\\r\\n3,B2 SH,NEWBY,2924,84.51,0.545,1.3,19.65,3.2,1,1\\r\\n3,B2 SH,NEWBY,2924.5,85.03,0.521,4.3,25.15,3.1,1,0.889\\r\\n3,B2 SH,NEWBY,2925,87.36,0.5,7.2,28.7,3.1,1,0.778\\r\\n2,B2 SH,NEWBY,2925.5,85.73,0.481,9.3,28.35,3.2,1,0.667\\r\\n2,B2 SH,NEWBY,2926,80.2,0.465,7,24.5,3.1,1,0.556\\r\\n2,B2 SH,NEWBY,2926.5,76.12,0.456,3.5,19.35,3.1,1,0.444\\r\\n2,B2 SH,NEWBY,2927,74.5,0.467,10.2,14.1,3.5,1,0.333\\r\\n2,B2 SH,NEWBY,2927.5,73.97,0.498,5.9,16.85,3.5,1,0.222\\r\\n3,B2 SH,NEWBY,2928,71.24,0.545,5.1,20.15,3.6,1,0.111\\r\\n3,B2 SH,NEWBY,2928.5,66.7,0.605,6.7,21.15,3.9,1,0.01\\r\\n6,B2 LM,NEWBY,2929,66.7,0.605,6.7,21.15,3.9,2,1\\r\\n6,B2 LM,NEWBY,2929.5,59.42,0.663,3.1,18.05,4.2,2,0.963\\r\\n6,B2 LM,NEWBY,2930,49,0.713,-0.2,13.7,4.3,2,0.926\\r\\n6,B2 LM,NEWBY,2930.5,39.46,0.76,-0.9,10.25,4.6,2,0.889\\r\\n9,B2 LM,NEWBY,2931,32.31,0.816,-4.2,10.3,4.7,2,0.852\\r\\n9,B2 LM,NEWBY,2931.5,26.09,0.886,-8.5,11.75,4.7,2,0.815\\r\\n9,B2 LM,NEWBY,2932,22.37,0.96,-10.4,12.2,4.7,2,0.778\\r\\n9,B2 LM,NEWBY,2932.5,19.97,1.01,-11.4,11.7,4.7,2,0.741\\r\\n9,B2 LM,NEWBY,2933,18.36,1.013,-11.1,10.25,4.9,2,0.704\\r\\n9,B2 LM,NEWBY,2933.5,16.5,0.964,-8.2,7.7,5,2,0.667\\r\\n9,B2 LM,NEWBY,2934,14.84,0.88,-5,5.7,5,2,0.63\\r\\n9,B2 LM,NEWBY,2934.5,15.72,0.786,-5.6,6.4,5,2,0.593\\r\\n8,B2 LM,NEWBY,2935,17.86,0.7,-6.3,8.45,4.9,2,0.556\\r\\n8,B2 LM,NEWBY,2935.5,19.9,0.623,-7.7,11.45,4.7,2,0.519\\r\\n8,B2 LM,NEWBY,2936,22.42,0.561,-9.5,14.45,4.6,2,0.481\\r\\n8,B2 LM,NEWBY,2936.5,22.62,0.517,-10.2,16.1,4.5,2,0.444\\r\\n8,B2 LM,NEWBY,2937,20.93,0.489,-9.8,16.2,4.4,2,0.407\\r\\n8,B2 LM,NEWBY,2937.5,19.85,0.48,-8.9,15.65,4.3,2,0.37\\r\\n8,B2 LM,NEWBY,2938,18.3,0.494,-7.7,14.65,4.1,2,0.333\\r\\n6,B2 LM,NEWBY,2938.5,19.39,0.531,-6.7,13.35,3.8,2,0.296\\r\\n6,B2 LM,NEWBY,2939,24.34,0.585,-5,11.2,3.8,2,0.259\\r\\n6,B2 LM,NEWBY,2939.5,29.67,0.646,-3.2,8.4,3.8,2,0.222\\r\\n6,B2 LM,NEWBY,2940,33.9,0.709,-2.2,6.3,3.8,2,0.185\\r\\n6,B2 LM,NEWBY,2940.5,39.83,0.757,-1.5,4.95,3.9,2,0.148\\r\\n6,B2 LM,NEWBY,2941,44.94,0.794,-0.4,4.7,3.9,2,0.111\\r\\n4,B2 LM,NEWBY,2941.5,48.55,0.814,0,6.2,3.8,2,0.074\\r\\n3,B3 SH,NEWBY,2942,57.21,0.779,3.8,8.5,3.6,1,1\\r\\n3,B3 SH,NEWBY,2942.5,60.19,0.732,3.8,9,3.5,1,0.952\\r\\n3,B3 SH,NEWBY,2943,60.63,0.684,4,9.4,3.4,1,0.905\\r\\n3,B3 SH,NEWBY,2943.5,64.74,0.645,-2.3,14.75,3.2,1,0.857\\r\\n3,B3 SH,NEWBY,2944,72.79,0.623,-2.9,18.95,3.1,1,0.81\\r\\n3,B3 SH,NEWBY,2944.5,78.41,0.614,-1.7,22.15,3,1,0.762\\r\\n3,B3 SH,NEWBY,2945,83.39,0.607,-0.9,21.65,3.1,1,0.714\\r\\n3,B3 SH,NEWBY,2945.5,82.25,0.6,1.9,17.85,3.3,1,0.667\\r\\n3,B3 SH,NEWBY,2946,75.88,0.592,7.3,12.25,3.4,1,0.619\\r\\n2,B3 SH,NEWBY,2946.5,72.24,0.589,2.9,12.45,3.3,1,0.571\\r\\n2,B3 SH,NEWBY,2947,67.99,0.589,3.5,11.95,3.2,1,0.524\\r\\n3,B3 SH,NEWBY,2947.5,65.41,0.59,3.9,11.45,3.3,1,0.476\\r\\n3,B3 SH,NEWBY,2948,64.93,0.588,3.3,10.65,3.3,1,0.429\\r\\n2,B3 SH,NEWBY,2948.5,61.87,0.579,1.8,11.1,3.2,1,0.381\\r\\n2,B3 SH,NEWBY,2949,59.81,0.565,3.9,10.85,3.2,1,0.333\\r\\n2,B3 SH,NEWBY,2949.5,60.59,0.547,5,11.6,3.2,1,0.286\\r\\n2,B3 SH,NEWBY,2950,65.68,0.529,6.1,11.75,3.2,1,0.238\\r\\n2,B3 SH,NEWBY,2950.5,73.12,0.519,7,12.1,3.2,1,0.19\\r\\n2,B3 SH,NEWBY,2951,77.69,0.52,8.5,12.85,3.3,1,0.143\\r\\n3,B3 SH,NEWBY,2951.5,77.23,0.537,10,13.9,3.4,1,0.095\\r\\n3,B3 SH,NEWBY,2952,72.51,0.567,11.2,14.1,3.5,1,0.048\\r\\n3,B3 SH,NEWBY,2952.5,59.53,0.605,10.2,13.3,3.9,1,0.01\\r\\n5,B3 LM,NEWBY,2953,59.53,0.605,10.2,13.3,3.9,2,1\\r\\n8,B3 LM,NEWBY,2953.5,46.1,0.644,6.5,12.45,4,2,0.9\\r\\n8,B3 LM,NEWBY,2954,34.9,0.68,2.6,8.5,4.3,2,0.8\\r\\n8,B3 LM,NEWBY,2954.5,27.06,0.711,-0.4,6.7,4.4,2,0.7\\r\\n8,B3 LM,NEWBY,2955,23.8,0.724,0.1,6.05,4.4,2,0.6\\r\\n8,B3 LM,NEWBY,2955.5,23.73,0.714,2.1,5.95,4.2,2,0.5\\r\\n8,B3 LM,NEWBY,2956,25.3,0.677,3.7,6.85,4,2,0.4\\r\\n8,B3 LM,NEWBY,2956.5,30.73,0.627,4.7,8.05,3.6,2,0.3\\r\\n5,B3 LM,NEWBY,2957,40.11,0.583,5.2,9.8,3.4,2,0.2\\r\\n9,B3 LM,NEWBY,2957.5,51.02,0.553,3.6,12.3,3.2,2,0.1\\r\\n3,B4 SH,NEWBY,2958,59.94,0.533,4.1,14.55,3.1,1,1\\r\\n3,B4 SH,NEWBY,2958.5,66.64,0.521,5.9,14.85,3,1,0.95\\r\\n2,B4 SH,NEWBY,2959,67.56,0.512,3.2,12.7,2.9,1,0.9\\r\\n2,B4 SH,NEWBY,2959.5,64.7,0.512,2.3,10.55,3,1,0.85\\r\\n2,B4 SH,NEWBY,2960,62.96,0.522,2.2,9.5,3.2,1,0.8\\r\\n2,B4 SH,NEWBY,2960.5,63.92,0.544,2.4,9.7,3.2,1,0.75\\r\\n3,B4 SH,NEWBY,2961,66.19,0.569,3.1,10.35,3.2,1,0.7\\r\\n2,B4 SH,NEWBY,2961.5,67.73,0.591,4.9,10.75,3.3,1,0.65\\r\\n2,B4 SH,NEWBY,2962,69.53,0.603,6,11.4,3.3,1,0.6\\r\\n2,B4 SH,NEWBY,2962.5,69.57,0.609,6.2,11.5,3.1,1,0.55\\r\\n2,B4 SH,NEWBY,2963,66.4,0.606,4.5,10.65,3.1,1,0.5\\r\\n2,B4 SH,NEWBY,2963.5,63.73,0.602,2.7,9.65,3.1,1,0.45\\r\\n2,B4 SH,NEWBY,2964,61.19,0.598,2.3,8.85,3.2,1,0.4\\r\\n2,B4 SH,NEWBY,2964.5,61.34,0.593,2.2,8.8,3.2,1,0.35\\r\\n2,B4 SH,NEWBY,2965,63.16,0.587,2.2,9.5,3.2,1,0.3\\r\\n2,B4 SH,NEWBY,2965.5,67.6,0.581,2.7,10.05,3.2,1,0.25\\r\\n2,B4 SH,NEWBY,2966,72.68,0.579,3.6,10.8,3.2,1,0.2\\r\\n2,B4 SH,NEWBY,2966.5,76.58,0.587,6.5,11.35,3.2,1,0.15\\r\\n3,B4 SH,NEWBY,2967,76.67,0.605,7.8,13.5,3.4,1,0.1\\r\\n3,B4 SH,NEWBY,2967.5,72.12,0.629,8.8,15.1,3.6,1,0.05\\r\\n8,B4 LM,NEWBY,2968,60.07,0.656,7.7,13.75,3.9,2,1\\r\\n8,B4 LM,NEWBY,2968.5,48.91,0.681,4.9,10.65,4.3,2,0.923\\r\\n8,B4 LM,NEWBY,2969,39.4,0.708,5.4,7.3,4.7,2,0.846\\r\\n8,B4 LM,NEWBY,2969.5,33.8,0.736,1.6,7.7,4.9,2,0.769\\r\\n6,B4 LM,NEWBY,2970,34.66,0.757,1.5,7.75,4.7,2,0.692\\r\\n6,B4 LM,NEWBY,2970.5,36.28,0.766,2.6,6.4,4.8,2,0.615\\r\\n6,B4 LM,NEWBY,2971,34.45,0.753,2.9,5.75,4.5,2,0.538\\r\\n6,B4 LM,NEWBY,2971.5,30.67,0.72,2.7,6.25,4.3,2,0.462\\r\\n5,B4 LM,NEWBY,2972,26.59,0.668,4.6,6.5,4.2,2,0.385\\r\\n5,B4 LM,NEWBY,2972.5,23.77,0.609,5.5,6.35,4,2,0.308\\r\\n6,B4 LM,NEWBY,2973,25.2,0.55,4.9,6.65,3.8,2,0.231\\r\\n6,B4 LM,NEWBY,2973.5,29.99,0.5,5.3,7.25,3.5,2,0.154\\r\\n4,B4 LM,NEWBY,2974,37.46,0.461,6.1,8.85,3.4,2,0.077\\r\\n2,B5 SH,NEWBY,2974.5,47.6,0.433,7.8,11.5,3.2,1,1\\r\\n2,B5 SH,NEWBY,2975,57.5,0.41,9.3,14.95,3,1,0.923\\r\\n3,B5 SH,NEWBY,2975.5,68.77,0.389,9.4,19,2.9,1,0.846\\r\\n3,B5 SH,NEWBY,2976,80.03,0.373,9.8,20.6,2.9,1,0.769\\r\\n3,B5 SH,NEWBY,2976.5,84.28,0.358,9,21.8,3,1,0.692\\r\\n3,B5 SH,NEWBY,2977,85.4,0.346,11.2,20.9,3.1,1,0.615\\r\\n3,B5 SH,NEWBY,2977.5,88.92,0.338,12.6,19.9,3.3,1,0.538\\r\\n3,B5 SH,NEWBY,2978,89.45,0.336,13.2,19.8,3.3,1,0.462\\r\\n3,B5 SH,NEWBY,2978.5,90.91,0.342,12.9,20.05,3.3,1,0.385\\r\\n3,B5 SH,NEWBY,2979,97.24,0.356,14.2,20.1,3.4,1,0.308\\r\\n3,B5 SH,NEWBY,2979.5,100.16,0.382,13,21.7,3.5,1,0.231\\r\\n3,B5 SH,NEWBY,2980,100.42,0.42,13.8,23,3.5,1,0.154\\r\\n3,B5 SH,NEWBY,2980.5,94.18,0.464,11.8,22.9,3.5,1,0.077\\r\\n3,B5 SH,NEWBY,2981,94.18,0.464,11.8,22.9,3.5,1,0.077\\r\\n8,B5 LM,NEWBY,2981.5,81.3,0.513,8.4,20.6,3.7,2,1\\r\\n8,B5 LM,NEWBY,2982,64.21,0.571,3.4,15,3.8,2,0.977\\r\\n8,B5 LM,NEWBY,2982.5,48.35,0.639,2.5,9.95,4.1,2,0.953\\r\\n8,B5 LM,NEWBY,2983,36.53,0.72,1.3,7.95,4.4,2,0.93\\r\\n8,B5 LM,NEWBY,2983.5,33.58,0.797,3.1,6.95,4.6,2,0.907\\r\\n6,B5 LM,NEWBY,2984,34.97,0.866,2.9,6.95,4.7,2,0.884\\r\\n6,B5 LM,NEWBY,2984.5,37.31,0.917,2.8,6.2,4.6,2,0.86\\r\\n5,B5 LM,NEWBY,2985,38.17,0.944,2.7,5.35,4.7,2,0.837\\r\\n5,B5 LM,NEWBY,2985.5,38.05,0.957,2.8,4.7,4.8,2,0.814\\r\\n5,B5 LM,NEWBY,2986,35.15,0.957,2.1,4.15,4.8,2,0.791\\r\\n5,B5 LM,NEWBY,2986.5,32.92,0.947,1.4,3.1,4.8,2,0.767\\r\\n5,B5 LM,NEWBY,2987,30.87,0.927,0.8,2.6,4.9,2,0.744\\r\\n6,B5 LM,NEWBY,2987.5,30.25,0.894,-0.4,3.3,4.9,2,0.721\\r\\n6,B5 LM,NEWBY,2988,31.22,0.846,-1.4,5.5,4.9,2,0.698\\r\\n6,B5 LM,NEWBY,2988.5,34.06,0.78,-1.9,7.95,4.8,2,0.674\\r\\n6,B5 LM,NEWBY,2989,35.49,0.704,-2.8,9.8,4.8,2,0.651\\r\\n6,B5 LM,NEWBY,2989.5,36.73,0.617,-3.2,10.7,4.9,2,0.628\\r\\n9,B5 LM,NEWBY,2990,37.54,0.542,-4.8,12.2,4.8,2,0.605\\r\\n9,B5 LM,NEWBY,2990.5,35.97,0.48,-5.7,14.35,4.7,2,0.581\\r\\n9,B5 LM,NEWBY,2991,35.91,0.433,-6.2,16.4,4.7,2,0.558\\r\\n9,B5 LM,NEWBY,2991.5,36.21,0.396,-7,17.3,4.7,2,0.535\\r\\n9,B5 LM,NEWBY,2992,34.79,0.371,-7.1,17.45,4.6,2,0.512\\r\\n9,B5 LM,NEWBY,2992.5,34.92,0.358,-7.1,17.75,4.6,2,0.488\\r\\n9,B5 LM,NEWBY,2993,35.83,0.358,-6.2,17.6,4.6,2,0.465\\r\\n9,B5 LM,NEWBY,2993.5,35.65,0.367,-4.9,16.65,4.6,2,0.442\\r\\n9,B5 LM,NEWBY,2994,37.74,0.375,-5.3,15.95,4.6,2,0.419\\r\\n9,B5 LM,NEWBY,2994.5,41.79,0.377,-5,14.9,4.5,2,0.395\\r\\n9,B5 LM,NEWBY,2995,46.41,0.369,-5.1,14.35,4.5,2,0.372\\r\\n9,B5 LM,NEWBY,2995.5,51.44,0.356,-6.1,14.95,4.5,2,0.349\\r\\n9,B5 LM,NEWBY,2996,54.21,0.344,-5.8,16.1,4.5,2,0.326\\r\\n9,B5 LM,NEWBY,2996.5,52.96,0.34,-5.3,17.45,4.6,2,0.302\\r\\n9,B5 LM,NEWBY,2997,50.39,0.346,-4.2,18.3,4.6,2,0.279\\r\\n9,B5 LM,NEWBY,2997.5,50,0.36,-3.7,17.55,4.6,2,0.256\\r\\n9,B5 LM,NEWBY,2998,60.82,0.384,-3.8,15.2,4.7,2,0.233\\r\\n9,B5 LM,NEWBY,2998.5,99.31,0.418,-3.4,11.6,4.6,2,0.209\\r\\n6,B5 LM,NEWBY,2999,166.94,0.464,-2.5,8.25,4.6,2,0.186\\r\\n6,B5 LM,NEWBY,2999.5,235.25,0.526,-0.1,5.85,4.6,2,0.163\\r\\n6,B5 LM,NEWBY,3000,285.47,0.599,3,4.6,4.4,2,0.14\\r\\n6,B5 LM,NEWBY,3000.5,305.87,0.666,4.4,4.8,4.3,2,0.116\\r\\n6,B5 LM,NEWBY,3001,291.37,0.703,4.9,5.05,4.2,2,0.093\\r\\n6,B5 LM,NEWBY,3001.5,252.41,0.7,4.2,5.9,3.9,2,0.07\\r\\n8,B5 LM,NEWBY,3002,208.53,0.669,0.3,10.15,3.6,2,0.047\\r\\n5,B5 LM,NEWBY,3002.5,169.07,0.631,-0.2,15,3.4,2,0.023\\r\\n3,C SH,NEWBY,3003,136.52,0.594,2.5,17.75,3.4,1,1\\r\\n3,C SH,NEWBY,3003.5,108.53,0.561,6.2,20.7,3.3,1,0.976\\r\\n3,C SH,NEWBY,3004,89.16,0.533,10.4,19.6,3.4,1,0.951\\r\\n3,C SH,NEWBY,3004.5,80.39,0.513,13.5,18.25,3.5,1,0.927\\r\\n3,C SH,NEWBY,3005,78.07,0.501,14.3,18.05,3.6,1,0.902\\r\\n3,C SH,NEWBY,3005.5,76.31,0.496,13.7,18.35,3.6,1,0.878\\r\\n3,C SH,NEWBY,3006,72.35,0.497,13.2,18.6,3.7,1,0.854\\r\\n3,C SH,NEWBY,3006.5,74.77,0.504,11.8,19.3,3.7,1,0.829\\r\\n3,C SH,NEWBY,3007,75.05,0.515,11.5,19.55,3.8,1,0.805\\r\\n3,C SH,NEWBY,3007.5,71.98,0.529,10.5,19.35,3.8,1,0.78\\r\\n3,C SH,NEWBY,3008,71.05,0.542,10.4,17.9,3.7,1,0.756\\r\\n3,C SH,NEWBY,3008.5,68.96,0.549,10.7,15.75,3.7,1,0.732\\r\\n2,C SH,NEWBY,3009,64.84,0.554,10.6,13.6,3.6,1,0.707\\r\\n2,C SH,NEWBY,3009.5,65.22,0.558,10.6,12.6,3.6,1,0.683\\r\\n2,C SH,NEWBY,3010,66.6,0.565,10.8,13.5,3.5,1,0.659\\r\\n2,C SH,NEWBY,3010.5,68.59,0.574,12.4,14.6,3.5,1,0.634\\r\\n2,C SH,NEWBY,3011,73.44,0.585,12.6,16.7,3.5,1,0.61\\r\\n2,C SH,NEWBY,3011.5,76.76,0.595,14.4,16.7,3.4,1,0.585\\r\\n2,C SH,NEWBY,3012,78.76,0.603,14.2,16.6,3.4,1,0.561\\r\\n2,C SH,NEWBY,3012.5,80.33,0.607,12.5,16.15,3.6,1,0.537\\r\\n2,C SH,NEWBY,3013,77.14,0.613,9.8,15.7,3.7,1,0.512\\r\\n2,C SH,NEWBY,3013.5,71.91,0.621,9.5,13.95,3.7,1,0.488\\r\\n2,C SH,NEWBY,3014,68.44,0.631,8.8,13,3.8,1,0.463\\r\\n2,C SH,NEWBY,3014.5,64.99,0.64,10.6,11.3,3.8,1,0.439\\r\\n2,C SH,NEWBY,3015,64.47,0.643,8.6,12.1,3.7,1,0.415\\r\\n2,C SH,NEWBY,3015.5,64.96,0.632,9.1,12.15,3.6,1,0.39\\r\\n2,C SH,NEWBY,3016,66.29,0.609,9.9,12.55,3.4,1,0.366\\r\\n2,C SH,NEWBY,3016.5,67.6,0.577,10.4,12.8,3.4,1,0.341\\r\\n2,C SH,NEWBY,3017,67.43,0.545,8,15.8,3.3,1,0.317\\r\\n2,C SH,NEWBY,3017.5,68.87,0.52,5.8,19.5,3.2,1,0.293\\r\\n2,C SH,NEWBY,3018,73.88,0.502,6.1,21.45,3.3,1,0.268\\r\\n2,C SH,NEWBY,3018.5,77.89,0.49,6.5,23.15,3.4,1,0.244\\r\\n2,C SH,NEWBY,3019,83.49,0.484,6.3,23.15,3.4,1,0.22\\r\\n2,C SH,NEWBY,3019.5,87.98,0.484,9.9,21.65,3.4,1,0.195\\r\\n2,C SH,NEWBY,3020,86.45,0.497,9.5,21.25,3.4,1,0.171\\r\\n2,C SH,NEWBY,3020.5,86.29,0.521,10.3,19.95,3.4,1,0.146\\r\\n2,C SH,NEWBY,3021,82.18,0.565,14.1,17.95,3.6,1,0.122\\r\\n2,C SH,NEWBY,3021.5,77.07,0.621,8.9,20.65,3.5,1,0.098\\r\\n2,C SH,NEWBY,3022,72.45,0.689,8.5,21.65,3.8,1,0.073\\r\\n2,C SH,NEWBY,3022.5,63.1,0.753,4.9,20.55,3.8,1,0.049\\r\\n2,C SH,NEWBY,3023,49.23,0.806,-1.4,15.3,3.9,1,0.024\\r\\n8,C LM,NEWBY,3023.5,37.7,0.852,0.8,9,4.3,2,1\\r\\n8,C LM,NEWBY,3024,26.37,0.89,2.4,6.1,4.5,2,0.989\\r\\n6,C LM,NEWBY,3024.5,19.57,0.916,0.6,7,4.5,2,0.978\\r\\n6,C LM,NEWBY,3025,17.32,0.916,0.4,7,4.3,2,0.966\\r\\n6,C LM,NEWBY,3025.5,17.09,0.891,0.2,6.1,4.1,2,0.955\\r\\n6,C LM,NEWBY,3026,19.53,0.856,-0.1,5.75,3.9,2,0.944\\r\\n6,C LM,NEWBY,3026.5,25.62,0.826,0.7,6.25,3.7,2,0.933\\r\\n6,C LM,NEWBY,3027,33.05,0.808,2.5,7.85,3.5,2,0.921\\r\\n6,C LM,NEWBY,3027.5,42.69,0.796,5.2,9.9,3.4,2,0.91\\r\\n6,C LM,NEWBY,3028,47.37,0.786,6.1,10.75,3.4,2,0.899\\r\\n6,C LM,NEWBY,3028.5,47.9,0.781,6,9.9,3.5,2,0.888\\r\\n6,C LM,NEWBY,3029,45.19,0.787,4.5,8.95,3.6,2,0.876\\r\\n6,C LM,NEWBY,3029.5,40.54,0.812,3.5,8.55,3.7,2,0.865\\r\\n6,C LM,NEWBY,3030,38.91,0.851,2.7,8.45,3.8,2,0.854\\r\\n6,C LM,NEWBY,3030.5,39.62,0.898,2.2,8.1,4.1,2,0.843\\r\\n6,C LM,NEWBY,3031,38.84,0.936,2.7,6.85,4,2,0.831\\r\\n6,C LM,NEWBY,3031.5,37.8,0.961,1,6,4.2,2,0.82\\r\\n6,C LM,NEWBY,3032,35.03,0.979,0.2,5.1,4.2,2,0.809\\r\\n6,C LM,NEWBY,3032.5,33.44,0.999,-0.3,4.95,4.1,2,0.798\\r\\n6,C LM,NEWBY,3033,36.21,1.024,0.1,5.75,3.9,2,0.787\\r\\n6,C LM,NEWBY,3033.5,40.89,1.05,1.4,6.8,3.9,2,0.775\\r\\n6,C LM,NEWBY,3034,43.3,1.063,2.6,7.4,3.9,2,0.764\\r\\n6,C LM,NEWBY,3034.5,43.27,1.06,1.9,7.05,3.7,2,0.753\\r\\n6,C LM,NEWBY,3035,38.84,1.048,0.3,5.45,3.8,2,0.742\\r\\n6,C LM,NEWBY,3035.5,35.26,1.04,-1,4.6,4,2,0.73\\r\\n6,C LM,NEWBY,3036,31.52,1.039,-1,4.4,3.9,2,0.719\\r\\n6,C LM,NEWBY,3036.5,34.32,1.042,0.4,4.7,3.9,2,0.708\\r\\n6,C LM,NEWBY,3037,37.35,1.043,1.5,5.65,4,2,0.697\\r\\n6,C LM,NEWBY,3037.5,39.69,1.035,2.4,6.4,4,2,0.685\\r\\n6,C LM,NEWBY,3038,43.08,1.024,2.1,7.05,3.9,2,0.674\\r\\n6,C LM,NEWBY,3038.5,46.27,1.015,1.5,7.15,3.8,2,0.663\\r\\n6,C LM,NEWBY,3039,47.77,1.009,1,7.4,3.8,2,0.652\\r\\n6,C LM,NEWBY,3039.5,49.96,1.008,0.3,7.45,3.9,2,0.64\\r\\n6,C LM,NEWBY,3040,51.09,1.008,1.3,6.65,4,2,0.629\\r\\n6,C LM,NEWBY,3040.5,50.21,1.007,1.6,5.7,4.1,2,0.618\\r\\n6,C LM,NEWBY,3041,50.4,1.003,2,5.5,4.1,2,0.607\\r\\n6,C LM,NEWBY,3041.5,50.99,0.994,3.1,5.75,4.2,2,0.596\\r\\n6,C LM,NEWBY,3042,49.18,0.973,3.4,6.6,4.2,2,0.584\\r\\n6,C LM,NEWBY,3042.5,48.64,0.94,4.1,6.85,4.1,2,0.573\\r\\n6,C LM,NEWBY,3043,47.11,0.909,3.9,7.25,4,2,0.562\\r\\n6,C LM,NEWBY,3043.5,48.61,0.889,2.9,7.85,3.9,2,0.551\\r\\n4,C LM,NEWBY,3044,55.32,0.888,3,8.3,3.9,2,0.539\\r\\n4,C LM,NEWBY,3044.5,60.5,0.907,4.2,9,3.9,2,0.528\\r\\n6,C LM,NEWBY,3045,69.16,0.939,6.3,9.45,4,2,0.517\\r\\n6,C LM,NEWBY,3045.5,77.53,0.979,6.6,8,4.2,2,0.506\\r\\n6,C LM,NEWBY,3046,76.88,1.022,4.3,6.15,4.4,2,0.494\\r\\n9,C LM,NEWBY,3046.5,70.4,1.064,2.4,4,4.4,2,0.483\\r\\n9,C LM,NEWBY,3047,63.2,1.101,1.4,2.4,4.3,2,0.472\\r\\n9,C LM,NEWBY,3047.5,53.89,1.118,-0.4,2.3,4.2,2,0.461\\r\\n9,C LM,NEWBY,3048,56.2,1.107,-1.2,2.7,4.2,2,0.449\\r\\n6,C LM,NEWBY,3048.5,78.23,1.074,-0.4,3.1,4.1,2,0.438\\r\\n6,C LM,NEWBY,3049,112.92,1.022,-0.8,5.1,4.1,2,0.427\\r\\n6,C LM,NEWBY,3049.5,144.15,0.963,0.4,7.7,4.1,2,0.416\\r\\n4,C LM,NEWBY,3050,157.21,0.899,4.1,9.95,4.4,2,0.404\\r\\n5,C LM,NEWBY,3050.5,152.6,0.839,5.6,11.4,4.2,2,0.393\\r\\n4,C LM,NEWBY,3051,140.93,0.792,6.1,12.25,4.1,2,0.382\\r\\n4,C LM,NEWBY,3051.5,122.45,0.761,6.6,13.3,4,2,0.371\\r\\n4,C LM,NEWBY,3052,110.67,0.748,7.5,15.15,3.9,2,0.36\\r\\n4,C LM,NEWBY,3052.5,108.85,0.754,7.3,15.85,3.6,2,0.348\\r\\n4,C LM,NEWBY,3053,105.74,0.775,8.5,16.05,3.6,2,0.337\\r\\n4,C LM,NEWBY,3053.5,100.04,0.803,9.5,16.85,3.7,2,0.326\\r\\n4,C LM,NEWBY,3054,92.64,0.828,9.5,16.05,3.9,2,0.315\\r\\n6,C LM,NEWBY,3054.5,80.47,0.841,6.8,12.5,4,2,0.303\\r\\n6,C LM,NEWBY,3055,66.94,0.838,4,8,4.2,2,0.292\\r\\n6,C LM,NEWBY,3055.5,54.06,0.823,1.9,5.45,4.3,2,0.281\\r\\n6,C LM,NEWBY,3056,47.87,0.797,0.7,4.85,4.4,2,0.27\\r\\n6,C LM,NEWBY,3056.5,49.34,0.763,2.3,4.85,4.1,2,0.258\\r\\n8,C LM,NEWBY,3057,59.88,0.721,3.2,7.2,3.9,2,0.247\\r\\n3,A1 SH,CHURCHMAN BIBLE,2917.5,63.5,0.705,4.916,12.174,3.162,1,1\\r\\n3,A1 SH,CHURCHMAN BIBLE,2918,80.875,0.709,7.514,13.286,2.932,1,0.95\\r\\n3,A1 SH,CHURCHMAN BIBLE,2918.5,87.813,0.7,7.785,13.212,2.953,1,0.9\\r\\n3,A1 SH,CHURCHMAN BIBLE,2919,86.75,0.685,7.547,13.547,3.42,1,0.85\\r\\n3,A1 SH,CHURCHMAN BIBLE,2919.5,79.438,0.669,5.912,12.252,3.324,1,0.8\\r\\n2,A1 SH,CHURCHMAN BIBLE,2920,77.5,0.658,4.537,11.332,3.324,1,0.75\\r\\n2,A1 SH,CHURCHMAN BIBLE,2920.5,72.75,0.658,3.974,11.114,3.127,1,0.7\\r\\n2,A1 SH,CHURCHMAN BIBLE,2921,76.563,0.671,4.98,14.746,2.818,1,0.65\\r\\n2,A1 SH,CHURCHMAN BIBLE,2921.5,79.625,0.686,4.552,18.202,2.684,1,0.6\\r\\n1,A1 SH,CHURCHMAN BIBLE,2922,74.25,0.687,3.621,17.961,2.557,1,0.55\\r\\n1,A1 SH,CHURCHMAN BIBLE,2922.5,71,0.679,1.003,14.769,2.787,1,0.5\\r\\n1,A1 SH,CHURCHMAN BIBLE,2923,67.438,0.66,0.746,11.998,2.795,1,0.45\\r\\n1,A1 SH,CHURCHMAN BIBLE,2923.5,70,0.643,1.838,10.809,2.635,1,0.4\\r\\n1,A1 SH,CHURCHMAN BIBLE,2924,66.438,0.644,2.744,11.025,2.621,1,0.35\\r\\n1,A1 SH,CHURCHMAN BIBLE,2924.5,67.25,0.652,2.922,11.776,2.59,1,0.3\\r\\n1,A1 SH,CHURCHMAN BIBLE,2925,71.563,0.661,3.286,12.485,2.9,1,0.25\\r\\n1,A1 SH,CHURCHMAN BIBLE,2925.5,70.125,0.68,5.487,13.312,3.063,1,0.2\\r\\n3,A1 SH,CHURCHMAN BIBLE,2926,69.25,0.734,4.784,13.527,3.01,1,0.1\\r\\n3,A1 SH,CHURCHMAN BIBLE,2926.5,65.625,0.77,1.439,10.182,3.277,1,0.05\\r\\n8,A1 LM,CHURCHMAN BIBLE,2927,53.125,0.826,1.122,4.835,4.008,2,1\\r\\n8,A1 LM,CHURCHMAN BIBLE,2927.5,40.25,0.873,-1.021,5.318,4.52,2,0.989\\r\\n8,A1 LM,CHURCHMAN BIBLE,2928,33.625,0.906,0.046,4.788,4.375,2,0.978\\r\\n8,A1 LM,CHURCHMAN BIBLE,2928.5,35.063,0.951,0.086,5.285,3.943,2,0.967\\r\\n8,A1 LM,CHURCHMAN BIBLE,2929,35.844,0.99,-0.207,5.676,3.58,2,0.957\\r\\n8,A1 LM,CHURCHMAN BIBLE,2929.5,39.594,1.003,-1.041,6.217,3.395,2,0.946\\r\\n6,A1 LM,CHURCHMAN BIBLE,2930,39.969,0.994,-1.57,6.599,3.467,2,0.935\\r\\n6,A1 LM,CHURCHMAN BIBLE,2930.5,40.688,0.984,-1.863,6.306,3.547,2,0.924\\r\\n6,A1 LM,CHURCHMAN BIBLE,2931,39.875,0.939,-1.698,5.214,3.799,2,0.913\\r\\n6,A1 LM,CHURCHMAN BIBLE,2931.5,46.813,0.857,-0.436,4.88,4.273,2,0.902\\r\\n5,A1 LM,CHURCHMAN BIBLE,2932,51.281,0.809,3.982,9.982,3.356,2,0.891\\r\\n5,A1 LM,CHURCHMAN BIBLE,2932.5,67.188,0.791,4.184,18.863,2.783,2,0.88\\r\\n3,A1 LM,CHURCHMAN BIBLE,2933,71.563,0.772,3.478,22.157,2.416,2,0.87\\r\\n3,A1 LM,CHURCHMAN BIBLE,2933.5,75.375,0.746,-0.136,20.595,2.496,2,0.859\\r\\n4,A1 LM,CHURCHMAN BIBLE,2934,75.813,0.733,1.94,19.935,2.969,2,0.848\\r\\n3,A1 LM,CHURCHMAN BIBLE,2934.5,79.375,0.73,2.966,20.96,2.967,2,0.837\\r\\n3,A1 LM,CHURCHMAN BIBLE,2935,79.438,0.734,1.488,19.02,3.406,2,0.826\\r\\n8,A1 LM,CHURCHMAN BIBLE,2935.5,64.438,0.762,-3.187,14.808,3.836,2,0.815\\r\\n8,A1 LM,CHURCHMAN BIBLE,2936,49.438,0.798,-2.171,11.595,4.863,2,0.804\\r\\n8,A1 LM,CHURCHMAN BIBLE,2936.5,41.031,0.817,0,9.082,4.516,2,0.793\\r\\n8,A1 LM,CHURCHMAN BIBLE,2937,40.906,0.836,1.127,7.466,4.168,2,0.783\\r\\n8,A1 LM,CHURCHMAN BIBLE,2937.5,43.156,0.865,1.022,7.133,3.955,2,0.772\\r\\n8,A1 LM,CHURCHMAN BIBLE,2938,51.344,0.843,1.299,6.953,3.928,2,0.761\\r\\n8,A1 LM,CHURCHMAN BIBLE,2938.5,56.75,0.78,1.37,7.37,3.953,2,0.75\\r\\n8,A1 LM,CHURCHMAN BIBLE,2939,65.5,0.722,2.225,8.225,3.93,2,0.739\\r\\n8,A1 LM,CHURCHMAN BIBLE,2939.5,74.813,0.661,3.038,9.266,3.586,2,0.728\\r\\n6,A1 LM,CHURCHMAN BIBLE,2940,92.188,0.613,4.283,10.511,3.299,2,0.717\\r\\n6,A1 LM,CHURCHMAN BIBLE,2940.5,104.063,0.59,4.306,12.247,3.088,2,0.707\\r\\n6,A1 LM,CHURCHMAN BIBLE,2941,103.563,0.58,3.915,12.54,3.211,2,0.696\\r\\n6,A1 LM,CHURCHMAN BIBLE,2941.5,99.188,0.573,3.866,13.175,3.232,2,0.685\\r\\n6,A1 LM,CHURCHMAN BIBLE,2942,90.375,0.595,6.423,13.792,2.979,2,0.663\\r\\n6,A1 LM,CHURCHMAN BIBLE,2942.5,82.063,0.625,6.823,12.367,3.094,2,0.652\\r\\n4,A1 LM,CHURCHMAN BIBLE,2943,79.375,0.677,5.522,10.493,3.104,2,0.641\\r\\n4,A1 LM,CHURCHMAN BIBLE,2943.5,76.313,0.739,4.471,10.471,3.254,2,0.63\\r\\n4,A1 LM,CHURCHMAN BIBLE,2944,80.063,0.799,4.584,11.041,3.326,2,0.62\\r\\n4,A1 LM,CHURCHMAN BIBLE,2944.5,76.063,0.865,4.273,11.303,3.393,2,0.609\\r\\n4,A1 LM,CHURCHMAN BIBLE,2945,65.25,0.923,2.835,9.519,3.52,2,0.598\\r\\n6,A1 LM,CHURCHMAN BIBLE,2945.5,44.719,0.95,0.156,7.413,3.178,2,0.587\\r\\n6,A1 LM,CHURCHMAN BIBLE,2946,36.531,0.955,-0.398,7.087,3.221,2,0.576\\r\\n6,A1 LM,CHURCHMAN BIBLE,2946.5,34.656,0.956,0.531,7.672,3.186,2,0.565\\r\\n6,A1 LM,CHURCHMAN BIBLE,2947,45.281,0.951,2.584,9.379,3.412,2,0.554\\r\\n6,A1 LM,CHURCHMAN BIBLE,2947.5,50.063,0.951,4.121,9.893,3.484,2,0.543\\r\\n6,A1 LM,CHURCHMAN BIBLE,2948,54.719,0.944,6.222,10.965,3.441,2,0.533\\r\\n5,A1 LM,CHURCHMAN BIBLE,2948.5,58.5,0.935,6.938,11.909,3.547,2,0.522\\r\\n5,A1 LM,CHURCHMAN BIBLE,2949,59.563,0.93,6.411,10.581,3.459,2,0.511\\r\\n5,A1 LM,CHURCHMAN BIBLE,2949.5,58.281,0.918,3.905,8.302,3.83,2,0.5\\r\\n6,A1 LM,CHURCHMAN BIBLE,2950,47.875,0.925,1.999,6.058,4.281,2,0.489\\r\\n6,A1 LM,CHURCHMAN BIBLE,2950.5,44.156,0.937,0.353,6.581,4.652,2,0.478\\r\\n6,A1 LM,CHURCHMAN BIBLE,2951,38.875,0.959,-0.667,6.819,4.5,2,0.467\\r\\n6,A1 LM,CHURCHMAN BIBLE,2951.5,39.938,1.004,-1.114,6.827,4.105,2,0.457\\r\\n8,A1 LM,CHURCHMAN BIBLE,2952,40.25,1.034,-0.248,6.547,4.094,2,0.446\\r\\n8,A1 LM,CHURCHMAN BIBLE,2952.5,44.219,1.038,1.152,6.123,3.902,2,0.435\\r\\n6,A1 LM,CHURCHMAN BIBLE,2953,40.563,1.046,1.634,6.032,4.133,2,0.424\\r\\n6,A1 LM,CHURCHMAN BIBLE,2953.5,37.125,1.056,0.981,5.952,3.83,2,0.413\\r\\n8,A1 LM,CHURCHMAN BIBLE,2954,33.594,1.063,-0.388,6.296,4.109,2,0.402\\r\\n6,A1 LM,CHURCHMAN BIBLE,2954.5,43.406,1.086,-0.85,5.489,4.129,2,0.391\\r\\n6,A1 LM,CHURCHMAN BIBLE,2955,43.594,1.111,-0.819,4.725,4.742,2,0.38\\r\\n6,A1 LM,CHURCHMAN BIBLE,2955.5,45.563,1.129,0.39,3.419,4.965,2,0.37\\r\\n6,A1 LM,CHURCHMAN BIBLE,2956,43.969,1.145,0.772,3.573,4.68,2,0.359\\r\\n6,A1 LM,CHURCHMAN BIBLE,2956.5,47.719,1.157,1.099,3.784,4.727,2,0.348\\r\\n6,A1 LM,CHURCHMAN BIBLE,2957,46.125,1.162,1.351,4.264,4.629,2,0.337\\r\\n6,A1 LM,CHURCHMAN BIBLE,2957.5,43.219,1.157,1.633,5.007,5.086,2,0.326\\r\\n6,A1 LM,CHURCHMAN BIBLE,2958,38.313,1.135,1.665,5.952,4.77,2,0.315\\r\\n6,A1 LM,CHURCHMAN BIBLE,2958.5,40,1.116,0.98,6.979,4.633,2,0.304\\r\\n6,A1 LM,CHURCHMAN BIBLE,2959,36.656,1.083,0.147,7.177,3.898,2,0.293\\r\\n6,A1 LM,CHURCHMAN BIBLE,2959.5,39.063,1.041,0.221,7.25,3.896,2,0.283\\r\\n6,A1 LM,CHURCHMAN BIBLE,2960,39.063,1.041,0.221,7.25,3.896,2,0.283\\r\\n6,A1 LM,CHURCHMAN BIBLE,2960.5,38.375,1.009,0.654,7.11,3.74,2,0.272\\r\\n6,A1 LM,CHURCHMAN BIBLE,2961,41.75,0.974,1.476,7.704,4.211,2,0.261\\r\\n6,A1 LM,CHURCHMAN BIBLE,2961.5,43.844,0.933,2.566,8.566,3.881,2,0.25\\r\\n6,A1 LM,CHURCHMAN BIBLE,2962,47.469,0.904,2.843,9.755,3.539,2,0.239\\r\\n6,A1 LM,CHURCHMAN BIBLE,2962.5,48.469,0.877,3.6,10.512,3.221,2,0.228\\r\\n6,A1 LM,CHURCHMAN BIBLE,2963,45.875,0.845,4.357,10.585,3.172,2,0.217\\r\\n6,A1 LM,CHURCHMAN BIBLE,2963.5,47,0.823,5.742,10.713,3.248,2,0.207\\r\\n6,A1 LM,CHURCHMAN BIBLE,2964,50.469,0.805,6.166,10.68,3.141,2,0.196\\r\\n6,A1 LM,CHURCHMAN BIBLE,2964.5,53.844,0.788,5.791,10.078,3.162,2,0.185\\r\\n6,A1 LM,CHURCHMAN BIBLE,2965,55.313,0.787,4.743,9.369,3.041,2,0.174\\r\\n4,A1 LM,CHURCHMAN BIBLE,2965.5,60.563,0.795,3.853,8.94,3.074,2,0.163\\r\\n4,A1 LM,CHURCHMAN BIBLE,2966,67.75,0.816,2.991,9.558,2.994,2,0.152\\r\\n4,A1 LM,CHURCHMAN BIBLE,2966.5,72.313,0.855,3.365,10.16,3.098,2,0.141\\r\\n4,A1 LM,CHURCHMAN BIBLE,2967,73.313,0.905,3.429,9.657,3.234,2,0.13\\r\\n4,A1 LM,CHURCHMAN BIBLE,2967.5,73.375,0.952,2.949,8.037,3.74,2,0.12\\r\\n4,A1 LM,CHURCHMAN BIBLE,2968,70.063,1.008,2.203,5.805,4.242,2,0.109\\r\\n8,A1 LM,CHURCHMAN BIBLE,2968.5,70.063,1.008,2.203,5.805,4.242,2,0.109\\r\\n6,A1 LM,CHURCHMAN BIBLE,2969,64.313,1.05,1.187,3.988,4.984,2,0.098\\r\\n6,A1 LM,CHURCHMAN BIBLE,2969.5,60.75,1.091,1.124,3.124,5.223,2,0.087\\r\\n6,A1 LM,CHURCHMAN BIBLE,2970,55.25,1.167,0.723,3.525,5.152,2,0.076\\r\\n6,A1 LM,CHURCHMAN BIBLE,2970.5,55.156,1.25,0.731,4.445,4.875,2,0.065\\r\\n8,A1 LM,CHURCHMAN BIBLE,2971,55.156,1.25,0.731,4.445,4.875,2,0.065\\r\\n8,A1 LM,CHURCHMAN BIBLE,2971.5,52.25,1.299,0.729,5.472,4.863,2,0.054\\r\\n6,A1 LM,CHURCHMAN BIBLE,2972,57.844,1.308,0.687,6.686,4.457,2,0.043\\r\\n8,A1 LM,CHURCHMAN BIBLE,2972.5,61.844,1.222,0.809,6.125,4.773,2,0.033\\r\\n8,A1 LM,CHURCHMAN BIBLE,2973,70.188,1.048,2.187,7.041,3.217,2,0.022\\r\\n5,A1 LM,CHURCHMAN BIBLE,2973.5,71.938,0.864,4.158,14.152,2.467,2,0.011\\r\\n3,B1 SH,CHURCHMAN BIBLE,2974,74.563,0.779,-0.666,32.404,2.168,1,1\\r\\n3,B1 SH,CHURCHMAN BIBLE,2974.5,72.688,0.727,0.793,40.027,2.037,1,0.958\\r\\n3,B1 SH,CHURCHMAN BIBLE,2975,77.438,0.705,-1.06,42.174,1.941,1,0.917\\r\\n3,B1 SH,CHURCHMAN BIBLE,2975.5,80.813,0.695,-1.309,41.299,1.888,1,0.875\\r\\n3,B1 SH,CHURCHMAN BIBLE,2976,82.875,0.672,-2.435,42.571,1.802,1,0.833\\r\\n3,B1 SH,CHURCHMAN BIBLE,2976.5,80.813,0.657,-5.069,38.223,2.248,1,0.792\\r\\n3,B1 SH,CHURCHMAN BIBLE,2977,71.75,0.661,-3.162,27.967,3.102,1,0.75\\r\\n3,B1 SH,CHURCHMAN BIBLE,2977.5,64.313,0.689,-1.192,18.282,3.488,1,0.708\\r\\n2,B1 SH,CHURCHMAN BIBLE,2978,60.563,0.818,3.299,9.983,3.334,1,0.625\\r\\n2,B1 SH,CHURCHMAN BIBLE,2978.5,65.688,0.886,2.794,9.022,3.25,1,0.583\\r\\n2,B1 SH,CHURCHMAN BIBLE,2979,59.125,0.89,2.077,9.446,3.025,1,0.542\\r\\n2,B1 SH,CHURCHMAN BIBLE,2979.5,57.563,0.868,1.903,10.646,2.709,1,0.5\\r\\n2,B1 SH,CHURCHMAN BIBLE,2980,54.156,0.821,1.138,11.021,2.934,1,0.458\\r\\n2,B1 SH,CHURCHMAN BIBLE,2980.5,60.719,0.752,3.491,12.573,2.34,1,0.417\\r\\n2,B1 SH,CHURCHMAN BIBLE,2981,64,0.694,5.213,23.547,1.968,1,0.375\\r\\n2,B1 SH,CHURCHMAN BIBLE,2981.5,68.063,0.675,-1.635,38.745,1.75,1,0.333\\r\\n2,B1 SH,CHURCHMAN BIBLE,2982,66.688,0.646,-3.951,40.768,1.666,1,0.292\\r\\n2,B1 SH,CHURCHMAN BIBLE,2982.5,65.125,0.608,-9.25,33.469,2.354,1,0.25\\r\\n2,B1 SH,CHURCHMAN BIBLE,2983,61.375,0.563,-1.914,21.104,3.387,1,0.208\\r\\n2,B1 SH,CHURCHMAN BIBLE,2983.5,62.125,0.51,3.503,16.468,3.209,1,0.167\\r\\n2,B1 SH,CHURCHMAN BIBLE,2984,67.438,0.495,7.9,19.151,2.902,1,0.125\\r\\n2,B1 SH,CHURCHMAN BIBLE,2984.5,65.313,0.52,7.18,27.683,2.648,1,0.083\\r\\n5,B1 LM,CHURCHMAN BIBLE,2985,60.219,0.545,3.448,27.606,2.652,1,0.042\\r\\n7,B1 LM,CHURCHMAN BIBLE,2985.5,46.75,0.577,-1.737,21.854,3.076,2,1\\r\\n8,B1 LM,CHURCHMAN BIBLE,2986,38.688,0.618,-2.896,11.783,3.871,2,0.969\\r\\n8,B1 LM,CHURCHMAN BIBLE,2986.5,26.547,0.657,-2.215,6.756,4.312,2,0.938\\r\\n8,B1 LM,CHURCHMAN BIBLE,2987,21.375,0.713,0.709,3.393,4.363,2,0.906\\r\\n8,B1 LM,CHURCHMAN BIBLE,2987.5,23.234,0.801,-0.468,5.643,4.492,2,0.875\\r\\n8,B1 LM,CHURCHMAN BIBLE,2988,29.125,0.905,1.12,6.546,4.891,2,0.844\\r\\n8,B1 LM,CHURCHMAN BIBLE,2988.5,32.938,0.996,1.335,8.821,4.641,2,0.813\\r\\n8,B1 LM,CHURCHMAN BIBLE,2989,33.094,1.023,2.804,8.231,4.363,2,0.781\\r\\n8,B1 LM,CHURCHMAN BIBLE,2989.5,27.703,0.995,3.242,8.33,4,2,0.75\\r\\n8,B1 LM,CHURCHMAN BIBLE,2990,27.672,0.929,2.739,7.71,4.219,2,0.719\\r\\n8,B1 LM,CHURCHMAN BIBLE,2990.5,28.172,0.851,1.696,7.924,4.242,2,0.688\\r\\n8,B1 LM,CHURCHMAN BIBLE,2991,32.469,0.799,0.865,8.461,4.391,2,0.656\\r\\n6,B1 LM,CHURCHMAN BIBLE,2991.5,37.656,0.781,2.169,8.28,3.863,2,0.625\\r\\n6,B1 LM,CHURCHMAN BIBLE,2992,43.531,0.783,4.538,8.597,3.352,2,0.594\\r\\n6,B1 LM,CHURCHMAN BIBLE,2992.5,51.219,0.793,4.914,8.172,3.195,2,0.563\\r\\n6,B1 LM,CHURCHMAN BIBLE,2993,60.719,0.801,3.895,7.726,3.359,2,0.531\\r\\n6,B1 LM,CHURCHMAN BIBLE,2993.5,63.031,0.803,1.46,6.548,3.949,2,0.5\\r\\n6,B1 LM,CHURCHMAN BIBLE,2994,65.125,0.814,0.241,5.668,4.078,2,0.469\\r\\n6,B1 LM,CHURCHMAN BIBLE,2994.5,57.625,0.842,-0.878,6.151,4.164,2,0.438\\r\\n6,B1 LM,CHURCHMAN BIBLE,2995,60.281,0.895,-0.494,5.962,4.375,2,0.406\\r\\n6,B1 LM,CHURCHMAN BIBLE,2995.5,75.125,0.969,0.257,6.14,4.477,2,0.375\\r\\n8,B1 LM,CHURCHMAN BIBLE,2996,97.313,0.995,1.975,6.033,4.738,2,0.344\\r\\n8,B1 LM,CHURCHMAN BIBLE,2996.5,100.375,1.002,1.5,8.412,4.445,2,0.313\\r\\n8,B1 LM,CHURCHMAN BIBLE,2997,89.25,1.006,1.408,9.578,4.27,2,0.281\\r\\n8,B1 LM,CHURCHMAN BIBLE,2997.5,72.063,0.988,2.224,10.276,4.246,2,0.25\\r\\n8,B1 LM,CHURCHMAN BIBLE,2998,72.625,0.968,3.323,9.323,4.144,2,0.219\\r\\n8,B1 LM,CHURCHMAN BIBLE,2998.5,73.813,0.934,4.188,9.387,4.187,2,0.188\\r\\n8,B1 LM,CHURCHMAN BIBLE,2999,78,0.887,3.038,9.266,4.144,2,0.156\\r\\n8,B1 LM,CHURCHMAN BIBLE,2999.5,96.813,0.825,2.094,8.55,4.578,2,0.125\\r\\n8,B1 LM,CHURCHMAN BIBLE,3000,145.75,0.755,1.651,10.849,2.908,2,0.094\\r\\n3,B2 SH,CHURCHMAN BIBLE,3000.5,207.125,0.707,-0.923,22.896,2.35,2,0.063\\r\\n3,B2 SH,CHURCHMAN BIBLE,3001,221.125,0.664,-9.69,39.427,2.043,2,0.031\\r\\n3,B2 SH,CHURCHMAN BIBLE,3001.5,183.375,0.61,-9.88,45.231,1.927,1,1\\r\\n3,B2 SH,CHURCHMAN BIBLE,3002,124.438,0.558,-7.337,46.692,2.15,1,0.917\\r\\n3,B2 SH,CHURCHMAN BIBLE,3002.5,93.438,0.516,2.671,42.934,2.004,1,0.833\\r\\n3,B2 SH,CHURCHMAN BIBLE,3003,81.625,0.492,6.728,44.249,1.641,1,0.75\\r\\n3,B2 SH,CHURCHMAN BIBLE,3003.5,78.813,0.505,2.318,48.464,1.465,1,0.667\\r\\n3,B2 SH,CHURCHMAN BIBLE,3004,74.5,0.535,-8.228,52.369,1.513,1,0.583\\r\\n3,B2 SH,CHURCHMAN BIBLE,3004.5,75.563,0.548,-16.331,46.605,1.741,1,0.5\\r\\n3,B2 SH,CHURCHMAN BIBLE,3005,69.438,0.556,-18.252,40.175,2.879,1,0.417\\r\\n3,B2 SH,CHURCHMAN BIBLE,3005.5,63.063,0.638,5.584,32.941,2.285,1,0.25\\r\\n7,B2 SH,CHURCHMAN BIBLE,3006,67.5,0.696,-1.373,37.75,2.102,1,0.167\\r\\n3,B2 SH,CHURCHMAN BIBLE,3006.5,64.938,0.771,-9.77,34.037,2.199,1,0.083\\r\\n5,B2 LM,CHURCHMAN BIBLE,3007,60.281,0.828,-10.539,24.016,3.854,2,1\\r\\n5,B2 LM,CHURCHMAN BIBLE,3007.5,48.844,0.84,-3.23,16.706,4.781,2,0.967\\r\\n8,B2 LM,CHURCHMAN BIBLE,3008,39.156,0.852,2.505,11.704,4.871,2,0.933\\r\\n8,B2 LM,CHURCHMAN BIBLE,3008.5,31.453,0.872,1.34,12.82,4.742,2,0.9\\r\\n8,B2 LM,CHURCHMAN BIBLE,3009,27.031,0.883,0.933,12.641,4.578,2,0.867\\r\\n9,B2 LM,CHURCHMAN BIBLE,3009.5,31.453,0.899,0.99,12.242,4.52,2,0.833\\r\\n9,B2 LM,CHURCHMAN BIBLE,3010,37.844,0.895,1.105,12.128,4.727,2,0.8\\r\\n9,B2 LM,CHURCHMAN BIBLE,3010.5,43.313,0.898,0.916,12.512,4.687,2,0.767\\r\\n9,B2 LM,CHURCHMAN BIBLE,3011,41.906,0.891,0.793,13.074,4.594,2,0.733\\r\\n9,B2 LM,CHURCHMAN BIBLE,3011.5,35.063,0.878,0.492,13.229,4.867,2,0.7\\r\\n9,B2 LM,CHURCHMAN BIBLE,3012,32.531,0.867,-0.022,12.376,4.93,2,0.667\\r\\n9,B2 LM,CHURCHMAN BIBLE,3012.5,30.906,0.85,-1.111,11.17,5.352,2,0.633\\r\\n9,B2 LM,CHURCHMAN BIBLE,3013,32.188,0.821,-1.42,9.721,4.961,2,0.6\\r\\n9,B2 LM,CHURCHMAN BIBLE,3013.5,34.281,0.778,-1.263,9.076,5.012,2,0.567\\r\\n9,B2 LM,CHURCHMAN BIBLE,3014,40.844,0.724,-0.57,8.284,4.652,2,0.533\\r\\n6,B2 LM,CHURCHMAN BIBLE,3014.5,52.75,0.68,0.108,8.388,3.912,2,0.5\\r\\n6,B2 LM,CHURCHMAN BIBLE,3015,68.125,0.62,1.744,8.656,3.065,2,0.467\\r\\n6,B2 LM,CHURCHMAN BIBLE,3015.5,96.063,0.504,4.265,11.75,2.76,2,0.433\\r\\n7,B2 LM,CHURCHMAN BIBLE,3016,119.438,0.383,5.89,15.545,2.656,2,0.4\\r\\n7,B2 LM,CHURCHMAN BIBLE,3016.5,131.875,0.339,6.374,19.456,2.926,2,0.367\\r\\n7,B2 LM,CHURCHMAN BIBLE,3017,124.563,0.277,5.916,20.939,3.053,2,0.333\\r\\n7,B2 LM,CHURCHMAN BIBLE,3017.5,100.625,0.224,5.712,21.876,3.297,2,0.3\\r\\n7,B2 LM,CHURCHMAN BIBLE,3018,83.313,0.194,5.443,22.291,3.348,2,0.267\\r\\n7,B2 LM,CHURCHMAN BIBLE,3018.5,72.563,0.192,3.586,20.095,3.363,2,0.233\\r\\n7,B2 LM,CHURCHMAN BIBLE,3019,93.125,0.208,1.204,16.227,3.857,2,0.2\\r\\n7,B2 LM,CHURCHMAN BIBLE,3019.5,117.75,0.237,0.16,12.096,3.961,2,0.167\\r\\n5,B2 LM,CHURCHMAN BIBLE,3020,131.875,0.29,1.229,11.223,3.775,2,0.133\\r\\n6,B2 LM,CHURCHMAN BIBLE,3020.5,124.25,0.341,3.054,11.106,3.232,2,0.1\\r\\n8,B2 LM,CHURCHMAN BIBLE,3021,106.25,0.401,3.396,10.764,2.981,2,0.067\\r\\n3,B3 SH,CHURCHMAN BIBLE,3021.5,87.875,0.5,3.797,9.68,3.201,2,0.033\\r\\n3,B3 SH,CHURCHMAN BIBLE,3022,74.938,0.587,3.314,11.139,3.215,1,1\\r\\n3,B3 SH,CHURCHMAN BIBLE,3022.5,67.625,0.633,3.947,13.485,2.94,1,0.929\\r\\n2,B3 SH,CHURCHMAN BIBLE,3023,72.313,0.645,4.261,15.173,2.699,1,0.857\\r\\n2,B3 SH,CHURCHMAN BIBLE,3023.5,70.5,0.653,3.445,15.842,2.647,1,0.786\\r\\n2,B3 SH,CHURCHMAN BIBLE,3024,70.188,0.649,3.398,14.082,2.91,1,0.714\\r\\n2,B3 SH,CHURCHMAN BIBLE,3024.5,66.25,0.639,3.774,13.657,2.963,1,0.643\\r\\n2,B3 SH,CHURCHMAN BIBLE,3025,66.813,0.635,3.915,11.173,2.945,1,0.571\\r\\n2,B3 SH,CHURCHMAN BIBLE,3025.5,66.875,0.617,2.883,10.252,3.205,1,0.5\\r\\n2,B3 SH,CHURCHMAN BIBLE,3026,71.438,0.624,2.114,12.681,3.123,1,0.429\\r\\n2,B3 SH,CHURCHMAN BIBLE,3026.5,83.688,0.651,-0.804,26.781,2.606,1,0.357\\r\\n2,B3 SH,CHURCHMAN BIBLE,3027,85,0.681,-3.342,36.008,2.4,1,0.286\\r\\n2,B3 SH,CHURCHMAN BIBLE,3027.5,85,0.681,-3.342,36.008,2.4,1,0.286\\r\\n2,B3 SH,CHURCHMAN BIBLE,3028,79.313,0.72,-7.159,36.7,2.258,1,0.214\\r\\n3,B3 SH,CHURCHMAN BIBLE,3028.5,60.906,0.75,-8.424,27.272,3.275,1,0.143\\r\\n8,B3 LM,CHURCHMAN BIBLE,3029,47,0.757,-4.656,18.133,3.836,1,0.071\\r\\n8,B3 LM,CHURCHMAN BIBLE,3029.5,31.391,0.772,0.388,11.868,4.023,2,1\\r\\n6,B3 LM,CHURCHMAN BIBLE,3030,26.578,0.81,1.211,10.41,4.207,2,0.929\\r\\n6,B3 LM,CHURCHMAN BIBLE,3030.5,24.75,0.871,0.838,10.148,4.508,2,0.857\\r\\n8,B3 LM,CHURCHMAN BIBLE,3031,28.094,0.912,1.891,8.803,5.105,2,0.786\\r\\n6,B3 LM,CHURCHMAN BIBLE,3031.5,34.656,0.925,1.728,8.868,4.844,2,0.714\\r\\n7,B3 LM,CHURCHMAN BIBLE,3032,39.969,0.926,0.987,9.267,4.445,2,0.643\\r\\n7,B3 LM,CHURCHMAN BIBLE,3032.5,41.5,0.914,0.251,9.222,4.379,2,0.571\\r\\n7,B3 LM,CHURCHMAN BIBLE,3033,33.5,0.898,0.09,8.26,4.668,2,0.5\\r\\n7,B3 LM,CHURCHMAN BIBLE,3033.5,32.625,0.904,2.719,4.947,5.113,2,0.429\\r\\n6,B3 LM,CHURCHMAN BIBLE,3034,36.531,0.912,2.443,3.758,4.746,2,0.357\\r\\n6,B3 LM,CHURCHMAN BIBLE,3034.5,43.281,0.907,2.948,3.351,4.379,2,0.286\\r\\n8,B3 LM,CHURCHMAN BIBLE,3035,53.813,0.895,1.993,5.478,4.066,2,0.214\\r\\n8,B3 LM,CHURCHMAN BIBLE,3035.5,61.281,0.864,3.033,6.635,3.598,2,0.143\\r\\n2,B4 SH,CHURCHMAN BIBLE,3036,69.5,0.837,2.843,8.387,3.268,2,0.071\\r\\n2,B4 SH,CHURCHMAN BIBLE,3036.5,66.563,0.811,3.072,9.184,3.188,1,1\\r\\n2,B4 SH,CHURCHMAN BIBLE,3037,69.688,0.778,3.549,10.806,3.143,1,0.938\\r\\n2,B4 SH,CHURCHMAN BIBLE,3037.5,74.938,0.757,4.616,12.669,3.092,1,0.875\\r\\n2,B4 SH,CHURCHMAN BIBLE,3038,82.188,0.745,4.885,12.937,2.996,1,0.813\\r\\n2,B4 SH,CHURCHMAN BIBLE,3038.5,76.125,0.743,3.581,11.751,3.016,1,0.75\\r\\n2,B4 SH,CHURCHMAN BIBLE,3039,69.875,0.746,2.844,9.412,3.055,1,0.688\\r\\n2,B4 SH,CHURCHMAN BIBLE,3039.5,65.438,0.743,2.723,8.606,3.209,1,0.625\\r\\n2,B4 SH,CHURCHMAN BIBLE,3040,68.938,0.735,3.213,8.067,3.191,1,0.563\\r\\n2,B4 SH,CHURCHMAN BIBLE,3040.5,70.875,0.733,2.796,8.679,3.332,1,0.5\\r\\n2,B4 SH,CHURCHMAN BIBLE,3041,75.375,0.714,2.46,8.917,3.236,1,0.438\\r\\n3,B4 SH,CHURCHMAN BIBLE,3041.5,76.938,0.687,3.565,10.595,2.854,1,0.375\\r\\n3,B4 SH,CHURCHMAN BIBLE,3042,82.188,0.686,3.887,20.624,2.342,1,0.313\\r\\n3,B4 SH,CHURCHMAN BIBLE,3042.5,81.688,0.705,-1.003,35.378,2.123,1,0.25\\r\\n8,B4 LM,CHURCHMAN BIBLE,3044,49.438,0.752,-8.496,19.434,4.785,1,0.063\\r\\n8,B4 LM,CHURCHMAN BIBLE,3044.5,34.375,0.772,-1.453,12.196,5.039,2,1\\r\\n8,B4 LM,CHURCHMAN BIBLE,3045,32,0.817,0.486,11.281,4.742,2,0.929\\r\\n8,B4 LM,CHURCHMAN BIBLE,3045.5,31.516,0.886,-0.126,11.698,4.469,2,0.857\\r\\n8,B4 LM,CHURCHMAN BIBLE,3046,38.531,0.936,-0.711,11.453,4.668,2,0.786\\r\\n8,B4 LM,CHURCHMAN BIBLE,3046.5,50.094,0.959,-0.849,10.175,5.109,2,0.714\\r\\n8,B4 LM,CHURCHMAN BIBLE,3047,58.25,0.963,-1.205,9.017,5.641,2,0.643\\r\\n8,B4 LM,CHURCHMAN BIBLE,3047.5,62.125,0.956,-0.291,7.078,5.082,2,0.571\\r\\n6,B4 LM,CHURCHMAN BIBLE,3048,59.281,0.923,0.877,5.275,4.617,2,0.5\\r\\n6,B4 LM,CHURCHMAN BIBLE,3048.5,59.5,0.871,2.296,3.612,4.125,2,0.429\\r\\n6,B4 LM,CHURCHMAN BIBLE,3049,51.375,0.811,2.231,3.775,4.574,2,0.357\\r\\n6,B4 LM,CHURCHMAN BIBLE,3049.5,46.906,0.752,2.612,4.273,4.285,2,0.286\\r\\n6,B4 LM,CHURCHMAN BIBLE,3050,43.938,0.685,3.529,7.36,3.852,2,0.214\\r\\n4,B4 LM,CHURCHMAN BIBLE,3050.5,49.906,0.64,5.685,11.112,3.678,2,0.143\\r\\n6,B4 LM,CHURCHMAN BIBLE,3051,53.406,0.601,6.364,14.534,3.35,2,0.071\\r\\n8,B5 LM,CHURCHMAN BIBLE,3054,33.906,0.641,1.365,4.739,4.879,1,0.167\\r\\n8,B5 LM,CHURCHMAN BIBLE,3054.5,31.109,0.671,1.659,6.056,4.789,2,1\\r\\n8,B5 LM,CHURCHMAN BIBLE,3055,33.719,0.695,4.629,8.115,3.891,2,0.983\\r\\n8,B5 LM,CHURCHMAN BIBLE,3055.5,45.875,0.69,5.923,10.777,3.691,2,0.967\\r\\n7,B5 LM,CHURCHMAN BIBLE,3056,57.125,0.635,6.613,12.04,3.631,2,0.95\\r\\n7,B5 LM,CHURCHMAN BIBLE,3056.5,66.813,0.566,6.039,13.297,3.742,2,0.933\\r\\n7,B5 LM,CHURCHMAN BIBLE,3057,76.938,0.509,6.381,14.322,3.719,2,0.917\\r\\n7,B5 LM,CHURCHMAN BIBLE,3057.5,93.313,0.466,6.061,15.716,3.531,2,0.9\\r\\n7,B5 LM,CHURCHMAN BIBLE,3058,110.313,0.405,6.206,16.89,3.371,2,0.867\\r\\n7,B5 LM,CHURCHMAN BIBLE,3058.5,113.875,0.404,5.099,16.239,3.463,2,0.85\\r\\n7,B5 LM,CHURCHMAN BIBLE,3059,118.438,0.408,3.692,14.716,3.607,2,0.833\\r\\n7,B5 LM,CHURCHMAN BIBLE,3059.5,115.563,0.424,3.276,13.96,4.16,2,0.817\\r\\n7,B5 LM,CHURCHMAN BIBLE,3060,94.75,0.446,2.716,13.739,4.785,2,0.8\\r\\n8,B5 LM,CHURCHMAN BIBLE,3060.5,74.563,0.466,2.02,14.874,5.699,2,0.783\\r\\n8,B5 LM,CHURCHMAN BIBLE,3061,54.875,0.479,2.241,16.118,6.309,2,0.767\\r\\n9,B5 LM,CHURCHMAN BIBLE,3061.5,52.281,0.486,3.68,17.218,7.652,2,0.75\\r\\n9,B5 LM,CHURCHMAN BIBLE,3062,48.125,0.479,4.463,18.34,7.598,2,0.733\\r\\n9,B5 LM,CHURCHMAN BIBLE,3062.5,49.406,0.462,4.29,18.512,6.941,2,0.717\\r\\n9,B5 LM,CHURCHMAN BIBLE,3063,42.688,0.429,3.075,19.239,5.539,2,0.7\\r\\n9,B5 LM,CHURCHMAN BIBLE,3063.5,41.438,0.387,1.846,19.15,5.027,2,0.683\\r\\n9,B5 LM,CHURCHMAN BIBLE,3064,37.219,0.348,0.672,19.006,5.144,2,0.667\\r\\n9,B5 LM,CHURCHMAN BIBLE,3064.5,38.656,0.314,0.292,17.824,5.633,2,0.65\\r\\n9,B5 LM,CHURCHMAN BIBLE,3065,43,0.283,0.828,17.336,6.231,2,0.633\\r\\n9,B5 LM,CHURCHMAN BIBLE,3065.5,42.531,0.257,1.594,17.302,5.898,2,0.617\\r\\n9,B5 LM,CHURCHMAN BIBLE,3066,41.188,0.234,1.921,17.512,5.754,2,0.6\\r\\n9,B5 LM,CHURCHMAN BIBLE,3066.5,38.25,0.211,1.498,16.861,5.609,2,0.583\\r\\n9,B5 LM,CHURCHMAN BIBLE,3067,39.219,0.184,1.629,15.851,6.711,2,0.567\\r\\n9,B5 LM,CHURCHMAN BIBLE,3067.5,40.938,0.167,2.706,15.214,8.094,2,0.55\\r\\n9,B5 LM,CHURCHMAN BIBLE,3068,38,0.158,3.576,15.857,6.902,2,0.533\\r\\n9,B5 LM,CHURCHMAN BIBLE,3068.5,37.938,0.148,3.308,16.273,6.742,2,0.517\\r\\n9,B5 LM,CHURCHMAN BIBLE,3069,35.156,0.133,3.224,16.99,6.18,2,0.5\\r\\n9,B5 LM,CHURCHMAN BIBLE,3069.5,36.094,0.118,2.679,17.585,6.422,2,0.483\\r\\n9,B5 LM,CHURCHMAN BIBLE,3070,37.063,0.106,2.082,19.158,5.484,2,0.467\\r\\n9,B5 LM,CHURCHMAN BIBLE,3070.5,41,0.1,1.348,19.453,5.398,2,0.45\\r\\n9,B5 LM,CHURCHMAN BIBLE,3071,42.031,0.106,1.723,18.688,5.297,2,0.433\\r\\n9,B5 LM,CHURCHMAN BIBLE,3071.5,43.344,0.123,2.001,18.165,5.426,2,0.417\\r\\n9,B5 LM,CHURCHMAN BIBLE,3072,40.906,0.151,1.666,17.719,4.93,2,0.4\\r\\n9,B5 LM,CHURCHMAN BIBLE,3072.5,40.531,0.184,1.033,17.424,4.894,2,0.383\\r\\n9,B5 LM,CHURCHMAN BIBLE,3073,39.5,0.227,0.945,16.536,5.047,2,0.367\\r\\n9,B5 LM,CHURCHMAN BIBLE,3073.5,42.281,0.29,0.659,16.138,5.391,2,0.35\\r\\n9,B5 LM,CHURCHMAN BIBLE,3074,46.063,0.366,0.74,15.764,5.652,2,0.333\\r\\n9,B5 LM,CHURCHMAN BIBLE,3074.5,47.063,0.446,0.122,15.601,5.508,2,0.317\\r\\n9,B5 LM,CHURCHMAN BIBLE,3075,45.719,0.516,0.398,16.106,5.352,2,0.3\\r\\n9,B5 LM,CHURCHMAN BIBLE,3075.5,42.406,0.585,1.393,16.527,4.926,2,0.283\\r\\n9,B5 LM,CHURCHMAN BIBLE,3076,41.594,0.643,2.044,16.266,4.875,2,0.267\\r\\n9,B5 LM,CHURCHMAN BIBLE,3076.5,44.531,0.68,1.426,15.42,5.031,2,0.25\\r\\n9,B5 LM,CHURCHMAN BIBLE,3077,49.25,0.707,0.181,13.491,6.062,2,0.233\\r\\n9,B5 LM,CHURCHMAN BIBLE,3077.5,59.594,0.735,-0.061,11.536,6.227,2,0.217\\r\\n9,B5 LM,CHURCHMAN BIBLE,3078,74,0.768,0.243,9.67,5.672,2,0.2\\r\\n9,B5 LM,CHURCHMAN BIBLE,3078.5,127.5,0.802,1.28,8.876,4.406,2,0.183\\r\\n9,B5 LM,CHURCHMAN BIBLE,3079,185.25,0.83,3.48,7.995,3.912,2,0.167\\r\\n9,B5 LM,CHURCHMAN BIBLE,3079.5,222.5,0.852,4.614,6.959,3.557,2,0.15\\r\\n9,B5 LM,CHURCHMAN BIBLE,3080,74,0.768,0.243,9.67,5.672,2,0.2\\r\\n7,B5 LM,CHURCHMAN BIBLE,3080.5,127.5,0.802,1.28,8.876,4.406,2,0.183\\r\\n7,B5 LM,CHURCHMAN BIBLE,3081,185.25,0.83,3.48,7.995,3.912,2,0.167\\r\\n7,B5 LM,CHURCHMAN BIBLE,3081.5,222.5,0.852,4.614,6.959,3.557,2,0.15\\r\\n7,B5 LM,CHURCHMAN BIBLE,3082,202.625,0.867,4.225,6.225,3.69,2,0.133\\r\\n7,B5 LM,CHURCHMAN BIBLE,3082.5,177.5,0.86,4.381,4.896,3.836,2,0.117\\r\\n7,B5 LM,CHURCHMAN BIBLE,3083,174.75,0.844,5.123,3.813,3.852,2,0.1\\r\\n7,B5 LM,CHURCHMAN BIBLE,3083.5,184.125,0.812,6.249,3.565,3.828,2,0.083\\r\\n7,B5 LM,CHURCHMAN BIBLE,3084,184.125,0.812,6.249,3.565,3.828,2,0.083\\r\\n7,B5 LM,CHURCHMAN BIBLE,3084.5,178.625,0.758,7.296,5.302,3.494,2,0.067\\r\\n7,B5 LM,CHURCHMAN BIBLE,3085,154.75,0.701,7.562,7.965,3.551,2,0.05\\r\\n7,B5 LM,CHURCHMAN BIBLE,3085.5,128,0.641,7.388,10.874,3.33,2,0.033\\r\\n6,B5 LM,CHURCHMAN BIBLE,3086,110,0.59,5.83,12.286,3.416,2,0.017\\r\\n3,C SH,CHURCHMAN BIBLE,3086.5,99.688,0.551,4.46,12.63,3.172,1,1\\r\\n3,C SH,CHURCHMAN BIBLE,3087,100.875,0.529,2.024,19.217,2.367,1,0.971\\r\\n3,C SH,CHURCHMAN BIBLE,3087.5,94.375,0.52,-4.122,34.884,2.059,1,0.941\\r\\n3,C SH,CHURCHMAN BIBLE,3088,86.438,0.512,-6.8,48.597,1.814,1,0.912\\r\\n3,C SH,CHURCHMAN BIBLE,3088.5,74.563,0.511,-6.868,49.787,1.894,1,0.882\\r\\n3,C SH,CHURCHMAN BIBLE,3089,63.094,0.521,-2.572,40.316,2.52,1,0.824\\r\\n3,C SH,CHURCHMAN BIBLE,3089.5,60.938,0.526,2.082,38.69,2.504,1,0.794\\r\\n3,C SH,CHURCHMAN BIBLE,3090,62.344,0.535,2.334,38.486,2.443,1,0.765\\r\\n3,C SH,CHURCHMAN BIBLE,3090.5,63.938,0.542,3.223,38.574,2.393,1,0.735\\r\\n3,C SH,CHURCHMAN BIBLE,3091,65.688,0.547,3.429,37.294,2.66,1,0.706\\r\\n3,C SH,CHURCHMAN BIBLE,3091.5,67.313,0.551,2.625,34.093,2.795,1,0.676\\r\\n3,C SH,CHURCHMAN BIBLE,3092,74.688,0.546,2.915,31.412,2.838,1,0.647\\r\\n3,C SH,CHURCHMAN BIBLE,3092.5,75.813,0.554,3.902,29.545,2.674,1,0.588\\r\\n2,C SH,CHURCHMAN BIBLE,3093,70.25,0.567,4.708,28.983,2.395,1,0.559\\r\\n2,C SH,CHURCHMAN BIBLE,3093.5,68.625,0.596,3.409,32.479,2.186,1,0.529\\r\\n2,C SH,CHURCHMAN BIBLE,3094,69.313,0.626,-0.391,33.936,2.137,1,0.5\\r\\n2,C SH,CHURCHMAN BIBLE,3094.5,73.813,0.648,-4.575,32.261,2.383,1,0.471\\r\\n2,C SH,CHURCHMAN BIBLE,3095,70.625,0.676,-4.527,24.888,3.113,1,0.441\\r\\n2,C SH,CHURCHMAN BIBLE,3095.5,62.188,0.729,6.794,11.419,3.693,1,0.382\\r\\n2,C SH,CHURCHMAN BIBLE,3096,68.75,0.763,6.874,10.704,3.854,1,0.353\\r\\n2,C SH,CHURCHMAN BIBLE,3096.5,70.563,0.785,7.047,9.848,3.883,1,0.324\\r\\n2,C SH,CHURCHMAN BIBLE,3097,68.813,0.78,4.635,10.746,4.039,1,0.294\\r\\n2,C SH,CHURCHMAN BIBLE,3097.5,63.063,0.758,4.089,10.657,3.918,1,0.265\\r\\n2,C SH,CHURCHMAN BIBLE,3098,70,0.725,4.598,13.908,3.297,1,0.235\\r\\n2,C SH,CHURCHMAN BIBLE,3098.5,77.625,0.647,-2.975,36.031,2.361,1,0.176\\r\\n2,C SH,CHURCHMAN BIBLE,3099,79.125,0.609,-1.253,39.583,2.15,1,0.147\\r\\n2,C SH,CHURCHMAN BIBLE,3099.5,78.625,0.584,2.481,38.633,2.104,1,0.118\\r\\n2,C SH,CHURCHMAN BIBLE,3100,77.938,0.576,6.147,39.556,1.795,1,0.088\\r\\n2,C SH,CHURCHMAN BIBLE,3100.5,61.438,0.65,-0.749,53.678,1.524,1,0.029\\r\\n8,C LM,CHURCHMAN BIBLE,3101,50.313,0.71,-10.074,47.721,1.605,2,1\\r\\n8,C LM,CHURCHMAN BIBLE,3101.5,31.828,0.765,-21.832,35.162,2.533,2,0.992\\r\\n8,C LM,CHURCHMAN BIBLE,3102,22.641,0.839,-15.014,19.653,4.492,2,0.984\\r\\n8,C LM,CHURCHMAN BIBLE,3102.5,15.867,0.937,-5.427,9.48,4.785,2,0.976\\r\\n8,C LM,CHURCHMAN BIBLE,3103,14.469,1.058,-1.957,4.838,5.008,2,0.968\\r\\n8,C LM,CHURCHMAN BIBLE,3103.5,14.492,1.195,-1.133,3.037,5.02,2,0.96\\r\\n9,C LM,CHURCHMAN BIBLE,3104,18.297,1.294,0.227,2.8,4.66,2,0.952\\r\\n9,C LM,CHURCHMAN BIBLE,3104.5,26.609,1.273,1.905,3.905,4.656,2,0.944\\r\\n5,C LM,CHURCHMAN BIBLE,3105,36.469,1.223,3.264,5.72,4.516,2,0.935\\r\\n8,C LM,CHURCHMAN BIBLE,3105.5,37,1.157,3.449,6.707,4.051,2,0.927\\r\\n5,C LM,CHURCHMAN BIBLE,3106,33.375,1.069,3.075,6.104,3.863,2,0.919\\r\\n5,C LM,CHURCHMAN BIBLE,3106.5,28.922,0.994,2.703,5.159,3.945,2,0.911\\r\\n8,C LM,CHURCHMAN BIBLE,3107,27.438,0.974,1.928,4.957,4.527,2,0.903\\r\\n6,C LM,CHURCHMAN BIBLE,3107.5,26.953,0.978,1.977,5.006,4.793,2,0.895\\r\\n8,C LM,CHURCHMAN BIBLE,3108,30.734,0.991,1.552,5.382,4.738,2,0.887\\r\\n6,C LM,CHURCHMAN BIBLE,3108.5,32.219,1.013,1.342,5.055,4.637,2,0.879\\r\\n6,C LM,CHURCHMAN BIBLE,3109,37.688,1.04,0.681,4.739,4.539,2,0.871\\r\\n6,C LM,CHURCHMAN BIBLE,3109.5,35.844,1.044,0.96,3.533,4.832,2,0.863\\r\\n6,C LM,CHURCHMAN BIBLE,3110,42.156,1.051,1.448,3.337,4.797,2,0.855\\r\\n6,C LM,CHURCHMAN BIBLE,3110.5,42.094,1.057,2.736,4.051,4.5,2,0.847\\r\\n5,C LM,CHURCHMAN BIBLE,3111,49.719,1.06,3.092,5.893,3.83,2,0.839\\r\\n5,C LM,CHURCHMAN BIBLE,3111.5,46.219,1.062,3.018,6.503,3.434,2,0.831\\r\\n6,C LM,CHURCHMAN BIBLE,3112,42.313,1.05,2.245,5.958,3.318,2,0.823\\r\\n6,C LM,CHURCHMAN BIBLE,3112.5,36.031,1.028,1.193,5.936,3.393,2,0.815\\r\\n6,C LM,CHURCHMAN BIBLE,3113,32.594,1.014,0.662,5.978,3.422,2,0.806\\r\\n6,C LM,CHURCHMAN BIBLE,3113.5,37.094,1.005,0.377,6.605,3.697,2,0.798\\r\\n5,C LM,CHURCHMAN BIBLE,3114,40.031,1.027,0.615,6.27,4.035,2,0.79\\r\\n5,C LM,CHURCHMAN BIBLE,3114.5,42.5,1.057,0.672,5.871,4.422,2,0.782\\r\\n6,C LM,CHURCHMAN BIBLE,3115,39.719,1.087,0.648,4.479,4.203,2,0.774\\r\\n6,C LM,CHURCHMAN BIBLE,3115.5,38.844,1.109,1.025,2.686,3.908,2,0.766\\r\\n6,C LM,CHURCHMAN BIBLE,3116,41.719,1.107,0.659,2.32,3.943,2,0.758\\r\\n5,C LM,CHURCHMAN BIBLE,3116.5,44.75,1.085,1.165,2.937,4.02,2,0.75\\r\\n5,C LM,CHURCHMAN BIBLE,3117,46.469,1.07,1.872,5.013,4.156,2,0.742\\r\\n5,C LM,CHURCHMAN BIBLE,3117.5,51,1.061,3.76,6.445,3.828,2,0.734\\r\\n5,C LM,CHURCHMAN BIBLE,3118,55.563,1.052,4.296,7.325,3.805,2,0.726\\r\\n5,C LM,CHURCHMAN BIBLE,3118.5,58.313,1.034,3.863,7.465,3.584,2,0.718\\r\\n5,C LM,CHURCHMAN BIBLE,3119,55.344,1.003,2.225,7.541,3.645,2,0.71\\r\\n5,C LM,CHURCHMAN BIBLE,3119.5,53.313,0.972,1.64,7.295,3.629,2,0.702\\r\\n5,C LM,CHURCHMAN BIBLE,3120,49.594,0.954,1.494,7.149,3.727,2,0.694\\r\\n5,C LM,CHURCHMAN BIBLE,3120.5,46.719,0.947,1.828,7.254,3.617,2,0.685\\r\\n5,C LM,CHURCHMAN BIBLE,3121,44.563,0.953,2.241,8.013,3.344,2,0.677\\r\\n5,C LM,CHURCHMAN BIBLE,3121.5,49.719,0.964,2.925,8.013,3.19,2,0.669\\r\\n5,C LM,CHURCHMAN BIBLE,3122,51.469,0.965,3.083,7.708,3.152,2,0.661\\r\\n5,C LM,CHURCHMAN BIBLE,3122.5,50.031,0.97,2.609,6.668,3.295,2,0.653\\r\\n'}"
            ]
          },
          "metadata": {},
          "execution_count": 10
        }
      ]
    },
    {
      "cell_type": "code",
      "source": [
        "df=pd.read_csv('Chapter7_Facies Data.csv')\n",
        "df"
      ],
      "metadata": {
        "colab": {
          "base_uri": "https://localhost:8080/",
          "height": 424
        },
        "id": "lP_aBweySbqj",
        "outputId": "ff3dd4ad-fcae-435d-8284-56bfa3845e0c"
      },
      "execution_count": 37,
      "outputs": [
        {
          "output_type": "execute_result",
          "data": {
            "text/plain": [
              "      Facies Formation        Well Name   Depth      GR  ILD_log10  DeltaPHI  \\\n",
              "0          3     A1 SH        SHRIMPLIN  2793.0  77.450      0.664     9.900   \n",
              "1          3     A1 SH        SHRIMPLIN  2793.5  78.260      0.661    14.200   \n",
              "2          3     A1 SH        SHRIMPLIN  2794.0  79.050      0.658    14.800   \n",
              "3          3     A1 SH        SHRIMPLIN  2794.5  86.100      0.655    13.900   \n",
              "4          3     A1 SH        SHRIMPLIN  2795.0  74.580      0.647    13.500   \n",
              "...      ...       ...              ...     ...     ...        ...       ...   \n",
              "3227       5      C LM  CHURCHMAN BIBLE  3120.5  46.719      0.947     1.828   \n",
              "3228       5      C LM  CHURCHMAN BIBLE  3121.0  44.563      0.953     2.241   \n",
              "3229       5      C LM  CHURCHMAN BIBLE  3121.5  49.719      0.964     2.925   \n",
              "3230       5      C LM  CHURCHMAN BIBLE  3122.0  51.469      0.965     3.083   \n",
              "3231       5      C LM  CHURCHMAN BIBLE  3122.5  50.031      0.970     2.609   \n",
              "\n",
              "       PHIND     PE  NM_M  RELPOS  \n",
              "0     11.915  4.600     1   1.000  \n",
              "1     12.565  4.100     1   0.979  \n",
              "2     13.050  3.600     1   0.957  \n",
              "3     13.115  3.500     1   0.936  \n",
              "4     13.300  3.400     1   0.915  \n",
              "...      ...    ...   ...     ...  \n",
              "3227   7.254  3.617     2   0.685  \n",
              "3228   8.013  3.344     2   0.677  \n",
              "3229   8.013  3.190     2   0.669  \n",
              "3230   7.708  3.152     2   0.661  \n",
              "3231   6.668  3.295     2   0.653  \n",
              "\n",
              "[3232 rows x 11 columns]"
            ],
            "text/html": [
              "\n",
              "  <div id=\"df-c2f16914-f16c-4489-b76a-0409766de709\">\n",
              "    <div class=\"colab-df-container\">\n",
              "      <div>\n",
              "<style scoped>\n",
              "    .dataframe tbody tr th:only-of-type {\n",
              "        vertical-align: middle;\n",
              "    }\n",
              "\n",
              "    .dataframe tbody tr th {\n",
              "        vertical-align: top;\n",
              "    }\n",
              "\n",
              "    .dataframe thead th {\n",
              "        text-align: right;\n",
              "    }\n",
              "</style>\n",
              "<table border=\"1\" class=\"dataframe\">\n",
              "  <thead>\n",
              "    <tr style=\"text-align: right;\">\n",
              "      <th></th>\n",
              "      <th>Facies</th>\n",
              "      <th>Formation</th>\n",
              "      <th>Well Name</th>\n",
              "      <th>Depth</th>\n",
              "      <th>GR</th>\n",
              "      <th>ILD_log10</th>\n",
              "      <th>DeltaPHI</th>\n",
              "      <th>PHIND</th>\n",
              "      <th>PE</th>\n",
              "      <th>NM_M</th>\n",
              "      <th>RELPOS</th>\n",
              "    </tr>\n",
              "  </thead>\n",
              "  <tbody>\n",
              "    <tr>\n",
              "      <th>0</th>\n",
              "      <td>3</td>\n",
              "      <td>A1 SH</td>\n",
              "      <td>SHRIMPLIN</td>\n",
              "      <td>2793.0</td>\n",
              "      <td>77.450</td>\n",
              "      <td>0.664</td>\n",
              "      <td>9.900</td>\n",
              "      <td>11.915</td>\n",
              "      <td>4.600</td>\n",
              "      <td>1</td>\n",
              "      <td>1.000</td>\n",
              "    </tr>\n",
              "    <tr>\n",
              "      <th>1</th>\n",
              "      <td>3</td>\n",
              "      <td>A1 SH</td>\n",
              "      <td>SHRIMPLIN</td>\n",
              "      <td>2793.5</td>\n",
              "      <td>78.260</td>\n",
              "      <td>0.661</td>\n",
              "      <td>14.200</td>\n",
              "      <td>12.565</td>\n",
              "      <td>4.100</td>\n",
              "      <td>1</td>\n",
              "      <td>0.979</td>\n",
              "    </tr>\n",
              "    <tr>\n",
              "      <th>2</th>\n",
              "      <td>3</td>\n",
              "      <td>A1 SH</td>\n",
              "      <td>SHRIMPLIN</td>\n",
              "      <td>2794.0</td>\n",
              "      <td>79.050</td>\n",
              "      <td>0.658</td>\n",
              "      <td>14.800</td>\n",
              "      <td>13.050</td>\n",
              "      <td>3.600</td>\n",
              "      <td>1</td>\n",
              "      <td>0.957</td>\n",
              "    </tr>\n",
              "    <tr>\n",
              "      <th>3</th>\n",
              "      <td>3</td>\n",
              "      <td>A1 SH</td>\n",
              "      <td>SHRIMPLIN</td>\n",
              "      <td>2794.5</td>\n",
              "      <td>86.100</td>\n",
              "      <td>0.655</td>\n",
              "      <td>13.900</td>\n",
              "      <td>13.115</td>\n",
              "      <td>3.500</td>\n",
              "      <td>1</td>\n",
              "      <td>0.936</td>\n",
              "    </tr>\n",
              "    <tr>\n",
              "      <th>4</th>\n",
              "      <td>3</td>\n",
              "      <td>A1 SH</td>\n",
              "      <td>SHRIMPLIN</td>\n",
              "      <td>2795.0</td>\n",
              "      <td>74.580</td>\n",
              "      <td>0.647</td>\n",
              "      <td>13.500</td>\n",
              "      <td>13.300</td>\n",
              "      <td>3.400</td>\n",
              "      <td>1</td>\n",
              "      <td>0.915</td>\n",
              "    </tr>\n",
              "    <tr>\n",
              "      <th>...</th>\n",
              "      <td>...</td>\n",
              "      <td>...</td>\n",
              "      <td>...</td>\n",
              "      <td>...</td>\n",
              "      <td>...</td>\n",
              "      <td>...</td>\n",
              "      <td>...</td>\n",
              "      <td>...</td>\n",
              "      <td>...</td>\n",
              "      <td>...</td>\n",
              "      <td>...</td>\n",
              "    </tr>\n",
              "    <tr>\n",
              "      <th>3227</th>\n",
              "      <td>5</td>\n",
              "      <td>C LM</td>\n",
              "      <td>CHURCHMAN BIBLE</td>\n",
              "      <td>3120.5</td>\n",
              "      <td>46.719</td>\n",
              "      <td>0.947</td>\n",
              "      <td>1.828</td>\n",
              "      <td>7.254</td>\n",
              "      <td>3.617</td>\n",
              "      <td>2</td>\n",
              "      <td>0.685</td>\n",
              "    </tr>\n",
              "    <tr>\n",
              "      <th>3228</th>\n",
              "      <td>5</td>\n",
              "      <td>C LM</td>\n",
              "      <td>CHURCHMAN BIBLE</td>\n",
              "      <td>3121.0</td>\n",
              "      <td>44.563</td>\n",
              "      <td>0.953</td>\n",
              "      <td>2.241</td>\n",
              "      <td>8.013</td>\n",
              "      <td>3.344</td>\n",
              "      <td>2</td>\n",
              "      <td>0.677</td>\n",
              "    </tr>\n",
              "    <tr>\n",
              "      <th>3229</th>\n",
              "      <td>5</td>\n",
              "      <td>C LM</td>\n",
              "      <td>CHURCHMAN BIBLE</td>\n",
              "      <td>3121.5</td>\n",
              "      <td>49.719</td>\n",
              "      <td>0.964</td>\n",
              "      <td>2.925</td>\n",
              "      <td>8.013</td>\n",
              "      <td>3.190</td>\n",
              "      <td>2</td>\n",
              "      <td>0.669</td>\n",
              "    </tr>\n",
              "    <tr>\n",
              "      <th>3230</th>\n",
              "      <td>5</td>\n",
              "      <td>C LM</td>\n",
              "      <td>CHURCHMAN BIBLE</td>\n",
              "      <td>3122.0</td>\n",
              "      <td>51.469</td>\n",
              "      <td>0.965</td>\n",
              "      <td>3.083</td>\n",
              "      <td>7.708</td>\n",
              "      <td>3.152</td>\n",
              "      <td>2</td>\n",
              "      <td>0.661</td>\n",
              "    </tr>\n",
              "    <tr>\n",
              "      <th>3231</th>\n",
              "      <td>5</td>\n",
              "      <td>C LM</td>\n",
              "      <td>CHURCHMAN BIBLE</td>\n",
              "      <td>3122.5</td>\n",
              "      <td>50.031</td>\n",
              "      <td>0.970</td>\n",
              "      <td>2.609</td>\n",
              "      <td>6.668</td>\n",
              "      <td>3.295</td>\n",
              "      <td>2</td>\n",
              "      <td>0.653</td>\n",
              "    </tr>\n",
              "  </tbody>\n",
              "</table>\n",
              "<p>3232 rows × 11 columns</p>\n",
              "</div>\n",
              "      <button class=\"colab-df-convert\" onclick=\"convertToInteractive('df-c2f16914-f16c-4489-b76a-0409766de709')\"\n",
              "              title=\"Convert this dataframe to an interactive table.\"\n",
              "              style=\"display:none;\">\n",
              "        \n",
              "  <svg xmlns=\"http://www.w3.org/2000/svg\" height=\"24px\"viewBox=\"0 0 24 24\"\n",
              "       width=\"24px\">\n",
              "    <path d=\"M0 0h24v24H0V0z\" fill=\"none\"/>\n",
              "    <path d=\"M18.56 5.44l.94 2.06.94-2.06 2.06-.94-2.06-.94-.94-2.06-.94 2.06-2.06.94zm-11 1L8.5 8.5l.94-2.06 2.06-.94-2.06-.94L8.5 2.5l-.94 2.06-2.06.94zm10 10l.94 2.06.94-2.06 2.06-.94-2.06-.94-.94-2.06-.94 2.06-2.06.94z\"/><path d=\"M17.41 7.96l-1.37-1.37c-.4-.4-.92-.59-1.43-.59-.52 0-1.04.2-1.43.59L10.3 9.45l-7.72 7.72c-.78.78-.78 2.05 0 2.83L4 21.41c.39.39.9.59 1.41.59.51 0 1.02-.2 1.41-.59l7.78-7.78 2.81-2.81c.8-.78.8-2.07 0-2.86zM5.41 20L4 18.59l7.72-7.72 1.47 1.35L5.41 20z\"/>\n",
              "  </svg>\n",
              "      </button>\n",
              "      \n",
              "  <style>\n",
              "    .colab-df-container {\n",
              "      display:flex;\n",
              "      flex-wrap:wrap;\n",
              "      gap: 12px;\n",
              "    }\n",
              "\n",
              "    .colab-df-convert {\n",
              "      background-color: #E8F0FE;\n",
              "      border: none;\n",
              "      border-radius: 50%;\n",
              "      cursor: pointer;\n",
              "      display: none;\n",
              "      fill: #1967D2;\n",
              "      height: 32px;\n",
              "      padding: 0 0 0 0;\n",
              "      width: 32px;\n",
              "    }\n",
              "\n",
              "    .colab-df-convert:hover {\n",
              "      background-color: #E2EBFA;\n",
              "      box-shadow: 0px 1px 2px rgba(60, 64, 67, 0.3), 0px 1px 3px 1px rgba(60, 64, 67, 0.15);\n",
              "      fill: #174EA6;\n",
              "    }\n",
              "\n",
              "    [theme=dark] .colab-df-convert {\n",
              "      background-color: #3B4455;\n",
              "      fill: #D2E3FC;\n",
              "    }\n",
              "\n",
              "    [theme=dark] .colab-df-convert:hover {\n",
              "      background-color: #434B5C;\n",
              "      box-shadow: 0px 1px 3px 1px rgba(0, 0, 0, 0.15);\n",
              "      filter: drop-shadow(0px 1px 2px rgba(0, 0, 0, 0.3));\n",
              "      fill: #FFFFFF;\n",
              "    }\n",
              "  </style>\n",
              "\n",
              "      <script>\n",
              "        const buttonEl =\n",
              "          document.querySelector('#df-c2f16914-f16c-4489-b76a-0409766de709 button.colab-df-convert');\n",
              "        buttonEl.style.display =\n",
              "          google.colab.kernel.accessAllowed ? 'block' : 'none';\n",
              "\n",
              "        async function convertToInteractive(key) {\n",
              "          const element = document.querySelector('#df-c2f16914-f16c-4489-b76a-0409766de709');\n",
              "          const dataTable =\n",
              "            await google.colab.kernel.invokeFunction('convertToInteractive',\n",
              "                                                     [key], {});\n",
              "          if (!dataTable) return;\n",
              "\n",
              "          const docLinkHtml = 'Like what you see? Visit the ' +\n",
              "            '<a target=\"_blank\" href=https://colab.research.google.com/notebooks/data_table.ipynb>data table notebook</a>'\n",
              "            + ' to learn more about interactive tables.';\n",
              "          element.innerHTML = '';\n",
              "          dataTable['output_type'] = 'display_data';\n",
              "          await google.colab.output.renderOutput(dataTable, element);\n",
              "          const docLink = document.createElement('div');\n",
              "          docLink.innerHTML = docLinkHtml;\n",
              "          element.appendChild(docLink);\n",
              "        }\n",
              "      </script>\n",
              "    </div>\n",
              "  </div>\n",
              "  "
            ]
          },
          "metadata": {},
          "execution_count": 37
        }
      ]
    },
    {
      "cell_type": "code",
      "source": [
        "x=df.iloc[:, 4:11]\n",
        "\n",
        "from sklearn.preprocessing import MinMaxScaler\n",
        "sc=MinMaxScaler()\n",
        "x=sc.fit_transform(x)\n",
        "y=df.iloc[:,0]"
      ],
      "metadata": {
        "id": "sK-FBnj7Sk-i"
      },
      "execution_count": 38,
      "outputs": []
    },
    {
      "cell_type": "code",
      "source": [
        "from sklearn.model_selection import train_test_split\n",
        "x_train, x_test, y_train, y_test = train_test_split(x,y,test_size=0.25, random_state=50)\n",
        "from sklearn.linear_model import LogisticRegression\n",
        "lr=LogisticRegression(max_iter=200)\n",
        "lr.fit(x_train, y_train)\n",
        "y_train_predict=lr.predict(x_train)\n",
        "y_test_predict=lr.predict(x_test)"
      ],
      "metadata": {
        "id": "qMWX_KSSUn8Y"
      },
      "execution_count": 13,
      "outputs": []
    },
    {
      "cell_type": "code",
      "source": [
        "print(classification_report(y_test, y_test_predict))"
      ],
      "metadata": {
        "colab": {
          "base_uri": "https://localhost:8080/"
        },
        "id": "pMn_9v_7Wt8_",
        "outputId": "ed9104c9-f5cf-4a24-eccf-7012823e76da"
      },
      "execution_count": 14,
      "outputs": [
        {
          "output_type": "stream",
          "name": "stdout",
          "text": [
            "              precision    recall  f1-score   support\n",
            "\n",
            "           1       0.88      0.40      0.55        70\n",
            "           2       0.54      0.89      0.68       171\n",
            "           3       0.79      0.44      0.57       156\n",
            "           4       0.38      0.35      0.36        40\n",
            "           5       0.00      0.00      0.00        56\n",
            "           6       0.48      0.69      0.57       117\n",
            "           7       0.78      0.27      0.40        26\n",
            "           8       0.44      0.70      0.54       116\n",
            "           9       1.00      0.14      0.25        56\n",
            "\n",
            "    accuracy                           0.54       808\n",
            "   macro avg       0.59      0.43      0.43       808\n",
            "weighted avg       0.59      0.54      0.51       808\n",
            "\n"
          ]
        }
      ]
    },
    {
      "cell_type": "code",
      "source": [
        "from sklearn.metrics import confusion_matrix\n",
        "print(confusion_matrix(y_test, y_test_predict))"
      ],
      "metadata": {
        "colab": {
          "base_uri": "https://localhost:8080/"
        },
        "id": "15QO_YGKVPLd",
        "outputId": "49071a78-a53d-4138-c6ed-0281be6791ae"
      },
      "execution_count": 15,
      "outputs": [
        {
          "output_type": "stream",
          "name": "stdout",
          "text": [
            "[[ 28  42   0   0   0   0   0   0   0]\n",
            " [  1 152  17   0   0   0   1   0   0]\n",
            " [  1  78  69   2   3   2   0   1   0]\n",
            " [  1   1   0  14   0  20   1   3   0]\n",
            " [  1   2   0   6   0  31   0  16   0]\n",
            " [  0   1   1   3   1  81   0  30   0]\n",
            " [  0   0   0   7   0   0   7  12   0]\n",
            " [  0   3   0   2   0  30   0  81   0]\n",
            " [  0   0   0   3   0   5   0  40   8]]\n"
          ]
        }
      ]
    },
    {
      "cell_type": "code",
      "source": [
        "\n",
        "cm=pd.DataFrame(confusion_matrix(y_test, y_test_predict),index=range(1,10), columns=range(1,10))\n",
        "\n",
        "sns.heatmap(cm, annot=True, cmap='bone_r')\n",
        "#non-zero values in the diagonal  ----> GOOD MODEL\n",
        "#so here its a good model"
      ],
      "metadata": {
        "colab": {
          "base_uri": "https://localhost:8080/",
          "height": 282
        },
        "id": "f9f595VyWE1t",
        "outputId": "3ecc99b6-36c5-42d5-aefe-bbc6a0284a3c"
      },
      "execution_count": 16,
      "outputs": [
        {
          "output_type": "execute_result",
          "data": {
            "text/plain": [
              "<matplotlib.axes._subplots.AxesSubplot at 0x7f7967868a10>"
            ]
          },
          "metadata": {},
          "execution_count": 16
        },
        {
          "output_type": "display_data",
          "data": {
            "text/plain": [
              "<Figure size 432x288 with 2 Axes>"
            ],
            "image/png": "[encoded data removed]"
          },
          "metadata": {
            "needs_background": "light"
          }
        }
      ]
    },
    {
      "cell_type": "code",
      "source": [
        ""
      ],
      "metadata": {
        "id": "obQoJOOIWcMN"
      },
      "execution_count": 16,
      "outputs": []
    },
    {
      "cell_type": "markdown",
      "source": [
        "For regression applications, use r2, MAE, MSE.."
      ],
      "metadata": {
        "id": "3Nme9-BjYsdc"
      }
    },
    {
      "cell_type": "code",
      "source": [
        ""
      ],
      "metadata": {
        "id": "lSnmjQueYzlC"
      },
      "execution_count": 16,
      "outputs": []
    },
    {
      "cell_type": "markdown",
      "source": [
        "# Cross Validation score\n",
        "\n",
        "*used in my previous files uploaded*"
      ],
      "metadata": {
        "id": "LiWes4g5gzsT"
      }
    },
    {
      "cell_type": "code",
      "source": [
        "#i was using k-folds\n",
        "#in the k-folds, each fold train the data and the rest for testing\n",
        "#to include the % of our results, stratified k-fold comes\n",
        "\n",
        "#lets say in our example 72% are sand wells producers and 28% are not\n",
        "\n",
        "#so in stratified k folds, each fold will have 72 and 28%"
      ],
      "metadata": {
        "id": "7oT-hNe7hA2z"
      },
      "execution_count": 17,
      "outputs": []
    },
    {
      "cell_type": "code",
      "source": [
        "#lets do it for the KNN example\n",
        "from sklearn.model_selection import StratifiedKFold, cross_val_score\n",
        "\n",
        "skf=StratifiedKFold(shuffle=True, random_state=100)\n",
        "cvs=cross_val_score(knc, x,y, cv=skf, scoring='accuracy')\n"
      ],
      "metadata": {
        "id": "cvb0UMlPiFyP"
      },
      "execution_count": 18,
      "outputs": []
    },
    {
      "cell_type": "code",
      "source": [
        "print(cvs.mean())"
      ],
      "metadata": {
        "colab": {
          "base_uri": "https://localhost:8080/"
        },
        "id": "Iwtq0K56jPNy",
        "outputId": "b9468e5e-6121-4d6f-a61c-f73ac843d95e"
      },
      "execution_count": 19,
      "outputs": [
        {
          "output_type": "stream",
          "name": "stdout",
          "text": [
            "0.7048243620233419\n"
          ]
        }
      ]
    },
    {
      "cell_type": "code",
      "source": [
        ""
      ],
      "metadata": {
        "id": "mcI5SWhvjRTj"
      },
      "execution_count": 19,
      "outputs": []
    },
    {
      "cell_type": "markdown",
      "source": [
        "# Grid Search"
      ],
      "metadata": {
        "id": "jHz6-3bmmU6Q"
      }
    },
    {
      "cell_type": "code",
      "source": [
        "#let's use the KNN example before for the sand production"
      ],
      "metadata": {
        "id": "wjBJGYv6mXNd"
      },
      "execution_count": 20,
      "outputs": []
    },
    {
      "cell_type": "code",
      "source": [
        "highest_score=0\n",
        "i=0\n",
        "for n in [2,3,4,5]:\n",
        "  for w in ['uniform', 'distance']:\n",
        "    for l in [2,3,4]:\n",
        "      kncg=KNeighborsClassifier(n_neighbors=n, weights=w, leaf_size=l)\n",
        "      scores=(cross_val_score(kncg, x,y,cv=5, scoring='accuracy')).mean()\n",
        "      scores=round(scores, 3)\n",
        "      print('iteration:',i,'\\tscore:',scores, '\\tn_neighbors:', n, '\\tweight:', w, '\\tleaf size:', l)\n",
        "      i+=1\n",
        "\n",
        "      if scores>highest_score:\n",
        "        highest_score=scores\n",
        "\n",
        "        best_parameters={'n_neighbors':n, 'weight':w, 'leaf_size':l}\n",
        "print('\\nbest parameters:', best_parameters)\n",
        "print('highest score:', highest_score)\n",
        "\n",
        "\n"
      ],
      "metadata": {
        "colab": {
          "base_uri": "https://localhost:8080/"
        },
        "id": "kfnMOj4_OSFz",
        "outputId": "759bca63-51c4-46af-e72e-1cdb01f175b2"
      },
      "execution_count": 21,
      "outputs": [
        {
          "output_type": "stream",
          "name": "stdout",
          "text": [
            "iteration: 0 \tscore: 0.429 \tn_neighbors: 2 \tweight: uniform \tleaf size: 2\n",
            "iteration: 1 \tscore: 0.429 \tn_neighbors: 2 \tweight: uniform \tleaf size: 3\n",
            "iteration: 2 \tscore: 0.429 \tn_neighbors: 2 \tweight: uniform \tleaf size: 4\n",
            "iteration: 3 \tscore: 0.447 \tn_neighbors: 2 \tweight: distance \tleaf size: 2\n",
            "iteration: 4 \tscore: 0.447 \tn_neighbors: 2 \tweight: distance \tleaf size: 3\n",
            "iteration: 5 \tscore: 0.447 \tn_neighbors: 2 \tweight: distance \tleaf size: 4\n",
            "iteration: 6 \tscore: 0.45 \tn_neighbors: 3 \tweight: uniform \tleaf size: 2\n",
            "iteration: 7 \tscore: 0.45 \tn_neighbors: 3 \tweight: uniform \tleaf size: 3\n",
            "iteration: 8 \tscore: 0.45 \tn_neighbors: 3 \tweight: uniform \tleaf size: 4\n",
            "iteration: 9 \tscore: 0.457 \tn_neighbors: 3 \tweight: distance \tleaf size: 2\n",
            "iteration: 10 \tscore: 0.458 \tn_neighbors: 3 \tweight: distance \tleaf size: 3\n",
            "iteration: 11 \tscore: 0.458 \tn_neighbors: 3 \tweight: distance \tleaf size: 4\n",
            "iteration: 12 \tscore: 0.446 \tn_neighbors: 4 \tweight: uniform \tleaf size: 2\n",
            "iteration: 13 \tscore: 0.446 \tn_neighbors: 4 \tweight: uniform \tleaf size: 3\n",
            "iteration: 14 \tscore: 0.446 \tn_neighbors: 4 \tweight: uniform \tleaf size: 4\n",
            "iteration: 15 \tscore: 0.462 \tn_neighbors: 4 \tweight: distance \tleaf size: 2\n",
            "iteration: 16 \tscore: 0.462 \tn_neighbors: 4 \tweight: distance \tleaf size: 3\n",
            "iteration: 17 \tscore: 0.462 \tn_neighbors: 4 \tweight: distance \tleaf size: 4\n",
            "iteration: 18 \tscore: 0.472 \tn_neighbors: 5 \tweight: uniform \tleaf size: 2\n",
            "iteration: 19 \tscore: 0.472 \tn_neighbors: 5 \tweight: uniform \tleaf size: 3\n",
            "iteration: 20 \tscore: 0.472 \tn_neighbors: 5 \tweight: uniform \tleaf size: 4\n",
            "iteration: 21 \tscore: 0.472 \tn_neighbors: 5 \tweight: distance \tleaf size: 2\n",
            "iteration: 22 \tscore: 0.472 \tn_neighbors: 5 \tweight: distance \tleaf size: 3\n",
            "iteration: 23 \tscore: 0.472 \tn_neighbors: 5 \tweight: distance \tleaf size: 4\n",
            "\n",
            "best parameters: {'n_neighbors': 5, 'weight': 'uniform', 'leaf_size': 2}\n",
            "highest score: 0.472\n"
          ]
        }
      ]
    },
    {
      "cell_type": "code",
      "source": [
        ""
      ],
      "metadata": {
        "id": "ulViiCxZSIlW"
      },
      "execution_count": 21,
      "outputs": []
    },
    {
      "cell_type": "markdown",
      "source": [
        "# GridSearchCV\n",
        "\n",
        "* used with cross validation\n",
        "\n",
        "* not suitable for large datasets as it will take long time to get results"
      ],
      "metadata": {
        "id": "fv5Mspe1ATiJ"
      }
    },
    {
      "cell_type": "code",
      "source": [
        "from sklearn.model_selection import GridSearchCV\n",
        "n=[2,3,4,5]\n",
        "w=['uniform', 'distance']\n",
        "l=[2,3,4]\n",
        "\n",
        "hyperparameters=dict(n_neighbors=n, weights=w, leaf_size=l) #parameters are stated according to the estimator to be used \n",
        "\n",
        "knn=KNeighborsClassifier()\n",
        "gridsearch=GridSearchCV(knn, hyperparameters, cv=5)\n",
        "gridsearch.fit(x,y)\n",
        "print('best parameters:', gridsearch.best_params_)\n",
        "print('best estimator:', gridsearch.best_estimator_)\n",
        "print('best scores:', gridsearch.best_score_)\n",
        "\n",
        "print(classification_report(y,gridsearch.predict(x)))"
      ],
      "metadata": {
        "colab": {
          "base_uri": "https://localhost:8080/"
        },
        "id": "1pZWMp3ZAkSU",
        "outputId": "10909bf1-b81e-4517-f8a2-97a065ad25c7"
      },
      "execution_count": 35,
      "outputs": [
        {
          "output_type": "stream",
          "name": "stdout",
          "text": [
            "best parameters: {'leaf_size': 2, 'n_neighbors': 2, 'weights': 'distance'}\n",
            "best estimator: KNeighborsClassifier(leaf_size=2, n_neighbors=2, weights='distance')\n",
            "best scores: 0.7933333333333333\n",
            "              precision    recall  f1-score   support\n",
            "\n",
            "           0       1.00      1.00      1.00         8\n",
            "           1       1.00      1.00      1.00        21\n",
            "\n",
            "    accuracy                           1.00        29\n",
            "   macro avg       1.00      1.00      1.00        29\n",
            "weighted avg       1.00      1.00      1.00        29\n",
            "\n"
          ]
        }
      ]
    },
    {
      "cell_type": "code",
      "source": [
        "####################################################################################################\n",
        "from sklearn.model_selection import GridSearchCV\n",
        "n=[2,3,4,5]\n",
        "w=['uniform', 'distance']\n",
        "l=[2,3,4]\n",
        "\n",
        "hyperparameters=dict(n_neighbors=n, weights=w, leaf_size=l) #parameters are stated according to the estimator to be used \n",
        "\n",
        "knn=KNeighborsClassifier()\n",
        "gridsearch=GridSearchCV(knn, hyperparameters, cv=5)\n",
        "gridsearch.fit(x,y)\n",
        "print('best parameters:', gridsearch.best_estimator_.get_params()['weights']) #here just an example if i need only weights \n",
        "\n",
        "\n",
        "print(classification_report(y,gridsearch.predict(x)))\n",
        "########################################################################################################"
      ],
      "metadata": {
        "colab": {
          "base_uri": "https://localhost:8080/"
        },
        "id": "XLwkp6ijD9eF",
        "outputId": "953c0559-2c33-40b0-92ad-6f03ed400f11"
      },
      "execution_count": 33,
      "outputs": [
        {
          "output_type": "stream",
          "name": "stdout",
          "text": [
            "best parameters: distance\n",
            "              precision    recall  f1-score   support\n",
            "\n",
            "           0       1.00      1.00      1.00         8\n",
            "           1       1.00      1.00      1.00        21\n",
            "\n",
            "    accuracy                           1.00        29\n",
            "   macro avg       1.00      1.00      1.00        29\n",
            "weighted avg       1.00      1.00      1.00        29\n",
            "\n"
          ]
        }
      ]
    },
    {
      "cell_type": "code",
      "source": [
        "from sklearn.model_selection import RandomizedSearchCV\n",
        "n=[2,3,4,5]\n",
        "w=['uniform', 'distance']\n",
        "l=[2,3,4]\n",
        "hyperparameters=dict(n_neighbors=n, weights=w, leaf_size=l)\n",
        "knn=KNeighborsClassifier()\n",
        "rgridsearch=RandomizedSearchCV(knn, hyperparameters, n_iter=12, cv=5, random_state=1)\n",
        "rgridsearch.fit(x, y)\n",
        "print('best parameters:', rgridsearch.best_params_)\n",
        "print('best estimator:', rgridsearch.best_estimator_)\n",
        "print('best scores:', gridsearch.best_score_)\n",
        "\n",
        "print(classification_report(y, rgridsearch.predict(x)))"
      ],
      "metadata": {
        "colab": {
          "base_uri": "https://localhost:8080/"
        },
        "id": "j59_uk1JFzmF",
        "outputId": "665d1a81-3f33-4aeb-b7c9-9d16d75d0a80"
      },
      "execution_count": 36,
      "outputs": [
        {
          "output_type": "stream",
          "name": "stdout",
          "text": [
            "best parameters: {'weights': 'distance', 'n_neighbors': 4, 'leaf_size': 3}\n",
            "best estimator: KNeighborsClassifier(leaf_size=3, n_neighbors=4, weights='distance')\n",
            "best scores: 0.7933333333333333\n",
            "              precision    recall  f1-score   support\n",
            "\n",
            "           0       1.00      1.00      1.00         8\n",
            "           1       1.00      1.00      1.00        21\n",
            "\n",
            "    accuracy                           1.00        29\n",
            "   macro avg       1.00      1.00      1.00        29\n",
            "weighted avg       1.00      1.00      1.00        29\n",
            "\n"
          ]
        }
      ]
    },
    {
      "cell_type": "code",
      "source": [
        ""
      ],
      "metadata": {
        "id": "jlGvzlsXIWg8"
      },
      "execution_count": null,
      "outputs": []
    },
    {
      "cell_type": "markdown",
      "source": [
        "multiclass example"
      ],
      "metadata": {
        "id": "6GYaFkxLI6yx"
      }
    },
    {
      "cell_type": "code",
      "source": [
        "#take the example of facies for logistics regression\n",
        "p=['l1', 'l2']\n",
        "c=np.logspace(0,4,20)\n",
        "lr=LogisticRegression(multi_class='auto',solver='liblinear',max_iter=200)\n",
        "hyperparameters=dict(penalty=p, C=c)\n",
        "gridsearch=RandomizedSearchCV(lr, hyperparameters, cv=5)\n",
        "gridsearch.fit(x,y)\n",
        "print('best parameters:', rgridsearch.best_params_)\n",
        "print('best estimator:', rgridsearch.best_estimator_)\n",
        "print('best scores:', gridsearch.best_score_)\n",
        "\n",
        "print(classification_report(y, gridsearch.predict(x)))"
      ],
      "metadata": {
        "colab": {
          "base_uri": "https://localhost:8080/"
        },
        "id": "9KdxZ6dcI-kG",
        "outputId": "0d473a61-ec84-472a-93a8-f60f1b896183"
      },
      "execution_count": 44,
      "outputs": [
        {
          "output_type": "stream",
          "name": "stdout",
          "text": [
            "best parameters: {'weights': 'distance', 'n_neighbors': 4, 'leaf_size': 3}\n",
            "best estimator: KNeighborsClassifier(leaf_size=3, n_neighbors=4, weights='distance')\n",
            "best scores: 0.538046520975591\n",
            "              precision    recall  f1-score   support\n",
            "\n",
            "           1       0.68      0.56      0.62       259\n",
            "           2       0.59      0.73      0.65       738\n",
            "           3       0.69      0.56      0.62       615\n",
            "           4       0.51      0.46      0.48       184\n",
            "           5       0.26      0.03      0.06       217\n",
            "           6       0.48      0.67      0.56       462\n",
            "           7       0.60      0.49      0.54        98\n",
            "           8       0.56      0.63      0.59       498\n",
            "           9       0.75      0.60      0.67       161\n",
            "\n",
            "    accuracy                           0.58      3232\n",
            "   macro avg       0.57      0.53      0.53      3232\n",
            "weighted avg       0.58      0.58      0.57      3232\n",
            "\n"
          ]
        }
      ]
    },
    {
      "cell_type": "code",
      "source": [
        ""
      ],
      "metadata": {
        "id": "lNlYlEU_KPqu"
      },
      "execution_count": null,
      "outputs": []
    }
  ]
}