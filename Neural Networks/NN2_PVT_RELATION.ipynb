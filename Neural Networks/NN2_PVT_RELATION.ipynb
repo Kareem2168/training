{
  "nbformat": 4,
  "nbformat_minor": 0,
  "metadata": {
    "colab": {
      "name": "NN2 PVT RELATION",
      "provenance": [],
      "collapsed_sections": []
    },
    "kernelspec": {
      "name": "python3",
      "display_name": "Python 3"
    },
    "language_info": {
      "name": "python"
    }
  },
  "cells": [
    {
      "cell_type": "markdown",
      "source": [
        "# In this code, I will be applying neural networks for PVT correlation, and will use hyperparameters tuning using keras tuner to get the best hyperparameters"
      ],
      "metadata": {
        "id": "LTfJjBzavBn_"
      }
    },
    {
      "cell_type": "markdown",
      "source": [
        "I will be using scikit, MLPRegressor for the neural network model"
      ],
      "metadata": {
        "id": "pKOU2sFbNGRy"
      }
    },
    {
      "cell_type": "code",
      "execution_count": 2,
      "metadata": {
        "id": "pkskHmIYZ1_-"
      },
      "outputs": [],
      "source": [
        "import numpy as np\n",
        "import matplotlib.pyplot as plt \n",
        "import seaborn as sns \n",
        "import pandas as pd"
      ]
    },
    {
      "cell_type": "code",
      "source": [
        "from google.colab import files\n",
        "files.upload()"
      ],
      "metadata": {
        "id": "JJolw1EvZ4eG"
      },
      "execution_count": null,
      "outputs": []
    },
    {
      "cell_type": "code",
      "source": [
        "df=pd.read_csv('Chapter6_PVT Data.csv')\n",
        "df.head()"
      ],
      "metadata": {
        "colab": {
          "base_uri": "https://localhost:8080/",
          "height": 206
        },
        "id": "ebnKMGNpcNG3",
        "outputId": "f92a0652-8b62-4022-dd5b-74ab1f9997c8"
      },
      "execution_count": 4,
      "outputs": [
        {
          "output_type": "execute_result",
          "data": {
            "text/plain": [
              "   Temperature           Rs  Gas Gravity    Oil API          Pbp\n",
              "0   124.224811   983.507201     1.095773  27.378218  3094.473796\n",
              "1   105.670201  1118.311927     1.264539  30.497141  2593.138497\n",
              "2   220.984279   255.071907     0.840619  37.779038  1118.302194\n",
              "3   244.728321    48.801731     1.109872  35.049613   232.011706\n",
              "4   104.153879    75.385002     0.889540  24.543380   421.236666"
            ],
            "text/html": [
              "\n",
              "  <div id=\"df-04824dd9-c6ce-4448-93ac-89232e6fdb7e\">\n",
              "    <div class=\"colab-df-container\">\n",
              "      <div>\n",
              "<style scoped>\n",
              "    .dataframe tbody tr th:only-of-type {\n",
              "        vertical-align: middle;\n",
              "    }\n",
              "\n",
              "    .dataframe tbody tr th {\n",
              "        vertical-align: top;\n",
              "    }\n",
              "\n",
              "    .dataframe thead th {\n",
              "        text-align: right;\n",
              "    }\n",
              "</style>\n",
              "<table border=\"1\" class=\"dataframe\">\n",
              "  <thead>\n",
              "    <tr style=\"text-align: right;\">\n",
              "      <th></th>\n",
              "      <th>Temperature</th>\n",
              "      <th>Rs</th>\n",
              "      <th>Gas Gravity</th>\n",
              "      <th>Oil API</th>\n",
              "      <th>Pbp</th>\n",
              "    </tr>\n",
              "  </thead>\n",
              "  <tbody>\n",
              "    <tr>\n",
              "      <th>0</th>\n",
              "      <td>124.224811</td>\n",
              "      <td>983.507201</td>\n",
              "      <td>1.095773</td>\n",
              "      <td>27.378218</td>\n",
              "      <td>3094.473796</td>\n",
              "    </tr>\n",
              "    <tr>\n",
              "      <th>1</th>\n",
              "      <td>105.670201</td>\n",
              "      <td>1118.311927</td>\n",
              "      <td>1.264539</td>\n",
              "      <td>30.497141</td>\n",
              "      <td>2593.138497</td>\n",
              "    </tr>\n",
              "    <tr>\n",
              "      <th>2</th>\n",
              "      <td>220.984279</td>\n",
              "      <td>255.071907</td>\n",
              "      <td>0.840619</td>\n",
              "      <td>37.779038</td>\n",
              "      <td>1118.302194</td>\n",
              "    </tr>\n",
              "    <tr>\n",
              "      <th>3</th>\n",
              "      <td>244.728321</td>\n",
              "      <td>48.801731</td>\n",
              "      <td>1.109872</td>\n",
              "      <td>35.049613</td>\n",
              "      <td>232.011706</td>\n",
              "    </tr>\n",
              "    <tr>\n",
              "      <th>4</th>\n",
              "      <td>104.153879</td>\n",
              "      <td>75.385002</td>\n",
              "      <td>0.889540</td>\n",
              "      <td>24.543380</td>\n",
              "      <td>421.236666</td>\n",
              "    </tr>\n",
              "  </tbody>\n",
              "</table>\n",
              "</div>\n",
              "      <button class=\"colab-df-convert\" onclick=\"convertToInteractive('df-04824dd9-c6ce-4448-93ac-89232e6fdb7e')\"\n",
              "              title=\"Convert this dataframe to an interactive table.\"\n",
              "              style=\"display:none;\">\n",
              "        \n",
              "  <svg xmlns=\"http://www.w3.org/2000/svg\" height=\"24px\"viewBox=\"0 0 24 24\"\n",
              "       width=\"24px\">\n",
              "    <path d=\"M0 0h24v24H0V0z\" fill=\"none\"/>\n",
              "    <path d=\"M18.56 5.44l.94 2.06.94-2.06 2.06-.94-2.06-.94-.94-2.06-.94 2.06-2.06.94zm-11 1L8.5 8.5l.94-2.06 2.06-.94-2.06-.94L8.5 2.5l-.94 2.06-2.06.94zm10 10l.94 2.06.94-2.06 2.06-.94-2.06-.94-.94-2.06-.94 2.06-2.06.94z\"/><path d=\"M17.41 7.96l-1.37-1.37c-.4-.4-.92-.59-1.43-.59-.52 0-1.04.2-1.43.59L10.3 9.45l-7.72 7.72c-.78.78-.78 2.05 0 2.83L4 21.41c.39.39.9.59 1.41.59.51 0 1.02-.2 1.41-.59l7.78-7.78 2.81-2.81c.8-.78.8-2.07 0-2.86zM5.41 20L4 18.59l7.72-7.72 1.47 1.35L5.41 20z\"/>\n",
              "  </svg>\n",
              "      </button>\n",
              "      \n",
              "  <style>\n",
              "    .colab-df-container {\n",
              "      display:flex;\n",
              "      flex-wrap:wrap;\n",
              "      gap: 12px;\n",
              "    }\n",
              "\n",
              "    .colab-df-convert {\n",
              "      background-color: #E8F0FE;\n",
              "      border: none;\n",
              "      border-radius: 50%;\n",
              "      cursor: pointer;\n",
              "      display: none;\n",
              "      fill: #1967D2;\n",
              "      height: 32px;\n",
              "      padding: 0 0 0 0;\n",
              "      width: 32px;\n",
              "    }\n",
              "\n",
              "    .colab-df-convert:hover {\n",
              "      background-color: #E2EBFA;\n",
              "      box-shadow: 0px 1px 2px rgba(60, 64, 67, 0.3), 0px 1px 3px 1px rgba(60, 64, 67, 0.15);\n",
              "      fill: #174EA6;\n",
              "    }\n",
              "\n",
              "    [theme=dark] .colab-df-convert {\n",
              "      background-color: #3B4455;\n",
              "      fill: #D2E3FC;\n",
              "    }\n",
              "\n",
              "    [theme=dark] .colab-df-convert:hover {\n",
              "      background-color: #434B5C;\n",
              "      box-shadow: 0px 1px 3px 1px rgba(0, 0, 0, 0.15);\n",
              "      filter: drop-shadow(0px 1px 2px rgba(0, 0, 0, 0.3));\n",
              "      fill: #FFFFFF;\n",
              "    }\n",
              "  </style>\n",
              "\n",
              "      <script>\n",
              "        const buttonEl =\n",
              "          document.querySelector('#df-04824dd9-c6ce-4448-93ac-89232e6fdb7e button.colab-df-convert');\n",
              "        buttonEl.style.display =\n",
              "          google.colab.kernel.accessAllowed ? 'block' : 'none';\n",
              "\n",
              "        async function convertToInteractive(key) {\n",
              "          const element = document.querySelector('#df-04824dd9-c6ce-4448-93ac-89232e6fdb7e');\n",
              "          const dataTable =\n",
              "            await google.colab.kernel.invokeFunction('convertToInteractive',\n",
              "                                                     [key], {});\n",
              "          if (!dataTable) return;\n",
              "\n",
              "          const docLinkHtml = 'Like what you see? Visit the ' +\n",
              "            '<a target=\"_blank\" href=https://colab.research.google.com/notebooks/data_table.ipynb>data table notebook</a>'\n",
              "            + ' to learn more about interactive tables.';\n",
              "          element.innerHTML = '';\n",
              "          dataTable['output_type'] = 'display_data';\n",
              "          await google.colab.output.renderOutput(dataTable, element);\n",
              "          const docLink = document.createElement('div');\n",
              "          docLink.innerHTML = docLinkHtml;\n",
              "          element.appendChild(docLink);\n",
              "        }\n",
              "      </script>\n",
              "    </div>\n",
              "  </div>\n",
              "  "
            ]
          },
          "metadata": {},
          "execution_count": 4
        }
      ]
    },
    {
      "cell_type": "code",
      "source": [
        "df.describe()"
      ],
      "metadata": {
        "colab": {
          "base_uri": "https://localhost:8080/",
          "height": 300
        },
        "id": "w9wKnB1AM4Cq",
        "outputId": "f88f4864-3b7f-44d4-dad0-0ec2620dda25"
      },
      "execution_count": 5,
      "outputs": [
        {
          "output_type": "execute_result",
          "data": {
            "text/plain": [
              "       Temperature           Rs  Gas Gravity     Oil API          Pbp\n",
              "count   249.000000   249.000000   249.000000  249.000000   249.000000\n",
              "mean    147.796271   411.145756     1.012870   31.658760  1424.602150\n",
              "std      41.936641   291.829082     0.162192    5.036067   908.669973\n",
              "min      70.447234    27.832416     0.797048   17.854225   131.484967\n",
              "25%     116.365357   183.034832     0.885612   28.469070   697.772696\n",
              "50%     142.257643   348.735793     0.978741   32.604282  1252.802615\n",
              "75%     176.074354   587.055416     1.113760   35.875571  1937.635034\n",
              "max     282.911419  1471.094081     1.632588   39.714096  4306.643567"
            ],
            "text/html": [
              "\n",
              "  <div id=\"df-976871ca-b887-4253-b9fc-4996f962625e\">\n",
              "    <div class=\"colab-df-container\">\n",
              "      <div>\n",
              "<style scoped>\n",
              "    .dataframe tbody tr th:only-of-type {\n",
              "        vertical-align: middle;\n",
              "    }\n",
              "\n",
              "    .dataframe tbody tr th {\n",
              "        vertical-align: top;\n",
              "    }\n",
              "\n",
              "    .dataframe thead th {\n",
              "        text-align: right;\n",
              "    }\n",
              "</style>\n",
              "<table border=\"1\" class=\"dataframe\">\n",
              "  <thead>\n",
              "    <tr style=\"text-align: right;\">\n",
              "      <th></th>\n",
              "      <th>Temperature</th>\n",
              "      <th>Rs</th>\n",
              "      <th>Gas Gravity</th>\n",
              "      <th>Oil API</th>\n",
              "      <th>Pbp</th>\n",
              "    </tr>\n",
              "  </thead>\n",
              "  <tbody>\n",
              "    <tr>\n",
              "      <th>count</th>\n",
              "      <td>249.000000</td>\n",
              "      <td>249.000000</td>\n",
              "      <td>249.000000</td>\n",
              "      <td>249.000000</td>\n",
              "      <td>249.000000</td>\n",
              "    </tr>\n",
              "    <tr>\n",
              "      <th>mean</th>\n",
              "      <td>147.796271</td>\n",
              "      <td>411.145756</td>\n",
              "      <td>1.012870</td>\n",
              "      <td>31.658760</td>\n",
              "      <td>1424.602150</td>\n",
              "    </tr>\n",
              "    <tr>\n",
              "      <th>std</th>\n",
              "      <td>41.936641</td>\n",
              "      <td>291.829082</td>\n",
              "      <td>0.162192</td>\n",
              "      <td>5.036067</td>\n",
              "      <td>908.669973</td>\n",
              "    </tr>\n",
              "    <tr>\n",
              "      <th>min</th>\n",
              "      <td>70.447234</td>\n",
              "      <td>27.832416</td>\n",
              "      <td>0.797048</td>\n",
              "      <td>17.854225</td>\n",
              "      <td>131.484967</td>\n",
              "    </tr>\n",
              "    <tr>\n",
              "      <th>25%</th>\n",
              "      <td>116.365357</td>\n",
              "      <td>183.034832</td>\n",
              "      <td>0.885612</td>\n",
              "      <td>28.469070</td>\n",
              "      <td>697.772696</td>\n",
              "    </tr>\n",
              "    <tr>\n",
              "      <th>50%</th>\n",
              "      <td>142.257643</td>\n",
              "      <td>348.735793</td>\n",
              "      <td>0.978741</td>\n",
              "      <td>32.604282</td>\n",
              "      <td>1252.802615</td>\n",
              "    </tr>\n",
              "    <tr>\n",
              "      <th>75%</th>\n",
              "      <td>176.074354</td>\n",
              "      <td>587.055416</td>\n",
              "      <td>1.113760</td>\n",
              "      <td>35.875571</td>\n",
              "      <td>1937.635034</td>\n",
              "    </tr>\n",
              "    <tr>\n",
              "      <th>max</th>\n",
              "      <td>282.911419</td>\n",
              "      <td>1471.094081</td>\n",
              "      <td>1.632588</td>\n",
              "      <td>39.714096</td>\n",
              "      <td>4306.643567</td>\n",
              "    </tr>\n",
              "  </tbody>\n",
              "</table>\n",
              "</div>\n",
              "      <button class=\"colab-df-convert\" onclick=\"convertToInteractive('df-976871ca-b887-4253-b9fc-4996f962625e')\"\n",
              "              title=\"Convert this dataframe to an interactive table.\"\n",
              "              style=\"display:none;\">\n",
              "        \n",
              "  <svg xmlns=\"http://www.w3.org/2000/svg\" height=\"24px\"viewBox=\"0 0 24 24\"\n",
              "       width=\"24px\">\n",
              "    <path d=\"M0 0h24v24H0V0z\" fill=\"none\"/>\n",
              "    <path d=\"M18.56 5.44l.94 2.06.94-2.06 2.06-.94-2.06-.94-.94-2.06-.94 2.06-2.06.94zm-11 1L8.5 8.5l.94-2.06 2.06-.94-2.06-.94L8.5 2.5l-.94 2.06-2.06.94zm10 10l.94 2.06.94-2.06 2.06-.94-2.06-.94-.94-2.06-.94 2.06-2.06.94z\"/><path d=\"M17.41 7.96l-1.37-1.37c-.4-.4-.92-.59-1.43-.59-.52 0-1.04.2-1.43.59L10.3 9.45l-7.72 7.72c-.78.78-.78 2.05 0 2.83L4 21.41c.39.39.9.59 1.41.59.51 0 1.02-.2 1.41-.59l7.78-7.78 2.81-2.81c.8-.78.8-2.07 0-2.86zM5.41 20L4 18.59l7.72-7.72 1.47 1.35L5.41 20z\"/>\n",
              "  </svg>\n",
              "      </button>\n",
              "      \n",
              "  <style>\n",
              "    .colab-df-container {\n",
              "      display:flex;\n",
              "      flex-wrap:wrap;\n",
              "      gap: 12px;\n",
              "    }\n",
              "\n",
              "    .colab-df-convert {\n",
              "      background-color: #E8F0FE;\n",
              "      border: none;\n",
              "      border-radius: 50%;\n",
              "      cursor: pointer;\n",
              "      display: none;\n",
              "      fill: #1967D2;\n",
              "      height: 32px;\n",
              "      padding: 0 0 0 0;\n",
              "      width: 32px;\n",
              "    }\n",
              "\n",
              "    .colab-df-convert:hover {\n",
              "      background-color: #E2EBFA;\n",
              "      box-shadow: 0px 1px 2px rgba(60, 64, 67, 0.3), 0px 1px 3px 1px rgba(60, 64, 67, 0.15);\n",
              "      fill: #174EA6;\n",
              "    }\n",
              "\n",
              "    [theme=dark] .colab-df-convert {\n",
              "      background-color: #3B4455;\n",
              "      fill: #D2E3FC;\n",
              "    }\n",
              "\n",
              "    [theme=dark] .colab-df-convert:hover {\n",
              "      background-color: #434B5C;\n",
              "      box-shadow: 0px 1px 3px 1px rgba(0, 0, 0, 0.15);\n",
              "      filter: drop-shadow(0px 1px 2px rgba(0, 0, 0, 0.3));\n",
              "      fill: #FFFFFF;\n",
              "    }\n",
              "  </style>\n",
              "\n",
              "      <script>\n",
              "        const buttonEl =\n",
              "          document.querySelector('#df-976871ca-b887-4253-b9fc-4996f962625e button.colab-df-convert');\n",
              "        buttonEl.style.display =\n",
              "          google.colab.kernel.accessAllowed ? 'block' : 'none';\n",
              "\n",
              "        async function convertToInteractive(key) {\n",
              "          const element = document.querySelector('#df-976871ca-b887-4253-b9fc-4996f962625e');\n",
              "          const dataTable =\n",
              "            await google.colab.kernel.invokeFunction('convertToInteractive',\n",
              "                                                     [key], {});\n",
              "          if (!dataTable) return;\n",
              "\n",
              "          const docLinkHtml = 'Like what you see? Visit the ' +\n",
              "            '<a target=\"_blank\" href=https://colab.research.google.com/notebooks/data_table.ipynb>data table notebook</a>'\n",
              "            + ' to learn more about interactive tables.';\n",
              "          element.innerHTML = '';\n",
              "          dataTable['output_type'] = 'display_data';\n",
              "          await google.colab.output.renderOutput(dataTable, element);\n",
              "          const docLink = document.createElement('div');\n",
              "          docLink.innerHTML = docLinkHtml;\n",
              "          element.appendChild(docLink);\n",
              "        }\n",
              "      </script>\n",
              "    </div>\n",
              "  </div>\n",
              "  "
            ]
          },
          "metadata": {},
          "execution_count": 5
        }
      ]
    },
    {
      "cell_type": "code",
      "source": [
        "df1=df\n",
        "from sklearn.preprocessing import MinMaxScaler\n",
        "sc=MinMaxScaler()\n",
        "df1=sc.fit_transform(df1)\n",
        "df1=pd.DataFrame(df1, columns=df.columns)\n",
        "x=df1.iloc[:,0:4]\n",
        "y=df1.iloc[:,4]\n",
        "print('xnorm', x)\n",
        "print('\\n\\nynorm', y)"
      ],
      "metadata": {
        "colab": {
          "base_uri": "https://localhost:8080/"
        },
        "id": "F6CR4F35dsGP",
        "outputId": "b9643525-a5fb-4fe2-b4bd-0c045546ffa9"
      },
      "execution_count": 6,
      "outputs": [
        {
          "output_type": "stream",
          "name": "stdout",
          "text": [
            "xnorm      Temperature        Rs  Gas Gravity   Oil API\n",
            "0       0.253114  0.662163     0.357523  0.435684\n",
            "1       0.165783  0.755566     0.559507  0.578362\n",
            "2       0.708529  0.157449     0.052147  0.911479\n",
            "3       0.820285  0.014529     0.374397  0.786619\n",
            "4       0.158646  0.032948     0.110697  0.306002\n",
            "..           ...       ...          ...       ...\n",
            "244     0.158016  0.169922     0.040176  0.629538\n",
            "245     0.392637  0.081187     0.069890  0.443044\n",
            "246     0.303037  0.044121     0.228887  0.641406\n",
            "247     0.607431  0.146021     0.199245  0.778893\n",
            "248     0.252848  0.697718     0.382911  0.589227\n",
            "\n",
            "[249 rows x 4 columns]\n",
            "\n",
            "\n",
            "ynorm 0      0.709671\n",
            "1      0.589595\n",
            "2      0.236354\n",
            "3      0.024077\n",
            "4      0.069399\n",
            "         ...   \n",
            "244    0.240674\n",
            "245    0.156046\n",
            "246    0.063672\n",
            "247    0.193863\n",
            "248    0.636192\n",
            "Name: Pbp, Length: 249, dtype: float64\n"
          ]
        }
      ]
    },
    {
      "cell_type": "code",
      "source": [
        "y.max()"
      ],
      "metadata": {
        "colab": {
          "base_uri": "https://localhost:8080/"
        },
        "id": "-iRo2wtuI6mS",
        "outputId": "4059be44-81ff-4907-b849-98671fc2f302"
      },
      "execution_count": 7,
      "outputs": [
        {
          "output_type": "execute_result",
          "data": {
            "text/plain": [
              "1.0"
            ]
          },
          "metadata": {},
          "execution_count": 7
        }
      ]
    },
    {
      "cell_type": "code",
      "source": [
        "#check which feature has the most influence on our output\n",
        "from sklearn.ensemble import RandomForestRegressor\n",
        "rf=RandomForestRegressor(max_depth=10, random_state=0)\n",
        "rf.fit(x,y)\n",
        "fi=pd.Series(rf.feature_importances_, index=x.columns).sort_values(ascending=False)\n",
        "sns.barplot(x=fi, y=fi.index)"
      ],
      "metadata": {
        "colab": {
          "base_uri": "https://localhost:8080/",
          "height": 282
        },
        "id": "UeMhfpXGu-RK",
        "outputId": "941e603f-0e37-4328-ed36-0501aeab575e"
      },
      "execution_count": 8,
      "outputs": [
        {
          "output_type": "execute_result",
          "data": {
            "text/plain": [
              "<matplotlib.axes._subplots.AxesSubplot at 0x7ffba5ca1350>"
            ]
          },
          "metadata": {},
          "execution_count": 8
        },
        {
          "output_type": "display_data",
          "data": {
            "text/plain": [
              "<Figure size 432x288 with 1 Axes>"
            ],
            "image/png": "[encoded data removed]"
          },
          "metadata": {
            "needs_background": "light"
          }
        }
      ]
    },
    {
      "cell_type": "code",
      "source": [
        "# or use this plot method \n",
        "from sklearn.ensemble import RandomForestRegressor\n",
        "rf=RandomForestRegressor(max_depth=10, random_state=0)\n",
        "rf.fit(x,y)\n",
        "fi=pd.Series(rf.feature_importances_, index=x.columns).sort_values(ascending=False)\n",
        "fi.plot(kind='barh')\n"
      ],
      "metadata": {
        "colab": {
          "base_uri": "https://localhost:8080/",
          "height": 282
        },
        "id": "kFodJ1HgeK7O",
        "outputId": "124615a8-72a1-4b10-9bc6-886b2c67016c"
      },
      "execution_count": 9,
      "outputs": [
        {
          "output_type": "execute_result",
          "data": {
            "text/plain": [
              "<matplotlib.axes._subplots.AxesSubplot at 0x7ffba5778810>"
            ]
          },
          "metadata": {},
          "execution_count": 9
        },
        {
          "output_type": "display_data",
          "data": {
            "text/plain": [
              "<Figure size 432x288 with 1 Axes>"
            ],
            "image/png": "[encoded data removed]"
          },
          "metadata": {
            "needs_background": "light"
          }
        }
      ]
    },
    {
      "cell_type": "code",
      "source": [
        "from sklearn.ensemble import GradientBoostingRegressor\n",
        "rf=GradientBoostingRegressor(max_depth=10, random_state=0)\n",
        "rf.fit(x,y)\n",
        "fi=pd.Series(rf.feature_importances_, index=x.columns).sort_values(ascending=False)\n",
        "fi.plot(kind='barh')\n"
      ],
      "metadata": {
        "colab": {
          "base_uri": "https://localhost:8080/",
          "height": 282
        },
        "id": "c5eupy_zdqG6",
        "outputId": "e4f35fab-3385-4788-ab40-29d2adc457a1"
      },
      "execution_count": 10,
      "outputs": [
        {
          "output_type": "execute_result",
          "data": {
            "text/plain": [
              "<matplotlib.axes._subplots.AxesSubplot at 0x7ffba5bec1d0>"
            ]
          },
          "metadata": {},
          "execution_count": 10
        },
        {
          "output_type": "display_data",
          "data": {
            "text/plain": [
              "<Figure size 432x288 with 1 Axes>"
            ],
            "image/png": "[encoded data removed]"
          },
          "metadata": {
            "needs_background": "light"
          }
        }
      ]
    },
    {
      "cell_type": "code",
      "source": [
        "from sklearn.model_selection import train_test_split, RandomizedSearchCV\n",
        "x_train, x_test, y_train, y_test= train_test_split(x,y, test_size=0.3, random_state=50)\n",
        "from sklearn.metrics import r2_score\n",
        "from sklearn.neural_network import MLPRegressor\n",
        "\n"
      ],
      "metadata": {
        "id": "5ttWyhBOf5Nr"
      },
      "execution_count": 11,
      "outputs": []
    },
    {
      "cell_type": "code",
      "source": [
        "#Check the model score\n",
        "mlp=MLPRegressor(hidden_layer_sizes=(7), activation='tanh',\n",
        "solver='lbfgs', alpha=1,\n",
        "learning_rate_init=0.1, max_iter=200,\n",
        "random_state=50, tol=0.01).fit(x_train,y_train)\n",
        "\n",
        "r2_score(y_test, mlp.predict(x_test))"
      ],
      "metadata": {
        "colab": {
          "base_uri": "https://localhost:8080/"
        },
        "id": "qNlnFO31BpVT",
        "outputId": "b5ca18fb-ff6c-4bb8-cdc8-894d4840cf66"
      },
      "execution_count": 12,
      "outputs": [
        {
          "output_type": "execute_result",
          "data": {
            "text/plain": [
              "0.8995558148359026"
            ]
          },
          "metadata": {},
          "execution_count": 12
        }
      ]
    },
    {
      "cell_type": "code",
      "source": [
        "#or use randomized grid search to fetch the best parameters\n",
        "h=[4,5,6,7,8,9,10]\n",
        "a=['tanh', 'relu',]\n",
        "m=[200, 300,400,500,600]\n",
        "al=[0.0001, 0.001,1]\n",
        "t=[0.001,0.01,1]\n",
        "s=['lbfj', 'adam']\n",
        "r=list(range(0,1001))\n",
        "l=[0.001,0.01,0.1,0.2,0.3,0.4,1,1.1]\n",
        "hyper_parameters=dict(hidden_layer_sizes=h, activation=a, max_iter=m, alpha=al, tol=t, solver=s, random_state=r, learning_rate_init=l)\n",
        "\n",
        "mlp=MLPRegressor()\n",
        "rscv=RandomizedSearchCV(mlp,hyper_parameters,n_iter=20, cv=5).fit(x,y)\n",
        "print('best score:', rscv.best_score_)\n",
        "print('\\nbest parameters:', rscv.best_params_)"
      ],
      "metadata": {
        "colab": {
          "base_uri": "https://localhost:8080/"
        },
        "id": "Gh3sLIgb6rLZ",
        "outputId": "3f8b5bdb-a2ce-4b6b-ad3d-d49b30d37ada"
      },
      "execution_count": 81,
      "outputs": [
        {
          "output_type": "stream",
          "name": "stdout",
          "text": [
            "best score: 0.928198745362379\n",
            "\n",
            "best parameters: {'tol': 0.001, 'solver': 'adam', 'random_state': 780, 'max_iter': 300, 'learning_rate_init': 0.1, 'hidden_layer_sizes': 5, 'alpha': 0.0001, 'activation': 'relu'}\n"
          ]
        },
        {
          "output_type": "stream",
          "name": "stderr",
          "text": [
            "/usr/local/lib/python3.7/dist-packages/sklearn/model_selection/_validation.py:372: FitFailedWarning: \n",
            "35 fits failed out of a total of 100.\n",
            "The score on these train-test partitions for these parameters will be set to nan.\n",
            "If these failures are not expected, you can try to debug them by setting error_score='raise'.\n",
            "\n",
            "Below are more details about the failures:\n",
            "--------------------------------------------------------------------------------\n",
            "35 fits failed with the following error:\n",
            "Traceback (most recent call last):\n",
            "  File \"/usr/local/lib/python3.7/dist-packages/sklearn/model_selection/_validation.py\", line 680, in _fit_and_score\n",
            "    estimator.fit(X_train, y_train, **fit_params)\n",
            "  File \"/usr/local/lib/python3.7/dist-packages/sklearn/neural_network/_multilayer_perceptron.py\", line 752, in fit\n",
            "    return self._fit(X, y, incremental=False)\n",
            "  File \"/usr/local/lib/python3.7/dist-packages/sklearn/neural_network/_multilayer_perceptron.py\", line 384, in _fit\n",
            "    self._validate_hyperparameters()\n",
            "  File \"/usr/local/lib/python3.7/dist-packages/sklearn/neural_network/_multilayer_perceptron.py\", line 503, in _validate_hyperparameters\n",
            "    % (self.solver, \", \".join(supported_solvers))\n",
            "ValueError: The solver lbfj is not supported.  Expected one of: sgd, adam, lbfgs\n",
            "\n",
            "  warnings.warn(some_fits_failed_message, FitFailedWarning)\n",
            "/usr/local/lib/python3.7/dist-packages/sklearn/model_selection/_search.py:972: UserWarning: One or more of the test scores are non-finite: [ -1.29333845          nan  -0.85898343  -3.64280149          nan\n",
            "          nan          nan   0.78108401   0.87492729  -0.92107793\n",
            "          nan  -1.14470182 -13.12431305   0.88867169          nan\n",
            "   0.92662495  -2.3457455           nan   0.92819875  -0.28375162]\n",
            "  category=UserWarning,\n"
          ]
        }
      ]
    },
    {
      "cell_type": "code",
      "source": [
        "#if i need 2 hidden layers \n",
        "mylist=[1,2,3,4,5,6,7,8,9]\n",
        "my_list=list(np.random.randint(1,10, 9))\n",
        "\n",
        "h=[]\n",
        "\n",
        "for i,j in zip(mylist, my_list):\n",
        "  hidden=(i,j)\n",
        "  h.append(hidden)\n",
        "    \n",
        "\n",
        "a=['tanh', 'relu',]\n",
        "m=[200, 300,400,500,600]\n",
        "al=[0.0001, 0.001,1]\n",
        "t=[0.001,0.01,1]\n",
        "s=['lbfj', 'adam']\n",
        "r=list(range(0,1001))\n",
        "l=[0.001,0.01,0.1,0.2,0.3,0.4,1,1.1]\n",
        "hyper_parameters=dict(hidden_layer_sizes=h, activation=a, max_iter=m, alpha=al, tol=t, solver=s, random_state=r, learning_rate_init=l)\n",
        "\n",
        "mlp=MLPRegressor()\n",
        "rscv=RandomizedSearchCV(mlp,hyper_parameters,n_iter=20, cv=5).fit(x,y)\n",
        "\n",
        "\n",
        "\n",
        "\n",
        "\n",
        "print('best score:', rscv.best_score_)\n",
        "print('\\nbest parameters:', rscv.best_params_)"
      ],
      "metadata": {
        "colab": {
          "base_uri": "https://localhost:8080/"
        },
        "id": "_4wzKL8z1inG",
        "outputId": "195eedb4-0b7a-4f3d-c8d9-0e0e20a81ac8"
      },
      "execution_count": 82,
      "outputs": [
        {
          "output_type": "stream",
          "name": "stdout",
          "text": [
            "best score: 0.8820313891445981\n",
            "\n",
            "best parameters: {'tol': 0.001, 'solver': 'adam', 'random_state': 913, 'max_iter': 300, 'learning_rate_init': 0.1, 'hidden_layer_sizes': (3, 5), 'alpha': 0.001, 'activation': 'relu'}\n"
          ]
        },
        {
          "output_type": "stream",
          "name": "stderr",
          "text": [
            "/usr/local/lib/python3.7/dist-packages/sklearn/model_selection/_validation.py:372: FitFailedWarning: \n",
            "65 fits failed out of a total of 100.\n",
            "The score on these train-test partitions for these parameters will be set to nan.\n",
            "If these failures are not expected, you can try to debug them by setting error_score='raise'.\n",
            "\n",
            "Below are more details about the failures:\n",
            "--------------------------------------------------------------------------------\n",
            "65 fits failed with the following error:\n",
            "Traceback (most recent call last):\n",
            "  File \"/usr/local/lib/python3.7/dist-packages/sklearn/model_selection/_validation.py\", line 680, in _fit_and_score\n",
            "    estimator.fit(X_train, y_train, **fit_params)\n",
            "  File \"/usr/local/lib/python3.7/dist-packages/sklearn/neural_network/_multilayer_perceptron.py\", line 752, in fit\n",
            "    return self._fit(X, y, incremental=False)\n",
            "  File \"/usr/local/lib/python3.7/dist-packages/sklearn/neural_network/_multilayer_perceptron.py\", line 384, in _fit\n",
            "    self._validate_hyperparameters()\n",
            "  File \"/usr/local/lib/python3.7/dist-packages/sklearn/neural_network/_multilayer_perceptron.py\", line 503, in _validate_hyperparameters\n",
            "    % (self.solver, \", \".join(supported_solvers))\n",
            "ValueError: The solver lbfj is not supported.  Expected one of: sgd, adam, lbfgs\n",
            "\n",
            "  warnings.warn(some_fits_failed_message, FitFailedWarning)\n",
            "/usr/local/lib/python3.7/dist-packages/sklearn/model_selection/_search.py:972: UserWarning: One or more of the test scores are non-finite: [-12.75975456  -0.13877812          nan          nan  -0.61061427\n",
            "   0.88203139          nan          nan   0.21767213          nan\n",
            "          nan  -0.29253565          nan          nan          nan\n",
            "          nan -11.02901763          nan          nan          nan]\n",
            "  category=UserWarning,\n"
          ]
        }
      ]
    },
    {
      "cell_type": "code",
      "source": [
        "mlp=MLPRegressor()\n",
        "mlp.fit(x_train, y_train)\n",
        "y_pred_test=mlp.predict(x_test)\n",
        "y_pred_train=mlp.predict(x_train)\n",
        "\n",
        "\n",
        "Y_test=pd.DataFrame(y_test)\n",
        "Y_train=pd.DataFrame(y_train)\n",
        "Y_pred_test=pd.DataFrame(y_pred_test)\n",
        "Y_pred_train=pd.DataFrame(y_pred_train)"
      ],
      "metadata": {
        "id": "1l8vH7L9FeWc"
      },
      "execution_count": 15,
      "outputs": []
    },
    {
      "cell_type": "code",
      "source": [
        "r2test=r2_score(y_test,y_pred_test)\n",
        "r2train=r2_score(y_train,y_pred_train)"
      ],
      "metadata": {
        "id": "GAyy1UrEJzVX"
      },
      "execution_count": 16,
      "outputs": []
    },
    {
      "cell_type": "code",
      "source": [
        "R2_test=['Score=',r2test]\n",
        "R2_train=['Score=',r2train]\n",
        "plt.figure(figsize=(12,7))\n",
        "\n",
        "plt.subplot(1,2, 1)\n",
        "plt.scatter(y_test,y_pred_test)\n",
        "plt.plot([y_test.min(),y_pred_test.max()], [y_test.min(),y_pred_test.max()], '--')\n",
        "plt.xlabel('Pbp_Test_Measured(psi)')\n",
        "plt.ylabel('Pbp_Test_Predicted(Psi)')\n",
        "plt.legend([R2_test])\n",
        "\n",
        "\n",
        "plt.subplot(1,2,2)\n",
        "plt.plot([y_train.min(),y_pred_train.max()], [y_train.min(),y_pred_train.max()], 'r--')\n",
        "plt.scatter(y_train,y_pred_train, c='red')\n",
        "plt.xlabel('Pbp_Train_Measured(psi)')\n",
        "plt.ylabel('Pbp_Train_Predicted(Psi)')\n",
        "plt.legend([R2_train])\n",
        "\n"
      ],
      "metadata": {
        "colab": {
          "base_uri": "https://localhost:8080/",
          "height": 460
        },
        "id": "gqgPatiX-orz",
        "outputId": "93b66453-445e-4d53-80d5-626649f8ad7f"
      },
      "execution_count": 17,
      "outputs": [
        {
          "output_type": "execute_result",
          "data": {
            "text/plain": [
              "<matplotlib.legend.Legend at 0x7ffba7d097d0>"
            ]
          },
          "metadata": {},
          "execution_count": 17
        },
        {
          "output_type": "display_data",
          "data": {
            "text/plain": [
              "<Figure size 864x504 with 2 Axes>"
            ],
            "image/png": "[encoded data removed]"
          },
          "metadata": {
            "needs_background": "light"
          }
        }
      ]
    },
    {
      "cell_type": "code",
      "source": [
        " #using keras"
      ],
      "metadata": {
        "id": "z8MdUYsQR1jU"
      },
      "execution_count": 18,
      "outputs": []
    },
    {
      "cell_type": "code",
      "source": [
        "from pandas.core.common import random_state\n",
        "from keras.models import Sequential\n",
        "from keras.layers import Dense\n",
        "from keras.callbacks import EarlyStopping\n",
        "import tensorflow as tf\n",
        "\n",
        "model=Sequential()\n",
        "model.add(Dense(4, activation='relu', input_dim=4))\n",
        "model.add(Dense(4,activation='relu' ))\n",
        "model.add(Dense(1))\n",
        "np.random.seed(50)\n",
        "model.compile(optimizer='adam', loss='mse')\n",
        "earlystop=EarlyStopping(patience=3)\n",
        "np.random.seed(50)\n",
        "history=model.fit(x_train, y_train, epochs=100, validation_data=(x_test, y_test), callbacks=[earlystop])\n",
        "\n",
        "model.evaluate(x_test,y_test)\n",
        "\n",
        "#several loss functions exist\n"
      ],
      "metadata": {
        "colab": {
          "base_uri": "https://localhost:8080/"
        },
        "id": "KZBpUdUoFGH0",
        "outputId": "53d7e93e-6905-4be9-c133-4a8b378e3209"
      },
      "execution_count": 19,
      "outputs": [
        {
          "output_type": "stream",
          "name": "stdout",
          "text": [
            "Epoch 1/100\n",
            "6/6 [==============================] - 2s 83ms/step - loss: 0.1497 - val_loss: 0.1502\n",
            "Epoch 2/100\n",
            "6/6 [==============================] - 0s 18ms/step - loss: 0.1430 - val_loss: 0.1436\n",
            "Epoch 3/100\n",
            "6/6 [==============================] - 0s 37ms/step - loss: 0.1377 - val_loss: 0.1382\n",
            "Epoch 4/100\n",
            "6/6 [==============================] - 0s 18ms/step - loss: 0.1329 - val_loss: 0.1337\n",
            "Epoch 5/100\n",
            "6/6 [==============================] - 0s 14ms/step - loss: 0.1286 - val_loss: 0.1296\n",
            "Epoch 6/100\n",
            "6/6 [==============================] - 0s 14ms/step - loss: 0.1250 - val_loss: 0.1259\n",
            "Epoch 7/100\n",
            "6/6 [==============================] - 0s 12ms/step - loss: 0.1213 - val_loss: 0.1225\n",
            "Epoch 8/100\n",
            "6/6 [==============================] - 0s 14ms/step - loss: 0.1181 - val_loss: 0.1192\n",
            "Epoch 9/100\n",
            "6/6 [==============================] - 0s 16ms/step - loss: 0.1149 - val_loss: 0.1161\n",
            "Epoch 10/100\n",
            "6/6 [==============================] - 0s 15ms/step - loss: 0.1118 - val_loss: 0.1131\n",
            "Epoch 11/100\n",
            "6/6 [==============================] - 0s 15ms/step - loss: 0.1088 - val_loss: 0.1104\n",
            "Epoch 12/100\n",
            "6/6 [==============================] - 0s 13ms/step - loss: 0.1060 - val_loss: 0.1079\n",
            "Epoch 13/100\n",
            "6/6 [==============================] - 0s 21ms/step - loss: 0.1033 - val_loss: 0.1054\n",
            "Epoch 14/100\n",
            "6/6 [==============================] - 0s 15ms/step - loss: 0.1007 - val_loss: 0.1031\n",
            "Epoch 15/100\n",
            "6/6 [==============================] - 0s 17ms/step - loss: 0.0982 - val_loss: 0.1008\n",
            "Epoch 16/100\n",
            "6/6 [==============================] - 0s 16ms/step - loss: 0.0958 - val_loss: 0.0987\n",
            "Epoch 17/100\n",
            "6/6 [==============================] - 0s 9ms/step - loss: 0.0935 - val_loss: 0.0966\n",
            "Epoch 18/100\n",
            "6/6 [==============================] - 0s 14ms/step - loss: 0.0912 - val_loss: 0.0946\n",
            "Epoch 19/100\n",
            "6/6 [==============================] - 0s 17ms/step - loss: 0.0891 - val_loss: 0.0927\n",
            "Epoch 20/100\n",
            "6/6 [==============================] - 0s 14ms/step - loss: 0.0869 - val_loss: 0.0909\n",
            "Epoch 21/100\n",
            "6/6 [==============================] - 0s 14ms/step - loss: 0.0850 - val_loss: 0.0891\n",
            "Epoch 22/100\n",
            "6/6 [==============================] - 0s 13ms/step - loss: 0.0830 - val_loss: 0.0873\n",
            "Epoch 23/100\n",
            "6/6 [==============================] - 0s 14ms/step - loss: 0.0811 - val_loss: 0.0857\n",
            "Epoch 24/100\n",
            "6/6 [==============================] - 0s 19ms/step - loss: 0.0794 - val_loss: 0.0841\n",
            "Epoch 25/100\n",
            "6/6 [==============================] - 0s 12ms/step - loss: 0.0776 - val_loss: 0.0826\n",
            "Epoch 26/100\n",
            "6/6 [==============================] - 0s 16ms/step - loss: 0.0760 - val_loss: 0.0812\n",
            "Epoch 27/100\n",
            "6/6 [==============================] - 0s 11ms/step - loss: 0.0745 - val_loss: 0.0798\n",
            "Epoch 28/100\n",
            "6/6 [==============================] - 0s 13ms/step - loss: 0.0729 - val_loss: 0.0785\n",
            "Epoch 29/100\n",
            "6/6 [==============================] - 0s 21ms/step - loss: 0.0716 - val_loss: 0.0773\n",
            "Epoch 30/100\n",
            "6/6 [==============================] - 0s 19ms/step - loss: 0.0702 - val_loss: 0.0761\n",
            "Epoch 31/100\n",
            "6/6 [==============================] - 0s 11ms/step - loss: 0.0688 - val_loss: 0.0749\n",
            "Epoch 32/100\n",
            "6/6 [==============================] - 0s 16ms/step - loss: 0.0676 - val_loss: 0.0738\n",
            "Epoch 33/100\n",
            "6/6 [==============================] - 0s 12ms/step - loss: 0.0663 - val_loss: 0.0727\n",
            "Epoch 34/100\n",
            "6/6 [==============================] - 0s 16ms/step - loss: 0.0651 - val_loss: 0.0718\n",
            "Epoch 35/100\n",
            "6/6 [==============================] - 0s 15ms/step - loss: 0.0640 - val_loss: 0.0708\n",
            "Epoch 36/100\n",
            "6/6 [==============================] - 0s 10ms/step - loss: 0.0628 - val_loss: 0.0698\n",
            "Epoch 37/100\n",
            "6/6 [==============================] - 0s 10ms/step - loss: 0.0618 - val_loss: 0.0689\n",
            "Epoch 38/100\n",
            "6/6 [==============================] - 0s 21ms/step - loss: 0.0608 - val_loss: 0.0681\n",
            "Epoch 39/100\n",
            "6/6 [==============================] - 0s 19ms/step - loss: 0.0598 - val_loss: 0.0673\n",
            "Epoch 40/100\n",
            "6/6 [==============================] - 0s 18ms/step - loss: 0.0590 - val_loss: 0.0665\n",
            "Epoch 41/100\n",
            "6/6 [==============================] - 0s 13ms/step - loss: 0.0581 - val_loss: 0.0658\n",
            "Epoch 42/100\n",
            "6/6 [==============================] - 0s 17ms/step - loss: 0.0573 - val_loss: 0.0652\n",
            "Epoch 43/100\n",
            "6/6 [==============================] - 0s 17ms/step - loss: 0.0565 - val_loss: 0.0645\n",
            "Epoch 44/100\n",
            "6/6 [==============================] - 0s 12ms/step - loss: 0.0558 - val_loss: 0.0640\n",
            "Epoch 45/100\n",
            "6/6 [==============================] - 0s 8ms/step - loss: 0.0551 - val_loss: 0.0634\n",
            "Epoch 46/100\n",
            "6/6 [==============================] - 0s 11ms/step - loss: 0.0544 - val_loss: 0.0628\n",
            "Epoch 47/100\n",
            "6/6 [==============================] - 0s 7ms/step - loss: 0.0538 - val_loss: 0.0623\n",
            "Epoch 48/100\n",
            "6/6 [==============================] - 0s 7ms/step - loss: 0.0532 - val_loss: 0.0619\n",
            "Epoch 49/100\n",
            "6/6 [==============================] - 0s 11ms/step - loss: 0.0526 - val_loss: 0.0614\n",
            "Epoch 50/100\n",
            "6/6 [==============================] - 0s 11ms/step - loss: 0.0520 - val_loss: 0.0609\n",
            "Epoch 51/100\n",
            "6/6 [==============================] - 0s 8ms/step - loss: 0.0515 - val_loss: 0.0605\n",
            "Epoch 52/100\n",
            "6/6 [==============================] - 0s 13ms/step - loss: 0.0510 - val_loss: 0.0601\n",
            "Epoch 53/100\n",
            "6/6 [==============================] - 0s 11ms/step - loss: 0.0506 - val_loss: 0.0598\n",
            "Epoch 54/100\n",
            "6/6 [==============================] - 0s 11ms/step - loss: 0.0501 - val_loss: 0.0594\n",
            "Epoch 55/100\n",
            "6/6 [==============================] - 0s 7ms/step - loss: 0.0497 - val_loss: 0.0591\n",
            "Epoch 56/100\n",
            "6/6 [==============================] - 0s 8ms/step - loss: 0.0493 - val_loss: 0.0588\n",
            "Epoch 57/100\n",
            "6/6 [==============================] - 0s 8ms/step - loss: 0.0489 - val_loss: 0.0586\n",
            "Epoch 58/100\n",
            "6/6 [==============================] - 0s 9ms/step - loss: 0.0486 - val_loss: 0.0583\n",
            "Epoch 59/100\n",
            "6/6 [==============================] - 0s 8ms/step - loss: 0.0483 - val_loss: 0.0581\n",
            "Epoch 60/100\n",
            "6/6 [==============================] - 0s 8ms/step - loss: 0.0480 - val_loss: 0.0579\n",
            "Epoch 61/100\n",
            "6/6 [==============================] - 0s 12ms/step - loss: 0.0476 - val_loss: 0.0577\n",
            "Epoch 62/100\n",
            "6/6 [==============================] - 0s 12ms/step - loss: 0.0474 - val_loss: 0.0575\n",
            "Epoch 63/100\n",
            "6/6 [==============================] - 0s 10ms/step - loss: 0.0471 - val_loss: 0.0573\n",
            "Epoch 64/100\n",
            "6/6 [==============================] - 0s 11ms/step - loss: 0.0468 - val_loss: 0.0571\n",
            "Epoch 65/100\n",
            "6/6 [==============================] - 0s 7ms/step - loss: 0.0466 - val_loss: 0.0570\n",
            "Epoch 66/100\n",
            "6/6 [==============================] - 0s 11ms/step - loss: 0.0464 - val_loss: 0.0568\n",
            "Epoch 67/100\n",
            "6/6 [==============================] - 0s 12ms/step - loss: 0.0462 - val_loss: 0.0567\n",
            "Epoch 68/100\n",
            "6/6 [==============================] - 0s 11ms/step - loss: 0.0460 - val_loss: 0.0565\n",
            "Epoch 69/100\n",
            "6/6 [==============================] - 0s 11ms/step - loss: 0.0458 - val_loss: 0.0564\n",
            "Epoch 70/100\n",
            "6/6 [==============================] - 0s 12ms/step - loss: 0.0456 - val_loss: 0.0563\n",
            "Epoch 71/100\n",
            "6/6 [==============================] - 0s 8ms/step - loss: 0.0455 - val_loss: 0.0562\n",
            "Epoch 72/100\n",
            "6/6 [==============================] - 0s 11ms/step - loss: 0.0453 - val_loss: 0.0562\n",
            "Epoch 73/100\n",
            "6/6 [==============================] - 0s 8ms/step - loss: 0.0452 - val_loss: 0.0561\n",
            "Epoch 74/100\n",
            "6/6 [==============================] - 0s 8ms/step - loss: 0.0451 - val_loss: 0.0560\n",
            "Epoch 75/100\n",
            "6/6 [==============================] - 0s 7ms/step - loss: 0.0450 - val_loss: 0.0560\n",
            "Epoch 76/100\n",
            "6/6 [==============================] - 0s 8ms/step - loss: 0.0449 - val_loss: 0.0559\n",
            "Epoch 77/100\n",
            "6/6 [==============================] - 0s 7ms/step - loss: 0.0448 - val_loss: 0.0559\n",
            "Epoch 78/100\n",
            "6/6 [==============================] - 0s 8ms/step - loss: 0.0447 - val_loss: 0.0558\n",
            "Epoch 79/100\n",
            "6/6 [==============================] - 0s 9ms/step - loss: 0.0446 - val_loss: 0.0558\n",
            "Epoch 80/100\n",
            "6/6 [==============================] - 0s 8ms/step - loss: 0.0445 - val_loss: 0.0558\n",
            "Epoch 81/100\n",
            "6/6 [==============================] - 0s 11ms/step - loss: 0.0444 - val_loss: 0.0557\n",
            "Epoch 82/100\n",
            "6/6 [==============================] - 0s 11ms/step - loss: 0.0444 - val_loss: 0.0557\n",
            "Epoch 83/100\n",
            "6/6 [==============================] - 0s 11ms/step - loss: 0.0443 - val_loss: 0.0557\n",
            "Epoch 84/100\n",
            "6/6 [==============================] - 0s 7ms/step - loss: 0.0442 - val_loss: 0.0557\n",
            "Epoch 85/100\n",
            "6/6 [==============================] - 0s 11ms/step - loss: 0.0442 - val_loss: 0.0556\n",
            "Epoch 86/100\n",
            "6/6 [==============================] - 0s 7ms/step - loss: 0.0441 - val_loss: 0.0556\n",
            "Epoch 87/100\n",
            "6/6 [==============================] - 0s 8ms/step - loss: 0.0441 - val_loss: 0.0556\n",
            "Epoch 88/100\n",
            "6/6 [==============================] - 0s 8ms/step - loss: 0.0440 - val_loss: 0.0556\n",
            "Epoch 89/100\n",
            "6/6 [==============================] - 0s 12ms/step - loss: 0.0440 - val_loss: 0.0556\n",
            "Epoch 90/100\n",
            "6/6 [==============================] - 0s 8ms/step - loss: 0.0439 - val_loss: 0.0556\n",
            "Epoch 91/100\n",
            "6/6 [==============================] - 0s 11ms/step - loss: 0.0439 - val_loss: 0.0556\n",
            "Epoch 92/100\n",
            "6/6 [==============================] - 0s 13ms/step - loss: 0.0438 - val_loss: 0.0556\n",
            "Epoch 93/100\n",
            "6/6 [==============================] - 0s 8ms/step - loss: 0.0438 - val_loss: 0.0556\n",
            "Epoch 94/100\n",
            "6/6 [==============================] - 0s 7ms/step - loss: 0.0438 - val_loss: 0.0556\n",
            "Epoch 95/100\n",
            "6/6 [==============================] - 0s 12ms/step - loss: 0.0438 - val_loss: 0.0556\n",
            "Epoch 96/100\n",
            "6/6 [==============================] - 0s 7ms/step - loss: 0.0437 - val_loss: 0.0556\n",
            "Epoch 97/100\n",
            "6/6 [==============================] - 0s 11ms/step - loss: 0.0437 - val_loss: 0.0556\n",
            "3/3 [==============================] - 0s 4ms/step - loss: 0.0556\n"
          ]
        },
        {
          "output_type": "execute_result",
          "data": {
            "text/plain": [
              "0.05557772144675255"
            ]
          },
          "metadata": {},
          "execution_count": 19
        }
      ]
    },
    {
      "cell_type": "code",
      "source": [
        ""
      ],
      "metadata": {
        "id": "RmzVe2xe4uLx"
      },
      "execution_count": 19,
      "outputs": []
    },
    {
      "cell_type": "markdown",
      "source": [
        "I will use Hyper parameter tuner to get best hyperparameters with Keras"
      ],
      "metadata": {
        "id": "JPYKh6g9OZiP"
      }
    },
    {
      "cell_type": "code",
      "source": [
        "pip install keras-tuner"
      ],
      "metadata": {
        "id": "VfzSrccskUVb"
      },
      "execution_count": null,
      "outputs": []
    },
    {
      "cell_type": "code",
      "source": [
        "import keras_tuner as kt\n",
        "from tensorflow import keras\n",
        "from keras_tuner import Hyperband, RandomSearch"
      ],
      "metadata": {
        "id": "KmBdqqeukUNm"
      },
      "execution_count": 37,
      "outputs": []
    },
    {
      "cell_type": "markdown",
      "source": [
        "Using RandomSearch Tuner"
      ],
      "metadata": {
        "id": "reStMTz1OUkT"
      }
    },
    {
      "cell_type": "code",
      "source": [
        "def model_builder(hp):\n",
        "  model=Sequential()\n",
        "\n",
        "  for i in range(hp.Int('number_of_layers', 2,20)):\n",
        "\n",
        "    hp_units=hp.Int('units'+str(i), min_value=7, max_value=30, step=1) #+str(i) means to give unit i ....\n",
        "    model.add(Dense(units=hp_units, activation='relu', input_dim=4))\n",
        "  \n",
        "  model.add(Dense(1))\n",
        "  \n",
        "  hp_loss=hp.Choice('loss', values=['mse', 'msle'])\n",
        "  model.compile(optimizer=keras.optimizers.Adam(hp.Choice('learning_rate', values=[1e-1,1e-2, 1e-3, 1e-4])), loss=hp_loss)\n",
        "  return model\n",
        "  "
      ],
      "metadata": {
        "id": "D3F0IgvrOmKs"
      },
      "execution_count": 46,
      "outputs": []
    },
    {
      "cell_type": "code",
      "source": [
        "tuner=RandomSearch(model_builder, objective='val_loss', max_trials=100, seed=50)\n",
        "early_stop=EarlyStopping(patience=2, monitor='val_loss')\n",
        "tuner.search(x_train, y_train, callbacks=[early_stop], epochs=100, validation_data=(x_test, y_test))"
      ],
      "metadata": {
        "colab": {
          "base_uri": "https://localhost:8080/"
        },
        "id": "_ds1czNPOl5-",
        "outputId": "b3adc152-4555-4dde-bff7-5b173066ef84"
      },
      "execution_count": 47,
      "outputs": [
        {
          "output_type": "stream",
          "name": "stdout",
          "text": [
            "INFO:tensorflow:Reloading Oracle from existing project ./untitled_project/oracle.json\n",
            "INFO:tensorflow:Reloading Tuner from ./untitled_project/tuner0.json\n",
            "INFO:tensorflow:Oracle triggered exit\n"
          ]
        }
      ]
    },
    {
      "cell_type": "code",
      "source": [
        "best_hp=tuner.get_best_hyperparameters()[0]"
      ],
      "metadata": {
        "id": "ulHzUD8ZOl16"
      },
      "execution_count": 48,
      "outputs": []
    },
    {
      "cell_type": "code",
      "source": [
        "h_model = tuner.hypermodel.build(best_hp)\n",
        "h_model.summary()"
      ],
      "metadata": {
        "colab": {
          "base_uri": "https://localhost:8080/"
        },
        "id": "JB8yjlk3pikw",
        "outputId": "df17ad65-b0cb-4db2-c3a5-68e6bf7eabc2"
      },
      "execution_count": 49,
      "outputs": [
        {
          "output_type": "stream",
          "name": "stdout",
          "text": [
            "Model: \"sequential_9\"\n",
            "_________________________________________________________________\n",
            " Layer (type)                Output Shape              Param #   \n",
            "=================================================================\n",
            " dense_19 (Dense)            (None, 7)                 35        \n",
            "                                                                 \n",
            " dense_20 (Dense)            (None, 7)                 56        \n",
            "                                                                 \n",
            " dense_21 (Dense)            (None, 1)                 8         \n",
            "                                                                 \n",
            "=================================================================\n",
            "Total params: 99\n",
            "Trainable params: 99\n",
            "Non-trainable params: 0\n",
            "_________________________________________________________________\n"
          ]
        }
      ]
    },
    {
      "cell_type": "code",
      "source": [
        "tuner.results_summary()"
      ],
      "metadata": {
        "colab": {
          "base_uri": "https://localhost:8080/"
        },
        "id": "g4U49G-QOlv7",
        "outputId": "1921b7d1-0c93-4fc6-ec10-71d0f9544e46"
      },
      "execution_count": 50,
      "outputs": [
        {
          "output_type": "stream",
          "name": "stdout",
          "text": [
            "Results summary\n",
            "Results in ./untitled_project\n",
            "Showing 10 best trials\n",
            "<keras_tuner.engine.objective.Objective object at 0x7ffb35e176d0>\n",
            "Trial summary\n",
            "Hyperparameters:\n",
            "units: 26\n",
            "learning_rate: 0.01\n",
            "loss: msle\n",
            "tuner/epochs: 100\n",
            "tuner/initial_epoch: 34\n",
            "tuner/bracket: 4\n",
            "tuner/round: 4\n",
            "tuner/trial_id: 0143\n",
            "number_of_layers: 2\n",
            "units0: 7\n",
            "units1: 7\n",
            "Score: 0.00012228272680658847\n",
            "Trial summary\n",
            "Hyperparameters:\n",
            "units: 28\n",
            "learning_rate: 0.01\n",
            "loss: msle\n",
            "tuner/epochs: 100\n",
            "tuner/initial_epoch: 34\n",
            "tuner/bracket: 2\n",
            "tuner/round: 2\n",
            "tuner/trial_id: 0228\n",
            "Score: 0.00012458980199880898\n",
            "Trial summary\n",
            "Hyperparameters:\n",
            "units: 29\n",
            "learning_rate: 0.01\n",
            "loss: msle\n",
            "tuner/epochs: 100\n",
            "tuner/initial_epoch: 34\n",
            "tuner/bracket: 3\n",
            "tuner/round: 3\n",
            "tuner/trial_id: 0204\n",
            "Score: 0.0001963531831279397\n",
            "Trial summary\n",
            "Hyperparameters:\n",
            "units: 12\n",
            "learning_rate: 0.01\n",
            "loss: msle\n",
            "tuner/epochs: 100\n",
            "tuner/initial_epoch: 34\n",
            "tuner/bracket: 4\n",
            "tuner/round: 4\n",
            "tuner/trial_id: 0144\n",
            "Score: 0.00024657094036228955\n",
            "Trial summary\n",
            "Hyperparameters:\n",
            "units: 25\n",
            "learning_rate: 0.01\n",
            "loss: msle\n",
            "tuner/epochs: 34\n",
            "tuner/initial_epoch: 12\n",
            "tuner/bracket: 3\n",
            "tuner/round: 2\n",
            "tuner/trial_id: 0194\n",
            "Score: 0.00040492243715561926\n",
            "Trial summary\n",
            "Hyperparameters:\n",
            "units: 29\n",
            "learning_rate: 0.01\n",
            "loss: msle\n",
            "tuner/epochs: 34\n",
            "tuner/initial_epoch: 12\n",
            "tuner/bracket: 3\n",
            "tuner/round: 2\n",
            "tuner/trial_id: 0189\n",
            "Score: 0.0004058934573549777\n",
            "Trial summary\n",
            "Hyperparameters:\n",
            "units: 16\n",
            "learning_rate: 0.01\n",
            "loss: msle\n",
            "tuner/epochs: 34\n",
            "tuner/initial_epoch: 0\n",
            "tuner/bracket: 1\n",
            "tuner/round: 0\n",
            "Score: 0.0004591218603309244\n",
            "Trial summary\n",
            "Hyperparameters:\n",
            "units: 26\n",
            "learning_rate: 0.01\n",
            "loss: msle\n",
            "tuner/epochs: 34\n",
            "tuner/initial_epoch: 12\n",
            "tuner/bracket: 4\n",
            "tuner/round: 3\n",
            "tuner/trial_id: 0136\n",
            "Score: 0.0005019899108447134\n",
            "Trial summary\n",
            "Hyperparameters:\n",
            "units: 28\n",
            "learning_rate: 0.01\n",
            "loss: msle\n",
            "tuner/epochs: 34\n",
            "tuner/initial_epoch: 12\n",
            "tuner/bracket: 2\n",
            "tuner/round: 1\n",
            "tuner/trial_id: 0221\n",
            "Score: 0.000508817785885185\n",
            "Trial summary\n",
            "Hyperparameters:\n",
            "units: 23\n",
            "learning_rate: 0.01\n",
            "loss: msle\n",
            "tuner/epochs: 34\n",
            "tuner/initial_epoch: 12\n",
            "tuner/bracket: 3\n",
            "tuner/round: 2\n",
            "tuner/trial_id: 0190\n",
            "Score: 0.0005176597042009234\n"
          ]
        }
      ]
    },
    {
      "cell_type": "code",
      "source": [
        ""
      ],
      "metadata": {
        "id": "xnwJFbeOOlp3"
      },
      "execution_count": 21,
      "outputs": []
    },
    {
      "cell_type": "code",
      "source": [
        ""
      ],
      "metadata": {
        "id": "5X9NQCgZOlgg"
      },
      "execution_count": 21,
      "outputs": []
    },
    {
      "cell_type": "markdown",
      "source": [
        "Using Hyperband tuner\n"
      ],
      "metadata": {
        "id": "exPvfAvbOOVX"
      }
    },
    {
      "cell_type": "code",
      "source": [
        "def model_builder(hp):\n",
        "  model=Sequential()\n",
        "  hp_units=hp.Int('units', min_value=7, max_value=30, step=1)\n",
        "  model.add(Dense(units=hp_units, activation='relu', input_dim=4))\n",
        "  \n",
        "  model.add(Dense(1))\n",
        "  \n",
        "  hp_loss=hp.Choice('loss', values=['mse', 'msle'])\n",
        "  model.compile(optimizer=keras.optimizers.Adam(hp.Choice('learning_rate', values=[1e-1,1e-2, 1e-3, 1e-4])), loss=hp_loss)\n",
        "  return model\n",
        "  #hp.Choice('learning_rate', values=[hp_lr])\n",
        "  "
      ],
      "metadata": {
        "id": "Dpk8njGcluo7"
      },
      "execution_count": 72,
      "outputs": []
    },
    {
      "cell_type": "code",
      "source": [
        "\n",
        "tuner = kt.Hyperband(model_builder, max_epochs=100, objective='loss')"
      ],
      "metadata": {
        "colab": {
          "base_uri": "https://localhost:8080/"
        },
        "id": "HXL9Lp1ywWgq",
        "outputId": "e837bf6d-e8d0-4035-81f8-60f95a0ccf78"
      },
      "execution_count": 73,
      "outputs": [
        {
          "output_type": "stream",
          "name": "stdout",
          "text": [
            "INFO:tensorflow:Reloading Oracle from existing project ./untitled_project/oracle.json\n",
            "INFO:tensorflow:Reloading Tuner from ./untitled_project/tuner0.json\n"
          ]
        }
      ]
    },
    {
      "cell_type": "code",
      "source": [
        "tuner.search_space_summary()"
      ],
      "metadata": {
        "colab": {
          "base_uri": "https://localhost:8080/"
        },
        "id": "niHd0MoHwWa5",
        "outputId": "8461639b-9d3f-433e-f471-8522978e90c5"
      },
      "execution_count": 74,
      "outputs": [
        {
          "output_type": "stream",
          "name": "stdout",
          "text": [
            "Search space summary\n",
            "Default search space size: 3\n",
            "units (Int)\n",
            "{'default': None, 'conditions': [], 'min_value': 7, 'max_value': 30, 'step': 1, 'sampling': None}\n",
            "learning_rate (Choice)\n",
            "{'default': 0.1, 'conditions': [], 'values': [0.1, 0.01, 0.001, 0.0001], 'ordered': True}\n",
            "loss (Choice)\n",
            "{'default': 'mse', 'conditions': [], 'values': ['mse', 'msle'], 'ordered': False}\n"
          ]
        }
      ]
    },
    {
      "cell_type": "code",
      "source": [
        "early_stop=EarlyStopping(patience=2, monitor='val_loss')\n",
        "tuner.search(x_train, y_train, callbacks=[early_stop], epochs=10)"
      ],
      "metadata": {
        "colab": {
          "base_uri": "https://localhost:8080/"
        },
        "id": "5_wNU9FHwWUl",
        "outputId": "b4307c1b-79d2-41dd-ab40-3d097f15d299"
      },
      "execution_count": 75,
      "outputs": [
        {
          "output_type": "stream",
          "name": "stdout",
          "text": [
            "Trial 254 Complete [00h 00m 06s]\n",
            "loss: 0.09200189262628555\n",
            "\n",
            "Best loss So Far: 0.00012228272680658847\n",
            "Total elapsed time: 00h 01m 06s\n",
            "INFO:tensorflow:Oracle triggered exit\n"
          ]
        }
      ]
    },
    {
      "cell_type": "code",
      "source": [
        "best_hp=tuner.get_best_hyperparameters()[0]"
      ],
      "metadata": {
        "id": "OgjuLwNswWMx"
      },
      "execution_count": 76,
      "outputs": []
    },
    {
      "cell_type": "code",
      "source": [
        "best_hp"
      ],
      "metadata": {
        "colab": {
          "base_uri": "https://localhost:8080/"
        },
        "id": "LrfmQAi9wV9i",
        "outputId": "cf42cca5-7cf3-426c-f170-3931e5f83b63"
      },
      "execution_count": 77,
      "outputs": [
        {
          "output_type": "execute_result",
          "data": {
            "text/plain": [
              "<keras_tuner.engine.hyperparameters.HyperParameters at 0x7ffb34549e50>"
            ]
          },
          "metadata": {},
          "execution_count": 77
        }
      ]
    },
    {
      "cell_type": "code",
      "source": [
        "h_model = tuner.hypermodel.build(best_hp)\n",
        "h_model.summary()"
      ],
      "metadata": {
        "colab": {
          "base_uri": "https://localhost:8080/"
        },
        "id": "crDeuaEyvElt",
        "outputId": "3e99c1c8-9db7-4844-fa14-d4987575138d"
      },
      "execution_count": 78,
      "outputs": [
        {
          "output_type": "stream",
          "name": "stdout",
          "text": [
            "Model: \"sequential_1\"\n",
            "_________________________________________________________________\n",
            " Layer (type)                Output Shape              Param #   \n",
            "=================================================================\n",
            " dense_2 (Dense)             (None, 26)                130       \n",
            "                                                                 \n",
            " dense_3 (Dense)             (None, 1)                 27        \n",
            "                                                                 \n",
            "=================================================================\n",
            "Total params: 157\n",
            "Trainable params: 157\n",
            "Non-trainable params: 0\n",
            "_________________________________________________________________\n"
          ]
        }
      ]
    },
    {
      "cell_type": "code",
      "source": [
        "tuner.results_summary()"
      ],
      "metadata": {
        "colab": {
          "base_uri": "https://localhost:8080/"
        },
        "id": "bycA40ZPApU6",
        "outputId": "be74c12f-3bf2-44b9-befe-a28376f6f707"
      },
      "execution_count": 62,
      "outputs": [
        {
          "output_type": "stream",
          "name": "stdout",
          "text": [
            "Results summary\n",
            "Results in ./untitled_project\n",
            "Showing 10 best trials\n",
            "<keras_tuner.engine.objective.Objective object at 0x7ffb31d98e50>\n",
            "Trial summary\n",
            "Hyperparameters:\n",
            "units: 26\n",
            "learning_rate: 0.01\n",
            "loss: msle\n",
            "tuner/epochs: 100\n",
            "tuner/initial_epoch: 34\n",
            "tuner/bracket: 4\n",
            "tuner/round: 4\n",
            "tuner/trial_id: 0143\n",
            "number_of_layers: 2\n",
            "units0: 7\n",
            "units1: 7\n",
            "Score: 0.00012228272680658847\n",
            "Trial summary\n",
            "Hyperparameters:\n",
            "units: 28\n",
            "learning_rate: 0.01\n",
            "loss: msle\n",
            "tuner/epochs: 100\n",
            "tuner/initial_epoch: 34\n",
            "tuner/bracket: 2\n",
            "tuner/round: 2\n",
            "tuner/trial_id: 0228\n",
            "Score: 0.00012458980199880898\n",
            "Trial summary\n",
            "Hyperparameters:\n",
            "units: 29\n",
            "learning_rate: 0.01\n",
            "loss: msle\n",
            "tuner/epochs: 100\n",
            "tuner/initial_epoch: 34\n",
            "tuner/bracket: 3\n",
            "tuner/round: 3\n",
            "tuner/trial_id: 0204\n",
            "Score: 0.0001963531831279397\n",
            "Trial summary\n",
            "Hyperparameters:\n",
            "units: 12\n",
            "learning_rate: 0.01\n",
            "loss: msle\n",
            "tuner/epochs: 100\n",
            "tuner/initial_epoch: 34\n",
            "tuner/bracket: 4\n",
            "tuner/round: 4\n",
            "tuner/trial_id: 0144\n",
            "Score: 0.00024657094036228955\n",
            "Trial summary\n",
            "Hyperparameters:\n",
            "units: 25\n",
            "learning_rate: 0.01\n",
            "loss: msle\n",
            "tuner/epochs: 34\n",
            "tuner/initial_epoch: 12\n",
            "tuner/bracket: 3\n",
            "tuner/round: 2\n",
            "tuner/trial_id: 0194\n",
            "Score: 0.00040492243715561926\n",
            "Trial summary\n",
            "Hyperparameters:\n",
            "units: 29\n",
            "learning_rate: 0.01\n",
            "loss: msle\n",
            "tuner/epochs: 34\n",
            "tuner/initial_epoch: 12\n",
            "tuner/bracket: 3\n",
            "tuner/round: 2\n",
            "tuner/trial_id: 0189\n",
            "Score: 0.0004058934573549777\n",
            "Trial summary\n",
            "Hyperparameters:\n",
            "units: 16\n",
            "learning_rate: 0.01\n",
            "loss: msle\n",
            "tuner/epochs: 34\n",
            "tuner/initial_epoch: 0\n",
            "tuner/bracket: 1\n",
            "tuner/round: 0\n",
            "Score: 0.0004591218603309244\n",
            "Trial summary\n",
            "Hyperparameters:\n",
            "units: 26\n",
            "learning_rate: 0.01\n",
            "loss: msle\n",
            "tuner/epochs: 34\n",
            "tuner/initial_epoch: 12\n",
            "tuner/bracket: 4\n",
            "tuner/round: 3\n",
            "tuner/trial_id: 0136\n",
            "Score: 0.0005019899108447134\n",
            "Trial summary\n",
            "Hyperparameters:\n",
            "units: 28\n",
            "learning_rate: 0.01\n",
            "loss: msle\n",
            "tuner/epochs: 34\n",
            "tuner/initial_epoch: 12\n",
            "tuner/bracket: 2\n",
            "tuner/round: 1\n",
            "tuner/trial_id: 0221\n",
            "Score: 0.000508817785885185\n",
            "Trial summary\n",
            "Hyperparameters:\n",
            "units: 23\n",
            "learning_rate: 0.01\n",
            "loss: msle\n",
            "tuner/epochs: 34\n",
            "tuner/initial_epoch: 12\n",
            "tuner/bracket: 3\n",
            "tuner/round: 2\n",
            "tuner/trial_id: 0190\n",
            "Score: 0.0005176597042009234\n"
          ]
        }
      ]
    },
    {
      "cell_type": "code",
      "source": [
        "h_model.fit(x_train, y_train, epochs=100)"
      ],
      "metadata": {
        "colab": {
          "base_uri": "https://localhost:8080/"
        },
        "id": "FKtcYo4fvEjY",
        "outputId": "e949060c-b856-46c0-865a-a6e3c2e02ffe"
      },
      "execution_count": 58,
      "outputs": [
        {
          "output_type": "stream",
          "name": "stdout",
          "text": [
            "Epoch 1/100\n",
            "6/6 [==============================] - 1s 5ms/step - loss: 0.0428\n",
            "Epoch 2/100\n",
            "6/6 [==============================] - 0s 4ms/step - loss: 0.0248\n",
            "Epoch 3/100\n",
            "6/6 [==============================] - 0s 3ms/step - loss: 0.0121\n",
            "Epoch 4/100\n",
            "6/6 [==============================] - 0s 3ms/step - loss: 0.0070\n",
            "Epoch 5/100\n",
            "6/6 [==============================] - 0s 4ms/step - loss: 0.0043\n",
            "Epoch 6/100\n",
            "6/6 [==============================] - 0s 4ms/step - loss: 0.0028\n",
            "Epoch 7/100\n",
            "6/6 [==============================] - 0s 3ms/step - loss: 0.0016\n",
            "Epoch 8/100\n",
            "6/6 [==============================] - 0s 4ms/step - loss: 0.0013\n",
            "Epoch 9/100\n",
            "6/6 [==============================] - 0s 3ms/step - loss: 0.0012\n",
            "Epoch 10/100\n",
            "6/6 [==============================] - 0s 3ms/step - loss: 0.0011\n",
            "Epoch 11/100\n",
            "6/6 [==============================] - 0s 4ms/step - loss: 0.0011\n",
            "Epoch 12/100\n",
            "6/6 [==============================] - 0s 4ms/step - loss: 9.8577e-04\n",
            "Epoch 13/100\n",
            "6/6 [==============================] - 0s 3ms/step - loss: 9.4771e-04\n",
            "Epoch 14/100\n",
            "6/6 [==============================] - 0s 4ms/step - loss: 9.1765e-04\n",
            "Epoch 15/100\n",
            "6/6 [==============================] - 0s 5ms/step - loss: 9.1051e-04\n",
            "Epoch 16/100\n",
            "6/6 [==============================] - 0s 3ms/step - loss: 8.7256e-04\n",
            "Epoch 17/100\n",
            "6/6 [==============================] - 0s 4ms/step - loss: 9.8448e-04\n",
            "Epoch 18/100\n",
            "6/6 [==============================] - 0s 4ms/step - loss: 8.2662e-04\n",
            "Epoch 19/100\n",
            "6/6 [==============================] - 0s 4ms/step - loss: 7.8732e-04\n",
            "Epoch 20/100\n",
            "6/6 [==============================] - 0s 4ms/step - loss: 7.6850e-04\n",
            "Epoch 21/100\n",
            "6/6 [==============================] - 0s 5ms/step - loss: 7.6892e-04\n",
            "Epoch 22/100\n",
            "6/6 [==============================] - 0s 4ms/step - loss: 7.8318e-04\n",
            "Epoch 23/100\n",
            "6/6 [==============================] - 0s 4ms/step - loss: 7.2984e-04\n",
            "Epoch 24/100\n",
            "6/6 [==============================] - 0s 4ms/step - loss: 6.6241e-04\n",
            "Epoch 25/100\n",
            "6/6 [==============================] - 0s 4ms/step - loss: 6.6881e-04\n",
            "Epoch 26/100\n",
            "6/6 [==============================] - 0s 4ms/step - loss: 6.0636e-04\n",
            "Epoch 27/100\n",
            "6/6 [==============================] - 0s 4ms/step - loss: 6.0445e-04\n",
            "Epoch 28/100\n",
            "6/6 [==============================] - 0s 3ms/step - loss: 5.6727e-04\n",
            "Epoch 29/100\n",
            "6/6 [==============================] - 0s 3ms/step - loss: 5.5751e-04\n",
            "Epoch 30/100\n",
            "6/6 [==============================] - 0s 4ms/step - loss: 5.6281e-04\n",
            "Epoch 31/100\n",
            "6/6 [==============================] - 0s 3ms/step - loss: 5.4879e-04\n",
            "Epoch 32/100\n",
            "6/6 [==============================] - 0s 3ms/step - loss: 5.1895e-04\n",
            "Epoch 33/100\n",
            "6/6 [==============================] - 0s 4ms/step - loss: 5.2683e-04\n",
            "Epoch 34/100\n",
            "6/6 [==============================] - 0s 3ms/step - loss: 6.9719e-04\n",
            "Epoch 35/100\n",
            "6/6 [==============================] - 0s 3ms/step - loss: 6.0932e-04\n",
            "Epoch 36/100\n",
            "6/6 [==============================] - 0s 3ms/step - loss: 5.5415e-04\n",
            "Epoch 37/100\n",
            "6/6 [==============================] - 0s 3ms/step - loss: 5.1217e-04\n",
            "Epoch 38/100\n",
            "6/6 [==============================] - 0s 3ms/step - loss: 4.9175e-04\n",
            "Epoch 39/100\n",
            "6/6 [==============================] - 0s 3ms/step - loss: 4.8599e-04\n",
            "Epoch 40/100\n",
            "6/6 [==============================] - 0s 3ms/step - loss: 4.8305e-04\n",
            "Epoch 41/100\n",
            "6/6 [==============================] - 0s 5ms/step - loss: 4.4189e-04\n",
            "Epoch 42/100\n",
            "6/6 [==============================] - 0s 3ms/step - loss: 4.3389e-04\n",
            "Epoch 43/100\n",
            "6/6 [==============================] - 0s 3ms/step - loss: 4.3052e-04\n",
            "Epoch 44/100\n",
            "6/6 [==============================] - 0s 3ms/step - loss: 5.0405e-04\n",
            "Epoch 45/100\n",
            "6/6 [==============================] - 0s 5ms/step - loss: 4.1574e-04\n",
            "Epoch 46/100\n",
            "6/6 [==============================] - 0s 3ms/step - loss: 4.3062e-04\n",
            "Epoch 47/100\n",
            "6/6 [==============================] - 0s 4ms/step - loss: 4.6250e-04\n",
            "Epoch 48/100\n",
            "6/6 [==============================] - 0s 4ms/step - loss: 4.4499e-04\n",
            "Epoch 49/100\n",
            "6/6 [==============================] - 0s 3ms/step - loss: 3.9261e-04\n",
            "Epoch 50/100\n",
            "6/6 [==============================] - 0s 3ms/step - loss: 5.1424e-04\n",
            "Epoch 51/100\n",
            "6/6 [==============================] - 0s 3ms/step - loss: 4.2721e-04\n",
            "Epoch 52/100\n",
            "6/6 [==============================] - 0s 4ms/step - loss: 3.6530e-04\n",
            "Epoch 53/100\n",
            "6/6 [==============================] - 0s 4ms/step - loss: 4.4749e-04\n",
            "Epoch 54/100\n",
            "6/6 [==============================] - 0s 4ms/step - loss: 5.4152e-04\n",
            "Epoch 55/100\n",
            "6/6 [==============================] - 0s 4ms/step - loss: 6.2173e-04\n",
            "Epoch 56/100\n",
            "6/6 [==============================] - 0s 3ms/step - loss: 4.5776e-04\n",
            "Epoch 57/100\n",
            "6/6 [==============================] - 0s 3ms/step - loss: 3.6824e-04\n",
            "Epoch 58/100\n",
            "6/6 [==============================] - 0s 3ms/step - loss: 3.1574e-04\n",
            "Epoch 59/100\n",
            "6/6 [==============================] - 0s 3ms/step - loss: 3.3325e-04\n",
            "Epoch 60/100\n",
            "6/6 [==============================] - 0s 3ms/step - loss: 3.0040e-04\n",
            "Epoch 61/100\n",
            "6/6 [==============================] - 0s 3ms/step - loss: 3.4699e-04\n",
            "Epoch 62/100\n",
            "6/6 [==============================] - 0s 3ms/step - loss: 2.9477e-04\n",
            "Epoch 63/100\n",
            "6/6 [==============================] - 0s 3ms/step - loss: 3.5740e-04\n",
            "Epoch 64/100\n",
            "6/6 [==============================] - 0s 3ms/step - loss: 3.2417e-04\n",
            "Epoch 65/100\n",
            "6/6 [==============================] - 0s 5ms/step - loss: 3.0360e-04\n",
            "Epoch 66/100\n",
            "6/6 [==============================] - 0s 3ms/step - loss: 2.4259e-04\n",
            "Epoch 67/100\n",
            "6/6 [==============================] - 0s 4ms/step - loss: 2.2334e-04\n",
            "Epoch 68/100\n",
            "6/6 [==============================] - 0s 4ms/step - loss: 2.1460e-04\n",
            "Epoch 69/100\n",
            "6/6 [==============================] - 0s 4ms/step - loss: 2.0293e-04\n",
            "Epoch 70/100\n",
            "6/6 [==============================] - 0s 3ms/step - loss: 2.2065e-04\n",
            "Epoch 71/100\n",
            "6/6 [==============================] - 0s 4ms/step - loss: 2.1278e-04\n",
            "Epoch 72/100\n",
            "6/6 [==============================] - 0s 4ms/step - loss: 2.0124e-04\n",
            "Epoch 73/100\n",
            "6/6 [==============================] - 0s 4ms/step - loss: 1.9472e-04\n",
            "Epoch 74/100\n",
            "6/6 [==============================] - 0s 4ms/step - loss: 2.0270e-04\n",
            "Epoch 75/100\n",
            "6/6 [==============================] - 0s 3ms/step - loss: 2.5190e-04\n",
            "Epoch 76/100\n",
            "6/6 [==============================] - 0s 4ms/step - loss: 2.2680e-04\n",
            "Epoch 77/100\n",
            "6/6 [==============================] - 0s 4ms/step - loss: 1.8545e-04\n",
            "Epoch 78/100\n",
            "6/6 [==============================] - 0s 4ms/step - loss: 1.8655e-04\n",
            "Epoch 79/100\n",
            "6/6 [==============================] - 0s 3ms/step - loss: 2.3907e-04\n",
            "Epoch 80/100\n",
            "6/6 [==============================] - 0s 3ms/step - loss: 2.1588e-04\n",
            "Epoch 81/100\n",
            "6/6 [==============================] - 0s 3ms/step - loss: 2.0928e-04\n",
            "Epoch 82/100\n",
            "6/6 [==============================] - 0s 3ms/step - loss: 2.5756e-04\n",
            "Epoch 83/100\n",
            "6/6 [==============================] - 0s 3ms/step - loss: 2.5613e-04\n",
            "Epoch 84/100\n",
            "6/6 [==============================] - 0s 4ms/step - loss: 2.2664e-04\n",
            "Epoch 85/100\n",
            "6/6 [==============================] - 0s 4ms/step - loss: 2.5457e-04\n",
            "Epoch 86/100\n",
            "6/6 [==============================] - 0s 3ms/step - loss: 2.9588e-04\n",
            "Epoch 87/100\n",
            "6/6 [==============================] - 0s 3ms/step - loss: 1.9099e-04\n",
            "Epoch 88/100\n",
            "6/6 [==============================] - 0s 4ms/step - loss: 1.7697e-04\n",
            "Epoch 89/100\n",
            "6/6 [==============================] - 0s 3ms/step - loss: 1.8186e-04\n",
            "Epoch 90/100\n",
            "6/6 [==============================] - 0s 3ms/step - loss: 2.0230e-04\n",
            "Epoch 91/100\n",
            "6/6 [==============================] - 0s 3ms/step - loss: 2.0077e-04\n",
            "Epoch 92/100\n",
            "6/6 [==============================] - 0s 3ms/step - loss: 1.7933e-04\n",
            "Epoch 93/100\n",
            "6/6 [==============================] - 0s 4ms/step - loss: 1.8030e-04\n",
            "Epoch 94/100\n",
            "6/6 [==============================] - 0s 3ms/step - loss: 1.7326e-04\n",
            "Epoch 95/100\n",
            "6/6 [==============================] - 0s 4ms/step - loss: 1.7286e-04\n",
            "Epoch 96/100\n",
            "6/6 [==============================] - 0s 3ms/step - loss: 1.7340e-04\n",
            "Epoch 97/100\n",
            "6/6 [==============================] - 0s 5ms/step - loss: 1.8113e-04\n",
            "Epoch 98/100\n",
            "6/6 [==============================] - 0s 4ms/step - loss: 2.4176e-04\n",
            "Epoch 99/100\n",
            "6/6 [==============================] - 0s 3ms/step - loss: 1.7068e-04\n",
            "Epoch 100/100\n",
            "6/6 [==============================] - 0s 4ms/step - loss: 1.6296e-04\n"
          ]
        },
        {
          "output_type": "execute_result",
          "data": {
            "text/plain": [
              "<keras.callbacks.History at 0x7ffb32df2590>"
            ]
          },
          "metadata": {},
          "execution_count": 58
        }
      ]
    },
    {
      "cell_type": "code",
      "source": [
        "h_model.evaluate(x_test, y_test)"
      ],
      "metadata": {
        "colab": {
          "base_uri": "https://localhost:8080/"
        },
        "id": "A7HdQrMRvEhC",
        "outputId": "36a4e3e3-db70-4f57-8a26-9ef384ea050a"
      },
      "execution_count": 59,
      "outputs": [
        {
          "output_type": "stream",
          "name": "stdout",
          "text": [
            "3/3 [==============================] - 0s 6ms/step - loss: 2.4297e-04\n"
          ]
        },
        {
          "output_type": "execute_result",
          "data": {
            "text/plain": [
              "0.00024296817719005048"
            ]
          },
          "metadata": {},
          "execution_count": 59
        }
      ]
    },
    {
      "cell_type": "code",
      "source": [
        "# to save the models and scaler function for later uses\n",
        "from pickle import dump, load\n",
        "dump(mlp, open('mlp.pkl', 'wb'))\n",
        "dump(model, open('model.pkl', 'wb'))\n",
        "dump(sc, open('sc.pkl', 'wb'))\n",
        "\n",
        "# to load these models to use on new data sets\n",
        "new_model= load(open('model.pkl', 'rb'))\n",
        "new_mlp=load(open('mlp.pkl', 'rb'))\n",
        "new_scaler=load(open('sc.pkl', 'rb'))\n",
        "\n",
        "#scaled_df=new_scaler.fit_transform(new_df)\n",
        "#model=new_model.predict(data we need to predict)\n",
        "#model=new_mlp.predict(data we need to predict)"
      ],
      "metadata": {
        "colab": {
          "base_uri": "https://localhost:8080/"
        },
        "id": "P_2vQFfpMhQ0",
        "outputId": "e03276c4-c1dd-4556-8315-800dc971f0e1"
      },
      "execution_count": 60,
      "outputs": [
        {
          "output_type": "stream",
          "name": "stdout",
          "text": [
            "INFO:tensorflow:Assets written to: ram://00a56959-2dad-41d3-8512-98e1e2f6e20b/assets\n"
          ]
        }
      ]
    },
    {
      "cell_type": "code",
      "source": [
        ""
      ],
      "metadata": {
        "id": "V_uGclQWQ_Jc"
      },
      "execution_count": 32,
      "outputs": []
    },
    {
      "cell_type": "code",
      "source": [
        ""
      ],
      "metadata": {
        "id": "ImPMaw1dS1rE"
      },
      "execution_count": 32,
      "outputs": []
    }
  ]
}
