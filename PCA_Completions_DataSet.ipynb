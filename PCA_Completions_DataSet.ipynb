{
  "nbformat": 4,
  "nbformat_minor": 0,
  "metadata": {
    "colab": {
      "name": "PCA_Completions_DataSet",
      "provenance": [],
      "collapsed_sections": [],
      "authorship_tag": "ABX9TyN64l3rmRbLjnA4/T8n2Jxc",
      "include_colab_link": true
    },
    "kernelspec": {
      "name": "python3",
      "display_name": "Python 3"
    },
    "language_info": {
      "name": "python"
    }
  },
  "cells": [
    {
      "cell_type": "markdown",
      "metadata": {
        "id": "view-in-github",
        "colab_type": "text"
      },
      "source": [
        "<a href=\"https://colab.research.google.com/github/Kareem2168/training/blob/main/PCA_Completions_DataSet.ipynb\" target=\"_parent\"><img src=\"https://colab.research.google.com/assets/colab-badge.svg\" alt=\"Open In Colab\"/></a>"
      ]
    },
    {
      "cell_type": "code",
      "source": [
        "import numpy as np\n",
        "import pandas as pd\n",
        "import matplotlib.pyplot as plt\n",
        "import seaborn as sns\n",
        "from scipy import stats"
      ],
      "metadata": {
        "id": "_u4QeMTVtqx1"
      },
      "execution_count": 1,
      "outputs": []
    },
    {
      "cell_type": "code",
      "source": [
        "from google.colab import files\n",
        "files.upload()"
      ],
      "metadata": {
        "colab": {
          "resources": {
            "http://localhost:8080/nbextensions/google.colab/files.js": {
              "data": "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",
              "ok": true,
              "headers": [
                [
                  "content-type",
                  "application/javascript"
                ]
              ],
              "status": 200,
              "status_text": ""
            }
          },
          "base_uri": "https://localhost:8080/",
          "height": 111
        },
        "id": "EEjR1mwGt3vL",
        "outputId": "2eaa0f6e-5089-4949-c66d-b2fd98d91d0c"
      },
      "execution_count": 3,
      "outputs": [
        {
          "output_type": "display_data",
          "data": {
            "text/plain": [
              "<IPython.core.display.HTML object>"
            ],
            "text/html": [
              "\n",
              "     <input type=\"file\" id=\"files-c66defc5-4d8d-4d15-a428-636f7dc31d65\" name=\"files[]\" multiple disabled\n",
              "        style=\"border:none\" />\n",
              "     <output id=\"result-c66defc5-4d8d-4d15-a428-636f7dc31d65\">\n",
              "      Upload widget is only available when the cell has been executed in the\n",
              "      current browser session. Please rerun this cell to enable.\n",
              "      </output>\n",
              "      <script src=\"/nbextensions/google.colab/files.js\"></script> "
            ]
          },
          "metadata": {}
        },
        {
          "output_type": "stream",
          "name": "stdout",
          "text": [
            "Saving Chapter3_Completions_DataSet.xlsx to Chapter3_Completions_DataSet.xlsx\n"
          ]
        },
        {
          "output_type": "execute_result",
          "data": {
            "text/plain": [
              "{'Chapter3_Completions_DataSet.xlsx': b'PK\\x03\\x04\\x14\\x00\\x06\\x00\\x08\\x00\\x00\\x00!\\x00b\\xee\\x9dh^\\x01\\x00\\x00\\x90\\x04\\x00\\x00\\x13\\x00\\x08\\x02[Content_Types].xml \\xa2\\x04\\x02(\\xa0\\x00\\x02\\x00\\x00\\x00\\x00\\x00\\x00\\x00\\x00\\x00\\x00\\x00\\x00\\x00\\x00\\x00\\x00\\x00\\x00\\x00\\x00\\x00\\x00\\x00\\x00\\x00\\x00\\x00\\x00\\x00\\x00\\x00\\x00\\x00\\x00\\x00\\x00\\x00\\x00\\x00\\x00\\x00\\x00\\x00\\x00\\x00\\x00\\x00\\x00\\x00\\x00\\x00\\x00\\x00\\x00\\x00\\x00\\x00\\x00\\x00\\x00\\x00\\x00\\x00\\x00\\x00\\x00\\x00\\x00\\x00\\x00\\x00\\x00\\x00\\x00\\x00\\x00\\x00\\x00\\x00\\x00\\x00\\x00\\x00\\x00\\x00\\x00\\x00\\x00\\x00\\x00\\x00\\x00\\x00\\x00\\x00\\x00\\x00\\x00\\x00\\x00\\x00\\x00\\x00\\x00\\x00\\x00\\x00\\x00\\x00\\x00\\x00\\x00\\x00\\x00\\x00\\x00\\x00\\x00\\x00\\x00\\x00\\x00\\x00\\x00\\x00\\x00\\x00\\x00\\x00\\x00\\x00\\x00\\x00\\x00\\x00\\x00\\x00\\x00\\x00\\x00\\x00\\x00\\x00\\x00\\x00\\x00\\x00\\x00\\x00\\x00\\x00\\x00\\x00\\x00\\x00\\x00\\x00\\x00\\x00\\x00\\x00\\x00\\x00\\x00\\x00\\x00\\x00\\x00\\x00\\x00\\x00\\x00\\x00\\x00\\x00\\x00\\x00\\x00\\x00\\x00\\x00\\x00\\x00\\x00\\x00\\x00\\x00\\x00\\x00\\x00\\x00\\x00\\x00\\x00\\x00\\x00\\x00\\x00\\x00\\x00\\x00\\x00\\x00\\x00\\x00\\x00\\x00\\x00\\x00\\x00\\x00\\x00\\x00\\x00\\x00\\x00\\x00\\x00\\x00\\x00\\x00\\x00\\x00\\x00\\x00\\x00\\x00\\x00\\x00\\x00\\x00\\x00\\x00\\x00\\x00\\x00\\x00\\x00\\x00\\x00\\x00\\x00\\x00\\x00\\x00\\x00\\x00\\x00\\x00\\x00\\x00\\x00\\x00\\x00\\x00\\x00\\x00\\x00\\x00\\x00\\x00\\x00\\x00\\x00\\x00\\x00\\x00\\x00\\x00\\x00\\x00\\x00\\x00\\x00\\x00\\x00\\x00\\x00\\x00\\x00\\x00\\x00\\x00\\x00\\x00\\x00\\x00\\x00\\x00\\x00\\x00\\x00\\x00\\x00\\x00\\x00\\x00\\x00\\x00\\x00\\x00\\x00\\x00\\x00\\x00\\x00\\x00\\x00\\x00\\x00\\x00\\x00\\x00\\x00\\x00\\x00\\x00\\x00\\x00\\x00\\x00\\x00\\x00\\x00\\x00\\x00\\x00\\x00\\x00\\x00\\x00\\x00\\x00\\x00\\x00\\x00\\x00\\x00\\x00\\x00\\x00\\x00\\x00\\x00\\x00\\x00\\x00\\x00\\x00\\x00\\x00\\x00\\x00\\x00\\x00\\x00\\x00\\x00\\x00\\x00\\x00\\x00\\x00\\x00\\x00\\x00\\x00\\x00\\x00\\x00\\x00\\x00\\x00\\x00\\x00\\x00\\x00\\x00\\x00\\x00\\x00\\x00\\x00\\x00\\x00\\x00\\x00\\x00\\x00\\x00\\x00\\x00\\x00\\x00\\x00\\x00\\x00\\x00\\x00\\x00\\x00\\x00\\x00\\x00\\x00\\x00\\x00\\x00\\x00\\x00\\x00\\x00\\x00\\x00\\x00\\x00\\x00\\x00\\x00\\x00\\x00\\x00\\x00\\x00\\x00\\x00\\x00\\x00\\x00\\x00\\x00\\x00\\x00\\x00\\x00\\x00\\x00\\x00\\x00\\x00\\x00\\x00\\x00\\x00\\x00\\x00\\x00\\x00\\x00\\x00\\x00\\x00\\x00\\x00\\x00\\x00\\x00\\x00\\x00\\x00\\x00\\x00\\x00\\x00\\x00\\x00\\x00\\x00\\x00\\x00\\x00\\x00\\x00\\x00\\x00\\x00\\x00\\x00\\x00\\x00\\x00\\x00\\x00\\x00\\x00\\x00\\x00\\x00\\x00\\x00\\x00\\x00\\x00\\x00\\x00\\x00\\x00\\x00\\x00\\x00\\x00\\x00\\x00\\x00\\x00\\x00\\x00\\x00\\x00\\x00\\x00\\x00\\xac\\x94\\xcbN\\xc30\\x10E\\xf7H\\xfcC\\xe4-J\\xdc\\xb2@\\x085\\xed\\x82\\xc7\\x12*Q>\\xc0\\xc4\\x93\\xc6\\xaac[\\x9eii\\xff\\x9e\\x89\\xfb\\x10B\\xa1\\x15j7\\xb1\\x12\\xcf\\xdc{2\\xf1\\xcdh\\xb2nm\\xb6\\x82\\x88\\xc6\\xbbR\\x0c\\x8b\\x81\\xc8\\xc0U^\\x1b7/\\xc5\\xc7\\xec%\\xbf\\x17\\x19\\x92rZY\\xef\\xa0\\x14\\x1b@1\\x19__\\x8df\\x9b\\x00\\x98q\\xb7\\xc3R4D\\xe1AJ\\xac\\x1ah\\x15\\x16>\\x80\\xe3\\x9d\\xda\\xc7V\\x11\\xdf\\xc6\\xb9\\x0c\\xaaZ\\xa89\\xc8\\xdb\\xc1\\xe0NV\\xde\\x118\\xca\\xa9\\xd3\\x10\\xe3\\xd1\\x13\\xd4ji){^\\xf3\\xe3-I\\x04\\x8b\"{\\xdc\\x16v^\\xa5P!XS)bR\\xb9r\\xfa\\x97K\\xbes(\\xb83\\xd5`c\\x02\\xde0\\x86\\x90\\xbd\\x0e\\xdd\\xce\\xdf\\x06\\xbb\\xbe7\\x1eM4\\x1a\\xb2\\xa9\\x8a\\xf4\\xaaZ\\xc6\\x90k+\\xbf|\\\\|z\\xbf(\\x8e\\x8b\\xf4P\\xfa\\xba6\\x15h_-[\\x9e@\\x81!\\x82\\xd2\\xd8\\x00Pk\\x8b\\xb4\\x16\\xad2n\\xcf}\\xc4?\\x15\\xa3L\\xcb\\xf0\\xc2 \\xdd\\xfb%\\xe1\\x13\\x1c\\xc4\\xdf\\x1bd\\xba\\x9e\\x8f\\x90dN\\x18\"m,\\xe0\\xa5\\xc7\\x9eDO97*\\x82~\\xa7\\xc8\\xc9\\xb88\\xc0O\\xedc\\x1c|n\\xa6\\xd1\\x07\\xe4\\x04E\\xf8\\xff\\x14\\xf6\\x11\\xe9\\xba\\xf3\\xc0B\\x10\\xc9\\xc0!$}\\x87\\xed\\xe0\\xc8\\xe9;{\\xec\\xd0\\xe5[\\x83\\xee\\xf1\\x96\\xe9\\x7f2\\xfe\\x06\\x00\\x00\\xff\\xff\\x03\\x00PK\\x03\\x04\\x14\\x00\\x06\\x00\\x08\\x00\\x00\\x00!\\x00\\xb5U0#\\xf4\\x00\\x00\\x00L\\x02\\x00\\x00\\x0b\\x00\\x08\\x02_rels/.rels \\xa2\\x04\\x02(\\xa0\\x00\\x02\\x00\\x00\\x00\\x00\\x00\\x00\\x00\\x00\\x00\\x00\\x00\\x00\\x00\\x00\\x00\\x00\\x00\\x00\\x00\\x00\\x00\\x00\\x00\\x00\\x00\\x00\\x00\\x00\\x00\\x00\\x00\\x00\\x00\\x00\\x00\\x00\\x00\\x00\\x00\\x00\\x00\\x00\\x00\\x00\\x00\\x00\\x00\\x00\\x00\\x00\\x00\\x00\\x00\\x00\\x00\\x00\\x00\\x00\\x00\\x00\\x00\\x00\\x00\\x00\\x00\\x00\\x00\\x00\\x00\\x00\\x00\\x00\\x00\\x00\\x00\\x00\\x00\\x00\\x00\\x00\\x00\\x00\\x00\\x00\\x00\\x00\\x00\\x00\\x00\\x00\\x00\\x00\\x00\\x00\\x00\\x00\\x00\\x00\\x00\\x00\\x00\\x00\\x00\\x00\\x00\\x00\\x00\\x00\\x00\\x00\\x00\\x00\\x00\\x00\\x00\\x00\\x00\\x00\\x00\\x00\\x00\\x00\\x00\\x00\\x00\\x00\\x00\\x00\\x00\\x00\\x00\\x00\\x00\\x00\\x00\\x00\\x00\\x00\\x00\\x00\\x00\\x00\\x00\\x00\\x00\\x00\\x00\\x00\\x00\\x00\\x00\\x00\\x00\\x00\\x00\\x00\\x00\\x00\\x00\\x00\\x00\\x00\\x00\\x00\\x00\\x00\\x00\\x00\\x00\\x00\\x00\\x00\\x00\\x00\\x00\\x00\\x00\\x00\\x00\\x00\\x00\\x00\\x00\\x00\\x00\\x00\\x00\\x00\\x00\\x00\\x00\\x00\\x00\\x00\\x00\\x00\\x00\\x00\\x00\\x00\\x00\\x00\\x00\\x00\\x00\\x00\\x00\\x00\\x00\\x00\\x00\\x00\\x00\\x00\\x00\\x00\\x00\\x00\\x00\\x00\\x00\\x00\\x00\\x00\\x00\\x00\\x00\\x00\\x00\\x00\\x00\\x00\\x00\\x00\\x00\\x00\\x00\\x00\\x00\\x00\\x00\\x00\\x00\\x00\\x00\\x00\\x00\\x00\\x00\\x00\\x00\\x00\\x00\\x00\\x00\\x00\\x00\\x00\\x00\\x00\\x00\\x00\\x00\\x00\\x00\\x00\\x00\\x00\\x00\\x00\\x00\\x00\\x00\\x00\\x00\\x00\\x00\\x00\\x00\\x00\\x00\\x00\\x00\\x00\\x00\\x00\\x00\\x00\\x00\\x00\\x00\\x00\\x00\\x00\\x00\\x00\\x00\\x00\\x00\\x00\\x00\\x00\\x00\\x00\\x00\\x00\\x00\\x00\\x00\\x00\\x00\\x00\\x00\\x00\\x00\\x00\\x00\\x00\\x00\\x00\\x00\\x00\\x00\\x00\\x00\\x00\\x00\\x00\\x00\\x00\\x00\\x00\\x00\\x00\\x00\\x00\\x00\\x00\\x00\\x00\\x00\\x00\\x00\\x00\\x00\\x00\\x00\\x00\\x00\\x00\\x00\\x00\\x00\\x00\\x00\\x00\\x00\\x00\\x00\\x00\\x00\\x00\\x00\\x00\\x00\\x00\\x00\\x00\\x00\\x00\\x00\\x00\\x00\\x00\\x00\\x00\\x00\\x00\\x00\\x00\\x00\\x00\\x00\\x00\\x00\\x00\\x00\\x00\\x00\\x00\\x00\\x00\\x00\\x00\\x00\\x00\\x00\\x00\\x00\\x00\\x00\\x00\\x00\\x00\\x00\\x00\\x00\\x00\\x00\\x00\\x00\\x00\\x00\\x00\\x00\\x00\\x00\\x00\\x00\\x00\\x00\\x00\\x00\\x00\\x00\\x00\\x00\\x00\\x00\\x00\\x00\\x00\\x00\\x00\\x00\\x00\\x00\\x00\\x00\\x00\\x00\\x00\\x00\\x00\\x00\\x00\\x00\\x00\\x00\\x00\\x00\\x00\\x00\\x00\\x00\\x00\\x00\\x00\\x00\\x00\\x00\\x00\\x00\\x00\\x00\\x00\\x00\\x00\\x00\\x00\\x00\\x00\\x00\\x00\\x00\\x00\\x00\\x00\\x00\\x00\\x00\\x00\\x00\\x00\\x00\\x00\\x00\\x00\\x00\\x00\\x00\\x00\\x00\\x00\\x00\\x00\\x00\\x00\\x00\\x00\\x00\\x00\\x00\\x00\\x00\\x00\\x00\\x00\\x00\\x00\\x00\\x00\\xac\\x92MO\\xc30\\x0c\\x86\\xefH\\xfc\\x87\\xc8\\xf7\\xd5\\xdd\\x90\\x10BKwAH\\xbb!T~\\x80I\\xdc\\x0f\\xb5\\x8d\\xa3$\\x1b\\xdd\\xbf\\'\\x1c\\x10T\\x1a\\x83\\x03G\\x7f\\xbd~\\xfc\\xca\\xdb\\xdd<\\x8d\\xea\\xc8!\\xf6\\xe24\\xac\\x8b\\x12\\x14;#\\xb6w\\xad\\x86\\x97\\xfaqu\\x07*&r\\x96Fq\\xac\\xe1\\xc4\\x11v\\xd5\\xf5\\xd5\\xf6\\x99GJy(v\\xbd\\x8f*\\xab\\xb8\\xa8\\xa1K\\xc9\\xdf#F\\xd3\\xf1D\\xb1\\x10\\xcf.W\\x1a\\t\\x13\\xa5\\x1c\\x86\\x16=\\x99\\x81Z\\xc6MY\\xdeb\\xf8\\xae\\x01\\xd5BS\\xed\\xad\\x86\\xb0\\xb77\\xa0\\xea\\x93\\xcf\\x9b\\x7f\\xd7\\x96\\xa6\\xe9\\r?\\x889L\\xec\\xd2\\x99\\x15\\xc8sbg\\xd9\\xae|\\xc8l!\\xf5\\xf9\\x1aUSh9i\\xb0b\\x9er:\"y_dl\\xc0\\xf3D\\x9b\\xbf\\x13\\xfd|-N\\x9c\\xc8R\"4\\x12\\xf82\\xcfG\\xc7%\\xa0\\xf5\\x7fZ\\xb44\\xf1\\xcb\\x9dy\\xc47\\t\\xc3\\xab\\xc8\\xf0\\xc9\\x82\\x8b\\x1f\\xa8\\xde\\x01\\x00\\x00\\xff\\xff\\x03\\x00PK\\x03\\x04\\x14\\x00\\x06\\x00\\x08\\x00\\x00\\x00!\\x00Q\\xdbu4\\x98\\x03\\x00\\x00\\x7f\\x08\\x00\\x00\\x0f\\x00\\x00\\x00xl/workbook.xml\\xacU\\xdfo\\xa38\\x10~?\\xe9\\xfe\\x07\\x8b\\xa7\\xbb\\x07\\n\\xe6W\\x005]\\x05\\x08\\xbaJ\\xcd*j\\xbb\\xdd\\x97H+\\x07\\x9cb\\x150g\\x9b&U\\xb5\\xff\\xfb\\x8dIH\\xdb\\xed\\xea\\x94\\xeb^Dl\\xec1\\x1f\\xdf\\xcc|3\\x9c\\x7f\\xda55z\\xa4B2\\xdeN\\r|f\\x1b\\x88\\xb6\\x05/Y{?5\\xbe\\xdc\\xe6fh \\xa9H[\\x92\\x9a\\xb7tj<Qi|\\xba\\xf8\\xfd\\xb7\\xf3-\\x17\\x0fk\\xce\\x1f\\x10\\x00\\xb4rjTJu\\xb1e\\xc9\\xa2\\xa2\\r\\x91g\\xbc\\xa3-X6\\\\4D\\xc1R\\xdc[\\xb2\\x13\\x94\\x94\\xb2\\xa2T5\\xb5\\xe5\\xd8v`5\\x84\\xb5\\xc6\\x1e!\\x16\\xa7`\\xf0\\xcd\\x86\\x154\\xe3E\\xdf\\xd0V\\xedA\\x04\\xad\\x89\\x02\\xfa\\xb2b\\x9d\\x1c\\xd1\\x9a\\xe2\\x14\\xb8\\x86\\x88\\x87\\xbe3\\x0b\\xdet\\x00\\xb1f5SO\\x03\\xa8\\x81\\x9a\"\\xbe\\xbco\\xb9 \\xeb\\x1a\\xdc\\xdea\\x1f\\xed\\x04\\\\\\x01\\xfc\\xb1\\r\\x833\\xbe\\tL\\xef^\\xd5\\xb0Bp\\xc97\\xea\\x0c\\xa0\\xad=\\xe9w\\xfec\\xdb\\xc2\\xf8M\\x08v\\xefcp\\x1a\\x92g\\t\\xfa\\xc8t\\x0e\\x8f\\xacD\\xf0AV\\xc1\\x11+x\\x01\\xc3\\xf6/\\xa3a\\x90\\xd6\\xa0\\x95\\x18\\x82\\xf7A4\\xff\\xc8\\xcd1.\\xce7\\xac\\xa6w{\\xe9\"\\xd2u\\x9fI\\xa33U\\x1b\\xa8&R\\xcdK\\xa6h95&\\xb0\\xe4[\\xfafC\\xf4]\\xd2\\xb3\\x1a\\xac\\x8e\\xe3\\xb9\\xb6a]\\x1c\\xe5\\xbc\\x14\\xa8\\xa4\\x1b\\xd2\\xd7\\xea\\x16\\x84<\\xc2Ce\\x04A\\xe4\\xf8\\xfa$\\x08cV+*Z\\xa2h\\xca[\\x05:<\\xf8\\xf5\\xab\\x9a\\x1b\\xb0\\xd3\\x8a\\x83\\xc2\\xd15\\xfd\\xbbg\\x82Ba\\x81\\xbe\\xc0W\\x18I\\x11\\x93\\xb5\\\\\\x12U\\xa1^\\xd4S#\\x8dW_$\\xb8\\xbf\\xaa\\xb8\\x94\\xebUF\\xe5\\x83\\xe2\\xdd*\\x87\\xa8\\xc8\\xd5\\x82\\x14\\x15k)\\xba\\xa2D\\xb4P\\xcc\\xe8\\x8f\\xc5\\xd5\\x9f(a\\xa0f\\xb4e\\x00\\xb1|R\\x15oWiE:pF\\x8e7\\xc8]-\\xd3\\x19\\x9a\\xefH\\xd3\\xd5t\\xf5J\\xe4\\xe4}E\\xfd\\x07\\x99\\x93B\\xc7\\xce\\x82\\xe0\\xed\\x1d\\xdc\\xdf\\xff\\x18H\\xf0S\\xc4\\xa3\\x94\\x97J \\xb8\\xbf\\xcc\\xae \\x9d7\\xe4\\x11\\x92\\x0b\\x12*\\x0f\\xb5\\x7f\\t\\xd9\\xc3\\xee\\xb7\\xb6\\x101\\xfe\\xf6\\x1c\\x85y\\x10\\xb9\\xf6\\xc4\\x0c\\xed(5\\xbd(\\x9a\\x9b\\xb30I\\xcc\\xc8\\x9b\\x05n\\x9a\\x05\\x93Y\\x82\\xbf\\x833\"\\x88\\x0bNzU\\x1dt\\xa3\\xa1\\xa7\\x86\\xe7\\xff\\xc4\\xb4 \\xbb\\xd1\\x82\\xed\\xb8g\\xe5\\x0b\\x8dg\\xfb\\xf03\\xf5\\xfc\\xc30\\xda\\xbek\\x87u\\x87\\xbcct+_\\x14\\xa6\\x97h\\xf7\\x95\\xb5%\\xdfN\\r\\x13\\xdb\\xd0a\\x9f\\xde.\\xb7\\x83\\xf1++U\\x05\\x12u\\x1d\\x1f*q\\xbf\\xf7\\x17e\\xf7\\x150\\xc6\\x8e?\\xd1\\xe5)\\x1c\\xcdlj<\\xcfR\\xdb\\xcd\\xdd<3\\xe7^hC\\x00\\xfc\\xd0\\x9c%\\xb3\\x89\\xe9\\xbb\\x99\\x13%y\\x8e\\xdd\\xb970\\xb2^Q\\x1az1P\\x1bf\\xd4\\x0e\\xf5s\\xa3\\xfb3\\x86\\xa6\\xaf\\xe7!\\xc8\\x06\\x12\\xb1~\\x87\\xb8,\\xf1\\x90\\xc4\\xf1\\xb1\\x82\\xd4\\x05\\xd4\\x8b\\x9e\\x86\\x83\\x11\\xb6\\x9dH\\x9f\\xa0;u%\\xd50\\x83T\\x19\\xd0\\xc3\\x9e=\\x9b\\xd8\\x91g\\xdas\\xd77\\xbd0r\\xcc\\xd0s\\x1d3\\xf52g\\xeeO\\xe6\\xd9<\\xf1u~\\xf4\\xb7$\\xfe?:\\xeaP1\\xf1\\xf8\\x91\\xd2,+\"\\xd4\\xad \\xc5\\x03T\\xc35\\xdd$D\\x82\\xa0\\xf6\\x0e\\x01\\xdf\\xd7d\\x13?Ll\\x17(z9\\xceM\\x0fG\\xb6\\x99$\\x81g\\xfaY\\xee\\xfa\\x13\\x9c\\xa5s?\\x7f!\\xab\\xdd\\xdf|\\xb0\\x9f\\x85\\xd6\\xf04%\\xaa\\x87Z\\xd7e>\\xacc=\\xe6\\x87\\xdd\\xe3\\xe6f\\xbfq\\xc8\\xd3\\x9b\\xda\\x8b\\xaf3\\x1d\\xf7\\xc3\\xd3\\xffv\\xf0\\x06\\xbc\\xaf\\xe9\\x89\\x87\\xf3\\xbb\\x13\\x0f\\xa6\\x9f\\x17\\xb7\\x8bA\\x1b?u\\xc0\\x1a\\x02\\xac\\xc7A\\x16\\xd6\\x98\\x96\\x8b\\x7f\\x00\\x00\\x00\\xff\\xff\\x03\\x00PK\\x03\\x04\\x14\\x00\\x06\\x00\\x08\\x00\\x00\\x00!\\x00\\x81>\\x94\\x97\\xf3\\x00\\x00\\x00\\xba\\x02\\x00\\x00\\x1a\\x00\\x08\\x01xl/_rels/workbook.xml.rels \\xa2\\x04\\x01(\\xa0\\x00\\x01\\x00\\x00\\x00\\x00\\x00\\x00\\x00\\x00\\x00\\x00\\x00\\x00\\x00\\x00\\x00\\x00\\x00\\x00\\x00\\x00\\x00\\x00\\x00\\x00\\x00\\x00\\x00\\x00\\x00\\x00\\x00\\x00\\x00\\x00\\x00\\x00\\x00\\x00\\x00\\x00\\x00\\x00\\x00\\x00\\x00\\x00\\x00\\x00\\x00\\x00\\x00\\x00\\x00\\x00\\x00\\x00\\x00\\x00\\x00\\x00\\x00\\x00\\x00\\x00\\x00\\x00\\x00\\x00\\x00\\x00\\x00\\x00\\x00\\x00\\x00\\x00\\x00\\x00\\x00\\x00\\x00\\x00\\x00\\x00\\x00\\x00\\x00\\x00\\x00\\x00\\x00\\x00\\x00\\x00\\x00\\x00\\x00\\x00\\x00\\x00\\x00\\x00\\x00\\x00\\x00\\x00\\x00\\x00\\x00\\x00\\x00\\x00\\x00\\x00\\x00\\x00\\x00\\x00\\x00\\x00\\x00\\x00\\x00\\x00\\x00\\x00\\x00\\x00\\x00\\x00\\x00\\x00\\x00\\x00\\x00\\x00\\x00\\x00\\x00\\x00\\x00\\x00\\x00\\x00\\x00\\x00\\x00\\x00\\x00\\x00\\x00\\x00\\x00\\x00\\x00\\x00\\x00\\x00\\x00\\x00\\x00\\x00\\x00\\x00\\x00\\x00\\x00\\x00\\x00\\x00\\x00\\x00\\x00\\x00\\x00\\x00\\x00\\x00\\x00\\x00\\x00\\x00\\x00\\x00\\x00\\x00\\x00\\x00\\x00\\x00\\x00\\x00\\x00\\x00\\x00\\x00\\x00\\x00\\x00\\x00\\x00\\x00\\x00\\x00\\x00\\x00\\x00\\x00\\x00\\x00\\x00\\x00\\x00\\x00\\x00\\x00\\x00\\x00\\x00\\x00\\x00\\x00\\x00\\x00\\x00\\x00\\x00\\x00\\x00\\x00\\x00\\x00\\x00\\x00\\x00\\x00\\x00\\x00\\x00\\x00\\x00\\x00\\x00\\x00\\x00\\x00\\x00\\x00\\x00\\x00\\x00\\x00\\x00\\x00\\x00\\x00\\xacRMK\\xc40\\x10\\xbd\\x0b\\xfe\\x870w\\x9bv\\x15\\x11\\xd9t/\"\\xecU\\xeb\\x0f\\x08\\xc9\\xb4)\\xdb&!3~\\xf4\\xdf\\x1b*\\xba]X\\xd6K/\\x03o\\x86y\\xef\\xcd\\xc7v\\xf75\\x0e\\xe2\\x03\\x13\\xf5\\xc1+\\xa8\\x8a\\x12\\x04z\\x13l\\xef;\\x05o\\xcd\\xf3\\xcd\\x03\\x08b\\xed\\xad\\x1e\\x82G\\x05\\x13\\x12\\xec\\xea\\xeb\\xab\\xed\\x0b\\x0e\\x9as\\x13\\xb9>\\x92\\xc8,\\x9e\\x148\\xe6\\xf8(%\\x19\\x87\\xa3\\xa6\"D\\xf4\\xb9\\xd2\\x864j\\xce0u2js\\xd0\\x1d\\xcaMY\\xde\\xcb\\xb4\\xe4\\x80\\xfa\\x84S\\xec\\xad\\x82\\xb4\\xb7\\xb7 \\x9a)f\\xe5\\xff\\xb9C\\xdb\\xf6\\x06\\x9f\\x82y\\x1f\\xd1\\xf3\\x19\\tI<\\ry\\x00\\xd1\\xe8\\xd4!+\\xf8\\xc1E\\xf6\\x08\\xf2\\xbc\\xfcfMy\\xcek\\xc1\\xa3\\xfa\\x0c\\xe5\\x1c\\xabK\\x1e\\xaa5=|\\x86t \\x87\\xc8G\\x1f\\x7f)\\x92s\\xe5\\xa2\\x99\\xbbU\\xef\\xe1tB\\xfb\\xca)\\xbf\\xdb\\xf2,\\xcb\\xf4\\xeff\\xe4\\xc9\\xc7\\xd5\\xdf\\x00\\x00\\x00\\xff\\xff\\x03\\x00PK\\x03\\x04\\x14\\x00\\x06\\x00\\x08\\x00\\x00\\x00!\\x00\\xd9\\x03\\xe0\\x1b\\x17\\x11\\x00\\x00Iv\\x00\\x00\\x18\\x00\\x00\\x00xl/worksheets/sheet1.xml\\x9c]\\xdb\\x8e#\\xb7\\x11}\\x0f\\x90\\x7f\\x10\\xf4\\xbe\\x9af\\xdf{\\xb0\\xb3\\xc6\\x8e\\x95E\\xfc\\x10 \\xc8\\xf5Y\\xab\\xd1\\xec\\x08\\x9e\\x19\\r$\\xed\\xc5\\x08\\xf2\\xeff\\xb3\\xab%\\x1e\\xde\\x8ae#\\xf1\\xda\\xae\\xa3\\xea\\xae&\\x8b\\xa7\\xaa\\xc8\\xae~\\xff\\xd3\\x8f\\x97\\xe7\\xc5\\xb7\\xdd\\xf1\\xb4?\\xbc\\xde-\\xd5\\xaaX.v\\xaf\\xdb\\xc3\\xc3\\xfe\\xf5\\xcb\\xdd\\xf2\\xdf\\xff\\xfa\\xf4\\xae_.N\\xe7\\xcd\\xeb\\xc3\\xe6\\xf9\\xf0\\xba\\xbb[\\xfe\\xb6;-\\x7f\\xfa\\xf0\\xe7?\\xbd\\xff~8\\xfezz\\xda\\xed\\xce\\x0b\\xad\\xe1\\xf5t\\xb7|:\\x9f\\xdfnonN\\xdb\\xa7\\xdd\\xcb\\xe6\\xb4:\\xbc\\xed^\\xb5\\xe4\\xf1p|\\xd9\\x9c\\xf5\\xbf\\x1e\\xbf\\xdc\\x9c\\xde\\x8e\\xbb\\xcd\\x83\\xf9\\xd1\\xcb\\xf3MY\\x14\\xed\\xcd\\xcbf\\xff\\xba\\x9c4\\xdc\\x1est\\x1c\\x1e\\x1f\\xf7\\xdb\\xdd\\xfa\\xb0\\xfd\\xfa\\xb2{=OJ\\x8e\\xbb\\xe7\\xcdY\\xdf\\xff\\xe9i\\xffv\\x9a\\xb5\\xbdls\\xd4\\xbdl\\x8e\\xbf~}{\\xb7=\\xbc\\xbci\\x15\\x9f\\xf7\\xcf\\xfb\\xf3oF\\xe9r\\xf1\\xb2\\xbd\\xfd\\xe5\\xcb\\xeb\\xe1\\xb8\\xf9\\xfc\\xac\\xed\\xfe\\xa1\\xea\\xcdv\\xf1\\xe3\\xa8\\xffW\\xea\\xffW\\xf3e\\xcc\\x7f\\xf7\\xae\\xf4\\xb2\\xdf\\x1e\\x0f\\xa7\\xc3\\xe3y\\xa55\\xdfL\\xf7\\xec\\x9b?\\xdc\\x0c7\\x9b\\xedE\\x93o\\x7f\\x96\\x1aU\\xdf\\x1cw\\xdf\\xf6\\xe3\\x00^U\\x95\\x7f\\xec\\x96Ts\\xd1U^\\x95U\\x7fPY{Q6>\\xae\\xe3\\xed\\xd7\\xfd\\xc3\\xdd\\xf2\\x7f\\xc5\\xc7\\xa6*>5\\x7fyW\\xf6u\\xf5\\xaeVC\\xfdn\\xf8\\xb4V\\xefT\\xd3\\x95\\x9f\\x9a\\xf6\\xe3\\xba\\xb9\\xef\\xfe\\xbf\\xfc\\xf0\\xfea\\xafGx\\xb4jq\\xdc=\\xde-?\\xaa\\xdb\\xb5\\xaa\\x9b\\xe5\\xcd\\x87\\xf7f\\x06\\xfdg\\xbf\\xfb~\\xb2\\xfeyq\\xde|\\xfe\\xe7\\xeey\\xb7=\\xef\\xf4U\\xd4r1N\\xd0\\xcf\\x87\\xc3\\xaf#\\xf0\\x17\\xfd\\x9f\\x8a\\xf1\\xa77\\xdeo?\\x99\\t\\xfa\\xf7\\xe3\\xe2a\\xf7\\xb8\\xf9\\xfa|\\xfe\\xc7\\xe1\\xfb_w\\xfb/Og\\xad\\xa4^\\xd5\\xfa\\xc6\\xc7\\x91\\xbf}\\xf8m\\xbd;m\\xf5\\x94\\xd3\\x8aV\\xd5\\xa8j{x\\xd6\\xd7\\xd7\\x7f_\\xbc\\xecG\\xd7\\xd13f\\xf3c\\xba\\xf2\\xfe\\xe1\\xfc\\xa4\\xffI?\\xc2\\xcf\\xbb\\xd3\\xf9\\xd3~\\xd4\\xb5\\\\l\\xbf\\x9e\\xce\\x87\\x97\\xff\\x92\\x90TL?\\xd6H\\xf3c\\xfd\\xe7w\\x92W\\xab\\xaa*\\x8bJ\\x95M\\xb6\\x16\\xfd\\x94\\x8d\\x16\\xfd\\xe7\\xac\\xa5[\\xd5\\xb5\\xaa\\x8bV\\xa0E\\x9bl\\xb4\\xe8?IK\\xa9\\x17\\x85\\xb4!7\\xd3\\xc30\\x0fw\\xbd9o>\\xbc?\\x1e\\xbe/\\xf4\\x84\\xd6f\\x9f\\xde6\\xe3\\xf2\\xa0nc\\xcfR?\\xc4\\x11\\xfaQc\\xf5\\x83:\\xe9\\xa1\\xff\\xf6\\xa1z\\x7f\\xf3M\\x8f\\xd6\\x96d\\xf7\\xb6\\xacD\\xd9\\xcf\\xe35\\xee\\x96\\xfa\\xd1]~] b\\xed#\\xd4\\x05q\\xa3\\xef\\xf4r\\xbbZI\\xf6\\xed\\x8e\\xd8\\xd1\\xc0\\xf1vU\\xa7\\x87k\\xb0\\xfe\\xea\\x9d\\xfb\\xb7\\xc1u\\xb3j\\x1c\\x13&q5\\xe9R\\xaa[\\xa9\\xb8\\xae\\xf5\\x04.\\'\\xf0\\xd5T0DO\\x81lCF\\xec\\xc5\\x90\\xb6]\\xb5\\x85\\xf5\\x97\\xf3\\xb0\\xefmp58fL\\xc2L3&p\\xda\\x0c=e\\xb2\\xcd\\x18\\xb1\\x173\\x9aa\\xd5\\xdbf\\\\\\xc7\\xdb\\xcc\\xb5{\\x1b\\\\\\xabU\\xeb\\x182\\x89\\xc9\\x90\\xa2\\xd2^d)st\\xad\\'p\\xda\\x10\\xed\\xc4\\xd9\\x86\\x8c\\xd8\\xab!mzb\\xd9\\xe0Z\\xafL\\xb6\\xd1E\\xed\\x985\\x81\\xe7\\xf1\\x19:\\xc7M&q\\xda\\x90V`\\xc8\\x88\\xbdz\\x88\\xe3\\x94\\xf7\\xb6\\xb4nq\\xb8\\xbc;\\x9f\\xc0\\x993k\\x02\\xa7\\xed\\xe8\\x04v\\x8c\\xd8\\x8b\\x1d}\\x95v\\x10\\x1b\\xdc\\x14\\xab\\xd6^\\x15\\x06w\\x9eM`2\\xabj\\xb4\\xef9C2\\x01&S\\xca\\x88\\xaf\\x8f\\x11Z\\xee\\x1a;b\\xb3\\xe7\\x96\\r\\xaekX\\x93\\x06\\xcf\\x94\\t\\x9c9B\\x13\\x98F\\xe8\\xba\\x18\\xc2\\x126\\x08\\xcc\\x1a\\xb1\\xf1\\x99fKY;&p\\xd4G&qzn)\\xcd\\x97\\xf9\\xac7\\x82/\\xf7^\\x0f\\xe9\\xd9eT\\xcfh\\xbd.\\xa5\\xa7\\x17\\xa13\\x07\\x85\\xd0\\x8cm\"F\\x9f\\x88\\x978\\x92\\xa3\\x16e\\xa3\\xd9\\xb5\\x8c\\xd0\\xd1\\x81\"\\xf9dMd\\x8a\\x8d\\x11Z\\xfe@\\x01\\xe1s\\xcb\\x80Q=\\x0fT\\xdd\\xaf\\x1c\\xd2\\xf8\\x99\\xe4\\xf1\\xdb\\xcfay%\\xa1y\\x03\\xbe\\xf2|\\xe5\\xf8\\xb3\\x1bp\\xd9D\\xcf:\\r\\xe9&k\\xca\\x0e\\x97s\\'\\x86X\\x13\\x9a\\x99h\\x12\\xeeW@\\xfe-g\\x9b\\x8d\\xf6\\x82\\x18\\xd2\\x95\\xeb46\\xfb\\xc7\\xa6\\x99\\x84\\xfd\\x15\\xd0\\xbf&F;\\x14\\x1c\\x9c\\x88\\xeb\\x1e\\xd0\\xbe)6\\xe1\\xf7]\\x87$\\xeb\\xd2?\\xe9J{\\x8c\\x84\\xff\\x15\\x04\\x00C\\xb7r\\x83I\\x004^\\\\o\\x93\\xfe\\xd0t\\xab\\xc6\\xe6R7\\n#]\\xcc\\xa4\\x92\\xd0\\xbe\\x02\\xde\\x1f\\xaa\\x95\\x1b\\xd4\\x03@\\xdf\\x9fg\\x00\\xd0\\xbb\\xf2\\xe2-\\xfa}\\x9a\\xdd\\x95\\x84\\xde\\r8;T\\x014\\x1b\\xab\\x10:3(&4c\\x9b\\x84\\xe3\\x15\\x92<\\x93p\\x01:\\x90q\\x91<\\xd7\\xcb\\x81\\xf6#n>\\xa6\\xc9\\xf9\\xd9#\\xd0~`r\\x19m\\x17\\x02\\x19Vn,O\\xf2D\\xecH\\x88t\\x94UJ\\xf8\\xdc\\x80\\xf3s^\\xe0\\xf3\\x80\\x05\\x93<J\\x81t5\\xe6\\xfeE)\\xbb\\x88\\xc2KH\\xda\\xb9\\xf8\\x97\\xd0\\xa9\\xf1\\xc8\\xa1\\xf4RB\\xe9\\x06\\x9c?\\x1e@\\xe9~HB\\xda\\xe2\\xe3ag\\xec\\xb1d\\xa4\\x94\\xd0\\xb6\\x01g\\xa7#\\x80f3FBO\\xd6t\\x83\\xb3v\\xafI\\x9c\\xa6\\x8b\\xb1j\\x96\\xef\\xd1@\\xdclA\\x08\\x12\\xf7r\\xe5\\x96R\\xcc\\xa5\\xef\\x96\\xa9\\xe9d\\xa7\\xebelM\\x92\\xf0u\\t|\\xcdEQ\\x80f#DB\\x93=\\x8d\\xc2\\xb8\\xc6\\x1b\\x9d\\x9c\\x14\\xbe\\x94\\x90\\xb9\\x01\\xc7SD\\x10{q\\x14I3\\xc3[B3SKB\\xeb%\\xa4\\xed\\x9d[I\\x011?\\x12\\x90\\xa9s\\xb1:\\xe9N\\xf3x)\\xe1q\\x03\\xbe\\x8e\\x84N\\x15\\xdcZ)\\xe4\\xeb\\x81b)\\x93\\xa2\\xd3\\x05\\xd2\\xcf\\xbf\\x92\\x90\\xb5\\x01\\xa7n\\x19\\x00\\xec\\x08\\x10:3\\xf6 4c\\x8e\\x84\\xc6+H\\xcb\\xb9R)\\xa0\\x03\\xb5R\\x92g:\\x07\\xa1\\x19k$\\xa4^\\x01\\xa9s\\xab\\x16\\xa0\\xd9\"\\x03\\xa1sm\\xcb\\xaa\\xcc\\x8bJ\\xf3P\\x9b\\xe7j\\x0e\\x95(g\\'t\\x94\\xeeI\\x9e\\xf6\\xfcJB\\xf7\\x06\\x9ct#;1ot\\x84\\xef\\xee/@]\\xdeO\\xa8\\xe8\\x02\\xc9\\x0c\\xb6\\x92p\\xba\\x01_\\xf3)\\'c\\xbe\\x07qS{\\xdb\\x08$\\xcfu\\xf4\\x9c\\xfa{%!t\\x03\\xbe\\x96|\\xb8\\xad\\x1d\\xa8\\xc8s{\\t\\xa4;>}l\\n\\x8fD\\'\\x95\\x84\\xc1\\r8\\xce\\xe0 \\x0e-Sv2\\xceV\\x13H\\x1b\\xb3LI8\\xbc\\x02\\x0e\\xef\\xbd\\xa9\\x04\\xc5v\\x9f\\xf4\\xe8\\xe7\\x99\\xd97\\xa1\\x99\\xdb\\x97\\xb0v\\x05\\xd97\\xbbK\\x08\\x14\\xceN%\\x86\\xd0\\xe9\\xdaI\\xb7\\xae%|n\\xc0\\xd95w@{\\xb1!I3\\x07\\x86\\xd0\\xe9\\x81\\xa9%dn\\xc0\\xd99 \\xa0\\xd9@\\x85\\xd0Q\\x1f\\'9c\\x8d\\x84\\xcck\\xdcUw#]\\x10\\x07\\xaa:$\\xcf\\x1d\\x0c\\xe0\\xeb\\xc8\\x1aUK\\xf8\\xda\\x80\\xaf\\t\\xad{\\x8a\\x01\\xc4\\xe5\\xe0%}$\\xcf\\xbd}\\xd8A\\x8f\\xdd\\xbeh\\x0b\\x1d\\xca\\xe8\\xdc^T\\xcdm\\xa2\\xcbv\\xd1s\\xb6\\xd1\\xf5\\xf9\\x1f\\xc1\\x81\\x00L\\xc8\\xbd\\xb9\\x04\\x19\\xb8\\xbf\\xe2\\x9ak]2p.O\"\\xf4\\xe4\\nUd\\xa7\\xb6\\x96\\x90\\xb7\\x01\\xe7;6\\x90\\xb7_l#m\\x99\\xf97\\xa1\\xd3\\xb1_-ao\\x03\\xbe\\x86\"\\xcc\\x0e\\r\\xa0\\xfd%\\x17\\xeb\\xea\\xccq\\x19\\xd2\\x95.#\\xd6\\x12*7\\xe0\\xfc\\x91\\x01f\\x0f\\x8c\\x8c(\\x1f\\xa7k3K\\xae\\x84\\xd9k`v}\\x06!y\\x90\\t\\xd0\\xa1\\x933\\xc8\\xe5\\xdc\\xd8\\xe4l\\xa77\\x12j7\\xe0k\\xc4^x{N\\x00\\x08l\\xcc\\x92<\\xcay$O\\x0f@#ap\\x03\\x8e\\x07\\xb6 \\xae\\xfdJ!\\xc93\\x93\\x0cB3\\xb7/\\xa1\\xec\\xc6\\xa6\\xec\\xb2r\\xab9 \\x0eL\\x18\\x92O\\xb7_u\\xe36\\x94u\\x86\\xc9\\xd9\\xf5X\\x13z\\xba}\\xab\\x10\\x06\\'G\\x1a\\te\\x1b\\xf0\\xfc\\xf4K=_\\x93\\xc7\\xdf\\x00\\x1d\\xb2\\xc6>\\x02W5\\x83\\xbbKI\\xbf\\xa7\\xfb\\x8fpv#\\xe1l\\x03\\xbe\\xdc\\x7f\\xa5\\x93\\xd0\\xd4\\xf1=@\\xf3\\xe7\\xc5l\\x06\\xaf\\x06\\xa5\\xbd\\xc9R\\xeeD7k\\xd2\\xcd\\xd8&a\\xf0\\x06\\x18\\xdc\\xcb\\x99@\\x1c\\x08\\xa7HNSK\\r\\xee9\\x04\\x92O7\\xdc\\xc6\\x06C\\xc2\\xd9\\x8d\\xcd\\xc2e\\xe9\\x9e:\\x04q\\xd5z{z$\\xa7\\x1bn\\xbbb\\xd5Y[\\xde\\xdeq=;\\xc3\\xeeb\\xb7/!\\xe9\\x86\\xdb\\xf1\\x06@\\xc8\\x00\\x9b\\x99C\\xd3\\xdf>\\xcf\\x16}\\xe2\\x12.nlv-\\xf5\\x89m\\xf7\\x8c\\x01\\x00B\\xcb\\xa7M\\xbf\\xfc\\xfac\\x9f\\\\\\xeb#a^#\\xa1_\\x03\\xce\\xae\\xd1\\x00\\xbaR\\xde\\x91\\x03\\x92O3\\xa8l+\\xdc%wO\\x17\\x12\\x9a\\x12\\xeb\\x885\\xad\\x84~\\r\\xf8\\xb2\\x1a\\x95u:\\x98\\x004{\\x9a\\x8d\\xd0\\x99\\xdeA\\xe8\\xb4s\\xb7\\x12\\x9e6\\xe0T\\xf9\\x12\\x00U\\xe3\\x9d\\xf9\"\\xf9\\xbc\\x1e\\xa9\\xd2\\x1d\\xbe5!\\xd2\\xf4\\xd6J\\xd8\\xd9\\x80\\xe3\\xc1\\x05\\x88K\\xf7x*Ii6u\\x83\\xbb\\xe2\\x93\\x9c\\x99?\\x126n\\xed\\x12\\xb6&\\x9b4\\x9b\\x01\\xdaK\\x13HJ\\x8f\\xbbj\\xf41\\xefDdA\\xe84{\\xb5\\x12f6\\xe0\\x8b/\\xb8G\\x9a\\xefQ\\xdc{\\xc5c\\x92G\\xd9\\x8b\\xe4\\xcc\\xc3\\x97\\xd0mk\\xd3mYt\\x8c\\xf3\\xdah\\xdey\\xed\\xa3h\\xec2Kw\\xc2\\xf8\\x81\\x84\\x99[<\\x8b\\xa6K\\x92\\xa9\\xd75\\x00\\xcd\\xdbf\\x1fT+\\xfb\\xaet\\xb74\\xd7\\xa4\\x8fY\\x8c$T\\xdd\\xdaT]\\x96\\xfah\\x9f\\xb3\\x8b\\n\\x006\\xd2#4M\\xb6FifIDz\\x84f\\x86GB\\xe3-T\\xc7\\x07nxl\\xb4\\xef\\xf7\\xc0\\xe8~\\x0cN\\xd7b<]\\xc2\\xe1-\\xa4\\xd0\\x81\\x83\\x8e\\x00\\x081\\x83\\x9d5We\\xa7\\x92\\x81\\x1fiK{~\\'\\xa1m\\x03\\xbe&A\\x857\\x9b\\x10\\xe0/V$\\x9f\\xe7\\x8f\\x97\\xf7\\x90<\\xfd\\xcc;\\t\\x1b\\x1b\\xf0\\x85\\xd8\\xb8\\x19\\x03\\xe8\\xaa\\xf4^\\xc0\"y\\x82\\x9a\\tA\\x0f\\xbdY\\xc1\\x8b6\\xc556\\x87L\\xb4\\x93P\\xb5\\x01_\\xf9\\x82\\xe1>@\\x072Q\\x92\\x93E}\\x85.\\xe5\\xbdgb\\x97\\xc2\\x87H$\\xd8I\\x98\\xdc\\x80\\xaf\\xd60d\\x02\\xe8@bA\\xf2(\\x19\\x92<\\xbd\\xc0v\\x12\\xf66\\xe0\\xabK\\xf8\\x89\\x05\\x00BSJ\\x94<\\x936\\xc6A$l\\xde\\x89\\xd8\\x1c\\xd0\\xa1\\x01\\x10\\xf17i\\xa3\\xe1\\x88M\\'\\t\\x7fw\\x90Yse\\x1a@\\xb3\\xfcMh\\x9a\\\\\\xb5N\\xab\\xec\\xe0\\xc0s\\x15;\\xed\\x8e\\xe5\\xb0\\x9d\\x84\\xcb\\r8;i\\x02\\xb4G~$\\xcd$rB\\xa7\\x89\\xbc\\x93\\x10\\xb9\\x01_\\xcbQ^\\x86z\\x0f\\x80\\xd0D\\x03\\xf6f\\xd7-;\\x1f\\x8f\\xd5\\x03;\\t\\x97\\x1b\\xf0u0\\xfc\\xc0\\n\\x00\\xfe\\xf3\\x07&\\x1f\\xac\\xa5\\xd4\\xbcx\\xba\\xa6_OO\\xbc\\x8f\\x14mz\\tw\\x1bp<\\xcd\\x001\\xeb\\n\\x84\\x8e\\xf28\\xc9\\xd3\\xcbT/\\xe1q\\x03\\xbe\\xf2\\xb8\\xff\\x96\\x05\\x00tA\\x03\\xde\\xeb\\xf5^\\x14%t4e%y:v\\xea%\\xb4m\\xc0\\x17\\x03\\xbc\"%\\x88\\x03\\x15\\x1b\\x92\\xd3\\x13/4\\x91\\xa4\\x16\\x1fB\\xcb\\xa2\\x90^\\xc2\\xdb\\x06\\x9c0\\xc7N\\xd0C\\xe6\\xd8\\x05\\xf0rh\\xcad\\xd2M\\x17cFCB\\xdb=la\\x07Bq\\x00\\x04Bq\\x92\\'\"AB\\xa4\\xc9\\xad\\x97P\\xb5\\x01\\'\\\\\\x182m\\xbf\\xaeD?\\x9fnY7{\\x18\\x92\\xd9\\x03\\xa1i\\x05\\x8a\\xbdS,\\xe1\\xe6\\x1erk\\xee\\x94\"\\xa0\\xbd\\xf5\\x93\\xa4\\xf1\\x05(\\xa7\\xe8\\xddK\\xd8\\xd7\\x80\\x13\\x0f\\xdfN\\xb4\\xf9\\xb7\\xa0\\x99\\x028]\\x8cy\\xf8\\x12\\xc2\\xed\\xa1\\x00\\x1e(\\x04\\x00\\x80-\\x04\\x10\\x9a\\x9e?\\xb7\\x1dGh\\x86\\x0e$\\xf4\\xdb\\xdb\\xa9t\\xa8\\x9e\\x8f\\x00\\xff\\x0c\\r\\xc93\\x03 B\\xa7\\xf3\\x86AB\\xc7\\x06\\x9c\\x9d\\x97\\x02\\xdas\\x06\\x92\\x92-\\\\Y\\x80\\xd0\\x8c-\\x12n\\x1e\\xe0\\xa0\\xb8Gm \\x0ed@$\\x8f&m$gnX\\xc2\\xc5\\x03\\xbe\\xe0\\xe5\\x1e\\xb2\\x041\\x1bJ\\x10:s&\\x11:\\xcd\\n\\x83\\x84\\x89\\r8;\\x83\\x06\\xb4?\\x93`_\\x9a\\xdbY$]\\xe9\\xb4`\\x90\\xd0\\xb2\\x01_\\xbd\\xc2\\x7f\\x15\\x18\\x00\\xfc\\xd0@n\\xed\\xef\\xec\\x926f0$\\x14=\\xa4\\x0f\\x93\\x818\\xb0\\x15Mr\\nK\\xb9}9B\\xa7\\xc3\\xa2AB\\xd1\\x06\\x9c\\xbf*\\xd9\\x84\\x1e\\x88\\x91H\\x1by\\x06\\xb7\\xb3Bh\\xc6\\xcd%\\x94=p\\xfb\\xd4\\x00\\xf0\\x9d\\x01H\\x9a\\xbd}\\xd8\\xb3\\x8e\\xc4K\\x83\\x84\\xb2\\r8\\x95\\xf2\\x00\\x80\\xcd\\xd9\\x08\\x9d;\\x1av\\xc6\\x1c+_\\x0c\\x12\\xca6\\xe0k\\xa5\\xcc/\\x1e\\x03\\x807\\x072h\\xae\\x1aC\\xba\\xd3\\x93K\\x15\\xb2\\x8e,\\xf0n6\\xf7&\\xe7\\xa4|\\xb6?@\\x833\\x80\\x9c\\xbf\\x1a\\xdcCM3@\\x96\\xd5\\xa9B\\xd4\\x8a\\xc5\\xa0S\\x93n\\xd2w\\xb1\\xc3?\\x9d2\\x032\\xc3\\x91\\x19\\xce\\r\\x8d\\x84\\xdfU\\x01\\x87\\xcd\\x02\\xc7=\\x10\\x118\\xef1\\x03([\\xeaz\\xf7\\xdd\\xd3\\x190\\xdd\\xb7\\xee\\xbf\\x17n\\x15\\xa7\\n\\t\\x97O\\xe8\\x14\\x01\"\"\\xb0\\xe8\\xce\\x80\\xcc4o\\x86Of\\x0cQ+$,\\xae\\n;\\xbb.\\xf5\\xaeCr\\x17\\x15\\xe1~w\\x12\\xd26\\x8fD\\xd1\\xc3\\xa6\\xa3\\xd7\\x9e\\x84\\xe04.E\\xd4\"\\t\\xad\\xab\\x02\\xaa\\xe4\\xc1\\t%\\xda\\xe7\\x9e\\x15\\x92Qu\\xdbC2\\xee\\x9e\\xa0\\x98\\xe14J\\x11vQ\\x85\\x84\\xeb\\'\\xf4eA\\xf6N\\xa1\\xa1<0,\\xf6vv\\xdd\\x96}\\xb2\"5k\\xa3a\\xd1g\\x04ag,\\xd2hQ\\x15\\x12\\xbe\\x9f\\xd0\\x17\\x8b\\x1a\\xbc#\\xf7\\xdd\\xfe{\\x84\\x07\\x0c\\xb4\\xf9\\xbf)\\xf5\\xcbL\\xf61;\\x7f\\x88\\xec\\x00@\\x0fXl=\\x90\\x84\\x00\\xaa\\x80\\ro\\xb65\\x16\\xc0\\x83\\x1c\\xc3lz\\xcf\\x17\\x9c\\x86)VxV\\x85\\x84\\xf8\\'\\xf4eX\\xf4aj\\xaf\\xc1\\x8f\\xd1w\\xe1\\x14\\xbe_\\x99\\xcd\\xfdM\\xa1\\xab\\x19\\xa9b\\xe8|}\\xc6yd\\xed\\xd8\\xa0\\xc3Z\\xe8`\\x85\\xc2\\x1el\\xfe^\\xf2\\x0c\\xa0%\\x80u \\xe8\\xbb\\x16\\xdb{U\\xa6\\x9fYv+U\\xe8\\xa5V\\xea\\xb2\\x95\\xd7\\xbb\\x08\\xbb\\xadq\\xfd\\x17\\xa7\\xcb\\xcfo\\xc3\\xd4}\\xdb\\xa5}\\x06\\xba\\xaf\\xc59T\\xd6\\x80\\rz\\xaa\\xf9\\xa7k\\x15\\xf6\\\\\\xf3\\xbbz\\xce\\x80\\\\\\x06%}3\\xe1\\xc4\\x16gY\\x176h\\xc3\\xc6\\x9e7W\\x00\\x0fE\\x05\\xd0z\\xad.u\\xee\\x99t\\x19\\xe8\\xbd\\x16\\x8d\\nL\\x0f\\xb4\\xfc\\xc9\\x06Q\\x81\\xbf)p\\xaf\\xa0?\\x9b\\xbf C\\xcb\\xb5\\xba\\xea\\x9df(\\xeb\\xf9\\xf7\\x1c\\xf5\\x9b\\x0ef\\xf9\\xb7\\r)}\\xa8\\xbf\\x17vW\\x0by:\\xec\\x8a\\xfb\\xbb}\\nz\\xaa\\xe98?\\xc2\\x1d\\xa6yY\\xfe\\x8d\\xe3Y\\xb6@_5h\\xac\\x16\\xd8dU\\x04\\xc8\\xf6\\x04\\xbb\\xea\\xaeb\\xbd\\x7ft\\xe3bI?Eh\\x9f\\x96\\xe1\\tP\\x88\\x0fy\\xb7M\\xeb\\x19\\x9e\\x00\\xb4\\xae#?\\xe8\\xd4z\\x9d\\x82p\\xa0G\\xc9\\xda\\xb1A\\x87\\xb5\\xd0\\x8a\\x95<\\xc86]\\xec\\xb2\\xe8\\x86\\xfc\\xc2N\\xe6\\xe3\\xd4!\"u\\xe8\\x9cV\\xb6*@\\x1dv\\x8d^\\xbf%\\xea\\xb6&S\\xd0\\\\\\xad\\xa9t\\xaf&\\xf7\\x10\\xc5\\x0c\\x11F\\x8d\\xa2\\x16kz\\x9eZ\\xadU\\x83\\x96\\x00\\x82\\xad:\\xce\\n\\'\\xafi\\x9a\\xa2M\\',\\xd8\\x80-w\\x86\\x89:\\xb2)h\\xc9Vz\\x87\\x8c\\x1d\\xb9\\x7fpo\\x06PR\\x1fX\\xc2\\xa0\\r[\\xec5\\x13e\\xda\\x9fe\\xaf`\\xd0Z\\xad\\xe4^Z\\x9a\\x94\\xcfQd\\xe0\\xac\\xdb\\x0c\\xa0\\xe5\\xac\\xd1\\x91h\\xea\\xa8\\xf7\\x0c\\x9f\\'_\\xa6\\xeb\\x8bZ\\xb3)\\xec\\xcd\\xc6\\x9dODxh\\xc5\\x86\\xeel\\xec\\xbbX\\xb3>.v\\x11\\xb5kS\\xd0\\x81-\\xecPv(\\x104\\xc3\\xae\\xdc\\x87\\x97\\x06\\xa75[\\x8c3E\\xcd\\xd9\\xccg\\x14.m\\x96C\\xfb\\x8a\\x88\\x08EZ\\xd0\\x92-c\\x04\\xa6\\xd8\\x80INL_\\xb4|\\xbf\\x81Sp\\x81\\xcd^\\x85]\\xd9\\xfc\\xb7Eg@\\xb6\\xab\\x00\\xf3G\\x93_Q/6\\x05\\xdd\\xd6\\x82\\xd9\\t \\x82\\x1e\\x0fd\\x1f\\xa8\\xe2A\\x17\\xb6(5\\x9a\\xf6f\\xf9\\x8f\\x1f\\xf6\\xdau\\xa9\\xc3\\xcb\\xaa\\xa0\\x15[p\\xfe\\x8b\\x8e\\xb7)h\\xbf\\x16\\xb7BD\\xf0\\xd0\\x80\\x8d}\\xcdC\\x01\\xdc\\x8f\\xddI<\\xf3\\x07\\xf3\\x8e\\xe8\\xac\\x8d\\xf1\\nQw6\\x05\\xdd\\xd7\\xf8@\\x12\\xe0\\xa11\\x82\\xfel5[\\xc2s\\x1a\\xb4\\xc5\\xeaC\\xa6\\xf3Y\\xf6T\\x83\\xaekA\\x17\\x01\\x84?.\\xd0\\x96\\x8d\\xaf\\xe2A_\\xb6\\xd8\\x8b\\x8d\\xca\\xf4C\\xcb\\xb7\\x01\\x8a\\xf5\\xce\\xfbW\\x85W+\\x82\\xd6l\\xc1q\\x99\\xf4\\xd1\\xd2\\xc5\\xd6 H\\x1fS\\x007m\\xce\\xf2M\\x82\\xf7\\xd3tq7\\xf9\\xb6\\xb5\\xc2\\x8el\\x81H\\x19\\x9a\\xb05\\xbap\\x99\\x8e(\\xa1\\'[<\\x9d\\x14ueS\\xd0\\x96-\\xc3}8\\x8a\\'}\\xb9\\x15ph\\xda\\xa6kgy\\xf5cQ\\x1b7\\x05\\x8d\\xda\\x82\\xec\\x0f\\x88\\xe0\\xe4\\xb3S}\\xf6\\x90\\xdd|\\xc5i\\xf2E\\xa3fQ77\\x05\\xed\\xdc\\xf8\\x85\\x1b\\xe0|r\\x03\\r\\xdd2V=8\\x88\\x17\\x0b\\xd2D\\x1d\\xde\\x14\\xf4p\\x0b\\xc6\\x97\\x80\\x08,z\\x10\\x15\\xf0+\\xc4\\x1f*\\x01\\x98\\xe6j\\xf9+\\x06\\xc6\\x0c\\xfe{$\\n:\\xc3e|j\\xc1\\x8e 2\\xc6\\xc9.\\x11\\xc4K7\\xa6\\xc7Z\\xbeQxJ\\x8fi\\x9a\\xa1\\xa0y\\x1c\\xffe\\x0f\\x82\\xd3\\x02\\x12({@C\\xb8hT$j\\t\\xa7?\\x92f\\x17\\x0b\\xfcD:\\xdd\\x05n\\xfe9\\x85A\\xdck\\x0b3\\x9c\\t\\x83D\\x8d\\xe0\\x14\\xf4v\\xe3\\x93jl\\x05\\xc7\\xf5\\xe8\\x9b\\xb5\\xcf\\x83R\\x0ci\\xa6rZ\\xc3\\xc5\\x82\"\\xd3\\xb0-{\\xdaA\\xfb\\xb7\\xe0\\xde\\x0c6\\x88\\xe3\\x8d\\x82\\x88\\x82\\x8d\\xf4H;%\\xd5\\xd12\\xa8\\xa8e\\x9c\\xc2\\xa6pl-\\x04\\xe0\\xbc/AK9\\x9e\\xb6\\x08.\\xac\\x8c\\x98Np\\xf9\\xa3\\xc8\\x1d\\xd1W\\xd0Y.\\x94\\x8a\\x13 \\xb7|Mp&\\x12\\x145\\x97\\x1b?Ey\\xfdnS\\x19\\xda\\xf4\\x00D(\\x87\\x85\\x0esu\\xc7\\x9d\\x7f\\x80\\x16szK$]\\xb0\\x9e\\xbet9}\\x8c\\xf1m\\xf3e\\xf7\\xb7\\xcd\\xf1\\xcb\\xfe\\xf5\\xb4x\\xde=\\x9aoXj\\xea;N\\x9f\\xb9\\xd4]f\\xf4\\xb7\\x13\\x0fo\\xe3\\x97-\\xc7\\x17\\xf7>\\x1f\\xce\\xfa;\\x95\\xf3\\xbf=\\xe9O\\xb6\\xee\\xf4\\xe7\\x19\\xc7\\xaf^.\\x1e\\x0f\\x87\\xf3\\xfc/\\xe3\\xd74/\\x1f\\x81\\xfd\\xf0;\\x00\\x00\\x00\\xff\\xff\\x03\\x00PK\\x03\\x04\\x14\\x00\\x06\\x00\\x08\\x00\\x00\\x00!\\x00\\xc1\\x17\\x10\\xbeN\\x07\\x00\\x00\\xc6 \\x00\\x00\\x13\\x00\\x00\\x00xl/theme/theme1.xml\\xecY\\xcd\\x8b\\x1b7\\x14\\xbf\\x17\\xfa?\\x0csw\\xfc5\\xe3\\x8f%\\xde\\xe0\\xcfl\\x93\\xdd$d\\x9d\\x94\\x1c\\xb5\\xb6\\xecQV32\\x92\\xbc\\x1b\\x13\\x02%9\\xf5R(\\xa4\\xa5\\x97Bo=\\x94\\xd2@\\x03\\r\\xbd\\xf4\\x8f\\t$\\xb4\\xe9\\x1f\\xd1\\'\\xcd\\xd8#\\xad\\xe5$\\x9blJZv\\r\\x8bG\\xfe\\xbd\\xa7\\xa7\\xf7\\x9e~z\\xf3t\\xf1\\xd2\\xbd\\x98zG\\x98\\x0b\\xc2\\x92\\x96_\\xbeP\\xf2=\\x9c\\x8c\\xd8\\x98$\\xd3\\x96\\x7fk8(4|OH\\x94\\x8c\\x11e\\tn\\xf9\\x0b,\\xfcK\\xdb\\x9f~r\\x11m\\xc9\\x08\\xc7\\xd8\\x03\\xf9Dl\\xa1\\x96\\x1fI9\\xdb*\\x16\\xc5\\x08\\x86\\x91\\xb8\\xc0f8\\x81\\xdf&\\x8c\\xc7H\\xc2#\\x9f\\x16\\xc7\\x1c\\x1d\\x83\\xde\\x98\\x16+\\xa5R\\xad\\x18#\\x92\\xf8^\\x82bP{}2!#\\xec\\r\\x95J\\x7f{\\xa9\\xbcO\\xe11\\x91B\\r\\x8c(\\xdfW\\xaa\\xb1%\\xa1\\xb1\\xe3\\xc3\\xb2B\\x88\\x85\\xe8R\\xee\\x1d!\\xda\\xf2a\\x9e1;\\x1e\\xe2{\\xd2\\xf7(\\x12\\x12~h\\xf9%\\xfd\\xe7\\x17\\xb7/\\x16\\xd1V&D\\xe5\\x06YCn\\xa0\\xff2\\xb9L`|X\\xd1s\\xf2\\xe9\\xc1j\\xd2 \\x08\\x83Z{\\xa5_\\x03\\xa8\\\\\\xc7\\xf5\\xeb\\xfdZ\\xbf\\xb6\\xd2\\xa7\\x01h4\\x82\\x95\\xa6\\xb6\\xd8:\\xeb\\x95n\\x90a\\rP\\xfa\\xd5\\xa1\\xbbW\\xefU\\xcb\\x16\\xde\\xd0_]\\xb3\\xb9\\x1d\\xaa\\x8f\\x85\\xd7\\xa0T\\x7f\\xb0\\x86\\x1f\\x0c\\xba\\xe0E\\x0b\\xafA)>\\\\\\xc3\\x87\\x9df\\xa7g\\xeb\\xd7\\xa0\\x14_[\\xc3\\xd7K\\xed^P\\xb7\\xf4kPDIr\\xb8\\x86.\\x85\\xb5jw\\xb9\\xda\\x15d\\xc2\\xe8\\x8e\\x13\\xde\\x0c\\x83A\\xbd\\x92)\\xcfQ\\x90\\r\\xab\\xecRSLX\"7\\xe5Z\\x8c\\xee2>\\x00\\x80\\x02R$I\\xe2\\xc9\\xc5\\x0cO\\xd0\\x08\\xb2\\xb8\\x8b(9\\xe0\\xc4\\xdb%\\xd3\\x08\\x12o\\x86\\x12&`\\xb8T)\\rJU\\xf8\\xaf>\\x81\\xfe\\xa6#\\x8a\\xb602\\xa4\\x95]`\\x89X\\x1bR\\xf6xb\\xc4\\xc9L\\xb6\\xfc+\\xa0\\xd57 /\\x9e={\\xfe\\xf0\\xe9\\xf3\\x87\\xbf=\\x7f\\xf4\\xe8\\xf9\\xc3_\\xb2\\xb9\\xb5*Kn\\x07%SS\\xee\\xd5\\x8f_\\xff\\xfd\\xfd\\x17\\xde_\\xbf\\xfe\\xf0\\xea\\xf17\\xe9\\xd4\\'\\xf1\\xc2\\xc4\\xbf\\xfc\\xf9\\xcb\\x97\\xbf\\xff\\xf1:\\xf5\\xb0\\xe2\\xdc\\x15/\\xbe}\\xf2\\xf2\\xe9\\x93\\x17\\xdf}\\xf5\\xe7O\\x8f\\x1d\\xda\\xdb\\x1c\\x1d\\x98\\xf0!\\x89\\xb1\\xf0\\xae\\xe1c\\xef&\\x8ba\\x81\\x0e\\xfb\\xf1\\x01?\\x9d\\xc40B\\xc4\\x92@\\x11\\xe8v\\xa8\\xee\\xcb\\xc8\\x02^[ \\xea\\xc2u\\xb0\\xed\\xc2\\xdb\\x1cX\\xc6\\x05\\xbc<\\xbfk\\xd9\\xba\\x1f\\xf1\\xb9$\\x8e\\x99\\xafF\\xb1\\x05\\xdcc\\x8cv\\x18w:\\xe0\\xaa\\x9a\\xcb\\xf0\\xf0p\\x9eL\\xdd\\x93\\xf3\\xb9\\x89\\xbb\\x89\\xd0\\x91k\\xee.J\\xac\\x00\\xf7\\xe73\\xa0W\\xe2R\\xd9\\x8d\\xb0e\\xe6\\r\\x8a\\x12\\x89\\xa68\\xc1\\xd2S\\xbf\\xb1C\\x8c\\x1d\\xab\\xbbC\\x88\\xe5\\xd7=2\\xe2L\\xb0\\x89\\xf4\\xee\\x10\\xaf\\x83\\x88\\xd3%Cr`%R.\\xb4Cb\\x88\\xcb\\xc2e \\x84\\xda\\xf2\\xcd\\xdem\\xaf\\xc3\\xa8k\\xd5=|d#a[ \\xea0~\\x88\\xa9\\xe5\\xc6\\xcbh.Q\\xecR9D15\\x1d\\xbe\\x8bd\\xe42r\\x7f\\xc1G&\\xae/$Dz\\x8a)\\xf3\\xfac,\\x84K\\xe6:\\x87\\xf5\\x1aA\\xbf\\n\\x0c\\xe3\\x0e\\xfb\\x1e]\\xc46\\x92Kr\\xe8\\xd2\\xb9\\x8b\\x183\\x91=v\\xd8\\x8dP<s\\xdaL\\x92\\xc8\\xc4~&\\x0e!E\\x91w\\x83I\\x17|\\x8f\\xd9;D=C\\x1cP\\xb21\\xdc\\xb7\\t\\xb6\\xc2\\xfdf\"\\xb8\\x05\\xe4j\\x9a\\x94\\'\\x88\\xfae\\xce\\x1d\\xb1\\xbc\\x8c\\x99\\xbd\\x1f\\x17t\\x82\\xb0\\x8be\\xda<\\xb6\\xd8\\xb5\\xcd\\x893;:\\xf3\\xa9\\x95\\xda\\xbb\\x18St\\x8c\\xc6\\x18{\\xb7>sX\\xd0a3\\xcb\\xe7\\xb9\\xd1W\"`\\x95\\x1d\\xecJ\\xac+\\xc8\\xceU\\xf5\\x9c`\\x01e\\x92\\xaak\\xd6)r\\x97\\x08+e\\xf7\\xf1\\x94m\\xb0goq\\x82x\\x16(\\x89\\x11\\xdf\\xa4\\xf9\\x1aD\\xddJ]8\\xe5\\x9cTz\\x9d\\x8e\\x0eM\\xe05\\x02\\xe5\\x1f\\xe4\\x8b\\xd3)\\xd7\\x05\\xe80\\x92\\xbb\\xbfI\\xeb\\x8d\\x08Yg\\x97z\\x16\\xee|]p+~o\\xb3\\xc7`_\\xde=\\xed\\xbe\\x04\\x19|j\\x19 \\xf6\\xb7\\xf6\\xcd\\x10Qk\\x82<a\\x86\\x08\\n\\x0c\\x17\\xdd\\x82\\x88\\x15\\xfe\\\\D\\x9d\\xabZl\\xee\\x94\\x9b\\xd8\\x9b6\\x0f\\x03\\x14FV\\xbd\\x13\\x93\\xe4\\x8d\\xc5\\xcf\\x89\\xb2\\'\\xfcw\\xca\\x1ew\\x01s\\x06\\x05\\x8f[\\xf1\\xfb\\x94:\\x9b(e\\xe7D\\x81\\xb3\\t\\xf7\\x1f,kzh\\x9e\\xdc\\xc0p\\x92\\xacs\\xd6yUs^\\xd5\\xf8\\xff\\xfb\\xaaf\\xd3^>\\xafe\\xcek\\x99\\xf3Z\\xc6\\xf5\\xf6\\xf5Aj\\x99\\xbc|\\x81\\xca&\\xef\\xf2\\xe8\\x9eO\\xbc\\xb1\\xe53!\\x94\\xee\\xcb\\x05\\xc5\\xbbBw}\\x04\\xbc\\xd1\\x8c\\x070\\xa8\\xdbQ\\xba\\'\\xb9j\\x01\\xce\"\\xf8\\x9a5\\x98,\\xdc\\x94#-\\xe3q&?\\'2\\xda\\x8f\\xd0\\x0cZCe\\xdd\\xc0\\x9c\\x8aL\\xf5Tx3&\\xa0c\\xa4\\x87u+\\x15\\x9f\\xd0\\xad\\xfbN\\xf3x\\x8f\\x8d\\xd3Ng\\xb9\\xac\\xba\\x9a\\xa9\\x0b\\x05\\x92\\xf9x)\\\\\\x8dC\\x97J\\xa6\\xe8Z=\\xef\\xde\\xad\\xd4\\xeb~\\xe8TwY\\x97\\x06(\\xd9\\xd3\\x18aLf\\x1bQu\\x18Q_\\x0eB\\x14^g\\x84^\\xd9\\x99X\\xd1tX\\xd1P\\xea\\x97\\xa1ZFq\\xe5\\n0m\\x15\\x15x\\xe5\\xf6\\xe0E\\xbd\\xe5\\x87A\\xdaA\\x86f\\x1c\\x94\\xe7c\\x15\\xa7\\xb4\\x99\\xbc\\x8c\\xae\\n\\xce\\x99Fz\\x933\\xa9\\x99\\x01Pb/3 \\x8ftS\\xd9\\xbaqyjui\\xaa\\xbdE\\xa4-#\\x8ct\\xb3\\x8d0\\xd20\\x82\\x17\\xe1,;\\xcd\\x96\\xfbY\\xc6\\xba\\x99\\x87\\xd42O\\xb9b\\xb9\\x1br3\\xea\\x8d\\x0f\\x11kE\"\\'\\xb8\\x81&&S\\xd0\\xc4;n\\xf9\\xb5j\\x08\\xb7*#4k\\xf9\\x13\\xe8\\x18\\xc3\\xd7x\\x06\\xb9#\\xd4[\\x17\\xa2S\\xb8v\\x19I\\x9en\\xf8wa\\x96\\x19\\x17\\xb2\\x87D\\x94:\\\\\\x93N\\xca\\x061\\x91\\x98{\\x94\\xc4-_-\\x7f\\x95\\r4\\xd1\\x1c\\xa2m+W\\x80\\x10>Z\\xe3\\x9a@+\\x1f\\x9bq\\x10t;\\xc8x2\\xc1#i\\x86\\xdd\\x18Q\\x9eN\\x1f\\x81\\xe1S\\xaep\\xfe\\xaa\\xc5\\xdf\\x1d\\xac$\\xd9\\x1c\\xc2\\xbd\\x1f\\x8d\\x8f\\xbd\\x03:\\xe77\\x11\\xa4XX/+\\x07\\x8e\\x89\\x80\\x8b\\x83r\\xea\\xcd1\\x81\\x9b\\xb0\\x15\\x91\\xe5\\xf9w\\xe2`\\xcah\\xd7\\xbc\\x8a\\xd29\\x94\\x8e#:\\x8bPv\\xa2\\x98d\\x9e\\xc25\\x89\\xae\\xcc\\xd1O+\\x1f\\x18O\\xd9\\x9a\\xc1\\xa1\\xeb.<\\x98\\xaa\\x03\\xf6\\xbdO\\xdd7\\x1f\\xd5\\xcas\\x06i\\xe6g\\xa6\\xc5*\\xea\\xd4t\\x93\\xe9\\x87;\\xe4\\r\\xab\\xf2C\\xd4\\xb2*\\xa5n\\xfdN-r\\xaek.\\xb9\\x0e\\x12\\xd5yJ\\xbc\\xe1\\xd4}\\x8b\\x03\\xc10-\\x9f\\xcc2MY\\xbcN\\xc3\\x8a\\xb3\\xb3Q\\xdb\\xb43,\\x08\\x0cO\\xd46\\xf8muF8=\\xf1\\xae\\'?\\xc8\\x9d\\xccZu@,\\xebJ\\x9d\\xf8\\xfa\\xca\\xdc\\xbc\\xd5f\\x07w\\x81<zp\\x7f8\\xa7R\\xe8PBo\\x97#(\\xfa\\xd2\\x1b\\xc8\\x946`\\x8b\\xdc\\x93Y\\x8d\\x08\\xdf\\xbc9\\'-\\xff~)l\\x07\\xddJ\\xd8-\\x94\\x1aa\\xbf\\x10T\\x83R\\xa1\\x11\\xb6\\xab\\x85v\\x18V\\xcb\\xfd\\xb0\\\\\\xeau*\\x0f\\xe0`\\x91Q\\\\\\x0e\\xd3\\xeb\\xfa\\x01\\\\a\\xd0Evi\\xaf\\xc7\\xd7.\\xee\\xe3\\xe5-\\xcd\\x85\\x11\\x8b\\x8bL_\\xcc\\x17\\xb5\\xe1\\xfa\\xe2\\xbe\\\\\\xd9|q\\xef\\x11 \\x9d\\xfb\\xb5\\xca\\xa0Ymvj\\x85f\\xb5=(\\x04\\xbdN\\xa3\\xd0\\xec\\xd6:\\x85^\\xad[\\xef\\rz\\xdd\\xb0\\xd1\\x1c<\\xf0\\xbd#\\r\\x0e\\xda\\xd5nP\\xeb7\\n\\xb5r\\xb7[\\x08j%e~\\xa3Y\\xa8\\x07\\x95J;\\xa8\\xb7\\x1b\\xfd\\xa0\\xfd +c`\\xe5)}d\\xbe\\x00\\xf7j\\xbb\\xb6\\xff\\x01\\x00\\x00\\xff\\xff\\x03\\x00PK\\x03\\x04\\x14\\x00\\x06\\x00\\x08\\x00\\x00\\x00!\\x00(x\\xabc\\xed\\x02\\x00\\x00\\xa6\\x07\\x00\\x00\\r\\x00\\x00\\x00xl/styles.xml\\xacU]o\\x9b0\\x14}\\x9f\\xb4\\xff`\\xf9\\x9d\\xf2Q\\xc8\\x92\\x08\\xa8\\x9a\\xa6H\\x95\\xb6jR;i\\xaf\\x0e\\x98\\xc4\\xaa?\\x90q2\\xd2i\\xff}\\xd7@\\x08Y\\xa7uK\\xf7\\x12\\xec\\xeb\\xeb\\xe3s\\xef9v\\xe2\\xabFp\\xb4\\xa3\\xbafJ&\\xd8\\xbf\\xf00\\xa22W\\x05\\x93\\xeb\\x04\\x7fy\\xcc\\x9c)F\\xb5!\\xb2 \\\\I\\x9a\\xe0=\\xad\\xf1U\\xfa\\xfe]\\\\\\x9b=\\xa7\\x0f\\x1bJ\\r\\x02\\x08Y\\'xcL5w\\xdd:\\xdfPA\\xea\\x0bUQ\\t+\\xa5\\xd2\\x82\\x18\\x98\\xea\\xb5[W\\x9a\\x92\\xa2\\xb6\\x9b\\x04w\\x03\\xcf\\x9b\\xb8\\x820\\x89;\\x84\\xb9\\xc8\\xff\\x06D\\x10\\xfd\\xb4\\xad\\x9c\\\\\\x89\\x8a\\x18\\xb6b\\x9c\\x99}\\x8b\\x85\\x91\\xc8\\xe7wk\\xa94Yq\\xa0\\xda\\xf8!\\xc9Q\\xe3Ot\\x80\\x1a}8\\xa4\\x8d\\xbe8G\\xb0\\\\\\xabZ\\x95\\xe6\\x02p]U\\x96,\\xa7/\\xe9\\xce\\xdc\\x99K\\xf2#\\x12 \\x9f\\x87\\xe4G\\xae\\x17\\x9c\\xd4\\xde\\xe83\\x91BW\\xd3\\x1d\\xb3\\xf2\\xe14.\\x9545\\xca\\xd5V\\x1a\\x10\\x13\\x88\\xda\\x16\\xcc\\x9f\\xa4\\xfa&3\\xbbd\\x83]V\\x1a\\xd7\\xcfhG8D|\\xec\\xa6q\\xae\\xb8\\xd2\\xc8\\x80t\\xd0\\xb96\"\\x89\\xa0]\\xc6\\r\\xe1l\\xa5\\x99M+\\x89`|\\xdf\\x85\\x03\\x1bh\\xd5\\xee\\xf3\\x04\\x83\\xde\\xdb\\xa0ky\\xf4\\x9f\\x1a61\\xce\\x07V\\x81%\\x00\\x814\\x06\\xf9\\x0c\\xd52\\x83\\t\\xea\\xc7\\x8f\\xfb\\n\\x8e\\x97\\xe0\\xb4\\x0e\\xa6\\xcd{%{\\xad\\xc9\\xde\\x0f\\xa2\\xd1\\x06\\xb7=0\\x8dWJ\\x17\\xe0\\xecc?\\x0e\\xa14\\xe6\\xb44@T\\xb3\\xf5\\xc6~\\x8d\\xaa\\xe0w\\xa5\\x8c\\x01\\xf5\\xd3\\xb8`d\\xad$\\xe1\\xb6\\x94\\x0ed\\x18@99\\xe5\\xfc\\xc1\\xba\\xffky\\x82\\xdd\\x94HnE&\\xcc]\\x91`\\xb8G\\xb6\\t\\x87!\\x14\\xd2\\x0f;\\xbcnb\\xf1\\xc7h\\x1d\\xf6\\x086\\x84f\\xfd;,j\\xca\\x01\\xffd78\\xe2uR\\xc3nD\\xaa\\x8a\\xef\\xef\\xb7bEu\\xd6\\xde\\xe2\\xde\\x19o`\\xd4a^s\\xb6\\x96\\x82v&Mc\\xb0W7E\\x1b\\xa5\\xd93\\xb4\\xcd\\xfa2\\x87u\\xda\\xd9\\xa9)\\x7fi\\xc3\\xff(\\xe4|*\\xadf\\xa0\\xd2\\xc8\\n\\'F\\x18$E\\xf6\\x0e%\\xf8\\xde6\\x8f\\xc3m\\xeceA\\xab-\\xe3\\x86\\xc9\\xdf\\x98\\x000\\x8b\\xe6h+\\xcf\\xba\\xda\\xd8\\xe7\\xac5\\xdcp\\n\\xb8\\xab\\xa0%\\xd9r\\xf38,&\\xf88\\xfeD\\x0b\\xb6\\x15\\xc1\\x90\\xf5\\x99\\xed\\x94i!\\x12|\\x1c\\x7f\\xb4\\xee\\xf7\\'\\xf6\\x0c\\xda\\x98\\x8f5\\\\Y\\xf8\\xa2\\xadf\\t\\xfe~\\xbb\\xf80[\\xdef\\x813\\xf5\\x16S\\'\\xbc\\xa4\\x913\\x8b\\x16K\\'\\no\\x16\\xcbe6\\xf3\\x02\\xef\\xe6\\xc7\\xe8Q}\\xc3\\x93\\xda\\xfe\\x07\\x80\\xc2~8\\xaf9<\\xbc\\xba/\\xb6/\\xf1\\xe1\\x18K\\xf0h\\xd2\\xd1o\\xef=\\xd0\\x1es\\x9f\\x05\\x13\\xef:\\xf2=\\'\\xbb\\xf4|\\'\\x9c\\x90\\xa93\\x9d\\\\FN\\x16\\xf9\\xc1r\\x12.n\\xa3,\\x1aq\\x8f\\xce|z=\\xd7\\xf7\\xbbG\\xdc\\x92\\x8f\\xe6\\x86\\t\\xca\\x99<huPh\\x1c\\x05\\x91`\\xfa\\x87\"\\xdc\\x83\\x12\\xee\\xf1\\x0f6\\xfd\\t\\x00\\x00\\xff\\xff\\x03\\x00PK\\x03\\x04\\x14\\x00\\x06\\x00\\x08\\x00\\x00\\x00!\\x00\\x80\\x926\\xf3\\xca\\x00\\x00\\x00+\\x01\\x00\\x00\\x14\\x00\\x00\\x00xl/sharedStrings.xmlt\\x8f\\xc1J\\x041\\x10D\\xef\\x82\\xff\\x10\\xda\\x8b\\x1e\\xdc\\x8c\"\"\\x92d\\x0f\\x0b\\xfe\\xc0(\\x9e\\x9b\\x99\\xde\\x99\\x81\\xa4\\x13\\xd3=\\xcb\\xfa\\xf7f\\xd1\\xbd(\\xde\\xaa\\xa8\\xd7]\\x94\\xdb\\x1eS4\\x07\\xaa\\xb2d\\xf6p\\xb7\\xe9\\xc0\\x10\\x0fy\\\\x\\xf2\\xf0\\xf6\\xfar\\xfb\\x04F\\x14y\\xc4\\x98\\x99<|\\x92\\xc06\\\\^8\\x115\\xed\\x96\\xc5\\xc3\\xacZ\\x9e\\xad\\x95a\\xa6\\x84\\xb2\\xc9\\x85\\xb8%\\xfb\\\\\\x13j\\xb3u\\xb2R*\\xe1(3\\x91\\xa6h\\xef\\xbb\\xee\\xd1&\\\\\\x18\\xcc\\x90WV\\x0f\\x0f`V^>V\\xda\\x9d}p\\xb2\\x04\\xa7\\xa1o\\xd5\\xa6P5{5\\xd7W?\\xea\\xc6Y\\r\\xce\\x9e\\x88o\\xea\\x1d\\xb5!gl\\xc2\\xf8\\x1f\\xb8\\x8b\\xab\\x9c\\xd0\\xbe\\xe0\\xd0&\\xfe\\xfe\\xd3+N\\xf47\\xb4ml\\xf8\\x02\\x00\\x00\\xff\\xff\\x03\\x00PK\\x03\\x04\\x14\\x00\\x06\\x00\\x08\\x00\\x00\\x00!\\x00:\\xbd\\xaa:E\\x01\\x00\\x00i\\x02\\x00\\x00\\x11\\x00\\x08\\x01docProps/core.xml \\xa2\\x04\\x01(\\xa0\\x00\\x01\\x00\\x00\\x00\\x00\\x00\\x00\\x00\\x00\\x00\\x00\\x00\\x00\\x00\\x00\\x00\\x00\\x00\\x00\\x00\\x00\\x00\\x00\\x00\\x00\\x00\\x00\\x00\\x00\\x00\\x00\\x00\\x00\\x00\\x00\\x00\\x00\\x00\\x00\\x00\\x00\\x00\\x00\\x00\\x00\\x00\\x00\\x00\\x00\\x00\\x00\\x00\\x00\\x00\\x00\\x00\\x00\\x00\\x00\\x00\\x00\\x00\\x00\\x00\\x00\\x00\\x00\\x00\\x00\\x00\\x00\\x00\\x00\\x00\\x00\\x00\\x00\\x00\\x00\\x00\\x00\\x00\\x00\\x00\\x00\\x00\\x00\\x00\\x00\\x00\\x00\\x00\\x00\\x00\\x00\\x00\\x00\\x00\\x00\\x00\\x00\\x00\\x00\\x00\\x00\\x00\\x00\\x00\\x00\\x00\\x00\\x00\\x00\\x00\\x00\\x00\\x00\\x00\\x00\\x00\\x00\\x00\\x00\\x00\\x00\\x00\\x00\\x00\\x00\\x00\\x00\\x00\\x00\\x00\\x00\\x00\\x00\\x00\\x00\\x00\\x00\\x00\\x00\\x00\\x00\\x00\\x00\\x00\\x00\\x00\\x00\\x00\\x00\\x00\\x00\\x00\\x00\\x00\\x00\\x00\\x00\\x00\\x00\\x00\\x00\\x00\\x00\\x00\\x00\\x00\\x00\\x00\\x00\\x00\\x00\\x00\\x00\\x00\\x00\\x00\\x00\\x00\\x00\\x00\\x00\\x00\\x00\\x00\\x00\\x00\\x00\\x00\\x00\\x00\\x00\\x00\\x00\\x00\\x00\\x00\\x00\\x00\\x00\\x00\\x00\\x00\\x00\\x00\\x00\\x00\\x00\\x00\\x00\\x00\\x00\\x00\\x00\\x00\\x00\\x00\\x00\\x00\\x00\\x00\\x00\\x00\\x00\\x00\\x00\\x00\\x00\\x00\\x00\\x00\\x00\\x00\\x00\\x00\\x00\\x00\\x00\\x00\\x00\\x00\\x00\\x00\\x00\\x00\\x00\\x00\\x00\\x00\\x00\\x00\\x00\\x00\\x00\\x8c\\x92\\xcbN\\xc30\\x14D\\xf7H\\xfcC\\xe4}\\xe2$-/+I\\xa5\\x82*\\x16TB\\xa2\\x08\\xc4\\xce\\xb2o[\\x8b\\xf8!\\xdb\\x90\\xe6\\xefq\\xd26\\x04\\xca\\x82\\xa5=s\\x8fg\\xae\\\\\\xccv\\xb2\\x8e>\\xc1:\\xa1U\\x89\\xb2$E\\x11(\\xa6\\xb9P\\x9b\\x12=\\xaf\\x16\\xf15\\x8a\\x9c\\xa7\\x8a\\xd3Z+(Q\\x0b\\x0e\\xcd\\xaa\\xf3\\xb3\\x82\\x19\\xc2\\xb4\\x85G\\xab\\rX/\\xc0E\\x81\\xa4\\x1ca\\xa6D[\\xef\\r\\xc1\\xd8\\xb1-H\\xea\\x92\\xe0PA\\\\k+\\xa9\\x0fG\\xbb\\xc1\\x86\\xb2w\\xba\\x01\\x9c\\xa7\\xe9%\\x96\\xe0)\\xa7\\x9e\\xe2\\x0e\\x18\\x9b\\x81\\x88\\x0eH\\xce\\x06\\xa4\\xf9\\xb0u\\x0f\\xe0\\x0cC\\r\\x12\\x94w8K2\\xfc\\xed\\xf5`\\xa5\\xfbs\\xa0WFN)|kB\\xa7C\\xdc1\\x9b\\xb3\\xbd8\\xb8wN\\x0c\\xc6\\xa6i\\x92f\\xd2\\xc7\\x08\\xf93\\xfc\\xba|x\\xea\\xab\\xc6Bu\\xbbb\\x80\\xaa\\x823\\xc2,P\\xafmu\\xaf\\x9d\\x8b\\xe6P\\xb7\\x94\\x8b\\x02\\x8f\\x84n\\x895u~\\x19\\xf6\\xbd\\x16\\xc0\\xe7\\xed/\\xef\\xa9\\x1e\\xb8}\\x8d=\\x1cx\\x14\\x82\\x91}\\x8d\\xa3\\xf22\\xb9\\xbd[-P\\x95\\xa7y\\x1a\\xa7y\\x9cOWiN\\xb2+rq\\xf3\\xd6=\\xffc\\xbe\\x0b\\xba\\xbf\\x90\\x87\\x10\\xff&N3\\x92f#\\xe2\\x11P\\x15\\xf8\\xe4sT_\\x00\\x00\\x00\\xff\\xff\\x03\\x00PK\\x03\\x04\\x14\\x00\\x06\\x00\\x08\\x00\\x00\\x00!\\x00aI\\t\\x10\\x89\\x01\\x00\\x00\\x11\\x03\\x00\\x00\\x10\\x00\\x08\\x01docProps/app.xml \\xa2\\x04\\x01(\\xa0\\x00\\x01\\x00\\x00\\x00\\x00\\x00\\x00\\x00\\x00\\x00\\x00\\x00\\x00\\x00\\x00\\x00\\x00\\x00\\x00\\x00\\x00\\x00\\x00\\x00\\x00\\x00\\x00\\x00\\x00\\x00\\x00\\x00\\x00\\x00\\x00\\x00\\x00\\x00\\x00\\x00\\x00\\x00\\x00\\x00\\x00\\x00\\x00\\x00\\x00\\x00\\x00\\x00\\x00\\x00\\x00\\x00\\x00\\x00\\x00\\x00\\x00\\x00\\x00\\x00\\x00\\x00\\x00\\x00\\x00\\x00\\x00\\x00\\x00\\x00\\x00\\x00\\x00\\x00\\x00\\x00\\x00\\x00\\x00\\x00\\x00\\x00\\x00\\x00\\x00\\x00\\x00\\x00\\x00\\x00\\x00\\x00\\x00\\x00\\x00\\x00\\x00\\x00\\x00\\x00\\x00\\x00\\x00\\x00\\x00\\x00\\x00\\x00\\x00\\x00\\x00\\x00\\x00\\x00\\x00\\x00\\x00\\x00\\x00\\x00\\x00\\x00\\x00\\x00\\x00\\x00\\x00\\x00\\x00\\x00\\x00\\x00\\x00\\x00\\x00\\x00\\x00\\x00\\x00\\x00\\x00\\x00\\x00\\x00\\x00\\x00\\x00\\x00\\x00\\x00\\x00\\x00\\x00\\x00\\x00\\x00\\x00\\x00\\x00\\x00\\x00\\x00\\x00\\x00\\x00\\x00\\x00\\x00\\x00\\x00\\x00\\x00\\x00\\x00\\x00\\x00\\x00\\x00\\x00\\x00\\x00\\x00\\x00\\x00\\x00\\x00\\x00\\x00\\x00\\x00\\x00\\x00\\x00\\x00\\x00\\x00\\x00\\x00\\x00\\x00\\x00\\x00\\x00\\x00\\x00\\x00\\x00\\x00\\x00\\x00\\x00\\x00\\x00\\x00\\x00\\x00\\x00\\x00\\x00\\x00\\x00\\x00\\x00\\x00\\x00\\x00\\x00\\x00\\x00\\x00\\x00\\x00\\x00\\x00\\x00\\x00\\x00\\x00\\x00\\x00\\x00\\x00\\x00\\x00\\x00\\x00\\x00\\x00\\x00\\x00\\x00\\x00\\x00\\x9c\\x92Ao\\xdb0\\x0c\\x85\\xef\\x03\\xfa\\x1f\\x0c\\xdd\\x1b9\\xddP\\x0c\\x81\\xacbHW\\xf4\\xb0a\\x01\\x92\\xb6gM\\xa6c\\xa1\\xb2$\\x88\\xac\\x91\\xec\\xd7\\x8f\\xb6\\xd1\\xd4\\xd9z\\xea\\x8d\\xe4{x\\xfaDI\\xdd\\x1c:_\\xf4\\x90\\xd1\\xc5P\\x89\\xe5\\xa2\\x14\\x05\\x04\\x1bk\\x17\\xf6\\x95x\\xd8\\xdd]~\\x15\\x05\\x92\\t\\xb5\\xf11@%\\x8e\\x80\\xe2F_|R\\x9b\\x1c\\x13dr\\x80\\x05G\\x04\\xacDK\\x94VR\\xa2m\\xa13\\xb8`9\\xb0\\xd2\\xc4\\xdc\\x19\\xe26\\xefel\\x1ag\\xe16\\xda\\x97\\x0e\\x02\\xc9\\xab\\xb2\\xbc\\x96p \\x085\\xd4\\x97\\xe9\\x14(\\xa6\\xc4UO\\x1f\\r\\xad\\xa3\\x1d\\xf8\\xf0qwL\\x0c\\xac\\xd5\\xb7\\x94\\xbc\\xb3\\x86\\xf8\\x96\\xfa\\xa7\\xb39bl\\xa8\\xf8~\\xb0\\xe0\\x95\\x9c\\x8b\\x8a\\xe9\\xb6`_\\xb2\\xa3\\xa3.\\x95\\x9c\\xb7jk\\x8d\\x875\\x07\\xeb\\xc6x\\x04%\\xdf\\x06\\xea\\x1e\\xcc\\xb0\\xb4\\x8dq\\x19\\xb5\\xeai\\xd5\\x83\\xa5\\x98\\x0bt\\x7fxmW\\xa2\\xf8m\\x10\\x06\\x9cJ\\xf4&;\\x13\\x88\\xb1\\x06\\xdb\\xd4\\x8c\\xb5OHY?\\xc5\\xfc\\x8c-\\x00\\xa1\\x92l\\x98\\x86c9\\xf7\\xcek\\xf7E/G\\x03\\x17\\xe7\\xc6!`\\x02a\\xe1\\x1cq\\xe7\\xc8\\x03\\xfej6&\\xd3;\\xc4\\xcb9\\xf1\\xc80\\xf1N8\\xdb\\x81o:s\\xce7^\\x99O\\xfa\\'{\\x1d\\xbbd\\xc2\\x91\\x85S\\xf5\\xc3\\x85g|H\\xbbxk\\x08^\\xd7y>T\\xdb\\xd6d\\xa8\\xf9\\x05N\\xeb>\\r\\xd4=o2\\xfb!d\\xdd\\x9a\\xb0\\x87\\xfa\\xd5\\xf3\\xbf0<\\xfe\\xe3\\xf4\\xc3\\xf5\\xf2zQ~.\\xf9]g3%\\xdf\\xfe\\xb2\\xfe\\x0b\\x00\\x00\\xff\\xff\\x03\\x00PK\\x01\\x02-\\x00\\x14\\x00\\x06\\x00\\x08\\x00\\x00\\x00!\\x00b\\xee\\x9dh^\\x01\\x00\\x00\\x90\\x04\\x00\\x00\\x13\\x00\\x00\\x00\\x00\\x00\\x00\\x00\\x00\\x00\\x00\\x00\\x00\\x00\\x00\\x00\\x00\\x00[Content_Types].xmlPK\\x01\\x02-\\x00\\x14\\x00\\x06\\x00\\x08\\x00\\x00\\x00!\\x00\\xb5U0#\\xf4\\x00\\x00\\x00L\\x02\\x00\\x00\\x0b\\x00\\x00\\x00\\x00\\x00\\x00\\x00\\x00\\x00\\x00\\x00\\x00\\x00\\x97\\x03\\x00\\x00_rels/.relsPK\\x01\\x02-\\x00\\x14\\x00\\x06\\x00\\x08\\x00\\x00\\x00!\\x00Q\\xdbu4\\x98\\x03\\x00\\x00\\x7f\\x08\\x00\\x00\\x0f\\x00\\x00\\x00\\x00\\x00\\x00\\x00\\x00\\x00\\x00\\x00\\x00\\x00\\xbc\\x06\\x00\\x00xl/workbook.xmlPK\\x01\\x02-\\x00\\x14\\x00\\x06\\x00\\x08\\x00\\x00\\x00!\\x00\\x81>\\x94\\x97\\xf3\\x00\\x00\\x00\\xba\\x02\\x00\\x00\\x1a\\x00\\x00\\x00\\x00\\x00\\x00\\x00\\x00\\x00\\x00\\x00\\x00\\x00\\x81\\n\\x00\\x00xl/_rels/workbook.xml.relsPK\\x01\\x02-\\x00\\x14\\x00\\x06\\x00\\x08\\x00\\x00\\x00!\\x00\\xd9\\x03\\xe0\\x1b\\x17\\x11\\x00\\x00Iv\\x00\\x00\\x18\\x00\\x00\\x00\\x00\\x00\\x00\\x00\\x00\\x00\\x00\\x00\\x00\\x00\\xb4\\x0c\\x00\\x00xl/worksheets/sheet1.xmlPK\\x01\\x02-\\x00\\x14\\x00\\x06\\x00\\x08\\x00\\x00\\x00!\\x00\\xc1\\x17\\x10\\xbeN\\x07\\x00\\x00\\xc6 \\x00\\x00\\x13\\x00\\x00\\x00\\x00\\x00\\x00\\x00\\x00\\x00\\x00\\x00\\x00\\x00\\x01\\x1e\\x00\\x00xl/theme/theme1.xmlPK\\x01\\x02-\\x00\\x14\\x00\\x06\\x00\\x08\\x00\\x00\\x00!\\x00(x\\xabc\\xed\\x02\\x00\\x00\\xa6\\x07\\x00\\x00\\r\\x00\\x00\\x00\\x00\\x00\\x00\\x00\\x00\\x00\\x00\\x00\\x00\\x00\\x80%\\x00\\x00xl/styles.xmlPK\\x01\\x02-\\x00\\x14\\x00\\x06\\x00\\x08\\x00\\x00\\x00!\\x00\\x80\\x926\\xf3\\xca\\x00\\x00\\x00+\\x01\\x00\\x00\\x14\\x00\\x00\\x00\\x00\\x00\\x00\\x00\\x00\\x00\\x00\\x00\\x00\\x00\\x98(\\x00\\x00xl/sharedStrings.xmlPK\\x01\\x02-\\x00\\x14\\x00\\x06\\x00\\x08\\x00\\x00\\x00!\\x00:\\xbd\\xaa:E\\x01\\x00\\x00i\\x02\\x00\\x00\\x11\\x00\\x00\\x00\\x00\\x00\\x00\\x00\\x00\\x00\\x00\\x00\\x00\\x00\\x94)\\x00\\x00docProps/core.xmlPK\\x01\\x02-\\x00\\x14\\x00\\x06\\x00\\x08\\x00\\x00\\x00!\\x00aI\\t\\x10\\x89\\x01\\x00\\x00\\x11\\x03\\x00\\x00\\x10\\x00\\x00\\x00\\x00\\x00\\x00\\x00\\x00\\x00\\x00\\x00\\x00\\x00\\x10,\\x00\\x00docProps/app.xmlPK\\x05\\x06\\x00\\x00\\x00\\x00\\n\\x00\\n\\x00\\x80\\x02\\x00\\x00\\xcf.\\x00\\x00\\x00\\x00'}"
            ]
          },
          "metadata": {},
          "execution_count": 3
        }
      ]
    },
    {
      "cell_type": "code",
      "source": [
        "df=pd.read_excel('Chapter3_Completions_DataSet.xlsx')\n",
        "df.describe()"
      ],
      "metadata": {
        "colab": {
          "base_uri": "https://localhost:8080/",
          "height": 300
        },
        "id": "OVdl5q70uIcd",
        "outputId": "136b710e-28ab-4918-eae4-90ad1a041c02"
      },
      "execution_count": 4,
      "outputs": [
        {
          "output_type": "execute_result",
          "data": {
            "text/plain": [
              "       Stage Spacing  Cluster Spacing  Sand per ft (# per ft)  \\\n",
              "count     144.000000       144.000000              144.000000   \n",
              "mean      197.908333        39.713194             2949.275000   \n",
              "std        28.411963         5.702597             1414.559452   \n",
              "min       146.200000        26.000000              798.000000   \n",
              "25%       173.400000        36.400000             1197.000000   \n",
              "50%       193.800000        39.000000             3351.600000   \n",
              "75%       217.600000        42.900000             4069.800000   \n",
              "max       268.600000        57.200000             5506.200000   \n",
              "\n",
              "       Water per ft (gal per ft)  \n",
              "count                 144.000000  \n",
              "mean                   57.986111  \n",
              "std                    37.618435  \n",
              "min                     5.000000  \n",
              "25%                    15.000000  \n",
              "50%                    65.000000  \n",
              "75%                    90.000000  \n",
              "max                   125.000000  "
            ],
            "text/html": [
              "\n",
              "  <div id=\"df-a2ee289d-b35b-42fe-bda0-9297b833b11c\">\n",
              "    <div class=\"colab-df-container\">\n",
              "      <div>\n",
              "<style scoped>\n",
              "    .dataframe tbody tr th:only-of-type {\n",
              "        vertical-align: middle;\n",
              "    }\n",
              "\n",
              "    .dataframe tbody tr th {\n",
              "        vertical-align: top;\n",
              "    }\n",
              "\n",
              "    .dataframe thead th {\n",
              "        text-align: right;\n",
              "    }\n",
              "</style>\n",
              "<table border=\"1\" class=\"dataframe\">\n",
              "  <thead>\n",
              "    <tr style=\"text-align: right;\">\n",
              "      <th></th>\n",
              "      <th>Stage Spacing</th>\n",
              "      <th>Cluster Spacing</th>\n",
              "      <th>Sand per ft (# per ft)</th>\n",
              "      <th>Water per ft (gal per ft)</th>\n",
              "    </tr>\n",
              "  </thead>\n",
              "  <tbody>\n",
              "    <tr>\n",
              "      <th>count</th>\n",
              "      <td>144.000000</td>\n",
              "      <td>144.000000</td>\n",
              "      <td>144.000000</td>\n",
              "      <td>144.000000</td>\n",
              "    </tr>\n",
              "    <tr>\n",
              "      <th>mean</th>\n",
              "      <td>197.908333</td>\n",
              "      <td>39.713194</td>\n",
              "      <td>2949.275000</td>\n",
              "      <td>57.986111</td>\n",
              "    </tr>\n",
              "    <tr>\n",
              "      <th>std</th>\n",
              "      <td>28.411963</td>\n",
              "      <td>5.702597</td>\n",
              "      <td>1414.559452</td>\n",
              "      <td>37.618435</td>\n",
              "    </tr>\n",
              "    <tr>\n",
              "      <th>min</th>\n",
              "      <td>146.200000</td>\n",
              "      <td>26.000000</td>\n",
              "      <td>798.000000</td>\n",
              "      <td>5.000000</td>\n",
              "    </tr>\n",
              "    <tr>\n",
              "      <th>25%</th>\n",
              "      <td>173.400000</td>\n",
              "      <td>36.400000</td>\n",
              "      <td>1197.000000</td>\n",
              "      <td>15.000000</td>\n",
              "    </tr>\n",
              "    <tr>\n",
              "      <th>50%</th>\n",
              "      <td>193.800000</td>\n",
              "      <td>39.000000</td>\n",
              "      <td>3351.600000</td>\n",
              "      <td>65.000000</td>\n",
              "    </tr>\n",
              "    <tr>\n",
              "      <th>75%</th>\n",
              "      <td>217.600000</td>\n",
              "      <td>42.900000</td>\n",
              "      <td>4069.800000</td>\n",
              "      <td>90.000000</td>\n",
              "    </tr>\n",
              "    <tr>\n",
              "      <th>max</th>\n",
              "      <td>268.600000</td>\n",
              "      <td>57.200000</td>\n",
              "      <td>5506.200000</td>\n",
              "      <td>125.000000</td>\n",
              "    </tr>\n",
              "  </tbody>\n",
              "</table>\n",
              "</div>\n",
              "      <button class=\"colab-df-convert\" onclick=\"convertToInteractive('df-a2ee289d-b35b-42fe-bda0-9297b833b11c')\"\n",
              "              title=\"Convert this dataframe to an interactive table.\"\n",
              "              style=\"display:none;\">\n",
              "        \n",
              "  <svg xmlns=\"http://www.w3.org/2000/svg\" height=\"24px\"viewBox=\"0 0 24 24\"\n",
              "       width=\"24px\">\n",
              "    <path d=\"M0 0h24v24H0V0z\" fill=\"none\"/>\n",
              "    <path d=\"M18.56 5.44l.94 2.06.94-2.06 2.06-.94-2.06-.94-.94-2.06-.94 2.06-2.06.94zm-11 1L8.5 8.5l.94-2.06 2.06-.94-2.06-.94L8.5 2.5l-.94 2.06-2.06.94zm10 10l.94 2.06.94-2.06 2.06-.94-2.06-.94-.94-2.06-.94 2.06-2.06.94z\"/><path d=\"M17.41 7.96l-1.37-1.37c-.4-.4-.92-.59-1.43-.59-.52 0-1.04.2-1.43.59L10.3 9.45l-7.72 7.72c-.78.78-.78 2.05 0 2.83L4 21.41c.39.39.9.59 1.41.59.51 0 1.02-.2 1.41-.59l7.78-7.78 2.81-2.81c.8-.78.8-2.07 0-2.86zM5.41 20L4 18.59l7.72-7.72 1.47 1.35L5.41 20z\"/>\n",
              "  </svg>\n",
              "      </button>\n",
              "      \n",
              "  <style>\n",
              "    .colab-df-container {\n",
              "      display:flex;\n",
              "      flex-wrap:wrap;\n",
              "      gap: 12px;\n",
              "    }\n",
              "\n",
              "    .colab-df-convert {\n",
              "      background-color: #E8F0FE;\n",
              "      border: none;\n",
              "      border-radius: 50%;\n",
              "      cursor: pointer;\n",
              "      display: none;\n",
              "      fill: #1967D2;\n",
              "      height: 32px;\n",
              "      padding: 0 0 0 0;\n",
              "      width: 32px;\n",
              "    }\n",
              "\n",
              "    .colab-df-convert:hover {\n",
              "      background-color: #E2EBFA;\n",
              "      box-shadow: 0px 1px 2px rgba(60, 64, 67, 0.3), 0px 1px 3px 1px rgba(60, 64, 67, 0.15);\n",
              "      fill: #174EA6;\n",
              "    }\n",
              "\n",
              "    [theme=dark] .colab-df-convert {\n",
              "      background-color: #3B4455;\n",
              "      fill: #D2E3FC;\n",
              "    }\n",
              "\n",
              "    [theme=dark] .colab-df-convert:hover {\n",
              "      background-color: #434B5C;\n",
              "      box-shadow: 0px 1px 3px 1px rgba(0, 0, 0, 0.15);\n",
              "      filter: drop-shadow(0px 1px 2px rgba(0, 0, 0, 0.3));\n",
              "      fill: #FFFFFF;\n",
              "    }\n",
              "  </style>\n",
              "\n",
              "      <script>\n",
              "        const buttonEl =\n",
              "          document.querySelector('#df-a2ee289d-b35b-42fe-bda0-9297b833b11c button.colab-df-convert');\n",
              "        buttonEl.style.display =\n",
              "          google.colab.kernel.accessAllowed ? 'block' : 'none';\n",
              "\n",
              "        async function convertToInteractive(key) {\n",
              "          const element = document.querySelector('#df-a2ee289d-b35b-42fe-bda0-9297b833b11c');\n",
              "          const dataTable =\n",
              "            await google.colab.kernel.invokeFunction('convertToInteractive',\n",
              "                                                     [key], {});\n",
              "          if (!dataTable) return;\n",
              "\n",
              "          const docLinkHtml = 'Like what you see? Visit the ' +\n",
              "            '<a target=\"_blank\" href=https://colab.research.google.com/notebooks/data_table.ipynb>data table notebook</a>'\n",
              "            + ' to learn more about interactive tables.';\n",
              "          element.innerHTML = '';\n",
              "          dataTable['output_type'] = 'display_data';\n",
              "          await google.colab.output.renderOutput(dataTable, element);\n",
              "          const docLink = document.createElement('div');\n",
              "          docLink.innerHTML = docLinkHtml;\n",
              "          element.appendChild(docLink);\n",
              "        }\n",
              "      </script>\n",
              "    </div>\n",
              "  </div>\n",
              "  "
            ]
          },
          "metadata": {},
          "execution_count": 4
        }
      ]
    },
    {
      "cell_type": "code",
      "source": [
        "df.columns"
      ],
      "metadata": {
        "colab": {
          "base_uri": "https://localhost:8080/"
        },
        "id": "zDJozbmUzkir",
        "outputId": "2eac2c10-3d41-46a5-d899-295cdd003ea3"
      },
      "execution_count": 16,
      "outputs": [
        {
          "output_type": "execute_result",
          "data": {
            "text/plain": [
              "Index(['Stage Spacing', 'Cluster Spacing', 'Sand per ft (# per ft)',\n",
              "       'Water per ft (gal per ft)'],\n",
              "      dtype='object')"
            ]
          },
          "metadata": {},
          "execution_count": 16
        }
      ]
    },
    {
      "cell_type": "code",
      "source": [
        "from sklearn.preprocessing import StandardScaler\n",
        "# we can use maxmin instead of standared scaler \n"
      ],
      "metadata": {
        "id": "bKgPFaTpuXWA"
      },
      "execution_count": 6,
      "outputs": []
    },
    {
      "cell_type": "code",
      "source": [
        "scaler=StandardScaler()  #standardize the data \n",
        "\n",
        "scaler.fit(df)\n",
        "scaled_features=scaler.transform(df) #here the data are transferred to array\n",
        "#based on std=1 and mean=0\n",
        "scaled_data=pd.DataFrame(scaled_features,columns=[df.columns])\n",
        "scaled_data"
      ],
      "metadata": {
        "colab": {
          "base_uri": "https://localhost:8080/",
          "height": 423
        },
        "id": "ftHMzdmvwdrq",
        "outputId": "3bfc81ce-eca2-4715-fb12-a5e4e195abb0"
      },
      "execution_count": 21,
      "outputs": [
        {
          "output_type": "execute_result",
          "data": {
            "text/plain": [
              "    Stage Spacing Cluster Spacing Sand per ft (# per ft)  \\\n",
              "0       -0.865617        1.018309              -1.299677   \n",
              "1       -1.105788       -0.125501              -1.299677   \n",
              "2       -1.345959        0.332023              -1.356287   \n",
              "3       -1.466045        0.103261              -1.243066   \n",
              "4       -0.985703        1.247071              -1.299677   \n",
              "..            ...             ...                    ...   \n",
              "139      1.295924        0.103261               0.964733   \n",
              "140      1.055752        0.103261               1.077953   \n",
              "141      1.295924        0.103261               0.794902   \n",
              "142     -0.025018       -0.811787               0.794902   \n",
              "143      1.175838        0.332023               1.247784   \n",
              "\n",
              "    Water per ft (gal per ft)  \n",
              "0                   -1.280053  \n",
              "1                   -1.280053  \n",
              "2                   -1.280053  \n",
              "3                   -1.280053  \n",
              "4                   -1.280053  \n",
              "..                        ...  \n",
              "139                  1.254119  \n",
              "140                  1.654251  \n",
              "141                  1.520874  \n",
              "142                  0.987364  \n",
              "143                  1.520874  \n",
              "\n",
              "[144 rows x 4 columns]"
            ],
            "text/html": [
              "\n",
              "  <div id=\"df-0336415f-775e-4da2-a7c3-81d47cd8285d\">\n",
              "    <div class=\"colab-df-container\">\n",
              "      <div>\n",
              "<style scoped>\n",
              "    .dataframe tbody tr th:only-of-type {\n",
              "        vertical-align: middle;\n",
              "    }\n",
              "\n",
              "    .dataframe tbody tr th {\n",
              "        vertical-align: top;\n",
              "    }\n",
              "\n",
              "    .dataframe thead tr th {\n",
              "        text-align: left;\n",
              "    }\n",
              "</style>\n",
              "<table border=\"1\" class=\"dataframe\">\n",
              "  <thead>\n",
              "    <tr>\n",
              "      <th></th>\n",
              "      <th>Stage Spacing</th>\n",
              "      <th>Cluster Spacing</th>\n",
              "      <th>Sand per ft (# per ft)</th>\n",
              "      <th>Water per ft (gal per ft)</th>\n",
              "    </tr>\n",
              "  </thead>\n",
              "  <tbody>\n",
              "    <tr>\n",
              "      <th>0</th>\n",
              "      <td>-0.865617</td>\n",
              "      <td>1.018309</td>\n",
              "      <td>-1.299677</td>\n",
              "      <td>-1.280053</td>\n",
              "    </tr>\n",
              "    <tr>\n",
              "      <th>1</th>\n",
              "      <td>-1.105788</td>\n",
              "      <td>-0.125501</td>\n",
              "      <td>-1.299677</td>\n",
              "      <td>-1.280053</td>\n",
              "    </tr>\n",
              "    <tr>\n",
              "      <th>2</th>\n",
              "      <td>-1.345959</td>\n",
              "      <td>0.332023</td>\n",
              "      <td>-1.356287</td>\n",
              "      <td>-1.280053</td>\n",
              "    </tr>\n",
              "    <tr>\n",
              "      <th>3</th>\n",
              "      <td>-1.466045</td>\n",
              "      <td>0.103261</td>\n",
              "      <td>-1.243066</td>\n",
              "      <td>-1.280053</td>\n",
              "    </tr>\n",
              "    <tr>\n",
              "      <th>4</th>\n",
              "      <td>-0.985703</td>\n",
              "      <td>1.247071</td>\n",
              "      <td>-1.299677</td>\n",
              "      <td>-1.280053</td>\n",
              "    </tr>\n",
              "    <tr>\n",
              "      <th>...</th>\n",
              "      <td>...</td>\n",
              "      <td>...</td>\n",
              "      <td>...</td>\n",
              "      <td>...</td>\n",
              "    </tr>\n",
              "    <tr>\n",
              "      <th>139</th>\n",
              "      <td>1.295924</td>\n",
              "      <td>0.103261</td>\n",
              "      <td>0.964733</td>\n",
              "      <td>1.254119</td>\n",
              "    </tr>\n",
              "    <tr>\n",
              "      <th>140</th>\n",
              "      <td>1.055752</td>\n",
              "      <td>0.103261</td>\n",
              "      <td>1.077953</td>\n",
              "      <td>1.654251</td>\n",
              "    </tr>\n",
              "    <tr>\n",
              "      <th>141</th>\n",
              "      <td>1.295924</td>\n",
              "      <td>0.103261</td>\n",
              "      <td>0.794902</td>\n",
              "      <td>1.520874</td>\n",
              "    </tr>\n",
              "    <tr>\n",
              "      <th>142</th>\n",
              "      <td>-0.025018</td>\n",
              "      <td>-0.811787</td>\n",
              "      <td>0.794902</td>\n",
              "      <td>0.987364</td>\n",
              "    </tr>\n",
              "    <tr>\n",
              "      <th>143</th>\n",
              "      <td>1.175838</td>\n",
              "      <td>0.332023</td>\n",
              "      <td>1.247784</td>\n",
              "      <td>1.520874</td>\n",
              "    </tr>\n",
              "  </tbody>\n",
              "</table>\n",
              "<p>144 rows × 4 columns</p>\n",
              "</div>\n",
              "      <button class=\"colab-df-convert\" onclick=\"convertToInteractive('df-0336415f-775e-4da2-a7c3-81d47cd8285d')\"\n",
              "              title=\"Convert this dataframe to an interactive table.\"\n",
              "              style=\"display:none;\">\n",
              "        \n",
              "  <svg xmlns=\"http://www.w3.org/2000/svg\" height=\"24px\"viewBox=\"0 0 24 24\"\n",
              "       width=\"24px\">\n",
              "    <path d=\"M0 0h24v24H0V0z\" fill=\"none\"/>\n",
              "    <path d=\"M18.56 5.44l.94 2.06.94-2.06 2.06-.94-2.06-.94-.94-2.06-.94 2.06-2.06.94zm-11 1L8.5 8.5l.94-2.06 2.06-.94-2.06-.94L8.5 2.5l-.94 2.06-2.06.94zm10 10l.94 2.06.94-2.06 2.06-.94-2.06-.94-.94-2.06-.94 2.06-2.06.94z\"/><path d=\"M17.41 7.96l-1.37-1.37c-.4-.4-.92-.59-1.43-.59-.52 0-1.04.2-1.43.59L10.3 9.45l-7.72 7.72c-.78.78-.78 2.05 0 2.83L4 21.41c.39.39.9.59 1.41.59.51 0 1.02-.2 1.41-.59l7.78-7.78 2.81-2.81c.8-.78.8-2.07 0-2.86zM5.41 20L4 18.59l7.72-7.72 1.47 1.35L5.41 20z\"/>\n",
              "  </svg>\n",
              "      </button>\n",
              "      \n",
              "  <style>\n",
              "    .colab-df-container {\n",
              "      display:flex;\n",
              "      flex-wrap:wrap;\n",
              "      gap: 12px;\n",
              "    }\n",
              "\n",
              "    .colab-df-convert {\n",
              "      background-color: #E8F0FE;\n",
              "      border: none;\n",
              "      border-radius: 50%;\n",
              "      cursor: pointer;\n",
              "      display: none;\n",
              "      fill: #1967D2;\n",
              "      height: 32px;\n",
              "      padding: 0 0 0 0;\n",
              "      width: 32px;\n",
              "    }\n",
              "\n",
              "    .colab-df-convert:hover {\n",
              "      background-color: #E2EBFA;\n",
              "      box-shadow: 0px 1px 2px rgba(60, 64, 67, 0.3), 0px 1px 3px 1px rgba(60, 64, 67, 0.15);\n",
              "      fill: #174EA6;\n",
              "    }\n",
              "\n",
              "    [theme=dark] .colab-df-convert {\n",
              "      background-color: #3B4455;\n",
              "      fill: #D2E3FC;\n",
              "    }\n",
              "\n",
              "    [theme=dark] .colab-df-convert:hover {\n",
              "      background-color: #434B5C;\n",
              "      box-shadow: 0px 1px 3px 1px rgba(0, 0, 0, 0.15);\n",
              "      filter: drop-shadow(0px 1px 2px rgba(0, 0, 0, 0.3));\n",
              "      fill: #FFFFFF;\n",
              "    }\n",
              "  </style>\n",
              "\n",
              "      <script>\n",
              "        const buttonEl =\n",
              "          document.querySelector('#df-0336415f-775e-4da2-a7c3-81d47cd8285d button.colab-df-convert');\n",
              "        buttonEl.style.display =\n",
              "          google.colab.kernel.accessAllowed ? 'block' : 'none';\n",
              "\n",
              "        async function convertToInteractive(key) {\n",
              "          const element = document.querySelector('#df-0336415f-775e-4da2-a7c3-81d47cd8285d');\n",
              "          const dataTable =\n",
              "            await google.colab.kernel.invokeFunction('convertToInteractive',\n",
              "                                                     [key], {});\n",
              "          if (!dataTable) return;\n",
              "\n",
              "          const docLinkHtml = 'Like what you see? Visit the ' +\n",
              "            '<a target=\"_blank\" href=https://colab.research.google.com/notebooks/data_table.ipynb>data table notebook</a>'\n",
              "            + ' to learn more about interactive tables.';\n",
              "          element.innerHTML = '';\n",
              "          dataTable['output_type'] = 'display_data';\n",
              "          await google.colab.output.renderOutput(dataTable, element);\n",
              "          const docLink = document.createElement('div');\n",
              "          docLink.innerHTML = docLinkHtml;\n",
              "          element.appendChild(docLink);\n",
              "        }\n",
              "      </script>\n",
              "    </div>\n",
              "  </div>\n",
              "  "
            ]
          },
          "metadata": {},
          "execution_count": 21
        }
      ]
    },
    {
      "cell_type": "code",
      "source": [
        "#now to perform PCA we import PCA from  decomposition\n",
        "from sklearn.decomposition import PCA\n",
        "#here we apply n principal components to the scaled features\n",
        "PCA=PCA(n_components=2)\n",
        "PCA.fit(scaled_data)\n",
        "PCA_transform=PCA.transform(scaled_data)\n",
        "PCA_transform"
      ],
      "metadata": {
        "colab": {
          "base_uri": "https://localhost:8080/"
        },
        "id": "E3v-7tUAy0vN",
        "outputId": "ca07fd0f-56cc-4e0f-cb1c-32bdb650017e"
      },
      "execution_count": 27,
      "outputs": [
        {
          "output_type": "stream",
          "name": "stderr",
          "text": [
            "/usr/local/lib/python3.7/dist-packages/sklearn/utils/validation.py:1692: FutureWarning: Feature names only support names that are all strings. Got feature names with dtypes: ['tuple']. An error will be raised in 1.2.\n",
            "  FutureWarning,\n",
            "/usr/local/lib/python3.7/dist-packages/sklearn/utils/validation.py:1692: FutureWarning: Feature names only support names that are all strings. Got feature names with dtypes: ['tuple']. An error will be raised in 1.2.\n",
            "  FutureWarning,\n"
          ]
        },
        {
          "output_type": "execute_result",
          "data": {
            "text/plain": [
              "array([[-2.20401503,  0.49230415],\n",
              "       [-2.01847823, -0.65257072],\n",
              "       [-2.3001967 , -0.3263588 ],\n",
              "       [-2.23481144, -0.5804819 ],\n",
              "       [-2.32844843,  0.65610591],\n",
              "       [-2.01570154,  1.4935046 ],\n",
              "       [-2.37840516,  0.05716489],\n",
              "       [-2.17148144,  0.23678942],\n",
              "       [-2.26829929, -1.09568622],\n",
              "       [-2.12311515, -0.44880128],\n",
              "       [-2.10815144,  1.05406075],\n",
              "       [-2.26338126,  0.14507647],\n",
              "       [-2.15628491, -0.70709925],\n",
              "       [-2.56671864, -0.94403556],\n",
              "       [-2.14337646,  1.8671572 ],\n",
              "       [-2.20456595,  2.68214851],\n",
              "       [-2.14710823,  1.48793811],\n",
              "       [-2.12858409,  0.50028039],\n",
              "       [-1.84194759,  1.41483116],\n",
              "       [-2.2819054 ,  1.13273419],\n",
              "       [-1.85627512,  0.42578182],\n",
              "       [-2.1444168 ,  0.93035638],\n",
              "       [-2.7093581 ,  0.46433027],\n",
              "       [-1.75505189,  0.09969964],\n",
              "       [-2.16482624,  0.14925134],\n",
              "       [-1.89039914, -0.60323518],\n",
              "       [-1.9877679 ,  0.25413354],\n",
              "       [-2.10878761,  0.54024806],\n",
              "       [-2.07958163,  0.32850238],\n",
              "       [-2.20164169, -0.32218393],\n",
              "       [-2.07720828, -0.4859857 ],\n",
              "       [-1.77111659,  0.43895107],\n",
              "       [-2.5565645 ,  1.79439615],\n",
              "       [-2.38891566,  2.1509917 ],\n",
              "       [-2.12311515, -0.44880128],\n",
              "       [-2.14592114, -0.18809356],\n",
              "       [-1.98736373,  0.67712168],\n",
              "       [-2.12311515, -0.44880128],\n",
              "       [-2.36320862, -0.88672378],\n",
              "       [-2.1091057 ,  0.28334171],\n",
              "       [-2.22381151,  0.45233648],\n",
              "       [-1.79099833, -2.30467365],\n",
              "       [-2.48732394, -0.46601567],\n",
              "       [-1.89896368,  0.48044009],\n",
              "       [-2.07506777,  1.14627693],\n",
              "       [-2.00542303, -0.69114676],\n",
              "       [-2.32448466,  1.12614956],\n",
              "       [-2.32972078, -0.37151947],\n",
              "       [-2.17052719,  1.00750846],\n",
              "       [-2.14227546,  0.02504374],\n",
              "       [ 1.15657351,  0.88737397],\n",
              "       [ 0.79204663,  0.61325324],\n",
              "       [ 1.2973897 ,  0.64122712],\n",
              "       [ 0.47406363, -1.72181448],\n",
              "       [ 1.13550468, -0.18021908],\n",
              "       [ 0.45278519, -0.5699815 ],\n",
              "       [ 0.80874751,  0.7878145 ],\n",
              "       [-0.41850301, -1.82444425],\n",
              "       [ 0.9849609 ,  0.06073478],\n",
              "       [ 0.08128503, -1.01347049],\n",
              "       [-0.04219329, -2.61652494],\n",
              "       [ 0.50572821, -0.04439118],\n",
              "       [ 0.6217072 , -1.72333583],\n",
              "       [ 0.78136479, -0.1626588 ],\n",
              "       [ 0.03268673, -0.41870434],\n",
              "       [ 0.93294892,  0.53318818],\n",
              "       [ 0.417156  , -0.17987318],\n",
              "       [ 0.21951909, -0.7632785 ],\n",
              "       [ 1.28787173, -1.58339191],\n",
              "       [ 0.22861051, -1.27189819],\n",
              "       [ 0.80501574,  0.40859541],\n",
              "       [ 0.5380298 , -0.39073046],\n",
              "       [ 1.29548119, -0.90021096],\n",
              "       [ 0.69256057, -0.38896535],\n",
              "       [ 0.76165439, -0.03654467],\n",
              "       [ 0.93263083,  0.27628183],\n",
              "       [ 1.31290433, -0.04575521],\n",
              "       [ 1.41840942,  0.3551126 ],\n",
              "       [ 0.72871663, -0.20401808],\n",
              "       [ 0.02209097, -1.02853458],\n",
              "       [ 0.19544075, -1.53019616],\n",
              "       [ 0.08715814, -1.53956403],\n",
              "       [ 0.30467762, -0.75010925],\n",
              "       [ 1.12537292, -0.60840021],\n",
              "       [ 0.29240451, -0.27297776],\n",
              "       [ 0.49385928,  0.85572845],\n",
              "       [ 1.10693487,  0.54533929],\n",
              "       [ 1.10447627, -1.34382968],\n",
              "       [ 0.13488744, -0.20139216],\n",
              "       [ 0.34994831, -1.30110636],\n",
              "       [ 0.34386641, -1.09316206],\n",
              "       [ 0.68645546,  0.04630364],\n",
              "       [ 0.39958695, -0.95907169],\n",
              "       [-0.29406961, -1.98824602],\n",
              "       [ 0.35391208, -0.83106271],\n",
              "       [ 0.15468392, -0.1614245 ],\n",
              "       [ 0.29217251, -0.36380231],\n",
              "       [ 0.6369029 , -0.12964925],\n",
              "       [-0.37893326, -1.51718424],\n",
              "       [ 0.3213785 , -0.57554799],\n",
              "       [ 1.91469768,  0.87769182],\n",
              "       [ 1.22691424, -0.67757605],\n",
              "       [ 2.26530119,  0.58575135],\n",
              "       [ 1.50350507, -0.02512463],\n",
              "       [ 1.93362599,  0.31302224],\n",
              "       [ 2.80714162,  0.82825415],\n",
              "       [ 0.44167595, -1.54155699],\n",
              "       [ 2.35722422,  0.45013962],\n",
              "       [ 2.06694203, -0.67754846],\n",
              "       [ 2.32275808,  1.92911621],\n",
              "       [ 1.42868709,  0.7080365 ],\n",
              "       [ 1.66687205, -0.39547907],\n",
              "       [ 1.94676727,  0.44052799],\n",
              "       [ 1.33123308, -1.13825183],\n",
              "       [ 1.54201126, -0.42734076],\n",
              "       [ 1.6583075 ,  0.6881962 ],\n",
              "       [ 1.53334723,  0.27694238],\n",
              "       [ 2.48133871,  2.56700676],\n",
              "       [ 3.36716489,  0.05351757],\n",
              "       [ 1.3273786 , -1.66953837],\n",
              "       [ 2.10159291,  0.92652413],\n",
              "       [ 1.04983269, -0.55513357],\n",
              "       [ 2.95105342,  0.4475137 ],\n",
              "       [ 1.39765868, -0.4555741 ],\n",
              "       [ 1.7639219 ,  1.02782112],\n",
              "       [ 2.01012048,  1.03047463],\n",
              "       [ 1.24037361, -0.29316396],\n",
              "       [ 1.08673422,  0.08238349],\n",
              "       [ 1.85423128, -0.16499766],\n",
              "       [ 1.91767058,  0.59103078],\n",
              "       [ 2.49138521,  0.29153085],\n",
              "       [ 2.3566733 ,  2.63998398],\n",
              "       [ 1.92966222, -0.15702141],\n",
              "       [ 1.17501156, -0.26636554],\n",
              "       [ 1.26320281, -0.78119636],\n",
              "       [ 2.85612087,  0.88380081],\n",
              "       [ 1.6458024 ,  1.07450314],\n",
              "       [ 1.40891383,  0.44074415],\n",
              "       [ 0.9915068 ,  0.03443958],\n",
              "       [ 1.91423368,  0.69604271],\n",
              "       [ 2.08147835,  0.62965012],\n",
              "       [ 1.96654054,  0.70782034],\n",
              "       [ 1.22691424, -0.67757605],\n",
              "       [ 2.10492052,  0.88275509]])"
            ]
          },
          "metadata": {},
          "execution_count": 27
        }
      ]
    },
    {
      "cell_type": "code",
      "source": [
        "#let us plot these components\n",
        "plt.figure(figsize=(10,6))\n",
        "plt.scatter(PCA_transform[:, 0], PCA_transform[:, 1])\n",
        "plt.xlabel('First Principal Component')\n",
        "plt.ylabel('Second Principal Component')"
      ],
      "metadata": {
        "colab": {
          "base_uri": "https://localhost:8080/",
          "height": 405
        },
        "id": "P9p27iAX1qIz",
        "outputId": "971a9163-a719-469d-e614-ca85c9f8ef38"
      },
      "execution_count": 32,
      "outputs": [
        {
          "output_type": "execute_result",
          "data": {
            "text/plain": [
              "Text(0, 0.5, 'Second Principal Component')"
            ]
          },
          "metadata": {},
          "execution_count": 32
        },
        {
          "output_type": "display_data",
          "data": {
            "text/plain": [
              "<Figure size 720x432 with 1 Axes>"
            ],
            "image/png": "[encoded data removed]"
          },
          "metadata": {
            "needs_background": "light"
          }
        }
      ]
    },
    {
      "cell_type": "code",
      "source": [
        "#to see the variables that have the highest impact on the components\n",
        "components=pd.DataFrame(PCA.components_, columns=[df.columns])\n",
        "#the scores will range between -1 & 1 \n",
        "components\n",
        "#principal component is shown as row"
      ],
      "metadata": {
        "colab": {
          "base_uri": "https://localhost:8080/",
          "height": 112
        },
        "id": "cEuoonEh5pgI",
        "outputId": "a7467780-7a90-41ec-e472-f4ef599f42bc"
      },
      "execution_count": 38,
      "outputs": [
        {
          "output_type": "execute_result",
          "data": {
            "text/plain": [
              "  Stage Spacing Cluster Spacing Sand per ft (# per ft)  \\\n",
              "0      0.519427       -0.271276               0.580313   \n",
              "1      0.387659        0.919532               0.024583   \n",
              "\n",
              "  Water per ft (gal per ft)  \n",
              "0                  0.565545  \n",
              "1                  0.059802  "
            ],
            "text/html": [
              "\n",
              "  <div id=\"df-9bc37ab3-e264-4cfd-a462-422a20fe5545\">\n",
              "    <div class=\"colab-df-container\">\n",
              "      <div>\n",
              "<style scoped>\n",
              "    .dataframe tbody tr th:only-of-type {\n",
              "        vertical-align: middle;\n",
              "    }\n",
              "\n",
              "    .dataframe tbody tr th {\n",
              "        vertical-align: top;\n",
              "    }\n",
              "\n",
              "    .dataframe thead tr th {\n",
              "        text-align: left;\n",
              "    }\n",
              "</style>\n",
              "<table border=\"1\" class=\"dataframe\">\n",
              "  <thead>\n",
              "    <tr>\n",
              "      <th></th>\n",
              "      <th>Stage Spacing</th>\n",
              "      <th>Cluster Spacing</th>\n",
              "      <th>Sand per ft (# per ft)</th>\n",
              "      <th>Water per ft (gal per ft)</th>\n",
              "    </tr>\n",
              "  </thead>\n",
              "  <tbody>\n",
              "    <tr>\n",
              "      <th>0</th>\n",
              "      <td>0.519427</td>\n",
              "      <td>-0.271276</td>\n",
              "      <td>0.580313</td>\n",
              "      <td>0.565545</td>\n",
              "    </tr>\n",
              "    <tr>\n",
              "      <th>1</th>\n",
              "      <td>0.387659</td>\n",
              "      <td>0.919532</td>\n",
              "      <td>0.024583</td>\n",
              "      <td>0.059802</td>\n",
              "    </tr>\n",
              "  </tbody>\n",
              "</table>\n",
              "</div>\n",
              "      <button class=\"colab-df-convert\" onclick=\"convertToInteractive('df-9bc37ab3-e264-4cfd-a462-422a20fe5545')\"\n",
              "              title=\"Convert this dataframe to an interactive table.\"\n",
              "              style=\"display:none;\">\n",
              "        \n",
              "  <svg xmlns=\"http://www.w3.org/2000/svg\" height=\"24px\"viewBox=\"0 0 24 24\"\n",
              "       width=\"24px\">\n",
              "    <path d=\"M0 0h24v24H0V0z\" fill=\"none\"/>\n",
              "    <path d=\"M18.56 5.44l.94 2.06.94-2.06 2.06-.94-2.06-.94-.94-2.06-.94 2.06-2.06.94zm-11 1L8.5 8.5l.94-2.06 2.06-.94-2.06-.94L8.5 2.5l-.94 2.06-2.06.94zm10 10l.94 2.06.94-2.06 2.06-.94-2.06-.94-.94-2.06-.94 2.06-2.06.94z\"/><path d=\"M17.41 7.96l-1.37-1.37c-.4-.4-.92-.59-1.43-.59-.52 0-1.04.2-1.43.59L10.3 9.45l-7.72 7.72c-.78.78-.78 2.05 0 2.83L4 21.41c.39.39.9.59 1.41.59.51 0 1.02-.2 1.41-.59l7.78-7.78 2.81-2.81c.8-.78.8-2.07 0-2.86zM5.41 20L4 18.59l7.72-7.72 1.47 1.35L5.41 20z\"/>\n",
              "  </svg>\n",
              "      </button>\n",
              "      \n",
              "  <style>\n",
              "    .colab-df-container {\n",
              "      display:flex;\n",
              "      flex-wrap:wrap;\n",
              "      gap: 12px;\n",
              "    }\n",
              "\n",
              "    .colab-df-convert {\n",
              "      background-color: #E8F0FE;\n",
              "      border: none;\n",
              "      border-radius: 50%;\n",
              "      cursor: pointer;\n",
              "      display: none;\n",
              "      fill: #1967D2;\n",
              "      height: 32px;\n",
              "      padding: 0 0 0 0;\n",
              "      width: 32px;\n",
              "    }\n",
              "\n",
              "    .colab-df-convert:hover {\n",
              "      background-color: #E2EBFA;\n",
              "      box-shadow: 0px 1px 2px rgba(60, 64, 67, 0.3), 0px 1px 3px 1px rgba(60, 64, 67, 0.15);\n",
              "      fill: #174EA6;\n",
              "    }\n",
              "\n",
              "    [theme=dark] .colab-df-convert {\n",
              "      background-color: #3B4455;\n",
              "      fill: #D2E3FC;\n",
              "    }\n",
              "\n",
              "    [theme=dark] .colab-df-convert:hover {\n",
              "      background-color: #434B5C;\n",
              "      box-shadow: 0px 1px 3px 1px rgba(0, 0, 0, 0.15);\n",
              "      filter: drop-shadow(0px 1px 2px rgba(0, 0, 0, 0.3));\n",
              "      fill: #FFFFFF;\n",
              "    }\n",
              "  </style>\n",
              "\n",
              "      <script>\n",
              "        const buttonEl =\n",
              "          document.querySelector('#df-9bc37ab3-e264-4cfd-a462-422a20fe5545 button.colab-df-convert');\n",
              "        buttonEl.style.display =\n",
              "          google.colab.kernel.accessAllowed ? 'block' : 'none';\n",
              "\n",
              "        async function convertToInteractive(key) {\n",
              "          const element = document.querySelector('#df-9bc37ab3-e264-4cfd-a462-422a20fe5545');\n",
              "          const dataTable =\n",
              "            await google.colab.kernel.invokeFunction('convertToInteractive',\n",
              "                                                     [key], {});\n",
              "          if (!dataTable) return;\n",
              "\n",
              "          const docLinkHtml = 'Like what you see? Visit the ' +\n",
              "            '<a target=\"_blank\" href=https://colab.research.google.com/notebooks/data_table.ipynb>data table notebook</a>'\n",
              "            + ' to learn more about interactive tables.';\n",
              "          element.innerHTML = '';\n",
              "          dataTable['output_type'] = 'display_data';\n",
              "          await google.colab.output.renderOutput(dataTable, element);\n",
              "          const docLink = document.createElement('div');\n",
              "          docLink.innerHTML = docLinkHtml;\n",
              "          element.appendChild(docLink);\n",
              "        }\n",
              "      </script>\n",
              "    </div>\n",
              "  </div>\n",
              "  "
            ]
          },
          "metadata": {},
          "execution_count": 38
        }
      ]
    },
    {
      "cell_type": "code",
      "source": [
        "#we can visualize this using heatmaps\n",
        "plt.figure(figsize=(12,5))\n",
        "sns.heatmap(components, cmap='coolwarm')\n",
        "\n",
        "#heatmaps are used to find the relationship between correlation of various features and the components\n"
      ],
      "metadata": {
        "colab": {
          "base_uri": "https://localhost:8080/",
          "height": 351
        },
        "id": "qcI8l9UJC8ZU",
        "outputId": "f3be934c-faa9-42b6-e2b6-f7cf49078cb7"
      },
      "execution_count": 37,
      "outputs": [
        {
          "output_type": "execute_result",
          "data": {
            "text/plain": [
              "<matplotlib.axes._subplots.AxesSubplot at 0x7ff90f5c9510>"
            ]
          },
          "metadata": {},
          "execution_count": 37
        },
        {
          "output_type": "display_data",
          "data": {
            "text/plain": [
              "<Figure size 864x360 with 2 Axes>"
            ],
            "image/png": "[encoded data removed]"
          },
          "metadata": {
            "needs_background": "light"
          }
        }
      ]
    },
    {
      "cell_type": "code",
      "source": [
        "#save the file as csv for later use \n",
        "PCA_csv=pd.DataFrame(PCA_transform, columns=['First Principal Component', 'Second Principal Component'])\n",
        "PCA_csv.to_csv('Two Principal Components.csv')"
      ],
      "metadata": {
        "id": "-sAxMzw4E62H"
      },
      "execution_count": 40,
      "outputs": []
    },
    {
      "cell_type": "code",
      "source": [
        ""
      ],
      "metadata": {
        "id": "ahhm7cqMHSSf"
      },
      "execution_count": null,
      "outputs": []
    }
  ]
}